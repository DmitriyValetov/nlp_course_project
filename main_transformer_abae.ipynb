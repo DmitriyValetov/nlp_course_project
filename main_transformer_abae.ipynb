{
  "nbformat": 4,
  "nbformat_minor": 0,
  "metadata": {
    "colab": {
      "name": "main_transformer_abae.ipynb",
      "provenance": [],
      "collapsed_sections": []
    },
    "kernelspec": {
      "name": "python3",
      "display_name": "Python 3"
    },
    "accelerator": "GPU"
  },
  "cells": [
    {
      "cell_type": "code",
      "metadata": {
        "id": "BB8HXRc_chEG",
        "colab_type": "code",
        "colab": {}
      },
      "source": [
        "config = {\n",
        "    'd_model': 200,\n",
        "    'aspects_num': 50,\n",
        "    'nhead': 4, # 8,\n",
        "    'num_encoder_layers': 3, # 6\n",
        "    'num_decoder_layers': 3, # 6\n",
        "    'dim_feedforward': 2048,\n",
        "    'pos_dropout': 0.2,\n",
        "    'trans_dropout': 0.2,\n",
        "    'batch_size': 64,\n",
        "}\n",
        "\n",
        "import os\n",
        "root = \"drive/My Drive/Colab Notebooks/huawei/project/generations/\"\n",
        "texts_path = os.path.join(root, \"stop_lem_norm_sents_ria.json.gz\")"
      ],
      "execution_count": 0,
      "outputs": []
    },
    {
      "cell_type": "code",
      "metadata": {
        "id": "WRpxX6rCdGVM",
        "colab_type": "code",
        "outputId": "3fb08b18-13ef-476c-84b9-634d040a7b7d",
        "colab": {
          "base_uri": "https://localhost:8080/",
          "height": 128
        }
      },
      "source": [
        "from google.colab import drive\n",
        "drive.mount('/content/drive')"
      ],
      "execution_count": 1,
      "outputs": [
        {
          "output_type": "stream",
          "text": [
            "Go to this URL in a browser: https://accounts.google.com/o/oauth2/auth?client_id=947318989803-6bn6qk8qdgf4n4g3pfee6491hc0brc4i.apps.googleusercontent.com&redirect_uri=urn%3aietf%3awg%3aoauth%3a2.0%3aoob&response_type=code&scope=email%20https%3a%2f%2fwww.googleapis.com%2fauth%2fdocs.test%20https%3a%2f%2fwww.googleapis.com%2fauth%2fdrive%20https%3a%2f%2fwww.googleapis.com%2fauth%2fdrive.photos.readonly%20https%3a%2f%2fwww.googleapis.com%2fauth%2fpeopleapi.readonly\n",
            "\n",
            "Enter your authorization code:\n",
            "··········\n",
            "Mounted at /content/drive\n"
          ],
          "name": "stdout"
        }
      ]
    },
    {
      "cell_type": "code",
      "metadata": {
        "id": "-KEJUKEFM8OR",
        "colab_type": "code",
        "outputId": "890bc540-619c-41ef-d616-71e7c5cd4611",
        "colab": {
          "base_uri": "https://localhost:8080/",
          "height": 310
        }
      },
      "source": [
        "!pip install pymorphy2\n",
        "!pip install einops"
      ],
      "execution_count": 3,
      "outputs": [
        {
          "output_type": "stream",
          "text": [
            "Collecting pymorphy2\n",
            "\u001b[?25l  Downloading https://files.pythonhosted.org/packages/a3/33/fff9675c68b5f6c63ec8c6e6ff57827dda28a1fa5b2c2d727dffff92dd47/pymorphy2-0.8-py2.py3-none-any.whl (46kB)\n",
            "\r\u001b[K     |███████                         | 10kB 23.9MB/s eta 0:00:01\r\u001b[K     |██████████████▏                 | 20kB 29.4MB/s eta 0:00:01\r\u001b[K     |█████████████████████▎          | 30kB 34.4MB/s eta 0:00:01\r\u001b[K     |████████████████████████████▍   | 40kB 28.4MB/s eta 0:00:01\r\u001b[K     |████████████████████████████████| 51kB 7.6MB/s \n",
            "\u001b[?25hRequirement already satisfied: docopt>=0.6 in /usr/local/lib/python3.6/dist-packages (from pymorphy2) (0.6.2)\n",
            "Collecting pymorphy2-dicts<3.0,>=2.4\n",
            "\u001b[?25l  Downloading https://files.pythonhosted.org/packages/02/51/2465fd4f72328ab50877b54777764d928da8cb15b74e2680fc1bd8cb3173/pymorphy2_dicts-2.4.393442.3710985-py2.py3-none-any.whl (7.1MB)\n",
            "\u001b[K     |████████████████████████████████| 7.1MB 22.3MB/s \n",
            "\u001b[?25hCollecting dawg-python>=0.7\n",
            "  Downloading https://files.pythonhosted.org/packages/6a/84/ff1ce2071d4c650ec85745766c0047ccc3b5036f1d03559fd46bb38b5eeb/DAWG_Python-0.7.2-py2.py3-none-any.whl\n",
            "Installing collected packages: pymorphy2-dicts, dawg-python, pymorphy2\n",
            "Successfully installed dawg-python-0.7.2 pymorphy2-0.8 pymorphy2-dicts-2.4.393442.3710985\n",
            "Collecting einops\n",
            "  Downloading https://files.pythonhosted.org/packages/89/32/5ded0a73d2e14ef5a6908a930c3e1e9f92ffead482a2f153182b7429066e/einops-0.2.0-py2.py3-none-any.whl\n",
            "Installing collected packages: einops\n",
            "Successfully installed einops-0.2.0\n"
          ],
          "name": "stdout"
        }
      ]
    },
    {
      "cell_type": "code",
      "metadata": {
        "id": "okcgOCw7M-tL",
        "colab_type": "code",
        "outputId": "f1580176-d4c3-4774-f78d-b49fbb406086",
        "colab": {
          "base_uri": "https://localhost:8080/",
          "height": 164
        }
      },
      "source": [
        "%matplotlib inline\n",
        "import seaborn as sns\n",
        "import matplotlib.pyplot as plt\n",
        "\n",
        "\n",
        "from __future__ import unicode_literals, print_function, division\n",
        "from io import open\n",
        "import unicodedata\n",
        "import string\n",
        "import re\n",
        "import random\n",
        "from collections import defaultdict\n",
        "import numpy as np\n",
        "from einops import rearrange\n",
        "\n",
        "import nltk\n",
        "from nltk.corpus import stopwords\n",
        "nltk.download('stopwords')\n",
        "nltk.download('punkt')\n",
        "\n",
        "from sklearn.datasets import fetch_20newsgroups\n",
        "\n",
        "from nltk import word_tokenize\n",
        "from nltk.tokenize import sent_tokenize, word_tokenize\n",
        "\n",
        "import pymorphy2\n",
        "import re\n",
        "\n",
        "\n",
        "import os\n",
        "import gzip\n",
        "import time\n",
        "import json\n",
        "import tqdm\n",
        "from bs4 import BeautifulSoup\n",
        "\n",
        "import torch\n",
        "import torch.nn as nn\n",
        "from torch.optim import Adam\n",
        "import torch.nn.functional as F\n",
        "\n",
        "device = torch.device(\"cuda\" if torch.cuda.is_available() else \"cpu\")\n",
        "print(f\"Using {device}\")\n",
        "\n",
        "\n",
        "def save_texts(texts, titles, filename):\n",
        "  dump_texts = os.path.join(root, filename)\n",
        "  with open(file=dump_texts, mode='w') as f:\n",
        "    json.dump({'texts': texts, 'titles': titles}, f)\n",
        "\n",
        "def load_texts(filename):\n",
        "  dump_texts = os.path.join(root, filename)\n",
        "  with open(file=dump_texts, mode='r') as f:\n",
        "    data = json.load(f)\n",
        "  return data['texts'], data['titles']"
      ],
      "execution_count": 4,
      "outputs": [
        {
          "output_type": "stream",
          "text": [
            "/usr/local/lib/python3.6/dist-packages/statsmodels/tools/_testing.py:19: FutureWarning: pandas.util.testing is deprecated. Use the functions in the public API at pandas.testing instead.\n",
            "  import pandas.util.testing as tm\n"
          ],
          "name": "stderr"
        },
        {
          "output_type": "stream",
          "text": [
            "[nltk_data] Downloading package stopwords to /root/nltk_data...\n",
            "[nltk_data]   Unzipping corpora/stopwords.zip.\n",
            "[nltk_data] Downloading package punkt to /root/nltk_data...\n",
            "[nltk_data]   Unzipping tokenizers/punkt.zip.\n",
            "Using cuda\n"
          ],
          "name": "stdout"
        }
      ]
    },
    {
      "cell_type": "markdown",
      "metadata": {
        "id": "3qnoS4q_NCbT",
        "colab_type": "text"
      },
      "source": [
        "# Preprocess ria news"
      ]
    },
    {
      "cell_type": "code",
      "metadata": {
        "id": "eHAyJk9sEAP1",
        "colab_type": "code",
        "outputId": "2f9d3fb3-abb4-47f4-80c0-cd270b1cb838",
        "colab": {
          "base_uri": "https://localhost:8080/",
          "height": 35
        }
      },
      "source": [
        "# new\n",
        "lines = []\n",
        "with gzip.open(texts_path, 'rb') as f:\n",
        "  for line in tqdm.tqdm(f):\n",
        "    lines.append(json.loads(line))"
      ],
      "execution_count": 0,
      "outputs": [
        {
          "output_type": "stream",
          "text": [
            "1003869it [00:44, 22672.49it/s]\n"
          ],
          "name": "stderr"
        }
      ]
    },
    {
      "cell_type": "code",
      "metadata": {
        "id": "w_5uoUEhEYeQ",
        "colab_type": "code",
        "outputId": "21e2e667-17ca-4788-f17a-5c23d4504705",
        "colab": {
          "base_uri": "https://localhost:8080/",
          "height": 53
        }
      },
      "source": [
        "print(len(lines))\n",
        "lines = list(filter(lambda x: len(x['title'])!=0 and len(x['title'][0])>0 and len(x['text'])>1 and len(x['text'][1])>0, lines))\n",
        "print(len(lines))"
      ],
      "execution_count": 0,
      "outputs": [
        {
          "output_type": "stream",
          "text": [
            "1003869\n",
            "994580\n"
          ],
          "name": "stdout"
        }
      ]
    },
    {
      "cell_type": "code",
      "metadata": {
        "id": "mvZrDSO-EZLO",
        "colab_type": "code",
        "outputId": "305b443f-0281-4e39-989b-952b9b75063c",
        "colab": {
          "base_uri": "https://localhost:8080/",
          "height": 513
        }
      },
      "source": [
        "lens = [len(l['text'][1]) for l in lines]\n",
        "sns.distplot(lens)\n",
        "plt.show()\n",
        "plt.close()\n",
        "\n",
        "lens = [len(l['title'][0]) for l in lines]\n",
        "sns.distplot(lens)\n",
        "plt.show()\n",
        "plt.close()"
      ],
      "execution_count": 0,
      "outputs": [
        {
          "output_type": "display_data",
          "data": {
            "image/png": "[encoded data removed]",
            "text/plain": [
              "<Figure size 432x288 with 1 Axes>"
            ]
          },
          "metadata": {
            "tags": [],
            "needs_background": "light"
          }
        },
        {
          "output_type": "display_data",
          "data": {
            "image/png": "[encoded data removed]",
            "text/plain": [
              "<Figure size 432x288 with 1 Axes>"
            ]
          },
          "metadata": {
            "tags": [],
            "needs_background": "light"
          }
        }
      ]
    },
    {
      "cell_type": "code",
      "metadata": {
        "id": "V5vaOk64EaAA",
        "colab_type": "code",
        "outputId": "4634017e-4f1c-47b7-bab4-c1c3381b54f3",
        "colab": {
          "base_uri": "https://localhost:8080/",
          "height": 53
        }
      },
      "source": [
        "print(len(lines))\n",
        "lines = list(filter(lambda x: len(x['text'])!=0 and len(x['title'][0])<70 and len(x['title'][0])>30 and len(x['text'])>1 and len(x['text'][1])>5 and len(x['text'][1])<400, lines))\n",
        "print(len(lines))"
      ],
      "execution_count": 0,
      "outputs": [
        {
          "output_type": "stream",
          "text": [
            "994580\n",
            "942825\n"
          ],
          "name": "stdout"
        }
      ]
    },
    {
      "cell_type": "code",
      "metadata": {
        "id": "_iM6ZD-gEcPv",
        "colab_type": "code",
        "outputId": "28c0b21e-8497-4f9f-bfcf-ecf4fa5c3969",
        "colab": {
          "base_uri": "https://localhost:8080/",
          "height": 513
        }
      },
      "source": [
        "lens = [len(l['text'][1]) for l in lines]\n",
        "sns.distplot(lens)\n",
        "plt.show()\n",
        "plt.close()\n",
        "\n",
        "lens = [len(l['title'][0]) for l in lines]\n",
        "sns.distplot(lens)\n",
        "plt.show()\n",
        "plt.close()"
      ],
      "execution_count": 0,
      "outputs": [
        {
          "output_type": "display_data",
          "data": {
            "image/png": "[encoded data removed]",
            "text/plain": [
              "<Figure size 432x288 with 1 Axes>"
            ]
          },
          "metadata": {
            "tags": [],
            "needs_background": "light"
          }
        },
        {
          "output_type": "display_data",
          "data": {
            "image/png": "[encoded data removed]",
            "text/plain": [
              "<Figure size 432x288 with 1 Axes>"
            ]
          },
          "metadata": {
            "tags": [],
            "needs_background": "light"
          }
        }
      ]
    },
    {
      "cell_type": "code",
      "metadata": {
        "id": "j6txwOW8EdiF",
        "colab_type": "code",
        "outputId": "0c4bf41e-4eb4-4217-8ea2-56f98dd301e7",
        "colab": {
          "base_uri": "https://localhost:8080/",
          "height": 53
        }
      },
      "source": [
        "print(len(lines))\n",
        "lines = lines[:100000]\n",
        "print(len(lines))"
      ],
      "execution_count": 0,
      "outputs": [
        {
          "output_type": "stream",
          "text": [
            "942825\n",
            "100000\n"
          ],
          "name": "stdout"
        }
      ]
    },
    {
      "cell_type": "code",
      "metadata": {
        "id": "co_qy_rlEgLN",
        "colab_type": "code",
        "outputId": "318c390c-4d62-4889-bab0-f429ff7e02d1",
        "colab": {
          "base_uri": "https://localhost:8080/",
          "height": 513
        }
      },
      "source": [
        "lens = [len(l['text'][1]) for l in lines]\n",
        "sns.distplot(lens)\n",
        "plt.show()\n",
        "plt.close()\n",
        "\n",
        "lens = [len(l['title'][0]) for l in lines]\n",
        "sns.distplot(lens)\n",
        "plt.show()\n",
        "plt.close()"
      ],
      "execution_count": 0,
      "outputs": [
        {
          "output_type": "display_data",
          "data": {
            "image/png": "[encoded data removed]",
            "text/plain": [
              "<Figure size 432x288 with 1 Axes>"
            ]
          },
          "metadata": {
            "tags": [],
            "needs_background": "light"
          }
        },
        {
          "output_type": "display_data",
          "data": {
            "image/png": "[encoded data removed]",
            "text/plain": [
              "<Figure size 432x288 with 1 Axes>"
            ]
          },
          "metadata": {
            "tags": [],
            "needs_background": "light"
          }
        }
      ]
    },
    {
      "cell_type": "code",
      "metadata": {
        "id": "CrVZU4kvNF9x",
        "colab_type": "code",
        "outputId": "1d1a1175-6eb6-48c1-9f49-b2d8ce5e5d9e",
        "colab": {
          "base_uri": "https://localhost:8080/",
          "height": 35
        }
      },
      "source": [
        "morph = pymorphy2.MorphAnalyzer()\n",
        "pattern = re.compile(\"^[а-яА-Я]+$\")\n",
        "\n",
        "texts = []\n",
        "titles = []\n",
        "\n",
        "def process_sentence(sentence):\n",
        "    words = [w for w in nltk.word_tokenize(sentence) if w not in stopwords.words(\"russian\") and pattern.match(w)]\n",
        "    words = [morph.parse(word)[0].normal_form.lower() for word in words]\n",
        "    return words\n",
        "\n",
        "for line_i in tqdm.tqdm(range(len(lines))):\n",
        "    text  = lines[line_i]['text'][1] # [0] - is a paper name and date\n",
        "    title = lines[line_i]['title'][0]\n",
        "    processed_text = process_sentence(text)\n",
        "    processed_title = process_sentence(title)\n",
        "    texts.append(processed_text)\n",
        "    titles.append(processed_title)"
      ],
      "execution_count": 0,
      "outputs": [
        {
          "output_type": "stream",
          "text": [
            "100%|██████████| 100000/100000 [11:08<00:00, 149.48it/s]\n"
          ],
          "name": "stderr"
        }
      ]
    },
    {
      "cell_type": "code",
      "metadata": {
        "id": "9St9F6kvHq4A",
        "colab_type": "code",
        "colab": {}
      },
      "source": [
        "save_texts(texts, titles, \"ria_text_titles.json\")"
      ],
      "execution_count": 0,
      "outputs": []
    },
    {
      "cell_type": "markdown",
      "metadata": {
        "id": "pmpGQn5VNL_p",
        "colab_type": "text"
      },
      "source": [
        "# Load data"
      ]
    },
    {
      "cell_type": "code",
      "metadata": {
        "id": "B-uC9447NOjo",
        "colab_type": "code",
        "outputId": "c0c81d6c-2883-4e2e-cd4a-6bbec720c8c7",
        "colab": {
          "base_uri": "https://localhost:8080/",
          "height": 430
        }
      },
      "source": [
        "texts, titles = load_texts(\"ria_text_titles.json\") #\n",
        "# texts, titles = texts[:30000], titles[:30000]\n",
        "print(max([len(t) for t in texts]))\n",
        "\n",
        "\n",
        "\n",
        "SOS_token = 0 # start of string.\n",
        "EOS_token = 1 # end of string.\n",
        "PAD_token = 2\n",
        "UNK_token = 3\n",
        "\n",
        "class Lang: # like a vocabulary\n",
        "    def __init__(self, name):\n",
        "        self.name = name\n",
        "        self.word2index = {\"SOS\": SOS_token, \"EOS\": EOS_token, \"PAD\": PAD_token, 'UNK': UNK_token}\n",
        "        self.word2count = {}\n",
        "        self.index2word = {SOS_token: \"SOS\", EOS_token: \"EOS\", PAD_token: \"PAD\", UNK_token: \"UNK\"}\n",
        "        self.n_words = len(self.word2index)\n",
        "        self.max_seq_length = None\n",
        "\n",
        "    def addSentence(self, sentence):\n",
        "        if self.max_seq_length is None:\n",
        "          self.max_seq_length = len(sentence)\n",
        "        elif self.max_seq_length < len(sentence):\n",
        "          self.max_seq_length = len(sentence)\n",
        "        for word in sentence:\n",
        "            self.addWord(word)\n",
        "\n",
        "    def addWord(self, word):\n",
        "        if word not in self.word2index:\n",
        "            self.word2index[word] = self.n_words\n",
        "            self.word2count[word] = 1\n",
        "            self.index2word[self.n_words] = word\n",
        "            self.n_words += 1\n",
        "        else:\n",
        "            self.word2count[word] += 1\n",
        "\n",
        "    def tensor2text(self, tensor):\n",
        "        return [self.index2word[token.item()] for token in tensor]\n",
        "        \n",
        "    def ids2text(self, numbers):\n",
        "      return [self.index2word[num] for num in numbers]\n",
        "\n",
        "    def text2ids(self, tokens):\n",
        "        return [self.word2index[token] if token in self.word2index else self.word2index['UNK'] for token in tokens]\n",
        "            \n",
        "def unicodeToAscii(s):\n",
        "    return ''.join(\n",
        "        c for c in unicodedata.normalize('NFD', s)\n",
        "        if unicodedata.category(c) != 'Mn'\n",
        "    )\n",
        "\n",
        "\n",
        "def normalizeString(s):\n",
        "    s = unicodeToAscii(s.lower().strip())\n",
        "    s = re.sub(r\"([.!?])\", r\" \\1\", s)\n",
        "    s = re.sub(r\"[^a-zA-Z.!?]+\", r\" \", s)\n",
        "    return s\n",
        "\n",
        "\n",
        "\n",
        "def prepareData(texts, titles):\n",
        "    pairs = [[txt, ttl] for txt, ttl in zip(texts, titles) if len(txt)>0 and len(ttl)>0 ]\n",
        "    lang = Lang('ru')\n",
        "\n",
        "    print(\"Read %s sentence pairs\" % len(pairs))\n",
        "    for pair in pairs:\n",
        "        lang.addSentence(pair[0])\n",
        "        lang.addSentence(pair[1])\n",
        "    print(\"Counted words:\")\n",
        "    print(lang.name, lang.n_words)\n",
        "    return lang, pairs\n",
        "\n",
        "def indexesFromSentence(lang, sentence):\n",
        "    return [lang.word2index[word] for word in sentence]\n",
        "\n",
        "\n",
        "def tensorFromSentence(lang, sentence):\n",
        "    indexes = indexesFromSentence(lang, sentence)\n",
        "    indexes.append(EOS_token)\n",
        "    return torch.tensor(indexes, dtype=torch.long, device=device)\n",
        "\n",
        "\n",
        "def tensorsFromPair(pair):\n",
        "    input_tensor = tensorFromSentence(lang, pair[0])\n",
        "    target_tensor_t = tensorFromSentence(lang, pair[1][:-1])\n",
        "    target_tensor_l = tensorFromSentence(lang, pair[1])\n",
        "    return (input_tensor, target_tensor_t, target_tensor_l)\n",
        "\n",
        "\n",
        "lang, pairs = prepareData(texts, titles)\n",
        "print(random.choice(pairs))\n",
        "\n",
        "lens = [len(t) for t in texts]\n",
        "sns.distplot(lens)\n",
        "\n",
        "i = 100\n",
        "print(texts[i])\n",
        "print(titles[i])\n",
        "print(lang.max_seq_length)"
      ],
      "execution_count": 5,
      "outputs": [
        {
          "output_type": "stream",
          "text": [
            "51\n",
            "Read 99937 sentence pairs\n",
            "Counted words:\n",
            "ru 54937\n",
            "[['стоимость', 'нефть', 'вторник', 'незначительно', 'повыситься', 'фон', 'ожидание', 'инвестор', 'снижение', 'запас', 'нефть', 'сша', 'пройти', 'неделя', 'сообщать'], ['нефть', 'дорожать', 'ожидание', 'снижение', 'запас', 'сша']]\n",
            "['часовня', 'память', 'пожилое', 'постоялец', 'сгореть', 'ровно', 'год', 'назад', 'дом', 'ветеран', 'сель', 'подъельск', 'корткеросский', 'район', 'республика', 'коми', 'установить', 'место', 'пепелище', 'год', 'заявить', 'риа', 'новость', 'воскресение', 'глава', 'администрация', 'муниципалитет', 'николай', 'доломина']\n",
            "['часовня', 'память', 'жертва', 'пожар', 'подъельск', 'установить']\n",
            "51\n"
          ],
          "name": "stdout"
        },
        {
          "output_type": "display_data",
          "data": {
            "image/png": "[encoded data removed]",
            "text/plain": [
              "<Figure size 432x288 with 1 Axes>"
            ]
          },
          "metadata": {
            "tags": [],
            "needs_background": "light"
          }
        }
      ]
    },
    {
      "cell_type": "markdown",
      "metadata": {
        "id": "R0FOQBL0NU0Z",
        "colab_type": "text"
      },
      "source": [
        "# Datasets"
      ]
    },
    {
      "cell_type": "code",
      "metadata": {
        "id": "Br5sXOantT0z",
        "colab_type": "code",
        "colab": {}
      },
      "source": [
        "from torch.utils.data.dataset import Dataset\n",
        "from torch.utils.data import DataLoader\n",
        "\n",
        "\n",
        "class HeadlinesDataset(Dataset):\n",
        "    def __init__(self, pairs, lang, batch_size):\n",
        "        self.pairs = pairs\n",
        "        self.lang = lang\n",
        "        self.batch_size = batch_size\n",
        "        self.batch_num = len(self.pairs)//batch_size\n",
        "        \n",
        "    def __getitem__(self, index): # todo: make number of pads depend on current batch max text, title length\n",
        "        srcs = []\n",
        "        srcs_lns = []\n",
        "        tgts = []\n",
        "        tgts_lns = []\n",
        "        for i in range(self.batch_size):\n",
        "          src, tgt = self.pairs[index*self.batch_size+i]\n",
        "          srcs.append(src)\n",
        "          srcs_lns.append(len(src))\n",
        "          tgts.append(tgt)\n",
        "          tgts_lns.append(len(tgt))\n",
        "\n",
        "        max_src_ln = max(srcs_lns)          \n",
        "        max_tgt_ln = max(tgts_lns)    \n",
        "\n",
        "        converted_srcs = []    \n",
        "        converted_tgts = []    \n",
        "        srcs_padding_masks = []\n",
        "        tgts_padding_masks = []\n",
        "\n",
        "        for i in range(len(srcs)):\n",
        "          converted_srcs.append(self.lang.text2ids(srcs[i]) + [self.lang.word2index['PAD']]*(max_src_ln-len(srcs[i]))) \n",
        "          srcs_padding_masks.append([False] + [False]*len(srcs[i]) + [True]*(max_src_ln-len(srcs[i]))) # first for intent\n",
        "\n",
        "          converted_tgts.append(\n",
        "              [self.lang.word2index['SOS']] + \n",
        "                self.lang.text2ids(tgts[i]) + \n",
        "              [self.lang.word2index['EOS']] + \n",
        "              [self.lang.word2index['PAD']]*(max_tgt_ln-len(tgts[i]))\n",
        "              ) \n",
        "          tgts_padding_masks.append([False]*(len(tgts[i])+2) + [True]*(max_tgt_ln-len(tgts[i])))\n",
        "\n",
        "        return (srcs_lns, np.array(converted_srcs), np.array(converted_tgts), np.array(srcs_padding_masks), np.array(tgts_padding_masks))\n",
        "\n",
        "    def __len__(self):\n",
        "        return self.batch_num\n",
        "\n",
        "\n",
        "# train_dataset = HeadlinesDataset(pairs[1024:], lang, batch_size=config['batch_size'])\n",
        "# test_dataset  = HeadlinesDataset(pairs[:1024], lang, batch_size=config['batch_size'])\n",
        "\n",
        "# train_loader = DataLoader(train_dataset, batch_size=1, shuffle=True, num_workers=4, pin_memory=True)\n",
        "# test_loader = DataLoader(test_dataset, batch_size=1, shuffle=True, num_workers=4, pin_memory=True)\n",
        "\n",
        "# src, tgt, src_key_padding_mask, tgt_key_padding_mask =  next(iter(train_loader))\n",
        "# src, tgt, src_key_padding_mask, tgt_key_padding_mask =  next(iter(test_loader))\n",
        "# print(src)\n",
        "# print(tgt)\n",
        "# print(src_key_padding_mask)\n",
        "# print(tgt_key_padding_mask)"
      ],
      "execution_count": 0,
      "outputs": []
    },
    {
      "cell_type": "code",
      "metadata": {
        "id": "Lba3Xjzde5tp",
        "colab_type": "code",
        "colab": {}
      },
      "source": [
        "class ABAEDataset(Dataset):\n",
        "    def __init__(self, pairs, lang, m):\n",
        "        self.m = m\n",
        "        self.lang = lang\n",
        "        self.pairs = pairs # [p[0] for p in pairs] + [p[1] for p in pairs]\n",
        "        assert(self.m+1<len(self.pairs))\n",
        "\n",
        "    def __len__(self):\n",
        "        return len(self.pairs)\n",
        "\n",
        "    def __getitem__(self, idx):\n",
        "        ps = self.pairs[idx][0]\n",
        "        ns_i = random.sample(range(len(self)), self.m)\n",
        "        ns = [self.pairs[i][0] for i in ns_i]\n",
        "        ps = self.lang.text2ids(ps)\n",
        "        ns = [self.lang.text2ids(s) for s in ns]\n",
        "        return ps, ns\n",
        "\n",
        "\n",
        "def collate_fn(batch):\n",
        "    ps_list = [b[0] for b in batch]\n",
        "    ns_lists = [b[1] for b in batch]\n",
        "    return ps_list, ns_lists\n",
        "\n",
        "\n",
        "# ds = ABAEDataset(pairs, lang, 20)\n",
        "# dataloader = DataLoader(ds, batch_size=3, collate_fn=collate_fn)\n",
        "# btch = next(iter(dataloader))\n",
        "# print(len(btch[0]))\n",
        "# print(len(btch[1]))"
      ],
      "execution_count": 0,
      "outputs": []
    },
    {
      "cell_type": "markdown",
      "metadata": {
        "id": "HTf3m8gdNcJr",
        "colab_type": "text"
      },
      "source": [
        "# Prepear word embeddings"
      ]
    },
    {
      "cell_type": "code",
      "metadata": {
        "id": "umLFEfBM3Kkh",
        "colab_type": "code",
        "colab": {}
      },
      "source": [
        "config = {\n",
        "    'd_model': 512,\n",
        "    'aspects_num': 100,\n",
        "    'abae_regilarize': 0.000001,\n",
        "    'batch_size': 64,\n",
        "    'abae_negative_m': 20,\n",
        "    'nhead': 4, # 8,\n",
        "    'num_encoder_layers': 3, # 6\n",
        "    'num_decoder_layers': 3, # 6\n",
        "    'dim_feedforward': 2048,\n",
        "    'pos_dropout': 0.2,\n",
        "    'trans_dropout': 0.2,\n",
        "    'n_warmup_steps': 4000,\n",
        "}"
      ],
      "execution_count": 0,
      "outputs": []
    },
    {
      "cell_type": "code",
      "metadata": {
        "id": "Wty7UgXlNIXZ",
        "colab_type": "code",
        "outputId": "06b3214e-079e-4c36-b464-b95375abda18",
        "colab": {
          "base_uri": "https://localhost:8080/",
          "height": 128
        }
      },
      "source": [
        "from random import shuffle\n",
        "\n",
        "union = []\n",
        "for pair in tqdm.tqdm(pairs):\n",
        "  union.append(['SOS']+pair[0]+['EOS']+['PAD']+['UNK'])\n",
        "  # union.append(['SOS']+pair[1]+['EOS']+['PAD']+['UNK'])\n",
        "\n",
        "shuffle(union)\n",
        "\n",
        "\n",
        "from gensim.models.word2vec import Word2Vec\n",
        "from multiprocessing import cpu_count\n",
        "\n",
        "model = Word2Vec(union, \n",
        "                 min_count = 0, \n",
        "                 workers=cpu_count(),\n",
        "                 size=config['d_model'],\n",
        "                 window=10,\n",
        "                 negative=5,\n",
        "                #  iter=100\n",
        "                )\n",
        "\n",
        "\n",
        "init_voc = set(lang.word2index.keys())\n",
        "wv_voc = set(model.wv.vocab.keys())\n",
        "print(len(wv_voc), len(init_voc))\n",
        "print(wv_voc - init_voc)\n",
        "print(init_voc - wv_voc)\n",
        "# assert(len(init_voc)==len(wv_voc))\n",
        "\n",
        "\n",
        "word_init_vectors = {}\n",
        "for w in model.wv.vocab:\n",
        "    word_init_vectors[w] = model[w].tolist()"
      ],
      "execution_count": 48,
      "outputs": [
        {
          "output_type": "stream",
          "text": [
            "100%|██████████| 99937/99937 [00:00<00:00, 574142.02it/s]\n"
          ],
          "name": "stderr"
        },
        {
          "output_type": "stream",
          "text": [
            "51383 54937\n",
            "set()\n",
            "{'санконтроль', 'севастийский', 'выдох', 'профдеятельность', 'черешня', 'жезуса', 'жилкредит', 'пощекотать', 'аукционист', 'эндшпиль', 'авиастроитель', 'допсредство', 'подружиться', 'ладоши', 'точить', 'турсотрудничество', 'ненаказуемый', 'шкат', 'фаип', 'младшеклассник', 'джакартский', 'тонко', 'искаженно', 'вдребезги', 'атаманша', 'трековик', 'фаера', 'безболезненно', 'детоубийство', 'премирование', 'криобанк', 'поделка', 'приданое', 'рг', 'харизма', 'кибермошенник', 'зазвучать', 'боливийка', 'кораблик', 'планида', 'нумизматика', 'инвентаризировать', 'расследовний', 'рбс', 'утешение', 'ревальвировать', 'байка', 'подчинить', 'стыковаться', 'висковарение', 'народицкий', 'профобучение', 'каранджич', 'количественно', 'спецкабель', 'бепризорность', 'перевыборы', 'незащищенность', 'вагонть', 'челый', 'римн', 'оргпроблема', 'внушение', 'скуадра', 'северномый', 'беззубый', 'унывать', 'венгров', 'засверкать', 'храбриться', 'перекладываться', 'керра', 'турзаконодательство', 'порулить', 'отбиваться', 'неуспевающий', 'сорокко', 'пьянка', 'узурпатор', 'голан', 'трансвааль', 'беспардонно', 'плескаться', 'одевать', 'суборда', 'дронов', 'сглаз', 'притягательный', 'довезти', 'вентшахта', 'балеар', 'экономный', 'вышенский', 'немыслимый', 'пленение', 'восторженно', 'отдуваться', 'увянуть', 'суперрозетка', 'обюрокрачивание', 'младенчество', 'насторожить', 'приобщаться', 'разговорить', 'распыляться', 'индастриал', 'лузановский', 'противиться', 'достучаться', 'перекрасить', 'беспечность', 'эквилибрист', 'регресс', 'варение', 'отмахиваться', 'информотдел', 'трудостройство', 'шамординский', 'прикрыться', 'погрансотрудничество', 'письменно', 'размежеваться', 'совершениия', 'воздавать', 'оспоривать', 'вписывать', 'маяковка', 'двулапать', 'паттая', 'жизненноважный', 'пейнтболистый', 'аскетичный', 'мочить', 'аквафреска', 'михалковский', 'абсурдно', 'стройпроект', 'марсианин', 'старонидерландский', 'куличик', 'химкомпонент', 'таможсоюз', 'кипарисовый', 'умысел', 'взаимно', 'послезавтра', 'несклеиваться', 'чиновата', 'башлачев', 'почтобанк', 'газифицировать', 'бесперебойность', 'бандеровский', 'финакадемия', 'вложиться', 'заранджа', 'буданов', 'ващука', 'ниагарский', 'медреформа', 'адепт', 'фотохроника', 'двуногий', 'кровососущий', 'умовение', 'металлик', 'сычуана', 'псевдосвадьба', 'тигринный', 'митьков', 'краковия', 'неканонизированный', 'эскиндар', 'экомиссия', 'медконтроль', 'гаккель', 'сытый', 'одеть', 'рыбоохрана', 'примирительный', 'освежать', 'наполеоновский', 'дримлайнер', 'первоклассница', 'норхуг', 'скобка', 'уикендова', 'генкосул', 'юои', 'шезлонг', 'зампремьер', 'прокачать', 'ватный', 'деукраинизация', 'лужковский', 'лужайка', 'преступно', 'перевоспитатель', 'бессловесный', 'наноткань', 'тройняшка', 'антиохийский', 'акциона', 'четырехцветный', 'работорговля', 'музтеатр', 'этикет', 'крылечко', 'изьёнок', 'нервировать', 'прииртыший', 'гафт', 'шолбана', 'чайник', 'паша', 'оскаризация', 'открыватель', 'юриспруденция', 'смута', 'шайхлислам', 'обескровить', 'карачаганакский', 'разогреться', 'наказуемый', 'котик', 'дейтонскома', 'проситься', 'нацстратегия', 'ижк', 'потдвердить', 'десантировалить', 'обнести', 'интернатура', 'порицать', 'микультура', 'анод', 'тернопольщина', 'рость', 'брежнев', 'прогрессия', 'отмашка', 'клон', 'ножка', 'противоположность', 'зацикленный', 'нацгвардия', 'лежень', 'прямолинейный', 'трушин', 'иммигрантский', 'сельхозземеля', 'спортфедерация', 'дипкризис', 'избушка', 'наркодиспансер', 'леворадикал', 'второклассник', 'нефтехимзавод', 'вселеннный', 'необеспечение', 'рвс', 'углепромышленник', 'кусаться', 'божин', 'спеццентр', 'фристайлер', 'регпарламент', 'обналичка', 'наколотить', 'телеправо', 'фармзавод', 'егорлык', 'норис', 'экперт', 'пирвели', 'инноватор', 'циник', 'рохуса', 'химсклад', 'загадать', 'млм', 'дискусие', 'алкотестер', 'вк', 'нерль', 'вспениться', 'этнотуристический', 'гудеть', 'шлёп', 'конфенция', 'паланга', 'эстет', 'псковитянка', 'азиат', 'дуйма', 'опись', 'чемберлен', 'ронять', 'изящество', 'поработить', 'щи', 'сборище', 'мыться', 'манять', 'рекомендательный', 'экономпреступление', 'вальсировать', 'шахтенный', 'древнеэскимосский', 'рекрутирование', 'стройсектор', 'кеосаяна', 'северодвинец', 'пельша', 'сэ', 'ишакуловый', 'необдуманный', 'итк', 'самоубийца', 'финконсультант', 'ботаник', 'отмачивать', 'утянуть', 'пробежаться', 'триеннале', 'госдокумент', 'джомолунгма', 'подвернуть', 'идиллия', 'риелтеры', 'несравнимый', 'диоксиновый', 'разогнаться', 'сатирикона', 'тайбэйский', 'золотодобытчик', 'пастырь', 'рэп', 'евроскептик', 'птеродактиль', 'вылепить', 'разрушитель', 'фотографировать', 'глэйзеры', 'фоменка', 'тайниковый', 'хулюд', 'шампиньон', 'подлечить', 'мышеловка', 'морпех', 'зсд', 'понуждать', 'спецзаявление', 'потрадать', 'вылупиться', 'бгэс', 'токтайый', 'загробный', 'авиапроблема', 'громадьяа', 'соцпартия', 'экомониторинг', 'состоться', 'энхаэловец', 'кладбищенский', 'заезжий', 'бойдом', 'регенеративный', 'охранкультура', 'нацбола', 'костюмерный', 'экопост', 'забывчивость', 'чиликать', 'коннерь', 'мособлбанк', 'агрокомбинат', 'тихоокеанец', 'ахтуба', 'теплота', 'наноэлеткросхема', 'эпилог', 'якутянка', 'согреть', 'всехвальный', 'соцсеть', 'управдом', 'нелогично', 'удобоваримый', 'скупость', 'госказна', 'росалкоголь', 'кавказец', 'приобщать', 'шоппинг', 'аэрограф', 'сметь', 'пакистанка', 'покос', 'родченков', 'техинспекция', 'углепластик', 'офсайд', 'нагишом', 'гордо', 'душечка', 'нападениия', 'перевоплощение', 'вельск', 'взаимодейстовать', 'алкоподполье', 'хорал', 'звенигородка', 'допрасход', 'севальос', 'ельцинский', 'инвестпортфель', 'оживлять', 'лжестраховщик', 'ижма', 'размораживать', 'пелиндабский', 'хаарль', 'ашхараматрана', 'госавиация', 'госфлаг', 'неполиткорректно', 'ленивый', 'джеус', 'правовед', 'компот', 'ввязываться', 'электросила', 'стройвыставка', 'суббоы', 'влечение', 'сарафанный', 'добежать', 'оргмодель', 'прохладно', 'потребкредить', 'сиани', 'суддепартамент', 'подстрочник', 'изготовитель', 'блицкриг', 'евролифтинг', 'мачете', 'буйство', 'безумство', 'автоналог', 'мастерить', 'малазиец', 'возвращиться', 'сейсмически', 'процентщица', 'кавсадзе', 'ликовать', 'норильчанин', 'бодрящий', 'разругаться', 'феттеля', 'блогосервис', 'гнать', 'нахальный', 'знахарь', 'лучко', 'турнаправление', 'заносить', 'бараний', 'гондурасец', 'агитплакат', 'стыдиться', 'погореть', 'турагент', 'кивер', 'суитинг', 'пломбир', 'припарковаться', 'новобрачный', 'рыбвуз', 'гидрокостюм', 'электрозаправка', 'волгоградец', 'прослеживаться', 'гнить', 'чумовой', 'хаб', 'пропись', 'авиаклуб', 'партком', 'медимагнат', 'убраться', 'выхлоп', 'суперактивный', 'мракобесный', 'расплывчатость', 'пцрд', 'сноси', 'неконструктивность', 'инвестторг', 'узница', 'телематик', 'адриатик', 'помечать', 'закодировать', 'частушка', 'техзадание', 'распинать', 'абделкадер', 'фана', 'поощряться', 'военчастить', 'судозавод', 'амельчак', 'химотход', 'омолаживать', 'струдник', 'приучать', 'лютомский', 'пейджер', 'сверяться', 'лавинь', 'ветслужба', 'ветсертификат', 'бранджелина', 'замалчиваться', 'агропроект', 'губить', 'облагораживать', 'плодотворно', 'представитва', 'отзвать', 'пыльный', 'жилстроительство', 'впечатленный', 'пайеткать', 'пострят', 'ои', 'пусковыя', 'урбанизация', 'порносайт', 'финобеспечение', 'порностудия', 'уиндхема', 'сулак', 'дырка', 'струг', 'прикрутить', 'палецкий', 'жилкомплекс', 'какаду', 'матпомощь', 'химреактив', 'хуамин', 'тележурналистика', 'отбиться', 'судостроительство', 'неподписанный', 'хозпостройка', 'карлсено', 'энергосотрудничество', 'вожак', 'склиф', 'вассерман', 'штрафбат', 'газопроовод', 'изворотливость', 'грибоедовский', 'утроиться', 'автомастерская', 'сглазить', 'начштаб', 'минздравоцразвитие', 'морковный', 'эксимбанк', 'метнуть', 'видеопиратство', 'литмузей', 'урюпинец', 'туринфраструктура', 'полсутки', 'анекдот', 'госинститут', 'оборонсистема', 'минувшю', 'ичуня', 'заморить', 'даймлера', 'затравить', 'ремейкова', 'промаоист', 'сироп', 'полтысяча', 'возобнолять', 'шампур', 'лжемонастырь', 'олимпобъект', 'пику', 'отступиться', 'непечатный', 'вериться', 'селектор', 'россиить', 'думбие', 'трепет', 'протянуть', 'биодобавка', 'самостроев', 'казачка', 'обрекать', 'советоваться', 'омыть', 'совфедя', 'пассия', 'изнурительный', 'супермикроб', 'отчитка', 'канары', 'полуторакилометровый', 'исаковский', 'двухтонный', 'телерейтинг', 'шишка', 'авионика', 'лидир', 'трололомэн', 'бутафория', 'перезагрузиться', 'пробирка', 'виновато', 'груша', 'дооснащать', 'конструировать', 'разрыдаться', 'кодировать', 'допсоглашение', 'стометровка', 'госсоветник', 'морс', 'веселеть', 'перепроверить', 'хвалиться', 'ревнивец', 'колода', 'спецучреждение', 'авиаполк', 'маргулис', 'белгранкорм', 'смельчак', 'техуниверситет', 'автопогрузчик', 'самарканд', 'ютиться', 'денбаза', 'разобобраться', 'киноперсонаж', 'зависать', 'чечевица', 'ковыктой', 'призойти', 'фотосессия', 'мазерать', 'живить', 'лояльный', 'погранкорабль', 'подтаивать', 'пайка', 'обознаться', 'гуманизировать', 'гостаможня', 'стрелецкий', 'мавританский', 'чтз', 'прицеливание', 'перебираться', 'миллионщик', 'бендтнера', 'фотопутешествие', 'ирене', 'перелетать', 'зампредставитель', 'алиментщик', 'забелинский', 'ходуля', 'окрылять', 'хватка', 'рафсанджани', 'проделывать', 'трехдверный', 'переустановить', 'награбить', 'седльский', 'больно', 'туркластер', 'забвение', 'бином', 'эхпо', 'хлам', 'бушерсковать', 'семеноводческий', 'премировать', 'таранить', 'инвестпроцесс', 'турсфера', 'цхинвала', 'пересдавать', 'наноструктура', 'футзальный', 'допвзнос', 'бакива', 'бургера', 'шукиса', 'холуйство', 'внештатник', 'выдра', 'турэксперт', 'нард', 'засыхание', 'пиф', 'рубцовка', 'гарвард', 'ретротрамвай', 'госсофинансирование', 'докапитализировать', 'олениха', 'хрущевский', 'недобрать', 'махнуть', 'разогреваться', 'ноздря', 'боксировать', 'минтранссвязь', 'севкавказ', 'окупаться', 'отлучить', 'металопрокат', 'барьерист', 'аймани', 'никас', 'кушх', 'вбрасывать', 'запоминание', 'наркополицейкий', 'баграмский', 'фавор', 'профактивист', 'вбивать', 'трястись', 'экозона', 'калейдоскоп', 'дракула', 'вздрогнуть', 'стоунхендж', 'выдыхать', 'балласт', 'оскандалиться', 'безмолствовать', 'речниковца', 'электрощит', 'лигрица', 'прохудиться', 'сгусток', 'кроншнеп', 'оледенеть', 'техдефолт', 'бальзамировать', 'рваться', 'олимпицйев', 'метростроение', 'экономзона', 'восьмивек', 'обидчица', 'телебедата', 'жим', 'засечь', 'гмпр', 'погранобъект', 'рассторгнуть', 'нечистоплотный', 'высаживать', 'недоплатить', 'пронацистский', 'докрашивать', 'коала', 'брюхо', 'подосиновый', 'хлопать', 'фарт', 'ветцентр', 'отравитель', 'приставить', 'назир', 'мазай', 'автодвижение', 'хоркина', 'миролюбивый', 'кукумберг', 'микросекунда', 'хозобъект', 'мереть', 'спецграфик', 'кивот', 'туруханск', 'британик', 'таганрогец', 'госдеятель', 'мерзость', 'взирать', 'подстричь', 'допзапрос', 'энергорынок', 'кинологово', 'красноярец', 'растениевод', 'уклонист', 'недопуск', 'эрих', 'медслужба', 'тонус', 'радиопират', 'машзавод', 'геометрия', 'малайзийка', 'животрепещущий', 'нетто', 'нелитовский', 'алмаатинец', 'предаукционный', 'умелец', 'хлебный', 'приводнившийся', 'калужанка', 'чиновница', 'опьянять', 'соцстабильность', 'киноэротика', 'сверхплотный', 'рушиться', 'саликов', 'внеурочно', 'заказчица', 'спецкостюм', 'минчанин', 'помошь', 'инвесткредит', 'копьеметательница', 'наркосеть', 'инфобезопасность', 'полиэфа', 'упфр', 'лесопосадка', 'усиленый', 'променять', 'суздальский', 'расклеивать', 'пришелец', 'недоброжелатель', 'глм', 'монстрант', 'амплуа', 'заколдованный', 'качалов', 'экстернат', 'заградсооружение', 'сдюжить', 'киносеть', 'ежеминутно', 'допвыплата', 'репетировать', 'ядерщик', 'перекармливать', 'флоралия', 'синяк', 'капитолийский', 'забрести', 'начислиление', 'экологичность', 'павля', 'нелипнуть', 'иня', 'силмаш', 'спортбаза', 'самочуствие', 'наслать', 'спинистка', 'шлиссельбург', 'святотатец', 'гимран', 'штучный', 'недоспать', 'туробмен', 'коибами', 'усадить', 'берггольц', 'псевдоисламский', 'бенаюный', 'белбина', 'анестезия', 'смолянин', 'прививаться', 'ослик', 'прозаический', 'покалечить', 'впустить', 'аскетизм', 'карбамидный', 'усекновение', 'погранбезопасность', 'псих', 'уд', 'гигантомания', 'оренбургстат', 'неоплаченный', 'развешивать', 'нацвалюта', 'перерисовать', 'размочить', 'допзалог', 'подстегивание', 'паззлый', 'алчный', 'себестоимость', 'млечин', 'каширка', 'наноподарок', 'орнелла', 'молзавод', 'забайкалец', 'секвестр', 'буйствовать', 'сибэкспо', 'обрисовать', 'пизар', 'втроник', 'сырьевика', 'двухгигагерцовый', 'менеджент', 'кэррик', 'спусковой', 'роллинг', 'подземелье', 'накрениться', 'мослесхоз', 'федцентр', 'обр', 'кристо', 'авантюризм', 'артистизм', 'авиаполигон', 'низкошумный', 'млдр', 'баклан', 'сковорода', 'сальвадорский', 'пуримский', 'автопрокат', 'забжд', 'квартирант', 'арестный', 'наркоцентр', 'танеев', 'отдание', 'учениия', 'строуба', 'финкомитет', 'кадровик', 'подозреваемоый', 'вымучить', 'распылитель', 'отвратительный', 'самоненко', 'камчатск', 'супербоул', 'мэрот', 'трансекссуала', 'негигиеничный', 'мурманчанин', 'хоздеятельность', 'остроатаковать', 'наноарбидол', 'проиграться', 'застарелый', 'вратарский', 'минералка', 'сельхозфедерация', 'проникнутый', 'обручиться', 'развеселить', 'исаий', 'эйяфьятлайокудлить', 'допльгота', 'наркопроблема', 'кровник', 'автошина', 'командуюший', 'наркополицеский', 'фининструмент', 'широкоплечий', 'рассорить', 'допполоса', 'фановый', 'нахулиганить', 'рачок', 'водочник', 'салафия', 'амиркул', 'шарифуллин', 'донетчин', 'лохнесский', 'госпродажа', 'кильдин', 'полутораметровый', 'сельхозакадемия', 'проститутка', 'спьяну', 'зенландий', 'утаивать', 'договориваться', 'уголока', 'каноист', 'замгенсек', 'верхом', 'турсезон', 'славянофильство', 'отобраться', 'федокруга', 'недвижимымость', 'безумец', 'утеха', 'псевдоинвалид', 'центркома', 'рецептурный', 'мариана', 'перечитать', 'заявилпутин', 'энергоконференция', 'порноделец', 'счетпалата', 'оседлать', 'паралимпийка', 'безводный', 'шайтан', 'аак', 'макли', 'эвакуаторщик', 'безвыходный', 'загородка', 'наноцентр', 'слега', 'эколономический', 'оголять', 'дилетант', 'переметнуться', 'самодержавный', 'переселяться', 'серенгети', 'великолепно', 'гбайт', 'элисани', 'джемс', 'кабмином', 'информпортал', 'драйвер', 'спецстанция', 'укротитель', 'соцкарта', 'допсоцгарантия', 'переигрывать', 'финишер', 'отстреливаться', 'высыпаться', 'сумеречный', 'финагентство', 'лжебанкир', 'филиновый', 'райизбирком', 'эконорма', 'крестопоклонный', 'минспортуризм', 'гольдин', 'сметать', 'мейвезер', 'продегустировать', 'пульс', 'метить', 'путоран', 'зампостпред', 'сверхурожайность', 'флорбола', 'финполитик', 'жилусловие', 'киносказочник', 'мрак', 'превосходительство', 'пханмуна', 'денежкином', 'постотпускной', 'заблоцкий', 'цдл', 'молкомбинат', 'огосударствление', 'госдолжность', 'михновое', 'курганец', 'возмущаться', 'полифония', 'двухуровневый', 'шестиклассник', 'соприкоснуться', 'лунгинуть', 'обставлять', 'недосчитываться', 'законотворчество', 'тайсон', 'футенм', 'обособленно', 'промбаза', 'нацприоритет', 'отдалиться', 'контрмера', 'сродни', 'финпродукт', 'досматривать', 'иррациональный', 'сверхнеобычный', 'гормолзавод', 'экономпредпосылка', 'макеевский', 'финпроблема', 'дончод', 'бибилиотека', 'лановый', 'медэксперт', 'преисподняя', 'оргвопрос', 'предстоянуть', 'доширак', 'хостела', 'абель', 'ометить', 'печный', 'дифференциация', 'разболтать', 'стрелочник', 'разгружаться', 'абстракция', 'агитатор', 'сумоистый', 'дремать', 'разгадывать', 'зубной', 'грампластинка', 'рыбзавод', 'прореха', 'вуаль', 'каменщик', 'напиться', 'метановый', 'авиакризис', 'генпродюсер', 'калиниградский', 'робоавтомобиль', 'кыдын', 'утаивание', 'мускул', 'кухарка', 'минобраз', 'престолонаследие', 'битцевкий', 'бургановый', 'гипермаркетом', 'договорняк', 'упереться', 'томка', 'возмещаться', 'остыть', 'аншлаговый', 'продресурс', 'гидрат', 'нейгауза', 'самозванец', 'огорчение', 'богалия', 'льняной', 'незлокачественный', 'четырехногий', 'стесняться', 'рыбинец', 'автопомощь', 'наркомафиозить', 'реструктуризировать', 'спецпоезд', 'растоптать', 'каравай', 'типенко', 'вразумлять', 'жк', 'уровневый', 'атакують', 'богемный', 'стуруа', 'субъективизм', 'шопеновский', 'заправщик', 'росавиция', 'зявить', 'вооружить', 'раскопать', 'мундир', 'выпороть', 'горностай', 'понятность', 'гопак', 'активированный', 'ртрс', 'госдача', 'шансончик', 'потерпеший', 'гуру', 'медкнижка', 'моруа', 'мотогонка', 'суперпредложение', 'пострелять', 'самоочищение', 'ходячий', 'калифония', 'противорадиационный', 'поверх', 'петербурженка', 'объединитель', 'островитянин', 'фаны', 'обуть', 'исламистка', 'проповедник', 'сверхдетальный', 'декаданс', 'вонючий', 'фз', 'турярмарка', 'никельсодержащий', 'погранорган', 'евростраховщик', 'войницкий', 'самособираться', 'кровопийца', 'оливковый', 'силин', 'политизирута', 'уловитель', 'хайрем', 'священнослужение', 'домна', 'свыиграть', 'нумерология', 'вызваета', 'размежевать', 'житомирщина', 'посметь', 'вяленый', 'нефтесервис', 'авиудар', 'шкид', 'тевтонец', 'ольмерт', 'маклаевский', 'экономсоюз', 'железобетон', 'латынина', 'выпусникнуть', 'челябинец', 'выжечь', 'имеретинец', 'закрепощенность', 'померяться', 'понервничать', 'работорговец', 'трентиньян', 'бродвеять', 'спецвыпуск', 'тезекенд', 'обезвреживаться', 'разломить', 'свалять', 'альф', 'ситаять', 'новороссиец', 'сегментировать', 'непроизнесенный', 'тепловод', 'охотобщество', 'работящий', 'вицеспикер', 'сор', 'злиться', 'девяностолетний', 'штирлиц', 'поглащение', 'миърадж', 'централизованно', 'спортлагерь', 'переизбирать', 'мухлевич', 'сохабей', 'шарпеистый', 'фармацевтика', 'наперегонки', 'госзадача', 'размораживаться', 'свора', 'тимати', 'ориентировщик', 'автралийский', 'соцреклама', 'антивозрастной', 'вторичка', 'жилинспекция', 'нагиева', 'обходный', 'отталкивать', 'читинец', 'отбивание', 'граддокумент', 'логачев', 'туруслуга', 'бессюжетный', 'халва', 'ратовать', 'нахлебник', 'омрачиться', 'коммерциализировать', 'оборотень', 'обогатиться', 'сычуани', 'консерватизм', 'потемнеть', 'предверие', 'сдуть', 'веделение', 'обесцениваться', 'окзаться', 'поселенчество', 'вязка', 'баасистовый', 'кредитка', 'авиазаправка', 'следуюш', 'слякоть', 'свежесть', 'саннорма', 'заряжаться', 'чжанцзяцз', 'непроданный', 'цигун', 'бойцовый', 'литовка', 'генпроектировщик', 'самообман', 'вширь', 'понадеяться', 'неусвоенный', 'уйгур', 'конфеденциальный', 'набросать', 'вагонзавод', 'олимппрограмма', 'геометрический', 'мучной', 'хитровка', 'грешник', 'целоваться', 'лжевладелец', 'трубить', 'лицензироваться', 'рафаилия', 'спецдивизия', 'сверхдержава', 'скинхеда', 'слитковый', 'соцпомощь', 'авиатерминал', 'предшкольный', 'информативный', 'оснв', 'добросердечный', 'политсистема', 'алколицензия', 'граддокументация', 'противоградовый', 'капюссон', 'композит', 'закрепитель', 'выковырять', 'нехороший', 'спортсоревнование', 'деклан', 'боронина', 'экопреступление', 'перстень', 'валдьдемарас', 'католичество', 'полкило', 'красноморский', 'мурзагалиев', 'идучить', 'покетбук', 'вздуть', 'доптребование', 'монорельс', 'редмэйн', 'амтело', 'владимирец', 'фотоэкскурсия', 'бильярдный', 'безответственно', 'ситак', 'чезный', 'шагора', 'энергомонополист', 'натереть', 'колиция', 'дольшик', 'гаплик', 'неконкурентоспособный', 'купе', 'заточить', 'порташник', 'ягуарунди', 'колебанийя', 'грипа', 'впрок', 'соотносить', 'филлипин', 'атаманов', 'утихнуть', 'автоприцеп', 'чужак', 'наркоборьба', 'наносталь', 'незапад', 'ратифиция', 'имеретинка', 'финпоказатель', 'губительно', 'правкомиссия', 'паж', 'профподготовка', 'рассудок', 'байдарочница', 'хронология', 'стейка', 'политмандат', 'наон', 'автоутилизация', 'потолочь', 'агромаша', 'несносить', 'сяопин', 'долезать', 'подпевка', 'обещалкин', 'цпш', 'обмелелый', 'допвозможность', 'поредеть', 'отбойный', 'авиасудно', 'продублировать', 'телескандал', 'токарь', 'номинат', 'джиперы', 'покрепче', 'подспорье', 'бэрримор', 'погранпункт', 'авиамаршал', 'нефтепроект', 'вознаградить', 'петербугский', 'вахатнговый', 'политубежище', 'смять', 'оперполка', 'собаковод', 'облизбик', 'лертчевакарн', 'объеденить', 'стричь', 'шулика', 'гамма', 'вживлять', 'антракт', 'монтироваться', 'электросбережение', 'авиатариф', 'промпроект', 'бмд', 'деноминировать', 'торрент', 'мент', 'авиаколлапс', 'молжаниновый', 'помолодеть', 'дсп', 'скейтбордист', 'густаффсон', 'фредди', 'аркан', 'антисоветизм', 'видеохроника', 'зарывать', 'феноменально', 'ловец', 'админресурс', 'честный', 'самовольщик', 'дьорать', 'фаталистка', 'баптист', 'котоорый', 'авлак', 'дешевизна', 'огра', 'продсоюз', 'подтянуть', 'невозмутимый', 'пелетон', 'минторг', 'швабра', 'добирать', 'косметология', 'косовар', 'папирусный', 'подподавать', 'ленинградец', 'двоечник', 'боком', 'потребсельхзхозкооператить', 'фисать', 'ввязаться', 'болтун', 'рубик', 'заключеный', 'таллинец', 'осаждать', 'профицитный', 'кабальеро', 'вафельный', 'галанин', 'вейру', 'экобезопасность', 'миссионерство', 'пленить', 'странник', 'наиграть', 'полумера', 'спецмарка', 'мох', 'ксюша', 'госинформация', 'совнарком', 'детдомовец', 'субтропики', 'сдоба', 'фармпромышленность', 'киргизя', 'экопатруль', 'мотострелка', 'спецразрешение', 'расшить', 'сплетничать', 'дипномер', 'кск', 'допконсультация', 'пайшау', 'герасименков', 'белгородчина', 'госземконтроль', 'беззащитность', 'опознавать', 'свистеть', 'глотать', 'резвиться', 'будивельнк', 'финреформа', 'медцель', 'проспонсировать', 'банкротит', 'обругать', 'горимущество', 'пятиметровый', 'свинский', 'вытерпеть', 'прослушивать', 'внутриутробный', 'госнедвижимость', 'теолог', 'нацтерритория', 'недопроизвести', 'дегероизация', 'непрерывность', 'свадьбина', 'веллитонуть', 'будапештец', 'киргизбаев', 'лигров', 'перегреться', 'дюбьен', 'пуститься', 'мелочный', 'растаможка', 'безобразный', 'стеблов', 'заводила', 'санправило', 'жизнерадостность', 'уотерса', 'альтруист', 'жертвенность', 'амурстат', 'соцналог', 'морсобрание', 'допвливание', 'супердержава', 'первичка', 'шире', 'муранов', 'антиядерный', 'рабгруппа', 'диаз', 'добродушный', 'прятать', 'анальгин', 'блоггер', 'мюсли', 'сандинистый', 'медкарта', 'педсостав', 'кроха', 'пропануть', 'аэронавт', 'проплыть', 'й', 'обременять', 'недетский', 'замглавый', 'дв', 'снегоходный', 'просветительница', 'пробуждать', 'ватерполистка', 'невидимка', 'завораживать', 'кеч', 'взвинчивание', 'таиландка', 'дагестанец', 'техпричина', 'глобально', 'петрокоммерец', 'кузбас', 'сбрендить', 'мехзавод', 'соцтариф', 'ситуативный', 'челищев', 'обхитрить', 'шанай', 'видеокомпромат', 'соцработница', 'тамифл', 'осуждиля', 'госинвестфонд', 'ссуза', 'листериоз', 'велодром', 'перебить', 'шотландка', 'обозвать', 'научсовет', 'поучительный', 'локербийскоия', 'греметь', 'двустволка', 'гупту', 'непрозрачность', 'умаровца', 'зародыш', 'мельвиль', 'спецзаседание', 'диппаспорт', 'киберспамер', 'демсила', 'симулировать', 'фокусник', 'вологод', 'рейтингование', 'скальпель', 'постер', 'быль', 'непреодолимый', 'проколоть', 'экотранспорт', 'расценка', 'контрреволюционный', 'снейдрать', 'мусияк', 'веять', 'маразм', 'портвейн', 'объясниться', 'архфестиваль', 'популизм', 'морковка', 'градсовет', 'попридержать', 'мясорубка', 'подвердить', 'госстат', 'краеведение', 'супермакгрубер', 'боголюбово', 'топтание', 'пирров', 'наркоторговка', 'гуманитарий', 'самообучающийся', 'шумомер', 'госсекрет', 'замерзание', 'рассыпаться', 'экосостояние', 'полшаг', 'вскормить', 'неаккуратный', 'патриотичный', 'допподержка', 'кенозерье', 'позитивность', 'техзаказчик', 'россыпный', 'политрепрессия', 'пищик', 'лжесвидетельство', 'программма', 'рособоронзаказ', 'преобразить', 'сосчитать', 'питсбург', 'базза', 'шершень', 'неаполитанец', 'откапывать', 'информблокада', 'вредность', 'антинародный', 'грудничек', 'рубикон', 'секснасилие', 'скалодр', 'фотокора', 'покатать', 'заглушить', 'довоенный', 'техоборудование', 'высокоудойный', 'госвооружение', 'турмаршрут', 'гостелекомпания', 'неизбранный', 'пражанка', 'присягнуть', 'догма', 'наливать', 'мрачность', 'гособъект', 'вертикальный', 'поголовный', 'шпундра', 'взрывустройство', 'допматериал', 'пришибей', 'медтуризм', 'бонсай', 'либдема', 'мфсый', 'парик', 'банат', 'информсистема', 'сквотеры', 'открещиваться', 'застрахованыть', 'погранконтроль', 'видеоэксперимент', 'хакерство', 'юи', 'продешевить', 'возгласить', 'ретроралли', 'финцентр', 'алгоголь', 'косолапый', 'мерелоца', 'пройтись', 'палестинка', 'степ', 'спортинтернат', 'калория', 'вожанк', 'бантик', 'соцпортрет', 'чертовый', 'сводить', 'информбаза', 'хмурый', 'зайчик', 'шестинедельный', 'бады', 'артучилище', 'соцстандарт', 'дискредитация', 'колоритный', 'анджела', 'осмотрительно', 'владикавкавказский', 'фарада', 'располнеть', 'дерматовенерологический', 'стент', 'метастаз', 'наматывать', 'меяться', 'мотофристайл', 'посувалюк', 'спортсооружение', 'тосолома', 'госкредит', 'угощаться', 'кахетие', 'рязъяснить', 'медпромышленность', 'неуд', 'фолклендова', 'сливать', 'пскович', 'барсоя', 'техусловие', 'оптоволокно', 'инвестрейтинг', 'выпивка', 'колоницкий', 'побрать', 'экорейтинг', 'неслыханный', 'амурчанин', 'заделать', 'неумение', 'соцполитик', 'мзср', 'дремучий', 'госавиакомпания', 'нараяна', 'выползти', 'прихать', 'переименовывать', 'молочник', 'пространный', 'разведуправление', 'энтузиазм', 'горпомещение', 'храбрый', 'спецавиация', 'кваркено', 'нанопрепарат', 'шипящий', 'декламировать', 'киберкостюм', 'крайздравый', 'медвежатина', 'кесария', 'соединяться', 'эйзель', 'дейнека', 'руткевич', 'отругать', 'финагент', 'юралс', 'необучаемостить', 'пытавшимиться', 'поминание', 'субхолдинг', 'энергопоставка', 'засолить', 'проходимец', 'отместка', 'игроман', 'грим', 'блокироваться', 'небосклон', 'наладка', 'тюремщик', 'отредактировать', 'вольница', 'инвестресурс', 'неаккредитованный', 'лтх', 'оперов', 'исследователький', 'сотрудничасть', 'еврокомандование', 'вынянчить', 'дитя', 'альтер', 'эрдмана', 'изобличать', 'отображаться', 'пилюля', 'морозно', 'зохейра', 'озаботиться', 'удваивать', 'тряпка', 'приватизироваться', 'вейкбординг', 'закарпать', 'конкурентность', 'приморкий', 'тамбовщина', 'воздухоплавание', 'техносфера', 'выставень', 'союзничать', 'помереть', 'калужанин', 'спецрейд', 'созреть', 'отпрыгать', 'автодору', 'нелигитимный', 'отпеть', 'таец', 'генсбур', 'бессилие', 'недурной', 'высчитывать', 'свиноферма', 'противоугонный', 'ошибаться', 'пожурить', 'фармпрепарат', 'велотакси', 'сомалийка', 'юбка', 'нэ', 'знаменатель', 'запасать', 'домысел', 'техсхема', 'спугнуть', 'кусачий', 'объвлена', 'техвуз', 'допкомпенсация', 'каграмана', 'брэдбрать', 'экотроп', 'генменеджер', 'неприватизированный', 'федерал', 'приманивание', 'мансити', 'экоавтобус', 'оргпреступный', 'рпфл', 'пекарня', 'орлик', 'махинатор', 'пирожок', 'зретель', 'генэкспертиза', 'бюрократ', 'нацсобрание', 'коневодство', 'бруклинец', 'соцдоплата', 'фальсификатор', 'партизация', 'эпистолярный', 'каткий', 'ненастоящий', 'пропить', 'благословенный', 'причесать', 'нетяжкий', 'эмоционально', 'хоррор', 'эконорматив', 'якупович', 'запланированый', 'несвоевременно', 'неудовлетворительно', 'низкоуглеродный', 'медсопровождение', 'зашкалить', 'светик', 'пятидесятилетие', 'пигмей', 'минсвязи', 'минаржать', 'балакин', 'энергосоглашение', 'учатие', 'патагония', 'авторизация', 'геомикробиология', 'арифметика', 'неконституционно', 'преполовение', 'влезть', 'подстраховать', 'промпотребитель', 'дезориентировать', 'утихомирить', 'мумбайский', 'добросовестность', 'преставление', 'насморк', 'надполитический', 'лирик', 'обчистить', 'обедать', 'облпрофсоюз', 'дозвониться', 'чекист', 'угасание', 'турфима', 'припереть', 'брендинга', 'р', 'ягуар', 'иудаизировать', 'чествовавать', 'плаксия', 'туравтобус', 'экотребование', 'логапарк', 'госвуз', 'ангажированность', 'прохлаждаться', 'бунедкора', 'нечитать', 'равнодоходный', 'таить', 'психопат', 'тагаза', 'потратиться', 'перспективность', 'хазар', 'яблочник', 'спецсоветник', 'аквалангистка', 'соцвыплата', 'успокаивать', 'кончать', 'разуть', 'трансгенный', 'обыватель', 'кандалакша', 'взлянуль', 'подпасть', 'обеспеченить', 'наркотест', 'агросфера', 'сектант', 'нагнать', 'подступить', 'заиграть', 'шенген', 'энергострахование', 'баштэк', 'эйсова', 'схимонахиня', 'могутначаться', 'атинаркотический', 'лунгин', 'курдоведение', 'ветпост', 'отрывать', 'утечь', 'фотобизнес', 'мегаземлетрясение', 'евроструктура', 'воочью', 'черчёс', 'цыбулько', 'вкрасться', 'худеть', 'мститель', 'матчбола', 'диабетик', 'полдома', 'спецтранспорт', 'моржиха', 'избиркомиссия', 'противопоказание', 'агосто', 'оцифровывать', 'морфогенез', 'соцприют', 'иголка', 'аэробика', 'самоокупаться', 'меропритие', 'расист', 'спасработа', 'богопротивный', 'хрусталик', 'припять', 'неимущий', 'инфицирование', 'спецсовещание', 'должок', 'хоан', 'богач', 'судоремонтник', 'пляжник', 'подкрасться', 'калининградка', 'жаростойкий', 'сердитый', 'лепаж', 'профответственность', 'стравливать', 'диора', 'всевышний', 'телефонизировать', 'светло', 'попирать', 'туримидж', 'притереться', 'разборчивость', 'распредцентр', 'преднестровие', 'конфискат', 'ольстерский', 'врываться', 'нацконгресс', 'конституцион', 'недостижимый', 'софекс', 'притеснять', 'видемост', 'кад', 'поискать', 'талия', 'финфонд', 'адаптивный', 'кассирша', 'курортолог', 'параньос', 'раздуть', 'геометка', 'маринад', 'эконарушение', 'политобозреватель', 'убийственный', 'псж', 'фикция', 'пивко', 'сгладить', 'раскачка', 'миноритерия', 'энерготранзит', 'евробаскет', 'руссоя', 'рфз', 'спортпрофилирование', 'бурят', 'автовождение', 'лжесвященник', 'гупа', 'североирландец', 'морпехам', 'заорганизовать', 'шейкер', 'онкоцентр', 'гегемония', 'шассия', 'мн', 'отстранять', 'санавиация', 'ввсс', 'вологжанин', 'змеиный', 'госпособие', 'выдумать', 'небходить', 'штрафник', 'барыш', 'мультмаскарад', 'беннифобия', 'мосметро', 'нежность', 'догонялки', 'холик', 'отпугивание', 'крузенштерновец', 'метропоезд', 'кидать', 'нерассмотрение', 'метко', 'монстр', 'госрезиденция', 'автоугон', 'заруга', 'ужинать', 'водораздел', 'сужать', 'неузнаваемость', 'комбат', 'бикини', 'дератизация', 'спортобщественность', 'мутаген', 'тематически', 'гуанчэн', 'юрсопровождение', 'пульсар', 'тюменец', 'камерунец', 'натотехнология', 'риагент', 'еврочиновник', 'склонять', 'антихрист', 'родословный', 'российкий', 'политсила', 'сыщик', 'обустраиваться', 'соцмагазин', 'зелао', 'стравить', 'развалить', 'огнеметчик', 'бада', 'колечко', 'кубанец', 'кинодебют', 'пристыдить', 'забодать', 'мужский', 'законопрект', 'информбезопасность', 'дискета', 'упитанный', 'аварис', 'стройзаказ', 'хитрость', 'роднить', 'провинциал', 'поводок', 'юрбюро', 'управитель', 'амнезия', 'веломаршрут', 'заблудший', 'чипсовый', 'петроглиф', 'инносфера', 'старушка', 'прозевать', 'олицетворение', 'чандрамоуль', 'госязык', 'ломаться', 'счастливчик', 'укутываться', 'клайдер', 'войнович', 'победно', 'гематоген', 'помирить', 'фаренгейт', 'думец', 'стройотрасль', 'кулиса', 'оптовик', 'сибфо', 'копчение', 'лесоинженер', 'пуэрториканский', 'провиант', 'упрощаться', 'спецлента', 'саратовец', 'ямалец', 'лексредство', 'европерспектива', 'фатым', 'воцарение', 'целомудрие', 'подмешать', 'откапываться', 'приручение', 'позабавить', 'экоконтроль', 'белгородец', 'практикум', 'хвататься', 'униформа', 'госдотация', 'фастфуд', 'сокром', 'политфорум', 'нежданный', 'киноархив', 'историчность', 'засучить', 'марганец', 'стрижнева', 'межплеменной', 'канализационый', 'беспощадный', 'аквилы', 'рыбхоз', 'кировчанка', 'геориевский', 'шинакова', 'незабитый', 'латамерика', 'меткий', 'авиаучилище', 'новгордец', 'стахановец', 'преф', 'педикюр', 'поневоле', 'допэкспертиза', 'софинансировать', 'телеархив', 'обгрызать', 'мусомор', 'допфинансирование', 'снипа', 'детоубийца', 'исцелимый', 'тяжелораненный', 'плешкова', 'задирать', 'луизианский', 'бустамант', 'падший', 'трудоустраивать', 'допсервис', 'ультразвук', 'транслятор', 'баймаганбить', 'сионистский', 'авианалог', 'вдовец', 'сечь', 'мезерберг', 'доннеллана', 'непополнение', 'ванкора', 'нефтегигант', 'теплокровный', 'генуэзец', 'драконовский', 'угледобытчик', 'сопроводить', 'гентский', 'экориска', 'медуниверситет', 'безрезультатность', 'розжиг', 'петергофский', 'севосетия', 'кузня', 'недекларировать', 'милитаризм', 'освистывать', 'коронас', 'навыбираться', 'федюнинский', 'непродуктивный', 'экопроблема', 'бледанс', 'утаить', 'вахтанговский', 'почувстовать', 'факсимиле', 'поженить', 'мужик', 'грузопоток', 'уикендом', 'евростандарт', 'гея', 'чак', 'берлинец', 'афганстан', 'ерунда', 'негр', 'российско', 'угнаться', 'изгой', 'медбиблиотека', 'фрунзика', 'гарфилд', 'бц', 'мади', 'таз', 'мигать', 'эффективый', 'бублик', 'латиноамериканка', 'суперзвено', 'финкризис', 'бенефис', 'радыгин', 'спецдепозитарий', 'незакрываться', 'высоквалифицировать', 'финуслуга', 'скандалить', 'децентрализовать', 'паламент', 'расползаться', 'симбиоз', 'апатитский', 'белорусие', 'девелоперсковать', 'квазимир', 'белогорье', 'любезность', 'гелиевый', 'намарена', 'валентайна', 'авиаальянс', 'проспорить', 'грам', 'госаппарат', 'заселять', 'астраханец', 'спекталь', 'щенник', 'хохот', 'виновница', 'хронически', 'боумэн', 'горинфора', 'армени', 'смещать', 'безвылазно', 'травина', 'севелый', 'формализовать', 'энерготариф', 'лютый', 'чеканить', 'экоочистка', 'смешивать', 'военгородок', 'баттхеда', 'тунир', 'шуметь', 'трубовпроводный', 'спецобучение', 'утилизационный', 'раздумать', 'рания', 'нч', 'бесцензурный', 'грянуть', 'морщина', 'техиспытание', 'замред', 'теплопункт', 'балалаечник', 'бендерский', 'ругательство', 'оговариваться', 'безконкурсный', 'полномасшабный', 'приземлить', 'еле', 'снизу', 'выследить', 'суала', 'дерибасовский', 'демобилизовать', 'непростительный', 'ягрк', 'укрыть', 'уместить', 'незамерзайка', 'подшучивать', 'примкнуть', 'повиться', 'рубнуть', 'заводиться', 'трактоваться', 'дуэйбес', 'бедствовать', 'сползти', 'соцстрахование', 'инвестпартнёр', 'экокатастрофа', 'трусость', 'еркрорда', 'колядка', 'вычислять', 'соцпроблема', 'сухостой', 'авторитаризм', 'физиотерапевт', 'храп', 'спецагентство', 'жульничество', 'папастатопулосый', 'штыгашев', 'сгб', 'куканос', 'гмси', 'стройрынок', 'неприемлемо', 'лимонад', 'радистка', 'ощепкова', 'фобия', 'скалолазный', 'разгрести', 'госскидка', 'нарколомка', 'бербера', 'скорбященский', 'пятилетие', 'ждв', 'челнинец', 'неаттестованный', 'простевой', 'кофеварка', 'поджаривать', 'инвестпривлекательность', 'подшутить', 'хаэс', 'взбесить', 'многослойность', 'эйс', 'спецплан', 'касация', 'наполниться', 'комадуть', 'чиндирчеро', 'башстат', 'рафтингист', 'туробъект', 'радиолог', 'опустелый', 'москомреклама', 'обустраивать', 'торгпредставительство', 'госпомещение', 'трн', 'щепка', 'скупщик', 'дефектный', 'авиацентр', 'тягота', 'чаянд', 'возродиться', 'сивк', 'полулегально', 'мстить', 'бабуля', 'удалость', 'приблизться', 'отваливаться', 'изнера', 'бесквартирный', 'соцназначение', 'горсобственность', 'неискренность', 'лпз', 'энергопроблема', 'выплюнуть', 'супергерой', 'проглянуть', 'переплюнуть', 'аугсбургский', 'сингапурец', 'сращивать', 'чищеный', 'бант', 'неумышленный', 'вертереть', 'фуэртевентура', 'экономсовет', 'удавка', 'сельхозвыставка', 'тучка', 'абаканец', 'стройработа', 'коммиссия', 'телесюжет', 'склифософский', 'пристановить', 'сейидти', 'инфотерминал', 'медеведеть', 'эльф', 'отзаявка', 'взгромоздить', 'химера', 'лоукостёр', 'туррынок', 'телеэксперимент', 'песенюк', 'почерк', 'разгружать', 'сейсмоустойчивость', 'напоследок', 'зоотерапия', 'чернобыл', 'допэтаж', 'австралопитек', 'ном', 'пулегильзотека', 'медовый', 'валлиец', 'лжедмитрия', 'модифицировать', 'внешторговый', 'сэйв', 'противогаз', 'боровиков', 'новокузнечанин', 'джейкобе', 'геленджикский', 'маоизм', 'специалитет', 'уксус', 'межгалактический', 'ликвидиция', 'переплавить', 'гурцковать', 'надувать', 'шапсалить', 'нацсистема', 'прибалт', 'шухевич', 'фолкленд', 'порядочность', 'простирать', 'вальдорфский', 'белогвардеец', 'птицепром', 'притвориться', 'принадлажавщий', 'спарринг', 'цуккиня', 'звериный', 'перевооружаться', 'фармхолдинг', 'ботинкометатель', 'вымогатель', 'гадание', 'ненападение', 'электроимпульс', 'локально', 'оросительный', 'авиатранспортировка', 'дэйзь', 'точильщик', 'рваный', 'долой', 'спецтюрьма', 'закупиться', 'высокоростный', 'плац', 'двадцатиметровый', 'разбазаривание', 'приообретение', 'авиатрансфер', 'безделье', 'саночистка', 'спецтариф', 'шизофреник', 'слабоумный', 'нечаянно', 'поспешность', 'прорывать', 'доппроверка', 'бюстгальтер', 'шуточный', 'галоген', 'деппу', 'капкан', 'мэдоффома', 'милла', 'язычество', 'утешиться', 'неустанный', 'южносахалинец', 'разруха', 'госпринадлежность', 'офз', 'экофестиваль', 'энергоисточник', 'перевыдвинуть', 'горслужба', 'штайна', 'господень', 'кагальник', 'цемзавод', 'хлорка', 'дипломатично', 'незваный', 'спецконтейнер', 'химбезопасность', 'чичарить', 'овечий', 'гуарча', 'бадюков', 'склониться', 'демант', 'дольче', 'наводнить', 'облысение', 'антифутбол', 'хасид', 'присодиниться', 'файнэнс', 'сковорец', 'разоружаться', 'мотоциклистка', 'фотоновинка', 'гудзоном', 'брежневский', 'изобличить', 'удокан', 'демконго', 'стелс', 'снегоочиститель', 'медсправка', 'псевдоохранник', 'гербольдт', 'кайкан', 'литгазета', 'полдеревня', 'олипийский', 'сарбаза', 'гомик', 'автомобилистка', 'краудсорсинг', 'неуспеваемость', 'дозаправщик', 'пэф', 'лисичка', 'разлететься', 'нецензурно', 'мегарегулятор', 'шанхаец', 'попойка', 'гумпомощь', 'подработать', 'раскошелиться', 'наркосредство', 'наводнять', 'излечимый', 'клоп', 'пропадать', 'газостанция', 'занижаться', 'сограджан', 'пыльца', 'жадничать', 'нанопокрытие', 'татуировать', 'авиаправо', 'одорил', 'желудочный', 'адреналин', 'госинвестиция', 'финорганизация', 'неформат', 'синенко', 'девелоперу', 'элитка', 'госсубсидия', 'кабесудос', 'подозреваемаий', 'сухарь', 'красящий', 'рабовладение', 'побратим', 'соцнужда', 'клизма', 'гособронзаказ', 'залезать', 'кпрп', 'моторчик', 'кредитоваться', 'оборонка', 'изнанка', 'пожирание', 'цементировать', 'абордажный', 'застой', 'совещаться', 'пахучий', 'токсинный', 'гнб', 'кинохит', 'неотложка', 'чиличить', 'подоить', 'услиление', 'нэк', 'паралето', 'двадцатиградусный', 'внепроцессуальный', 'райсовет', 'тронуть', 'белкомура', 'каннсковать', 'постулатор', 'голодавщий', 'конгресмен', 'коллоно', 'жевать', 'олбанский', 'бестемьяновый', 'жеана', 'взаимоподдержка', 'наркоканал', 'практичный', 'увержден', 'близорукий', 'самовозгореться', 'мейнстрить', 'вирасетакул', 'экмана', 'переименоваться', 'спецавиаподразделение', 'евроспутник', 'стритбола', 'толкучка', 'югий', 'кировстат', 'экообразование', 'видеостудия', 'анахайме', 'экоотель', 'финграмотность', 'ухаб', 'знахарка', 'выхаживание', 'аэрпорт', 'анаэробный', 'сверхрезультативный', 'проблуждать', 'экоущерб', 'совспорт', 'сотовик', 'плавсредство', 'комлекс', 'киноримейк', 'санаева', 'фингал', 'поберечь', 'гелаева', 'комиссиона', 'супербабушка', 'торгпред', 'онуоха', 'техрасследование', 'матерный', 'спецвойско', 'газонокосилка', 'гр', 'барист', 'техпроект', 'экстрадировал', 'неработать', 'эльмир', 'шилдс', 'преподать', 'прокружить', 'вельможа', 'отвадить', 'предугадывать', 'перламон', 'биополимер', 'рулет', 'соцслужба', 'испытыние', 'ссадить', 'самоцель', 'спецпрограмма', 'стеклодув', 'бругера', 'двушка', 'туркампания', 'большегруз', 'нанопровод', 'пирцхалавый', 'находкинец', 'ветряк', 'нацлотерея', 'необоснованность', 'чубарик', 'валуйки', 'ныряльщик', 'орешек', 'тюльпановый', 'трл', 'соперничество', 'третьяковка', 'иссушать', 'тепломатериал', 'ахиллес', 'мегателескоп', 'глушилка', 'коренев', 'рвать', 'вторгаться', 'унали', 'леже', 'обкатать', 'жульен', 'дирижеский', 'мтюз', 'малочисленность', 'разорить', 'птицекомплекс', 'сбрить', 'цветочек', 'сворачиваться', 'хмб', 'депеша', 'расселять', 'ттх', 'толстеть', 'вершигор', 'сдержка', 'потворство', 'страхователь', 'кульбитый', 'вброд', 'виртуозно', 'антверпенский', 'добивать', 'обогреть', 'шрэкома', 'недоплата', 'соцсиротство', 'юнсонный', 'кахетинский', 'соцпрограмма', 'фантастически', 'желдорога', 'гриль', 'техсостояние', 'бессмыслица', 'сверхнастрой', 'спецстраница', 'кроль', 'приказывать', 'мамиконянин', 'евромелочь', 'сектоведа', 'косых', 'месбах', 'обниматься', 'нарядить', 'жилсертификат', 'ванкуверец', 'нидерлада', 'наркопроизводитель', 'ноябрьск', 'свояк', 'баланда', 'штриховать', 'фотонаследие', 'влиятельность', 'бьорндалить', 'эша', 'инвестбизнес', 'распродаваться', 'александринка', 'лошадиный', 'скромность', 'споткнуться', 'рабовладелец', 'безхозный', 'кайсериспора', 'гостелеканал', 'мурка', 'меткомпания', 'ткибульский', 'крушить', 'вылечиться', 'мириться', 'инвестфорум', 'воровка', 'автоледи', 'пляс', 'гипс', 'еврокоммерец', 'разлучать', 'млр', 'проэкзаменовать', 'спецобразование', 'заграницы', 'уголовно', 'ренну', 'реакционный', 'разбежаться', 'инфобаза', 'проходка', 'обуза', 'компактность', 'замуправдел', 'авиабойкот', 'экостандарт', 'басистый', 'цинизм', 'энергосаммит', 'предполагамый', 'нерейтинговый', 'ладан', 'нянька', 'миститься', 'натовец', 'нострый', 'обстоятельст', 'списывание', 'грбавица', 'согреться', 'риктюс', 'божо', 'позеленеть', 'нерешение', 'юрпомощь', 'воронежец', 'газик', 'лейлата', 'праотец', 'гринько', 'фанаткать', 'метраж', 'экстремаленький', 'политаппарат', 'закружиться', 'подвешивать', 'прибавиться', 'вилка', 'сионский', 'непрописанный', 'касымов', 'техасец', 'нотифицировать', 'лебешева', 'радиолюбитель', 'опилка', 'потайной', 'профкомитет', 'доброжелательно', 'нацуниверситет', 'незаявленный', 'пицца', 'изоляционизм', 'флип', 'восторгаться', 'госэкоэкспертиза', 'засухоустойчивый', 'мысина', 'миниторинг', 'крепнуть', 'агрогруппа', 'кукурузный', 'итр', 'ликбез', 'приспосабливаться', 'пожарить', 'прокотол', 'рюмка', 'гостелевидение', 'затихать', 'осбудить', 'хаапсало', 'ддег', 'географ', 'чхонаном', 'тубдиспансер', 'спецустановка', 'писаный', 'завражновый', 'достраивать', 'распылять', 'упрощенок', 'соединимый', 'креатив', 'рутина', 'переписчица', 'мокбелить', 'извергнуть', 'средоточие', 'умолять', 'богатеть', 'спецбригада', 'прочувственный', 'грипич', 'побираться', 'синтетик', 'спортподготовка', 'утомленнный', 'выучка', 'плодовоовощной', 'гаитянка', 'оладушка', 'валентинка', 'астраханцев', 'бумеранг', 'росводоресурс', 'канцтовары', 'закваска', 'погибинуть', 'бараат', 'дыба', 'уползать', 'опоссум', 'минторговля', 'батальонный', 'экофонд', 'помпейский', 'имплант', 'эстемир', 'несолидарность', 'повздорить', 'госземля', 'жилсубсидия', 'дентом', 'госмероприятие', 'сознавать', 'заколотить', 'шанхаев', 'совхозный', 'женственность', 'качаться', 'агротехник', 'быстропишущий', 'соципотека', 'педработник', 'хеджфонд', 'горкомиссия', 'прокатить', 'переоснастить', 'молокопродукты', 'белучч', 'взрывник', 'кортик', 'экотехнология', 'неквалифицированный', 'раскраска', 'каннскай', 'продкорзина', 'колубмийский', 'воззвать', 'ветобработка', 'новозеландка', 'самовнушение', 'касетас', 'халат', 'ламбада', 'упрятать', 'зачернять', 'шупплера', 'пермячка', 'джуд', 'вспугнуть', 'разморить', 'смешарик', 'редизайн', 'ковыкт', 'плейный', 'зарубить', 'гипха', 'этномузыка', 'баддло', 'телемарафон', 'кило', 'ъ', 'оптинский', 'лавровый', 'капара', 'рюмочка', 'мордюков', 'мгц', 'фольга', 'мфв', 'опротестовывать', 'сопредседатем', 'карабкаться', 'нефтеотрасль', 'колэнергосбыт', 'комсомольск', 'фортуна', 'волчонок', 'кульчицкий', 'непримечательный', 'изумительный', 'тронутый', 'надеиться', 'евробондами', 'эпидемпорог', 'мобильно', 'горнедвижимость', 'боксагенера', 'россиим', 'верстовой', 'самоцензура', 'неоскорбительный', 'магнитогорец', 'экосотрудничество', 'правсистема', 'промконтрафакт', 'соцгарантия', 'начитанный', 'немусульманин', 'метзавод', 'спецструктура', 'учуять', 'фотокорый', 'студио', 'нюхать', 'энергоаврий', 'лжеколлега', 'бузакка', 'иркутскстат', 'уплыть', 'утолять', 'покаяться', 'небогоугодный', 'зафрендиля', 'неотапливаемый', 'капитализировать', 'женить', 'возничий', 'пожаробезопасность', 'властвовать', 'досмотровый', 'куэваса', 'ветроэлектростанция', 'телефестиваль', 'крепостной', 'госпоставщик', 'медвуз', 'ваххабит', 'ворошить', 'щедрость', 'кречет', 'непоследовательность', 'перерабытывать', 'колорит', 'смирять', 'совершеннолетие', 'велеть', 'полкоманда', 'половинный', 'супермашина', 'наставлять', 'гренадер', 'хейфниц', 'подерживать', 'арестантка', 'уберечься', 'тюз', 'лешехести', 'несоветский', 'двухтопливный', 'конфисковывать', 'сексуальность', 'закрутить', 'желтуха', 'полировка', 'разобщение', 'каппадокийский', 'допвыпуск', 'блант', 'обжиться', 'техспециалист', 'автоподстава', 'техперевооружение', 'пачиный', 'лч', 'овобождение', 'придаток', 'впечатлить', 'полумесячный', 'фиолетовый', 'копать', 'опублика', 'безветренный', 'зэк', 'морщаков', 'зеленодольск', 'финуправление', 'эфроса', 'замерить', 'фингарантия', 'шекспириада', 'усыпление', 'хаббана', 'кусто', 'демотивационный', 'таиландец', 'хамасовца', 'тараска', 'кумать', 'квеста', 'деспот', 'крамза', 'испачкать', 'минохрана', 'иззата', 'остренга', 'гнутый', 'прокручивать', 'удариться', 'фсгс', 'незаслуженно', 'ветвиться', 'таджикистанец', 'беннимания', 'халяльный', 'рассекречивать', 'неистовый', 'невостребовать', 'экоэкспертиза', 'малиец', 'экопроверка', 'сокрушить', 'западничество', 'правомочность', 'наркогруппировка', 'влетать', 'кружалин', 'ммпк', 'синьзцян', 'соткать', 'симферополец', 'объедух', 'соучастница', 'промвзрывчатка', 'саентолог', 'битлов', 'автоприманка', 'донестись', 'госкомпредпринимательство', 'ругаться', 'испачкаться', 'гомар', 'университат', 'оскароносец', 'ратификацировать', 'медиарынок', 'вьетан', 'знающий', 'пленница', 'дезертир', 'дешама', 'бти', 'кавагучить', 'вахтанговец', 'карамелька', 'спасцентр', 'шарф', 'фотолегенда', 'зависть', 'целостный', 'смешно', 'справлять', 'техдокументация', 'ланкиец', 'возбусть', 'вещдок', 'двойня', 'баварка', 'разбюрократить', 'южосетия', 'взросление', 'сверженный', 'эпикурейский', 'втк', 'конферансье', 'стройорганизация', 'нестрашный', 'псевдомученик', 'самодержавие', 'сторговаться', 'исписать', 'мсу', 'талина', 'помыть', 'подождать', 'лабезник', 'чик', 'формализм', 'спортцентр', 'бандеровец', 'финсистема', 'некоронованный', 'обжорство', 'главпочтамт', 'нака', 'неспокойно', 'дактилоскопировать', 'пасьянс', 'краснеть', 'автонавигатор', 'допвыбор', 'проветрить', 'коллективизация', 'клевать', 'зазеленеть', 'уивинга', 'оговор', 'неоязычник', 'макдональдс', 'травмоцентр', 'гейман', 'брезговать', 'лихачить', 'рытиковый', 'буйвол', 'сказкотерапия', 'пенснакопление', 'артмобиль', 'поцеловать', 'саудовец', 'бактериальный', 'гармоничный', 'литдебют', 'тайко', 'кариб', 'рукопожатие', 'индианка', 'черницов', 'ассистентский', 'шестовичка', 'рать', 'домофон', 'спорториентирование', 'промпроизводитель', 'дейл', 'шутейный', 'медоперация', 'неуступчивость', 'клавиша', 'звр', 'загрязненый', 'спецпомещение', 'плавить', 'туркмен', 'надломить', 'приглядывать', 'опекунский', 'луганщина', 'лжеминирование', 'агротехнология', 'комнедвижимость', 'энергостратегия', 'архихолодный', 'столковение', 'этничность', 'техпредложение', 'млд', 'молокопродукция', 'ленг', 'люксова', 'путинский', 'гидромощность', 'бланкенберг', 'звукоподражание', 'судмедбюро', 'переваривать', 'прицениться', 'схимонах', 'реинкарнация', 'назначенец', 'подловить', 'повседневность', 'броневик', 'авиадозаправщик', 'выспаться', 'обыденный', 'перебазироваться', 'дописывать', 'развлечь', 'прп', 'заманивать', 'сандуновский', 'финбезопасность', 'прикидываться', 'координационый', 'деполитизировать', 'самоволк', 'совдир', 'воткинск', 'позаниматься', 'марафонец', 'мособласть', 'исцелить', 'солцезащитный', 'отряжать', 'наколдовать', 'легимизация', 'ветроэнергопарк', 'напрасный', 'моторалли', 'радиомина', 'фармкластер', 'девидсоня', 'сарок', 'размен', 'байдарочник', 'припомнить', 'экопроект', 'горбюджет', 'исо', 'кикабидзе', 'свист', 'шерстяной', 'незаметный', 'форсирование', 'юрфирма', 'дообогащать', 'ваниль', 'квайфер', 'политсмута', 'обдуманно', 'усваивание', 'инопланетный', 'никерин', 'баскиа', 'азор', 'угнетать'}\n"
          ],
          "name": "stdout"
        },
        {
          "output_type": "stream",
          "text": [
            "/usr/local/lib/python3.6/dist-packages/ipykernel_launcher.py:34: DeprecationWarning: Call to deprecated `__getitem__` (Method will be removed in 4.0.0, use self.wv.__getitem__() instead).\n"
          ],
          "name": "stderr"
        }
      ]
    },
    {
      "cell_type": "markdown",
      "metadata": {
        "id": "vYoF4ifEu-Z9",
        "colab_type": "text"
      },
      "source": [
        "# Prepear aspects vectors"
      ]
    },
    {
      "cell_type": "code",
      "metadata": {
        "id": "FE2GPv2CGt_z",
        "colab_type": "code",
        "outputId": "4b7e743f-9bf3-4bd2-d381-759194d210c0",
        "colab": {
          "base_uri": "https://localhost:8080/",
          "height": 283
        }
      },
      "source": [
        "lens = [lang.word2count[w] for w in lang.word2count]\n",
        "print(len([w for w in lang.word2count if lang.word2count[w] > 1000 and lang.word2count[w] < 5000]))\n",
        "sns.distplot([l for l in lens if l > 1000 and l < 10000])\n",
        "plt.show()"
      ],
      "execution_count": 0,
      "outputs": [
        {
          "output_type": "stream",
          "text": [
            "403\n"
          ],
          "name": "stdout"
        },
        {
          "output_type": "display_data",
          "data": {
            "image/png": "[encoded data removed]",
            "text/plain": [
              "<Figure size 432x288 with 1 Axes>"
            ]
          },
          "metadata": {
            "tags": [],
            "needs_background": "light"
          }
        }
      ]
    },
    {
      "cell_type": "code",
      "metadata": {
        "id": "On9n46RdvBSp",
        "colab_type": "code",
        "outputId": "6b918da0-5a6d-4bd7-d71f-ca75855208cc",
        "colab": {
          "base_uri": "https://localhost:8080/",
          "height": 1000
        }
      },
      "source": [
        "X = []\n",
        "words = []\n",
        "for w in lang.word2count:\n",
        "    if lang.word2count[w] > 1000 and lang.word2count[w] < 5000:\n",
        "        X.append(word_init_vectors[w])\n",
        "        words.append(w)\n",
        "print(len(words))\n",
        "\n",
        "\n",
        "# K means\n",
        "from sklearn.cluster import KMeans\n",
        "import numpy as np\n",
        "kmeans = KMeans(n_clusters=config['aspects_num'], n_init=10, max_iter=500, random_state=42, verbose=0).fit(X)\n",
        "av = kmeans.cluster_centers_.tolist()\n",
        "\n",
        "\n",
        "def sim(word, aspect):\n",
        "    return np.dot(word, aspect)\n",
        "\n",
        "def sim2(word, aspect):\n",
        "    return np.sum((word-aspect)**2)\n",
        "\n",
        "neares_num = 100\n",
        "for aspect_i in range(len(av)):\n",
        "    aspect = np.array(av[aspect_i])\n",
        "    similarities = []\n",
        "    for word_i in range(len(X)):\n",
        "        word = words[word_i]\n",
        "        similarities.append([word, sim(X[word_i], aspect)])\n",
        "    \n",
        "    low_words = sorted(similarities, key=lambda x: x[1])[:neares_num]\n",
        "    print(aspect_i, [w[0] for w in low_words])"
      ],
      "execution_count": 49,
      "outputs": [
        {
          "output_type": "stream",
          "text": [
            "403\n",
            "0 ['известный', 'движение', 'грузия', 'тренер', 'имя', 'полиция', 'партия', 'лидер', 'николай', 'евгений', 'польша', 'бывший', 'милиция', 'сми', 'русский', 'михаил', 'гувд', 'член', 'отдел', 'сила', 'защита', 'александр', 'афганистан', 'назвать', 'израиль', 'корреспондент', 'театр', 'провинция', 'военный', 'призвать', 'клуб', 'пост', 'убийство', 'телеканал', 'футболист', 'участник', 'северный', 'телефон', 'депутат', 'считать', 'дагестан', 'украинский', 'причина', 'руководство', 'милиционер', 'борьба', 'суббота', 'главный', 'найти', 'интервью', 'команда', 'юрий', 'цска', 'чемпион', 'неизвестный', 'дата', 'школа', 'воскресение', 'детский', 'уголовный', 'состав', 'здание', 'история', 'общественный', 'союз', 'больница', 'парламент', 'событие', 'французский', 'организация', 'место', 'судебный', 'южный', 'против', 'нарушение', 'признать', 'сборный', 'финал', 'группа', 'ядерный', 'петербург', 'оон', 'весь', 'семья', 'фестиваль', 'футбольный', 'вечером', 'решение', 'участие', 'обвинять', 'спортивный', 'государство', 'округа', 'областной', 'киргизия', 'посвятить', 'край', 'дтп', 'связь', 'являться']\n",
            "1 ['пресс', 'ссылка', 'задержать', 'полиция', 'американский', 'считать', 'британский', 'зал', 'подозревать', 'писать', 'сайт', 'неизвестный', 'обнаружить', 'аэропорт', 'ассошиэйтед', 'турнир', 'рейтер', 'убийство', 'бывший', 'французский', 'михаил', 'франс', 'евгений', 'передавать', 'евро', 'остров', 'сообщаться', 'судебный', 'финал', 'лига', 'кубок', 'испания', 'андрей', 'обвинять', 'теннисный', 'заявление', 'серия', 'получить', 'европейский', 'корреспондент', 'телеканал', 'против', 'следовать', 'самый', 'выйти', 'выиграть', 'отдел', 'информация', 'мировой', 'крупный', 'европа', 'признать', 'национальный', 'являться', 'назвать', 'здание', 'говориться', 'машина', 'сообщение', 'свидетельствовать', 'история', 'интервью', 'продажа', 'греция', 'мир', 'иск', 'местный', 'найти', 'провинция', 'франция', 'известный', 'фон', 'автомобиль', 'биржа', 'футбольный', 'составлять', 'цска', 'утром', 'воскресение', 'газета', 'часть', 'алексей', 'появиться', 'источник', 'поезд', 'дать', 'сми', 'круг', 'смочь', 'банка', 'матч', 'несколько', 'имя', 'мочь', 'организация', 'чемпион', 'суббота', 'семь', 'объявить', 'открытый']\n",
            "2 ['скп', 'мчс', 'гувд', 'больница', 'милиция', 'отдел', 'округа', 'край', 'служба', 'мвд', 'район', 'следственный', 'обвинять', 'прокуратура', 'милиционер', 'губернатор', 'проверка', 'администрация', 'подозревать', 'александр', 'факт', 'скончаться', 'судебный', 'департамент', 'неизвестный', 'дагестан', 'начальник', 'владимир', 'убийство', 'ведомство', 'дата', 'уголовный', 'орган', 'возбудить', 'обнаружить', 'дорога', 'дом', 'пострадать', 'игорь', 'задержать', 'погибший', 'алексей', 'пожар', 'пострадавший', 'правоохранительный', 'юрий', 'областной', 'дтп', 'житель', 'метро', 'сергей', 'семья', 'телефон', 'виктор', 'николай', 'взрыв', 'бывший', 'сотрудник', 'утром', 'детский', 'погибнуть', 'евгений', 'здание', 'заместитель', 'великий', 'руководитель', 'комитет', 'машина', 'иск', 'андрей', 'дмитрий', 'имя', 'теракт', 'шахта', 'школа', 'нарушение', 'найти', 'автомобиль', 'ночь', 'образование', 'комиссия', 'произойти', 'информация', 'связь', 'вечером', 'подмосковье', 'полиция', 'петербург', 'оао', 'транспорт', 'городской', 'мэр', 'станция', 'источник', 'республика', 'депутат', 'назначить', 'рассмотреть', 'находиться', 'михаил']\n",
            "3 ['мчс', 'губернатор', 'гувд', 'мвд', 'округа', 'начальник', 'отдел', 'департамент', 'район', 'скп', 'депутат', 'край', 'больница', 'руководитель', 'дорога', 'пожар', 'александр', 'владимир', 'заместитель', 'регион', 'председатель', 'служба', 'милиция', 'единый', 'республика', 'мэр', 'ситуация', 'комитет', 'администрация', 'образование', 'комиссия', 'житель', 'областной', 'сотрудник', 'госдума', 'детский', 'орган', 'сергей', 'прокуратура', 'дата', 'ведомство', 'пострадать', 'юрий', 'заседание', 'возбудить', 'школа', 'правоохранительный', 'парламент', 'транспорт', 'дмитрий', 'андрей', 'дагестан', 'игорь', 'милиционер', 'режим', 'министр', 'пострадавший', 'вод', 'николай', 'алексей', 'евгений', 'дтп', 'развитие', 'министерство', 'мероприятие', 'территория', 'виктор', 'форум', 'культура', 'проверка', 'спорт', 'телефон', 'источник', 'региональный', 'уголовный', 'городской', 'безопасность', 'следственный', 'площадь', 'вопрос', 'комплекс', 'директор', 'великий', 'подмосковье', 'федерация', 'движение', 'период', 'нарушение', 'совет', 'подготовка', 'ветеран', 'путин', 'рассказать', 'общественный', 'рассмотреть', 'политика', 'уровень', 'фонд', 'закон', 'строительство']\n",
            "4 ['бывший', 'известный', 'михаил', 'александр', 'юрий', 'комитет', 'союз', 'иск', 'член', 'николай', 'лидер', 'владимир', 'мэр', 'судебный', 'имя', 'грузия', 'федерация', 'евгений', 'председатель', 'сергей', 'совет', 'убийство', 'защита', 'военный', 'депутат', 'андрей', 'партия', 'телеканал', 'сми', 'общественный', 'алексей', 'интервью', 'игорь', 'назначить', 'обвинять', 'руководство', 'тренер', 'пост', 'театр', 'заседание', 'политика', 'группа', 'заявление', 'гувд', 'комиссия', 'госдума', 'движение', 'мвд', 'признать', 'украинский', 'парламент', 'клуб', 'назвать', 'сила', 'генеральный', 'полиция', 'организация', 'культура', 'посвятить', 'французский', 'милиция', 'футбольный', 'русский', 'выступать', 'отдел', 'польша', 'право', 'газета', 'сотрудничество', 'против', 'оон', 'руководитель', 'встреча', 'информация', 'спорт', 'дата', 'вопрос', 'состав', 'национальный', 'мид', 'израиль', 'ссылка', 'афганистан', 'договор', 'соглашение', 'британский', 'дмитрий', 'скончаться', 'корреспондент', 'форум', 'переговоры', 'чемпион', 'главный', 'призвать', 'спортивный', 'уголовный', 'связь', 'округа', 'виктор', 'подписать']\n",
            "5 ['скончаться', 'мчс', 'больница', 'скп', 'турнир', 'гувд', 'вечером', 'телеканал', 'неизвестный', 'театр', 'пресс', 'полиция', 'копейка', 'провинция', 'газета', 'обнаружить', 'выиграть', 'тренер', 'имя', 'евгений', 'погибнуть', 'утром', 'отдел', 'пострадать', 'правоохранительный', 'телефон', 'ночь', 'дата', 'ссылка', 'кубок', 'фестиваль', 'землетрясение', 'теннисный', 'остров', 'финал', 'известный', 'чемпион', 'андрей', 'дтп', 'дагестан', 'зал', 'следственный', 'сми', 'убийство', 'источник', 'матч', 'милиционер', 'жертва', 'серия', 'клуб', 'чемпионат', 'ассошиэйтед', 'сайт', 'жизнь', 'круг', 'рейтер', 'погибший', 'алексей', 'футболист', 'аэропорт', 'составлять', 'выйти', 'тур', 'район', 'лига', 'николай', 'воскресение', 'интервью', 'открыться', 'метро', 'поезд', 'проходить', 'игорь', 'мвд', 'цска', 'петербург', 'суббота', 'ванкувер', 'главный', 'команда', 'испания', 'корреспондент', 'польша', 'прибыть', 'специалист', 'взрыв', 'евро', 'произойти', 'юг', 'местный', 'опубликовать', 'британский', 'машина', 'гаити', 'найти', 'сообщаться', 'семь', 'французский', 'администрация', 'директор']\n",
            "6 ['департамент', 'отдел', 'комиссия', 'начальник', 'руководитель', 'республика', 'заместитель', 'комитет', 'округа', 'орган', 'судебный', 'взрыв', 'ведомство', 'министерство', 'государственный', 'вопрос', 'предприятие', 'проверка', 'сотрудник', 'прокуратура', 'председатель', 'служба', 'ситуация', 'нарушение', 'киргизия', 'директор', 'режим', 'оао', 'газа', 'система', 'федеральный', 'уголовный', 'обвинять', 'строительство', 'организация', 'производство', 'военный', 'журналист', 'транспорт', 'источник', 'район', 'комплекс', 'областной', 'дагестан', 'здание', 'мвд', 'шахта', 'региональный', 'городской', 'край', 'территория', 'сергей', 'безопасность', 'политика', 'министр', 'скп', 'защита', 'средство', 'ряд', 'связь', 'станция', 'развитие', 'юрий', 'факт', 'подозревать', 'владимир', 'генеральный', 'направить', 'информация', 'заявление', 'возбудить', 'северный', 'находиться', 'работа', 'игорь', 'авария', 'администрация', 'теракт', 'предлагать', 'подмосковье', 'рассмотреть', 'следственный', 'член', 'создание', 'закон', 'внутренний', 'ссылка', 'алексей', 'экономический', 'иск', 'отношение', 'сотрудничество', 'помощь', 'метро', 'афганистан', 'пострадавший', 'образование', 'признать', 'интервью', 'александр']\n",
            "7 ['служба', 'газа', 'задержать', 'провинция', 'неизвестный', 'взрыв', 'нефть', 'обвинять', 'полиция', 'подозревать', 'район', 'судебный', 'сми', 'шахта', 'утром', 'партия', 'гувд', 'сотрудник', 'обнаружить', 'газета', 'милиция', 'пожар', 'ночь', 'заявление', 'юг', 'киргизия', 'правоохранительный', 'здание', 'сообщение', 'дать', 'иск', 'предприятие', 'режим', 'аэропорт', 'произойти', 'поезд', 'остров', 'орган', 'дагестан', 'прокуратура', 'пострадавший', 'пострадать', 'украинский', 'гражданин', 'передавать', 'милиционер', 'бывший', 'автомобиль', 'отдел', 'начальник', 'округа', 'признать', 'движение', 'убийство', 'возбудить', 'уголовный', 'вечером', 'крупный', 'источник', 'израиль', 'внутренний', 'мид', 'житель', 'ведомство', 'оао', 'территория', 'доллар', 'сообщаться', 'мвд', 'афганистан', 'около', 'местный', 'производство', 'мчс', 'телеканал', 'банка', 'землетрясение', 'следовать', 'машина', 'авария', 'помощь', 'информация', 'больница', 'транспорт', 'находиться', 'министерство', 'жертва', 'факт', 'нарушение', 'гаити', 'часть', 'телефон', 'опубликовать', 'писать', 'фон', 'виктор', 'центральный', 'группа', 'военный', 'ряд']\n",
            "8 ['турнир', 'сообщаться', 'теннисный', 'обнаружить', 'остров', 'ссылка', 'вод', 'автомобиль', 'американский', 'мчс', 'кубок', 'ассошиэйтед', 'поезд', 'полиция', 'серия', 'писать', 'погибнуть', 'машина', 'круг', 'найти', 'самый', 'станция', 'финал', 'выйти', 'чемпионат', 'фон', 'государство', 'сайт', 'опубликовать', 'следовать', 'смочь', 'правоохранительный', 'скп', 'часть', 'неизвестный', 'рейтер', 'пресс', 'продажа', 'около', 'аэропорт', 'дом', 'жертва', 'матч', 'составлять', 'говориться', 'выиграть', 'считать', 'несколько', 'свидетельствовать', 'ночь', 'задержать', 'британский', 'французский', 'утром', 'франция', 'газета', 'факт', 'пострадать', 'дорога', 'мочь', 'число', 'милиция', 'группа', 'испания', 'впервые', 'месяц', 'служба', 'провинция', 'семь', 'район', 'землетрясение', 'авария', 'открытый', 'пострадавший', 'биржа', 'шесть', 'четыре', 'большой', 'франс', 'ведомство', 'жизнь', 'край', 'торг', 'произойти', 'также', 'дата', 'помочь', 'футбол', 'клуб', 'вечером', 'передавать', 'милиционер', 'неделя', 'нефть', 'случай', 'футболист', 'пять', 'история', 'время', 'детский']\n",
            "9 ['вод', 'поезд', 'станция', 'остров', 'обнаружить', 'аэропорт', 'землетрясение', 'юг', 'мир', 'погибнуть', 'сообщаться', 'официальный', 'авария', 'дорога', 'пострадавший', 'жертва', 'метро', 'столица', 'пострадать', 'ссылка', 'район', 'утром', 'несколько', 'взрыв', 'автомобиль', 'больница', 'ночь', 'мера', 'пожар', 'житель', 'шесть', 'семь', 'дтп', 'провинция', 'получить', 'пресс', 'результат', 'произойти', 'ассошиэйтед', 'детский', 'около', 'машина', 'сообщение', 'суббота', 'причина', 'столичный', 'подмосковье', 'проведение', 'жизнь', 'безопасность', 'число', 'местный', 'городской', 'пять', 'четыре', 'правоохранительный', 'гаити', 'режим', 'вечером', 'дать', 'транспорт', 'помощь', 'последний', 'мчс', 'воскресение', 'остаться', 'следовать', 'погибший', 'теракт', 'китай', 'время', 'территория', 'самый', 'рейтер', 'шахта', 'факт', 'информация', 'край', 'месяц', 'начальник', 'полиция', 'прокуратура', 'большой', 'корреспондент', 'путин', 'находиться', 'неизвестный', 'сми', 'найти', 'место', 'период', 'милиционер', 'снизиться', 'также', 'франс', 'составить', 'специалист', 'событие', 'начать', 'открытый']\n",
            "10 ['развитие', 'федерация', 'договор', 'сотрудничество', 'соглашение', 'союз', 'считать', 'спорт', 'экономика', 'тренер', 'сборный', 'итог', 'госдума', 'лига', 'политика', 'фонд', 'интервью', 'вопрос', 'совет', 'финансовый', 'владимир', 'чемпион', 'сергей', 'изменение', 'министр', 'дмитрий', 'турнир', 'игорь', 'андрей', 'алексей', 'комитет', 'выступать', 'европейский', 'ядерный', 'экономический', 'олимпийский', 'возможность', 'путин', 'программа', 'хороший', 'форум', 'подписать', 'председатель', 'закон', 'создание', 'александр', 'право', 'футбольный', 'чемпионат', 'уровень', 'игра', 'подготовка', 'переговоры', 'спортивный', 'ванкувер', 'поддержка', 'европа', 'сборная', 'система', 'николай', 'виктор', 'команда', 'государство', 'кубок', 'белоруссия', 'иностранный', 'мировой', 'заседание', 'проект', 'юрий', 'цска', 'михаил', 'решение', 'единый', 'предлагать', 'янукович', 'встреча', 'официальный', 'проблема', 'футбол', 'высокий', 'образование', 'свидетельствовать', 'рост', 'евгений', 'должный', 'ближний', 'готовый', 'национальный', 'федеральный', 'пост', 'новое', 'круг', 'мир', 'новый', 'банка', 'первое', 'теннисный', 'франция', 'рамка']\n",
            "11 ['корреспондент', 'турнир', 'суббота', 'воскресение', 'теннисный', 'матч', 'зал', 'источник', 'кубок', 'дата', 'скп', 'сборная', 'финал', 'лига', 'больница', 'сборный', 'гувд', 'остров', 'клуб', 'чемпион', 'серия', 'полиция', 'команда', 'цска', 'сайт', 'мчс', 'тренер', 'телефон', 'сообщение', 'тур', 'футболист', 'круг', 'дать', 'испания', 'прокуратура', 'выиграть', 'рассказать', 'биржа', 'пресс', 'жертва', 'официальный', 'мир', 'чемпионат', 'заявление', 'убийство', 'рейтер', 'федерация', 'евро', 'открытый', 'составлять', 'житель', 'история', 'футбол', 'французский', 'передавать', 'поезд', 'фестиваль', 'выйти', 'сотрудник', 'служба', 'дагестан', 'обнаружить', 'известный', 'спорт', 'польша', 'театр', 'копейка', 'аэропорт', 'хороший', 'свидетельствовать', 'проходить', 'телеканал', 'самый', 'следовать', 'имя', 'франция', 'сми', 'курс', 'назвать', 'специалист', 'землетрясение', 'обвинять', 'найти', 'пострадать', 'игра', 'местный', 'британский', 'изменение', 'лидер', 'ванкувер', 'германия', 'следственный', 'правоохранительный', 'погибнуть', 'решение', 'событие', 'милиционер', 'россиянин', 'семь', 'спортивный']\n",
            "12 ['скончаться', 'погибнуть', 'больница', 'следственный', 'скп', 'обнаружить', 'погибший', 'район', 'мчс', 'губернатор', 'детский', 'факт', 'александр', 'театр', 'имя', 'пострадать', 'край', 'воскресение', 'суббота', 'евгений', 'милиция', 'убийство', 'жизнь', 'главный', 'неизвестный', 'гувд', 'ночь', 'известный', 'найти', 'отдел', 'милиционер', 'дтп', 'возбудить', 'северный', 'дата', 'утром', 'телефон', 'тренер', 'вечером', 'произойти', 'жертва', 'взрыв', 'округа', 'дорога', 'дагестан', 'поезд', 'петербург', 'прибыть', 'метро', 'посетить', 'проверка', 'фестиваль', 'начальник', 'причина', 'польша', 'здание', 'николай', 'станция', 'открыть', 'пройти', 'юрий', 'культура', 'прокуратура', 'русский', 'состояться', 'сотрудник', 'назвать', 'спортивный', 'школа', 'владимир', 'великий', 'сообщаться', 'пожар', 'военный', 'сайт', 'открыться', 'посвятить', 'спорт', 'проходить', 'житель', 'теракт', 'уголовный', 'начаться', 'мвд', 'провинция', 'сочи', 'юг', 'дом', 'визит', 'место', 'проводить', 'южный', 'семь', 'машина', 'правоохранительный', 'находиться', 'завершить', 'клуб', 'авария', 'участие']\n",
            "13 ['итог', 'индекс', 'европа', 'путин', 'лига', 'биржа', 'землетрясение', 'торг', 'ванкувер', 'ситуация', 'мчс', 'уровень', 'свидетельствовать', 'открытие', 'дмитрий', 'строительство', 'победа', 'специалист', 'проблема', 'рост', 'фон', 'проект', 'развитие', 'система', 'экономика', 'игра', 'регион', 'период', 'европейский', 'сотрудничество', 'создание', 'дорога', 'переговоры', 'национальный', 'сочи', 'открытый', 'визит', 'площадь', 'вод', 'команда', 'ядерный', 'пожар', 'проведение', 'олимпийский', 'футбол', 'мероприятие', 'подготовка', 'программа', 'копейка', 'большой', 'источник', 'гаити', 'сайт', 'кубок', 'открыться', 'посвятить', 'столица', 'мир', 'комплекс', 'работа', 'обсудить', 'янукович', 'сборная', 'изменение', 'финансовый', 'владимир', 'соглашение', 'следовать', 'место', 'пройти', 'снизиться', 'турнир', 'ближний', 'форум', 'неделя', 'заседание', 'поддержка', 'федерация', 'греция', 'рамка', 'хороший', 'германия', 'авария', 'создать', 'центральный', 'спортивный', 'финал', 'тур', 'рынок', 'пострадавший', 'мера', 'участие', 'станция', 'вопрос', 'государство', 'чемпионат', 'региональный', 'курс', 'новый', 'встреча']\n",
            "14 ['газета', 'ссылка', 'опубликовать', 'тренер', 'телеканал', 'аэропорт', 'писать', 'пресс', 'сообщаться', 'рейтер', 'клуб', 'интервью', 'лига', 'футболист', 'директор', 'провинция', 'футбол', 'сборный', 'мид', 'заявление', 'команда', 'цска', 'переговоры', 'выиграть', 'чемпион', 'ядерный', 'южный', 'пострадать', 'оон', 'иран', 'европейский', 'остров', 'американский', 'сайт', 'национальный', 'считать', 'свидетельствовать', 'полиция', 'федерация', 'испания', 'пост', 'футбольный', 'причина', 'копейка', 'произойти', 'финал', 'главный', 'китай', 'землетрясение', 'европа', 'следовать', 'французский', 'михаил', 'тур', 'дать', 'кубок', 'украинский', 'сми', 'биржа', 'генеральный', 'выступать', 'теннисный', 'находиться', 'назначить', 'британский', 'нефть', 'серия', 'официальный', 'гаити', 'результат', 'имя', 'турция', 'руководство', 'газа', 'утром', 'турнир', 'специалист', 'игорь', 'круг', 'греция', 'курс', 'вечером', 'индекс', 'погибнуть', 'иск', 'банка', 'оао', 'объявить', 'борьба', 'иностранный', 'движение', 'ассошиэйтед', 'сотрудничество', 'производство', 'министр', 'алексей', 'комитет', 'итог', 'финансовый', 'центральный']\n",
            "15 ['газа', 'нефть', 'скп', 'гражданин', 'мера', 'служба', 'пресс', 'рейтер', 'турция', 'дать', 'ссылка', 'цена', 'внутренний', 'фон', 'киргизия', 'прокуратура', 'погибнуть', 'мид', 'сообщаться', 'ведомство', 'землетрясение', 'провинция', 'мвд', 'переговоры', 'греция', 'рост', 'израиль', 'следственный', 'иран', 'китай', 'режим', 'пока', 'правоохранительный', 'белоруссия', 'пострадать', 'автомобиль', 'авария', 'ситуация', 'местный', 'нарушение', 'результат', 'заявление', 'гаити', 'доллар', 'проверка', 'полиция', 'орган', 'средство', 'пострадавший', 'вод', 'евро', 'причина', 'подозревать', 'афганистан', 'писать', 'задержать', 'опубликовать', 'шахта', 'говориться', 'информация', 'дагестан', 'обвинять', 'свидетельствовать', 'готовый', 'мочь', 'казахстан', 'борьба', 'дтп', 'отношение', 'месяц', 'помощь', 'безопасность', 'считать', 'составлять', 'производство', 'футбол', 'факт', 'министерство', 'случай', 'уровень', 'против', 'сми', 'решение', 'ассошиэйтед', 'юг', 'милиционер', 'россиянин', 'произойти', 'миллиард', 'машина', 'снизиться', 'остаться', 'федеральный', 'сила', 'уголовный', 'составить', 'находиться', 'взрыв', 'банка', 'житель']\n",
            "16 ['турнир', 'считать', 'чемпион', 'ссылка', 'фон', 'сборный', 'теннисный', 'лига', 'фонд', 'экономика', 'кубок', 'мировой', 'выступать', 'спорт', 'хороший', 'финансовый', 'газета', 'подписать', 'чемпионат', 'тренер', 'итог', 'финал', 'развитие', 'принять', 'европейский', 'соглашение', 'мид', 'цска', 'игра', 'выиграть', 'рост', 'футбольный', 'ядерный', 'свидетельствовать', 'назвать', 'совет', 'политика', 'мир', 'программа', 'уровень', 'путин', 'решение', 'европа', 'открытый', 'переговоры', 'круг', 'договор', 'союз', 'сборная', 'право', 'выйти', 'футболист', 'объявить', 'британский', 'самый', 'против', 'встреча', 'франция', 'проблема', 'участие', 'победа', 'представить', 'возможность', 'французский', 'являться', 'команда', 'германия', 'выставка', 'футбол', 'государство', 'писать', 'сотрудничество', 'иск', 'обсудить', 'ванкувер', 'евро', 'история', 'призвать', 'американский', 'национальный', 'федерация', 'первое', 'известный', 'форум', 'заявление', 'торг', 'сайт', 'телеканал', 'журналист', 'спортивный', 'биржа', 'испания', 'рассказать', 'высокий', 'готовый', 'смочь', 'бывший', 'россиянин', 'впервые', 'матч']\n",
            "17 ['республика', 'район', 'край', 'руководитель', 'киргизия', 'обнаружить', 'провинция', 'сотрудник', 'начальник', 'государственный', 'помощь', 'около', 'судебный', 'здание', 'территория', 'федеральный', 'юг', 'взрыв', 'мчс', 'говориться', 'отдел', 'министерство', 'комиссия', 'ситуация', 'защита', 'округа', 'северный', 'дом', 'заместитель', 'нефть', 'обвинять', 'региональный', 'газа', 'пострадавший', 'дагестан', 'гражданин', 'средство', 'погибший', 'великий', 'департамент', 'передавать', 'строительство', 'находиться', 'число', 'семья', 'южный', 'вод', 'развитие', 'военный', 'афганистан', 'журналист', 'сообщение', 'направить', 'задержать', 'остров', 'рабочий', 'сообщаться', 'поддержка', 'война', 'шахта', 'дать', 'комплекс', 'режим', 'авария', 'произойти', 'житель', 'ведомство', 'подозревать', 'пострадать', 'неизвестный', 'ссылка', 'мвд', 'землетрясение', 'организация', 'образование', 'отечественный', 'центральный', 'ход', 'администрация', 'ряд', 'также', 'столица', 'экономический', 'погибнуть', 'факт', 'гаити', 'производство', 'культура', 'орган', 'площадь', 'регион', 'китай', 'вопрос', 'посвятить', 'часть', 'предприятие', 'информация', 'создать', 'областной', 'найти']\n",
            "18 ['писать', 'против', 'британский', 'иск', 'американский', 'передавать', 'мир', 'считать', 'бывший', 'мировой', 'известный', 'рамка', 'футбольный', 'договор', 'лидер', 'решение', 'французский', 'объявить', 'закон', 'призвать', 'представить', 'выступать', 'член', 'европейский', 'иностранный', 'намерить', 'акция', 'признать', 'иран', 'финансовый', 'доллар', 'лига', 'испания', 'новый', 'говориться', 'открытый', 'продажа', 'должный', 'заседание', 'отношение', 'заявление', 'назвать', 'грузия', 'мэр', 'проведение', 'европа', 'право', 'новое', 'рассмотреть', 'ссылка', 'поддержка', 'хороший', 'история', 'являться', 'израиль', 'планировать', 'председатель', 'соглашение', 'интервью', 'участник', 'возможность', 'михаил', 'греция', 'русский', 'предлагать', 'направить', 'изменение', 'срок', 'франция', 'политика', 'защита', 'ядерный', 'обвинять', 'проводить', 'это', 'зал', 'самый', 'провести', 'рассказать', 'переговоры', 'ряд', 'создание', 'впервые', 'германия', 'юрий', 'итог', 'газета', 'оон', 'футболист', 'встреча', 'опубликовать', 'руководство', 'программа', 'начать', 'сообщаться', 'экономический', 'генеральный', 'подготовка', 'игра', 'сообщение']\n",
            "19 ['край', 'театр', 'больница', 'школа', 'зал', 'скончаться', 'дорога', 'областной', 'пожар', 'обнаружить', 'городской', 'петербург', 'площадь', 'здание', 'район', 'имя', 'дом', 'детский', 'гувд', 'сотрудник', 'пострадать', 'губернатор', 'руководитель', 'евгений', 'начальник', 'подмосковье', 'столичный', 'милиционер', 'источник', 'фестиваль', 'дтп', 'место', 'мчс', 'около', 'великий', 'округа', 'машина', 'автомобиль', 'оао', 'открыться', 'жизнь', 'неизвестный', 'специалист', 'дата', 'иск', 'найти', 'милиция', 'александр', 'образование', 'самый', 'рассказать', 'региональный', 'культура', 'депутат', 'ночь', 'станция', 'отечественный', 'составить', 'известный', 'получить', 'составлять', 'возбудить', 'следственный', 'появиться', 'обвинять', 'отдел', 'поезд', 'открыть', 'четыре', 'ветеран', 'факт', 'житель', 'дать', 'русский', 'погибнуть', 'остаться', 'сообщаться', 'директор', 'семь', 'передавать', 'правоохранительный', 'первое', 'корреспондент', 'вод', 'сообщение', 'подозревать', 'метро', 'выиграть', 'телефон', 'убийство', 'спорт', 'погибший', 'пять', 'шесть', 'сайт', 'вырастить', 'алексей', 'хороший', 'скп', 'андрей']\n",
            "20 ['бывший', 'начальник', 'обвинять', 'военный', 'убийство', 'милиция', 'край', 'руководитель', 'сила', 'детский', 'суббота', 'член', 'округа', 'александр', 'северный', 'воскресение', 'мвд', 'юрий', 'афганистан', 'депутат', 'губернатор', 'право', 'республика', 'подозревать', 'главный', 'организация', 'сотрудник', 'имя', 'подготовка', 'защита', 'признать', 'известный', 'пост', 'создать', 'состав', 'уголовный', 'направить', 'задержать', 'предлагать', 'николай', 'участие', 'михаил', 'скончаться', 'находиться', 'нарушение', 'южный', 'милиционер', 'мэр', 'отдел', 'гражданин', 'руководство', 'безопасность', 'больница', 'русский', 'житель', 'назначить', 'группа', 'здание', 'заместитель', 'борьба', 'грузия', 'школа', 'найти', 'место', 'генеральный', 'полиция', 'председатель', 'работать', 'евгений', 'семья', 'комитет', 'образование', 'должный', 'создание', 'владимир', 'польша', 'территория', 'ветеран', 'погибший', 'получить', 'интервью', 'спортивный', 'также', 'новое', 'строительство', 'участник', 'дтп', 'культура', 'назвать', 'провинция', 'время', 'внутренний', 'жизнь', 'весь', 'факт', 'государственный', 'сочи', 'спорт', 'сергей', 'являться']\n",
            "21 ['остров', 'землетрясение', 'обнаружить', 'житель', 'вод', 'фон', 'юг', 'провинция', 'пресс', 'ссылка', 'сми', 'район', 'несколько', 'газета', 'аэропорт', 'полиция', 'около', 'сообщаться', 'жертва', 'гражданин', 'ассошиэйтед', 'самый', 'турнир', 'дать', 'мир', 'поезд', 'местный', 'произойти', 'задержать', 'ночь', 'территория', 'теннисный', 'результат', 'южный', 'погибнуть', 'столица', 'рейтер', 'британский', 'объявить', 'китай', 'телеканал', 'семь', 'часть', 'автомобиль', 'франс', 'шесть', 'корреспондент', 'говориться', 'нефть', 'утром', 'число', 'мера', 'режим', 'опубликовать', 'месяц', 'писать', 'начать', 'гаити', 'пять', 'доллар', 'четыре', 'против', 'газа', 'здание', 'авария', 'воскресение', 'причина', 'американский', 'последний', 'пожар', 'евро', 'найти', 'открытый', 'греция', 'неизвестный', 'прокуратура', 'афганистан', 'суббота', 'правоохранительный', 'пострадать', 'продажа', 'получить', 'испания', 'проходить', 'вечером', 'сообщение', 'серия', 'факт', 'проведение', 'официальный', 'мочь', 'помощь', 'выбор', 'выйти', 'пострадавший', 'дом', 'находиться', 'милиционер', 'неделя', 'событие']\n",
            "22 ['опубликовать', 'госдума', 'торг', 'подписать', 'журналист', 'писать', 'фон', 'газета', 'ведомство', 'рассмотреть', 'закон', 'рассказать', 'заседание', 'обсудить', 'рынок', 'банка', 'владимир', 'цена', 'алексей', 'департамент', 'скп', 'средство', 'федерация', 'директор', 'развитие', 'выступать', 'фонд', 'судебный', 'игорь', 'иск', 'дата', 'александр', 'прокуратура', 'право', 'изменение', 'биржа', 'сообщаться', 'система', 'соглашение', 'политика', 'михаил', 'путин', 'оао', 'договор', 'юрий', 'рост', 'финансовый', 'источник', 'андрей', 'предприятие', 'экономический', 'доллар', 'свидетельствовать', 'спорт', 'срок', 'образование', 'сергей', 'признать', 'комитет', 'пресс', 'принять', 'дмитрий', 'евгений', 'вопрос', 'считать', 'объявить', 'уголовный', 'экономика', 'министерство', 'следственный', 'заявление', 'индекс', 'направить', 'возбудить', 'край', 'евро', 'вырастить', 'лига', 'обвинять', 'мировой', 'виктор', 'форум', 'округа', 'мид', 'ядерный', 'снизиться', 'представить', 'николай', 'сми', 'открыться', 'служба', 'союз', 'производство', 'совет', 'копейка', 'возможность', 'говориться', 'защита', 'сайт', 'нарушение']\n",
            "23 ['край', 'нарушение', 'зал', 'судебный', 'областной', 'директор', 'прокуратура', 'обвинять', 'начальник', 'школа', 'гувд', 'больница', 'дата', 'подозревать', 'столичный', 'сотрудник', 'городской', 'банка', 'дорога', 'сообщаться', 'газета', 'пресс', 'писать', 'продажа', 'дом', 'источник', 'здание', 'милиционер', 'автомобиль', 'местный', 'средство', 'самый', 'подмосковье', 'оао', 'вод', 'служба', 'петербург', 'руководитель', 'обнаружить', 'машина', 'специалист', 'мочь', 'скп', 'следственный', 'сообщение', 'закон', 'милиция', 'убийство', 'право', 'район', 'уголовный', 'информация', 'иск', 'пожар', 'поезд', 'следовать', 'общественный', 'региональный', 'защита', 'детский', 'система', 'дать', 'около', 'федеральный', 'остров', 'орган', 'транспорт', 'неизвестный', 'правоохранительный', 'отдел', 'предприятие', 'предлагать', 'жизнь', 'найти', 'срок', 'ассошиэйтед', 'корреспондент', 'семь', 'несколько', 'полиция', 'проверка', 'место', 'появиться', 'дагестан', 'житель', 'признать', 'пострадать', 'британский', 'главный', 'клуб', 'режим', 'месяц', 'станция', 'крупный', 'причина', 'производство', 'это', 'евро', 'имя', 'шесть']\n",
            "24 ['здание', 'дом', 'судебный', 'департамент', 'район', 'предприятие', 'строительство', 'городской', 'комплекс', 'сотрудник', 'государственный', 'взрыв', 'отдел', 'иск', 'комиссия', 'средство', 'округа', 'обнаружить', 'областной', 'республика', 'пострадавший', 'сообщение', 'около', 'источник', 'руководитель', 'говориться', 'нефть', 'защита', 'киргизия', 'помощь', 'станция', 'производство', 'следовать', 'газа', 'орган', 'оао', 'зал', 'рынок', 'петербург', 'заместитель', 'организация', 'администрация', 'находиться', 'журналист', 'семья', 'территория', 'проект', 'подмосковье', 'площадь', 'акция', 'фонд', 'сообщаться', 'региональный', 'неизвестный', 'развитие', 'ряд', 'ведомство', 'обвинять', 'поддержка', 'великий', 'произойти', 'число', 'транспорт', 'информация', 'открыться', 'закон', 'шахта', 'образование', 'подозревать', 'корреспондент', 'задержать', 'передавать', 'рассмотреть', 'писать', 'федеральный', 'нарушение', 'направить', 'рассказать', 'отечественный', 'столица', 'ситуация', 'начальник', 'пожар', 'культура', 'автомобиль', 'система', 'пострадать', 'прокуратура', 'факт', 'цена', 'дагестан', 'крупный', 'провинция', 'министерство', 'вопрос', 'начаться', 'вод', 'дать', 'выставка', 'утром']\n",
            "25 ['скончаться', 'выиграть', 'турнир', 'тренер', 'ссылка', 'чемпион', 'теннисный', 'известный', 'прибыть', 'кубок', 'фестиваль', 'финал', 'визит', 'копейка', 'посетить', 'погибнуть', 'андрей', 'вечером', 'неизвестный', 'землетрясение', 'встреча', 'сборный', 'футболист', 'евгений', 'суббота', 'провинция', 'больница', 'воскресение', 'имя', 'выйти', 'телеканал', 'проходить', 'ночь', 'французский', 'театр', 'состояться', 'команда', 'пострадать', 'гаити', 'алексей', 'погибший', 'игорь', 'ванкувер', 'открыться', 'клуб', 'сборная', 'утром', 'обнаружить', 'пресс', 'круг', 'остров', 'испания', 'серия', 'матч', 'открыть', 'михаил', 'тур', 'интервью', 'франция', 'открытие', 'бывший', 'цска', 'чемпионат', 'рейтер', 'телефон', 'сергей', 'евро', 'мчс', 'убийство', 'николай', 'хороший', 'ассошиэйтед', 'жертва', 'британский', 'пройти', 'составлять', 'мид', 'официальный', 'лига', 'александр', 'остаться', 'выставка', 'правоохранительный', 'германия', 'полиция', 'назвать', 'дтп', 'зал', 'семь', 'мир', 'газета', 'шесть', 'курс', 'четыре', 'олимпийский', 'победа', 'жизнь', 'турция', 'польша', 'главный']\n",
            "26 ['скп', 'служба', 'край', 'мвд', 'гувд', 'тренер', 'обвинять', 'дагестан', 'игорь', 'ведомство', 'прокуратура', 'банка', 'следственный', 'алексей', 'милиция', 'судебный', 'правоохранительный', 'андрей', 'проверка', 'нарушение', 'интервью', 'убийство', 'пока', 'подозревать', 'орган', 'отдел', 'информация', 'россиянин', 'больница', 'николай', 'полиция', 'милиционер', 'дата', 'александр', 'нефть', 'пресс', 'михаил', 'газа', 'владимир', 'внутренний', 'бывший', 'белоруссия', 'телефон', 'сергей', 'газета', 'клуб', 'борьба', 'мчс', 'средство', 'евгений', 'предлагать', 'пост', 'шахта', 'мочь', 'футболист', 'сми', 'оао', 'гражданин', 'мера', 'республика', 'защита', 'биржа', 'считать', 'юрий', 'заявление', 'право', 'режим', 'причина', 'уголовный', 'телеканал', 'предприятие', 'мид', 'решение', 'рейтер', 'сборный', 'семья', 'дать', 'сотрудник', 'начальник', 'машина', 'киргизия', 'отношение', 'система', 'цска', 'политика', 'виктор', 'заместитель', 'местный', 'партия', 'ситуация', 'закон', 'округа', 'это', 'взрыв', 'продажа', 'специалист', 'рост', 'команда', 'федеральный', 'греция']\n",
            "27 ['станция', 'вод', 'департамент', 'следственный', 'сообщаться', 'метро', 'миллиард', 'обнаружить', 'отдел', 'оао', 'край', 'подмосковье', 'столичный', 'транспорт', 'говориться', 'комплекс', 'дорога', 'вырастить', 'культура', 'пострадавший', 'больница', 'детский', 'городской', 'район', 'следовать', 'снизиться', 'спорт', 'сочи', 'автомобиль', 'пострадать', 'сайт', 'специалист', 'мчс', 'аэропорт', 'находиться', 'алексей', 'производство', 'проверка', 'машина', 'строительство', 'авария', 'пожар', 'период', 'погибнуть', 'спортивный', 'зал', 'школа', 'рассказать', 'министерство', 'предприятие', 'дом', 'средство', 'факт', 'сообщение', 'программа', 'поезд', 'источник', 'областной', 'скп', 'имя', 'август', 'заместитель', 'олимпийский', 'составить', 'петербург', 'ассошиэйтед', 'завершить', 'копейка', 'возбудить', 'остров', 'цена', 'информация', 'произойти', 'скончаться', 'евгений', 'помощь', 'подготовка', 'продажа', 'около', 'получить', 'игорь', 'ведомство', 'открыть', 'образование', 'писать', 'составлять', 'утром', 'подозревать', 'уголовный', 'январь', 'федеральный', 'появиться', 'работать', 'служба', 'конец', 'работа', 'сергей', 'июль', 'нефть', 'начальник']\n",
            "28 ['передавать', 'лидер', 'теннисный', 'выиграть', 'матч', 'турнир', 'футболист', 'тур', 'кубок', 'финал', 'польша', 'сборная', 'футбол', 'сборный', 'британский', 'команда', 'состав', 'считать', 'погибший', 'мир', 'американский', 'французский', 'германия', 'самый', 'известный', 'жертва', 'чемпион', 'серия', 'воскресение', 'причина', 'испания', 'право', 'сайт', 'хороший', 'писать', 'футбольный', 'место', 'ванкувер', 'франция', 'сообщаться', 'сообщение', 'решение', 'история', 'грузия', 'назвать', 'пресс', 'израиль', 'член', 'открытый', 'смочь', 'суббота', 'признать', 'против', 'турция', 'выбор', 'говориться', 'найти', 'россиянин', 'рейтер', 'европа', 'ассошиэйтед', 'победа', 'впервые', 'круг', 'призвать', 'выйти', 'переговоры', 'чемпионат', 'остров', 'погибнуть', 'дать', 'руководство', 'тренер', 'цска', 'европейский', 'национальный', 'зал', 'четыре', 'мировой', 'последний', 'семья', 'франс', 'результат', 'шесть', 'помочь', 'большой', 'пока', 'семь', 'договор', 'визит', 'весь', 'посетить', 'олимпийский', 'южный', 'игра', 'готовый', 'мочь', 'обнаружить', 'соглашение', 'намерить']\n",
            "29 ['турнир', 'европа', 'чемпион', 'интервью', 'кубок', 'теннисный', 'выиграть', 'финал', 'ванкувер', 'франция', 'сборная', 'итог', 'лига', 'сборный', 'европейский', 'греция', 'лидер', 'украинский', 'телеканал', 'чемпионат', 'круг', 'германия', 'мир', 'национальный', 'экономика', 'хороший', 'союз', 'корреспондент', 'выступать', 'выйти', 'французский', 'федерация', 'финансовый', 'русский', 'фонд', 'выставка', 'победа', 'гаити', 'фестиваль', 'тренер', 'открытие', 'мировой', 'команда', 'испания', 'ссылка', 'землетрясение', 'поддержка', 'проходить', 'открытый', 'встреча', 'сотрудничество', 'государство', 'евро', 'визит', 'биржа', 'игра', 'рассказать', 'форум', 'янукович', 'театр', 'андрей', 'британский', 'россиянин', 'большой', 'переговоры', 'евгений', 'посетить', 'первое', 'футбол', 'рейтер', 'пресс', 'цска', 'представить', 'открыться', 'впервые', 'зал', 'тур', 'посвятить', 'участие', 'николай', 'франс', 'фон', 'польша', 'главный', 'история', 'олимпийский', 'копейка', 'имя', 'считать', 'миллиард', 'игорь', 'известный', 'состояться', 'председатель', 'уровень', 'составлять', 'пройти', 'смочь', 'свидетельствовать', 'назвать']\n",
            "30 ['гувд', 'евгений', 'скп', 'полиция', 'тренер', 'правоохранительный', 'николай', 'отдел', 'сми', 'газета', 'михаил', 'пресс', 'мвд', 'мчс', 'опубликовать', 'обвинять', 'судебный', 'дата', 'телеканал', 'известный', 'имя', 'александр', 'игорь', 'алексей', 'интервью', 'андрей', 'телефон', 'подозревать', 'больница', 'борьба', 'бывший', 'чемпион', 'ведомство', 'защита', 'круг', 'неизвестный', 'прокуратура', 'выиграть', 'служба', 'пострадать', 'милиция', 'дагестан', 'теннисный', 'мид', 'финал', 'считать', 'ссылка', 'провинция', 'лидер', 'назвать', 'клуб', 'выступать', 'помощь', 'сборный', 'футболист', 'партия', 'милиционер', 'писать', 'погибнуть', 'право', 'сергей', 'возбудить', 'фонд', 'директор', 'вечером', 'обнаружить', 'федерация', 'составлять', 'убийство', 'дтп', 'цска', 'юрий', 'команда', 'украинский', 'признать', 'скончаться', 'задержать', 'следственный', 'начальник', 'гаити', 'источник', 'администрация', 'находиться', 'руководитель', 'общественный', 'являться', 'член', 'лига', 'движение', 'информация', 'специалист', 'заявление', 'пострадавший', 'афганистан', 'утром', 'турнир', 'помочь', 'найти', 'рейтер', 'владимир']\n",
            "31 ['тренер', 'театр', 'губернатор', 'гувд', 'клуб', 'сообщение', 'скп', 'мчс', 'заявление', 'отдел', 'столичный', 'чемпионат', 'телеканал', 'известный', 'интервью', 'телефон', 'союз', 'украинский', 'местный', 'сборный', 'команда', 'администрация', 'чемпион', 'мвд', 'больница', 'округа', 'мид', 'партия', 'футболист', 'андрей', 'руководитель', 'игорь', 'главный', 'евгений', 'николай', 'министр', 'спорт', 'ведомство', 'пост', 'корреспондент', 'республика', 'цска', 'федерация', 'департамент', 'александр', 'победа', 'директор', 'мэр', 'правоохранительный', 'официальный', 'председатель', 'фестиваль', 'дтп', 'полиция', 'информация', 'турнир', 'городской', 'комитет', 'встреча', 'ванкувер', 'алексей', 'скончаться', 'дата', 'футбольный', 'имя', 'газета', 'лидер', 'дмитрий', 'убийство', 'следственный', 'служба', 'визит', 'кубок', 'региональный', 'форум', 'регион', 'михаил', 'источник', 'движение', 'круг', 'дагестан', 'пострадать', 'генеральный', 'орган', 'матч', 'столица', 'заместитель', 'судебный', 'дом', 'дорога', 'место', 'политика', 'польша', 'край', 'парламент', 'финал', 'аэропорт', 'депутат', 'вопрос', 'начальник']\n",
            "32 ['больница', 'неизвестный', 'дом', 'район', 'скончаться', 'обнаружить', 'погибнуть', 'здание', 'утром', 'пострадать', 'милиционер', 'вечером', 'правоохранительный', 'провинция', 'гувд', 'дтп', 'полиция', 'ночь', 'метро', 'край', 'скп', 'следственный', 'машина', 'взрыв', 'милиция', 'столичный', 'место', 'жизнь', 'убийство', 'воскресение', 'петербург', 'отдел', 'жертва', 'мчс', 'местный', 'результат', 'поезд', 'житель', 'зал', 'дагестан', 'телеканал', 'погибший', 'известный', 'суббота', 'остров', 'школа', 'станция', 'имя', 'пострадавший', 'городской', 'найти', 'театр', 'площадь', 'автомобиль', 'подмосковье', 'пожар', 'подозревать', 'факт', 'самый', 'ассошиэйтед', 'дорога', 'серия', 'детский', 'несколько', 'пресс', 'столица', 'семь', 'газета', 'копейка', 'матч', 'вод', 'теракт', 'юг', 'евгений', 'областной', 'причина', 'сотрудник', 'фестиваль', 'обвинять', 'задержать', 'возбудить', 'телефон', 'дать', 'произойти', 'ссылка', 'около', 'выиграть', 'источник', 'остаться', 'шесть', 'начальник', 'ванкувер', 'движение', 'общественный', 'тур', 'семья', 'сми', 'орган', 'писать', 'землетрясение']\n",
            "33 ['кубок', 'турнир', 'выиграть', 'теннисный', 'финал', 'участие', 'национальный', 'сборный', 'хороший', 'чемпион', 'европа', 'открытый', 'победа', 'чемпионат', 'сборная', 'выйти', 'тренер', 'футболист', 'олимпийский', 'футбол', 'русский', 'выступать', 'передавать', 'цска', 'фестиваль', 'франция', 'мировой', 'французский', 'евгений', 'ванкувер', 'имя', 'интервью', 'владимир', 'мир', 'посетить', 'матч', 'спорт', 'открытие', 'выставка', 'состав', 'официальный', 'германия', 'спортивный', 'проходить', 'британский', 'команда', 'решение', 'итог', 'союз', 'впервые', 'пройти', 'представить', 'встреча', 'андрей', 'завершить', 'открыться', 'назвать', 'самый', 'соглашение', 'американский', 'главный', 'известный', 'большой', 'круг', 'россиянин', 'европейский', 'лига', 'остров', 'высокий', 'новый', 'говориться', 'сайт', 'футбольный', 'николай', 'договор', 'первое', 'игра', 'начальник', 'серия', 'смочь', 'посвятить', 'сергей', 'подписать', 'испания', 'история', 'состояться', 'ядерный', 'защита', 'информация', 'игорь', 'культура', 'готовый', 'ближний', 'остаться', 'визит', 'следственный', 'алексей', 'последний', 'переговоры', 'суббота']\n",
            "34 ['скп', 'гувд', 'отдел', 'оао', 'больница', 'дорога', 'начальник', 'директор', 'мчс', 'департамент', 'театр', 'руководитель', 'район', 'следственный', 'станция', 'детский', 'дом', 'скончаться', 'край', 'обнаружить', 'прокуратура', 'школа', 'зал', 'источник', 'алексей', 'округа', 'пострадать', 'александр', 'городской', 'пожар', 'имя', 'евгений', 'милиция', 'губернатор', 'комплекс', 'судебный', 'петербург', 'обвинять', 'подозревать', 'предприятие', 'возбудить', 'подмосковье', 'областной', 'милиционер', 'специалист', 'рассказать', 'автомобиль', 'неизвестный', 'иск', 'машина', 'сотрудник', 'служба', 'андрей', 'дата', 'столичный', 'правоохранительный', 'дтп', 'факт', 'проверка', 'метро', 'уголовный', 'владимир', 'строительство', 'здание', 'игорь', 'юрий', 'администрация', 'клуб', 'образование', 'поезд', 'транспорт', 'культура', 'вод', 'нарушение', 'мэр', 'телефон', 'заместитель', 'следовать', 'известный', 'продажа', 'сообщаться', 'фестиваль', 'появиться', 'утром', 'убийство', 'открыться', 'площадь', 'ведомство', 'сергей', 'главный', 'найти', 'производство', 'взрыв', 'вырастить', 'жизнь', 'орган', 'погибнуть', 'спортивный', 'житель', 'сочи']\n",
            "35 ['сборный', 'турнир', 'сборная', 'считать', 'команда', 'михаил', 'переговоры', 'мид', 'говориться', 'теннисный', 'соглашение', 'кубок', 'визит', 'тренер', 'лидер', 'газа', 'иностранный', 'николай', 'договор', 'чемпионат', 'свидетельствовать', 'казахстан', 'польша', 'назвать', 'бывший', 'сотрудничество', 'игорь', 'экономика', 'союз', 'выиграть', 'передавать', 'финал', 'подписать', 'встреча', 'чемпион', 'сергей', 'белоруссия', 'израиль', 'виктор', 'лига', 'пост', 'отношение', 'состав', 'нефть', 'партия', 'обвинять', 'являться', 'круг', 'борьба', 'германия', 'скп', 'признать', 'турция', 'франция', 'футболист', 'сми', 'сообщаться', 'алексей', 'ядерный', 'совет', 'дмитрий', 'выступать', 'андрей', 'убийство', 'руководство', 'федерация', 'матч', 'пресс', 'крупный', 'евгений', 'призвать', 'заявление', 'право', 'хороший', 'александр', 'россиянин', 'сайт', 'посетить', 'парламент', 'готовый', 'испания', 'дать', 'курс', 'фон', 'история', 'цска', 'иран', 'китай', 'изменение', 'американский', 'гражданин', 'причина', 'дата', 'обсудить', 'государство', 'опубликовать', 'составлять', 'тур', 'также', 'прибыть']\n",
            "36 ['здание', 'взрыв', 'дом', 'киргизия', 'республика', 'государственный', 'сотрудник', 'округа', 'руководитель', 'судебный', 'городской', 'начальник', 'район', 'предприятие', 'отдел', 'орган', 'департамент', 'областной', 'уголовный', 'пожар', 'строительство', 'источник', 'пострадавший', 'неизвестный', 'газа', 'иск', 'проверка', 'комиссия', 'шахта', 'прокуратура', 'заместитель', 'подмосковье', 'средство', 'служба', 'ведомство', 'территория', 'комплекс', 'произойти', 'обнаружить', 'сообщение', 'ситуация', 'нефть', 'провинция', 'станция', 'журналист', 'оао', 'находиться', 'ряд', 'региональный', 'нарушение', 'направить', 'обвинять', 'производство', 'дагестан', 'возбудить', 'говориться', 'петербург', 'подозревать', 'факт', 'помощь', 'защита', 'система', 'следовать', 'федеральный', 'утром', 'директор', 'рассмотреть', 'авария', 'военный', 'организация', 'режим', 'сообщаться', 'транспорт', 'министерство', 'закон', 'край', 'местный', 'заявление', 'семья', 'информация', 'владимир', 'пострадать', 'столичный', 'писать', 'связь', 'вопрос', 'задержать', 'теракт', 'метро', 'ночь', 'председатель', 'член', 'юг', 'газета', 'работа', 'признать', 'проводить', 'ход', 'администрация', 'передавать']\n",
            "37 ['передавать', 'федеральный', 'владимир', 'дмитрий', 'александр', 'край', 'сергей', 'считать', 'подготовка', 'евгений', 'детский', 'сотрудник', 'сообщение', 'начальник', 'казахстан', 'отечественный', 'рассказать', 'спортивный', 'руководитель', 'ветеран', 'мероприятие', 'игорь', 'предлагать', 'планировать', 'оао', 'великий', 'участник', 'также', 'алексей', 'средство', 'андрей', 'рассмотреть', 'белоруссия', 'рамка', 'госдума', 'участие', 'курс', 'юрий', 'работа', 'проверка', 'направить', 'образование', 'победа', 'олимпийский', 'николай', 'говориться', 'заседание', 'первое', 'май', 'программа', 'пожар', 'государственный', 'посвятить', 'смочь', 'спорт', 'ванкувер', 'место', 'создание', 'строительство', 'должный', 'единый', 'заместитель', 'июль', 'школа', 'июнь', 'россиянин', 'договор', 'ход', 'завершить', 'принять', 'форум', 'суббота', 'намерить', 'апрель', 'высокий', 'уголовный', 'виктор', 'соглашение', 'период', 'воскресение', 'открытый', 'большой', 'совет', 'вопрос', 'сочи', 'уровень', 'сборная', 'возможность', 'число', 'снизиться', 'дорога', 'весь', 'погибший', 'открытие', 'столичный', 'председатель', 'новое', 'внутренний', 'срок', 'русский']\n",
            "38 ['обнаружить', 'остров', 'мчс', 'землетрясение', 'полиция', 'теннисный', 'найти', 'воскресение', 'неизвестный', 'больница', 'суббота', 'провинция', 'жертва', 'несколько', 'погибнуть', 'пострадать', 'скончаться', 'вод', 'известный', 'сообщаться', 'корреспондент', 'пресс', 'аэропорт', 'скп', 'находиться', 'убийство', 'турнир', 'самый', 'ассошиэйтед', 'жизнь', 'телеканал', 'около', 'юг', 'выиграть', 'считать', 'россиянин', 'финал', 'ссылка', 'семь', 'пострадавший', 'гаити', 'выйти', 'мир', 'американский', 'британский', 'станция', 'писать', 'задержать', 'составлять', 'сми', 'обвинять', 'газета', 'сборный', 'футболист', 'получить', 'остаться', 'поезд', 'машина', 'подозревать', 'смочь', 'погибший', 'дом', 'хороший', 'рейтер', 'имя', 'правоохранительный', 'французский', 'серия', 'мочь', 'район', 'шесть', 'назвать', 'главный', 'помочь', 'четыре', 'милиционер', 'телефон', 'семья', 'тренер', 'отдел', 'житель', 'история', 'местный', 'пять', 'утром', 'появиться', 'последний', 'южный', 'испания', 'часть', 'помощь', 'чемпион', 'пока', 'гувд', 'большой', 'причина', 'являться', 'дагестан', 'служба', 'сборная']\n",
            "39 ['мид', 'переговоры', 'сборный', 'министр', 'лидер', 'иностранный', 'визит', 'ссылка', 'встреча', 'сборная', 'турнир', 'команда', 'партия', 'иран', 'израиль', 'сотрудничество', 'оон', 'заявление', 'соглашение', 'германия', 'пресс', 'тренер', 'подписать', 'фон', 'белоруссия', 'турция', 'договор', 'рейтер', 'обсудить', 'парламент', 'чемпионат', 'государство', 'франция', 'теннисный', 'сми', 'греция', 'федерация', 'матч', 'виктор', 'выступать', 'ядерный', 'пост', 'грузия', 'кубок', 'польша', 'телеканал', 'футбол', 'национальный', 'экономика', 'афганистан', 'казахстан', 'игорь', 'михаил', 'лига', 'испания', 'европейский', 'сила', 'итог', 'николай', 'официальный', 'считать', 'выбор', 'союз', 'чемпион', 'газета', 'янукович', 'китай', 'финал', 'бывший', 'европа', 'доллар', 'финансовый', 'борьба', 'против', 'министерство', 'украинский', 'круг', 'опубликовать', 'призвать', 'совет', 'сергей', 'полиция', 'политика', 'внутренний', 'андрей', 'нефть', 'футболист', 'евро', 'прибыть', 'руководство', 'гаити', 'газа', 'комитет', 'свидетельствовать', 'экономический', 'назвать', 'выиграть', 'председатель', 'британский', 'победа']\n",
            "40 ['остров', 'ссылка', 'нефть', 'обнаружить', 'мчс', 'газа', 'фон', 'сайт', 'вод', 'американский', 'пресс', 'считать', 'сообщаться', 'теннисный', 'ассошиэйтед', 'крупный', 'землетрясение', 'рейтер', 'часть', 'кубок', 'гаити', 'турнир', 'помощь', 'борьба', 'биржа', 'франс', 'причина', 'свидетельствовать', 'поезд', 'говориться', 'государство', 'индекс', 'французский', 'найти', 'европейский', 'сообщение', 'шахта', 'копейка', 'китай', 'также', 'ядерный', 'авария', 'финал', 'составлять', 'автомобиль', 'выиграть', 'жертва', 'германия', 'серия', 'британский', 'франция', 'сборная', 'афганистан', 'казахстан', 'производство', 'машина', 'израиль', 'погибнуть', 'мировой', 'следовать', 'национальный', 'евро', 'система', 'станция', 'испания', 'шесть', 'выйти', 'аэропорт', 'находиться', 'военный', 'самый', 'мочь', 'смочь', 'четыре', 'провинция', 'утром', 'состав', 'задержать', 'семь', 'история', 'круг', 'пострадавший', 'число', 'оао', 'помочь', 'турция', 'пострадать', 'являться', 'специалист', 'польша', 'дагестан', 'курс', 'сборный', 'дать', 'получить', 'писать', 'завершить', 'информация', 'иностранный', 'назвать']\n",
            "41 ['турнир', 'скп', 'теннисный', 'дата', 'копейка', 'мид', 'евро', 'пресс', 'андрей', 'круг', 'газета', 'чемпион', 'чемпионат', 'кубок', 'лига', 'тренер', 'финал', 'биржа', 'игорь', 'алексей', 'доллар', 'скончаться', 'торг', 'телеканал', 'матч', 'выиграть', 'михаил', 'евгений', 'рейтер', 'гувд', 'обвинять', 'фонд', 'клуб', 'составлять', 'убийство', 'зал', 'сми', 'николай', 'фон', 'курс', 'цска', 'ведомство', 'сборный', 'франция', 'бывший', 'выйти', 'ссылка', 'испания', 'судебный', 'футболист', 'больница', 'банка', 'свидетельствовать', 'сергей', 'индекс', 'полиция', 'опубликовать', 'сайт', 'серия', 'встреча', 'нефть', 'выступать', 'германия', 'россиянин', 'заявление', 'греция', 'французский', 'известный', 'администрация', 'команда', 'владимир', 'виктор', 'визит', 'иск', 'александр', 'прокуратура', 'официальный', 'отдел', 'тур', 'писать', 'ассошиэйтед', 'ванкувер', 'спорт', 'министерство', 'назвать', 'интервью', 'мчс', 'снизиться', 'край', 'федерация', 'футбольный', 'турция', 'гаити', 'землетрясение', 'игра', 'государство', 'следовать', 'пост', 'комитет', 'американский']\n",
            "42 ['журналист', 'передавать', 'сообщаться', 'опубликовать', 'ссылка', 'александр', 'путин', 'юрий', 'дмитрий', 'сергей', 'проверка', 'сообщение', 'встреча', 'писать', 'возбудить', 'федеральный', 'внутренний', 'безопасность', 'заседание', 'футбол', 'говориться', 'андрей', 'выступать', 'провести', 'матч', 'уголовный', 'сила', 'сборный', 'факт', 'вырастить', 'виктор', 'бывший', 'владимир', 'борьба', 'руководство', 'мид', 'составить', 'гаити', 'подписать', 'футболист', 'алексей', 'милиция', 'снизиться', 'министр', 'создать', 'команда', 'принять', 'пожар', 'проводить', 'ход', 'афганистан', 'составлять', 'правоохранительный', 'переговоры', 'детский', 'игорь', 'евгений', 'обсудить', 'доллар', 'казахстан', 'транспорт', 'следственный', 'ядерный', 'отношение', 'считать', 'лига', 'футбольный', 'готовый', 'тренер', 'финал', 'направить', 'полиция', 'совет', 'генеральный', 'нарушение', 'выиграть', 'получить', 'объявить', 'финансовый', 'результат', 'китай', 'николай', 'назначить', 'помочь', 'период', 'мвд', 'число', 'являться', 'серия', 'подготовка', 'взрыв', 'закон', 'произойти', 'главный', 'завершить', 'министерство', 'иран', 'ближний', 'неизвестный', 'турция']\n",
            "43 ['погибнуть', 'неизвестный', 'обнаружить', 'поезд', 'больница', 'утром', 'пострадать', 'погибший', 'ночь', 'дтп', 'милиционер', 'автомобиль', 'машина', 'остров', 'футболист', 'вечером', 'жертва', 'матч', 'воскресение', 'скончаться', 'дагестан', 'полиция', 'сайт', 'найти', 'правоохранительный', 'провинция', 'взрыв', 'ассошиэйтед', 'скп', 'задержать', 'район', 'убийство', 'пострадавший', 'следственный', 'ссылка', 'землетрясение', 'суббота', 'авария', 'выиграть', 'сообщаться', 'клуб', 'местный', 'телефон', 'несколько', 'британский', 'аэропорт', 'семь', 'факт', 'произойти', 'пресс', 'команда', 'шесть', 'получить', 'здание', 'четыре', 'серия', 'остаться', 'дорога', 'юг', 'сообщение', 'передавать', 'дом', 'результат', 'милиция', 'известный', 'житель', 'польша', 'находиться', 'телеканал', 'рейтер', 'около', 'метро', 'выйти', 'место', 'пожар', 'край', 'сборный', 'причина', 'американский', 'прибыть', 'пять', 'французский', 'подозревать', 'газета', 'тур', 'источник', 'шахта', 'финал', 'футбол', 'тренер', 'теракт', 'прокуратура', 'цска', 'испания', 'гаити', 'вод', 'гражданин', 'служба', 'пока', 'семья']\n",
            "44 ['скп', 'мчс', 'мвд', 'гувд', 'служба', 'больница', 'отдел', 'ведомство', 'начальник', 'прокуратура', 'следственный', 'дагестан', 'край', 'пострадать', 'мид', 'милиция', 'орган', 'республика', 'дата', 'департамент', 'комитет', 'игорь', 'пострадавший', 'округа', 'милиционер', 'сергей', 'погибнуть', 'район', 'полиция', 'провинция', 'обвинять', 'подозревать', 'дтп', 'правоохранительный', 'задержать', 'неизвестный', 'областной', 'киргизия', 'алексей', 'судебный', 'телефон', 'николай', 'александр', 'информация', 'руководитель', 'сотрудник', 'администрация', 'губернатор', 'владимир', 'утром', 'андрей', 'заместитель', 'министерство', 'взрыв', 'возбудить', 'сми', 'региональный', 'источник', 'транспорт', 'проверка', 'председатель', 'уголовный', 'заявление', 'комиссия', 'убийство', 'юрий', 'клуб', 'ситуация', 'внутренний', 'безопасность', 'министр', 'телеканал', 'теракт', 'белоруссия', 'произойти', 'шахта', 'режим', 'аэропорт', 'находиться', 'казахстан', 'пожар', 'виктор', 'погибший', 'вечером', 'местный', 'нарушение', 'евгений', 'газа', 'машина', 'землетрясение', 'гражданин', 'турция', 'бывший', 'помощь', 'дорога', 'генеральный', 'гаити', 'афганистан', 'движение', 'ссылка']\n",
            "45 ['тренер', 'скончаться', 'сборный', 'спорт', 'польша', 'турнир', 'грузия', 'лидер', 'чемпион', 'мид', 'визит', 'команда', 'кубок', 'русский', 'финал', 'назвать', 'николай', 'федерация', 'матч', 'ванкувер', 'жизнь', 'национальный', 'евгений', 'победа', 'проходить', 'призвать', 'теннисный', 'комитет', 'парламент', 'министр', 'больница', 'встреча', 'культура', 'сборная', 'пост', 'состояться', 'афганистан', 'республика', 'выбор', 'германия', 'интервью', 'событие', 'андрей', 'лига', 'телеканал', 'полиция', 'провинция', 'испания', 'олимпийский', 'сми', 'главный', 'мэр', 'оон', 'землетрясение', 'дата', 'официальный', 'игра', 'киргизия', 'выиграть', 'считать', 'тур', 'футбол', 'выступать', 'юрий', 'известный', 'имя', 'украинский', 'председатель', 'посвятить', 'александр', 'жертва', 'общественный', 'погибший', 'пройти', 'политика', 'круг', 'посетить', 'футболист', 'пресс', 'борьба', 'россиянин', 'виктор', 'гаити', 'против', 'бывший', 'убийство', 'мвд', 'цска', 'партия', 'ссылка', 'местный', 'израиль', 'история', 'губернатор', 'франция', 'сила', 'член', 'иностранный', 'прибыть', 'отдел']\n",
            "46 ['олимпийский', 'хороший', 'мир', 'фестиваль', 'спорт', 'чемпион', 'передавать', 'ванкувер', 'самый', 'спортивный', 'выиграть', 'мировой', 'кубок', 'открытие', 'представить', 'европа', 'рассказать', 'русский', 'история', 'известный', 'проходить', 'французский', 'европейский', 'участник', 'игра', 'состояться', 'зал', 'теннисный', 'финал', 'считать', 'участие', 'выставка', 'британский', 'лидер', 'футбольный', 'встреча', 'писать', 'турнир', 'пройти', 'впервые', 'культура', 'интервью', 'сочи', 'выступать', 'итог', 'испания', 'назвать', 'футбол', 'иностранный', 'большой', 'подготовка', 'это', 'посвятить', 'неделя', 'юрий', 'михаил', 'скончаться', 'жизнь', 'андрей', 'открыться', 'франция', 'событие', 'место', 'тур', 'лига', 'принять', 'детский', 'открытый', 'серия', 'сборная', 'сайт', 'мероприятие', 'форум', 'член', 'копейка', 'открыть', 'являться', 'последний', 'рамка', 'председатель', 'рейтер', 'тренер', 'июнь', 'франс', 'сергей', 'говориться', 'выйти', 'посетить', 'обсудить', 'провести', 'новый', 'матч', 'футболист', 'также', 'призвать', 'александр', 'смочь', 'американский', 'состав', 'объявить']\n",
            "47 ['станция', 'обнаружить', 'отдел', 'американский', 'сообщаться', 'директор', 'остров', 'специалист', 'имя', 'метро', 'аэропорт', 'евгений', 'алексей', 'французский', 'оао', 'ядерный', 'столичный', 'ассошиэйтед', 'машина', 'производство', 'писать', 'сообщение', 'игорь', 'начальник', 'неизвестный', 'подмосковье', 'вод', 'автомобиль', 'нефть', 'находиться', 'гаити', 'информация', 'транспорт', 'главный', 'помощь', 'источник', 'ссылка', 'комплекс', 'открыть', 'поезд', 'сайт', 'рассказать', 'подозревать', 'спортивный', 'пострадавший', 'найти', 'открытый', 'завершить', 'департамент', 'следственный', 'следовать', 'составлять', 'утром', 'интервью', 'пострадать', 'пресс', 'продажа', 'рейтер', 'предприятие', 'землетрясение', 'зал', 'андрей', 'выиграть', 'крупный', 'выйти', 'говориться', 'работать', 'появиться', 'скончаться', 'копейка', 'футболист', 'китай', 'детский', 'известный', 'снизиться', 'борьба', 'вырастить', 'скп', 'задержать', 'клуб', 'авария', 'серия', 'евро', 'сергей', 'помочь', 'тренер', 'проблема', 'жизнь', 'франс', 'дорога', 'франция', 'мировой', 'большой', 'внутренний', 'прибыть', 'теннисный', 'выставка', 'иностранный', 'возбудить', 'ночь']\n",
            "48 ['источник', 'руководитель', 'начальник', 'губернатор', 'дмитрий', 'владимир', 'сотрудник', 'театр', 'директор', 'округа', 'пожар', 'госдума', 'мэр', 'александр', 'депутат', 'край', 'школа', 'корреспондент', 'дорога', 'председатель', 'дом', 'сообщение', 'житель', 'форум', 'проект', 'закон', 'мчс', 'победа', 'цска', 'гувд', 'турнир', 'мероприятие', 'фонд', 'матч', 'евгений', 'специалист', 'ветеран', 'фестиваль', 'договор', 'великий', 'детский', 'комплекс', 'изменение', 'сергей', 'юрий', 'вопрос', 'программа', 'война', 'строительство', 'клуб', 'тренер', 'милиция', 'участник', 'право', 'уголовный', 'россиянин', 'оао', 'телефон', 'проверка', 'виктор', 'площадь', 'район', 'образование', 'игорь', 'михаил', 'ситуация', 'зал', 'милиционер', 'средство', 'предлагать', 'единый', 'возможность', 'решение', 'место', 'акция', 'отечественный', 'шахта', 'алексей', 'регион', 'должный', 'режим', 'развитие', 'николай', 'открытый', 'андрей', 'предприятие', 'заседание', 'работа', 'станция', 'соглашение', 'интервью', 'министр', 'передавать', 'май', 'рамка', 'весь', 'мочь', 'цена', 'иск', 'курс']\n",
            "49 ['считать', 'ссылка', 'бывший', 'сборный', 'совет', 'встреча', 'официальный', 'участие', 'теннисный', 'комитет', 'назначить', 'мид', 'назвать', 'журналист', 'государство', 'отношение', 'организация', 'кубок', 'россиянин', 'чемпионат', 'турнир', 'высокий', 'партия', 'против', 'защита', 'сборная', 'оон', 'призвать', 'пост', 'янукович', 'также', 'госдума', 'единый', 'комиссия', 'выступать', 'являться', 'борьба', 'финал', 'переговоры', 'суббота', 'связь', 'чемпион', 'команда', 'край', 'фонд', 'союз', 'победа', 'путин', 'известный', 'первое', 'принять', 'круг', 'национальный', 'спорт', 'провести', 'обсудить', 'тренер', 'имя', 'хороший', 'право', 'федеральный', 'предлагать', 'федерация', 'русский', 'признать', 'футбол', 'парламент', 'украинский', 'уголовный', 'сила', 'безопасность', 'политика', 'неделя', 'мировой', 'весь', 'милиция', 'китай', 'футболист', 'олимпийский', 'выиграть', 'иск', 'решение', 'подписать', 'помочь', 'случай', 'подготовка', 'обвинять', 'игра', 'объявить', 'белоруссия', 'германия', 'выбор', 'цска', 'направить', 'посвятить', 'иностранный', 'европейский', 'франция', 'министерство', 'говориться']\n",
            "50 ['европа', 'мир', 'европейский', 'передавать', 'новый', 'большой', 'создание', 'русский', 'программа', 'участие', 'мировой', 'открытый', 'греция', 'проект', 'национальный', 'поддержка', 'новое', 'рамка', 'площадь', 'финансовый', 'считать', 'представить', 'интервью', 'открытие', 'планировать', 'украинский', 'говориться', 'рассказать', 'выставка', 'британский', 'писать', 'должный', 'пройти', 'создать', 'развитие', 'самый', 'франция', 'сотрудничество', 'янукович', 'строительство', 'впервые', 'посвятить', 'ядерный', 'решение', 'призвать', 'история', 'высокий', 'намерить', 'открыться', 'проходить', 'грузия', 'американский', 'время', 'объявить', 'проблема', 'итог', 'смочь', 'здание', 'директор', 'участник', 'являться', 'ближний', 'готовый', 'начать', 'система', 'уровень', 'испания', 'выбор', 'хороший', 'весь', 'французский', 'состав', 'лига', 'германия', 'журналист', 'иностранный', 'столица', 'воскресение', 'проведение', 'государство', 'экономика', 'соглашение', 'возможность', 'также', 'иран', 'выступать', 'помочь', 'южный', 'состояться', 'вопрос', 'китай', 'принять', 'центральный', 'северный', 'открыть', 'гаити', 'футбол', 'лидер', 'июнь', 'подготовка']\n",
            "51 ['сотрудничество', 'переговоры', 'лига', 'фон', 'мид', 'ядерный', 'лидер', 'визит', 'телеканал', 'ссылка', 'иностранный', 'обсудить', 'европейский', 'интервью', 'индекс', 'футбольный', 'состояться', 'союз', 'европа', 'встреча', 'свидетельствовать', 'финансовый', 'газета', 'иран', 'чемпион', 'мировой', 'национальный', 'хороший', 'считать', 'экономика', 'британский', 'биржа', 'выступать', 'договор', 'цска', 'аэропорт', 'известный', 'торг', 'сми', 'американский', 'форум', 'посетить', 'пройти', 'назвать', 'проходить', 'мир', 'провести', 'футболист', 'представить', 'передавать', 'прибыть', 'финал', 'открыться', 'призвать', 'выиграть', 'писать', 'история', 'совет', 'рынок', 'французский', 'создание', 'источник', 'сборная', 'итог', 'подписать', 'турнир', 'испания', 'политика', 'самый', 'греция', 'впервые', 'против', 'сборный', 'израиль', 'оон', 'являться', 'клуб', 'михаил', 'объявить', 'полиция', 'выставка', 'франция', 'открыть', 'германия', 'выйти', 'отношение', 'поддержка', 'генеральный', 'бывший', 'открытый', 'соглашение', 'рамка', 'команда', 'руководство', 'опубликовать', 'открытие', 'министр', 'заявление', 'следовать', 'группа']\n",
            "52 ['ссылка', 'визит', 'государство', 'выбор', 'турнир', 'польша', 'парламент', 'семья', 'правоохранительный', 'погибший', 'матч', 'мид', 'жертва', 'скп', 'гражданин', 'переговоры', 'фон', 'кубок', 'против', 'чемпионат', 'суббота', 'призвать', 'теннисный', 'полиция', 'круг', 'встреча', 'житель', 'погибнуть', 'германия', 'турция', 'весь', 'сми', 'победа', 'киргизия', 'война', 'дом', 'юг', 'воскресение', 'испания', 'сайт', 'передавать', 'пострадавший', 'случай', 'владимир', 'израиль', 'мера', 'говориться', 'место', 'виктор', 'также', 'неделя', 'смочь', 'финал', 'ассошиэйтед', 'следственный', 'провинция', 'франция', 'пост', 'считать', 'администрация', 'тур', 'найти', 'число', 'сборная', 'ванкувер', 'прибыть', 'ветеран', 'проверка', 'военный', 'впервые', 'серия', 'местный', 'теракт', 'закон', 'посетить', 'сила', 'мчс', 'часть', 'остров', 'следовать', 'партия', 'франс', 'грузия', 'ряд', 'убийство', 'республика', 'движение', 'команда', 'июль', 'район', 'великий', 'событие', 'дата', 'афганистан', 'свидетельствовать', 'сообщаться', 'несколько', 'рейтер', 'игра', 'индекс']\n",
            "53 ['землетрясение', 'команда', 'турнир', 'лига', 'сборная', 'кубок', 'матч', 'гаити', 'игра', 'футбол', 'сборный', 'мир', 'мчс', 'жертва', 'чемпион', 'финал', 'северный', 'южный', 'визит', 'воскресение', 'провинция', 'чемпионат', 'период', 'вод', 'европа', 'турция', 'министр', 'время', 'встреча', 'ванкувер', 'афганистан', 'теннисный', 'тренер', 'сайт', 'регион', 'казахстан', 'серия', 'суббота', 'последний', 'испания', 'неделя', 'ядерный', 'юг', 'остров', 'победа', 'губернатор', 'выиграть', 'авария', 'специалист', 'польша', 'составлять', 'хороший', 'подготовка', 'футболист', 'республика', 'германия', 'сотрудничество', 'государство', 'главный', 'сочи', 'тур', 'спортивный', 'олимпийский', 'причина', 'борьба', 'прибыть', 'китай', 'проходить', 'четыре', 'посетить', 'результат', 'пройти', 'помочь', 'уровень', 'национальный', 'жизнь', 'событие', 'россиянин', 'помощь', 'шахта', 'число', 'место', 'официальный', 'ход', 'итог', 'обсудить', 'пострадавший', 'министерство', 'безопасность', 'самый', 'клуб', 'ситуация', 'шесть', 'детский', 'мероприятие', 'весь', 'впервые', 'переговоры', 'киргизия', 'сила']\n",
            "54 ['иск', 'александр', 'театр', 'тренер', 'юрий', 'андрей', 'дата', 'алексей', 'известный', 'владимир', 'михаил', 'бывший', 'спорт', 'депутат', 'чемпионат', 'назначить', 'госдума', 'оао', 'зал', 'уголовный', 'евгений', 'мэр', 'срок', 'клуб', 'обвинять', 'судебный', 'игорь', 'цска', 'пост', 'сергей', 'признать', 'заседание', 'рассмотреть', 'убийство', 'спортивный', 'николай', 'союз', 'следственный', 'считать', 'чемпион', 'гувд', 'футбольный', 'скп', 'нарушение', 'рассказать', 'право', 'федерация', 'назвать', 'губернатор', 'хороший', 'образование', 'совет', 'культура', 'закон', 'фестиваль', 'футболист', 'представить', 'скончаться', 'лига', 'имя', 'виктор', 'единый', 'политика', 'транспорт', 'возбудить', 'первое', 'выступать', 'являться', 'продажа', 'состояться', 'петербург', 'олимпийский', 'проверка', 'посвятить', 'комитет', 'директор', 'столичный', 'прокуратура', 'изменение', 'февраль', 'председатель', 'июль', 'отдел', 'движение', 'состав', 'март', 'защита', 'предлагать', 'форум', 'школа', 'корреспондент', 'акция', 'высокий', 'интервью', 'общественный', 'новое', 'дмитрий', 'появиться', 'край', 'решение']\n",
            "55 ['корреспондент', 'мчс', 'скп', 'департамент', 'ведомство', 'сми', 'телеканал', 'тренер', 'губернатор', 'служба', 'отдел', 'мвд', 'комитет', 'официальный', 'гувд', 'клуб', 'региональный', 'округа', 'газета', 'мид', 'следственный', 'федерация', 'регион', 'министерство', 'сайт', 'союз', 'министр', 'прокуратура', 'край', 'администрация', 'специалист', 'чемпионат', 'столичный', 'алексей', 'орган', 'игорь', 'команда', 'фонд', 'директор', 'встреча', 'олимпийский', 'городской', 'форум', 'турнир', 'сборный', 'заместитель', 'спорт', 'областной', 'пост', 'политика', 'генеральный', 'сергей', 'ссылка', 'вопрос', 'телефон', 'республика', 'футболист', 'цска', 'предприятие', 'единый', 'общественный', 'андрей', 'система', 'итог', 'визит', 'милиция', 'футбольный', 'дмитрий', 'экономический', 'группа', 'оао', 'игра', 'дата', 'лига', 'комиссия', 'председатель', 'главный', 'оон', 'государство', 'ситуация', 'сочи', 'больница', 'совет', 'чемпион', 'госдума', 'ванкувер', 'развитие', 'банка', 'театр', 'спортивный', 'журналист', 'курс', 'сборная', 'рейтер', 'теннисный', 'неделя', 'организация', 'проблема', 'дорога', 'ядерный']\n",
            "56 ['погибнуть', 'александр', 'главный', 'губернатор', 'отдел', 'право', 'движение', 'евгений', 'мчс', 'имя', 'владимир', 'тренер', 'гувд', 'северный', 'округа', 'милиция', 'проверка', 'погибший', 'театр', 'метро', 'начальник', 'считать', 'юрий', 'состав', 'пострадать', 'взрыв', 'николай', 'военный', 'факт', 'сергей', 'подготовка', 'общественный', 'комиссия', 'дорога', 'станция', 'известный', 'назвать', 'скончаться', 'жизнь', 'детский', 'район', 'причина', 'школа', 'телефон', 'дагестан', 'шахта', 'образование', 'утром', 'посвятить', 'дмитрий', 'спортивный', 'суббота', 'единый', 'работа', 'создать', 'комитет', 'русский', 'теракт', 'группа', 'руководство', 'совет', 'воскресение', 'пост', 'петербург', 'мвд', 'депутат', 'связь', 'ситуация', 'дтп', 'спорт', 'край', 'больница', 'нарушение', 'убийство', 'сила', 'проводить', 'хороший', 'событие', 'участие', 'весь', 'также', 'команда', 'следственный', 'работать', 'специалист', 'скп', 'здание', 'южный', 'ход', 'поезд', 'администрация', 'польша', 'ряд', 'культура', 'парламент', 'режим', 'мероприятие', 'отношение', 'произойти', 'безопасность']\n",
            "57 ['турнир', 'чемпионат', 'чемпион', 'кубок', 'цска', 'выиграть', 'лига', 'тренер', 'хороший', 'клуб', 'матч', 'теннисный', 'футболист', 'известный', 'финал', 'писать', 'самый', 'евгений', 'театр', 'сообщаться', 'сборный', 'иск', 'свидетельствовать', 'оао', 'имя', 'сайт', 'выйти', 'спортивный', 'фестиваль', 'продажа', 'серия', 'алексей', 'футбольный', 'зал', 'команда', 'считать', 'директор', 'следовать', 'скончаться', 'представить', 'андрей', 'выступать', 'опубликовать', 'открыться', 'назвать', 'завершить', 'история', 'игра', 'говориться', 'сборная', 'спорт', 'открытый', 'круг', 'открыть', 'появиться', 'крупный', 'газета', 'британский', 'французский', 'первое', 'являться', 'футбол', 'биржа', 'впервые', 'рассказать', 'победа', 'американский', 'выставка', 'игорь', 'копейка', 'смочь', 'поезд', 'снизиться', 'состояться', 'автомобиль', 'вырастить', 'олимпийский', 'большой', 'александр', 'михаил', 'специалист', 'производство', 'мировой', 'индекс', 'обнаружить', 'признать', 'получить', 'состав', 'назначить', 'торг', 'проходить', 'тур', 'бывший', 'форум', 'гувд', 'дорога', 'четыре', 'составлять', 'союз', 'главный']\n",
            "58 ['тренер', 'скп', 'мчс', 'газета', 'больница', 'скончаться', 'пресс', 'клуб', 'ссылка', 'телеканал', 'футболист', 'сборный', 'погибнуть', 'рейтер', 'убийство', 'следственный', 'андрей', 'обвинять', 'пострадать', 'копейка', 'выиграть', 'остров', 'служба', 'евгений', 'бывший', 'полиция', 'пост', 'сайт', 'алексей', 'писать', 'игорь', 'обнаружить', 'николай', 'михаил', 'ассошиэйтед', 'цска', 'неизвестный', 'правоохранительный', 'теннисный', 'опубликовать', 'гувд', 'чемпион', 'сми', 'провинция', 'турнир', 'сообщаться', 'известный', 'команда', 'украинский', 'подозревать', 'дата', 'финал', 'утром', 'лига', 'матч', 'имя', 'чемпионат', 'источник', 'футбол', 'землетрясение', 'телефон', 'дагестан', 'выйти', 'составлять', 'кубок', 'главный', 'дтп', 'британский', 'остаться', 'евро', 'французский', 'испания', 'александр', 'назначить', 'семь', 'прокуратура', 'аэропорт', 'вечером', 'местный', 'американский', 'серия', 'ведомство', 'отдел', 'жизнь', 'ночь', 'судебный', 'круг', 'интервью', 'возбудить', 'милиционер', 'мвд', 'задержать', 'зал', 'найти', 'тур', 'вырастить', 'футбольный', 'находиться', 'сергей', 'администрация']\n",
            "59 ['скончаться', 'имя', 'больница', 'милиция', 'известный', 'убийство', 'александр', 'евгений', 'бывший', 'милиционер', 'неизвестный', 'суббота', 'воскресение', 'гувд', 'следственный', 'театр', 'тренер', 'николай', 'полиция', 'погибший', 'край', 'телефон', 'дагестан', 'детский', 'клуб', 'дтп', 'задержать', 'погибнуть', 'юрий', 'член', 'губернатор', 'михаил', 'начальник', 'мвд', 'здание', 'военный', 'отдел', 'сотрудник', 'польша', 'русский', 'обвинять', 'состав', 'обнаружить', 'округа', 'подозревать', 'скп', 'участие', 'фестиваль', 'провинция', 'руководитель', 'петербург', 'пострадать', 'главный', 'прокуратура', 'найти', 'сергей', 'владимир', 'областной', 'северный', 'прибыть', 'группа', 'вечером', 'назначить', 'депутат', 'официальный', 'аэропорт', 'машина', 'андрей', 'спортивный', 'теракт', 'генеральный', 'столичный', 'открыть', 'метро', 'находиться', 'футболист', 'сборный', 'дата', 'сила', 'пост', 'мэр', 'сообщение', 'республика', 'афганистан', 'руководство', 'утром', 'сайт', 'французский', 'сочи', 'комитет', 'алексей', 'союз', 'посетить', 'признать', 'зал', 'уголовный', 'правоохранительный', 'назвать', 'цска', 'федерация']\n",
            "60 ['передавать', 'считать', 'европа', 'мир', 'хороший', 'говориться', 'воскресение', 'самый', 'смочь', 'выиграть', 'большой', 'суббота', 'чемпион', 'россиянин', 'футбол', 'европейский', 'сборная', 'впервые', 'финал', 'французский', 'сборный', 'футболист', 'открытие', 'неделя', 'известный', 'британский', 'участие', 'американский', 'история', 'тренер', 'место', 'планировать', 'мировой', 'русский', 'писать', 'кубок', 'мочь', 'открытый', 'испания', 'директор', 'готовый', 'цска', 'время', 'намерить', 'пять', 'ванкувер', 'команда', 'лидер', 'помочь', 'теннисный', 'открыть', 'представить', 'участник', 'состав', 'член', 'гаити', 'четыре', 'назвать', 'должный', 'серия', 'франция', 'призвать', 'футбольный', 'новый', 'игра', 'иностранный', 'являться', 'последний', 'германия', 'матч', 'выйти', 'интервью', 'несколько', 'лига', 'создание', 'здание', 'крупный', 'национальный', 'создать', 'также', 'спортивный', 'весь', 'завершить', 'имя', 'председатель', 'выступать', 'работать', 'первое', 'помощь', 'поддержка', 'финансовый', 'рамка', 'месяц', 'новое', 'фестиваль', 'посетить', 'проходить', 'это', 'турнир', 'высокий']\n",
            "61 ['оао', 'зал', 'копейка', 'театр', 'владимир', 'алексей', 'андрей', 'иск', 'игорь', 'цена', 'свидетельствовать', 'александр', 'чемпион', 'евгений', 'хороший', 'первое', 'турнир', 'рассказать', 'торг', 'цска', 'курс', 'выиграть', 'спорт', 'банка', 'сергей', 'лига', 'олимпийский', 'биржа', 'продажа', 'ванкувер', 'снизиться', 'следовать', 'миллиард', 'фонд', 'вырастить', 'корреспондент', 'юрий', 'спортивный', 'сайт', 'михаил', 'итог', 'директор', 'имя', 'губернатор', 'игра', 'клуб', 'евро', 'тренер', 'теннисный', 'известный', 'фестиваль', 'школа', 'открытый', 'считать', 'выйти', 'представить', 'русский', 'уровень', 'дмитрий', 'смочь', 'индекс', 'культура', 'госдума', 'составить', 'открытие', 'круг', 'самый', 'тур', 'скончаться', 'интервью', 'отечественный', 'выставка', 'выступать', 'мэр', 'рынок', 'единый', 'петербург', 'образование', 'кубок', 'большой', 'открыться', 'виктор', 'союз', 'чемпионат', 'являться', 'финал', 'николай', 'рассмотреть', 'остаться', 'изменение', 'столичный', 'депутат', 'предприятие', 'развитие', 'рост', 'составлять', 'сочи', 'дата', 'завершить', 'дом']\n",
            "62 ['теннисный', 'выиграть', 'источник', 'турнир', 'матч', 'обнаружить', 'чемпионат', 'правоохранительный', 'финал', 'футболист', 'писать', 'остров', 'самый', 'выйти', 'кубок', 'ассошиэйтед', 'тур', 'передавать', 'ночь', 'копейка', 'неизвестный', 'рейтер', 'остаться', 'футбол', 'серия', 'автомобиль', 'круг', 'составлять', 'евро', 'смочь', 'победа', 'сообщаться', 'пресс', 'россиянин', 'тренер', 'найти', 'американский', 'последний', 'машина', 'открытый', 'следственный', 'скончаться', 'четыре', 'французский', 'зал', 'несколько', 'хороший', 'британский', 'вечером', 'жертва', 'семь', 'погибший', 'шесть', 'цска', 'испания', 'большой', 'вод', 'продажа', 'больница', 'землетрясение', 'чемпион', 'пострадать', 'погибнуть', 'часть', 'около', 'утром', 'известный', 'команда', 'открыть', 'ванкувер', 'нефть', 'сайт', 'сборная', 'пять', 'сборный', 'дом', 'франция', 'пожар', 'впервые', 'край', 'мир', 'жизнь', 'поезд', 'воскресение', 'подмосковье', 'история', 'европа', 'мочь', 'индекс', 'франс', 'снизиться', 'первое', 'свидетельствовать', 'дтп', 'театр', 'клуб', 'цена', 'футбольный', 'сотрудник', 'суббота']\n",
            "63 ['турнир', 'теннисный', 'тренер', 'фонд', 'сборный', 'михаил', 'андрей', 'пост', 'скончаться', 'мир', 'министр', 'чемпион', 'круг', 'выиграть', 'сборная', 'виктор', 'хороший', 'составлять', 'бывший', 'федерация', 'кубок', 'франция', 'евро', 'доллар', 'спорт', 'сергей', 'интервью', 'финал', 'считать', 'известный', 'встреча', 'россиянин', 'алексей', 'александр', 'писать', 'выступать', 'рассказать', 'ванкувер', 'иностранный', 'курс', 'николай', 'визит', 'назвать', 'олимпийский', 'гаити', 'лига', 'развитие', 'подписать', 'германия', 'мировой', 'поддержка', 'юрий', 'дмитрий', 'спортивный', 'американский', 'экономика', 'миллиард', 'испания', 'первое', 'губернатор', 'газета', 'лидер', 'команда', 'государство', 'оон', 'игорь', 'игра', 'казахстан', 'посетить', 'евгений', 'сотрудничество', 'история', 'французский', 'программа', 'открытый', 'получить', 'выйти', 'генеральный', 'союз', 'экономический', 'жизнь', 'обсудить', 'состояться', 'свидетельствовать', 'самый', 'копейка', 'финансовый', 'пресс', 'директор', 'итог', 'ссылка', 'являться', 'футболист', 'опубликовать', 'европейский', 'обвинять', 'представить', 'впервые', 'британский', 'европа']\n",
            "64 ['источник', 'мчс', 'землетрясение', 'пострадавший', 'район', 'пожар', 'вод', 'сотрудник', 'взрыв', 'правоохранительный', 'автомобиль', 'край', 'дорога', 'больница', 'поезд', 'пострадать', 'станция', 'остров', 'авария', 'юг', 'около', 'обнаружить', 'машина', 'утром', 'помощь', 'подмосковье', 'начальник', 'дом', 'гаити', 'провинция', 'жертва', 'составлять', 'проверка', 'скп', 'неизвестный', 'метро', 'сообщение', 'прокуратура', 'служба', 'дагестан', 'погибнуть', 'здание', 'министерство', 'житель', 'площадь', 'сообщаться', 'следственный', 'дтп', 'мера', 'департамент', 'ночь', 'милиционер', 'теракт', 'местный', 'следовать', 'шахта', 'телефон', 'гувд', 'территория', 'произойти', 'столица', 'городской', 'торг', 'евро', 'вечером', 'нефть', 'снизиться', 'ведомство', 'дать', 'биржа', 'аэропорт', 'транспорт', 'специалист', 'строительство', 'округа', 'комплекс', 'предприятие', 'составить', 'цена', 'воскресение', 'период', 'столичный', 'погибший', 'детский', 'доллар', 'вырастить', 'миллиард', 'результат', 'областной', 'руководитель', 'полиция', 'мероприятие', 'суббота', 'петербург', 'газа', 'средство', 'производство', 'киргизия', 'мвд', 'сайт']\n",
            "65 ['официальный', 'министр', 'администрация', 'отдел', 'рассказать', 'руководитель', 'правоохранительный', 'вопрос', 'партия', 'мэр', 'судебный', 'ситуация', 'передавать', 'заместитель', 'телефон', 'проблема', 'политика', 'главный', 'киргизия', 'госдума', 'губернатор', 'департамент', 'интервью', 'начальник', 'развитие', 'дмитрий', 'белоруссия', 'обвинять', 'бывший', 'дагестан', 'председатель', 'республика', 'переговоры', 'ход', 'гувд', 'полиция', 'связь', 'директор', 'южный', 'считать', 'совет', 'журналист', 'экономика', 'милиция', 'обсудить', 'встреча', 'форум', 'движение', 'северный', 'афганистан', 'высокий', 'комиссия', 'парламент', 'мчс', 'грузия', 'мвд', 'программа', 'сообщаться', 'режим', 'генеральный', 'служба', 'отношение', 'строительство', 'участник', 'александр', 'школа', 'путин', 'образование', 'михаил', 'круг', 'россиянин', 'николай', 'округа', 'время', 'семья', 'известный', 'игорь', 'защита', 'война', 'мировой', 'украинский', 'большой', 'находиться', 'срок', 'убийство', 'также', 'янукович', 'возможность', 'неизвестный', 'комплекс', 'израиль', 'орган', 'рынок', 'юрий', 'государственный', 'иск', 'депутат', 'евгений', 'поддержка', 'помощь']\n",
            "66 ['взрыв', 'неизвестный', 'район', 'дом', 'обнаружить', 'пожар', 'здание', 'утром', 'шахта', 'передавать', 'автомобиль', 'машина', 'поезд', 'вод', 'ночь', 'провинция', 'авария', 'газа', 'писать', 'факт', 'подмосковье', 'пострадавший', 'нефть', 'пострадать', 'житель', 'станция', 'цена', 'юг', 'метро', 'около', 'произойти', 'вечером', 'остров', 'больница', 'воскресение', 'мочь', 'несколько', 'сообщаться', 'суббота', 'подозревать', 'найти', 'погибший', 'сообщение', 'жертва', 'погибнуть', 'продажа', 'говориться', 'сотрудник', 'возбудить', 'задержать', 'часть', 'проверка', 'милиционер', 'площадь', 'результат', 'находиться', 'территория', 'источник', 'правоохранительный', 'следовать', 'уголовный', 'теракт', 'производство', 'обвинять', 'помощь', 'местный', 'причина', 'время', 'американский', 'ассошиэйтед', 'землетрясение', 'дагестан', 'дтп', 'милиция', 'петербург', 'транспорт', 'начальник', 'дорога', 'дать', 'составлять', 'предприятие', 'январь', 'месяц', 'самый', 'отдел', 'великий', 'полиция', 'владимир', 'комплекс', 'край', 'число', 'ряд', 'акция', 'столичный', 'жизнь', 'судебный', 'британский', 'заместитель', 'война', 'журналист']\n",
            "67 ['владимир', 'андрей', 'союз', 'алексей', 'тренер', 'михаил', 'александр', 'фонд', 'театр', 'евгений', 'турнир', 'игорь', 'совет', 'федерация', 'николай', 'бывший', 'интервью', 'юрий', 'спорт', 'сергей', 'выставка', 'чемпион', 'департамент', 'генеральный', 'рассказать', 'сборный', 'форум', 'подписать', 'известный', 'программа', 'кубок', 'русский', 'сотрудничество', 'цска', 'выступать', 'государственный', 'спортивный', 'зал', 'соглашение', 'фестиваль', 'франция', 'госдума', 'посвятить', 'победа', 'политика', 'комитет', 'договор', 'финал', 'дмитрий', 'судебный', 'футбольный', 'круг', 'имя', 'теннисный', 'развитие', 'встреча', 'клуб', 'ветеран', 'культура', 'виктор', 'мэр', 'первое', 'экономический', 'рамка', 'пост', 'защита', 'евро', 'французский', 'председатель', 'ближний', 'министр', 'губернатор', 'лига', 'отдел', 'чемпионат', 'олимпийский', 'директор', 'организация', 'открытый', 'хороший', 'белоруссия', 'банка', 'европа', 'выйти', 'депутат', 'миллиард', 'великий', 'заместитель', 'отечественный', 'новый', 'оао', 'иск', 'назначить', 'ядерный', 'мид', 'сочи', 'министерство', 'образование', 'большой', 'гувд']\n",
            "68 ['турнир', 'спорт', 'федерация', 'михаил', 'чемпион', 'кубок', 'бывший', 'тренер', 'выступать', 'союз', 'сборный', 'андрей', 'лига', 'политика', 'национальный', 'финал', 'теннисный', 'известный', 'чемпионат', 'газета', 'цска', 'культура', 'спортивный', 'фонд', 'интервью', 'лидер', 'евро', 'евгений', 'матч', 'олимпийский', 'зал', 'выиграть', 'юрий', 'рассказать', 'судебный', 'круг', 'русский', 'против', 'форум', 'мэр', 'театр', 'футбольный', 'иск', 'франция', 'ссылка', 'государственный', 'фестиваль', 'состояться', 'назвать', 'писать', 'александр', 'сборная', 'европа', 'открытый', 'проходить', 'испания', 'пресс', 'история', 'алексей', 'мировой', 'победа', 'европейский', 'посвятить', 'борьба', 'считать', 'французский', 'выйти', 'экономический', 'имя', 'николай', 'подписать', 'виктор', 'полиция', 'председатель', 'выставка', 'призвать', 'открыться', 'рамка', 'сотрудничество', 'обвинять', 'признать', 'поддержка', 'британский', 'пост', 'футбол', 'представить', 'образование', 'клуб', 'грузия', 'игра', 'футболист', 'пройти', 'открыть', 'столица', 'защита', 'задержать', 'договор', 'назначить', 'телеканал', 'хороший']\n",
            "69 ['теннисный', 'ссылка', 'чемпион', 'турнир', 'финал', 'кубок', 'мир', 'рейтер', 'хороший', 'британский', 'европейский', 'фон', 'пресс', 'выиграть', 'свидетельствовать', 'сборный', 'передавать', 'лига', 'считать', 'евро', 'испания', 'футбольный', 'американский', 'сборная', 'французский', 'иностранный', 'мировой', 'футбол', 'копейка', 'матч', 'футболист', 'говориться', 'ванкувер', 'сообщаться', 'выйти', 'самый', 'греция', 'против', 'европа', 'индекс', 'писать', 'чемпионат', 'игра', 'команда', 'тренер', 'курс', 'торг', 'серия', 'олимпийский', 'мид', 'назвать', 'интервью', 'смочь', 'германия', 'финансовый', 'франция', 'история', 'национальный', 'известный', 'доллар', 'круг', 'выступать', 'франс', 'андрей', 'оон', 'следовать', 'цска', 'призвать', 'переговоры', 'впервые', 'помочь', 'израиль', 'турция', 'сайт', 'опубликовать', 'алексей', 'ассошиэйтед', 'гаити', 'последний', 'встреча', 'являться', 'россиянин', 'суббота', 'крупный', 'официальный', 'биржа', 'жизнь', 'игорь', 'спортивный', 'проходить', 'ядерный', 'цена', 'лидер', 'скончаться', 'спорт', 'неделя', 'акция', 'казахстан', 'совет', 'воскресение']\n",
            "70 ['сергей', 'игорь', 'александр', 'алексей', 'владимир', 'андрей', 'комитет', 'михаил', 'тренер', 'союз', 'юрий', 'госдума', 'николай', 'заседание', 'политика', 'евгений', 'федерация', 'дмитрий', 'форум', 'совет', 'интервью', 'сотрудничество', 'председатель', 'виктор', 'выступать', 'мид', 'оао', 'директор', 'лига', 'развитие', 'соглашение', 'встреча', 'спорт', 'договор', 'экономический', 'цска', 'иск', 'фонд', 'подписать', 'переговоры', 'вопрос', 'клуб', 'обсудить', 'банка', 'дата', 'считать', 'ведомство', 'комиссия', 'генеральный', 'министр', 'заявление', 'единый', 'департамент', 'чемпион', 'биржа', 'сборный', 'отдел', 'белоруссия', 'футбольный', 'изменение', 'финансовый', 'визит', 'ядерный', 'руководитель', 'итог', 'губернатор', 'депутат', 'назначить', 'руководство', 'мэр', 'бывший', 'театр', 'защита', 'пост', 'федеральный', 'имя', 'экономика', 'спортивный', 'образование', 'государственный', 'создание', 'проект', 'гувд', 'посвятить', 'судебный', 'казахстан', 'команда', 'закон', 'лидер', 'олимпийский', 'путин', 'отношение', 'общественный', 'решение', 'организация', 'рамка', 'национальный', 'рассмотреть', 'рассказать', 'официальный']\n",
            "71 ['турнир', 'чемпион', 'известный', 'сборный', 'лига', 'телеканал', 'тренер', 'команда', 'передавать', 'финал', 'выиграть', 'футболист', 'мид', 'кубок', 'полиция', 'сборная', 'назвать', 'визит', 'теннисный', 'хороший', 'матч', 'мир', 'цска', 'лидер', 'выйти', 'скончаться', 'газета', 'чемпионат', 'франция', 'аэропорт', 'сми', 'американский', 'переговоры', 'испания', 'круг', 'клуб', 'прибыть', 'французский', 'убийство', 'британский', 'бывший', 'против', 'иностранный', 'считать', 'жизнь', 'интервью', 'писать', 'фестиваль', 'сообщаться', 'ядерный', 'израиль', 'польша', 'история', 'игра', 'германия', 'самый', 'посетить', 'встреча', 'михаил', 'серия', 'иран', 'мировой', 'являться', 'евгений', 'выступать', 'впервые', 'проходить', 'говориться', 'большой', 'группа', 'свидетельствовать', 'открытый', 'вечером', 'получить', 'суббота', 'событие', 'неизвестный', 'футбольный', 'источник', 'гаити', 'воскресение', 'призвать', 'ванкувер', 'выставка', 'футбол', 'россиянин', 'обвинять', 'победа', 'тур', 'пресс', 'следовать', 'обнаружить', 'евро', 'открытие', 'европа', 'задержать', 'находиться', 'смочь', 'открыть', 'юг']\n",
            "72 ['турнир', 'ссылка', 'теннисный', 'государство', 'кубок', 'фон', 'считать', 'лига', 'чемпионат', 'финал', 'переговоры', 'круг', 'матч', 'франция', 'торг', 'футбольный', 'американский', 'совет', 'встреча', 'сайт', 'испания', 'французский', 'выбор', 'британский', 'футбол', 'индекс', 'выиграть', 'мид', 'сборная', 'свидетельствовать', 'биржа', 'газета', 'германия', 'самый', 'визит', 'серия', 'пост', 'впервые', 'футболист', 'мир', 'команда', 'сборный', 'группа', 'против', 'смочь', 'подписать', 'опубликовать', 'чемпион', 'рейтер', 'пресс', 'выйти', 'неделя', 'сми', 'евро', 'хороший', 'следовать', 'тур', 'цска', 'телеканал', 'клуб', 'игра', 'мировой', 'являться', 'парламент', 'семья', 'фонд', 'польша', 'сообщаться', 'призвать', 'говориться', 'европейский', 'также', 'назвать', 'копейка', 'новый', 'участие', 'первое', 'турция', 'продажа', 'история', 'изменение', 'франс', 'греция', 'ванкувер', 'это', 'новое', 'возможность', 'ассошиэйтед', 'месяц', 'право', 'администрация', 'число', 'бывший', 'заявление', 'фестиваль', 'помочь', 'большой', 'израиль', 'иран', 'открытый']\n",
            "73 ['скп', 'скончаться', 'копейка', 'матч', 'убийство', 'ссылка', 'тренер', 'дата', 'сборный', 'больница', 'футболист', 'пресс', 'полиция', 'обвинять', 'польша', 'чемпионат', 'следственный', 'погибший', 'команда', 'финал', 'лидер', 'милиционер', 'николай', 'выиграть', 'сми', 'погибнуть', 'мид', 'рейтер', 'жертва', 'дагестан', 'неизвестный', 'тур', 'кубок', 'бывший', 'ассошиэйтед', 'теннисный', 'правоохранительный', 'телеканал', 'футбол', 'гувд', 'мвд', 'цска', 'чемпион', 'местный', 'андрей', 'испания', 'внутренний', 'известный', 'дать', 'провинция', 'подозревать', 'сайт', 'телефон', 'информация', 'назвать', 'задержать', 'свидетельствовать', 'германия', 'дтп', 'землетрясение', 'россиянин', 'пострадать', 'вечером', 'официальный', 'пост', 'грузия', 'евгений', 'турция', 'ночь', 'причина', 'турнир', 'украинский', 'серия', 'против', 'сборная', 'жизнь', 'милиция', 'британский', 'утром', 'лига', 'футбольный', 'опубликовать', 'газета', 'партия', 'клуб', 'игорь', 'теракт', 'обнаружить', 'курс', 'главный', 'израиль', 'результат', 'индекс', 'последний', 'считать', 'воскресение', 'член', 'признать', 'выйти', 'гаити']\n",
            "74 ['остров', 'обнаружить', 'воскресение', 'провинция', 'землетрясение', 'суббота', 'аэропорт', 'ссылка', 'юг', 'неизвестный', 'погибнуть', 'район', 'жертва', 'пострадать', 'утром', 'станция', 'поезд', 'сайт', 'телеканал', 'ночь', 'взрыв', 'полиция', 'гаити', 'несколько', 'источник', 'вод', 'пострадавший', 'пресс', 'произойти', 'северный', 'около', 'сообщаться', 'вечером', 'ассошиэйтед', 'южный', 'здание', 'открыть', 'метро', 'самый', 'находиться', 'французский', 'сообщение', 'больница', 'семь', 'территория', 'найти', 'пожар', 'машина', 'газета', 'американский', 'шесть', 'центральный', 'британский', 'крупный', 'газа', 'автомобиль', 'мчс', 'рейтер', 'часть', 'сми', 'четыре', 'имя', 'следовать', 'прибыть', 'выиграть', 'специалист', 'составлять', 'задержать', 'серия', 'скончаться', 'китай', 'остаться', 'авария', 'пять', 'результат', 'главный', 'появиться', 'последний', 'передавать', 'франс', 'испания', 'получить', 'впервые', 'погибший', 'писать', 'афганистан', 'выйти', 'большой', 'дать', 'говориться', 'футболист', 'проходить', 'клуб', 'житель', 'площадь', 'подмосковье', 'столица', 'евро', 'дагестан', 'нефть']\n",
            "75 ['поддержка', 'считать', 'фонд', 'экономика', 'греция', 'сотрудничество', 'выставка', 'европа', 'передавать', 'программа', 'большой', 'украинский', 'уровень', 'лига', 'финансовый', 'европейский', 'проблема', 'фон', 'русский', 'рамка', 'создание', 'лидер', 'янукович', 'развитие', 'интервью', 'система', 'свидетельствовать', 'проект', 'итог', 'соглашение', 'государство', 'форум', 'открытие', 'мир', 'посвятить', 'участие', 'призвать', 'совет', 'мировой', 'партия', 'ядерный', 'иностранный', 'гаити', 'весь', 'выступать', 'представить', 'новый', 'турнир', 'франция', 'история', 'биржа', 'изменение', 'комитет', 'германия', 'готовый', 'впервые', 'являться', 'обсудить', 'директор', 'открытый', 'должный', 'газа', 'хороший', 'телеканал', 'рассказать', 'договор', 'миллиард', 'открыться', 'переговоры', 'министр', 'выйти', 'китай', 'намерить', 'возможность', 'новое', 'испания', 'встреча', 'объявить', 'принять', 'смочь', 'вопрос', 'виктор', 'союз', 'фестиваль', 'казахстан', 'ситуация', 'говориться', 'землетрясение', 'рост', 'самый', 'помочь', 'белоруссия', 'путин', 'воскресение', 'писать', 'помощь', 'планировать', 'проходить', 'также', 'круг']\n",
            "76 ['сотрудничество', 'договор', 'соглашение', 'считать', 'политика', 'экономический', 'ядерный', 'развитие', 'европа', 'мировой', 'лига', 'изменение', 'форум', 'союз', 'михаил', 'новый', 'европейский', 'выступать', 'рамка', 'финансовый', 'федерация', 'фонд', 'интервью', 'программа', 'турнир', 'экономика', 'иран', 'решение', 'фон', 'закон', 'переговоры', 'подписать', 'создание', 'чемпион', 'проект', 'госдума', 'национальный', 'тренер', 'банка', 'совет', 'выставка', 'заседание', 'спорт', 'вопрос', 'алексей', 'новое', 'лидер', 'история', 'доллар', 'рынок', 'высокий', 'посвятить', 'биржа', 'обсудить', 'рассказать', 'система', 'представить', 'франция', 'виктор', 'против', 'андрей', 'уровень', 'призвать', 'цска', 'отношение', 'евро', 'единый', 'борьба', 'возможность', 'открытый', 'директор', 'заявление', 'русский', 'рост', 'комитет', 'пост', 'иностранный', 'предлагать', 'организация', 'греция', 'государство', 'поддержка', 'министр', 'сборный', 'игорь', 'футбольный', 'спортивный', 'итог', 'являться', 'встреча', 'кубок', 'британский', 'должный', 'футбол', 'хороший', 'большой', 'намерить', 'французский', 'председатель', 'белоруссия']\n",
            "77 ['сайт', 'источник', 'передавать', 'здание', 'владимир', 'район', 'площадь', 'писать', 'дом', 'виктор', 'считать', 'заместитель', 'школа', 'александр', 'сотрудник', 'комплекс', 'самый', 'рассказать', 'территория', 'обнаружить', 'образование', 'утром', 'говориться', 'зал', 'михаил', 'судебный', 'часть', 'юрий', 'крупный', 'театр', 'орган', 'игорь', 'алексей', 'рынок', 'станция', 'пост', 'возбудить', 'уголовный', 'провинция', 'экономика', 'система', 'место', 'являться', 'взрыв', 'дорога', 'предприятие', 'около', 'производство', 'автомобиль', 'строительство', 'мочь', 'машина', 'журналист', 'округа', 'предлагать', 'бывший', 'внутренний', 'акция', 'открытие', 'николай', 'культура', 'средство', 'задержать', 'вод', 'событие', 'число', 'дать', 'имя', 'движение', 'уровень', 'специалист', 'неизвестный', 'война', 'история', 'закон', 'найти', 'андрей', 'транспорт', 'регион', 'ночь', 'жизнь', 'интервью', 'евгений', 'житель', 'создать', 'рост', 'ряд', 'должный', 'пожар', 'объявить', 'несколько', 'случай', 'цена', 'мера', 'большой', 'политика', 'это', 'изменение', 'составлять', 'подозревать']\n",
            "78 ['европейский', 'фон', 'европа', 'итог', 'мир', 'мировой', 'американский', 'экономика', 'соглашение', 'открытие', 'уровень', 'открытый', 'британский', 'хороший', 'писать', 'самый', 'считать', 'представить', 'сотрудничество', 'французский', 'финансовый', 'турнир', 'национальный', 'франция', 'передавать', 'развитие', 'ванкувер', 'новый', 'интервью', 'ядерный', 'договор', 'впервые', 'объявить', 'переговоры', 'греция', 'свидетельствовать', 'решение', 'миллиард', 'выставка', 'германия', 'создание', 'ссылка', 'иностранный', 'большой', 'говориться', 'теннисный', 'поддержка', 'лига', 'программа', 'новое', 'выиграть', 'высокий', 'проект', 'участие', 'доллар', 'рост', 'русский', 'история', 'выступать', 'неделя', 'испания', 'олимпийский', 'китай', 'торг', 'рейтер', 'индекс', 'путин', 'государство', 'биржа', 'обсудить', 'завершить', 'проблема', 'ближний', 'планировать', 'рамка', 'сайт', 'евро', 'посетить', 'конец', 'иран', 'выйти', 'фонд', 'открыться', 'нефть', 'игра', 'подписать', 'готовый', 'намерить', 'первое', 'должный', 'визит', 'курс', 'украинский', 'строительство', 'франс', 'возможность', 'чемпион', 'последний', 'принять', 'состояться']\n",
            "79 ['считать', 'зал', 'дом', 'место', 'здание', 'передавать', 'имя', 'иск', 'неизвестный', 'машина', 'выиграть', 'сайт', 'театр', 'обнаружить', 'право', 'автомобиль', 'площадь', 'петербург', 'серия', 'дорога', 'евгений', 'писать', 'найти', 'акция', 'кубок', 'финал', 'поезд', 'фестиваль', 'известный', 'турнир', 'смочь', 'станция', 'часть', 'тур', 'следовать', 'утром', 'большой', 'олимпийский', 'ванкувер', 'ассошиэйтед', 'говориться', 'детский', 'вечером', 'продажа', 'остров', 'признать', 'причина', 'цска', 'спортивный', 'ночь', 'работа', 'французский', 'погибший', 'футболист', 'состав', 'рассказать', 'польша', 'задержать', 'сообщаться', 'открытый', 'американский', 'являться', 'теннисный', 'футбольный', 'решение', 'назвать', 'выйти', 'метро', 'движение', 'группа', 'лига', 'хороший', 'милиционер', 'самый', 'круг', 'участник', 'матч', 'британский', 'русский', 'мир', 'впервые', 'столичный', 'александр', 'корреспондент', 'суббота', 'игра', 'оао', 'воскресение', 'сообщение', 'история', 'дагестан', 'правоохранительный', 'мочь', 'открыть', 'находиться', 'дать', 'четыре', 'школа', 'крупный', 'судебный']\n",
            "80 ['губернатор', 'владимир', 'александр', 'округа', 'депутат', 'дмитрий', 'юрий', 'сергей', 'отдел', 'мэр', 'рамка', 'детский', 'комитет', 'театр', 'ход', 'школа', 'посвятить', 'участник', 'руководитель', 'великий', 'комплекс', 'единый', 'милиция', 'вопрос', 'ветеран', 'начальник', 'евгений', 'образование', 'культура', 'дорога', 'департамент', 'председатель', 'алексей', 'предлагать', 'оао', 'союз', 'форум', 'виктор', 'проект', 'гувд', 'заместитель', 'пожар', 'андрей', 'закон', 'имя', 'комиссия', 'госдума', 'русский', 'отечественный', 'мероприятие', 'заседание', 'игорь', 'рассмотреть', 'группа', 'совет', 'провести', 'обсудить', 'факт', 'программа', 'проверка', 'площадь', 'главный', 'строительство', 'иск', 'фестиваль', 'май', 'николай', 'отношение', 'представить', 'участие', 'дом', 'время', 'уголовный', 'сотрудник', 'клуб', 'рассказать', 'направить', 'телефон', 'развитие', 'считать', 'сообщение', 'создать', 'проводить', 'выставка', 'петербург', 'известный', 'территория', 'рабочий', 'шахта', 'предприятие', 'директор', 'возбудить', 'регион', 'журналист', 'защита', 'интервью', 'станция', 'семья', 'нарушение', 'служба']\n",
            "81 ['говориться', 'мчс', 'школа', 'больница', 'пожар', 'правоохранительный', 'чемпионат', 'детский', 'рассказать', 'хороший', 'скончаться', 'фестиваль', 'театр', 'станция', 'спортивный', 'специалист', 'ванкувер', 'большой', 'игра', 'великий', 'губернатор', 'время', 'вод', 'главный', 'милиционер', 'обнаружить', 'самый', 'начальник', 'турнир', 'свидетельствовать', 'россиянин', 'телефон', 'выиграть', 'житель', 'тренер', 'край', 'пострадавший', 'сотрудник', 'кубок', 'спорт', 'отдел', 'последний', 'район', 'проходить', 'около', 'неизвестный', 'отечественный', 'следовать', 'четыре', 'дтп', 'чемпион', 'жизнь', 'ветеран', 'теннисный', 'открыться', 'олимпийский', 'евгений', 'погибший', 'команда', 'воскресение', 'суббота', 'русский', 'милиция', 'пять', 'смочь', 'найти', 'получить', 'победа', 'остаться', 'столичный', 'пострадать', 'мероприятие', 'источник', 'дорога', 'финал', 'культура', 'подмосковье', 'журналист', 'петербург', 'открытие', 'городской', 'машина', 'метро', 'подготовка', 'сочи', 'пройти', 'шесть', 'ночь', 'руководитель', 'посвятить', 'несколько', 'выйти', 'впервые', 'имя', 'участник', 'площадь', 'образование', 'семь', 'выставка', 'интервью']\n",
            "82 ['турнир', 'выбор', 'теннисный', 'матч', 'футбол', 'передавать', 'писать', 'британский', 'лидер', 'тур', 'сайт', 'мир', 'выиграть', 'сборная', 'говориться', 'кубок', 'европа', 'переговоры', 'финал', 'европейский', 'футбольный', 'американский', 'путин', 'соглашение', 'евро', 'лига', 'франция', 'испания', 'договор', 'самый', 'право', 'доллар', 'германия', 'решение', 'открытый', 'рейтер', 'чемпионат', 'янукович', 'свидетельствовать', 'смочь', 'итог', 'команда', 'футболист', 'первое', 'сборный', 'против', 'ванкувер', 'впервые', 'чемпион', 'россиянин', 'французский', 'миллиард', 'продажа', 'пресс', 'опубликовать', 'серия', 'круг', 'планировать', 'готовый', 'хороший', 'олимпийский', 'намерить', 'победа', 'игра', 'новый', 'возможность', 'состав', 'греция', 'месяц', 'пять', 'должный', 'фон', 'новое', 'последний', 'подписать', 'сообщаться', 'выйти', 'национальный', 'дать', 'франс', 'финансовый', 'парламент', 'объявить', 'четыре', 'срок', 'представить', 'создание', 'неделя', 'мировой', 'турция', 'составлять', 'место', 'торг', 'принять', 'ближний', 'гражданин', 'визит', 'мочь', 'ассошиэйтед', 'изменение']\n",
            "83 ['тренер', 'корреспондент', 'мчс', 'визит', 'председатель', 'суббота', 'республика', 'воскресение', 'губернатор', 'александр', 'отдел', 'союз', 'победа', 'владимир', 'николай', 'заместитель', 'чемпионат', 'сборный', 'комитет', 'сергей', 'евгений', 'театр', 'игорь', 'депутат', 'великий', 'округа', 'руководитель', 'андрей', 'команда', 'польша', 'война', 'пост', 'киргизия', 'гувд', 'начальник', 'мвд', 'совет', 'ветеран', 'встреча', 'генеральный', 'дмитрий', 'партия', 'алексей', 'федерация', 'министр', 'форум', 'фестиваль', 'михаил', 'мероприятие', 'сборная', 'спорт', 'мэр', 'белоруссия', 'член', 'край', 'мид', 'клуб', 'вопрос', 'интервью', 'грузия', 'ванкувер', 'департамент', 'май', 'военный', 'сила', 'виктор', 'бывший', 'лидер', 'погибший', 'участник', 'россиянин', 'телефон', 'посвятить', 'участие', 'больница', 'отечественный', 'имя', 'русский', 'чемпион', 'администрация', 'март', 'известный', 'движение', 'парламент', 'место', 'дагестан', 'цска', 'кубок', 'региональный', 'убийство', 'казахстан', 'скп', 'юрий', 'северный', 'главный', 'олимпийский', 'комиссия', 'дтп', 'единый', 'милиция']\n",
            "84 ['погибнуть', 'причина', 'взрыв', 'поезд', 'утром', 'следственный', 'дагестан', 'вечером', 'факт', 'ночь', 'погибший', 'метро', 'футболист', 'неизвестный', 'главный', 'тренер', 'ссылка', 'теракт', 'начальник', 'произойти', 'дтп', 'внутренний', 'футбол', 'провинция', 'военный', 'пострадать', 'связь', 'убийство', 'милиционер', 'скончаться', 'обнаружить', 'жертва', 'польша', 'северный', 'воскресение', 'сообщение', 'скп', 'район', 'источник', 'суббота', 'информация', 'несколько', 'передавать', 'авария', 'проверка', 'машина', 'юг', 'телефон', 'милиция', 'ассошиэйтед', 'результат', 'последний', 'сборный', 'движение', 'сотрудник', 'дорога', 'правоохранительный', 'возбудить', 'футбольный', 'местный', 'шахта', 'команда', 'автомобиль', 'режим', 'станция', 'известный', 'южный', 'время', 'дата', 'сообщаться', 'пока', 'семь', 'грузия', 'найти', 'жизнь', 'рейтер', 'шесть', 'больница', 'событие', 'британский', 'клуб', 'турция', 'назвать', 'место', 'прибыть', 'аэропорт', 'здание', 'уголовный', 'проводить', 'задержать', 'центральный', 'телеканал', 'петербург', 'полиция', 'пост', 'александр', 'лидер', 'август', 'израиль', 'остаться']\n",
            "85 ['спорт', 'театр', 'евгений', 'тренер', 'скончаться', 'имя', 'мэр', 'олимпийский', 'юрий', 'спортивный', 'александр', 'чемпион', 'кубок', 'фестиваль', 'известный', 'общественный', 'федерация', 'матч', 'цска', 'культура', 'детский', 'чемпионат', 'победа', 'русский', 'гувд', 'сборный', 'состояться', 'школа', 'столичный', 'клуб', 'посвятить', 'владимир', 'хороший', 'турнир', 'больница', 'ванкувер', 'пройти', 'команда', 'образование', 'игра', 'андрей', 'городской', 'лига', 'назвать', 'николай', 'комитет', 'рассказать', 'депутат', 'проходить', 'сочи', 'милиция', 'жизнь', 'финал', 'выиграть', 'футболист', 'тур', 'ветеран', 'губернатор', 'главный', 'выступать', 'дмитрий', 'подготовка', 'футбольный', 'право', 'мероприятие', 'открыть', 'провести', 'открыться', 'следственный', 'сборная', 'дата', 'госдума', 'сергей', 'бывший', 'проведение', 'зал', 'представить', 'союз', 'отдел', 'серия', 'алексей', 'футбол', 'михаил', 'защита', 'петербург', 'пост', 'история', 'метро', 'выставка', 'убийство', 'сайт', 'открытие', 'скп', 'руководитель', 'назначить', 'форум', 'милиционер', 'проводить', 'площадь', 'здание']\n",
            "86 ['источник', 'обнаружить', 'остров', 'начальник', 'неизвестный', 'район', 'дать', 'машина', 'землетрясение', 'руководитель', 'сотрудник', 'автомобиль', 'сообщаться', 'информация', 'следственный', 'писать', 'милиционер', 'ночь', 'найти', 'провинция', 'больница', 'ассошиэйтед', 'жертва', 'произойти', 'край', 'правоохранительный', 'вечером', 'вод', 'дорога', 'пресс', 'дом', 'несколько', 'газета', 'скп', 'пострадать', 'специалист', 'поезд', 'метро', 'скончаться', 'утром', 'причина', 'сайт', 'составлять', 'американский', 'сообщение', 'нефть', 'подмосковье', 'дтп', 'юг', 'пострадавший', 'остаться', 'около', 'житель', 'станция', 'погибший', 'аэропорт', 'жизнь', 'здание', 'дагестан', 'погибнуть', 'доллар', 'зал', 'столица', 'пожар', 'находиться', 'полиция', 'россиянин', 'евро', 'дата', 'взрыв', 'выиграть', 'рейтер', 'последний', 'гражданин', 'самый', 'мчс', 'результат', 'авария', 'копейка', 'телеканал', 'столичный', 'передавать', 'семь', 'гаити', 'петербург', 'теннисный', 'следовать', 'открытый', 'корреспондент', 'суббота', 'округа', 'местный', 'серия', 'шесть', 'факт', 'телефон', 'продажа', 'открыть', 'часть', 'задержать']\n",
            "87 ['говориться', 'тренер', 'ссылка', 'чемпионат', 'сми', 'сборный', 'команда', 'телеканал', 'корреспондент', 'пост', 'генеральный', 'турнир', 'клуб', 'спорт', 'фонд', 'департамент', 'обсудить', 'федерация', 'николай', 'чемпион', 'фон', 'виктор', 'рассказать', 'интервью', 'свидетельствовать', 'мчс', 'развитие', 'считать', 'спортивный', 'заместитель', 'администрация', 'экономика', 'кубок', 'лига', 'совет', 'губернатор', 'сборная', 'госдума', 'встреча', 'партия', 'журналист', 'игра', 'хороший', 'министр', 'андрей', 'проблема', 'футбол', 'алексей', 'депутат', 'выступать', 'мэр', 'ванкувер', 'парламент', 'форум', 'теннисный', 'пресс', 'россиянин', 'франция', 'мид', 'футболист', 'круг', 'сергей', 'назвать', 'союз', 'газета', 'евгений', 'состояться', 'тур', 'известный', 'александр', 'отдел', 'олимпийский', 'первое', 'игорь', 'оон', 'бывший', 'дмитрий', 'цска', 'греция', 'школа', 'политика', 'финал', 'скончаться', 'программа', 'матч', 'юрий', 'выбор', 'михаил', 'выиграть', 'рейтер', 'главный', 'европа', 'государство', 'украинский', 'визит', 'больница', 'фестиваль', 'вопрос', 'лидер', 'ход']\n",
            "88 ['комитет', 'соглашение', 'участие', 'итог', 'директор', 'сайт', 'решение', 'считать', 'сергей', 'договор', 'сотрудничество', 'объявить', 'уровень', 'представить', 'выставка', 'русский', 'выступать', 'система', 'посвятить', 'программа', 'вопрос', 'рамка', 'заявление', 'развитие', 'открытие', 'форум', 'министр', 'союз', 'европейский', 'иск', 'алексей', 'совет', 'председатель', 'назначить', 'ядерный', 'состав', 'политика', 'тренер', 'подготовка', 'украинский', 'проект', 'защита', 'сочи', 'подписать', 'новый', 'говориться', 'назвать', 'поддержка', 'новое', 'андрей', 'создание', 'спорт', 'комиссия', 'планировать', 'направить', 'завершить', 'ванкувер', 'федерация', 'намерить', 'игра', 'мировой', 'фонд', 'французский', 'иностранный', 'экономический', 'визит', 'путин', 'срок', 'апрель', 'проведение', 'должный', 'июнь', 'февраль', 'экономика', 'призвать', 'миллиард', 'мир', 'владимир', 'принять', 'сборный', 'михаил', 'хороший', 'национальный', 'интервью', 'государство', 'право', 'александр', 'германия', 'неделя', 'игорь', 'возможность', 'история', 'начать', 'изменение', 'руководитель', 'олимпийский', 'впервые', 'виктор', 'корреспондент', 'британский']\n",
            "89 ['начальник', 'взрыв', 'руководитель', 'отдел', 'связь', 'комиссия', 'здание', 'председатель', 'заместитель', 'оао', 'транспорт', 'округа', 'владимир', 'департамент', 'дагестан', 'республика', 'метро', 'журналист', 'сотрудник', 'ситуация', 'станция', 'юрий', 'северный', 'режим', 'александр', 'проверка', 'район', 'орган', 'киргизия', 'военный', 'судебный', 'сергей', 'шахта', 'городской', 'теракт', 'комитет', 'источник', 'безопасность', 'движение', 'государственный', 'территория', 'нарушение', 'федеральный', 'уголовный', 'мвд', 'директор', 'общественный', 'вопрос', 'областной', 'столичный', 'ряд', 'информация', 'произойти', 'факт', 'утром', 'газа', 'дорога', 'комплекс', 'рассмотреть', 'строительство', 'пожар', 'внутренний', 'подмосковье', 'генеральный', 'предприятие', 'возбудить', 'центральный', 'работа', 'региональный', 'главный', 'заседание', 'служба', 'мэр', 'член', 'милиция', 'игорь', 'иск', 'направить', 'система', 'пострадать', 'прокуратура', 'авария', 'петербург', 'поезд', 'ведомство', 'пострадавший', 'алексей', 'сообщение', 'проводить', 'производство', 'регион', 'создать', 'рабочий', 'депутат', 'срок', 'ход', 'апрель', 'погибнуть', 'руководство', 'неизвестный']\n",
            "90 ['сми', 'скп', 'мид', 'сайт', 'воскресение', 'служба', 'суббота', 'прокуратура', 'полиция', 'гражданин', 'провинция', 'мчс', 'землетрясение', 'жертва', 'дата', 'заявление', 'газа', 'местный', 'сообщение', 'проверка', 'официальный', 'телеканал', 'дать', 'мвд', 'матч', 'погибнуть', 'дтп', 'поезд', 'израиль', 'причина', 'следственный', 'шахта', 'команда', 'юг', 'турция', 'погибший', 'режим', 'футболист', 'польша', 'результат', 'остров', 'сотрудник', 'афганистан', 'информация', 'ведомство', 'район', 'сила', 'министр', 'аэропорт', 'убийство', 'грузия', 'тренер', 'состав', 'пострадавший', 'милиционер', 'сборный', 'казахстан', 'больница', 'рейтер', 'лидер', 'журналист', 'партия', 'гаити', 'нарушение', 'пострадать', 'дагестан', 'оон', 'внутренний', 'пресс', 'республика', 'нефть', 'против', 'авария', 'член', 'южный', 'газета', 'факт', 'ассошиэйтед', 'китай', 'футбол', 'национальный', 'подозревать', 'министерство', 'ссылка', 'парламент', 'визит', 'иностранный', 'военный', 'дорога', 'связь', 'комитет', 'задержать', 'британский', 'безопасность', 'руководство', 'киргизия', 'обвинять', 'германия', 'машина', 'решение']\n",
            "91 ['турнир', 'иск', 'андрей', 'владимир', 'цска', 'скп', 'алексей', 'игорь', 'банка', 'копейка', 'лига', 'госдума', 'судебный', 'клуб', 'фонд', 'биржа', 'чемпион', 'евро', 'сайт', 'обвинять', 'евгений', 'зал', 'право', 'торг', 'теннисный', 'акция', 'дата', 'футбольный', 'матч', 'закон', 'доллар', 'защита', 'сергей', 'александр', 'скончаться', 'гувд', 'николай', 'средство', 'цена', 'продажа', 'курс', 'известный', 'ветеран', 'оао', 'семья', 'свидетельствовать', 'круг', 'рынок', 'финансовый', 'областной', 'союз', 'писать', 'юрий', 'образование', 'спорт', 'финал', 'кубок', 'опубликовать', 'выступать', 'футболист', 'больница', 'подозревать', 'составлять', 'вырастить', 'школа', 'чемпионат', 'театр', 'тренер', 'столичный', 'снизиться', 'бывший', 'михаил', 'политика', 'прокуратура', 'индекс', 'виктор', 'жизнь', 'рассмотреть', 'выиграть', 'серия', 'хороший', 'газета', 'нарушение', 'следственный', 'получить', 'убийство', 'следовать', 'заседание', 'имя', 'дать', 'миллиард', 'рассказать', 'отечественный', 'считать', 'информация', 'выйти', 'составить', 'директор', 'комитет', 'департамент']\n",
            "92 ['ссылка', 'турнир', 'федерация', 'бывший', 'считать', 'чемпион', 'михаил', 'союз', 'сборный', 'выступать', 'известный', 'лидер', 'против', 'договор', 'политика', 'кубок', 'интервью', 'франция', 'встреча', 'олимпийский', 'мировой', 'мид', 'назвать', 'чемпионат', 'оон', 'иран', 'ядерный', 'переговоры', 'британский', 'алексей', 'заявление', 'призвать', 'французский', 'пресс', 'сотрудничество', 'борьба', 'тренер', 'американский', 'андрей', 'израиль', 'круг', 'германия', 'грузия', 'спорт', 'николай', 'право', 'игорь', 'финал', 'иностранный', 'комитет', 'европейский', 'сми', 'сборная', 'финансовый', 'форум', 'испания', 'экономический', 'лига', 'европа', 'телеканал', 'ванкувер', 'хороший', 'госдума', 'футбольный', 'обсудить', 'национальный', 'член', 'сергей', 'теннисный', 'организация', 'мир', 'спортивный', 'александр', 'вопрос', 'игра', 'обвинять', 'признать', 'посвятить', 'пост', 'государство', 'евгений', 'убийство', 'франс', 'иск', 'корреспондент', 'рамка', 'совет', 'соглашение', 'команда', 'цска', 'рейтер', 'визит', 'газета', 'защита', 'отношение', 'представить', 'назначить', 'выиграть', 'генеральный', 'являться']\n",
            "93 ['сборный', 'тренер', 'министр', 'мид', 'чемпионат', 'команда', 'федерация', 'официальный', 'сотрудничество', 'сборная', 'чемпион', 'переговоры', 'турнир', 'кубок', 'иностранный', 'союз', 'считать', 'соглашение', 'игорь', 'подписать', 'лига', 'алексей', 'ядерный', 'встреча', 'белоруссия', 'договор', 'выступать', 'футболист', 'скп', 'обсудить', 'ссылка', 'комитет', 'андрей', 'футбол', 'теннисный', 'министерство', 'сергей', 'спорт', 'николай', 'цска', 'финал', 'борьба', 'экономика', 'дата', 'футбольный', 'опубликовать', 'иран', 'казахстан', 'назвать', 'германия', 'рейтер', 'экономический', 'политика', 'итог', 'оон', 'михаил', 'турция', 'совет', 'ведомство', 'круг', 'матч', 'израиль', 'евгений', 'россиянин', 'выиграть', 'интервью', 'бывший', 'испания', 'европейский', 'хороший', 'внутренний', 'франция', 'форум', 'пресс', 'госдума', 'финансовый', 'фон', 'свидетельствовать', 'александр', 'игра', 'дмитрий', 'безопасность', 'мвд', 'отношение', 'мировой', 'пост', 'директор', 'назначить', 'европа', 'государство', 'изменение', 'вопрос', 'мир', 'рост', 'визит', 'сообщаться', 'клуб', 'национальный', 'американский', 'призвать']\n",
            "94 ['скп', 'правоохранительный', 'скончаться', 'мчс', 'источник', 'больница', 'гувд', 'орган', 'газета', 'отдел', 'мвд', 'обнаружить', 'телефон', 'следственный', 'дагестан', 'милиционер', 'дтп', 'департамент', 'взрыв', 'опубликовать', 'принять', 'неизвестный', 'ведомство', 'район', 'землетрясение', 'копейка', 'служба', 'администрация', 'клуб', 'пострадать', 'утром', 'руководитель', 'метро', 'телеканал', 'подозревать', 'алексей', 'жизнь', 'милиция', 'специалист', 'тренер', 'возбудить', 'полиция', 'станция', 'убийство', 'андрей', 'обвинять', 'составить', 'лига', 'театр', 'губернатор', 'пресс', 'ночь', 'министр', 'свидетельствовать', 'интервью', 'дата', 'вечером', 'игорь', 'имя', 'теракт', 'остров', 'начальник', 'столичный', 'пожар', 'сотрудник', 'произойти', 'вырастить', 'директор', 'евгений', 'евро', 'погибнуть', 'министерство', 'школа', 'составлять', 'подмосковье', 'писать', 'торг', 'прокуратура', 'местный', 'банка', 'биржа', 'снизиться', 'рейтер', 'появиться', 'дом', 'сообщаться', 'чемпионат', 'авария', 'цена', 'ссылка', 'доллар', 'найти', 'чемпион', 'задержать', 'александр', 'сообщение', 'событие', 'пострадавший', 'городской', 'сми']\n",
            "95 ['землетрясение', 'доллар', 'мчс', 'отдел', 'провинция', 'остров', 'индекс', 'министр', 'департамент', 'ночь', 'евро', 'район', 'обнаружить', 'вечером', 'ссылка', 'аэропорт', 'северный', 'утром', 'воскресение', 'нефть', 'визит', 'пожар', 'неизвестный', 'суббота', 'неделя', 'специалист', 'вод', 'источник', 'министерство', 'телефон', 'матч', 'тренер', 'торг', 'юг', 'полиция', 'дагестан', 'открыться', 'клуб', 'начальник', 'прибыть', 'южный', 'правоохранительный', 'копейка', 'начаться', 'газета', 'гувд', 'произойти', 'администрация', 'рейтер', 'больница', 'возбудить', 'мвд', 'пройти', 'гаити', 'театр', 'состояться', 'интервью', 'столица', 'сотрудник', 'внутренний', 'руководитель', 'футбол', 'главный', 'тур', 'лига', 'фон', 'телеканал', 'биржа', 'команда', 'китай', 'центральный', 'станция', 'фестиваль', 'серия', 'встреча', 'подмосковье', 'служба', 'взрыв', 'составить', 'испания', 'скончаться', 'заместитель', 'мид', 'авария', 'андрей', 'снизиться', 'поезд', 'директор', 'алексей', 'открыть', 'турнир', 'игорь', 'связь', 'пресс', 'победа', 'составлять', 'период', 'посетить', 'кубок', 'площадь']\n",
            "96 ['скп', 'гувд', 'алексей', 'андрей', 'дата', 'игорь', 'директор', 'скончаться', 'театр', 'источник', 'отдел', 'сергей', 'газета', 'оао', 'александр', 'мчс', 'начальник', 'евгений', 'следственный', 'клуб', 'ссылка', 'губернатор', 'департамент', 'руководитель', 'имя', 'вечером', 'телефон', 'администрация', 'больница', 'сайт', 'копейка', 'телеканал', 'николай', 'неизвестный', 'михаил', 'погибнуть', 'пострадать', 'зал', 'генеральный', 'состояться', 'утром', 'владимир', 'служба', 'назначить', 'иск', 'открыться', 'округа', 'юрий', 'областной', 'ведомство', 'прокуратура', 'дагестан', 'председатель', 'комитет', 'петербург', 'полиция', 'мвд', 'аэропорт', 'сми', 'ночь', 'пресс', 'тренер', 'прибыть', 'дтп', 'фестиваль', 'провинция', 'возбудить', 'мэр', 'судебный', 'край', 'региональный', 'бывший', 'составить', 'убийство', 'центральный', 'правоохранительный', 'официальный', 'городской', 'сообщение', 'подозревать', 'сотрудник', 'министерство', 'открыть', 'заместитель', 'заявление', 'интервью', 'рейтер', 'союз', 'опубликовать', 'известный', 'выставка', 'пройти', 'столичный', 'обвинять', 'подписать', 'биржа', 'заседание', 'обнаружить', 'министр', 'транспорт']\n",
            "97 ['турнир', 'теннисный', 'фонд', 'федерация', 'кубок', 'сборный', 'тренер', 'союз', 'соглашение', 'подписать', 'считать', 'чемпион', 'чемпионат', 'михаил', 'выступать', 'спорт', 'сборная', 'финал', 'выиграть', 'евро', 'круг', 'андрей', 'экономический', 'алексей', 'доллар', 'лига', 'пост', 'госдума', 'сотрудничество', 'экономика', 'политика', 'договор', 'виктор', 'победа', 'европа', 'финансовый', 'бывший', 'янукович', 'европейский', 'мировой', 'россиянин', 'партия', 'первое', 'решение', 'игорь', 'лидер', 'программа', 'принять', 'банка', 'совет', 'развитие', 'форум', 'франция', 'выйти', 'спортивный', 'национальный', 'олимпийский', 'участие', 'белоруссия', 'футбольный', 'украинский', 'сергей', 'составлять', 'иск', 'мир', 'являться', 'назначить', 'открытый', 'команда', 'германия', 'евгений', 'николай', 'рамка', 'представить', 'итог', 'депутат', 'закон', 'игра', 'французский', 'уровень', 'выставка', 'борьба', 'поддержка', 'британский', 'назвать', 'срок', 'единый', 'ванкувер', 'директор', 'проект', 'испания', 'изменение', 'хороший', 'встреча', 'фон', 'предлагать', 'новый', 'создание', 'матч', 'государство']\n",
            "98 ['турнир', 'теннисный', 'сообщаться', 'дать', 'сообщение', 'опубликовать', 'матч', 'сайт', 'свидетельствовать', 'кубок', 'выиграть', 'финал', 'дата', 'самый', 'остров', 'чемпионат', 'передавать', 'серия', 'круг', 'открытый', 'биржа', 'выйти', 'тур', 'следовать', 'американский', 'сборная', 'обнаружить', 'испания', 'поезд', 'пресс', 'житель', 'писать', 'история', 'британский', 'победа', 'найти', 'индекс', 'говориться', 'россиянин', 'команда', 'смочь', 'футболист', 'составлять', 'сми', 'скп', 'жертва', 'лига', 'копейка', 'гражданин', 'хороший', 'ассошиэйтед', 'рейтер', 'помочь', 'фон', 'янукович', 'мир', 'проходить', 'впервые', 'причина', 'германия', 'чемпион', 'лидер', 'французский', 'весь', 'дорога', 'событие', 'цска', 'евро', 'изменение', 'против', 'несколько', 'последний', 'зал', 'часть', 'ванкувер', 'место', 'мировой', 'результат', 'польша', 'семь', 'право', 'также', 'корреспондент', 'ряд', 'остаться', 'сборный', 'погибший', 'суббота', 'официальный', 'торг', 'назвать', 'большой', 'игра', 'франция', 'четыре', 'шесть', 'семья', 'правоохранительный', 'продажа', 'воскресение']\n",
            "99 ['госдума', 'владимир', 'виктор', 'александр', 'считать', 'сергей', 'губернатор', 'развитие', 'андрей', 'депутат', 'край', 'отечественный', 'алексей', 'экономика', 'юрий', 'образование', 'спорт', 'дмитрий', 'право', 'игорь', 'николай', 'свидетельствовать', 'заседание', 'федеральный', 'закон', 'ветеран', 'изменение', 'олимпийский', 'председатель', 'мировой', 'рассмотреть', 'ванкувер', 'подготовка', 'встреча', 'итог', 'единый', 'предлагать', 'лидер', 'михаил', 'хороший', 'война', 'высокий', 'пост', 'региональный', 'выбор', 'совет', 'направить', 'поддержка', 'средство', 'великий', 'также', 'рассказать', 'партия', 'дата', 'опубликовать', 'политика', 'являться', 'евгений', 'отношение', 'защита', 'назвать', 'министр', 'победа', 'интервью', 'выступать', 'культура', 'скончаться', 'регион', 'фонд', 'вопрос', 'государство', 'путин', 'россиянин', 'янукович', 'история', 'уровень', 'это', 'мэр', 'тренер', 'самый', 'говориться', 'уголовный', 'детский', 'теннисный', 'русский', 'обсудить', 'бывший', 'составлять', 'республика', 'спортивный', 'экономический', 'создание', 'игра', 'посвятить', 'семья', 'парламент', 'принять', 'первое', 'помочь', 'государственный']\n"
          ],
          "name": "stdout"
        }
      ]
    },
    {
      "cell_type": "markdown",
      "metadata": {
        "id": "5h7Rvg6vWyYI",
        "colab_type": "text"
      },
      "source": [
        "# Model"
      ]
    },
    {
      "cell_type": "code",
      "metadata": {
        "id": "Y4xDeTYojtoC",
        "colab_type": "code",
        "colab": {}
      },
      "source": [
        "import math \n",
        "# Source: https://pytorch.org/tutorials/beginner/transformer_tutorial.html\n",
        "class PositionalEncoding(nn.Module):\n",
        "    def __init__(self, d_model, dropout=0.1, max_len=200):\n",
        "        super(PositionalEncoding, self).__init__()\n",
        "        self.dropout = nn.Dropout(p=dropout)\n",
        "\n",
        "        pe = torch.zeros(max_len, d_model)\n",
        "        position = torch.arange(0, max_len, dtype=torch.float).unsqueeze(1)\n",
        "        div_term = torch.exp(torch.arange(0, d_model, 2).float() * (-math.log(10000.0) / d_model))\n",
        "        pe[:, 0::2] = torch.sin(position * div_term)\n",
        "        pe[:, 1::2] = torch.cos(position * div_term)\n",
        "        pe = pe.unsqueeze(0).transpose(0, 1)\n",
        "        self.register_buffer('pe', pe)\n",
        "\n",
        "    def forward(self, x):\n",
        "        x = x + self.pe[:x.size(0), :]\n",
        "        return self.dropout(x)\n",
        "\n",
        "\n",
        "class ScheduledOptim():\n",
        "    '''A simple wrapper class for learning rate scheduling'''\n",
        "\n",
        "    def __init__(self, optimizer, d_model, n_warmup_steps):\n",
        "        self._optimizer = optimizer\n",
        "        self.n_warmup_steps = n_warmup_steps\n",
        "        self.n_current_steps = 0\n",
        "        self.init_lr = np.power(d_model, -0.5)\n",
        "\n",
        "    def step(self):\n",
        "        \"Step with the inner optimizer\"\n",
        "        self._update_learning_rate()\n",
        "        self._optimizer.step()\n",
        "\n",
        "    def zero_grad(self):\n",
        "        \"Zero out the gradients by the inner optimizer\"\n",
        "        self._optimizer.zero_grad()\n",
        "\n",
        "    def _get_lr_scale(self):\n",
        "        return np.min([\n",
        "            np.power(self.n_current_steps, -0.5),\n",
        "            np.power(self.n_warmup_steps, -1.5) * self.n_current_steps])\n",
        "\n",
        "    def _update_learning_rate(self):\n",
        "        ''' Learning rate scheduling per step '''\n",
        "\n",
        "        self.n_current_steps += 1\n",
        "        lr = self.init_lr * self._get_lr_scale()\n",
        "\n",
        "        for param_group in self._optimizer.param_groups:\n",
        "            param_group['lr'] = lr\n",
        "\n",
        "\n",
        "def gen_nopeek_mask(length):\n",
        "    mask = rearrange(torch.triu(torch.ones(length, length)) == 1, 'h w -> w h')\n",
        "    mask = rearrange(torch.triu(torch.ones(length, length)) == 1, 'h w -> w h')\n",
        "    mask = mask.float().masked_fill(mask == 0, float('-inf')).masked_fill(mask == 1, float(0.0))\n",
        "    return mask\n",
        "\n",
        "class ConditionalHeadlineGenerator(nn.Module):\n",
        "    def __init__(self, lang, device, vocab_size, max_seq_length, d_model, aspects_num, abae_regilarize, batch_size,  \n",
        "                 abae_negative_m, nhead, num_encoder_layers, num_decoder_layers, dim_feedforward, pos_dropout, trans_dropout):\n",
        "        super().__init__()\n",
        "        # Constants\n",
        "        self.lang = lang\n",
        "        self.device = device\n",
        "        self.d_model = d_model\n",
        "        self.vocab_size = vocab_size\n",
        "        self.aspects_num = aspects_num\n",
        "        self.abae_regilarize = abae_regilarize\n",
        "        self.abae_negative_m = abae_negative_m\n",
        "        self.batch_size = batch_size\n",
        "\n",
        "        self.max_seq_length = max_seq_length\n",
        "        \n",
        "        # auto .parameters()\n",
        "        self.embed_tgt = nn.Embedding(vocab_size, d_model)\n",
        "        self.embed_src = nn.Embedding(vocab_size, d_model)\n",
        "        self.transformer = nn.Transformer(d_model, nhead, num_encoder_layers, num_decoder_layers, dim_feedforward, trans_dropout)\n",
        "        self.fc = nn.Linear(d_model, vocab_size)\n",
        "        self.w_embs = self.embed_src # abae\n",
        "        self.sentence_aspects = torch.nn.Linear(d_model, aspects_num) # abae\n",
        "\n",
        "        # needs to be added to optimizer\n",
        "        self.a_embs = torch.randn(aspects_num, d_model, requires_grad=True, device=device) # abae\n",
        "        self.attention_M = torch.randn(d_model, d_model, requires_grad=True, device=device) # abae\n",
        "\n",
        "        # other staff\n",
        "        self.pos_enc = PositionalEncoding(d_model, pos_dropout, max_seq_length+1) # +1 for first conditional token\n",
        "        self.criterion = nn.CrossEntropyLoss(ignore_index=self.lang.word2index['PAD'])\n",
        "        self.optimizer = None\n",
        "\n",
        "        #set device\n",
        "        self.to(self.device)\n",
        "\n",
        "\n",
        "\n",
        "    def tgt_emb(self, tgt):\n",
        "        return self.embed_src(tgt)\n",
        "\n",
        "\n",
        "    def src_emb(self, src): # for T and abae\n",
        "        return self.embed_src(src)\n",
        "\n",
        "\n",
        "    def make_sentence(self, embs):\n",
        "        \"\"\"\n",
        "        input: embedded words\n",
        "        output: weights\n",
        "        \"\"\"\n",
        "        ys = torch.mean(embs, axis=0).unsqueeze(dim=1)\n",
        "        # print(self.attention_M.shape) # torch.Size([300, 300])\n",
        "        # print(ys.shape) # torch.Size([300, 1])\n",
        "        # print(torch.mm(self.attention_M, ys).shape) # torch.Size([300, 1])\n",
        "        # print(embs.shape) # torch.Size([19, 300])\n",
        "        di = torch.mm(embs, torch.mm(self.attention_M, ys)) # [seq_len, dim] [[dim, dim] [dim, 1]]\n",
        "        ai = torch.nn.functional.softmax(di, dim=1)\n",
        "        zs = torch.mm(embs.T, ai)\n",
        "        return zs\n",
        "\n",
        "\n",
        "    def add_major_aspect(self, srcs_lns, src):\n",
        "        \"\"\"\n",
        "        input: embedded sentences [Batch, seq len, dim]\n",
        "        output: embedded words hstasked with aspect vectors [Batch, 1+seq len, dim]\n",
        "        \"\"\"\n",
        "        av = torch.zeros(src.shape[0], 1, src.shape[2]).to(self.device) # [Batch, dim]\n",
        "        for i in range(src.shape[0]):\n",
        "          ys = torch.mean(src[i, :srcs_lns[i], :], axis=0).unsqueeze(dim=1) # [dim, 1]\n",
        "          di = torch.mm(src[i, :srcs_lns[i], :], torch.mm(self.attention_M, ys)) # [seq_len, dim] [[dim, dim] [dim, 1]]\n",
        "          ai = torch.nn.functional.softmax(di, dim=1) # [seq_len, 1]\n",
        "          zs = torch.mm(src[i, :srcs_lns[i], :].T, ai) # [dim, 1]\n",
        "          pt = torch.nn.functional.softmax(self.sentence_aspects(zs.T), dim=1).T # [apects num, 1]\n",
        "          av[i, 0, :] = self.a_embs[torch.argmax(pt)]\n",
        "        src = torch.cat([av, src], dim=1) # Batch, 1+seq len, dim]\n",
        "        return src # [Batch, 1+seq len, dim]\n",
        "\n",
        "\n",
        "    def init_embeddings(self, wv): # abae\n",
        "        assert(self.embed_src.weight.data.shape == wv.shape)\n",
        "        assert(self.embed_tgt.weight.data.shape == wv.shape)\n",
        "        self.embed_src.weight.data = wv\n",
        "        self.embed_tgt.weight.data = wv\n",
        "\n",
        "\n",
        "    def make_sentence_raw(self, embs): # abae\n",
        "        return torch.mean(embs, axis=0).unsqueeze(dim=1)\n",
        "\n",
        "\n",
        "    def abae_forward(self, ps, ns_list):\n",
        "        \"\"\"\n",
        "        ps - positive sequence. Tensor of shape (sentence_length,)\n",
        "        ns_list - list of negaitve sequence. Tensor of shape [(sentence_length,), ...]\n",
        "        \"\"\"\n",
        "        embs = self.w_embs(ps) # (sentence_length, emb_dim)\n",
        "        zs = self.make_sentence(embs) # sentence from attentioned words vectors\n",
        "        pt = torch.nn.functional.softmax(self.sentence_aspects(zs.T), dim=1).T\n",
        "        rs = torch.mm(self.a_embs.T, pt) # sentence reconstraction by aspects vectors\n",
        "        return rs, zs, [self.make_sentence_raw(self.w_embs(ns)) for ns in ns_list]\n",
        "\n",
        "\n",
        "    def abae_step(self, b_ps, b_ns):\n",
        "        \"\"\"\n",
        "        No grad zero here.\n",
        "        Input:\n",
        "        --------\n",
        "        b_ps batch of positive sentences\n",
        "        b_ns batch of lists of negative sentances\n",
        "        \"\"\"\n",
        "        batch_loss = torch.Tensor([[0.0]]).to(self.device)\n",
        "        for b_s in range(len(b_ps)):\n",
        "            ps = torch.Tensor(b_ps[b_s]).long().to(self.device)\n",
        "            ns_list = [torch.Tensor(ns).long().to(self.device) for ns in b_ns[b_s]]\n",
        "            rs, ps, ns_list = self.abae_forward(ps, ns_list)\n",
        "            sample_loss = torch.Tensor([[1.0]]).to(self.device)\n",
        "            sample_loss -= torch.mm(rs.T, ps).to(self.device)\n",
        "            for ns in ns_list:\n",
        "                sample_loss += torch.mm(rs.T, ns).to(self.device)\n",
        "            if sample_loss > 0:\n",
        "                batch_loss += sample_loss\n",
        "        batch_loss += self.abae_regilarize*torch.norm(torch.mm(self.a_embs, self.a_embs.T)-torch.eye(self.a_embs.shape[0]).to(self.device))\n",
        "        return batch_loss\n",
        "\n",
        "\n",
        "    def abae_train(self, pairs, epochs_n, progress_bar=False, logging=False, dataset_shuffle=False):\n",
        "        \"\"\"\n",
        "        Be carefull ro turn your parameters into \n",
        "        train phase before launching this.\n",
        "        \"\"\"\n",
        "        abae_dataset = ABAEDataset(pairs, self.lang, self.abae_negative_m)\n",
        "        losses = []\n",
        "        for epoch_i in range(epochs_n):\n",
        "            abae_dataloader = DataLoader(abae_dataset, \n",
        "                                         batch_size=self.batch_size, \n",
        "                                         collate_fn=collate_fn,\n",
        "                                         shuffle=dataset_shuffle)\n",
        "            epoch_loss = torch.Tensor([[0.0]]).to(self.device)\n",
        "            for b_ps, b_ns in tqdm.tqdm(abae_dataloader, disable=(not progress_bar)):\n",
        "                self.optimizer.zero_grad()\n",
        "                batch_loss = self.abae_step(b_ps, b_ns)\n",
        "                epoch_loss += batch_loss.item()\n",
        "                batch_loss.backward()\n",
        "                self.optimizer.step()          \n",
        "            losses.append((epoch_i, epoch_loss.item()))\n",
        "            if logging:\n",
        "                print(f\"ABAE train epoch: {epoch_i} - loss: {epoch_loss}\")\n",
        "        \n",
        "        return losses\n",
        "\n",
        "    def transformer_train(self, pairs, epochs_n, progress_bar=False, logging=False, dataset_shuffle=False):\n",
        "        \"\"\"\n",
        "        Transformer train\n",
        "        \"\"\"\n",
        "        train_size = int(0.8*len(pairs))\n",
        "        train_T_dataset = HeadlinesDataset(pairs[:train_size], self.lang, batch_size=self.batch_size)\n",
        "        test_T_dataset  = HeadlinesDataset(pairs[train_size:], self.lang, batch_size=self.batch_size)\n",
        "        \n",
        "        train_losses = []\n",
        "        test_losses = []\n",
        "        for epoch_i in range(epochs_n):\n",
        "            train_T_loader = DataLoader(train_T_dataset, batch_size=1, shuffle=dataset_shuffle, num_workers=0, pin_memory=True)\n",
        "            test_T_loader = DataLoader(test_T_dataset, batch_size=1, shuffle=dataset_shuffle, num_workers=0, pin_memory=True)\n",
        "\n",
        "            self.train()\n",
        "            train_epoch_loss = 0.0\n",
        "            for srcs_lns, src, tgt, src_key_padding_mask, tgt_key_padding_mask in tqdm.tqdm(train_T_loader, disable=(not progress_bar)):\n",
        "                self.optimizer.zero_grad()\n",
        "                batch_loss = torch.Tensor([[0.0]]).to(self.device)\n",
        "\n",
        "                src, src_key_padding_mask = src[0].to(device), src_key_padding_mask[0].to(device)\n",
        "                tgt, tgt_key_padding_mask = tgt[0].to(device), tgt_key_padding_mask[0].to(device)\n",
        "                memory_key_padding_mask = src_key_padding_mask.clone()\n",
        "                tgt_inp, tgt_out = tgt[:, :-1], tgt[:, 1:]\n",
        "                tgt_key_padding_mask_inp = tgt_key_padding_mask[:, :-1]\n",
        "                tgt_mask = gen_nopeek_mask(tgt_inp.shape[1]).to(device) # also to device\n",
        "\n",
        "                output = self.transformer_forward(srcs_lns, src, tgt_inp, src_key_padding_mask, tgt_key_padding_mask_inp, memory_key_padding_mask, tgt_mask)\n",
        "                batch_loss += self.criterion(rearrange(output, 'b t v -> (b t) v'), rearrange(tgt_out, 'b o -> (b o)'))\n",
        "                batch_loss.backward()\n",
        "                self.optimizer.step()\n",
        "                train_epoch_loss += batch_loss.item()\n",
        "            train_losses.append((epoch_i, train_epoch_loss))\n",
        "\n",
        "\n",
        "            self.eval()\n",
        "            test_epoch_loss = 0.0\n",
        "            for srcs_lns, src, tgt, src_key_padding_mask, tgt_key_padding_mask in tqdm.tqdm(test_T_loader, disable=(not progress_bar)):\n",
        "                with torch.no_grad():\n",
        "                    src, src_key_padding_mask = src[0].to(device), src_key_padding_mask[0].to(device) # to device\n",
        "                    tgt, tgt_key_padding_mask = tgt[0].to(device), tgt_key_padding_mask[0].to(device) # to device\n",
        "                    memory_key_padding_mask = src_key_padding_mask.clone()\n",
        "                    tgt_inp, tgt_out = tgt[:, :-1], tgt[:, 1:]\n",
        "                    tgt_key_padding_mask_inp = tgt_key_padding_mask[:, :-1]\n",
        "                    tgt_mask = gen_nopeek_mask(tgt_inp.shape[1]).to(device) # also to device\n",
        "\n",
        "                    output = self.transformer_forward(srcs_lns, src, tgt_inp, src_key_padding_mask, tgt_key_padding_mask_inp, memory_key_padding_mask, tgt_mask)\n",
        "                    loss = self.criterion(rearrange(output, 'b t v -> (b t) v'), rearrange(tgt_out, 'b o -> (b o)'))\n",
        "                    test_epoch_loss += loss.item()\n",
        "            test_losses.append((epoch_i, test_epoch_loss))\n",
        "\n",
        "            print(f\"\\nEpoch: {epoch_i} Train loss: {train_epoch_loss} Test loss: {test_epoch_loss}\")\n",
        "        \n",
        "        return train_losses, test_losses\n",
        "\n",
        "    def full_train(self, pairs, epochs_n, progress_bar=False, logging=False, dataset_shuffle=False):\n",
        "        \"\"\"\n",
        "        Transformer and abae simultaneous train\n",
        "        \"\"\"\n",
        "        train_T_dataset = HeadlinesDataset(pairs, self.lang, batch_size=self.batch_size)\n",
        "        test_T_dataset  = HeadlinesDataset(pairs, self.lang, batch_size=self.batch_size)\n",
        "        train_abae_dataset = ABAEDataset(pairs, self.lang, self.abae_negative_m)\n",
        "        \n",
        "        train_losses = []\n",
        "        test_losses = []\n",
        "        for epoch_i in range(epochs_n):\n",
        "            train_T_loader = DataLoader(train_T_dataset, batch_size=1, shuffle=dataset_shuffle, num_workers=0, pin_memory=True)\n",
        "            test_T_loader = DataLoader(test_T_dataset, batch_size=1, shuffle=dataset_shuffle, num_workers=0, pin_memory=True)\n",
        "            train_abae_loader = DataLoader(train_abae_dataset, batch_size=self.batch_size, collate_fn=collate_fn)\n",
        "            abae_iterator = iter(train_abae_loader)\n",
        "\n",
        "            self.train()\n",
        "            train_epoch_loss = 0.0\n",
        "            for srcs_lns, src, tgt, src_key_padding_mask, tgt_key_padding_mask in tqdm.tqdm(train_T_loader, disable=(not progress_bar)):\n",
        "                self.optimizer.zero_grad()\n",
        "                batch_loss = torch.Tensor([[0.0]]).to(self.device)\n",
        "\n",
        "                b_ps, b_ns = next(abae_iterator)\n",
        "                batch_loss += self.abae_step(b_ps, b_ns)\n",
        "\n",
        "                src, src_key_padding_mask = src[0].to(device), src_key_padding_mask[0].to(device)\n",
        "                tgt, tgt_key_padding_mask = tgt[0].to(device), tgt_key_padding_mask[0].to(device)\n",
        "                memory_key_padding_mask = src_key_padding_mask.clone()\n",
        "                tgt_inp, tgt_out = tgt[:, :-1], tgt[:, 1:]\n",
        "                tgt_key_padding_mask_inp = tgt_key_padding_mask[:, :-1]\n",
        "                tgt_mask = gen_nopeek_mask(tgt_inp.shape[1]).to(device) # also to device\n",
        "\n",
        "                output = self.transformer_forward(srcs_lns, src, tgt_inp, src_key_padding_mask, tgt_key_padding_mask_inp, memory_key_padding_mask, tgt_mask)\n",
        "                batch_loss += self.criterion(rearrange(output, 'b t v -> (b t) v'), rearrange(tgt_out, 'b o -> (b o)'))\n",
        "                batch_loss.backward()\n",
        "                self.optimizer.step()\n",
        "                train_epoch_loss += batch_loss.item()\n",
        "            train_losses.append((epoch_i, train_epoch_loss))\n",
        "\n",
        "\n",
        "            self.eval()\n",
        "            test_epoch_loss = 0.0\n",
        "            for srcs_lns, src, tgt, src_key_padding_mask, tgt_key_padding_mask in tqdm.tqdm(test_T_loader, disable=(not progress_bar)):\n",
        "                with torch.no_grad():\n",
        "                    src, src_key_padding_mask = src[0].to(device), src_key_padding_mask[0].to(device) # to device\n",
        "                    tgt, tgt_key_padding_mask = tgt[0].to(device), tgt_key_padding_mask[0].to(device) # to device\n",
        "                    memory_key_padding_mask = src_key_padding_mask.clone()\n",
        "                    tgt_inp, tgt_out = tgt[:, :-1], tgt[:, 1:]\n",
        "                    tgt_key_padding_mask_inp = tgt_key_padding_mask[:, :-1]\n",
        "                    tgt_mask = gen_nopeek_mask(tgt_inp.shape[1]).to(device) # also to device\n",
        "\n",
        "                    output = self.transformer_forward(srcs_lns, src, tgt_inp, src_key_padding_mask, tgt_key_padding_mask_inp, memory_key_padding_mask, tgt_mask)\n",
        "                    loss = self.criterion(rearrange(output, 'b t v -> (b t) v'), rearrange(tgt_out, 'b o -> (b o)'))\n",
        "                    test_epoch_loss += loss.item()\n",
        "            test_losses.append((epoch_i, test_epoch_loss))\n",
        "\n",
        "            print(f\"\\nEpoch: {epoch_i} Train loss: {train_epoch_loss} Test loss: {test_epoch_loss}\")\n",
        "        \n",
        "        return train_losses, test_losses\n",
        "\n",
        "\n",
        "    def transformer_forward(self, srcs_lns, src, tgt, src_key_padding_mask, tgt_key_padding_mask, memory_key_padding_mask, tgt_mask):\n",
        "        tgt = tgt.permute(1, 0)\n",
        "        src = self.embed_src(src)\n",
        "        src = self.add_major_aspect(srcs_lns, src)\n",
        "        src = src.permute(1, 0, 2)\n",
        "        src = self.pos_enc(src*math.sqrt(self.d_model)) # why every time multiply? just init it somewhere\n",
        "        tgt = self.pos_enc(self.embed_tgt(tgt) * math.sqrt(self.d_model))\n",
        "        output = self.transformer(src, tgt, tgt_mask=tgt_mask, src_key_padding_mask=src_key_padding_mask,\n",
        "                                  tgt_key_padding_mask=tgt_key_padding_mask, memory_key_padding_mask=memory_key_padding_mask)\n",
        "        output = output.permute(1, 0, 2)\n",
        "        return self.fc(output)\n",
        "\n",
        "\n",
        "    def set_optimizer(self, Optimizer, **optimizer_args):\n",
        "        self.optimizer = Optimizer(self.get_parameters(), **optimizer_args)\n",
        "\n",
        "    def get_parameters(self):\n",
        "        return list(self.parameters())+[self.a_embs, self.attention_M]\n",
        "\n",
        "    def get_aspects_vector(self, inp):\n",
        "        pass\n",
        "\n",
        "\n",
        "    def transformer_train_step(self, inp):\n",
        "        aspects_vector = self.get_aspects_vector(inp)\n",
        "        pass\n",
        "\n",
        "    def init_embs(self, wv, av):\n",
        "        pass\n",
        "\n",
        "\n",
        "\n",
        "\n",
        "\n",
        "model = ConditionalHeadlineGenerator(lang, device, lang.n_words, lang.max_seq_length,\n",
        "                            config['d_model'], config['aspects_num'],\n",
        "                            config['abae_regilarize'], config['batch_size'],\n",
        "                            config['abae_negative_m'],\n",
        "                            config['nhead'], config['num_encoder_layers'],\n",
        "                            config['num_decoder_layers'], config['dim_feedforward'],  \n",
        "                            config['pos_dropout'], config['trans_dropout'])\n",
        "\n",
        "\n",
        "wv = torch.randn(model.vocab_size, model.d_model)\n",
        "for w in word_init_vectors.keys():\n",
        "    ind = lang.word2index[w]\n",
        "    wv[ind, :] = torch.Tensor(word_init_vectors[w])\n",
        "av = torch.Tensor(av).shape\n",
        "model.init_embs(wv, av)"
      ],
      "execution_count": 0,
      "outputs": []
    },
    {
      "cell_type": "markdown",
      "metadata": {
        "id": "dDiRWhUarIgq",
        "colab_type": "text"
      },
      "source": [
        "# Abae pretrain"
      ]
    },
    {
      "cell_type": "code",
      "metadata": {
        "id": "r0xrogLEqCKm",
        "colab_type": "code",
        "colab": {}
      },
      "source": [
        "model.set_optimizer(torch.optim.Adam, lr=0.001)"
      ],
      "execution_count": 0,
      "outputs": []
    },
    {
      "cell_type": "code",
      "metadata": {
        "id": "sVB0U9h09sG2",
        "colab_type": "code",
        "outputId": "a7f78dbb-74bc-401d-81ae-0d694c0056e4",
        "colab": {
          "base_uri": "https://localhost:8080/",
          "height": 126
        }
      },
      "source": [
        "for param in model.embed_src.parameters():\n",
        "    param.requires_grad = False\n",
        "# print(model.embed_src.weight.requires_grad)\n",
        "losses = model.abae_train(pairs, 3, progress_bar=True, logging=True)"
      ],
      "execution_count": 73,
      "outputs": [
        {
          "output_type": "stream",
          "text": [
            "100%|██████████| 1562/1562 [04:31<00:00,  5.75it/s]\n",
            "  0%|          | 1/1562 [00:00<04:23,  5.93it/s]"
          ],
          "name": "stderr"
        },
        {
          "output_type": "stream",
          "text": [
            "ABAE train epoch: 0 - loss: tensor([[130164.2422]], device='cuda:0')\n"
          ],
          "name": "stdout"
        },
        {
          "output_type": "stream",
          "text": [
            "100%|██████████| 1562/1562 [04:31<00:00,  5.75it/s]\n",
            "  0%|          | 1/1562 [00:00<04:07,  6.32it/s]"
          ],
          "name": "stderr"
        },
        {
          "output_type": "stream",
          "text": [
            "ABAE train epoch: 1 - loss: tensor([[24295.3066]], device='cuda:0')\n"
          ],
          "name": "stdout"
        },
        {
          "output_type": "stream",
          "text": [
            "100%|██████████| 1562/1562 [04:30<00:00,  5.78it/s]"
          ],
          "name": "stderr"
        },
        {
          "output_type": "stream",
          "text": [
            "ABAE train epoch: 2 - loss: tensor([[22127.1680]], device='cuda:0')\n"
          ],
          "name": "stdout"
        },
        {
          "output_type": "stream",
          "text": [
            "\n"
          ],
          "name": "stderr"
        }
      ]
    },
    {
      "cell_type": "code",
      "metadata": {
        "id": "qBDn1mVdv6_2",
        "colab_type": "code",
        "outputId": "9f84923f-d081-4663-86e2-cbcf9161f10e",
        "colab": {
          "base_uri": "https://localhost:8080/",
          "height": 72
        }
      },
      "source": [
        "for param in model.embed_src.parameters():\n",
        "    param.requires_grad = True\n",
        "# print(model.embed_src.weight.requires_grad)\n",
        "losses = model.abae_train(pairs, 3, progress_bar=True, logging=True)"
      ],
      "execution_count": 0,
      "outputs": [
        {
          "output_type": "stream",
          "text": [
            "100%|██████████| 1562/1562 [05:14<00:00,  4.97it/s]\n",
            "  0%|          | 1/1562 [00:00<04:46,  5.46it/s]"
          ],
          "name": "stderr"
        },
        {
          "output_type": "stream",
          "text": [
            "ABAE train epoch: 0 - loss: tensor([[18951.8008]], device='cuda:0')\n"
          ],
          "name": "stdout"
        },
        {
          "output_type": "stream",
          "text": [
            " 54%|█████▍    | 850/1562 [02:50<02:16,  5.22it/s]"
          ],
          "name": "stderr"
        }
      ]
    },
    {
      "cell_type": "markdown",
      "metadata": {
        "id": "dimisX_jrLJy",
        "colab_type": "text"
      },
      "source": [
        "# Transformer train"
      ]
    },
    {
      "cell_type": "code",
      "metadata": {
        "id": "UP-wlVQ9qF28",
        "colab_type": "code",
        "colab": {}
      },
      "source": [
        "model.optimizer = ScheduledOptim(\n",
        "                      optimizer=torch.optim.Adam(model.get_parameters(), betas=(0.9, 0.98), eps=1e-09),\n",
        "                      d_model=config['d_model'], \n",
        "                      n_warmup_steps=config['n_warmup_steps']\n",
        "                    )"
      ],
      "execution_count": 0,
      "outputs": []
    },
    {
      "cell_type": "code",
      "metadata": {
        "id": "h_aAcemy9sQD",
        "colab_type": "code",
        "outputId": "1e202f98-426d-441c-9e34-99c80248e190",
        "colab": {
          "base_uri": "https://localhost:8080/",
          "height": 235
        }
      },
      "source": [
        "for param in model.embed_src.parameters():\n",
        "    param.requires_grad = False\n",
        "# model.embed_src.eval()\n",
        "# print(model.embed_src.weight.requires_grad)\n",
        "losses = model.full_train(pairs, 3, progress_bar=True, logging=True)"
      ],
      "execution_count": 20,
      "outputs": [
        {
          "output_type": "stream",
          "text": [
            "100%|██████████| 195/195 [07:07<00:00,  2.19s/it]\n",
            "100%|██████████| 195/195 [01:07<00:00,  2.90it/s]\n",
            "  0%|          | 0/195 [00:00<?, ?it/s]"
          ],
          "name": "stderr"
        },
        {
          "output_type": "stream",
          "text": [
            "\n",
            "Epoch: 0 Train loss: 2023.284785270691 Test loss: 1497.5435032844543\n"
          ],
          "name": "stdout"
        },
        {
          "output_type": "stream",
          "text": [
            "100%|██████████| 195/195 [07:02<00:00,  2.17s/it]\n",
            "100%|██████████| 195/195 [01:06<00:00,  2.93it/s]\n",
            "  0%|          | 0/195 [00:00<?, ?it/s]"
          ],
          "name": "stderr"
        },
        {
          "output_type": "stream",
          "text": [
            "\n",
            "Epoch: 1 Train loss: 2150.9341325759888 Test loss: 1472.6619606018066\n"
          ],
          "name": "stdout"
        },
        {
          "output_type": "stream",
          "text": [
            "100%|██████████| 195/195 [07:07<00:00,  2.19s/it]\n",
            "100%|██████████| 195/195 [01:07<00:00,  2.91it/s]"
          ],
          "name": "stderr"
        },
        {
          "output_type": "stream",
          "text": [
            "\n",
            "Epoch: 2 Train loss: 2373.6995372772217 Test loss: 1475.3468141555786\n"
          ],
          "name": "stdout"
        },
        {
          "output_type": "stream",
          "text": [
            "\n"
          ],
          "name": "stderr"
        }
      ]
    },
    {
      "cell_type": "code",
      "metadata": {
        "id": "m-qdpltW9shD",
        "colab_type": "code",
        "colab": {
          "base_uri": "https://localhost:8080/",
          "height": 235
        },
        "outputId": "5420091a-c593-41c7-9fac-7c17d54f1974"
      },
      "source": [
        "for param in model.embed_src.parameters():\n",
        "    param.requires_grad = True\n",
        "# model.embed_src.eval()\n",
        "# print(model.embed_src.weight.requires_grad)\n",
        "losses = model.full_train(pairs, 3, progress_bar=True, logging=True)"
      ],
      "execution_count": 21,
      "outputs": [
        {
          "output_type": "stream",
          "text": [
            "100%|██████████| 195/195 [07:29<00:00,  2.30s/it]\n",
            "100%|██████████| 195/195 [01:07<00:00,  2.88it/s]\n",
            "  0%|          | 0/195 [00:00<?, ?it/s]"
          ],
          "name": "stderr"
        },
        {
          "output_type": "stream",
          "text": [
            "\n",
            "Epoch: 0 Train loss: 2565.918791294098 Test loss: 1485.2131705284119\n"
          ],
          "name": "stdout"
        },
        {
          "output_type": "stream",
          "text": [
            "100%|██████████| 195/195 [07:28<00:00,  2.30s/it]\n",
            "100%|██████████| 195/195 [01:06<00:00,  2.95it/s]\n",
            "  0%|          | 0/195 [00:00<?, ?it/s]"
          ],
          "name": "stderr"
        },
        {
          "output_type": "stream",
          "text": [
            "\n",
            "Epoch: 1 Train loss: 2394.0606441497803 Test loss: 1477.184257030487\n"
          ],
          "name": "stdout"
        },
        {
          "output_type": "stream",
          "text": [
            "100%|██████████| 195/195 [07:27<00:00,  2.30s/it]\n",
            "100%|██████████| 195/195 [01:07<00:00,  2.91it/s]"
          ],
          "name": "stderr"
        },
        {
          "output_type": "stream",
          "text": [
            "\n",
            "Epoch: 2 Train loss: 2439.751399040222 Test loss: 1510.2906861305237\n"
          ],
          "name": "stdout"
        },
        {
          "output_type": "stream",
          "text": [
            "\n"
          ],
          "name": "stderr"
        }
      ]
    },
    {
      "cell_type": "code",
      "metadata": {
        "id": "8i7YvzAgWlbc",
        "colab_type": "code",
        "colab": {
          "base_uri": "https://localhost:8080/",
          "height": 744
        },
        "outputId": "25decfdd-1c17-4c47-bd20-6c693e9ef810"
      },
      "source": [
        "# for param in model.embed_src.parameters():\n",
        "#     param.requires_grad = True\n",
        "# model.embed_src.eval()\n",
        "# print(model.embed_src.weight.requires_grad)\n",
        "losses = model.transformer_train(pairs, 10, progress_bar=True, logging=True)"
      ],
      "execution_count": 64,
      "outputs": [
        {
          "output_type": "stream",
          "text": [
            "100%|██████████| 125/125 [00:21<00:00,  5.90it/s]\n",
            "100%|██████████| 31/31 [00:01<00:00, 18.51it/s]\n",
            "  1%|          | 1/125 [00:00<00:21,  5.84it/s]"
          ],
          "name": "stderr"
        },
        {
          "output_type": "stream",
          "text": [
            "\n",
            "Epoch: 0 Train loss: 1259.2135095596313 Test loss: 289.9703722000122\n"
          ],
          "name": "stdout"
        },
        {
          "output_type": "stream",
          "text": [
            "100%|██████████| 125/125 [00:21<00:00,  5.90it/s]\n",
            "100%|██████████| 31/31 [00:01<00:00, 17.89it/s]\n",
            "  1%|          | 1/125 [00:00<00:20,  6.09it/s]"
          ],
          "name": "stderr"
        },
        {
          "output_type": "stream",
          "text": [
            "\n",
            "Epoch: 1 Train loss: 1083.6124410629272 Test loss: 254.13342094421387\n"
          ],
          "name": "stdout"
        },
        {
          "output_type": "stream",
          "text": [
            "100%|██████████| 125/125 [00:20<00:00,  5.99it/s]\n",
            "100%|██████████| 31/31 [00:01<00:00, 18.04it/s]\n",
            "  1%|          | 1/125 [00:00<00:21,  5.88it/s]"
          ],
          "name": "stderr"
        },
        {
          "output_type": "stream",
          "text": [
            "\n",
            "Epoch: 2 Train loss: 950.7730197906494 Test loss: 242.66188144683838\n"
          ],
          "name": "stdout"
        },
        {
          "output_type": "stream",
          "text": [
            "100%|██████████| 125/125 [00:21<00:00,  5.93it/s]\n",
            "100%|██████████| 31/31 [00:01<00:00, 18.27it/s]\n",
            "  1%|          | 1/125 [00:00<00:20,  6.15it/s]"
          ],
          "name": "stderr"
        },
        {
          "output_type": "stream",
          "text": [
            "\n",
            "Epoch: 3 Train loss: 906.0624032020569 Test loss: 237.6808099746704\n"
          ],
          "name": "stdout"
        },
        {
          "output_type": "stream",
          "text": [
            "100%|██████████| 125/125 [00:20<00:00,  5.97it/s]\n",
            "100%|██████████| 31/31 [00:01<00:00, 19.28it/s]\n",
            "  1%|          | 1/125 [00:00<00:20,  6.11it/s]"
          ],
          "name": "stderr"
        },
        {
          "output_type": "stream",
          "text": [
            "\n",
            "Epoch: 4 Train loss: 880.1048512458801 Test loss: 237.1311182975769\n"
          ],
          "name": "stdout"
        },
        {
          "output_type": "stream",
          "text": [
            "100%|██████████| 125/125 [00:20<00:00,  5.96it/s]\n",
            "100%|██████████| 31/31 [00:01<00:00, 19.27it/s]\n",
            "  1%|          | 1/125 [00:00<00:20,  6.14it/s]"
          ],
          "name": "stderr"
        },
        {
          "output_type": "stream",
          "text": [
            "\n",
            "Epoch: 5 Train loss: 846.8132944107056 Test loss: 229.22937870025635\n"
          ],
          "name": "stdout"
        },
        {
          "output_type": "stream",
          "text": [
            "100%|██████████| 125/125 [00:21<00:00,  5.92it/s]\n",
            "100%|██████████| 31/31 [00:01<00:00, 18.15it/s]\n",
            "  1%|          | 1/125 [00:00<00:20,  6.11it/s]"
          ],
          "name": "stderr"
        },
        {
          "output_type": "stream",
          "text": [
            "\n",
            "Epoch: 6 Train loss: 811.6280164718628 Test loss: 226.5752182006836\n"
          ],
          "name": "stdout"
        },
        {
          "output_type": "stream",
          "text": [
            "100%|██████████| 125/125 [00:21<00:00,  5.92it/s]\n",
            "100%|██████████| 31/31 [00:01<00:00, 18.07it/s]\n",
            "  1%|          | 1/125 [00:00<00:21,  5.85it/s]"
          ],
          "name": "stderr"
        },
        {
          "output_type": "stream",
          "text": [
            "\n",
            "Epoch: 7 Train loss: 778.7484111785889 Test loss: 225.0522904396057\n"
          ],
          "name": "stdout"
        },
        {
          "output_type": "stream",
          "text": [
            "100%|██████████| 125/125 [00:21<00:00,  5.84it/s]\n",
            "100%|██████████| 31/31 [00:01<00:00, 19.07it/s]\n",
            "  1%|          | 1/125 [00:00<00:20,  6.19it/s]"
          ],
          "name": "stderr"
        },
        {
          "output_type": "stream",
          "text": [
            "\n",
            "Epoch: 8 Train loss: 746.567304611206 Test loss: 221.87253046035767\n"
          ],
          "name": "stdout"
        },
        {
          "output_type": "stream",
          "text": [
            "100%|██████████| 125/125 [00:20<00:00,  5.98it/s]\n",
            "100%|██████████| 31/31 [00:01<00:00, 17.68it/s]"
          ],
          "name": "stderr"
        },
        {
          "output_type": "stream",
          "text": [
            "\n",
            "Epoch: 9 Train loss: 717.7538962364197 Test loss: 219.90733242034912\n"
          ],
          "name": "stdout"
        },
        {
          "output_type": "stream",
          "text": [
            "\n"
          ],
          "name": "stderr"
        }
      ]
    },
    {
      "cell_type": "markdown",
      "metadata": {
        "id": "vppAOhOzxzN3",
        "colab_type": "text"
      },
      "source": [
        "# Aspect inference"
      ]
    },
    {
      "cell_type": "code",
      "metadata": {
        "id": "eRfY_rbsULY6",
        "colab_type": "code",
        "colab": {
          "base_uri": "https://localhost:8080/",
          "height": 1000
        },
        "outputId": "5e7702ce-b688-4db8-a071-341fcde4126a"
      },
      "source": [
        "aspects_vectors = model.a_embs.data.tolist()\n",
        "words_vectors   = model.embed_src.weight.data.tolist()\n",
        "\n",
        "words = []\n",
        "word_v = []\n",
        "for w in model.lang.word2count:\n",
        "    if lang.word2count[w] > 1000 and lang.word2count[w] < 5000:\n",
        "        word_v.append(words_vectors[model.lang.word2index[w]])\n",
        "        words.append(w)\n",
        "print(len(words))\n",
        "\n",
        "\n",
        "\n",
        "def sim(word, aspect):\n",
        "    return np.dot(word, aspect)\n",
        "\n",
        "def sim2(word, aspect):\n",
        "    return np.sum((word-aspect)**2)\n",
        "\n",
        "neares_num = 100\n",
        "for aspect_i in range(len(aspects_vectors)):\n",
        "    aspect = np.array(aspects_vectors[aspect_i])\n",
        "    similarities = []\n",
        "    for word_i in range(len(word_v)):\n",
        "        word = words[word_i]\n",
        "        similarities.append([word, sim(word_v[word_i], aspect)])\n",
        "    \n",
        "    low_words = sorted(similarities, key=lambda x: x[1])[:neares_num]\n",
        "    print(aspect_i, [w[0] for w in low_words])"
      ],
      "execution_count": 65,
      "outputs": [
        {
          "output_type": "stream",
          "text": [
            "403\n",
            "0 ['состав', 'судебный', 'французский', 'производство', 'должный', 'факт', 'пострадавший', 'цска', 'виктор', 'европа', 'политика', 'назвать', 'здание', 'поддержка', 'опубликовать', 'сотрудник', 'сообщение', 'совет', 'сми', 'фестиваль', 'южный', 'первое', 'культура', 'случай', 'подмосковье', 'жертва', 'взрыв', 'чемпионат', 'составлять', 'известный', 'жизнь', 'группа', 'фон', 'воскресение', 'тренер', 'признать', 'вод', 'торг', 'безопасность', 'автомобиль', 'завершить', 'пожар', 'иран', 'пострадать', 'пока', 'банка', 'провести', 'рейтер', 'клуб', 'заседание', 'матч', 'район', 'закон', 'отношение', 'несколько', 'афганистан', 'решение', 'возбудить', 'интервью', 'республика', 'транспорт', 'изменение', 'отечественный', 'министр', 'работа', 'юрий', 'защита', 'подписать', 'строительство', 'являться', 'программа', 'руководство', 'вопрос', 'впервые', 'имя', 'мировой', 'задержать', 'система', 'последний', 'представить', 'уровень', 'владимир', 'режим', 'составить', 'помочь', 'срок', 'мэр', 'казахстан', 'больница', 'пять', 'фонд', 'прокуратура', 'дать', 'остров', 'театр', 'лига', 'март', 'число', 'финал', 'следовать']\n",
            "1 ['обвинять', 'встреча', 'рынок', 'соглашение', 'выбор', 'федерация', 'группа', 'ссылка', 'поезд', 'пока', 'ход', 'путин', 'провести', 'форум', 'ядерный', 'круг', 'гражданин', 'средство', 'срок', 'ассошиэйтед', 'говориться', 'известный', 'газета', 'руководство', 'городской', 'банка', 'округа', 'культура', 'выйти', 'миллиард', 'парламент', 'сми', 'работа', 'дата', 'поддержка', 'начальник', 'внутренний', 'специалист', 'взрыв', 'греция', 'сообщение', 'также', 'копейка', 'планировать', 'объявить', 'чемпионат', 'германия', 'передавать', 'число', 'безопасность', 'мид', 'служба', 'состав', 'участник', 'следовать', 'отношение', 'месяц', 'рабочий', 'семь', 'биржа', 'июнь', 'открыть', 'это', 'скончаться', 'сочи', 'проект', 'чемпион', 'назвать', 'петербург', 'мера', 'рейтер', 'право', 'вопрос', 'начаться', 'несколько', 'период', 'новый', 'край', 'театр', 'заместитель', 'район', 'иностранный', 'оон', 'предлагать', 'рамка', 'предприятие', 'время', 'машина', 'иск', 'мэр', 'неизвестный', 'обсудить', 'часть', 'направить', 'суббота', 'школа', 'польша', 'бывший', 'произойти', 'франция']\n",
            "2 ['депутат', 'посвятить', 'великий', 'крупный', 'ночь', 'сообщаться', 'намерить', 'проводить', 'орган', 'готовый', 'бывший', 'говориться', 'аэропорт', 'организация', 'провести', 'связь', 'русский', 'мера', 'губернатор', 'четыре', 'средство', 'фестиваль', 'представить', 'юрий', 'столица', 'участник', 'пост', 'шесть', 'часть', 'соглашение', 'германия', 'футболист', 'мчс', 'срок', 'столичный', 'николай', 'футбол', 'государственный', 'украинский', 'конец', 'новый', 'национальный', 'обвинять', 'дом', 'источник', 'шахта', 'ассошиэйтед', 'май', 'сборная', 'проект', 'оон', 'подписать', 'событие', 'защита', 'движение', 'назвать', 'ветеран', 'копейка', 'семь', 'региональный', 'грузия', 'создать', 'общественный', 'греция', 'результат', 'информация', 'городской', 'район', 'начать', 'комитет', 'выбор', 'пока', 'спортивный', 'пять', 'александр', 'политика', 'посетить', 'телефон', 'ряд', 'станция', 'торг', 'хороший', 'заявление', 'тур', 'образование', 'южный', 'европейский', 'изменение', 'рост', 'рассмотреть', 'имя', 'визит', 'комплекс', 'тренер', 'директор', 'ядерный', 'появиться', 'мероприятие', 'мир', 'состав']\n",
            "3 ['мид', 'состояться', 'руководство', 'намерить', 'руководитель', 'европа', 'здание', 'последний', 'пока', 'национальный', 'назвать', 'петербург', 'комиссия', 'решение', 'дом', 'франс', 'май', 'новое', 'закон', 'детский', 'владимир', 'безопасность', 'свидетельствовать', 'проходить', 'встреча', 'специалист', 'украинский', 'франция', 'рейтер', 'представить', 'назначить', 'клуб', 'испания', 'акция', 'планировать', 'аэропорт', 'госдума', 'сборная', 'отношение', 'пост', 'источник', 'конец', 'уголовный', 'заявление', 'банка', 'помощь', 'гувд', 'создание', 'обнаружить', 'нарушение', 'проводить', 'начальник', 'выйти', 'работа', 'отечественный', 'высокий', 'республика', 'поддержка', 'развитие', 'выбор', 'четыре', 'скончаться', 'региональный', 'дагестан', 'предлагать', 'сотрудник', 'участие', 'событие', 'комитет', 'транспорт', 'игорь', 'дать', 'мвд', 'землетрясение', 'факт', 'зал', 'дтп', 'начаться', 'вырастить', 'областной', 'работать', 'оон', 'система', 'против', 'телеканал', 'режим', 'мера', 'прокуратура', 'государственный', 'неизвестный', 'юг', 'ядерный', 'отдел', 'милиционер', 'война', 'матч', 'рабочий', 'олимпийский', 'следственный', 'скп']\n",
            "4 ['встреча', 'грузия', 'суббота', 'франс', 'мвд', 'франция', 'федеральный', 'станция', 'иностранный', 'ситуация', 'белоруссия', 'прибыть', 'время', 'пост', 'убийство', 'владимир', 'евро', 'зал', 'пока', 'вечером', 'национальный', 'пострадать', 'открытый', 'казахстан', 'смочь', 'передавать', 'евгений', 'сообщение', 'строительство', 'признать', 'чемпионат', 'греция', 'мчс', 'закон', 'проблема', 'состояться', 'февраль', 'форум', 'спорт', 'ход', 'экономический', 'сайт', 'республика', 'визит', 'мир', 'украинский', 'серия', 'связь', 'северный', 'мероприятие', 'михаил', 'областной', 'дтп', 'южный', 'семья', 'выйти', 'отдел', 'тренер', 'найти', 'юрий', 'свидетельствовать', 'принять', 'выставка', 'срок', 'государственный', 'аэропорт', 'жизнь', 'корреспондент', 'больница', 'игорь', 'случай', 'служба', 'ванкувер', 'хороший', 'сочи', 'турция', 'место', 'экономика', 'возбудить', 'губернатор', 'история', 'израиль', 'результат', 'открытие', 'воскресение', 'жертва', 'сборная', 'государство', 'защита', 'нарушение', 'чемпион', 'выступать', 'команда', 'факт', 'предлагать', 'петербург', 'оао', 'французский', 'путин', 'помощь']\n",
            "5 ['оон', 'нарушение', 'известный', 'отечественный', 'заявление', 'утром', 'режим', 'федерация', 'продажа', 'израиль', 'посвятить', 'открыться', 'сообщение', 'местный', 'встреча', 'последний', 'торг', 'зал', 'круг', 'воскресение', 'защита', 'передавать', 'конец', 'игра', 'выбор', 'гувд', 'футбол', 'милиционер', 'итог', 'депутат', 'мчс', 'николай', 'сайт', 'писать', 'уголовный', 'иностранный', 'следовать', 'транспорт', 'официальный', 'сборный', 'мировой', 'спорт', 'детский', 'отдел', 'провинция', 'предлагать', 'госдума', 'июль', 'футбольный', 'завершить', 'экономика', 'несколько', 'клуб', 'великий', 'новое', 'рамка', 'число', 'школа', 'участие', 'франция', 'проверка', 'сборная', 'европа', 'готовый', 'получить', 'аэропорт', 'имя', 'губернатор', 'подготовка', 'скп', 'май', 'свидетельствовать', 'помочь', 'следственный', 'назначить', 'победа', 'дмитрий', 'греция', 'намерить', 'мэр', 'провести', 'рабочий', 'оао', 'член', 'срок', 'корреспондент', 'британский', 'представить', 'тур', 'дата', 'проект', 'новый', 'месяц', 'больница', 'ссылка', 'акция', 'виктор', 'руководитель', 'петербург', 'вопрос']\n",
            "6 ['мировой', 'европейский', 'юг', 'новое', 'жертва', 'авария', 'новый', 'открыться', 'больница', 'война', 'цска', 'изменение', 'мера', 'грузия', 'проходить', 'май', 'место', 'сотрудничество', 'завершить', 'дагестан', 'ведомство', 'погибший', 'возможность', 'участие', 'южный', 'намерить', 'серия', 'задержать', 'официальный', 'представить', 'весь', 'рамка', 'комплекс', 'миллиард', 'дмитрий', 'свидетельствовать', 'предлагать', 'следственный', 'союз', 'комиссия', 'специалист', 'ассошиэйтед', 'начаться', 'китай', 'транспорт', 'израиль', 'чемпион', 'метро', 'сила', 'департамент', 'футболист', 'около', 'участник', 'шахта', 'мид', 'принять', 'пройти', 'мочь', 'нефть', 'ссылка', 'игра', 'подозревать', 'связь', 'начать', 'единый', 'генеральный', 'скп', 'директор', 'это', 'рейтер', 'лига', 'случай', 'рынок', 'продажа', 'виктор', 'тренер', 'соглашение', 'остаться', 'самый', 'предприятие', 'округа', 'говориться', 'назначить', 'афганистан', 'выйти', 'смочь', 'государственный', 'германия', 'проект', 'рассмотреть', 'должный', 'режим', 'причина', 'сообщение', 'теннисный', 'великий', 'лидер', 'политика', 'жизнь', 'губернатор']\n",
            "7 ['ряд', 'вод', 'директор', 'неделя', 'случай', 'журналист', 'игорь', 'посетить', 'региональный', 'дать', 'поддержка', 'следственный', 'круг', 'режим', 'сотрудничество', 'взрыв', 'считать', 'апрель', 'дорога', 'решение', 'подписать', 'строительство', 'гаити', 'машина', 'уровень', 'изменение', 'парламент', 'пост', 'заседание', 'получить', 'признать', 'война', 'экономический', 'движение', 'оон', 'безопасность', 'футбольный', 'губернатор', 'семья', 'михаил', 'посвятить', 'остров', 'зал', 'воскресение', 'являться', 'предприятие', 'найти', 'спортивный', 'метро', 'май', 'работать', 'говориться', 'милиция', 'тренер', 'землетрясение', 'оао', 'время', 'участник', 'планировать', 'серия', 'нарушение', 'комитет', 'сайт', 'прокуратура', 'работа', 'обнаружить', 'гувд', 'крупный', 'срок', 'первое', 'мид', 'лига', 'новое', 'хороший', 'фестиваль', 'июль', 'конец', 'весь', 'дтп', 'банка', 'игра', 'петербург', 'уголовный', 'судебный', 'призвать', 'скп', 'цена', 'союз', 'официальный', 'ведомство', 'связь', 'культура', 'возбудить', 'торг', 'фонд', 'состояться', 'финансовый', 'свидетельствовать', 'северный', 'самый']\n",
            "8 ['путин', 'участник', 'правоохранительный', 'посетить', 'это', 'пройти', 'петербург', 'государство', 'проблема', 'столица', 'край', 'оон', 'мвд', 'китай', 'директор', 'июнь', 'начаться', 'грузия', 'район', 'часть', 'соглашение', 'новый', 'поддержка', 'результат', 'убийство', 'конец', 'партия', 'транспорт', 'дом', 'источник', 'заявление', 'департамент', 'война', 'гаити', 'министр', 'рейтер', 'команда', 'миллиард', 'ванкувер', 'переговоры', 'февраль', 'жертва', 'прокуратура', 'мэр', 'первое', 'семь', 'следственный', 'воскресение', 'федерация', 'проведение', 'областной', 'борьба', 'телеканал', 'официальный', 'дтп', 'ведомство', 'весь', 'форум', 'система', 'найти', 'сми', 'шесть', 'уровень', 'суббота', 'теракт', 'представить', 'испания', 'получить', 'программа', 'городской', 'специалист', 'станция', 'юрий', 'снизиться', 'возможность', 'случай', 'связь', 'газа', 'остаться', 'договор', 'хороший', 'служба', 'школа', 'клуб', 'копейка', 'машина', 'председатель', 'визит', 'мочь', 'открытый', 'михаил', 'апрель', 'дата', 'округа', 'строительство', 'ситуация', 'польша', 'евгений', 'планировать', 'янукович']\n",
            "9 ['губернатор', 'май', 'мид', 'евро', 'посвятить', 'мэр', 'создать', 'направить', 'задержать', 'встреча', 'станция', 'оон', 'теракт', 'обнаружить', 'принять', 'израиль', 'отношение', 'мероприятие', 'начать', 'апрель', 'пройти', 'участие', 'фестиваль', 'предлагать', 'проходить', 'безопасность', 'назвать', 'факт', 'ведомство', 'убийство', 'европейский', 'внутренний', 'выставка', 'изменение', 'заместитель', 'погибший', 'закон', 'спортивный', 'получить', 'чемпион', 'украинский', 'подготовка', 'национальный', 'строительство', 'франс', 'сборная', 'янукович', 'визит', 'июнь', 'евгений', 'юрий', 'выступать', 'вод', 'открыться', 'назначить', 'дмитрий', 'поддержка', 'ядерный', 'землетрясение', 'край', 'ночь', 'здание', 'война', 'банка', 'выйти', 'вопрос', 'против', 'найти', 'отдел', 'представить', 'телеканал', 'свидетельствовать', 'связь', 'событие', 'больница', 'ход', 'футболист', 'провести', 'ряд', 'начальник', 'призвать', 'несколько', 'около', 'ванкувер', 'скп', 'партия', 'пожар', 'шахта', 'отечественный', 'дтп', 'посетить', 'столичный', 'миллиард', 'александр', 'житель', 'госдума', 'уголовный', 'проект', 'союз', 'рост']\n",
            "10 ['фестиваль', 'остаться', 'переговоры', 'сообщаться', 'направить', 'март', 'пока', 'рейтер', 'союз', 'комиссия', 'информация', 'составить', 'чемпионат', 'белоруссия', 'ход', 'жертва', 'следственный', 'воскресение', 'экономический', 'выступать', 'рынок', 'развитие', 'военный', 'пострадать', 'отношение', 'мера', 'конец', 'отдел', 'мир', 'гражданин', 'найти', 'предлагать', 'появиться', 'британский', 'городской', 'николай', 'франс', 'соглашение', 'произойти', 'являться', 'транспорт', 'защита', 'утром', 'интервью', 'александр', 'подготовка', 'подписать', 'культура', 'договор', 'янукович', 'проверка', 'юрий', 'серия', 'представить', 'афганистан', 'август', 'доллар', 'газета', 'акция', 'семь', 'провести', 'следовать', 'край', 'бывший', 'сергей', 'израиль', 'турция', 'часть', 'время', 'новое', 'пост', 'экономика', 'ситуация', 'сайт', 'команда', 'россиянин', 'школа', 'европейский', 'прокуратура', 'апрель', 'январь', 'пять', 'площадь', 'заместитель', 'сочи', 'теннисный', 'руководство', 'матч', 'пожар', 'цска', 'европа', 'греция', 'круг', 'семья', 'сборный', 'случай', 'генеральный', 'место', 'финансовый', 'срок']\n",
            "11 ['апрель', 'неделя', 'пострадать', 'возможность', 'белоруссия', 'посвятить', 'период', 'шахта', 'грузия', 'ведомство', 'алексей', 'владимир', 'отечественный', 'остров', 'произойти', 'дтп', 'телефон', 'рынок', 'посетить', 'полиция', 'информация', 'весь', 'ссылка', 'региональный', 'иск', 'лига', 'областной', 'спортивный', 'сми', 'финансовый', 'мэр', 'главный', 'борьба', 'департамент', 'шесть', 'чемпион', 'группа', 'отношение', 'участник', 'команда', 'получить', 'изменение', 'городской', 'смочь', 'курс', 'гувд', 'составить', 'комплекс', 'клуб', 'договор', 'дата', 'юг', 'афганистан', 'свидетельствовать', 'станция', 'европа', 'газета', 'открытие', 'выйти', 'планировать', 'призвать', 'метро', 'тур', 'руководство', 'теракт', 'объявить', 'следственный', 'часть', 'строительство', 'северный', 'подготовка', 'милиционер', 'конец', 'корреспондент', 'крупный', 'украинский', 'связь', 'нарушение', 'театр', 'пресс', 'должный', 'система', 'открытый', 'визит', 'председатель', 'месяц', 'новый', 'сообщение', 'состав', 'ряд', 'спорт', 'дом', 'рост', 'польша', 'возбудить', 'следовать', 'найти', 'сборная', 'появиться', 'пять']\n",
            "12 ['признать', 'сайт', 'июнь', 'михаил', 'край', 'ванкувер', 'ядерный', 'мероприятие', 'заявление', 'лига', 'автомобиль', 'официальный', 'американский', 'гувд', 'причина', 'первое', 'также', 'вырастить', 'партия', 'европа', 'германия', 'отношение', 'появиться', 'провести', 'ситуация', 'суббота', 'шахта', 'мвд', 'проводить', 'корреспондент', 'чемпионат', 'следственный', 'янукович', 'дагестан', 'ход', 'итог', 'дата', 'остаться', 'команда', 'индекс', 'начальник', 'греция', 'матч', 'против', 'проект', 'юрий', 'заместитель', 'сборная', 'нефть', 'рабочий', 'цена', 'руководство', 'крупный', 'экономический', 'рынок', 'площадь', 'семья', 'остров', 'рамка', 'олимпийский', 'союз', 'путин', 'защита', 'февраль', 'андрей', 'состояться', 'клуб', 'январь', 'дтп', 'четыре', 'мид', 'считать', 'образование', 'помощь', 'получить', 'фон', 'рост', 'обвинять', 'северный', 'торг', 'директор', 'культура', 'обнаружить', 'аэропорт', 'федерация', 'метро', 'направить', 'призвать', 'школа', 'группа', 'здание', 'сотрудник', 'польша', 'ближний', 'уголовный', 'пять', 'тренер', 'кубок', 'цска', 'зал']\n",
            "13 ['ведомство', 'мера', 'столица', 'юрий', 'сайт', 'передавать', 'дорога', 'это', 'дмитрий', 'оон', 'закон', 'тренер', 'выиграть', 'принять', 'встреча', 'ванкувер', 'получить', 'помощь', 'следовать', 'утром', 'средство', 'сочи', 'итог', 'создание', 'работать', 'белоруссия', 'связь', 'рассказать', 'игорь', 'единый', 'польша', 'май', 'проходить', 'четыре', 'начальник', 'время', 'игра', 'неделя', 'должный', 'рост', 'германия', 'госдума', 'футбольный', 'пожар', 'региональный', 'предлагать', 'заседание', 'киргизия', 'воскресение', 'телефон', 'нарушение', 'развитие', 'несколько', 'апрель', 'погибший', 'информация', 'турнир', 'администрация', 'федеральный', 'круг', 'иностранный', 'израиль', 'ситуация', 'мировой', 'образование', 'мид', 'задержать', 'считать', 'рейтер', 'семья', 'погибнуть', 'станция', 'начаться', 'составлять', 'история', 'программа', 'отдел', 'пройти', 'остаться', 'спортивный', 'депутат', 'источник', 'смочь', 'проект', 'против', 'отношение', 'правоохранительный', 'дом', 'матч', 'мчс', 'сила', 'заявление', 'помочь', 'ассошиэйтед', 'февраль', 'остров', 'визит', 'поезд', 'сборная', 'впервые']\n",
            "14 ['николай', 'мировой', 'алексей', 'часть', 'мочь', 'республика', 'связь', 'партия', 'губернатор', 'центральный', 'больница', 'заседание', 'телефон', 'открытие', 'член', 'утром', 'круг', 'дорога', 'парламент', 'спорт', 'помощь', 'организация', 'март', 'шесть', 'соглашение', 'чемпионат', 'копейка', 'сила', 'грузия', 'вопрос', 'сборный', 'александр', 'гувд', 'иран', 'передавать', 'создание', 'тур', 'пост', 'председатель', 'сотрудничество', 'край', 'европа', 'предлагать', 'составлять', 'телеканал', 'должный', 'намерить', 'американский', 'совет', 'говориться', 'апрель', 'период', 'направить', 'турция', 'движение', 'депутат', 'руководство', 'воскресение', 'госдума', 'форум', 'союз', 'посетить', 'генеральный', 'обсудить', 'закон', 'станция', 'война', 'защита', 'февраль', 'причина', 'дтп', 'городской', 'сообщаться', 'иностранный', 'аэропорт', 'ведомство', 'государство', 'встреча', 'регион', 'газа', 'театр', 'принять', 'испания', 'пострадавший', 'район', 'команда', 'пройти', 'служба', 'китай', 'состав', 'тренер', 'май', 'писать', 'зал', 'янукович', 'произойти', 'мэр', 'рост', 'около', 'известный']\n",
            "15 ['иск', 'турнир', 'испания', 'дагестан', 'футбол', 'изменение', 'китай', 'русский', 'создание', 'общественный', 'федеральный', 'футболист', 'закон', 'убийство', 'июль', 'безопасность', 'война', 'культура', 'форум', 'производство', 'причина', 'оао', 'франция', 'банка', 'вод', 'лидер', 'гражданин', 'ядерный', 'шесть', 'британский', 'спорт', 'переговоры', 'индекс', 'ссылка', 'государственный', 'источник', 'начальник', 'победа', 'доллар', 'утром', 'средство', 'вопрос', 'подписать', 'сборный', 'политика', 'лига', 'ночь', 'мероприятие', 'мера', 'событие', 'провинция', 'юрий', 'передавать', 'дорога', 'итог', 'пока', 'объявить', 'скончаться', 'найти', 'состояться', 'здание', 'игорь', 'крупный', 'департамент', 'корреспондент', 'погибший', 'национальный', 'отдел', 'дмитрий', 'иран', 'договор', 'открыться', 'срок', 'открытие', 'конец', 'ход', 'метро', 'посетить', 'направить', 'миллиард', 'фестиваль', 'федерация', 'апрель', 'польша', 'американский', 'прибыть', 'вечером', 'свидетельствовать', 'андрей', 'франс', 'неизвестный', 'главный', 'встреча', 'связь', 'последний', 'группа', 'детский', 'составлять', 'великий', 'сергей']\n",
            "16 ['пока', 'последний', 'милиция', 'журналист', 'провести', 'случай', 'теннисный', 'выбор', 'против', 'факт', 'комитет', 'телеканал', 'месяц', 'сила', 'следственный', 'государственный', 'мчс', 'часть', 'говориться', 'лига', 'британский', 'проверка', 'иран', 'гаити', 'столичный', 'заявление', 'признать', 'игорь', 'житель', 'скп', 'жизнь', 'программа', 'победа', 'подписать', 'защита', 'визит', 'являться', 'курс', 'погибнуть', 'зал', 'мероприятие', 'землетрясение', 'подмосковье', 'школа', 'место', 'семья', 'площадь', 'специалист', 'губернатор', 'ветеран', 'испания', 'хороший', 'олимпийский', 'франция', 'вырастить', 'появиться', 'призвать', 'участие', 'метро', 'серия', 'шахта', 'городской', 'тур', 'неделя', 'обвинять', 'министр', 'найти', 'северный', 'спорт', 'обсудить', 'комплекс', 'пост', 'движение', 'интервью', 'руководитель', 'ванкувер', 'состав', 'дмитрий', 'китай', 'клуб', 'около', 'генеральный', 'рассказать', 'изменение', 'пострадать', 'русский', 'культура', 'тренер', 'январь', 'команда', 'футбольный', 'закон', 'система', 'военный', 'обнаружить', 'нарушение', 'оао', 'ведомство', 'июль', 'чемпион']\n",
            "17 ['заседание', 'война', 'погибший', 'губернатор', 'возможность', 'генеральный', 'футбольный', 'мид', 'площадь', 'итог', 'факт', 'белоруссия', 'прокуратура', 'отечественный', 'афганистан', 'округа', 'министерство', 'смочь', 'ванкувер', 'четыре', 'предлагать', 'отдел', 'рабочий', 'пост', 'это', 'автомобиль', 'комплекс', 'дом', 'продажа', 'турнир', 'копейка', 'весь', 'кубок', 'отношение', 'нефть', 'комиссия', 'история', 'дата', 'май', 'мчс', 'поезд', 'местный', 'программа', 'участие', 'фон', 'аэропорт', 'источник', 'взрыв', 'возбудить', 'банка', 'польша', 'начать', 'школа', 'николай', 'ближний', 'республика', 'причина', 'период', 'совет', 'призвать', 'подмосковье', 'официальный', 'авария', 'выбор', 'семья', 'газа', 'высокий', 'вопрос', 'мероприятие', 'развитие', 'милиционер', 'китай', 'открытый', 'передавать', 'событие', 'детский', 'рассказать', 'несколько', 'скп', 'главный', 'скончаться', 'администрация', 'провести', 'средство', 'помощь', 'теракт', 'индекс', 'экономика', 'представить', 'руководство', 'заявление', 'самый', 'дать', 'закон', 'впервые', 'евро', 'намерить', 'региональный', 'спортивный', 'считать']\n",
            "18 ['конец', 'юрий', 'последний', 'школа', 'сми', 'пострадавший', 'дорога', 'мвд', 'около', 'хороший', 'намерить', 'губернатор', 'отечественный', 'культура', 'начать', 'средство', 'единый', 'следственный', 'состав', 'округа', 'помощь', 'визит', 'программа', 'открытие', 'событие', 'чемпион', 'признать', 'война', 'дагестан', 'гувд', 'победа', 'неделя', 'финал', 'ночь', 'оон', 'александр', 'главный', 'ссылка', 'миллиард', 'служба', 'южный', 'олимпийский', 'землетрясение', 'евгений', 'северный', 'закон', 'индекс', 'подписать', 'возможность', 'детский', 'весь', 'серия', 'следовать', 'франция', 'авария', 'шахта', 'рейтер', 'зал', 'безопасность', 'период', 'жизнь', 'центральный', 'получить', 'биржа', 'комитет', 'греция', 'провинция', 'находиться', 'франс', 'цена', 'игорь', 'история', 'депутат', 'ход', 'николай', 'французский', 'житель', 'вопрос', 'городской', 'участник', 'объявить', 'начаться', 'британский', 'госдума', 'ветеран', 'посетить', 'аэропорт', 'федеральный', 'появиться', 'подозревать', 'администрация', 'лига', 'футбол', 'турнир', 'составлять', 'торг', 'киргизия', 'вырастить', 'грузия', 'открыться']\n",
            "19 ['афганистан', 'проверка', 'директор', 'обсудить', 'дмитрий', 'депутат', 'комитет', 'июнь', 'рассказать', 'участник', 'местный', 'федерация', 'общественный', 'тренер', 'андрей', 'провинция', 'уровень', 'выиграть', 'система', 'гаити', 'известный', 'правоохранительный', 'экономика', 'факт', 'автомобиль', 'место', 'испания', 'мир', 'регион', 'северный', 'проводить', 'подмосковье', 'греция', 'администрация', 'футболист', 'снизиться', 'ночь', 'обвинять', 'милиционер', 'рабочий', 'являться', 'средство', 'городской', 'призвать', 'прибыть', 'служба', 'бывший', 'должный', 'сотрудник', 'февраль', 'помочь', 'остаться', 'финал', 'газа', 'национальный', 'цена', 'рейтер', 'визит', 'начальник', 'метро', 'команда', 'ванкувер', 'высокий', 'центральный', 'территория', 'появиться', 'дагестан', 'соглашение', 'партия', 'ядерный', 'машина', 'землетрясение', 'министр', 'пресс', 'месяц', 'нарушение', 'это', 'сообщаться', 'заявление', 'неизвестный', 'рамка', 'главный', 'воскресение', 'первое', 'британский', 'победа', 'совет', 'казахстан', 'август', 'отношение', 'теннисный', 'футбольный', 'сайт', 'поддержка', 'руководитель', 'время', 'смочь', 'шесть', 'кубок', 'житель']\n",
            "20 ['пострадавший', 'афганистан', 'округа', 'организация', 'сочи', 'погибший', 'территория', 'составить', 'история', 'имя', 'судебный', 'провинция', 'спортивный', 'проведение', 'дать', 'известный', 'число', 'единый', 'предлагать', 'также', 'телеканал', 'остров', 'заседание', 'нефть', 'игра', 'мвд', 'мировой', 'открытие', 'андрей', 'генеральный', 'сергей', 'переговоры', 'вод', 'круг', 'политика', 'срок', 'считать', 'республика', 'фестиваль', 'открыть', 'первое', 'четыре', 'режим', 'получить', 'факт', 'начать', 'начальник', 'департамент', 'дом', 'тур', 'журналист', 'подготовка', 'ссылка', 'взрыв', 'турнир', 'служба', 'июнь', 'южный', 'русский', 'программа', 'николай', 'европейский', 'региональный', 'администрация', 'визит', 'начаться', 'дтп', 'иностранный', 'апрель', 'выставка', 'передавать', 'китай', 'произойти', 'жизнь', 'вопрос', 'сборная', 'семья', 'обсудить', 'площадь', 'принять', 'продажа', 'рассказать', 'подмосковье', 'против', 'иран', 'депутат', 'ряд', 'средство', 'январь', 'казахстан', 'мера', 'сборный', 'европа', 'правоохранительный', 'высокий', 'образование', 'рынок', 'биржа', 'встреча', 'пресс']\n",
            "21 ['станция', 'судебный', 'рабочий', 'скончаться', 'мид', 'сергей', 'организация', 'остров', 'причина', 'лидер', 'начать', 'киргизия', 'интервью', 'объявить', 'выиграть', 'копейка', 'срок', 'июнь', 'оао', 'ассошиэйтед', 'машина', 'иностранный', 'специалист', 'телеканал', 'обвинять', 'дата', 'составлять', 'министр', 'дагестан', 'выйти', 'олимпийский', 'отношение', 'союз', 'высокий', 'опубликовать', 'остаться', 'переговоры', 'вопрос', 'выступать', 'испания', 'департамент', 'форум', 'фестиваль', 'посвятить', 'здание', 'погибший', 'цска', 'также', 'торг', 'утром', 'спорт', 'февраль', 'орган', 'александр', 'мчс', 'источник', 'подготовка', 'создать', 'мероприятие', 'жертва', 'председатель', 'журналист', 'имя', 'май', 'владимир', 'иск', 'германия', 'выбор', 'ветеран', 'мочь', 'акция', 'движение', 'открыть', 'северный', 'франс', 'великий', 'рамка', 'произойти', 'пока', 'отдел', 'лига', 'клуб', 'банка', 'тур', 'уголовный', 'гаити', 'поддержка', 'подписать', 'представить', 'школа', 'индекс', 'заседание', 'неделя', 'ночь', 'впервые', 'апрель', 'евро', 'спортивный', 'четыре', 'событие']\n",
            "22 ['культура', 'метро', 'чемпион', 'должный', 'отечественный', 'большой', 'отношение', 'шесть', 'участник', 'начальник', 'выйти', 'игра', 'вырастить', 'федерация', 'проверка', 'цена', 'строительство', 'задержать', 'уровень', 'николай', 'май', 'пожар', 'союз', 'мчс', 'провести', 'городской', 'американский', 'киргизия', 'планировать', 'комиссия', 'помощь', 'вод', 'организация', 'открыть', 'число', 'проведение', 'северный', 'французский', 'впервые', 'официальный', 'остров', 'выбор', 'польша', 'состояться', 'высокий', 'экономика', 'ряд', 'столичный', 'рост', 'возможность', 'сайт', 'следовать', 'футболист', 'губернатор', 'комплекс', 'победа', 'фонд', 'германия', 'появиться', 'являться', 'южный', 'экономический', 'четыре', 'биржа', 'правоохранительный', 'предлагать', 'андрей', 'спортивный', 'журналист', 'кубок', 'подготовка', 'апрель', 'сотрудничество', 'площадь', 'член', 'найти', 'представить', 'средство', 'автомобиль', 'произойти', 'председатель', 'юг', 'афганистан', 'ссылка', 'теракт', 'партия', 'подписать', 'случай', 'открыться', 'обнаружить', 'дата', 'станция', 'край', 'период', 'национальный', 'сборная', 'сотрудник', 'пострадать', 'также', 'программа']\n",
            "23 ['министерство', 'посвятить', 'оон', 'пост', 'дтп', 'украинский', 'милиционер', 'прокуратура', 'часть', 'аэропорт', 'отдел', 'завершить', 'спортивный', 'назвать', 'ведомство', 'директор', 'копейка', 'движение', 'предприятие', 'турция', 'январь', 'ассошиэйтед', 'результат', 'причина', 'мид', 'намерить', 'администрация', 'состав', 'мера', 'обвинять', 'детский', 'составлять', 'журналист', 'помочь', 'дорога', 'начать', 'руководство', 'февраль', 'киргизия', 'иск', 'открыться', 'участие', 'союз', 'госдума', 'сотрудник', 'николай', 'право', 'взрыв', 'работать', 'политика', 'матч', 'система', 'фестиваль', 'воскресение', 'франс', 'округа', 'местный', 'польша', 'пожар', 'газета', 'городской', 'областной', 'обнаружить', 'курс', 'европа', 'мчс', 'выбор', 'выйти', 'провести', 'землетрясение', 'начальник', 'милиция', 'решение', 'миллиард', 'развитие', 'зал', 'смочь', 'правоохранительный', 'белоруссия', 'выставка', 'турнир', 'фон', 'военный', 'михаил', 'сайт', 'комплекс', 'юрий', 'около', 'изменение', 'председатель', 'скончаться', 'культура', 'метро', 'олимпийский', 'погибший', 'парламент', 'большой', 'факт', 'евро', 'организация']\n",
            "24 ['создание', 'дмитрий', 'борьба', 'помочь', 'метро', 'строительство', 'имя', 'военный', 'ситуация', 'начаться', 'зал', 'принять', 'месяц', 'снизиться', 'региональный', 'партия', 'виктор', 'передавать', 'мчс', 'мировой', 'случай', 'семья', 'чемпион', 'франс', 'программа', 'фестиваль', 'период', 'часть', 'генеральный', 'футбол', 'государственный', 'должный', 'сборный', 'край', 'факт', 'погибнуть', 'матч', 'время', 'объявить', 'развитие', 'депутат', 'алексей', 'республика', 'обсудить', 'израиль', 'создать', 'пожар', 'пресс', 'вырастить', 'составить', 'большой', 'июнь', 'милиционер', 'газета', 'это', 'клуб', 'форум', 'заместитель', 'корреспондент', 'евгений', 'территория', 'футболист', 'журналист', 'причина', 'администрация', 'футбольный', 'жертва', 'россиянин', 'встреча', 'обвинять', 'директор', 'больница', 'дом', 'готовый', 'театр', 'победа', 'вод', 'министр', 'кубок', 'автомобиль', 'иран', 'следственный', 'афганистан', 'четыре', 'детский', 'машина', 'милиция', 'великий', 'цена', 'рабочий', 'единый', 'николай', 'газа', 'результат', 'провести', 'также', 'составлять', 'официальный', 'первое', 'пострадавший']\n",
            "25 ['региональный', 'весь', 'должный', 'жизнь', 'финансовый', 'ветеран', 'торг', 'организация', 'намерить', 'игра', 'директор', 'сочи', 'свидетельствовать', 'пост', 'начать', 'иран', 'остаться', 'отношение', 'владимир', 'афганистан', 'гувд', 'американский', 'провести', 'посетить', 'гаити', 'местный', 'подмосковье', 'следовать', 'белоруссия', 'турция', 'район', 'центральный', 'новый', 'пожар', 'генеральный', 'состояться', 'март', 'станция', 'мвд', 'рассказать', 'высокий', 'подозревать', 'семь', 'оон', 'начальник', 'ближний', 'судебный', 'оао', 'место', 'появиться', 'рост', 'средство', 'французский', 'испания', 'время', 'заседание', 'военный', 'вопрос', 'шахта', 'режим', 'июль', 'около', 'петербург', 'сайт', 'сообщаться', 'строительство', 'футбольный', 'теннисный', 'источник', 'греция', 'русский', 'британский', 'также', 'общественный', 'произойти', 'банка', 'специалист', 'интервью', 'возможность', 'уголовный', 'юг', 'экономический', 'национальный', 'клуб', 'департамент', 'обсудить', 'биржа', 'воскресение', 'представить', 'дтп', 'опубликовать', 'мир', 'транспорт', 'дорога', 'культура', 'пройти', 'фестиваль', 'последний', 'фон', 'цска']\n",
            "26 ['срок', 'рассмотреть', 'дагестан', 'комиссия', 'война', 'проверка', 'турция', 'игра', 'предприятие', 'взрыв', 'пост', 'помочь', 'продажа', 'финансовый', 'депутат', 'заседание', 'проходить', 'цска', 'совет', 'северный', 'общественный', 'открыться', 'германия', 'крупный', 'февраль', 'госдума', 'шесть', 'должный', 'владимир', 'писать', 'создать', 'национальный', 'проблема', 'зал', 'столица', 'казахстан', 'провинция', 'переговоры', 'местный', 'сотрудничество', 'сборный', 'губернатор', 'футбольный', 'скп', 'министерство', 'считать', 'бывший', 'новое', 'вечером', 'ведомство', 'регион', 'прокуратура', 'рамка', 'выставка', 'ванкувер', 'провести', 'готовый', 'визит', 'теракт', 'руководство', 'состояться', 'август', 'соглашение', 'комплекс', 'форум', 'край', 'индекс', 'администрация', 'смочь', 'событие', 'цена', 'возможность', 'андрей', 'участие', 'победа', 'авария', 'служба', 'признать', 'ядерный', 'итог', 'внутренний', 'против', 'несколько', 'союз', 'вод', 'назначить', 'виктор', 'пострадавший', 'опубликовать', 'самый', 'лидер', 'высокий', 'грузия', 'результат', 'театр', 'предлагать', 'метро', 'гувд', 'заместитель', 'парламент']\n",
            "27 ['результат', 'аэропорт', 'бывший', 'февраль', 'пресс', 'ассошиэйтед', 'уровень', 'составить', 'спортивный', 'рабочий', 'война', 'мчс', 'весь', 'январь', 'факт', 'срок', 'греция', 'известный', 'британский', 'украинский', 'март', 'участие', 'прокуратура', 'четыре', 'вечером', 'причина', 'жертва', 'белоруссия', 'турнир', 'развитие', 'большой', 'снизиться', 'сотрудничество', 'выиграть', 'право', 'корреспондент', 'движение', 'администрация', 'журналист', 'александр', 'находиться', 'открытие', 'заседание', 'работа', 'банка', 'борьба', 'проведение', 'считать', 'дмитрий', 'иск', 'грузия', 'мвд', 'член', 'состояться', 'предприятие', 'пять', 'футболист', 'форум', 'ближний', 'должный', 'школа', 'часть', 'испания', 'ситуация', 'команда', 'производство', 'теннисный', 'июль', 'федерация', 'источник', 'иностранный', 'сила', 'обвинять', 'автомобиль', 'участник', 'республика', 'вопрос', 'министерство', 'возбудить', 'состав', 'газета', 'отечественный', 'национальный', 'главный', 'служба', 'также', 'завершить', 'чемпионат', 'интервью', 'заявление', 'хороший', 'случай', 'округа', 'сообщаться', 'край', 'судебный', 'готовый', 'полиция', 'закон', 'клуб']\n",
            "28 ['игорь', 'итог', 'сайт', 'переговоры', 'помочь', 'заместитель', 'июнь', 'цена', 'считать', 'ситуация', 'фон', 'признать', 'финансовый', 'пожар', 'андрей', 'главный', 'иск', 'политика', 'великий', 'дорога', 'гражданин', 'визит', 'сила', 'дать', 'время', 'пострадавший', 'афганистан', 'ссылка', 'гаити', 'состояться', 'решение', 'федеральный', 'республика', 'завершить', 'милиционер', 'вод', 'экономический', 'четыре', 'известный', 'семь', 'проект', 'кубок', 'пострадать', 'рассмотреть', 'готовый', 'парламент', 'провинция', 'случай', 'мероприятие', 'государственный', 'скп', 'команда', 'северный', 'военный', 'создание', 'казахстан', 'право', 'строительство', 'ядерный', 'сергей', 'выбор', 'территория', 'результат', 'подмосковье', 'получить', 'утром', 'работать', 'местный', 'театр', 'школа', 'россиянин', 'сборная', 'соглашение', 'сотрудничество', 'футбольный', 'пройти', 'газа', 'встреча', 'китай', 'прибыть', 'спорт', 'средство', 'система', 'транспорт', 'генеральный', 'лига', 'киргизия', 'грузия', 'следовать', 'подозревать', 'чемпионат', 'начальник', 'машина', 'комплекс', 'поезд', 'сообщаться', 'гувд', 'март', 'областной', 'остаться']\n",
            "29 ['ванкувер', 'оон', 'клуб', 'производство', 'воскресение', 'турнир', 'ветеран', 'проблема', 'испания', 'крупный', 'отечественный', 'внутренний', 'намерить', 'проводить', 'назначить', 'завершить', 'образование', 'партия', 'шесть', 'считать', 'польша', 'весь', 'развитие', 'здание', 'республика', 'закон', 'интервью', 'найти', 'большой', 'федеральный', 'петербург', 'футбол', 'южный', 'комплекс', 'высокий', 'пожар', 'первое', 'член', 'авария', 'подготовка', 'государство', 'городской', 'станция', 'готовый', 'июль', 'руководство', 'объявить', 'утром', 'месяц', 'подмосковье', 'погибший', 'борьба', 'впервые', 'киргизия', 'ночь', 'назвать', 'машина', 'вод', 'житель', 'движение', 'германия', 'направить', 'спортивный', 'прокуратура', 'победа', 'новый', 'выиграть', 'проходить', 'рабочий', 'губернатор', 'теракт', 'часть', 'комитет', 'курс', 'гувд', 'вырастить', 'вопрос', 'неизвестный', 'май', 'казахстан', 'округа', 'взрыв', 'региональный', 'известный', 'департамент', 'чемпион', 'цска', 'николай', 'получить', 'ход', 'мочь', 'русский', 'россиянин', 'мера', 'мероприятие', 'источник', 'министерство', 'район', 'михаил', 'представить']\n",
            "30 ['мвд', 'рабочий', 'экономика', 'визит', 'южный', 'месяц', 'срок', 'изменение', 'писать', 'председатель', 'сборная', 'являться', 'британский', 'пока', 'петербург', 'германия', 'вопрос', 'пожар', 'площадь', 'округа', 'сотрудничество', 'также', 'территория', 'подготовка', 'говориться', 'выйти', 'банка', 'янукович', 'франс', 'поезд', 'госдума', 'северный', 'столичный', 'нарушение', 'копейка', 'снизиться', 'мэр', 'пресс', 'сообщаться', 'произойти', 'первое', 'ночь', 'журналист', 'партия', 'рост', 'пострадать', 'регион', 'создать', 'предлагать', 'прокуратура', 'заседание', 'провести', 'мчс', 'вод', 'состояться', 'дагестан', 'выиграть', 'против', 'число', 'корреспондент', 'погибнуть', 'соглашение', 'транспорт', 'задержать', 'станция', 'украинский', 'ситуация', 'путин', 'февраль', 'уровень', 'вырастить', 'культура', 'край', 'программа', 'виктор', 'место', 'смочь', 'результат', 'депутат', 'рынок', 'получить', 'планировать', 'следственный', 'обсудить', 'игорь', 'мир', 'школа', 'август', 'подписать', 'владимир', 'объявить', 'открыться', 'турция', 'производство', 'экономический', 'гаити', 'дорога', 'строительство', 'спортивный', 'система']\n",
            "31 ['причина', 'федеральный', 'мвд', 'производство', 'работать', 'договор', 'сотрудничество', 'проект', 'время', 'евро', 'юг', 'корреспондент', 'суббота', 'сергей', 'газета', 'рынок', 'край', 'греция', 'февраль', 'алексей', 'футбольный', 'здание', 'скончаться', 'администрация', 'дтп', 'иск', 'хороший', 'открыть', 'экономика', 'серия', 'открытый', 'теракт', 'вечером', 'единый', 'специалист', 'находиться', 'известный', 'переговоры', 'март', 'ряд', 'игра', 'пострадать', 'выбор', 'готовый', 'убийство', 'апрель', 'поезд', 'срок', 'аэропорт', 'городской', 'ванкувер', 'проверка', 'участник', 'ссылка', 'связь', 'завершить', 'государственный', 'телеканал', 'опубликовать', 'русский', 'группа', 'развитие', 'политика', 'турция', 'сообщение', 'рамка', 'матч', 'скп', 'команда', 'депутат', 'нарушение', 'фонд', 'состав', 'украинский', 'четыре', 'имя', 'биржа', 'пресс', 'школа', 'ход', 'евгений', 'период', 'сочи', 'число', 'решение', 'большой', 'фестиваль', 'утром', 'проведение', 'создать', 'шахта', 'шесть', 'лидер', 'новое', 'писать', 'остаться', 'движение', 'защита', 'подозревать', 'найти']\n",
            "32 ['строительство', 'создание', 'гаити', 'федеральный', 'прибыть', 'тренер', 'казахстан', 'возбудить', 'следовать', 'финансовый', 'впервые', 'ход', 'ядерный', 'национальный', 'афганистан', 'проверка', 'жизнь', 'проблема', 'культура', 'лидер', 'чемпионат', 'проводить', 'губернатор', 'писать', 'образование', 'центральный', 'отношение', 'сообщаться', 'мероприятие', 'мэр', 'время', 'республика', 'источник', 'погибнуть', 'сми', 'фон', 'подписать', 'выйти', 'александр', 'закон', 'выиграть', 'рейтер', 'март', 'дмитрий', 'рынок', 'здание', 'изменение', 'опубликовать', 'телефон', 'пять', 'полиция', 'следственный', 'остров', 'развитие', 'провинция', 'передавать', 'михаил', 'группа', 'назвать', 'греция', 'апрель', 'мера', 'договор', 'госдума', 'дтп', 'случай', 'орган', 'август', 'заместитель', 'газета', 'оао', 'суббота', 'информация', 'банка', 'направить', 'система', 'срок', 'евро', 'областной', 'взрыв', 'администрация', 'состояться', 'акция', 'причина', 'копейка', 'являться', 'ситуация', 'клуб', 'право', 'федерация', 'лига', 'ближний', 'сборный', 'смочь', 'вырастить', 'иск', 'правоохранительный', 'предприятие', 'вопрос', 'станция']\n",
            "33 ['ход', 'возможность', 'группа', 'рейтер', 'планировать', 'лидер', 'тур', 'находиться', 'период', 'вечером', 'также', 'великий', 'провинция', 'столица', 'поезд', 'областной', 'итог', 'французский', 'министерство', 'мировой', 'проводить', 'нефть', 'месяц', 'место', 'столичный', 'округа', 'проведение', 'круг', 'судебный', 'правоохранительный', 'дмитрий', 'шахта', 'организация', 'часть', 'семья', 'ветеран', 'городской', 'главный', 'министр', 'школа', 'курс', 'белоруссия', 'финал', 'посетить', 'политика', 'сми', 'дом', 'строительство', 'мчс', 'центральный', 'единый', 'финансовый', 'история', 'получить', 'февраль', 'принять', 'подозревать', 'являться', 'бывший', 'поддержка', 'милиционер', 'мочь', 'против', 'испания', 'новое', 'завершить', 'киргизия', 'возбудить', 'заместитель', 'сборная', 'предприятие', 'вопрос', 'открыться', 'помощь', 'пресс', 'направить', 'взрыв', 'гражданин', 'ситуация', 'нарушение', 'комплекс', 'партия', 'интервью', 'создание', 'помочь', 'самый', 'индекс', 'телефон', 'иран', 'дата', 'режим', 'официальный', 'воскресение', 'сотрудничество', 'результат', 'конец', 'серия', 'общественный', 'выиграть', 'шесть']\n",
            "34 ['администрация', 'китай', 'ночь', 'заявление', 'экономический', 'государственный', 'январь', 'турция', 'финал', 'главный', 'победа', 'зал', 'весь', 'внутренний', 'против', 'договор', 'создать', 'депутат', 'рассказать', 'национальный', 'май', 'сборный', 'мероприятие', 'сила', 'воскресение', 'месяц', 'крупный', 'это', 'израиль', 'уголовный', 'место', 'предприятие', 'гаити', 'организация', 'телефон', 'обвинять', 'совет', 'федерация', 'новое', 'февраль', 'дагестан', 'неизвестный', 'партия', 'принять', 'тренер', 'житель', 'вечером', 'участник', 'появиться', 'пост', 'система', 'вод', 'чемпион', 'ход', 'пострадать', 'шесть', 'грузия', 'связь', 'центральный', 'проверка', 'клуб', 'выставка', 'мочь', 'произойти', 'состав', 'рынок', 'жизнь', 'вырастить', 'команда', 'изменение', 'движение', 'скп', 'оао', 'банка', 'апрель', 'северный', 'событие', 'сочи', 'составить', 'интервью', 'политика', 'ссылка', 'спортивный', 'владимир', 'писать', 'департамент', 'жертва', 'столица', 'европа', 'состояться', 'турнир', 'тур', 'регион', 'фон', 'виктор', 'юг', 'открытие', 'открыться', 'итог', 'проводить']\n",
            "35 ['неизвестный', 'источник', 'возможность', 'оао', 'создать', 'время', 'алексей', 'великий', 'корреспондент', 'край', 'строительство', 'война', 'писать', 'торг', 'пожар', 'программа', 'визит', 'число', 'май', 'итог', 'вод', 'испания', 'заместитель', 'производство', 'турнир', 'новый', 'копейка', 'назначить', 'открытие', 'составить', 'рейтер', 'транспорт', 'сотрудничество', 'впервые', 'банка', 'шесть', 'суббота', 'футбольный', 'опубликовать', 'отношение', 'получить', 'афганистан', 'месяц', 'система', 'мероприятие', 'начальник', 'журналист', 'олимпийский', 'главный', 'площадь', 'предприятие', 'фон', 'греция', 'житель', 'остров', 'официальный', 'николай', 'закон', 'представить', 'европейский', 'председатель', 'первое', 'причина', 'государство', 'казахстан', 'следовать', 'германия', 'комитет', 'пострадать', 'судебный', 'март', 'проведение', 'решение', 'договор', 'цска', 'июнь', 'находиться', 'подписать', 'центральный', 'северный', 'конец', 'иран', 'борьба', 'подготовка', 'дом', 'министр', 'дмитрий', 'февраль', 'открыть', 'телефон', 'открыться', 'культура', 'группа', 'помощь', 'виктор', 'ночь', 'предлагать', 'рынок', 'лига', 'дать']\n",
            "36 ['поддержка', 'предприятие', 'спортивный', 'политика', 'аэропорт', 'клуб', 'итог', 'евро', 'изменение', 'союз', 'сайт', 'проверка', 'ссылка', 'судебный', 'республика', 'администрация', 'намерить', 'игра', 'возможность', 'экономический', 'большой', 'сми', 'цска', 'единый', 'курс', 'специалист', 'воскресение', 'грузия', 'тренер', 'кубок', 'футбольный', 'начаться', 'футболист', 'сборный', 'отечественный', 'генеральный', 'фон', 'назначить', 'назвать', 'ситуация', 'пост', 'руководитель', 'соглашение', 'история', 'утром', 'николай', 'конец', 'франс', 'ход', 'признать', 'фестиваль', 'ванкувер', 'ближний', 'общественный', 'средство', 'строительство', 'организация', 'проект', 'рассмотреть', 'интервью', 'экономика', 'прокуратура', 'помочь', 'проходить', 'июль', 'семь', 'жертва', 'рейтер', 'впервые', 'рассказать', 'первое', 'имя', 'производство', 'финал', 'подписать', 'турция', 'председатель', 'являться', 'главный', 'команда', 'европейский', 'территория', 'вечером', 'возбудить', 'война', 'государство', 'парламент', 'больница', 'выбор', 'внутренний', 'пожар', 'пострадавший', 'банка', 'авария', 'ряд', 'милиция', 'начальник', 'вод', 'пока', 'четыре']\n",
            "37 ['центральный', 'воскресение', 'сочи', 'британский', 'причина', 'пострадать', 'январь', 'остаться', 'совет', 'помощь', 'отношение', 'депутат', 'европейский', 'время', 'олимпийский', 'гражданин', 'дом', 'найти', 'связь', 'городской', 'копейка', 'предприятие', 'департамент', 'заседание', 'больница', 'пройти', 'чемпионат', 'матч', 'директор', 'израиль', 'председатель', 'игорь', 'комиссия', 'начать', 'часть', 'рост', 'соглашение', 'вод', 'украинский', 'специалист', 'член', 'пресс', 'обсудить', 'юрий', 'государство', 'семь', 'убийство', 'автомобиль', 'развитие', 'пост', 'франция', 'война', 'фестиваль', 'строительство', 'крупный', 'шахта', 'руководство', 'край', 'сотрудник', 'ванкувер', 'ход', 'открытие', 'мвд', 'дать', 'погибший', 'цена', 'округа', 'посетить', 'экономический', 'предлагать', 'аэропорт', 'мир', 'столица', 'финал', 'создать', 'прибыть', 'внутренний', 'дата', 'испания', 'николай', 'культура', 'получить', 'факт', 'открытый', 'создание', 'ссылка', 'скончаться', 'общественный', 'судебный', 'открыться', 'хороший', 'партия', 'генеральный', 'северный', 'победа', 'фонд', 'весь', 'мид', 'ночь', 'неделя']\n",
            "38 ['составить', 'защита', 'шесть', 'мера', 'появиться', 'рынок', 'начать', 'гувд', 'сборный', 'больница', 'генеральный', 'украинский', 'производство', 'число', 'остров', 'фестиваль', 'мировой', 'зал', 'ход', 'европа', 'спортивный', 'май', 'великий', 'сочи', 'алексей', 'февраль', 'газа', 'проект', 'киргизия', 'официальный', 'строительство', 'теракт', 'четыре', 'январь', 'городской', 'руководитель', 'против', 'первое', 'проведение', 'аэропорт', 'итог', 'специалист', 'газета', 'политика', 'открытие', 'прокуратура', 'руководство', 'июль', 'открыть', 'территория', 'дата', 'развитие', 'центральный', 'евро', 'история', 'опубликовать', 'суббота', 'машина', 'акция', 'отечественный', 'обнаружить', 'финансовый', 'большой', 'создать', 'решение', 'автомобиль', 'поддержка', 'иран', 'михаил', 'оао', 'готовый', 'признать', 'право', 'внутренний', 'форум', 'судебный', 'член', 'пока', 'свидетельствовать', 'клуб', 'русский', 'намерить', 'иностранный', 'чемпион', 'экономический', 'янукович', 'николай', 'причина', 'государственный', 'мочь', 'назвать', 'греция', 'ванкувер', 'предприятие', 'сборная', 'объявить', 'информация', 'создание', 'около', 'переговоры']\n",
            "39 ['сила', 'назначить', 'иран', 'закон', 'центральный', 'шесть', 'следовать', 'режим', 'свидетельствовать', 'находиться', 'турция', 'скончаться', 'европа', 'воскресение', 'семья', 'помочь', 'военный', 'участие', 'телефон', 'обсудить', 'война', 'скп', 'фестиваль', 'заседание', 'газа', 'поддержка', 'защита', 'считать', 'возможность', 'алексей', 'великий', 'форум', 'обвинять', 'взрыв', 'тренер', 'площадь', 'открытие', 'мчс', 'проверка', 'выиграть', 'июль', 'ссылка', 'республика', 'мид', 'афганистан', 'высокий', 'британский', 'месяц', 'команда', 'финансовый', 'сочи', 'совет', 'партия', 'пресс', 'ход', 'специалист', 'дать', 'круг', 'организация', 'рейтер', 'дорога', 'торг', 'начать', 'подозревать', 'россиянин', 'цска', 'культура', 'франс', 'снизиться', 'округа', 'подмосковье', 'испания', 'клуб', 'федерация', 'ближний', 'белоруссия', 'неизвестный', 'смочь', 'землетрясение', 'начальник', 'группа', 'серия', 'образование', 'продажа', 'официальный', 'пока', 'прокуратура', 'региональный', 'футбольный', 'чемпионат', 'фон', 'гувд', 'биржа', 'имя', 'мир', 'михаил', 'рассказать', 'произойти', 'планировать', 'семь']\n",
            "40 ['журналист', 'служба', 'внутренний', 'защита', 'провести', 'производство', 'цска', 'полиция', 'поддержка', 'афганистан', 'новый', 'снизиться', 'группа', 'июнь', 'убийство', 'крупный', 'гражданин', 'итог', 'департамент', 'столичный', 'первое', 'поезд', 'мэр', 'погибнуть', 'иран', 'около', 'мировой', 'прокуратура', 'детский', 'изменение', 'территория', 'машина', 'сборный', 'место', 'житель', 'проект', 'фестиваль', 'ряд', 'милиция', 'круг', 'рассказать', 'администрация', 'федерация', 'матч', 'александр', 'пожар', 'теракт', 'право', 'северный', 'месяц', 'сотрудник', 'корреспондент', 'округа', 'комитет', 'проблема', 'мочь', 'рассмотреть', 'история', 'телеканал', 'заседание', 'единый', 'хороший', 'готовый', 'весь', 'образование', 'открыться', 'госдума', 'интервью', 'скп', 'продажа', 'серия', 'пройти', 'семья', 'сми', 'средство', 'чемпионат', 'высокий', 'начаться', 'автомобиль', 'уголовный', 'торг', 'последний', 'самый', 'вопрос', 'игорь', 'лидер', 'пресс', 'дтп', 'белоруссия', 'состояться', 'организация', 'русский', 'март', 'имя', 'аэропорт', 'передавать', 'янукович', 'против', 'четыре', 'это']\n",
            "41 ['россиянин', 'против', 'жизнь', 'известный', 'директор', 'факт', 'машина', 'время', 'ночь', 'война', 'дом', 'круг', 'событие', 'газета', 'соглашение', 'край', 'вечером', 'орган', 'футбол', 'защита', 'выиграть', 'считать', 'греция', 'тренер', 'футбольный', 'матч', 'неделя', 'помощь', 'это', 'великий', 'ванкувер', 'рассказать', 'совет', 'победа', 'сила', 'юг', 'большой', 'департамент', 'намерить', 'группа', 'цена', 'афганистан', 'право', 'столица', 'отечественный', 'шахта', 'фон', 'возможность', 'подмосковье', 'заседание', 'цска', 'театр', 'утром', 'шесть', 'андрей', 'финансовый', 'госдума', 'израиль', 'поезд', 'мчс', 'бывший', 'пока', 'организация', 'специалист', 'строительство', 'остров', 'министерство', 'помочь', 'договор', 'проект', 'интервью', 'март', 'весь', 'итог', 'составлять', 'клуб', 'телеканал', 'февраль', 'скп', 'самый', 'фестиваль', 'администрация', 'система', 'ветеран', 'игра', 'германия', 'вопрос', 'тур', 'ядерный', 'чемпион', 'мвд', 'оон', 'ряд', 'юрий', 'передавать', 'закон', 'август', 'главный', 'апрель', 'получить']\n",
            "42 ['движение', 'французский', 'договор', 'германия', 'союз', 'август', 'национальный', 'полиция', 'часть', 'начать', 'пост', 'ссылка', 'территория', 'индекс', 'иск', 'дтп', 'польша', 'скп', 'площадь', 'призвать', 'белоруссия', 'следовать', 'остаться', 'генеральный', 'иран', 'американский', 'ванкувер', 'столичный', 'последний', 'получить', 'доллар', 'готовый', 'официальный', 'совет', 'хороший', 'турция', 'закон', 'связь', 'высокий', 'семь', 'январь', 'самый', 'провести', 'экономический', 'создать', 'член', 'победа', 'пожар', 'образование', 'переговоры', 'задержать', 'объявить', 'комплекс', 'школа', 'открыться', 'апрель', 'фон', 'греция', 'общественный', 'областной', 'рассказать', 'оао', 'футбол', 'нарушение', 'бывший', 'единый', 'оон', 'политика', 'помочь', 'круг', 'передавать', 'посетить', 'назвать', 'сотрудничество', 'вырастить', 'министр', 'британский', 'итог', 'матч', 'произойти', 'футбольный', 'шесть', 'подозревать', 'причина', 'право', 'четыре', 'милиция', 'направить', 'начальник', 'выиграть', 'уровень', 'составлять', 'республика', 'тур', 'экономика', 'военный', 'теракт', 'комитет', 'проводить', 'испания']\n",
            "43 ['большой', 'государственный', 'футболист', 'грузия', 'принять', 'европейский', 'руководитель', 'регион', 'намерить', 'развитие', 'месяц', 'сайт', 'южный', 'задержать', 'факт', 'последний', 'дать', 'мчс', 'борьба', 'случай', 'фон', 'фестиваль', 'предлагать', 'афганистан', 'начаться', 'средство', 'дагестан', 'фонд', 'ванкувер', 'газета', 'торг', 'ассошиэйтед', 'милиционер', 'политика', 'европа', 'дорога', 'объявить', 'иран', 'четыре', 'форум', 'экономический', 'связь', 'свидетельствовать', 'лига', 'встреча', 'виктор', 'банка', 'должный', 'начать', 'ряд', 'турция', 'киргизия', 'проведение', 'партия', 'история', 'жертва', 'семь', 'это', 'признать', 'прокуратура', 'губернатор', 'гражданин', 'государство', 'возможность', 'русский', 'ведомство', 'победа', 'французский', 'великий', 'решение', 'юрий', 'греция', 'скончаться', 'программа', 'предприятие', 'больница', 'бывший', 'впервые', 'мвд', 'житель', 'машина', 'найти', 'шахта', 'германия', 'право', 'копейка', 'группа', 'вечером', 'шесть', 'пострадать', 'писать', 'посвятить', 'общественный', 'рейтер', 'составить', 'региональный', 'часть', 'николай', 'ситуация', 'землетрясение']\n",
            "44 ['экономический', 'спортивный', 'цена', 'николай', 'игра', 'открытый', 'ход', 'планировать', 'следовать', 'начаться', 'местный', 'убийство', 'столица', 'ведомство', 'союз', 'иран', 'станция', 'цска', 'готовый', 'тренер', 'рост', 'соглашение', 'несколько', 'афганистан', 'путин', 'пост', 'неделя', 'отечественный', 'мировой', 'история', 'призвать', 'программа', 'изменение', 'ветеран', 'министерство', 'самый', 'украинский', 'организация', 'зал', 'состояться', 'остаться', 'акция', 'рабочий', 'высокий', 'министр', 'должный', 'связь', 'французский', 'центральный', 'дата', 'внутренний', 'территория', 'партия', 'футбольный', 'копейка', 'орган', 'польша', 'встреча', 'март', 'образование', 'германия', 'предприятие', 'впервые', 'специалист', 'департамент', 'экономика', 'сми', 'лига', 'ночь', 'турция', 'начальник', 'предлагать', 'ссылка', 'выиграть', 'находиться', 'проведение', 'событие', 'руководство', 'андрей', 'закон', 'столичный', 'выставка', 'смочь', 'пройти', 'транспорт', 'мчс', 'михаил', 'интервью', 'банка', 'южный', 'сотрудник', 'ряд', 'метро', 'комплекс', 'полиция', 'европейский', 'франс', 'дом', 'евро', 'финансовый']\n",
            "45 ['организация', 'парламент', 'предприятие', 'серия', 'театр', 'проект', 'россиянин', 'выйти', 'сообщаться', 'остаться', 'чемпион', 'шахта', 'воскресение', 'причина', 'фестиваль', 'совет', 'режим', 'рамка', 'председатель', 'газа', 'помочь', 'большой', 'телефон', 'развитие', 'израиль', 'участие', 'прокуратура', 'официальный', 'назвать', 'сми', 'средство', 'выиграть', 'дмитрий', 'предлагать', 'государственный', 'школа', 'соглашение', 'состояться', 'путин', 'событие', 'произойти', 'франс', 'комитет', 'свидетельствовать', 'оао', 'последний', 'край', 'пока', 'иран', 'производство', 'полиция', 'новый', 'случай', 'матч', 'открытие', 'создать', 'округа', 'хороший', 'ведомство', 'время', 'государство', 'александр', 'война', 'провести', 'газета', 'являться', 'убийство', 'ситуация', 'лидер', 'общественный', 'пострадавший', 'комплекс', 'заседание', 'заявление', 'семья', 'встреча', 'остров', 'дагестан', 'смочь', 'пресс', 'госдума', 'обнаружить', 'зал', 'назначить', 'житель', 'начаться', 'направить', 'белоруссия', 'национальный', 'четыре', 'июль', 'великий', 'круг', 'доллар', 'место', 'главный', 'рост', 'скп', 'помощь', 'телеканал']\n",
            "46 ['участие', 'южный', 'организация', 'решение', 'оон', 'мэр', 'рассказать', 'федерация', 'работа', 'прокуратура', 'пострадавший', 'прибыть', 'проведение', 'новое', 'поддержка', 'следовать', 'возможность', 'серия', 'дорога', 'пройти', 'турция', 'февраль', 'вырастить', 'объявить', 'французский', 'торг', 'мероприятие', 'копейка', 'известный', 'финансовый', 'рассмотреть', 'великий', 'шесть', 'неделя', 'оао', 'государственный', 'самый', 'клуб', 'евро', 'миллиард', 'министерство', 'михаил', 'заседание', 'служба', 'чемпионат', 'круг', 'защита', 'госдума', 'событие', 'футбол', 'июнь', 'район', 'провести', 'киргизия', 'сообщаться', 'рамка', 'число', 'задержать', 'нефть', 'начаться', 'воскресение', 'грузия', 'станция', 'подписать', 'состояться', 'цена', 'футбольный', 'победа', 'руководитель', 'местный', 'комиссия', 'часть', 'снизиться', 'весь', 'авария', 'ряд', 'июль', 'рынок', 'администрация', 'пост', 'образование', 'корреспондент', 'договор', 'провинция', 'судебный', 'погибнуть', 'предприятие', 'машина', 'председатель', 'петербург', 'жертва', 'поезд', 'хороший', 'руководство', 'переговоры', 'считать', 'янукович', 'составить', 'казахстан', 'гувд']\n",
            "47 ['открытие', 'составить', 'февраль', 'главный', 'индекс', 'землетрясение', 'дтп', 'проведение', 'новое', 'создать', 'франция', 'кубок', 'матч', 'мвд', 'выставка', 'центральный', 'футболист', 'пресс', 'рейтер', 'число', 'подмосковье', 'отечественный', 'завершить', 'война', 'бывший', 'посвятить', 'обсудить', 'начальник', 'четыре', 'теннисный', 'имя', 'назначить', 'подготовка', 'курс', 'олимпийский', 'белоруссия', 'часть', 'решение', 'проверка', 'член', 'признать', 'правоохранительный', 'создание', 'ход', 'причина', 'неизвестный', 'театр', 'писать', 'должный', 'метро', 'нефть', 'станция', 'гражданин', 'французский', 'ассошиэйтед', 'дорога', 'образование', 'мировой', 'дом', 'государство', 'обвинять', 'рамка', 'аэропорт', 'комплекс', 'август', 'франс', 'отдел', 'евро', 'заявление', 'греция', 'петербург', 'турция', 'шахта', 'погибший', 'получить', 'депутат', 'сила', 'гаити', 'первое', 'система', 'продажа', 'рынок', 'борьба', 'конец', 'семья', 'визит', 'передавать', 'федеральный', 'проходить', 'месяц', 'воскресение', 'последний', 'американский', 'больница', 'общественный', 'против', 'развитие', 'право', 'пострадать', 'сборный']\n",
            "48 ['ветеран', 'лига', 'совет', 'индекс', 'дорога', 'направить', 'часть', 'февраль', 'семь', 'обнаружить', 'завершить', 'телефон', 'помочь', 'мид', 'иск', 'пройти', 'игорь', 'здание', 'готовый', 'региональный', 'федерация', 'великий', 'фон', 'николай', 'соглашение', 'произойти', 'ядерный', 'сила', 'зал', 'пост', 'начать', 'помощь', 'житель', 'комиссия', 'мвд', 'отдел', 'рост', 'главный', 'культура', 'украинский', 'дмитрий', 'случай', 'доллар', 'выставка', 'экономика', 'журналист', 'возбудить', 'изменение', 'обсудить', 'событие', 'площадь', 'миллиард', 'создать', 'матч', 'европа', 'жизнь', 'создание', 'проблема', 'несколько', 'участник', 'посетить', 'государственный', 'лидер', 'иностранный', 'республика', 'специалист', 'найти', 'рассказать', 'состав', 'спортивный', 'владимир', 'признать', 'подмосковье', 'подписать', 'защита', 'проводить', 'генеральный', 'полиция', 'подготовка', 'финансовый', 'интервью', 'проект', 'крупный', 'начаться', 'виктор', 'футболист', 'губернатор', 'гаити', 'союз', 'убийство', 'весь', 'работать', 'круг', 'евгений', 'афганистан', 'подозревать', 'информация', 'метро', 'связь', 'комитет']\n",
            "49 ['центральный', 'неизвестный', 'иск', 'остаться', 'шесть', 'интервью', 'возможность', 'испания', 'произойти', 'детский', 'специалист', 'являться', 'спортивный', 'дтп', 'пять', 'руководство', 'афганистан', 'евгений', 'политика', 'мера', 'гражданин', 'владимир', 'пострадавший', 'провинция', 'встреча', 'помочь', 'неделя', 'транспорт', 'чемпионат', 'команда', 'средство', 'рассказать', 'сми', 'республика', 'мэр', 'новый', 'событие', 'подписать', 'провести', 'правоохранительный', 'экономика', 'переговоры', 'польша', 'украинский', 'погибнуть', 'министр', 'авария', 'весь', 'официальный', 'итог', 'выставка', 'отношение', 'милиционер', 'посетить', 'защита', 'финал', 'руководитель', 'дом', 'семь', 'акция', 'ход', 'борьба', 'фон', 'юг', 'британский', 'великий', 'январь', 'период', 'здание', 'гувд', 'милиция', 'представить', 'безопасность', 'изменение', 'парламент', 'государство', 'миллиард', 'рейтер', 'проект', 'круг', 'мир', 'киргизия', 'мвд', 'французский', 'белоруссия', 'школа', 'обнаружить', 'рост', 'заседание', 'уровень', 'лига', 'совет', 'состав', 'впервые', 'движение', 'столичный', 'житель', 'выступать', 'мочь', 'сотрудник']\n",
            "50 ['вырастить', 'площадь', 'андрей', 'украинский', 'состояться', 'проект', 'сообщаться', 'израиль', 'корреспондент', 'признать', 'театр', 'высокий', 'игра', 'заместитель', 'машина', 'безопасность', 'землетрясение', 'посвятить', 'южный', 'дата', 'областной', 'пока', 'сообщение', 'система', 'житель', 'февраль', 'лига', 'рабочий', 'полиция', 'встреча', 'обвинять', 'участие', 'изменение', 'представить', 'несколько', 'утром', 'проводить', 'гувд', 'нарушение', 'столица', 'финал', 'обнаружить', 'известный', 'дом', 'официальный', 'также', 'индекс', 'рост', 'федерация', 'считать', 'ведомство', 'против', 'культура', 'отношение', 'зал', 'впервые', 'транспорт', 'авария', 'специалист', 'владимир', 'служба', 'общественный', 'шесть', 'казахстан', 'пост', 'тур', 'следственный', 'телеканал', 'получить', 'северный', 'пожар', 'выйти', 'михаил', 'кубок', 'край', 'государство', 'открытый', 'провести', 'факт', 'британский', 'убийство', 'мэр', 'правоохранительный', 'директор', 'столичный', 'подмосковье', 'экономический', 'открыть', 'участник', 'предлагать', 'европа', 'ближний', 'победа', 'весь', 'янукович', 'газа', 'начаться', 'испания', 'новый', 'дорога']\n",
            "51 ['находиться', 'состав', 'ассошиэйтед', 'неделя', 'событие', 'дом', 'николай', 'культура', 'погибнуть', 'крупный', 'режим', 'изменение', 'специалист', 'великий', 'выставка', 'полиция', 'высокий', 'белоруссия', 'организация', 'михаил', 'мировой', 'произойти', 'открытие', 'март', 'следовать', 'французский', 'акция', 'чемпион', 'депутат', 'хороший', 'опубликовать', 'имя', 'турция', 'завершить', 'скп', 'проводить', 'республика', 'являться', 'киргизия', 'внутренний', 'рассмотреть', 'лига', 'вод', 'новый', 'передавать', 'евгений', 'матч', 'семья', 'случай', 'край', 'дтп', 'известный', 'месяц', 'результат', 'программа', 'правоохранительный', 'европа', 'принять', 'федерация', 'информация', 'американский', 'провести', 'соглашение', 'афганистан', 'выйти', 'работать', 'открыть', 'предлагать', 'местный', 'губернатор', 'район', 'готовый', 'политика', 'кубок', 'семь', 'испания', 'направить', 'банка', 'команда', 'чемпионат', 'казахстан', 'гувд', 'серия', 'начаться', 'большой', 'фон', 'впервые', 'май', 'военный', 'место', 'цена', 'мера', 'польша', 'подготовка', 'это', 'задержать', 'возможность', 'мчс', 'вопрос', 'иск']\n",
            "52 ['утром', 'отдел', 'сергей', 'ядерный', 'специалист', 'копейка', 'проведение', 'комплекс', 'следственный', 'британский', 'юг', 'фестиваль', 'сообщаться', 'клуб', 'работать', 'теракт', 'выставка', 'конец', 'рассмотреть', 'создать', 'рост', 'встреча', 'игра', 'призвать', 'регион', 'центральный', 'круг', 'считать', 'рейтер', 'мчс', 'департамент', 'неделя', 'столица', 'намерить', 'ветеран', 'иран', 'гаити', 'получить', 'михаил', 'число', 'пресс', 'решение', 'ряд', 'игорь', 'сотрудник', 'израиль', 'продажа', 'весь', 'большой', 'мвд', 'турция', 'июль', 'новый', 'футболист', 'завершить', 'испания', 'договор', 'олимпийский', 'обсудить', 'около', 'политика', 'ванкувер', 'мочь', 'мид', 'вопрос', 'газа', 'рамка', 'французский', 'против', 'нарушение', 'мероприятие', 'остаться', 'экономика', 'открыть', 'турнир', 'уровень', 'ближний', 'объявить', 'обнаружить', 'начальник', 'неизвестный', 'аэропорт', 'губернатор', 'апрель', 'выбор', 'июнь', 'торг', 'землетрясение', 'цена', 'дорога', 'фонд', 'тур', 'комиссия', 'принять', 'образование', 'городской', 'ведомство', 'биржа', 'машина', 'назначить']\n",
            "53 ['сми', 'шахта', 'свидетельствовать', 'судебный', 'партия', 'предприятие', 'состав', 'самый', 'семья', 'это', 'лидер', 'программа', 'ночь', 'здание', 'снизиться', 'работа', 'администрация', 'поезд', 'областной', 'телеканал', 'пострадавший', 'оон', 'предлагать', 'республика', 'помощь', 'лига', 'круг', 'июль', 'начаться', 'информация', 'регион', 'игра', 'против', 'генеральный', 'сочи', 'рабочий', 'дата', 'корреспондент', 'футбол', 'цска', 'совет', 'проект', 'нарушение', 'оао', 'интервью', 'европа', 'май', 'путин', 'система', 'александр', 'государство', 'рынок', 'полиция', 'место', 'директор', 'николай', 'выступать', 'имя', 'июнь', 'подписать', 'театр', 'часть', 'случай', 'серия', 'команда', 'рейтер', 'смочь', 'обсудить', 'автомобиль', 'обвинять', 'франция', 'должный', 'мэр', 'причина', 'член', 'главный', 'событие', 'ближний', 'пострадать', 'культура', 'федерация', 'месяц', 'государственный', 'дорога', 'министр', 'мероприятие', 'возбудить', 'история', 'участник', 'правоохранительный', 'транспорт', 'новый', 'итог', 'евгений', 'израиль', 'пресс', 'группа', 'цена', 'тур', 'принять']\n",
            "54 ['иностранный', 'нефть', 'ветеран', 'история', 'станция', 'банка', 'ассошиэйтед', 'признать', 'спорт', 'организация', 'дагестан', 'возможность', 'система', 'дорога', 'газета', 'место', 'впервые', 'национальный', 'задержать', 'кубок', 'крупный', 'назначить', 'автомобиль', 'интервью', 'грузия', 'завершить', 'государство', 'ночь', 'считать', 'русский', 'возбудить', 'программа', 'продажа', 'футболист', 'округа', 'янукович', 'также', 'первое', 'шахта', 'служба', 'евгений', 'путин', 'смочь', 'евро', 'факт', 'встреча', 'рост', 'сила', 'погибший', 'израиль', 'биржа', 'телеканал', 'производство', 'германия', 'вечером', 'пройти', 'официальный', 'комплекс', 'убийство', 'суббота', 'член', 'администрация', 'начать', 'заместитель', 'рабочий', 'зал', 'борьба', 'снизиться', 'бывший', 'свидетельствовать', 'вырастить', 'участие', 'создание', 'испания', 'казахстан', 'подготовка', 'пока', 'заседание', 'проходить', 'полиция', 'пять', 'уголовный', 'защита', 'россиянин', 'обнаружить', 'прибыть', 'сми', 'столичный', 'пожар', 'образование', 'олимпийский', 'направить', 'часть', 'находиться', 'срок', 'территория', 'житель', 'франс', 'поддержка', 'должный']\n",
            "55 ['комиссия', 'транспорт', 'признать', 'федеральный', 'система', 'русский', 'миллиард', 'круг', 'израиль', 'пройти', 'площадь', 'иск', 'мир', 'пострадавший', 'семья', 'команда', 'итог', 'рассказать', 'индекс', 'журналист', 'район', 'евгений', 'футбольный', 'китай', 'гувд', 'уголовный', 'обнаружить', 'погибнуть', 'участник', 'переговоры', 'место', 'мчс', 'мид', 'договор', 'изменение', 'единый', 'связь', 'готовый', 'выступать', 'дорога', 'движение', 'пост', 'находиться', 'представить', 'испания', 'прибыть', 'заместитель', 'призвать', 'возбудить', 'местный', 'северный', 'рынок', 'участие', 'открытый', 'работать', 'киргизия', 'решение', 'впервые', 'орган', 'подготовка', 'подписать', 'алексей', 'станция', 'детский', 'визит', 'ход', 'пять', 'право', 'владимир', 'поддержка', 'франс', 'следовать', 'акция', 'безопасность', 'крупный', 'путин', 'великий', 'футбол', 'событие', 'следственный', 'член', 'остров', 'михаил', 'помощь', 'заявление', 'республика', 'число', 'подозревать', 'грузия', 'игорь', 'фестиваль', 'информация', 'новый', 'ведомство', 'время', 'сборная', 'неделя', 'утром', 'четыре', 'суббота']\n",
            "56 ['весь', 'военный', 'следовать', 'писать', 'помочь', 'развитие', 'это', 'задержать', 'политика', 'прокуратура', 'решение', 'событие', 'команда', 'столица', 'рынок', 'обнаружить', 'доллар', 'американский', 'партия', 'источник', 'михаил', 'федерация', 'нефть', 'рассказать', 'май', 'украинский', 'намерить', 'выступать', 'рейтер', 'дагестан', 'мвд', 'рамка', 'полиция', 'неизвестный', 'июль', 'система', 'юг', 'против', 'посвятить', 'соглашение', 'комплекс', 'произойти', 'дтп', 'предприятие', 'вечером', 'обвинять', 'программа', 'самый', 'телефон', 'франс', 'ситуация', 'журналист', 'спорт', 'ассошиэйтед', 'андрей', 'внутренний', 'смочь', 'уровень', 'оон', 'биржа', 'пять', 'гувд', 'театр', 'территория', 'создать', 'провинция', 'евгений', 'турция', 'принять', 'последний', 'европа', 'совет', 'впервые', 'погибший', 'остаться', 'торг', 'франция', 'русский', 'история', 'мчс', 'иран', 'пройти', 'выставка', 'областной', 'экономика', 'государственный', 'февраль', 'милиция', 'взрыв', 'опубликовать', 'жертва', 'интервью', 'теннисный', 'петербург', 'фон', 'чемпион', 'цска', 'рассмотреть', 'министерство', 'пока']\n",
            "57 ['губернатор', 'война', 'первое', 'следственный', 'жизнь', 'чемпион', 'признать', 'заседание', 'теннисный', 'путин', 'продажа', 'около', 'проведение', 'футболист', 'казахстан', 'комплекс', 'ядерный', 'май', 'новое', 'цска', 'сергей', 'это', 'дтп', 'киргизия', 'также', 'объявить', 'американский', 'станция', 'направить', 'гувд', 'суббота', 'служба', 'александр', 'общественный', 'январь', 'ситуация', 'милиционер', 'борьба', 'июль', 'парламент', 'участник', 'группа', 'мэр', 'прокуратура', 'предприятие', 'спорт', 'детский', 'россиянин', 'официальный', 'региональный', 'неделя', 'пострадать', 'смочь', 'скп', 'федеральный', 'теракт', 'открытие', 'факт', 'участие', 'посвятить', 'сборный', 'политика', 'пожар', 'местный', 'провинция', 'русский', 'весь', 'транспорт', 'назвать', 'футбол', 'посетить', 'случай', 'польша', 'говориться', 'матч', 'иностранный', 'выступать', 'форум', 'против', 'проект', 'готовый', 'лидер', 'август', 'назначить', 'лига', 'афганистан', 'последний', 'проверка', 'европа', 'решение', 'орган', 'авария', 'встреча', 'дмитрий', 'апрель', 'найти', 'дорога', 'должный', 'пройти', 'городской']\n",
            "58 ['также', 'отечественный', 'состояться', 'британский', 'клуб', 'министерство', 'утром', 'главный', 'создать', 'госдума', 'журналист', 'весь', 'мир', 'август', 'виктор', 'турция', 'фонд', 'самый', 'появиться', 'землетрясение', 'председатель', 'поезд', 'период', 'миллиард', 'против', 'сотрудник', 'культура', 'мчс', 'подмосковье', 'автомобиль', 'известный', 'причина', 'строительство', 'получить', 'отдел', 'союз', 'суббота', 'убийство', 'центральный', 'лига', 'ход', 'месяц', 'больница', 'победа', 'театр', 'совет', 'иностранный', 'сообщаться', 'федерация', 'выйти', 'гаити', 'конец', 'начальник', 'борьба', 'копейка', 'открытие', 'правоохранительный', 'создание', 'помочь', 'финансовый', 'пост', 'сборный', 'чемпион', 'франс', 'мвд', 'теннисный', 'футбольный', 'крупный', 'республика', 'выступать', 'национальный', 'большой', 'говориться', 'экономический', 'транспорт', 'открытый', 'помощь', 'прибыть', 'израиль', 'школа', 'мероприятие', 'начаться', 'французский', 'провинция', 'территория', 'обвинять', 'депутат', 'казахстан', 'рассмотреть', 'подготовка', 'нефть', 'гувд', 'русский', 'смочь', 'южный', 'столичный', 'состав', 'ядерный', 'департамент', 'проходить']\n",
            "59 ['провести', 'правоохранительный', 'дорога', 'дать', 'сайт', 'клуб', 'казахстан', 'вод', 'северный', 'журналист', 'министерство', 'сотрудничество', 'работать', 'турция', 'нефть', 'пожар', 'лига', 'игра', 'новый', 'здание', 'транспорт', 'площадь', 'погибнуть', 'проверка', 'начать', 'иностранный', 'лидер', 'ядерный', 'областной', 'биржа', 'россиянин', 'выступать', 'воскресение', 'фестиваль', 'авария', 'самый', 'открыть', 'культура', 'юг', 'помощь', 'чемпионат', 'впервые', 'начальник', 'федерация', 'изменение', 'нарушение', 'представить', 'считать', 'взрыв', 'большой', 'проходить', 'метро', 'провинция', 'комплекс', 'край', 'завершить', 'сми', 'проведение', 'круг', 'территория', 'германия', 'землетрясение', 'система', 'прибыть', 'выйти', 'национальный', 'поддержка', 'ситуация', 'переговоры', 'комиссия', 'подписать', 'госдума', 'производство', 'получить', 'организация', 'главный', 'жертва', 'должный', 'республика', 'пострадать', 'задержать', 'специалист', 'турнир', 'департамент', 'сборная', 'мир', 'известный', 'отечественный', 'регион', 'высокий', 'теракт', 'гувд', 'открытый', 'создать', 'утром', 'начаться', 'мвд', 'доллар', 'служба', 'суббота']\n",
            "60 ['интервью', 'являться', 'открытие', 'областной', 'взрыв', 'нарушение', 'история', 'журналист', 'выставка', 'готовый', 'оон', 'срок', 'греция', 'пресс', 'единый', 'александр', 'ближний', 'теракт', 'проверка', 'обсудить', 'решение', 'милиционер', 'национальный', 'снизиться', 'сила', 'ветеран', 'член', 'поддержка', 'французский', 'защита', 'белоруссия', 'шахта', 'россиянин', 'состояться', 'свидетельствовать', 'внутренний', 'миллиард', 'участник', 'отечественный', 'проведение', 'ассошиэйтед', 'здание', 'район', 'призвать', 'пострадавший', 'чемпион', 'комиссия', 'заседание', 'госдума', 'дтп', 'результат', 'петербург', 'самый', 'место', 'край', 'январь', 'тур', 'федерация', 'транспорт', 'казахстан', 'михаил', 'июль', 'юг', 'строительство', 'британский', 'начаться', 'южный', 'шесть', 'грузия', 'последний', 'уровень', 'телефон', 'факт', 'полиция', 'август', 'бывший', 'следственный', 'отношение', 'закон', 'спорт', 'республика', 'милиция', 'вечером', 'совет', 'мера', 'впервые', 'сотрудник', 'новое', 'признать', 'телеканал', 'администрация', 'янукович', 'территория', 'победа', 'авария', 'вод', 'округа', 'проблема', 'провинция', 'часть']\n",
            "61 ['проверка', 'суббота', 'пострадать', 'клуб', 'создать', 'также', 'строительство', 'футбольный', 'режим', 'государственный', 'вод', 'последний', 'мчс', 'жизнь', 'гаити', 'против', 'европейский', 'образование', 'июнь', 'корреспондент', 'вечером', 'представить', 'обсудить', 'служба', 'иностранный', 'связь', 'источник', 'правоохранительный', 'писать', 'торг', 'назначить', 'новое', 'посетить', 'комплекс', 'матч', 'создание', 'министерство', 'главный', 'сотрудничество', 'работа', 'участие', 'жертва', 'театр', 'ряд', 'часть', 'найти', 'составить', 'житель', 'должный', 'янукович', 'пресс', 'цска', 'защита', 'период', 'программа', 'общественный', 'четыре', 'кубок', 'сми', 'фонд', 'погибший', 'прокуратура', 'изменение', 'виктор', 'край', 'андрей', 'проблема', 'путин', 'февраль', 'машина', 'футболист', 'отношение', 'ядерный', 'время', 'уголовный', 'смочь', 'нефть', 'событие', 'опубликовать', 'петербург', 'факт', 'франс', 'признать', 'газа', 'экономический', 'итог', 'гувд', 'совет', 'переговоры', 'рамка', 'ночь', 'оао', 'начальник', 'партия', 'дтп', 'регион', 'турция', 'индекс', 'дать', 'выиграть']\n",
            "62 ['свидетельствовать', 'ветеран', 'конец', 'рамка', 'предприятие', 'март', 'победа', 'погибший', 'союз', 'пост', 'бывший', 'информация', 'корреспондент', 'подготовка', 'май', 'биржа', 'посетить', 'официальный', 'визит', 'городской', 'поддержка', 'пресс', 'весь', 'алексей', 'право', 'курс', 'проект', 'тур', 'ссылка', 'культура', 'журналист', 'китай', 'это', 'финал', 'против', 'британский', 'представить', 'завершить', 'губернатор', 'сила', 'театр', 'говориться', 'республика', 'найти', 'рост', 'группа', 'работать', 'образование', 'проведение', 'следственный', 'подмосковье', 'россиянин', 'уголовный', 'участие', 'место', 'военный', 'убийство', 'совет', 'проверка', 'договор', 'комитет', 'ведомство', 'ядерный', 'около', 'гаити', 'гражданин', 'госдума', 'январь', 'помочь', 'игорь', 'дом', 'юг', 'передавать', 'составлять', 'начаться', 'время', 'экономический', 'начать', 'комиссия', 'источник', 'встреча', 'сообщаться', 'взрыв', 'пострадать', 'подозревать', 'рейтер', 'семь', 'сборная', 'николай', 'доллар', 'развитие', 'европа', 'остров', 'поезд', 'метро', 'виктор', 'проходить', 'отечественный', 'иностранный', 'событие']\n",
            "63 ['назначить', 'транспорт', 'решение', 'госдума', 'связь', 'виктор', 'кубок', 'союз', 'факт', 'сборный', 'неделя', 'открытие', 'пять', 'победа', 'сергей', 'участие', 'высокий', 'аэропорт', 'детский', 'направить', 'метро', 'утром', 'олимпийский', 'погибший', 'юг', 'январь', 'открыть', 'выйти', 'мэр', 'парламент', 'мид', 'период', 'фон', 'областной', 'федерация', 'теракт', 'несколько', 'предприятие', 'великий', 'милиционер', 'европейский', 'продажа', 'следовать', 'выбор', 'представить', 'матч', 'специалист', 'прокуратура', 'развитие', 'городской', 'ближний', 'сообщение', 'цена', 'смочь', 'защита', 'создать', 'найти', 'время', 'число', 'турция', 'визит', 'ядерный', 'комплекс', 'жизнь', 'фонд', 'тур', 'дмитрий', 'август', 'должный', 'финал', 'курс', 'место', 'событие', 'помощь', 'рост', 'первое', 'оао', 'образование', 'совет', 'андрей', 'журналист', 'остаться', 'система', 'копейка', 'опубликовать', 'михаил', 'бывший', 'футбол', 'проведение', 'провинция', 'посвятить', 'месяц', 'писать', 'главный', 'машина', 'ветеран', 'средство', 'телеканал', 'новое', 'футболист']\n",
            "64 ['состав', 'комиссия', 'футбол', 'помочь', 'соглашение', 'здание', 'подмосковье', 'начальник', 'обнаружить', 'отечественный', 'орган', 'прибыть', 'мэр', 'ветеран', 'впервые', 'вопрос', 'дтп', 'движение', 'школа', 'пострадать', 'служба', 'вырастить', 'выбор', 'открытый', 'турция', 'рынок', 'финал', 'губернатор', 'столичный', 'миллиард', 'польша', 'европа', 'газета', 'юг', 'выйти', 'сергей', 'союз', 'возбудить', 'турнир', 'планировать', 'британский', 'сообщаться', 'утром', 'киргизия', 'евро', 'крупный', 'помощь', 'мировой', 'признать', 'зал', 'около', 'намерить', 'министерство', 'говориться', 'генеральный', 'мид', 'европейский', 'сотрудничество', 'юрий', 'являться', 'городской', 'главный', 'фон', 'комплекс', 'договор', 'мир', 'лига', 'ванкувер', 'пост', 'копейка', 'программа', 'воскресение', 'специалист', 'подозревать', 'случай', 'культура', 'германия', 'событие', 'региональный', 'скп', 'право', 'мера', 'шахта', 'землетрясение', 'остров', 'сила', 'подписать', 'матч', 'команда', 'группа', 'поезд', 'пока', 'вечером', 'южный', 'шесть', 'закон', 'победа', 'защита', 'форум', 'переговоры']\n",
            "65 ['ассошиэйтед', 'следовать', 'произойти', 'андрей', 'телефон', 'внутренний', 'орган', 'федеральный', 'результат', 'победа', 'известный', 'решение', 'американский', 'причина', 'программа', 'ночь', 'взрыв', 'фон', 'август', 'копейка', 'переговоры', 'тур', 'начаться', 'рост', 'алексей', 'председатель', 'выступать', 'высокий', 'чемпион', 'гражданин', 'сайт', 'группа', 'ближний', 'территория', 'должный', 'вечером', 'заявление', 'убийство', 'дорога', 'банка', 'журналист', 'специалист', 'итог', 'погибший', 'работа', 'погибнуть', 'писать', 'фонд', 'право', 'юг', 'совет', 'оао', 'шахта', 'имя', 'дагестан', 'история', 'ситуация', 'политика', 'уголовный', 'сергей', 'россиянин', 'парламент', 'начать', 'биржа', 'выбор', 'русский', 'семь', 'провинция', 'остаться', 'май', 'также', 'проверка', 'помощь', 'житель', 'единый', 'обсудить', 'передавать', 'французский', 'пока', 'здание', 'новый', 'строительство', 'весь', 'возбудить', 'главный', 'пострадавший', 'зал', 'ядерный', 'школа', 'торг', 'сборная', 'это', 'дать', 'открытие', 'столица', 'участник', 'выиграть', 'предприятие', 'апрель', 'китай']\n",
            "66 ['сборный', 'итог', 'франция', 'теннисный', 'парламент', 'четыре', 'планировать', 'игра', 'французский', 'признать', 'подготовка', 'провинция', 'подозревать', 'причина', 'курс', 'месяц', 'мэр', 'движение', 'комплекс', 'появиться', 'источник', 'украинский', 'культура', 'вырастить', 'около', 'состав', 'мера', 'сообщение', 'срок', 'история', 'сми', 'дать', 'хороший', 'проблема', 'начать', 'возбудить', 'иностранный', 'направить', 'центральный', 'федерация', 'чемпион', 'областной', 'федеральный', 'иск', 'игорь', 'лидер', 'первое', 'система', 'посетить', 'совет', 'мчс', 'проект', 'представить', 'комитет', 'возможность', 'национальный', 'следовать', 'произойти', 'объявить', 'чемпионат', 'грузия', 'место', 'снизиться', 'договор', 'открыться', 'великий', 'ближний', 'переговоры', 'мир', 'находиться', 'проверка', 'северный', 'состояться', 'поезд', 'полиция', 'шесть', 'июль', 'корреспондент', 'выступать', 'погибший', 'служба', 'дата', 'ассошиэйтед', 'тренер', 'бывший', 'открытый', 'это', 'событие', 'столичный', 'авария', 'режим', 'высокий', 'конец', 'назвать', 'школа', 'гражданин', 'производство', 'опубликовать', 'вечером', 'пока']\n",
            "67 ['уголовный', 'встреча', 'несколько', 'совет', 'телеканал', 'имя', 'воскресение', 'евро', 'школа', 'объявить', 'здание', 'владимир', 'иран', 'февраль', 'новый', 'бывший', 'газета', 'франция', 'областной', 'край', 'фон', 'май', 'шесть', 'провести', 'французский', 'число', 'олимпийский', 'сми', 'комиссия', 'обнаружить', 'землетрясение', 'договор', 'служба', 'поезд', 'смочь', 'весь', 'культура', 'обвинять', 'назначить', 'член', 'рынок', 'дать', 'сообщение', 'август', 'подозревать', 'ванкувер', 'акция', 'организация', 'русский', 'корреспондент', 'предлагать', 'польша', 'британский', 'александр', 'государственный', 'скп', 'круг', 'автомобиль', 'нефть', 'специалист', 'руководство', 'председатель', 'сила', 'юг', 'предприятие', 'срок', 'пострадавший', 'работа', 'итог', 'снизиться', 'июль', 'погибший', 'теннисный', 'помочь', 'федерация', 'открытый', 'депутат', 'источник', 'программа', 'мочь', 'региональный', 'биржа', 'метро', 'орган', 'война', 'внутренний', 'направить', 'впервые', 'работать', 'представить', 'мвд', 'факт', 'рамка', 'безопасность', 'должный', 'следственный', 'аэропорт', 'путин', 'вырастить', 'комплекс']\n",
            "68 ['пройти', 'новый', 'сообщение', 'подозревать', 'телефон', 'курс', 'прибыть', 'транспорт', 'зал', 'житель', 'убийство', 'комиссия', 'газа', 'индекс', 'обвинять', 'воскресение', 'бывший', 'олимпийский', 'говориться', 'пока', 'февраль', 'победа', 'месяц', 'заявление', 'пресс', 'утром', 'американский', 'группа', 'площадь', 'чемпионат', 'экономика', 'назвать', 'готовый', 'аэропорт', 'игра', 'французский', 'тур', 'авария', 'неизвестный', 'казахстан', 'продажа', 'проходить', 'единый', 'сотрудничество', 'официальный', 'четыре', 'новое', 'обсудить', 'экономический', 'уголовный', 'завершить', 'ведомство', 'комитет', 'руководство', 'программа', 'землетрясение', 'иностранный', 'движение', 'автомобиль', 'служба', 'состав', 'часть', 'франция', 'станция', 'россиянин', 'выиграть', 'сочи', 'проведение', 'связь', 'клуб', 'признать', 'больница', 'факт', 'совет', 'государственный', 'начаться', 'юрий', 'госдума', 'алексей', 'июль', 'предприятие', 'задержать', 'работать', 'судебный', 'главный', 'источник', 'сми', 'против', 'погибший', 'представить', 'оао', 'союз', 'евро', 'семь', 'британский', 'выйти', 'государство', 'александр', 'нефть', 'петербург']\n",
            "69 ['нарушение', 'школа', 'сочи', 'апрель', 'полиция', 'спортивный', 'госдума', 'сотрудничество', 'начать', 'форум', 'факт', 'федеральный', 'национальный', 'председатель', 'курс', 'депутат', 'теракт', 'индекс', 'дом', 'юг', 'большой', 'цена', 'сообщение', 'назначить', 'ссылка', 'свидетельствовать', 'результат', 'серия', 'бывший', 'сергей', 'британский', 'ситуация', 'мвд', 'период', 'утром', 'срок', 'политика', 'государственный', 'вырастить', 'новый', 'гувд', 'пожар', 'столица', 'подготовка', 'копейка', 'продажа', 'клуб', 'специалист', 'мэр', 'афганистан', 'мир', 'право', 'открыться', 'война', 'центральный', 'писать', 'место', 'член', 'республика', 'средство', 'николай', 'цска', 'олимпийский', 'культура', 'южный', 'тренер', 'вечером', 'поезд', 'выиграть', 'развитие', 'призвать', 'вопрос', 'корреспондент', 'партия', 'появиться', 'создание', 'германия', 'программа', 'шахта', 'обсудить', 'областной', 'игра', 'иск', 'ванкувер', 'виктор', 'причина', 'состояться', 'государство', 'банка', 'отечественный', 'планировать', 'владимир', 'выбор', 'против', 'газета', 'история', 'площадь', 'футбольный', 'получить', 'прокуратура']\n",
            "70 ['проходить', 'площадь', 'месяц', 'четыре', 'олимпийский', 'курс', 'заявление', 'евгений', 'группа', 'подписать', 'внутренний', 'европа', 'завершить', 'готовый', 'предприятие', 'янукович', 'газа', 'прибыть', 'серия', 'начать', 'выиграть', 'транспорт', 'ветеран', 'назвать', 'посвятить', 'телеканал', 'член', 'составлять', 'чемпионат', 'признать', 'мид', 'провинция', 'против', 'лидер', 'германия', 'партия', 'также', 'национальный', 'главный', 'автомобиль', 'передавать', 'казахстан', 'тренер', 'детский', 'снизиться', 'машина', 'пострадавший', 'тур', 'рост', 'выйти', 'утром', 'информация', 'последний', 'франция', 'место', 'источник', 'состояться', 'выбор', 'государственный', 'работать', 'цена', 'совет', 'дом', 'игорь', 'зал', 'возбудить', 'уровень', 'часть', 'рынок', 'киргизия', 'областной', 'федеральный', 'нефть', 'отечественный', 'фонд', 'департамент', 'свидетельствовать', 'проведение', 'открыться', 'федерация', 'ведомство', 'март', 'аэропорт', 'турнир', 'парламент', 'открытие', 'евро', 'сми', 'корреспондент', 'продажа', 'причина', 'скончаться', 'нарушение', 'обсудить', 'событие', 'первое', 'комитет', 'николай', 'связь', 'кубок']\n",
            "71 ['ближний', 'проведение', 'казахстан', 'германия', 'начальник', 'вопрос', 'продажа', 'дом', 'факт', 'американский', 'единый', 'возбудить', 'цена', 'округа', 'назвать', 'гувд', 'рост', 'работать', 'иск', 'администрация', 'система', 'создать', 'дать', 'образование', 'директор', 'военный', 'столица', 'нарушение', 'телеканал', 'центральный', 'обсудить', 'открытие', 'организация', 'представить', 'первое', 'польша', 'петербург', 'ряд', 'февраль', 'жертва', 'май', 'суббота', 'бывший', 'виктор', 'экономический', 'заседание', 'рассказать', 'индекс', 'юрий', 'составлять', 'украинский', 'уровень', 'сила', 'связь', 'август', 'отношение', 'киргизия', 'движение', 'проект', 'орган', 'ночь', 'воскресение', 'тренер', 'зал', 'франция', 'вырастить', 'великий', 'андрей', 'франс', 'местный', 'лидер', 'рынок', 'ход', 'футбол', 'программа', 'победа', 'ванкувер', 'самый', 'причина', 'район', 'серия', 'департамент', 'государственный', 'подмосковье', 'министерство', 'сборная', 'клуб', 'средство', 'евгений', 'визит', 'последний', 'тур', 'янукович', 'проходить', 'начать', 'встреча', 'пройти', 'посетить', 'признать', 'скп']\n",
            "72 ['машина', 'теракт', 'помощь', 'июнь', 'французский', 'мэр', 'начальник', 'украинский', 'начать', 'петербург', 'передавать', 'составлять', 'возбудить', 'киргизия', 'завершить', 'шесть', 'янукович', 'группа', 'мочь', 'объявить', 'владимир', 'взрыв', 'правоохранительный', 'решение', 'специалист', 'имя', 'прибыть', 'курс', 'региональный', 'безопасность', 'европа', 'спортивный', 'корреспондент', 'система', 'чемпионат', 'казахстан', 'орган', 'оон', 'округа', 'победа', 'обнаружить', 'вопрос', 'мировой', 'гувд', 'подмосковье', 'вечером', 'белоруссия', 'совет', 'борьба', 'вод', 'американский', 'погибший', 'иран', 'столица', 'губернатор', 'китай', 'доллар', 'интервью', 'иск', 'россиянин', 'участник', 'произойти', 'обвинять', 'телефон', 'сборная', 'сочи', 'задержать', 'государство', 'должный', 'уголовный', 'игра', 'газета', 'ванкувер', 'франс', 'право', 'польша', 'руководитель', 'клуб', 'намерить', 'лидер', 'отечественный', 'май', 'известный', 'рамка', 'рейтер', 'проходить', 'дагестан', 'мвд', 'выступать', 'гражданин', 'республика', 'поддержка', 'уровень', 'олимпийский', 'грузия', 'возможность', 'движение', 'пострадать', 'программа', 'мир']\n",
            "73 ['начать', 'ситуация', 'первое', 'составить', 'проводить', 'дорога', 'футболист', 'киргизия', 'край', 'закон', 'государство', 'помощь', 'самый', 'подписать', 'союз', 'правоохранительный', 'пост', 'округа', 'фестиваль', 'россиянин', 'отношение', 'представить', 'фонд', 'имя', 'главный', 'проект', 'помочь', 'июль', 'передавать', 'принять', 'подозревать', 'официальный', 'франс', 'май', 'рост', 'губернатор', 'выбор', 'экономический', 'предлагать', 'последний', 'белоруссия', 'завершить', 'обвинять', 'создать', 'открытый', 'открыть', 'мвд', 'руководство', 'польша', 'руководитель', 'мир', 'обнаружить', 'политика', 'переговоры', 'рассказать', 'высокий', 'игорь', 'евгений', 'группа', 'признать', 'милиция', 'ванкувер', 'выступать', 'ряд', 'банка', 'региональный', 'пока', 'задержать', 'клуб', 'семь', 'матч', 'чемпионат', 'являться', 'сила', 'часть', 'вопрос', 'время', 'появиться', 'мэр', 'финансовый', 'виктор', 'война', 'биржа', 'совет', 'пройти', 'комитет', 'китай', 'ссылка', 'сборный', 'мид', 'срок', 'сообщаться', 'находиться', 'победа', 'франция', 'остров', 'петербург', 'федеральный', 'пресс', 'дагестан']\n",
            "74 ['получить', 'назначить', 'говориться', 'утром', 'создание', 'южный', 'комплекс', 'мчс', 'несколько', 'грузия', 'выставка', 'возбудить', 'китай', 'война', 'находиться', 'принять', 'группа', 'тренер', 'взрыв', 'рейтер', 'погибший', 'посетить', 'также', 'турнир', 'олимпийский', 'министерство', 'миллиард', 'пока', 'департамент', 'местный', 'сборный', 'юг', 'заявление', 'банка', 'отношение', 'франция', 'начать', 'вопрос', 'борьба', 'территория', 'помочь', 'объявить', 'неизвестный', 'северный', 'изменение', 'милиция', 'выйти', 'продажа', 'смочь', 'британский', 'начальник', 'виктор', 'дагестан', 'следовать', 'закон', 'составлять', 'открыться', 'правоохранительный', 'подготовка', 'курс', 'экономика', 'период', 'европейский', 'первое', 'мид', 'россиянин', 'мероприятие', 'центральный', 'станция', 'ведомство', 'главный', 'создать', 'госдума', 'высокий', 'сайт', 'лидер', 'дата', 'вод', 'житель', 'пострадавший', 'безопасность', 'детский', 'иск', 'против', 'мир', 'задержать', 'подозревать', 'школа', 'рассказать', 'район', 'александр', 'министр', 'финал', 'фестиваль', 'это', 'крупный', 'мэр', 'свидетельствовать', 'снизиться', 'апрель']\n",
            "75 ['федерация', 'грузия', 'республика', 'суббота', 'крупный', 'новое', 'ряд', 'зал', 'специалист', 'центральный', 'право', 'сотрудник', 'общественный', 'транспорт', 'предприятие', 'большой', 'период', 'министерство', 'столица', 'игра', 'цена', 'проведение', 'руководство', 'аэропорт', 'финансовый', 'футбольный', 'клуб', 'пять', 'акция', 'отечественный', 'алексей', 'партия', 'сайт', 'турнир', 'поезд', 'газа', 'региональный', 'депутат', 'рабочий', 'четыре', 'копейка', 'результат', 'сообщаться', 'работа', 'сотрудничество', 'переговоры', 'дтп', 'официальный', 'машина', 'остров', 'известный', 'район', 'киргизия', 'найти', 'экономика', 'культура', 'поддержка', 'орган', 'виктор', 'футбол', 'провинция', 'тур', 'проходить', 'владимир', 'британский', 'визит', 'выступать', 'матч', 'сергей', 'министр', 'итог', 'лидер', 'шесть', 'первое', 'рейтер', 'погибнуть', 'оао', 'янукович', 'иск', 'составить', 'германия', 'дмитрий', 'европа', 'также', 'дата', 'китай', 'гаити', 'форум', 'произойти', 'ситуация', 'пострадавший', 'биржа', 'вырастить', 'ближний', 'сборный', 'группа', 'футболист', 'впервые', 'андрей', 'готовый']\n",
            "76 ['проблема', 'путин', 'спорт', 'круг', 'средство', 'признать', 'история', 'игорь', 'решение', 'машина', 'мчс', 'обвинять', 'источник', 'война', 'рассмотреть', 'следственный', 'высокий', 'транспорт', 'сообщение', 'государство', 'столичный', 'городской', 'тренер', 'новый', 'киргизия', 'итог', 'миллиард', 'последний', 'поддержка', 'открытый', 'дом', 'ветеран', 'сочи', 'крупный', 'проводить', 'биржа', 'финансовый', 'январь', 'местный', 'работать', 'зал', 'фестиваль', 'дмитрий', 'неизвестный', 'прибыть', 'система', 'начаться', 'начать', 'направить', 'предлагать', 'готовый', 'великий', 'число', 'подозревать', 'турция', 'остров', 'член', 'округа', 'месяц', 'выиграть', 'дата', 'работа', 'пострадавший', 'ряд', 'проведение', 'обсудить', 'район', 'режим', 'интервью', 'алексей', 'янукович', 'белоруссия', 'футбольный', 'конец', 'хороший', 'автомобиль', 'говориться', 'театр', 'задержать', 'намерить', 'гражданин', 'телефон', 'финал', 'проект', 'директор', 'союз', 'соглашение', 'обнаружить', 'составлять', 'время', 'вырастить', 'связь', 'сайт', 'газета', 'мэр', 'германия', 'рынок', 'детский', 'южный', 'культура']\n",
            "77 ['следовать', 'результат', 'орган', 'состояться', 'шахта', 'открытие', 'мочь', 'район', 'министерство', 'республика', 'погибший', 'круг', 'число', 'руководство', 'округа', 'экономика', 'рамка', 'россиянин', 'изменение', 'газета', 'иран', 'взрыв', 'генеральный', 'большой', 'найти', 'пожар', 'николай', 'казахстан', 'турнир', 'заседание', 'информация', 'германия', 'провинция', 'машина', 'предлагать', 'журналист', 'пострадавший', 'считать', 'вечером', 'визит', 'торг', 'миллиард', 'главный', 'партия', 'южный', 'председатель', 'игра', 'сми', 'фестиваль', 'призвать', 'андрей', 'рынок', 'культура', 'израиль', 'задержать', 'мера', 'закон', 'биржа', 'срок', 'ситуация', 'сила', 'следственный', 'прокуратура', 'суббота', 'комплекс', 'помочь', 'вопрос', 'гувд', 'чемпионат', 'смочь', 'последний', 'фон', 'направить', 'решение', 'соглашение', 'март', 'остаться', 'провести', 'грузия', 'обсудить', 'готовый', 'четыре', 'жертва', 'дмитрий', 'дата', 'европа', 'нарушение', 'государственный', 'польша', 'это', 'сообщаться', 'рост', 'доллар', 'возбудить', 'директор', 'сергей', 'цена', 'переговоры', 'автомобиль', 'развитие']\n",
            "78 ['найти', 'жертва', 'сборная', 'июль', 'специалист', 'команда', 'предлагать', 'дать', 'дорога', 'украинский', 'переговоры', 'чемпионат', 'образование', 'журналист', 'фонд', 'неделя', 'мера', 'сергей', 'нарушение', 'лига', 'прокуратура', 'матч', 'биржа', 'погибнуть', 'составлять', 'остаться', 'министр', 'центральный', 'департамент', 'евро', 'федерация', 'скончаться', 'дом', 'имя', 'турнир', 'столица', 'обнаружить', 'безопасность', 'уровень', 'французский', 'клуб', 'германия', 'выбор', 'произойти', 'заседание', 'представить', 'несколько', 'появиться', 'киргизия', 'говориться', 'теракт', 'казахстан', 'губернатор', 'утром', 'подписать', 'против', 'изменение', 'мероприятие', 'футбольный', 'продажа', 'школа', 'израиль', 'орган', 'первое', 'визит', 'составить', 'начальник', 'союз', 'пост', 'белоруссия', 'завершить', 'европейский', 'газета', 'владимир', 'янукович', 'гражданин', 'гувд', 'история', 'следственный', 'иностранный', 'здание', 'направить', 'телефон', 'банка', 'часть', 'пока', 'ночь', 'писать', 'курс', 'считать', 'также', 'оао', 'четыре', 'пострадать', 'греция', 'время', 'транспорт', 'подмосковье', 'получить', 'миллиард']\n",
            "79 ['сергей', 'образование', 'курс', 'матч', 'создать', 'алексей', 'находиться', 'рабочий', 'мировой', 'часть', 'гаити', 'телефон', 'рамка', 'сборная', 'петербург', 'театр', 'полиция', 'служба', 'торг', 'министерство', 'белоруссия', 'участник', 'пять', 'грузия', 'производство', 'взрыв', 'задержать', 'парламент', 'выиграть', 'военный', 'система', 'возможность', 'игорь', 'организация', 'остаться', 'помочь', 'подмосковье', 'имя', 'движение', 'округа', 'февраль', 'ведомство', 'теннисный', 'начаться', 'авария', 'право', 'группа', 'финал', 'решение', 'история', 'мвд', 'депутат', 'жертва', 'экономика', 'станция', 'причина', 'проходить', 'война', 'государственный', 'событие', 'дагестан', 'дом', 'милиционер', 'интервью', 'регион', 'открыться', 'комиссия', 'центральный', 'создание', 'против', 'банка', 'проводить', 'известный', 'федеральный', 'поезд', 'изменение', 'владимир', 'копейка', 'житель', 'чемпионат', 'число', 'рассмотреть', 'поддержка', 'милиция', 'итог', 'мочь', 'победа', 'появиться', 'соглашение', 'сборный', 'погибнуть', 'руководитель', 'проведение', 'журналист', 'работать', 'михаил', 'газета', 'доллар', 'финансовый', 'работа']\n",
            "80 ['объявить', 'против', 'задержать', 'признать', 'союз', 'служба', 'ситуация', 'центральный', 'соглашение', 'завершить', 'район', 'ассошиэйтед', 'округа', 'евро', 'курс', 'ход', 'война', 'обвинять', 'здание', 'пострадать', 'апрель', 'греция', 'госдума', 'матч', 'призвать', 'пострадавший', 'банка', 'белоруссия', 'дата', 'столица', 'жертва', 'экономический', 'пройти', 'защита', 'мероприятие', 'планировать', 'тренер', 'республика', 'николай', 'ночь', 'министр', 'мочь', 'месяц', 'работа', 'отношение', 'грузия', 'команда', 'южный', 'начальник', 'областной', 'крупный', 'европейский', 'авария', 'известный', 'судебный', 'ванкувер', 'руководство', 'производство', 'часть', 'интервью', 'французский', 'турция', 'найти', 'дорога', 'представить', 'директор', 'украинский', 'закон', 'утром', 'лидер', 'губернатор', 'автомобиль', 'семь', 'мэр', 'общественный', 'политика', 'суббота', 'провести', 'последний', 'круг', 'спортивный', 'писать', 'выставка', 'снизиться', 'август', 'история', 'испания', 'это', 'рабочий', 'опубликовать', 'чемпионат', 'составлять', 'сборная', 'шесть', 'помощь', 'житель', 'федерация', 'также', 'выиграть', 'депутат']\n",
            "81 ['европа', 'состав', 'помощь', 'израиль', 'футбол', 'отечественный', 'машина', 'мероприятие', 'рейтер', 'подмосковье', 'парламент', 'чемпионат', 'решение', 'доллар', 'история', 'июнь', 'развитие', 'событие', 'курс', 'главный', 'торг', 'северный', 'рынок', 'центральный', 'общественный', 'команда', 'сергей', 'интервью', 'подписать', 'евгений', 'кубок', 'театр', 'четыре', 'посвятить', 'футбольный', 'находиться', 'копейка', 'городской', 'ветеран', 'франс', 'участник', 'владимир', 'мэр', 'результат', 'гражданин', 'новое', 'месяц', 'крупный', 'признать', 'польша', 'опубликовать', 'столица', 'федерация', 'государственный', 'госдума', 'планировать', 'юг', 'германия', 'милиционер', 'ряд', 'следовать', 'тур', 'рамка', 'министр', 'возбудить', 'свидетельствовать', 'транспорт', 'франция', 'намерить', 'миллиард', 'лидер', 'появиться', 'комиссия', 'вечером', 'открытие', 'иностранный', 'виктор', 'комплекс', 'рабочий', 'связь', 'шахта', 'украинский', 'сборный', 'департамент', 'мировой', 'генеральный', 'составлять', 'ближний', 'греция', 'объявить', 'источник', 'высокий', 'хороший', 'белоруссия', 'мид', 'фестиваль', 'газа', 'афганистан', 'время', 'государство']\n",
            "82 ['теракт', 'сотрудничество', 'телефон', 'остаться', 'составить', 'россиянин', 'строительство', 'пожар', 'ванкувер', 'работать', 'изменение', 'планировать', 'больница', 'круг', 'шахта', 'милиционер', 'фонд', 'переговоры', 'заместитель', 'мвд', 'смочь', 'авария', 'пять', 'белоруссия', 'военный', 'средство', 'направить', 'продажа', 'судебный', 'чемпионат', 'производство', 'сочи', 'нефть', 'также', 'транспорт', 'ряд', 'подмосковье', 'игра', 'первое', 'состояться', 'совет', 'председатель', 'ссылка', 'журналист', 'республика', 'специалист', 'писать', 'округа', 'руководство', 'иностранный', 'около', 'зал', 'признать', 'администрация', 'нарушение', 'территория', 'назначить', 'клуб', 'открыть', 'игорь', 'новое', 'рынок', 'комплекс', 'движение', 'принять', 'фестиваль', 'история', 'сайт', 'программа', 'подозревать', 'лига', 'регион', 'отечественный', 'ядерный', 'госдума', 'украинский', 'казахстан', 'отдел', 'ведомство', 'площадь', 'создать', 'финансовый', 'национальный', 'дорога', 'прокуратура', 'иск', 'дтп', 'юг', 'июнь', 'погибший', 'погибнуть', 'семь', 'рабочий', 'дом', 'руководитель', 'генеральный', 'выставка', 'начальник', 'матч', 'американский']\n",
            "83 ['победа', 'ведомство', 'дагестан', 'движение', 'биржа', 'греция', 'орган', 'северный', 'вырастить', 'результат', 'нарушение', 'дата', 'пока', 'начать', 'место', 'британский', 'мероприятие', 'команда', 'жизнь', 'информация', 'край', 'отношение', 'остров', 'круг', 'взрыв', 'крупный', 'следовать', 'алексей', 'зал', 'департамент', 'южный', 'ветеран', 'период', 'округа', 'украинский', 'принять', 'мвд', 'впервые', 'миллиард', 'создание', 'милиция', 'строительство', 'итог', 'закон', 'работать', 'состояться', 'дать', 'получить', 'курс', 'суббота', 'выбор', 'председатель', 'гражданин', 'отечественный', 'виктор', 'национальный', 'сборная', 'тур', 'государственный', 'аэропорт', 'открытие', 'помочь', 'администрация', 'землетрясение', 'фон', 'экономический', 'александр', 'первое', 'обсудить', 'подмосковье', 'проект', 'сообщаться', 'культура', 'июль', 'писать', 'мера', 'признать', 'комплекс', 'федерация', 'площадь', 'завершить', 'городской', 'телеканал', 'группа', 'уголовный', 'ход', 'оон', 'предприятие', 'владимир', 'переговоры', 'проходить', 'организация', 'игорь', 'назвать', 'свидетельствовать', 'дмитрий', 'внутренний', 'копейка', 'олимпийский', 'скп']\n",
            "84 ['общественный', 'грузия', 'партия', 'выступать', 'тренер', 'говориться', 'режим', 'проблема', 'уровень', 'школа', 'скончаться', 'индекс', 'рост', 'вырастить', 'юг', 'лига', 'найти', 'орган', 'миллиард', 'смочь', 'договор', 'место', 'пока', 'район', 'испания', 'тур', 'официальный', 'транспорт', 'следовать', 'театр', 'бывший', 'федеральный', 'переговоры', 'военный', 'франция', 'объявить', 'пять', 'средство', 'регион', 'пост', 'полиция', 'государственный', 'предприятие', 'участие', 'ближний', 'телефон', 'территория', 'информация', 'площадь', 'ведомство', 'футболист', 'готовый', 'первое', 'рейтер', 'футбол', 'член', 'мера', 'свидетельствовать', 'внутренний', 'копейка', 'неизвестный', 'открытие', 'городской', 'июль', 'экономика', 'заместитель', 'генеральный', 'афганистан', 'сми', 'великий', 'август', 'май', 'работать', 'результат', 'визит', 'журналист', 'мир', 'рамка', 'состав', 'погибнуть', 'форум', 'директор', 'иностранный', 'война', 'телеканал', 'николай', 'работа', 'депутат', 'германия', 'четыре', 'лидер', 'февраль', 'пожар', 'футбольный', 'единый', 'скп', 'начальник', 'дать', 'случай', 'последний']\n",
            "85 ['новое', 'британский', 'матч', 'первое', 'ночь', 'теннисный', 'неизвестный', 'открытие', 'городской', 'факт', 'андрей', 'правоохранительный', 'время', 'казахстан', 'заместитель', 'землетрясение', 'служба', 'журналист', 'убийство', 'турция', 'передавать', 'случай', 'завершить', 'газета', 'предприятие', 'открыть', 'готовый', 'край', 'мировой', 'администрация', 'метро', 'белоруссия', 'фестиваль', 'прокуратура', 'сотрудник', 'франс', 'милиция', 'великий', 'израиль', 'высокий', 'проходить', 'закон', 'единый', 'интервью', 'состояться', 'юг', 'проводить', 'внутренний', 'евгений', 'воскресение', 'проверка', 'погибнуть', 'южный', 'утром', 'евро', 'столичный', 'хороший', 'часть', 'серия', 'являться', 'назвать', 'рассмотреть', 'олимпийский', 'участие', 'ветеран', 'июнь', 'весь', 'нарушение', 'создание', 'пресс', 'снизиться', 'директор', 'главный', 'заявление', 'возможность', 'круг', 'война', 'результат', 'находиться', 'ванкувер', 'игорь', 'цска', 'рост', 'четыре', 'дмитрий', 'игра', 'федеральный', 'поддержка', 'специалист', 'опубликовать', 'отношение', 'итог', 'переговоры', 'июль', 'спорт', 'округа', 'нефть', 'индекс', 'китай', 'работать']\n",
            "86 ['сотрудничество', 'дата', 'средство', 'задержать', 'шесть', 'сборная', 'телеканал', 'развитие', 'должный', 'рынок', 'находиться', 'группа', 'подмосковье', 'клуб', 'государственный', 'россиянин', 'мвд', 'фестиваль', 'официальный', 'фон', 'польша', 'газета', 'гражданин', 'региональный', 'турнир', 'игорь', 'считать', 'пройти', 'пожар', 'большой', 'площадь', 'округа', 'мчс', 'интервью', 'иран', 'убийство', 'участие', 'направить', 'также', 'продажа', 'комиссия', 'дать', 'дорога', 'состояться', 'франс', 'газа', 'местный', 'нарушение', 'областной', 'министр', 'жертва', 'журналист', 'посвятить', 'причина', 'право', 'скп', 'принять', 'китай', 'сборный', 'белоруссия', 'новый', 'источник', 'круг', 'соглашение', 'парламент', 'погибший', 'последний', 'лига', 'следовать', 'дом', 'обнаружить', 'ближний', 'милиционер', 'число', 'матч', 'гаити', 'гувд', 'миллиард', 'теракт', 'история', 'школа', 'договор', 'итог', 'доллар', 'иск', 'полиция', 'михаил', 'назвать', 'вопрос', 'янукович', 'передавать', 'военный', 'жизнь', 'остаться', 'пять', 'рейтер', 'взрыв', 'проходить', 'украинский', 'мочь']\n",
            "87 ['округа', 'команда', 'сергей', 'турнир', 'мочь', 'мир', 'форум', 'здание', 'жертва', 'война', 'казахстан', 'областной', 'государство', 'соглашение', 'украинский', 'территория', 'пять', 'рынок', 'мэр', 'польша', 'гувд', 'проект', 'газета', 'март', 'призвать', 'руководство', 'государственный', 'место', 'итог', 'дорога', 'край', 'скончаться', 'неизвестный', 'направить', 'изменение', 'впервые', 'свидетельствовать', 'пожар', 'парламент', 'союз', 'поезд', 'ветеран', 'нефть', 'русский', 'известный', 'руководитель', 'встреча', 'белоруссия', 'новое', 'германия', 'находиться', 'житель', 'дата', 'скп', 'телефон', 'акция', 'путин', 'транспорт', 'сообщаться', 'национальный', 'возбудить', 'начать', 'федеральный', 'проверка', 'владимир', 'клуб', 'информация', 'круг', 'газа', 'продажа', 'петербург', 'подмосковье', 'биржа', 'семь', 'опубликовать', 'против', 'посетить', 'июль', 'выбор', 'телеканал', 'военный', 'официальный', 'рост', 'намерить', 'рассмотреть', 'футбольный', 'комиссия', 'французский', 'пострадать', 'результат', 'должный', 'испания', 'региональный', 'возможность', 'завершить', 'подозревать', 'экономический', 'сочи', 'связь', 'период']\n",
            "88 ['часть', 'евгений', 'уголовный', 'министерство', 'фонд', 'турнир', 'проходить', 'кубок', 'февраль', 'признать', 'житель', 'это', 'ближний', 'право', 'место', 'русский', 'столица', 'чемпионат', 'администрация', 'иран', 'метро', 'теннисный', 'рассказать', 'янукович', 'рейтер', 'рынок', 'четыре', 'алексей', 'корреспондент', 'несколько', 'землетрясение', 'копейка', 'являться', 'выйти', 'ванкувер', 'участник', 'время', 'комплекс', 'отечественный', 'зал', 'новое', 'говориться', 'сборный', 'комитет', 'свидетельствовать', 'составить', 'предлагать', 'журналист', 'евро', 'утром', 'период', 'отдел', 'прокуратура', 'пока', 'футбол', 'школа', 'визит', 'интервью', 'завершить', 'казахстан', 'киргизия', 'милиция', 'пять', 'правоохранительный', 'работа', 'проблема', 'назначить', 'составлять', 'теракт', 'информация', 'единый', 'крупный', 'принять', 'александр', 'воскресение', 'фестиваль', 'биржа', 'чемпион', 'выставка', 'остаться', 'против', 'юрий', 'обвинять', 'станция', 'призвать', 'начальник', 'итог', 'нефть', 'объявить', 'матч', 'государственный', 'представить', 'проверка', 'найти', 'экономика', 'строительство', 'местный', 'хороший', 'убийство', 'дата']\n",
            "89 ['июль', 'следовать', 'район', 'период', 'интервью', 'произойти', 'помощь', 'выиграть', 'финансовый', 'специалист', 'помочь', 'вечером', 'владимир', 'писать', 'опубликовать', 'борьба', 'причина', 'возможность', 'греция', 'главный', 'победа', 'организация', 'около', 'сборная', 'группа', 'остаться', 'олимпийский', 'копейка', 'рейтер', 'пожар', 'партия', 'матч', 'министерство', 'федерация', 'франция', 'поезд', 'представить', 'фестиваль', 'теннисный', 'сотрудник', 'израиль', 'авария', 'право', 'высокий', 'руководство', 'провести', 'являться', 'скончаться', 'пять', 'общественный', 'афганистан', 'шесть', 'строительство', 'торг', 'дмитрий', 'белоруссия', 'украинский', 'шахта', 'вод', 'имя', 'планировать', 'подписать', 'лига', 'январь', 'александр', 'администрация', 'телеканал', 'отдел', 'служба', 'мчс', 'оао', 'февраль', 'событие', 'петербург', 'находиться', 'результат', 'проблема', 'создать', 'сообщение', 'ближний', 'журналист', 'корреспондент', 'сообщаться', 'теракт', 'программа', 'сборный', 'место', 'внутренний', 'орган', 'факт', 'культура', 'обсудить', 'единый', 'казахстан', 'заседание', 'комплекс', 'открытие', 'турнир', 'решение', 'остров']\n",
            "90 ['янукович', 'июнь', 'уровень', 'областной', 'шахта', 'семь', 'газа', 'гаити', 'назвать', 'отдел', 'безопасность', 'петербург', 'жизнь', 'регион', 'серия', 'образование', 'рамка', 'новое', 'скп', 'олимпийский', 'россиянин', 'оон', 'чемпионат', 'пять', 'борьба', 'итог', 'мид', 'движение', 'это', 'французский', 'детский', 'юрий', 'прибыть', 'участник', 'дагестан', 'получить', 'банка', 'обвинять', 'здание', 'столица', 'ядерный', 'республика', 'свидетельствовать', 'германия', 'имя', 'официальный', 'часть', 'ситуация', 'открыться', 'футбольный', 'специалист', 'случай', 'акция', 'франс', 'соглашение', 'комитет', 'остаться', 'государственный', 'министр', 'госдума', 'заявление', 'милиционер', 'ход', 'обнаружить', 'казахстан', 'фонд', 'землетрясение', 'турция', 'обсудить', 'проходить', 'являться', 'зал', 'индекс', 'закон', 'школа', 'призвать', 'мера', 'начальник', 'подписать', 'право', 'партия', 'губернатор', 'завершить', 'парламент', 'прокуратура', 'евро', 'неделя', 'против', 'ночь', 'заместитель', 'футбол', 'режим', 'копейка', 'округа', 'встреча', 'сообщаться', 'посвятить', 'пост', 'возбудить', 'национальный']\n",
            "91 ['уровень', 'торг', 'дорога', 'иран', 'серия', 'журналист', 'форум', 'находиться', 'петербург', 'региональный', 'выступать', 'помощь', 'биржа', 'финал', 'участник', 'государственный', 'уголовный', 'специалист', 'весь', 'отечественный', 'открыть', 'авария', 'британский', 'время', 'считать', 'оон', 'мировой', 'являться', 'начаться', 'экономический', 'турнир', 'проводить', 'подписать', 'финансовый', 'мвд', 'экономика', 'федеральный', 'нарушение', 'ситуация', 'футбол', 'алексей', 'сми', 'михаил', 'событие', 'неизвестный', 'изменение', 'руководитель', 'составлять', 'национальный', 'заместитель', 'организация', 'группа', 'футбольный', 'клуб', 'политика', 'назвать', 'сборный', 'мочь', 'итог', 'лига', 'информация', 'сотрудник', 'направить', 'место', 'следственный', 'отношение', 'фонд', 'общественный', 'состояться', 'внутренний', 'янукович', 'ряд', 'прибыть', 'режим', 'областной', 'скп', 'дать', 'остаться', 'американский', 'январь', 'заседание', 'свидетельствовать', 'аэропорт', 'призвать', 'сочи', 'дом', 'газета', 'возможность', 'помочь', 'нефть', 'вод', 'заявление', 'против', 'китай', 'срок', 'крупный', 'остров', 'миллиард', 'готовый', 'снизиться']\n",
            "92 ['конец', 'следственный', 'сергей', 'британский', 'направить', 'намерить', 'биржа', 'пост', 'большой', 'подмосковье', 'ведомство', 'выставка', 'период', 'регион', 'спорт', 'театр', 'воскресение', 'клуб', 'республика', 'задержать', 'губернатор', 'грузия', 'фонд', 'союз', 'создать', 'создание', 'нефть', 'получить', 'партия', 'центральный', 'круг', 'рассказать', 'лидер', 'скп', 'россиянин', 'милиция', 'министерство', 'доллар', 'жизнь', 'право', 'строительство', 'акция', 'футболист', 'развитие', 'юг', 'игра', 'поддержка', 'обвинять', 'казахстан', 'экономический', 'система', 'вырастить', 'дата', 'индекс', 'городской', 'местный', 'корреспондент', 'региональный', 'дорога', 'утром', 'южный', 'кубок', 'иностранный', 'телефон', 'это', 'писать', 'связь', 'директор', 'территория', 'афганистан', 'самый', 'проведение', 'экономика', 'ассошиэйтед', 'история', 'газета', 'состав', 'александр', 'предлагать', 'завершить', 'отношение', 'время', 'мчс', 'национальный', 'китай', 'гувд', 'рынок', 'средство', 'уровень', 'вод', 'чемпион', 'гаити', 'проверка', 'бывший', 'комплекс', 'пострадавший', 'открытие', 'пресс', 'принять', 'депутат']\n",
            "93 ['израиль', 'июнь', 'ассошиэйтед', 'открыться', 'поддержка', 'заявление', 'принять', 'смочь', 'назвать', 'ряд', 'несколько', 'клуб', 'департамент', 'источник', 'британский', 'алексей', 'судебный', 'госдума', 'новый', 'журналист', 'подготовка', 'общественный', 'нефть', 'дмитрий', 'заседание', 'проект', 'мочь', 'гувд', 'детский', 'финал', 'больница', 'председатель', 'решение', 'мера', 'образование', 'сми', 'произойти', 'жертва', 'теракт', 'гражданин', 'хороший', 'киргизия', 'шесть', 'европейский', 'внутренний', 'крупный', 'землетрясение', 'найти', 'турнир', 'считать', 'прокуратура', 'факт', 'комплекс', 'цена', 'местный', 'появиться', 'лига', 'регион', 'чемпион', 'неизвестный', 'начаться', 'подозревать', 'телефон', 'ближний', 'экономический', 'тур', 'сборный', 'круг', 'федерация', 'андрей', 'партия', 'предприятие', 'причина', 'задержать', 'сайт', 'воскресение', 'футболист', 'состав', 'обсудить', 'французский', 'губернатор', 'строительство', 'вечером', 'работать', 'погибший', 'футбольный', 'грузия', 'бывший', 'копейка', 'убийство', 'сообщение', 'начать', 'фон', 'группа', 'дать', 'создать', 'участник', 'новое', 'закон', 'республика']\n",
            "94 ['выступать', 'работа', 'должный', 'россиянин', 'самый', 'выиграть', 'иран', 'факт', 'доллар', 'отечественный', 'ситуация', 'производство', 'рост', 'франс', 'вод', 'тур', 'открыть', 'совет', 'свидетельствовать', 'станция', 'сила', 'имя', 'зал', 'тренер', 'фестиваль', 'индекс', 'театр', 'помочь', 'ночь', 'нарушение', 'проходить', 'спортивный', 'член', 'проведение', 'председатель', 'большой', 'рассмотреть', 'посвятить', 'министерство', 'партия', 'политика', 'спорт', 'гаити', 'регион', 'заседание', 'дата', 'средство', 'телеканал', 'июль', 'метро', 'событие', 'выставка', 'руководство', 'региональный', 'комиссия', 'теракт', 'состав', 'сотрудник', 'смочь', 'движение', 'отдел', 'жизнь', 'подписать', 'газета', 'обнаружить', 'столица', 'корреспондент', 'фонд', 'группа', 'число', 'составлять', 'южный', 'серия', 'автомобиль', 'несколько', 'победа', 'помощь', 'уголовный', 'подготовка', 'транспорт', 'назначить', 'юрий', 'ссылка', 'сотрудничество', 'обвинять', 'закон', 'олимпийский', 'авария', 'иск', 'уровень', 'польша', 'пять', 'шесть', 'найти', 'впервые', 'часть', 'против', 'весь', 'администрация', 'израиль']\n",
            "95 ['национальный', 'открыться', 'путин', 'прибыть', 'мчс', 'интервью', 'вопрос', 'период', 'военный', 'копейка', 'северный', 'причина', 'транспорт', 'прокуратура', 'турция', 'сайт', 'посвятить', 'призвать', 'мэр', 'впервые', 'германия', 'создание', 'должный', 'теннисный', 'экономика', 'сочи', 'месяц', 'ночь', 'последний', 'безопасность', 'создать', 'сообщение', 'судебный', 'составлять', 'следовать', 'парламент', 'май', 'греция', 'строительство', 'автомобиль', 'погибнуть', 'победа', 'торг', 'игра', 'главный', 'комиссия', 'руководство', 'снизиться', 'орган', 'милиция', 'рост', 'помочь', 'число', 'итог', 'высокий', 'сергей', 'оао', 'открыть', 'мероприятие', 'форум', 'миллиард', 'южный', 'полиция', 'алексей', 'изменение', 'цска', 'получить', 'станция', 'дать', 'сотрудничество', 'развитие', 'оон', 'детский', 'жизнь', 'передавать', 'взрыв', 'юрий', 'результат', 'петербург', 'дом', 'рамка', 'крупный', 'вечером', 'участник', 'намерить', 'комплекс', 'февраль', 'опубликовать', 'игорь', 'поезд', 'партия', 'время', 'футбол', 'сообщаться', 'цена', 'остаться', 'корреспондент', 'турнир', 'экономический', 'русский']\n",
            "96 ['дорога', 'клуб', 'впервые', 'фон', 'июль', 'жертва', 'пока', 'принять', 'скп', 'юг', 'начать', 'пострадать', 'намерить', 'национальный', 'телефон', 'директор', 'милиция', 'состояться', 'лига', 'матч', 'банка', 'украинский', 'открыть', 'находиться', 'изменение', 'жизнь', 'начаться', 'департамент', 'иностранный', 'милиционер', 'около', 'федеральный', 'администрация', 'строительство', 'кубок', 'бывший', 'ведомство', 'экономика', 'отечественный', 'нефть', 'развитие', 'член', 'госдума', 'сборная', 'период', 'испания', 'чемпион', 'германия', 'сообщаться', 'прибыть', 'ссылка', 'проходить', 'четыре', 'конец', 'турнир', 'вопрос', 'это', 'уголовный', 'депутат', 'пост', 'киргизия', 'местный', 'французский', 'убийство', 'полиция', 'военный', 'уровень', 'экономический', 'цена', 'теракт', 'погибший', 'оао', 'проверка', 'выбор', 'копейка', 'август', 'финал', 'против', 'мвд', 'команда', 'закон', 'александр', 'завершить', 'судебный', 'станция', 'ветеран', 'производство', 'янукович', 'комитет', 'суббота', 'провинция', 'утром', 'участник', 'безопасность', 'юрий', 'франс', 'получить', 'доллар', 'биржа', 'встреча']\n",
            "97 ['милиционер', 'детский', 'британский', 'нарушение', 'жизнь', 'крупный', 'отечественный', 'пожар', 'округа', 'назначить', 'проходить', 'вод', 'комиссия', 'открытый', 'отношение', 'сотрудник', 'футболист', 'финансовый', 'отдел', 'около', 'футбол', 'регион', 'оон', 'следственный', 'пост', 'ночь', 'изменение', 'телеканал', 'март', 'часть', 'чемпионат', 'администрация', 'политика', 'открыться', 'обнаружить', 'заседание', 'площадь', 'тур', 'афганистан', 'иск', 'школа', 'число', 'подмосковье', 'возбудить', 'экономика', 'дтп', 'союз', 'дорога', 'готовый', 'край', 'русский', 'провести', 'утром', 'турция', 'новое', 'закон', 'андрей', 'серия', 'рост', 'поезд', 'подписать', 'движение', 'ведомство', 'дать', 'станция', 'мероприятие', 'заместитель', 'рейтер', 'несколько', 'визит', 'метро', 'возможность', 'ближний', 'защита', 'аэропорт', 'ассошиэйтед', 'апрель', 'областной', 'николай', 'военный', 'северный', 'воскресение', 'сотрудничество', 'дмитрий', 'сборная', 'журналист', 'больница', 'выйти', 'выбор', 'проводить', 'александр', 'уровень', 'культура', 'мчс', 'посвятить', 'виктор', 'взрыв', 'конец', 'август', 'получить']\n",
            "98 ['передавать', 'ядерный', 'завершить', 'андрей', 'май', 'мировой', 'прибыть', 'место', 'военный', 'нарушение', 'мвд', 'здание', 'хороший', 'гаити', 'производство', 'русский', 'защита', 'юрий', 'германия', 'июнь', 'евгений', 'вечером', 'фон', 'официальный', 'турция', 'составлять', 'общественный', 'больница', 'следовать', 'решение', 'рассмотреть', 'евро', 'система', 'региональный', 'число', 'французский', 'футбольный', 'петербург', 'высокий', 'январь', 'житель', 'вод', 'взрыв', 'турнир', 'семья', 'политика', 'снизиться', 'ближний', 'транспорт', 'директор', 'участие', 'воскресение', 'обсудить', 'проводить', 'великий', 'пострадавший', 'школа', 'франция', 'виктор', 'выставка', 'судебный', 'экономика', 'открыться', 'партия', 'провести', 'мид', 'совет', 'европа', 'известный', 'поезд', 'служба', 'франс', 'администрация', 'следственный', 'работать', 'организация', 'американский', 'начать', 'август', 'факт', 'госдума', 'проведение', 'говориться', 'станция', 'городской', 'парламент', 'национальный', 'первое', 'безопасность', 'закон', 'ассошиэйтед', 'аэропорт', 'казахстан', 'пожар', 'ночь', 'случай', 'телефон', 'вопрос', 'группа', 'регион']\n",
            "99 ['единый', 'уровень', 'январь', 'новое', 'областной', 'янукович', 'экономика', 'серия', 'французский', 'команда', 'спорт', 'визит', 'шахта', 'автомобиль', 'дать', 'олимпийский', 'местный', 'культура', 'телеканал', 'представить', 'апрель', 'война', 'министр', 'цена', 'гражданин', 'комплекс', 'судебный', 'рейтер', 'южный', 'польша', 'метро', 'готовый', 'ближний', 'жертва', 'проходить', 'безопасность', 'афганистан', 'событие', 'военный', 'гаити', 'случай', 'создание', 'проблема', 'закон', 'начальник', 'мвд', 'милиционер', 'сайт', 'милиция', 'место', 'край', 'партия', 'первое', 'пять', 'заседание', 'интервью', 'находиться', 'юрий', 'госдума', 'пострадавший', 'июнь', 'подготовка', 'турция', 'зал', 'состояться', 'украинский', 'снизиться', 'европа', 'британский', 'отечественный', 'теннисный', 'финал', 'это', 'утром', 'часть', 'обсудить', 'пострадать', 'планировать', 'директор', 'петербург', 'последний', 'сочи', 'подозревать', 'прокуратура', 'дом', 'уголовный', 'найти', 'ночь', 'тренер', 'строительство', 'столичный', 'официальный', 'режим', 'член', 'нефть', 'помощь', 'хороший', 'посетить', 'решение', 'срок']\n"
          ],
          "name": "stdout"
        }
      ]
    },
    {
      "cell_type": "markdown",
      "metadata": {
        "id": "pjiZdqPkx3jZ",
        "colab_type": "text"
      },
      "source": [
        "# Generator inference"
      ]
    },
    {
      "cell_type": "code",
      "metadata": {
        "id": "VJivaP2o8357",
        "colab_type": "code",
        "colab": {}
      },
      "source": [
        "def forced_inference(model, src_ln, src, tgt, src_key_padding_mask, tgt_key_padding_mask):\n",
        "  # TODO: add accuracy / recall \n",
        "  memory_key_padding_mask = src_key_padding_mask.clone()  \n",
        "  tgt_inp, tgt_out = tgt[:, :-1], tgt[:, 1:]\n",
        "  tgt_key_padding_mask_inp = tgt_key_padding_mask[:, :-1]\n",
        "  tgt_mask = gen_nopeek_mask(tgt_inp.shape[1]).to(device) # also to device\n",
        "  # print(src.shape)\n",
        "  # print(tgt_inp.shape)\n",
        "  # print(tgt_out.shape)\n",
        "  # print(tgt_key_padding_mask_inp.shape)\n",
        "  # print(tgt_mask.shape)\n",
        "  # print()\n",
        "  output = model.transformer_forward(src_ln, src, tgt_inp, src_key_padding_mask, tgt_key_padding_mask_inp, memory_key_padding_mask, tgt_mask)\n",
        "  tokens = torch.argmax(output[0], axis=1)\n",
        "  return tokens\n",
        "\n",
        "def greedy_inference(model, src_ln, src, tgt, src_key_padding_mask, tgt_key_padding_mask, lang):\n",
        "  memory_key_padding_mask = src_key_padding_mask.clone() \n",
        "  tgt_inp, tgt_out = tgt[:, :-1].clone().detach(), tgt[:, 1:].clone().detach()\n",
        "  tgt_key_padding_mask_inp = tgt_key_padding_mask[:, :-1]\n",
        "  tgt_mask = gen_nopeek_mask(tgt_inp.shape[1]).to(device) # also to device\n",
        "\n",
        "  tokens = [tgt_inp[0,0].item()]\n",
        "  tgt_inp_ = tgt_inp[:]\n",
        "  \n",
        "  for tgt_i in range(tgt.shape[1]-1):\n",
        "    tt = torch.Tensor(tokens)\n",
        "    tgt_inp_[:, :tt.shape[0]] = tt[:]\n",
        "    output = model.transformer_forward(src_ln, src, tgt_inp_, src_key_padding_mask, tgt_key_padding_mask_inp, memory_key_padding_mask, tgt_mask)\n",
        "    next_token = torch.argmax(output[0][tt.shape[0]+1]).item()\n",
        "    tokens.append(next_token)\n",
        "    if next_token == lang.word2index['EOS']:\n",
        "      break\n",
        "  return torch.Tensor(tokens[1:])\n",
        "\n",
        "def inference(model, src_ln, src, tgt, src_key_padding_mask, tgt_key_padding_mask, lang, mode):\n",
        "  \"\"\"\n",
        "  src: Tensor [1, S]\n",
        "  tgt: Tensor [1, T]\n",
        "  modes: forced / greedy [/ beam search]\n",
        "  \"\"\"\n",
        "  model.eval()\n",
        "\n",
        "  if mode == \"forced\":\n",
        "    tokens = forced_inference(model, src_ln, src, tgt, src_key_padding_mask, tgt_key_padding_mask)\n",
        "    \n",
        "  elif mode == \"greedy\":\n",
        "    tokens = greedy_inference(model, src_ln, src, tgt, src_key_padding_mask, tgt_key_padding_mask, lang)\n",
        "\n",
        "  print(f\"Mode: {mode}\")\n",
        "  print(f'Source: {lang.tensor2text(src[0])}')\n",
        "  print(f'Target: {lang.tensor2text(tgt[0])}')\n",
        "  print(f'Generated: {lang.tensor2text(tokens)}')"
      ],
      "execution_count": 0,
      "outputs": []
    },
    {
      "cell_type": "code",
      "metadata": {
        "id": "cbCXQOP0oyh7",
        "colab_type": "code",
        "colab": {}
      },
      "source": [
        "train_T_dataset = HeadlinesDataset(pairs[:9000], model.lang, batch_size=model.batch_size)\n",
        "test_T_dataset  = HeadlinesDataset(pairs[9000:10000], model.lang, batch_size=model.batch_size)\n",
        "train_T_loader = DataLoader(train_T_dataset, batch_size=1, shuffle=True, num_workers=0, pin_memory=True)\n",
        "test_T_loader = DataLoader(test_T_dataset, batch_size=1, shuffle=True, num_workers=0, pin_memory=True)"
      ],
      "execution_count": 0,
      "outputs": []
    },
    {
      "cell_type": "code",
      "metadata": {
        "id": "tAwc2C0qVeAK",
        "colab_type": "code",
        "outputId": "447138b9-1519-4eb2-e4ba-17cef064c3c0",
        "colab": {
          "base_uri": "https://localhost:8080/",
          "height": 182
        }
      },
      "source": [
        "srcs_lns, src, tgt, src_key_padding_mask, tgt_key_padding_mask =  next(iter(train_T_loader))\n",
        "text_i = 0\n",
        "src_ln = srcs_lns[text_i:text_i+1]\n",
        "src, src_key_padding_mask = src[0][text_i:text_i+1].to(device), src_key_padding_mask[0][text_i:text_i+1].to(device) # to device\n",
        "tgt, tgt_key_padding_mask = tgt[0][text_i:text_i+1].to(device), tgt_key_padding_mask[0][text_i:text_i+1].to(device) # to device\n",
        "inference(model, src_ln, src, tgt, src_key_padding_mask, tgt_key_padding_mask, lang, 'forced')\n",
        "inference(model, src_ln, src, tgt, src_key_padding_mask, tgt_key_padding_mask, lang, 'greedy')"
      ],
      "execution_count": 68,
      "outputs": [
        {
          "output_type": "stream",
          "text": [
            "Mode: forced\n",
            "Source: ['отец', 'датский', 'теннисистка', 'каролин', 'возняцк', 'возняцк', 'намеренный', 'подать', 'суд', 'автор', 'биографический', 'книга', 'дочь', 'сообщать', 'PAD', 'PAD', 'PAD', 'PAD', 'PAD', 'PAD', 'PAD', 'PAD', 'PAD', 'PAD', 'PAD', 'PAD', 'PAD', 'PAD', 'PAD', 'PAD', 'PAD', 'PAD', 'PAD', 'PAD', 'PAD', 'PAD', 'PAD', 'PAD']\n",
            "Target: ['SOS', 'отец', 'теннисистка', 'возняцк', 'подать', 'суд', 'автор', 'биография', 'дочь', 'EOS', 'PAD']\n",
            "Generated: ['суд', 'суд', 'суд', 'суд', 'суд', 'EOS', 'EOS', 'EOS', 'EOS', 'EOS']\n",
            "Mode: greedy\n",
            "Source: ['отец', 'датский', 'теннисистка', 'каролин', 'возняцк', 'возняцк', 'намеренный', 'подать', 'суд', 'автор', 'биографический', 'книга', 'дочь', 'сообщать', 'PAD', 'PAD', 'PAD', 'PAD', 'PAD', 'PAD', 'PAD', 'PAD', 'PAD', 'PAD', 'PAD', 'PAD', 'PAD', 'PAD', 'PAD', 'PAD', 'PAD', 'PAD', 'PAD', 'PAD', 'PAD', 'PAD', 'PAD', 'PAD']\n",
            "Target: ['SOS', 'отец', 'теннисистка', 'возняцк', 'подать', 'суд', 'автор', 'биография', 'дочь', 'EOS', 'PAD']\n",
            "Generated: ['суд', 'подать', 'подать', 'рассмотреть', 'EOS']\n"
          ],
          "name": "stdout"
        }
      ]
    },
    {
      "cell_type": "code",
      "metadata": {
        "id": "3JaS9PPVKg6I",
        "colab_type": "code",
        "outputId": "fc161764-22e1-4168-feaa-8e24cbfb4f73",
        "colab": {
          "base_uri": "https://localhost:8080/",
          "height": 182
        }
      },
      "source": [
        "srcs_lns, src, tgt, src_key_padding_mask, tgt_key_padding_mask =  next(iter(test_T_loader))\n",
        "text_i = 0\n",
        "src_ln = srcs_lns[text_i:text_i+1]\n",
        "src, src_key_padding_mask = src[0][text_i:text_i+1].to(device), src_key_padding_mask[0][text_i:text_i+1].to(device) # to device\n",
        "tgt, tgt_key_padding_mask = tgt[0][text_i:text_i+1].to(device), tgt_key_padding_mask[0][text_i:text_i+1].to(device) # to device\n",
        "inference(model, src_ln, src, tgt, src_key_padding_mask, tgt_key_padding_mask, lang, 'forced')\n",
        "inference(model, src_ln, src, tgt, src_key_padding_mask, tgt_key_padding_mask, lang, 'greedy')"
      ],
      "execution_count": 69,
      "outputs": [
        {
          "output_type": "stream",
          "text": [
            "Mode: forced\n",
            "Source: ['администрация', 'знаменитый', 'курорт', 'куршевель', 'французский', 'альпы', 'констатировать', 'увеличение', 'российский', 'турист', 'сообщить', 'риа', 'новость', 'глава', 'главный', 'туристический', 'офис', 'куршевелить', 'аделин', 'ру', 'PAD', 'PAD', 'PAD', 'PAD', 'PAD', 'PAD', 'PAD', 'PAD', 'PAD', 'PAD', 'PAD']\n",
            "Target: ['SOS', 'администрация', 'курорт', 'куршевелить', 'заявлять', 'увеличение', 'турист', 'рф', 'EOS', 'PAD', 'PAD']\n",
            "Generated: ['российский', 'российский', 'истребитель', 'истребитель', 'EOS', 'EOS', 'EOS', 'EOS', 'EOS', 'EOS']\n",
            "Mode: greedy\n",
            "Source: ['администрация', 'знаменитый', 'курорт', 'куршевель', 'французский', 'альпы', 'констатировать', 'увеличение', 'российский', 'турист', 'сообщить', 'риа', 'новость', 'глава', 'главный', 'туристический', 'офис', 'куршевелить', 'аделин', 'ру', 'PAD', 'PAD', 'PAD', 'PAD', 'PAD', 'PAD', 'PAD', 'PAD', 'PAD', 'PAD', 'PAD']\n",
            "Target: ['SOS', 'администрация', 'курорт', 'куршевелить', 'заявлять', 'увеличение', 'турист', 'рф', 'EOS', 'PAD', 'PAD']\n",
            "Generated: ['истребитель', 'мочь', 'EOS']\n"
          ],
          "name": "stdout"
        }
      ]
    },
    {
      "cell_type": "code",
      "metadata": {
        "id": "uVKK1VPi3BI5",
        "colab_type": "code",
        "colab": {}
      },
      "source": [
        ""
      ],
      "execution_count": 0,
      "outputs": []
    },
    {
      "cell_type": "code",
      "metadata": {
        "id": "LWjuMGMe3Bg_",
        "colab_type": "code",
        "colab": {}
      },
      "source": [
        ""
      ],
      "execution_count": 0,
      "outputs": []
    },
    {
      "cell_type": "code",
      "metadata": {
        "id": "bOwgpq0O3BeL",
        "colab_type": "code",
        "colab": {}
      },
      "source": [
        ""
      ],
      "execution_count": 0,
      "outputs": []
    },
    {
      "cell_type": "code",
      "metadata": {
        "id": "ItotVW3E3BbN",
        "colab_type": "code",
        "colab": {}
      },
      "source": [
        ""
      ],
      "execution_count": 0,
      "outputs": []
    },
    {
      "cell_type": "code",
      "metadata": {
        "id": "KHldzZGu3BUD",
        "colab_type": "code",
        "colab": {}
      },
      "source": [
        ""
      ],
      "execution_count": 0,
      "outputs": []
    },
    {
      "cell_type": "code",
      "metadata": {
        "id": "nRZLACVe3BRI",
        "colab_type": "code",
        "colab": {}
      },
      "source": [
        ""
      ],
      "execution_count": 0,
      "outputs": []
    },
    {
      "cell_type": "code",
      "metadata": {
        "id": "Dmjdij1wKhCV",
        "colab_type": "code",
        "colab": {}
      },
      "source": [
        ""
      ],
      "execution_count": 0,
      "outputs": []
    },
    {
      "cell_type": "code",
      "metadata": {
        "id": "QMZ-3RmlVc6x",
        "colab_type": "code",
        "colab": {}
      },
      "source": [
        ""
      ],
      "execution_count": 0,
      "outputs": []
    },
    {
      "cell_type": "code",
      "metadata": {
        "id": "oeMGFrfczXBd",
        "colab_type": "code",
        "outputId": "d2e8ab62-4ba6-4612-a284-2d662163356c",
        "colab": {
          "base_uri": "https://localhost:8080/",
          "height": 181
        }
      },
      "source": [
        "# failed sanity check\n",
        "\n",
        "src, tgt, src_key_padding_mask, tgt_key_padding_mask =  next(iter(train_loader))\n",
        "text_i = 3\n",
        "src, src_key_padding_mask = src[0][text_i:text_i+1].to(device), src_key_padding_mask[0][text_i:text_i+1].to(device) # to device\n",
        "tgt, tgt_key_padding_mask = tgt[0][text_i:text_i+1].to(device), tgt_key_padding_mask[0][text_i:text_i+1].to(device) # to device\n",
        "\n",
        "tgt_inp, tgt_out = tgt[:, :-1], tgt[:, 1:]\n",
        "tgt_key_padding_mask_inp = tgt_key_padding_mask[:, :-1]\n",
        "tgt_mask = gen_nopeek_mask(tgt_inp.shape[1]).to(device) # also to device\n",
        "print(src.shape)\n",
        "print(tgt_inp.shape)\n",
        "print(tgt_out.shape)\n",
        "print(tgt_key_padding_mask_inp.shape)\n",
        "print(tgt_mask.shape)\n",
        "print()\n",
        "\n",
        "# tgt_key_padding_mask_inp = torch.Tensor([[False]+[True]*(tgt_inp.shape[1]-1)]).bool().to(device)\n",
        "model.eval()\n",
        "tgt_mask[:, 1:] = tgt_mask[0, 1] # sanity check\n",
        "output = model(src, tgt_inp, src_key_padding_mask, tgt_key_padding_mask_inp, memory_key_padding_mask, tgt_mask)\n",
        "print(output.shape)\n",
        "print(output[0, :, 9]) # they should be same"
      ],
      "execution_count": 0,
      "outputs": [
        {
          "output_type": "stream",
          "text": [
            "torch.Size([1, 39])\n",
            "torch.Size([1, 10])\n",
            "torch.Size([1, 10])\n",
            "torch.Size([1, 10])\n",
            "torch.Size([10, 10])\n",
            "\n",
            "torch.Size([1, 10, 55964])\n",
            "tensor([1.6116, 1.7882, 1.5525, 2.7367, 1.1095, 1.6610, 1.4240, 1.8079, 1.9798,\n",
            "        1.9811], device='cuda:0', grad_fn=<SelectBackward>)\n"
          ],
          "name": "stdout"
        }
      ]
    },
    {
      "cell_type": "code",
      "metadata": {
        "id": "TAaTFU_ENoVu",
        "colab_type": "code",
        "outputId": "545811f1-979d-4fab-c8d1-f88758b514eb",
        "colab": {
          "base_uri": "https://localhost:8080/",
          "height": 53
        }
      },
      "source": [
        ""
      ],
      "execution_count": 0,
      "outputs": [
        {
          "output_type": "execute_result",
          "data": {
            "text/plain": [
              "tensor([[2253,  150,  860,  689,  705,  835, 1093, 1728,    1,    2]],\n",
              "       device='cuda:0')"
            ]
          },
          "metadata": {
            "tags": []
          },
          "execution_count": 42
        }
      ]
    },
    {
      "cell_type": "code",
      "metadata": {
        "id": "ET5qGZpDN7Wt",
        "colab_type": "code",
        "outputId": "3d9a1580-73b6-4101-e2cb-5c45e1cad7da",
        "colab": {
          "base_uri": "https://localhost:8080/",
          "height": 162
        }
      },
      "source": [
        "output = model(src, tgt_inp, src_key_padding_mask, tgt_key_padding_mask_inp, memory_key_padding_mask, tgt_mask)\n",
        "print(output)"
      ],
      "execution_count": 0,
      "outputs": [
        {
          "output_type": "stream",
          "text": [
            "tensor([[[-7.4522,  0.5211, -7.4363,  ..., -7.5318, -7.4330, -7.4693],\n",
            "         [-7.1339,  0.4152, -7.1078,  ..., -7.2298, -7.0972, -7.1576],\n",
            "         [-7.6243,  0.6096, -7.5907,  ..., -7.7260, -7.6079, -7.6481],\n",
            "         ...,\n",
            "         [-7.4810,  0.6389, -7.4677,  ..., -7.6108, -7.4503, -7.5029],\n",
            "         [-7.5305,  0.7622, -7.4795,  ..., -7.6175, -7.4777, -7.5463],\n",
            "         [-7.6285,  0.4827, -7.5915,  ..., -7.7473, -7.6052, -7.6280]]],\n",
            "       device='cuda:0', grad_fn=<AddBackward0>)\n"
          ],
          "name": "stdout"
        }
      ]
    },
    {
      "cell_type": "code",
      "metadata": {
        "id": "y8FiTkKpzLiQ",
        "colab_type": "code",
        "outputId": "985523e9-5d5c-4065-9911-80c73d8fb199",
        "colab": {
          "base_uri": "https://localhost:8080/",
          "height": 108
        }
      },
      "source": [
        "print(tgt_inp)\n",
        "print(tgt_key_padding_mask_inp)\n",
        "print()"
      ],
      "execution_count": 0,
      "outputs": [
        {
          "output_type": "stream",
          "text": [
            "tensor([[   0, 2253,  150,  860,  689,  705,  835, 1093, 1728,    1]],\n",
            "       device='cuda:0')\n",
            "tensor([[False, False, False, False, False, False, False, False, False, False]],\n",
            "       device='cuda:0')\n",
            "tensor([[False,  True,  True,  True,  True,  True,  True,  True,  True,  True]])\n"
          ],
          "name": "stdout"
        }
      ]
    },
    {
      "cell_type": "code",
      "metadata": {
        "id": "fld_JsGDzR84",
        "colab_type": "code",
        "colab": {}
      },
      "source": [
        "\n",
        "loss = criterion(rearrange(output, 'b t v -> (b t) v'), rearrange(tgt_out, 'b o -> (b o)'))"
      ],
      "execution_count": 0,
      "outputs": []
    },
    {
      "cell_type": "code",
      "metadata": {
        "id": "EqhVe5f084Gj",
        "colab_type": "code",
        "colab": {}
      },
      "source": [
        "# inference\n",
        "\n",
        "\n",
        "src, tgt, src_key_padding_mask, tgt_key_padding_mask =  next(iter(test_loader))\n",
        "print(src)\n",
        "print(tgt)\n",
        "print(src_key_padding_mask)\n",
        "print(tgt_key_padding_mask)"
      ],
      "execution_count": 0,
      "outputs": []
    },
    {
      "cell_type": "code",
      "metadata": {
        "id": "WAOvRJG184Cp",
        "colab_type": "code",
        "colab": {}
      },
      "source": [
        ""
      ],
      "execution_count": 0,
      "outputs": []
    },
    {
      "cell_type": "code",
      "metadata": {
        "id": "eI-3Spl-0gls",
        "colab_type": "code",
        "colab": {}
      },
      "source": [
        ""
      ],
      "execution_count": 0,
      "outputs": []
    },
    {
      "cell_type": "code",
      "metadata": {
        "id": "nRDpuv3ezUT_",
        "colab_type": "code",
        "colab": {}
      },
      "source": [
        ""
      ],
      "execution_count": 0,
      "outputs": []
    },
    {
      "cell_type": "code",
      "metadata": {
        "id": "5MYZdOtCzUoi",
        "colab_type": "code",
        "colab": {}
      },
      "source": [
        ""
      ],
      "execution_count": 0,
      "outputs": []
    },
    {
      "cell_type": "code",
      "metadata": {
        "id": "MCJHC_udqSww",
        "colab_type": "code",
        "outputId": "0590fa2f-b2c3-485a-c32d-ae674d898949",
        "colab": {
          "base_uri": "https://localhost:8080/",
          "height": 243
        }
      },
      "source": [
        "src_, src_key_padding_mask_ = src[0].to(device), src_key_padding_mask[0].to(device)\n",
        "tgt_, tgt_key_padding_mask_ = tgt[0].to(device), tgt_key_padding_mask[0].to(device)\n",
        "memory_key_padding_mask = src_key_padding_mask_.clone()\n",
        "tgt_inp, tgt_out = tgt_[:, :-1], tgt_[:, 1:]\n",
        "tgt_key_padding_mask_inp = tgt_key_padding_mask_[:, :-1]\n",
        "tgt_mask = gen_nopeek_mask(tgt_inp.shape[1]).to(device)"
      ],
      "execution_count": 0,
      "outputs": [
        {
          "output_type": "error",
          "ename": "IndexError",
          "evalue": "ignored",
          "traceback": [
            "\u001b[0;31m---------------------------------------------------------------------------\u001b[0m",
            "\u001b[0;31mIndexError\u001b[0m                                Traceback (most recent call last)",
            "\u001b[0;32m<ipython-input-13-77ac83874694>\u001b[0m in \u001b[0;36m<module>\u001b[0;34m()\u001b[0m\n\u001b[1;32m      2\u001b[0m \u001b[0mtgt_\u001b[0m\u001b[0;34m,\u001b[0m \u001b[0mtgt_key_padding_mask_\u001b[0m \u001b[0;34m=\u001b[0m \u001b[0mtgt\u001b[0m\u001b[0;34m[\u001b[0m\u001b[0;36m0\u001b[0m\u001b[0;34m]\u001b[0m\u001b[0;34m.\u001b[0m\u001b[0mto\u001b[0m\u001b[0;34m(\u001b[0m\u001b[0mdevice\u001b[0m\u001b[0;34m)\u001b[0m\u001b[0;34m,\u001b[0m \u001b[0mtgt_key_padding_mask\u001b[0m\u001b[0;34m[\u001b[0m\u001b[0;36m0\u001b[0m\u001b[0;34m]\u001b[0m\u001b[0;34m.\u001b[0m\u001b[0mto\u001b[0m\u001b[0;34m(\u001b[0m\u001b[0mdevice\u001b[0m\u001b[0;34m)\u001b[0m\u001b[0;34m\u001b[0m\u001b[0;34m\u001b[0m\u001b[0m\n\u001b[1;32m      3\u001b[0m \u001b[0mmemory_key_padding_mask\u001b[0m \u001b[0;34m=\u001b[0m \u001b[0msrc_key_padding_mask_\u001b[0m\u001b[0;34m.\u001b[0m\u001b[0mclone\u001b[0m\u001b[0;34m(\u001b[0m\u001b[0;34m)\u001b[0m\u001b[0;34m\u001b[0m\u001b[0;34m\u001b[0m\u001b[0m\n\u001b[0;32m----> 4\u001b[0;31m \u001b[0mtgt_inp\u001b[0m\u001b[0;34m,\u001b[0m \u001b[0mtgt_out\u001b[0m \u001b[0;34m=\u001b[0m \u001b[0mtgt_\u001b[0m\u001b[0;34m[\u001b[0m\u001b[0;34m:\u001b[0m\u001b[0;34m,\u001b[0m \u001b[0;34m:\u001b[0m\u001b[0;34m-\u001b[0m\u001b[0;36m1\u001b[0m\u001b[0;34m]\u001b[0m\u001b[0;34m,\u001b[0m \u001b[0mtgt_\u001b[0m\u001b[0;34m[\u001b[0m\u001b[0;34m:\u001b[0m\u001b[0;34m,\u001b[0m \u001b[0;36m1\u001b[0m\u001b[0;34m:\u001b[0m\u001b[0;34m]\u001b[0m\u001b[0;34m\u001b[0m\u001b[0;34m\u001b[0m\u001b[0m\n\u001b[0m\u001b[1;32m      5\u001b[0m \u001b[0mtgt_key_padding_mask_inp\u001b[0m \u001b[0;34m=\u001b[0m \u001b[0mtgt_key_padding_mask_\u001b[0m\u001b[0;34m[\u001b[0m\u001b[0;34m:\u001b[0m\u001b[0;34m,\u001b[0m \u001b[0;34m:\u001b[0m\u001b[0;34m-\u001b[0m\u001b[0;36m1\u001b[0m\u001b[0;34m]\u001b[0m\u001b[0;34m\u001b[0m\u001b[0;34m\u001b[0m\u001b[0m\n\u001b[1;32m      6\u001b[0m \u001b[0mtgt_mask\u001b[0m \u001b[0;34m=\u001b[0m \u001b[0mgen_nopeek_mask\u001b[0m\u001b[0;34m(\u001b[0m\u001b[0mtgt_inp\u001b[0m\u001b[0;34m.\u001b[0m\u001b[0mshape\u001b[0m\u001b[0;34m[\u001b[0m\u001b[0;36m1\u001b[0m\u001b[0;34m]\u001b[0m\u001b[0;34m)\u001b[0m\u001b[0;34m.\u001b[0m\u001b[0mto\u001b[0m\u001b[0;34m(\u001b[0m\u001b[0mdevice\u001b[0m\u001b[0;34m)\u001b[0m\u001b[0;34m\u001b[0m\u001b[0;34m\u001b[0m\u001b[0m\n",
            "\u001b[0;31mIndexError\u001b[0m: too many indices for tensor of dimension 1"
          ]
        }
      ]
    },
    {
      "cell_type": "code",
      "metadata": {
        "id": "wvaPZRRvuOg6",
        "colab_type": "code",
        "colab": {}
      },
      "source": [
        "print(tgt_key_padding_mask_.shape)\n",
        "print(src_.shape)\n",
        "print(tgt_inp.shape)\n",
        "print(src_key_padding_mask_.shape)\n",
        "print(memory_key_padding_mask.shape)\n",
        "print(tgt_mask.shape)"
      ],
      "execution_count": 0,
      "outputs": []
    },
    {
      "cell_type": "code",
      "metadata": {
        "id": "Mlsp_16Etdii",
        "colab_type": "code",
        "colab": {}
      },
      "source": [
        "output = model(src_, tgt_inp, src_key_padding_mask_, tgt_key_padding_mask_inp, memory_key_padding_mask, tgt_mask)"
      ],
      "execution_count": 0,
      "outputs": []
    },
    {
      "cell_type": "code",
      "metadata": {
        "id": "mTX_erk1t2WD",
        "colab_type": "code",
        "colab": {}
      },
      "source": [
        " torch.isnan(output).any()"
      ],
      "execution_count": 0,
      "outputs": []
    },
    {
      "cell_type": "code",
      "metadata": {
        "id": "b5_9Agftv8Vz",
        "colab_type": "code",
        "colab": {}
      },
      "source": [
        "src_.shape"
      ],
      "execution_count": 0,
      "outputs": []
    },
    {
      "cell_type": "code",
      "metadata": {
        "id": "qbyDvyKzwQyR",
        "colab_type": "code",
        "colab": {}
      },
      "source": [
        "src_[0][0]"
      ],
      "execution_count": 0,
      "outputs": []
    },
    {
      "cell_type": "code",
      "metadata": {
        "id": "xwtgvBOdw6Ft",
        "colab_type": "code",
        "colab": {}
      },
      "source": [
        "src[0][9]"
      ],
      "execution_count": 0,
      "outputs": []
    },
    {
      "cell_type": "code",
      "metadata": {
        "id": "ddF9kC1Uw0B9",
        "colab_type": "code",
        "colab": {}
      },
      "source": [
        "lang.tensor2text(tgt[0][9])"
      ],
      "execution_count": 0,
      "outputs": []
    },
    {
      "cell_type": "code",
      "metadata": {
        "id": "Wd-JydO0vuCn",
        "colab_type": "code",
        "colab": {}
      },
      "source": [
        "for row_i in range(src_.shape[0]):\n",
        "  print(row_i, src_[row_i][1])"
      ],
      "execution_count": 0,
      "outputs": []
    },
    {
      "cell_type": "code",
      "metadata": {
        "id": "CEKnVJ-fp6Eh",
        "colab_type": "code",
        "colab": {}
      },
      "source": [
        "src, src_key_padding_mask = src[0].to(device), src_key_padding_mask[0].to(device) # to device\n",
        "tgt, tgt_key_padding_mask = tgt[0].to(device), tgt_key_padding_mask[0].to(device) # to device\n",
        "memory_key_padding_mask = src_key_padding_mask.clone()\n",
        "tgt_inp, tgt_out = tgt[:, :-1], tgt[:, 1:]\n",
        "tgt_key_padding_mask_inp = tgt_key_padding_mask[:, :-1]\n",
        "tgt_mask = gen_nopeek_mask(tgt_inp.shape[1]).to(device) # also to device\n",
        "\n",
        "optimizer.zero_grad()\n",
        "output = model(src, tgt_inp, src_key_padding_mask, tgt_key_padding_mask_inp, memory_key_padding_mask, tgt_mask)\n",
        "loss = criterion(rearrange(output, 'b t v -> (b t) v'), rearrange(tgt_out, 'b o -> (b o)'))\n",
        "loss.backward()\n",
        "optimizer.step()\n",
        "train_loss += loss.item()"
      ],
      "execution_count": 0,
      "outputs": []
    },
    {
      "cell_type": "code",
      "metadata": {
        "id": "MiETl8cebCGq",
        "colab_type": "code",
        "colab": {}
      },
      "source": [
        "output = model(src, tgt_inp, src_key_padding_mask, tgt_key_padding_mask_inp, memory_key_padding_mask, tgt_mask)\n",
        "criterion(rearrange(output, 'b t v -> (b t) v'), rearrange(tgt_out, 'b o -> (b o)'))"
      ],
      "execution_count": 0,
      "outputs": []
    },
    {
      "cell_type": "code",
      "metadata": {
        "id": "QrOG2X88b8XL",
        "colab_type": "code",
        "colab": {}
      },
      "source": [
        "src_ = src.permute(1, 0)\n",
        "tgt_ = tgt_inp.permute(1, 0)\n",
        "# src_ = model.pos_enc(model.embed_src(src_) * math.sqrt(model.d_model)) # why every time multiply? just init it somewhere\n",
        "# tgt_ = model.pos_enc(model.embed_tgt(tgt_) * math.sqrt(model.d_model))"
      ],
      "execution_count": 0,
      "outputs": []
    },
    {
      "cell_type": "code",
      "metadata": {
        "id": "vMlRQSWTcT7p",
        "colab_type": "code",
        "colab": {}
      },
      "source": [
        "src_[:, 0].unsqueeze(0)"
      ],
      "execution_count": 0,
      "outputs": []
    },
    {
      "cell_type": "code",
      "metadata": {
        "id": "KZd99ArrcC57",
        "colab_type": "code",
        "colab": {}
      },
      "source": [
        "print(model.embed_src(src_[:, 0].unsqueeze(0)))"
      ],
      "execution_count": 0,
      "outputs": []
    },
    {
      "cell_type": "code",
      "metadata": {
        "id": "8ei_HEKSelPz",
        "colab_type": "code",
        "colab": {}
      },
      "source": [
        "model.embed_src(torch.Tensor([[lang.word2index['PAD']]]).long().to(device) )"
      ],
      "execution_count": 0,
      "outputs": []
    },
    {
      "cell_type": "code",
      "metadata": {
        "id": "8UklVda-bndB",
        "colab_type": "code",
        "colab": {}
      },
      "source": [
        "\n",
        "\n",
        "output = self.transformer(src, tgt, tgt_mask=tgt_mask, src_key_padding_mask=src_key_padding_mask,\n",
        "                          tgt_key_padding_mask=tgt_key_padding_mask, memory_key_padding_mask=memory_key_padding_mask)\n",
        "output = output.permute(1, 0, 2)\n",
        "return self.fc(output)"
      ],
      "execution_count": 0,
      "outputs": []
    },
    {
      "cell_type": "code",
      "metadata": {
        "id": "03qw5a46bieg",
        "colab_type": "code",
        "colab": {}
      },
      "source": [
        "output"
      ],
      "execution_count": 0,
      "outputs": []
    },
    {
      "cell_type": "code",
      "metadata": {
        "id": "bcwjAlMA1y7Y",
        "colab_type": "code",
        "colab": {}
      },
      "source": [
        "\n",
        "global_embeddings = nn.Embedding(lang.n_words, config['d_model'])\n",
        "wv = torch.Tensor([word_init_vectors[lang.index2word[idx]] for idx in lang.index2word.keys()])\n",
        "global_embeddings.weight.data = wv\n",
        "\n",
        "\n",
        "criterion = nn.CrossEntropyLoss(ignore_index=lang.word2index['PAD'])\n",
        "\n",
        "d_model = config['d_model']\n",
        "pos_dropout = config['pos_dropout']\n",
        "nhead = config['nhead']\n",
        "num_encoder_layers = config['num_encoder_layers']\n",
        "num_decoder_layers = config['num_decoder_layers']\n",
        "dim_feedforward = config['dim_feedforward']\n",
        "trans_dropout = config['trans_dropout']\n",
        "\n",
        "\n",
        "\n",
        "embed_src = global_embeddings\n",
        "embed_tgt = global_embeddings\n",
        "pos_enc = PositionalEncoding(d_model, pos_dropout, lang.max_seq_length)\n",
        "transformer = nn.Transformer(d_model, nhead, num_encoder_layers, num_decoder_layers, dim_feedforward, trans_dropout)\n",
        "fc = nn.Linear(d_model, lang.n_words)"
      ],
      "execution_count": 0,
      "outputs": []
    },
    {
      "cell_type": "code",
      "metadata": {
        "id": "ZHYTLN6Q55Bd",
        "colab_type": "code",
        "colab": {}
      },
      "source": [
        "src, tgt, src_key_padding_mask, tgt_key_padding_mask =  next(iter(train_loader))\n",
        "src, src_key_padding_mask = src[0], src_key_padding_mask[0].to(device) # to device\n",
        "tgt, tgt_key_padding_mask = tgt[0], tgt_key_padding_mask[0].to(device) # to device\n",
        "memory_key_padding_mask = src_key_padding_mask.clone()\n",
        "tgt_inp, tgt_out = tgt[:, :-1], tgt[:, 1:]\n",
        "tgt_key_padding_mask_inp = tgt_key_padding_mask[:, :-1]\n",
        "tgt_mask = gen_nopeek_mask(tgt_inp.shape[1]).to(device) # also to device\n",
        "\n",
        "print(src.shape)\n",
        "print(tgt.shape)\n",
        "print(src_key_padding_mask.shape)\n",
        "print(tgt_key_padding_mask.shape)\n",
        "print(tgt_inp.shape)\n",
        "print(tgt_out.shape)\n",
        "print(tgt_mask.shape)"
      ],
      "execution_count": 0,
      "outputs": []
    },
    {
      "cell_type": "code",
      "metadata": {
        "id": "BGmF1vKh7dCT",
        "colab_type": "code",
        "colab": {}
      },
      "source": [
        "src = src.permute(1, 0)\n",
        "tgt_inp = tgt_inp.permute(1, 0)\n",
        "src = pos_enc(embed_src(src) * math.sqrt(d_model))\n",
        "tgt_inp = pos_enc(embed_tgt(tgt_inp) * math.sqrt(d_model))"
      ],
      "execution_count": 0,
      "outputs": []
    },
    {
      "cell_type": "code",
      "metadata": {
        "id": "f1ovGU5J90GA",
        "colab_type": "code",
        "colab": {}
      },
      "source": [
        "print(src.shape, tgt_inp.shape)"
      ],
      "execution_count": 0,
      "outputs": []
    },
    {
      "cell_type": "code",
      "metadata": {
        "id": "xtXVOdxY-lfP",
        "colab_type": "code",
        "colab": {}
      },
      "source": [
        "print(src.shape)\n",
        "print(tgt_inp.shape)\n",
        "print(tgt_mask.shape)\n",
        "print(src_key_padding_mask.shape)\n",
        "print(tgt_key_padding_mask_inp.shape)\n",
        "print(memory_key_padding_mask.shape)"
      ],
      "execution_count": 0,
      "outputs": []
    },
    {
      "cell_type": "code",
      "metadata": {
        "id": "It8h9lga3Pii",
        "colab_type": "code",
        "colab": {}
      },
      "source": [
        "output = transformer(src, tgt_inp, tgt_mask=tgt_mask, src_key_padding_mask=src_key_padding_mask,\n",
        "                          tgt_key_padding_mask=tgt_key_padding_mask_inp, memory_key_padding_mask=memory_key_padding_mask)\n",
        "output = output.permute(1, 0, 2)\n",
        "output = fc(output)"
      ],
      "execution_count": 0,
      "outputs": []
    },
    {
      "cell_type": "code",
      "metadata": {
        "id": "L0-s6h7X9te1",
        "colab_type": "code",
        "colab": {}
      },
      "source": [
        "loss = criterion(rearrange(output, 'b t v -> (b t) v'), rearrange(tgt_out, 'b o -> (b o)'))"
      ],
      "execution_count": 0,
      "outputs": []
    },
    {
      "cell_type": "code",
      "metadata": {
        "id": "a_5b9bxKAJSN",
        "colab_type": "code",
        "colab": {}
      },
      "source": [
        ""
      ],
      "execution_count": 0,
      "outputs": []
    },
    {
      "cell_type": "code",
      "metadata": {
        "id": "C0LtWb5iW1A8",
        "colab_type": "code",
        "colab": {}
      },
      "source": [
        "import math\n",
        "\n",
        "import torch\n",
        "from torch import nn\n",
        "\n",
        "\n",
        "class LanguageTransformer(nn.Module):\n",
        "    def __init__(self, vocab_size, d_model, nhead, num_encoder_layers, num_decoder_layers, dim_feedforward, max_seq_length, pos_dropout, trans_dropout):\n",
        "        super().__init__()\n",
        "        self.d_model = d_model\n",
        "        self.embed_src = nn.Embedding(vocab_size, d_model)\n",
        "        self.embed_tgt = nn.Embedding(vocab_size, d_model)\n",
        "        self.pos_enc = PositionalEncoding(d_model, pos_dropout, max_seq_length)\n",
        "\n",
        "        self.transformer = nn.Transformer(d_model, nhead, num_encoder_layers, num_decoder_layers, dim_feedforward, trans_dropout)\n",
        "        self.fc = nn.Linear(d_model, vocab_size)\n",
        "\n",
        "    def forward(self, src, tgt, src_key_padding_mask, tgt_key_padding_mask, memory_key_padding_mask, tgt_mask):\n",
        "        # src = rearrange(src, 'n s -> s n')\n",
        "        src = src.permute(1, 0)\n",
        "        # tgt = rearrange(tgt, 'n t -> t n')\n",
        "        tgt = tgt.permute(1, 0)\n",
        "        src = self.pos_enc(self.embed_src(src) * math.sqrt(self.d_model)) # why every time multiply? just init it somewhere\n",
        "        tgt = self.pos_enc(self.embed_tgt(tgt) * math.sqrt(self.d_model))\n",
        "\n",
        "        output = self.transformer(src, tgt, tgt_mask=tgt_mask, src_key_padding_mask=src_key_padding_mask,\n",
        "                                  tgt_key_padding_mask=tgt_key_padding_mask, memory_key_padding_mask=memory_key_padding_mask)\n",
        "        # output = rearrange(output, 't n e -> n t e')\n",
        "        output = output.permute(1, 0, 2)\n",
        "        return self.fc(output)"
      ],
      "execution_count": 0,
      "outputs": []
    },
    {
      "cell_type": "code",
      "metadata": {
        "id": "Unw4BYAFZAVX",
        "colab_type": "code",
        "colab": {}
      },
      "source": [
        "        total_step += 1\n",
        "\n",
        "        src, src_key_padding_mask = src[0].to('cuda'), src_key_padding_mask[0].to('cuda')\n",
        "        tgt, tgt_key_padding_mask = tgt[0].to('cuda'), tgt_key_padding_mask[0].to('cuda')\n",
        "\n",
        "        memory_key_padding_mask = src_key_padding_mask.clone()\n",
        "        tgt_inp, tgt_out = tgt[:, :-1], tgt[:, 1:]\n",
        "        tgt_mask = gen_nopeek_mask(tgt_inp.shape[1]).to('cuda')\n",
        "\n",
        "        optim.zero_grad()\n",
        "        outputs = model(src, tgt_inp, src_key_padding_mask, tgt_key_padding_mask[:, :-1], memory_key_padding_mask, tgt_mask)\n",
        "        loss = criterion(rearrange(outputs, 'b t v -> (b t) v'), rearrange(tgt_out, 'b o -> (b o)'))\n",
        "\n",
        "        loss.backward()\n",
        "        optim.step_and_update_lr()\n",
        "\n",
        "        total_loss += loss.item()\n",
        "        train_losses.append((step, loss.item()))\n",
        "        pbar.update(1)\n",
        "        if step % print_every == print_every - 1:\n",
        "            pbar.close()\n",
        "            print(f'Epoch [{epoch + 1} / {num_epochs}] \\t Step [{step + 1} / {len(train_loader)}] \\t '\n",
        "                  f'Train Loss: {total_loss / print_every}')\n",
        "            total_loss = 0\n",
        "\n",
        "            pbar = tqdm(total=print_every, leave=False)\n",
        "\n",
        "    pbar.close()\n",
        "    val_loss = validate(valid_loader, model, criterion)\n",
        "    val_losses.append((total_step, val_loss))\n",
        "    if val_loss < lowest_val:\n",
        "        lowest_val = val_loss\n",
        "        torch.save(model, 'output/transformer.pth')\n",
        "    print(f'Val Loss: {val_loss}')"
      ],
      "execution_count": 0,
      "outputs": []
    },
    {
      "cell_type": "code",
      "metadata": {
        "id": "l5m8S0o8ZAiG",
        "colab_type": "code",
        "colab": {}
      },
      "source": [
        ""
      ],
      "execution_count": 0,
      "outputs": []
    },
    {
      "cell_type": "code",
      "metadata": {
        "id": "f91eDhSkXFFD",
        "colab_type": "code",
        "colab": {}
      },
      "source": [
        ""
      ],
      "execution_count": 0,
      "outputs": []
    },
    {
      "cell_type": "code",
      "metadata": {
        "id": "CWMTJGMVeO0w",
        "colab_type": "code",
        "colab": {}
      },
      "source": [
        "import pickle\n",
        "import random\n",
        "import numpy as np\n",
        "from torch.utils.data import Dataset\n",
        "\n",
        "\n",
        "class ParallelLanguageDataset(Dataset):\n",
        "    def __init__(self, data_path_1, data_path_2, num_tokens, max_seq_length):\n",
        "        self.num_tokens = num_tokens\n",
        "        self.data_1, self.data_2, self.data_lengths = load_data(data_path_1, data_path_2, max_seq_length)\n",
        "\n",
        "        self.batches = gen_batches(num_tokens, self.data_lengths)\n",
        "\n",
        "    def __getitem__(self, idx):\n",
        "        src, src_mask = getitem(idx, self.data_1, self.batches, True)\n",
        "        tgt, tgt_mask = getitem(idx, self.data_2, self.batches, False)\n",
        "\n",
        "        return src, src_mask, tgt, tgt_mask\n",
        "\n",
        "    def __len__(self):\n",
        "        return len(self.batches)\n",
        "\n",
        "    def shuffle_batches(self):\n",
        "        self.batches = gen_batches(self.num_tokens, self.data_lengths)\n",
        "\n",
        "\n",
        "def gen_batches(num_tokens, data_lengths):\n",
        "    # Shuffle all the indices\n",
        "    for k, v in data_lengths.items():\n",
        "        random.shuffle(v)\n",
        "\n",
        "    batches = []\n",
        "    prev_tokens_in_batch = 1e10\n",
        "    for k in sorted(data_lengths):\n",
        "        v = data_lengths[k]\n",
        "        total_tokens = (k[0] + k[1]) * len(v)\n",
        "\n",
        "        while total_tokens > 0:\n",
        "            tokens_in_batch = min(total_tokens, num_tokens) - min(total_tokens, num_tokens) % (k[0] + k[1])\n",
        "            sentences_in_batch = tokens_in_batch // (k[0] + k[1])\n",
        "\n",
        "            # Combine with previous batch?\n",
        "            if tokens_in_batch + prev_tokens_in_batch <= num_tokens:\n",
        "                batches[-1].extend(v[:sentences_in_batch])\n",
        "                prev_tokens_in_batch += tokens_in_batch\n",
        "            else:\n",
        "                batches.append(v[:sentences_in_batch])\n",
        "                prev_tokens_in_batch = tokens_in_batch\n",
        "            v = v[sentences_in_batch:]\n",
        "\n",
        "            total_tokens = (k[0] + k[1]) * len(v)\n",
        "    return batches\n",
        "\n",
        "\n",
        "def load_data(data_path_1, data_path_2, max_seq_length):\n",
        "    with open(data_path_1, 'rb') as f:\n",
        "        data_1 = pickle.load(f)\n",
        "    with open(data_path_2, 'rb') as f:\n",
        "        data_2 = pickle.load(f)\n",
        "\n",
        "    data_lengths = {}\n",
        "    for i, (str_1, str_2) in enumerate(zip(data_1, data_2)):\n",
        "        if 0 < len(str_1) <= max_seq_length and 0 < len(str_2) <= max_seq_length - 2:\n",
        "            if (len(str_1), len(str_2)) in data_lengths:\n",
        "                data_lengths[(len(str_1), len(str_2))].append(i)\n",
        "            else:\n",
        "                data_lengths[(len(str_1), len(str_2))] = [i]\n",
        "    return data_1, data_2, data_lengths\n",
        "\n",
        "\n",
        "def getitem(idx, data, batches, src):\n",
        "    sentence_indices = batches[idx]\n",
        "    if src:\n",
        "        batch = [data[i] for i in sentence_indices]\n",
        "    else:\n",
        "        batch = [[2] + data[i] + [3] for i in sentence_indices]\n",
        "\n",
        "    seq_length = 0\n",
        "    for sentence in batch:\n",
        "        if len(sentence) > seq_length:\n",
        "            seq_length = len(sentence)\n",
        "\n",
        "    masks = []\n",
        "    for i, sentence in enumerate(batch):\n",
        "        masks.append([False for _ in range(len(sentence))] + [True for _ in range(seq_length - len(sentence))])\n",
        "        batch[i] = sentence + [0 for _ in range(seq_length - len(sentence))]\n",
        "\n",
        "    return np.array(batch), np.array(masks)"
      ],
      "execution_count": 0,
      "outputs": []
    },
    {
      "cell_type": "code",
      "metadata": {
        "id": "e4IQmfdDeCPi",
        "colab_type": "code",
        "colab": {}
      },
      "source": [
        "class ScheduledOptim():\n",
        "    '''A simple wrapper class for learning rate scheduling'''\n",
        "\n",
        "    def __init__(self, optimizer, d_model, n_warmup_steps):\n",
        "        self._optimizer = optimizer\n",
        "        self.n_warmup_steps = n_warmup_steps\n",
        "        self.n_current_steps = 0\n",
        "        self.init_lr = np.power(d_model, -0.5)\n",
        "\n",
        "    def step_and_update_lr(self):\n",
        "        \"Step with the inner optimizer\"\n",
        "        self._update_learning_rate()\n",
        "        self._optimizer.step()\n",
        "\n",
        "    def zero_grad(self):\n",
        "        \"Zero out the gradients by the inner optimizer\"\n",
        "        self._optimizer.zero_grad()\n",
        "\n",
        "    def _get_lr_scale(self):\n",
        "        return np.min([\n",
        "            np.power(self.n_current_steps, -0.5),\n",
        "            np.power(self.n_warmup_steps, -1.5) * self.n_current_steps])\n",
        "\n",
        "    def _update_learning_rate(self):\n",
        "        ''' Learning rate scheduling per step '''\n",
        "\n",
        "        self.n_current_steps += 1\n",
        "        lr = self.init_lr * self._get_lr_scale()\n",
        "\n",
        "        for param_group in self._optimizer.param_groups:\n",
        "            param_group['lr'] = lr\n",
        "\n"
      ],
      "execution_count": 0,
      "outputs": []
    },
    {
      "cell_type": "code",
      "metadata": {
        "id": "NV2jC2Isd8H1",
        "colab_type": "code",
        "colab": {}
      },
      "source": [
        "def train(train_loader, valid_loader, model, optim, criterion, num_epochs):\n",
        "    print_every = 500\n",
        "    model.train()\n",
        "\n",
        "    lowest_val = 1e9\n",
        "    train_losses = []\n",
        "    val_losses = []\n",
        "    total_step = 0\n",
        "    for epoch in range(num_epochs):\n",
        "        pbar = tqdm(total=print_every, leave=False)\n",
        "        total_loss = 0\n",
        "\n",
        "        train_loader.dataset.shuffle_batches()\n",
        "        for step, (src, src_key_padding_mask, tgt, tgt_key_padding_mask) in enumerate(iter(train_loader)):\n",
        "            total_step += 1\n",
        "\n",
        "            src, src_key_padding_mask = src[0].to('cuda'), src_key_padding_mask[0].to('cuda')\n",
        "            tgt, tgt_key_padding_mask = tgt[0].to('cuda'), tgt_key_padding_mask[0].to('cuda')\n",
        "\n",
        "            memory_key_padding_mask = src_key_padding_mask.clone()\n",
        "            tgt_inp, tgt_out = tgt[:, :-1], tgt[:, 1:]\n",
        "            tgt_mask = gen_nopeek_mask(tgt_inp.shape[1]).to('cuda')\n",
        "\n",
        "            optim.zero_grad()\n",
        "            outputs = model(src, tgt_inp, src_key_padding_mask, tgt_key_padding_mask[:, :-1], memory_key_padding_mask, tgt_mask)\n",
        "            loss = criterion(rearrange(outputs, 'b t v -> (b t) v'), rearrange(tgt_out, 'b o -> (b o)'))\n",
        "\n",
        "            loss.backward()\n",
        "            optim.step_and_update_lr()\n",
        "\n",
        "            total_loss += loss.item()\n",
        "            train_losses.append((step, loss.item()))\n",
        "            pbar.update(1)\n",
        "            if step % print_every == print_every - 1:\n",
        "                pbar.close()\n",
        "                print(f'Epoch [{epoch + 1} / {num_epochs}] \\t Step [{step + 1} / {len(train_loader)}] \\t '\n",
        "                      f'Train Loss: {total_loss / print_every}')\n",
        "                total_loss = 0\n",
        "\n",
        "                pbar = tqdm(total=print_every, leave=False)\n",
        "\n",
        "        pbar.close()\n",
        "        val_loss = validate(valid_loader, model, criterion)\n",
        "        val_losses.append((total_step, val_loss))\n",
        "        if val_loss < lowest_val:\n",
        "            lowest_val = val_loss\n",
        "            torch.save(model, 'output/transformer.pth')\n",
        "        print(f'Val Loss: {val_loss}')\n",
        "    return train_losses, val_losses\n",
        "\n",
        "\n",
        "def validate(valid_loader, model, criterion):\n",
        "    pbar = tqdm(total=len(iter(valid_loader)), leave=False)\n",
        "    model.eval()\n",
        "\n",
        "    total_loss = 0\n",
        "    for src, src_key_padding_mask, tgt, tgt_key_padding_mask in iter(valid_loader):\n",
        "        with torch.no_grad():\n",
        "            src, src_key_padding_mask = src[0].to('cuda'), src_key_padding_mask[0].to('cuda')\n",
        "            tgt, tgt_key_padding_mask = tgt[0].to('cuda'), tgt_key_padding_mask[0].to('cuda')\n",
        "            memory_key_padding_mask = src_key_padding_mask.clone()\n",
        "            tgt_inp = tgt[:, :-1]\n",
        "            tgt_out = tgt[:, 1:].contiguous()\n",
        "            tgt_mask = gen_nopeek_mask(tgt_inp.shape[1]).to('cuda')\n",
        "\n",
        "            outputs = model(src, tgt_inp, src_key_padding_mask, tgt_key_padding_mask[:, :-1], memory_key_padding_mask, tgt_mask)\n",
        "            loss = criterion(rearrange(outputs, 'b t v -> (b t) v'), rearrange(tgt_out, 'b o -> (b o)'))\n",
        "\n",
        "            total_loss += loss.item()\n",
        "            pbar.update(1)\n",
        "\n",
        "    pbar.close()\n",
        "    model.train()\n",
        "    return total_loss / len(valid_loader)\n",
        "\n",
        "\n",
        "def gen_nopeek_mask(length):\n",
        "    mask = rearrange(torch.triu(torch.ones(length, length)) == 1, 'h w -> w h')\n",
        "    mask = mask.float().masked_fill(mask == 0, float('-inf')).masked_fill(mask == 1, float(0.0))\n",
        "    return mask"
      ],
      "execution_count": 0,
      "outputs": []
    },
    {
      "cell_type": "code",
      "metadata": {
        "id": "MwUsgjTygwm-",
        "colab_type": "code",
        "colab": {}
      },
      "source": [
        "kwargs = {\n",
        "    'num_epochs': 20,\n",
        "    'max_seq_length': 96,\n",
        "    'num_tokens': 2000,\n",
        "    'vocab_size': 10000+4,\n",
        "    'd_model': 512,\n",
        "    'num_encoder_layers': 6,\n",
        "    'num_decoder_layers': 6,\n",
        "    'dim_feedforward': 2048,\n",
        "    'nhead': 8,\n",
        "    'pos_dropout': 0.1,\n",
        "    'trans_dropout': 0.1,\n",
        "    'n_warmup_steps': 4000\n",
        "}"
      ],
      "execution_count": 0,
      "outputs": []
    },
    {
      "cell_type": "code",
      "metadata": {
        "id": "RspHKWOthXrs",
        "colab_type": "code",
        "colab": {}
      },
      "source": [
        "train_dataset = ParallelLanguageDataset(root + 'data/processed/en/train.pkl',\n",
        "                                        root + 'data/processed/fr/train.pkl',\n",
        "                                        kwargs['num_tokens'], kwargs['max_seq_length'])\n",
        "train_loader = DataLoader(train_dataset, batch_size=1, shuffle=True, num_workers=4, pin_memory=True)\n",
        "valid_dataset = ParallelLanguageDataset(root + 'data/processed/en/val.pkl',\n",
        "                                        root + 'data/processed/fr/val.pkl',\n",
        "                                        kwargs['num_tokens'], kwargs['max_seq_length'])\n",
        "valid_loader = DataLoader(valid_dataset, batch_size=1, shuffle=True, num_workers=4, pin_memory=True)"
      ],
      "execution_count": 0,
      "outputs": []
    },
    {
      "cell_type": "code",
      "metadata": {
        "id": "jnP2tyOGhgMO",
        "colab_type": "code",
        "colab": {}
      },
      "source": [
        "src, src_key_padding_mask, tgt, tgt_key_padding_mask = train_dataset[100]\n",
        "print(src.shape)\n",
        "print(tgt.shape)"
      ],
      "execution_count": 0,
      "outputs": []
    },
    {
      "cell_type": "code",
      "metadata": {
        "id": "3S7ltY2jrR2m",
        "colab_type": "code",
        "colab": {}
      },
      "source": [
        ""
      ],
      "execution_count": 0,
      "outputs": []
    },
    {
      "cell_type": "code",
      "metadata": {
        "id": "xnA9YQ9Mgvei",
        "colab_type": "code",
        "colab": {}
      },
      "source": [
        "model = LanguageTransformer(kwargs['vocab_size'], kwargs['d_model'], kwargs['nhead'], kwargs['num_encoder_layers'],\n",
        "                            kwargs['num_decoder_layers'], kwargs['dim_feedforward'], kwargs['max_seq_length'],\n",
        "                            kwargs['pos_dropout'], kwargs['trans_dropout']).to('cuda')\n",
        "for p in model.parameters():\n",
        "    if p.dim() > 1:\n",
        "        nn.init.xavier_normal_(p)\n",
        "\n",
        "optim = ScheduledOptim(\n",
        "    Adam(model.parameters(), betas=(0.9, 0.98), eps=1e-09),\n",
        "    kwargs['d_model'], kwargs['n_warmup_steps'])\n",
        "\n",
        "criterion = nn.CrossEntropyLoss(ignore_index=0)"
      ],
      "execution_count": 0,
      "outputs": []
    },
    {
      "cell_type": "code",
      "metadata": {
        "id": "d3FvWIMWpRpl",
        "colab_type": "code",
        "colab": {}
      },
      "source": [
        "print_every = 500\n",
        "model.train()\n",
        "\n",
        "lowest_val = 1e9\n",
        "train_losses = []\n",
        "val_losses = []\n",
        "total_step = 0"
      ],
      "execution_count": 0,
      "outputs": []
    },
    {
      "cell_type": "code",
      "metadata": {
        "id": "ND4J-jJbxjCa",
        "colab_type": "code",
        "colab": {}
      },
      "source": [
        "# for epoch in range(kwargs['num_epochs']):\n",
        "epoch = 1"
      ],
      "execution_count": 0,
      "outputs": []
    },
    {
      "cell_type": "code",
      "metadata": {
        "id": "EOkl_I_exku2",
        "colab_type": "code",
        "colab": {}
      },
      "source": [
        "pbar = tqdm(total=print_every, leave=False)\n",
        "total_loss = 0\n",
        "train_loader.dataset.shuffle_batches()\n",
        "\n",
        "# for step, (src, src_key_padding_mask, tgt, tgt_key_padding_mask) in enumerate(iter(train_loader)):\n",
        "step, (src, src_key_padding_mask, tgt, tgt_key_padding_mask) = next(enumerate(iter(train_loader)))"
      ],
      "execution_count": 0,
      "outputs": []
    },
    {
      "cell_type": "code",
      "metadata": {
        "id": "Ze5Xan60zjN3",
        "colab_type": "code",
        "colab": {}
      },
      "source": [
        "print(src.shape, tgt.shape)\n",
        "\n",
        "total_step += 1\n",
        "\n",
        "src, src_key_padding_mask = src[0].to('cuda'), src_key_padding_mask[0].to('cuda')\n",
        "tgt, tgt_key_padding_mask = tgt[0].to('cuda'), tgt_key_padding_mask[0].to('cuda')\n",
        "\n",
        "print(src.shape)\n",
        "print(tgt.shape)"
      ],
      "execution_count": 0,
      "outputs": []
    },
    {
      "cell_type": "code",
      "metadata": {
        "id": "wUjqMCvt3U_J",
        "colab_type": "code",
        "colab": {}
      },
      "source": [
        "memory_key_padding_mask = src_key_padding_mask.clone()"
      ],
      "execution_count": 0,
      "outputs": []
    },
    {
      "cell_type": "code",
      "metadata": {
        "id": "G5kF69V45F0X",
        "colab_type": "code",
        "colab": {}
      },
      "source": [
        "tgt_inp, tgt_out = tgt[:, :-1], tgt[:, 1:] # shift for 1 position"
      ],
      "execution_count": 0,
      "outputs": []
    },
    {
      "cell_type": "code",
      "metadata": {
        "id": "mOf5mPfJ5HYK",
        "colab_type": "code",
        "colab": {}
      },
      "source": [
        "tgt_inp.shape"
      ],
      "execution_count": 0,
      "outputs": []
    },
    {
      "cell_type": "code",
      "metadata": {
        "id": "5yJfGknU5Lh1",
        "colab_type": "code",
        "colab": {}
      },
      "source": [
        "tgt_out.shape"
      ],
      "execution_count": 0,
      "outputs": []
    },
    {
      "cell_type": "code",
      "metadata": {
        "id": "E2aq9-DW57CB",
        "colab_type": "code",
        "colab": {}
      },
      "source": [
        "def gen_nopeek_mask(length):\n",
        "    mask = rearrange(torch.triu(torch.ones(length, length)) == 1, 'h w -> w h')\n",
        "    mask = rearrange(torch.triu(torch.ones(length, length)) == 1, 'h w -> w h')\n",
        "    mask = mask.float().masked_fill(mask == 0, float('-inf')).masked_fill(mask == 1, float(0.0))\n",
        "    return mask\n",
        "\n",
        "gen_nopeek_mask(tgt_inp.shape[1])"
      ],
      "execution_count": 0,
      "outputs": []
    },
    {
      "cell_type": "code",
      "metadata": {
        "id": "E2MF0MHn8VKv",
        "colab_type": "code",
        "colab": {}
      },
      "source": [
        "tgt_mask = gen_nopeek_mask(tgt_inp.shape[1]).to('cuda')"
      ],
      "execution_count": 0,
      "outputs": []
    },
    {
      "cell_type": "code",
      "metadata": {
        "id": "IFevNzG_yl_W",
        "colab_type": "code",
        "colab": {}
      },
      "source": [
        "optim.zero_grad()\n",
        "outputs = model(src, tgt_inp, src_key_padding_mask, tgt_key_padding_mask[:, :-1], memory_key_padding_mask, tgt_mask)\n",
        "loss = criterion(rearrange(outputs, 'b t v -> (b t) v'), rearrange(tgt_out, 'b o -> (b o)'))"
      ],
      "execution_count": 0,
      "outputs": []
    },
    {
      "cell_type": "code",
      "metadata": {
        "id": "J2mjXkUB8lxT",
        "colab_type": "code",
        "colab": {}
      },
      "source": [
        "outputs.shape"
      ],
      "execution_count": 0,
      "outputs": []
    },
    {
      "cell_type": "code",
      "metadata": {
        "id": "K0Wo1KoS8d1G",
        "colab_type": "code",
        "colab": {}
      },
      "source": [
        "rearrange(outputs, 'b t v -> (b t) v').shape"
      ],
      "execution_count": 0,
      "outputs": []
    },
    {
      "cell_type": "code",
      "metadata": {
        "id": "XA9eENjWI5c9",
        "colab_type": "code",
        "colab": {}
      },
      "source": [
        "rearrange(tgt_out, 'b o -> (b o)').shape"
      ],
      "execution_count": 0,
      "outputs": []
    },
    {
      "cell_type": "code",
      "metadata": {
        "id": "aug6U-WOAzcR",
        "colab_type": "code",
        "colab": {}
      },
      "source": [
        "rearrange(np.array([]))"
      ],
      "execution_count": 0,
      "outputs": []
    },
    {
      "cell_type": "code",
      "metadata": {
        "id": "1CFZCC2f83Nt",
        "colab_type": "code",
        "colab": {}
      },
      "source": [
        ""
      ],
      "execution_count": 0,
      "outputs": []
    },
    {
      "cell_type": "code",
      "metadata": {
        "id": "ZNdLwMFc8cjO",
        "colab_type": "code",
        "colab": {}
      },
      "source": [
        "loss.backward()\n",
        "optim.step_and_update_lr()\n",
        "\n",
        "total_loss += loss.item()\n",
        "train_losses.append((step, loss.item()))\n",
        "pbar.update(1)\n",
        "if step % print_every == print_every - 1:\n",
        "    pbar.close()\n",
        "    print(f'Epoch [{epoch + 1} / {num_epochs}] \\t Step [{step + 1} / {len(train_loader)}] \\t '\n",
        "          f'Train Loss: {total_loss / print_every}')\n",
        "    total_loss = 0\n",
        "\n",
        "    pbar = tqdm(total=print_every, leave=False)"
      ],
      "execution_count": 0,
      "outputs": []
    },
    {
      "cell_type": "code",
      "metadata": {
        "id": "QhUT2foyvnFy",
        "colab_type": "code",
        "colab": {}
      },
      "source": [
        "pbar.close()\n",
        "val_loss = validate(valid_loader, model, criterion)\n",
        "val_losses.append((total_step, val_loss))\n",
        "if val_loss < lowest_val:\n",
        "    lowest_val = val_loss\n",
        "    torch.save(model, 'output/transformer.pth')\n",
        "print(f'Val Loss: {val_loss}')"
      ],
      "execution_count": 0,
      "outputs": []
    }
  ]
}