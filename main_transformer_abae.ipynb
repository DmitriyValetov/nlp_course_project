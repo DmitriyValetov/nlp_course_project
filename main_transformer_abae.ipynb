{
  "nbformat": 4,
  "nbformat_minor": 0,
  "metadata": {
    "colab": {
      "name": "main_transformer_abae.ipynb",
      "provenance": [],
      "collapsed_sections": []
    },
    "kernelspec": {
      "name": "python3",
      "display_name": "Python 3"
    },
    "accelerator": "GPU"
  },
  "cells": [
    {
      "cell_type": "code",
      "metadata": {
        "id": "BB8HXRc_chEG",
        "colab_type": "code",
        "colab": {}
      },
      "source": [
        "config = {\n",
        "    'd_model': 200,\n",
        "    'aspects_num': 50,\n",
        "    'nhead': 4, # 8,\n",
        "    'num_encoder_layers': 3, # 6\n",
        "    'num_decoder_layers': 3, # 6\n",
        "    'dim_feedforward': 2048,\n",
        "    'pos_dropout': 0.2,\n",
        "    'trans_dropout': 0.2,\n",
        "    'batch_size': 64,\n",
        "}\n",
        "\n",
        "import os\n",
        "root = \"drive/My Drive/Colab Notebooks/huawei/project/generations/\"\n",
        "texts_path = os.path.join(root, \"stop_lem_norm_sents_ria.json.gz\")"
      ],
      "execution_count": 0,
      "outputs": []
    },
    {
      "cell_type": "code",
      "metadata": {
        "id": "WRpxX6rCdGVM",
        "colab_type": "code",
        "outputId": "0116072b-eaa0-41e3-a750-c928d9d97c36",
        "colab": {
          "base_uri": "https://localhost:8080/",
          "height": 128
        }
      },
      "source": [
        "from google.colab import drive\n",
        "drive.mount('/content/drive')"
      ],
      "execution_count": 2,
      "outputs": [
        {
          "output_type": "stream",
          "text": [
            "Go to this URL in a browser: https://accounts.google.com/o/oauth2/auth?client_id=947318989803-6bn6qk8qdgf4n4g3pfee6491hc0brc4i.apps.googleusercontent.com&redirect_uri=urn%3aietf%3awg%3aoauth%3a2.0%3aoob&response_type=code&scope=email%20https%3a%2f%2fwww.googleapis.com%2fauth%2fdocs.test%20https%3a%2f%2fwww.googleapis.com%2fauth%2fdrive%20https%3a%2f%2fwww.googleapis.com%2fauth%2fdrive.photos.readonly%20https%3a%2f%2fwww.googleapis.com%2fauth%2fpeopleapi.readonly\n",
            "\n",
            "Enter your authorization code:\n",
            "··········\n",
            "Mounted at /content/drive\n"
          ],
          "name": "stdout"
        }
      ]
    },
    {
      "cell_type": "code",
      "metadata": {
        "id": "-KEJUKEFM8OR",
        "colab_type": "code",
        "outputId": "4d942fd9-2082-4234-9113-f1850963e9dd",
        "colab": {
          "base_uri": "https://localhost:8080/",
          "height": 310
        }
      },
      "source": [
        "!pip install pymorphy2\n",
        "!pip install einops"
      ],
      "execution_count": 3,
      "outputs": [
        {
          "output_type": "stream",
          "text": [
            "Collecting pymorphy2\n",
            "\u001b[?25l  Downloading https://files.pythonhosted.org/packages/a3/33/fff9675c68b5f6c63ec8c6e6ff57827dda28a1fa5b2c2d727dffff92dd47/pymorphy2-0.8-py2.py3-none-any.whl (46kB)\n",
            "\r\u001b[K     |███████                         | 10kB 20.5MB/s eta 0:00:01\r\u001b[K     |██████████████▏                 | 20kB 25.3MB/s eta 0:00:01\r\u001b[K     |█████████████████████▎          | 30kB 30.9MB/s eta 0:00:01\r\u001b[K     |████████████████████████████▍   | 40kB 34.6MB/s eta 0:00:01\r\u001b[K     |████████████████████████████████| 51kB 7.5MB/s \n",
            "\u001b[?25hCollecting dawg-python>=0.7\n",
            "  Downloading https://files.pythonhosted.org/packages/6a/84/ff1ce2071d4c650ec85745766c0047ccc3b5036f1d03559fd46bb38b5eeb/DAWG_Python-0.7.2-py2.py3-none-any.whl\n",
            "Requirement already satisfied: docopt>=0.6 in /usr/local/lib/python3.6/dist-packages (from pymorphy2) (0.6.2)\n",
            "Collecting pymorphy2-dicts<3.0,>=2.4\n",
            "\u001b[?25l  Downloading https://files.pythonhosted.org/packages/02/51/2465fd4f72328ab50877b54777764d928da8cb15b74e2680fc1bd8cb3173/pymorphy2_dicts-2.4.393442.3710985-py2.py3-none-any.whl (7.1MB)\n",
            "\u001b[K     |████████████████████████████████| 7.1MB 19.4MB/s \n",
            "\u001b[?25hInstalling collected packages: dawg-python, pymorphy2-dicts, pymorphy2\n",
            "Successfully installed dawg-python-0.7.2 pymorphy2-0.8 pymorphy2-dicts-2.4.393442.3710985\n",
            "Collecting einops\n",
            "  Downloading https://files.pythonhosted.org/packages/89/32/5ded0a73d2e14ef5a6908a930c3e1e9f92ffead482a2f153182b7429066e/einops-0.2.0-py2.py3-none-any.whl\n",
            "Installing collected packages: einops\n",
            "Successfully installed einops-0.2.0\n"
          ],
          "name": "stdout"
        }
      ]
    },
    {
      "cell_type": "code",
      "metadata": {
        "id": "okcgOCw7M-tL",
        "colab_type": "code",
        "outputId": "423f4615-dac4-4920-cd82-5245d59a5e5c",
        "colab": {
          "base_uri": "https://localhost:8080/",
          "height": 164
        }
      },
      "source": [
        "%matplotlib inline\n",
        "import seaborn as sns\n",
        "import matplotlib.pyplot as plt\n",
        "\n",
        "\n",
        "from __future__ import unicode_literals, print_function, division\n",
        "from io import open\n",
        "import unicodedata\n",
        "import string\n",
        "import re\n",
        "import random\n",
        "from collections import defaultdict\n",
        "import numpy as np\n",
        "from einops import rearrange\n",
        "\n",
        "import nltk\n",
        "from nltk.corpus import stopwords\n",
        "nltk.download('stopwords')\n",
        "nltk.download('punkt')\n",
        "\n",
        "from sklearn.datasets import fetch_20newsgroups\n",
        "\n",
        "from nltk import word_tokenize\n",
        "from nltk.tokenize import sent_tokenize, word_tokenize\n",
        "\n",
        "import pymorphy2\n",
        "import re\n",
        "\n",
        "\n",
        "import os\n",
        "import gzip\n",
        "import time\n",
        "import json\n",
        "import tqdm\n",
        "from bs4 import BeautifulSoup\n",
        "\n",
        "import torch\n",
        "import torch.nn as nn\n",
        "from torch.optim import Adam\n",
        "import torch.nn.functional as F\n",
        "\n",
        "device = torch.device(\"cuda\" if torch.cuda.is_available() else \"cpu\")\n",
        "print(f\"Using {device}\")\n",
        "\n",
        "\n",
        "def save_texts(texts, titles, filename):\n",
        "  dump_texts = os.path.join(root, filename)\n",
        "  with open(file=dump_texts, mode='w') as f:\n",
        "    json.dump({'texts': texts, 'titles': titles}, f)\n",
        "\n",
        "def load_texts(filename):\n",
        "  dump_texts = os.path.join(root, filename)\n",
        "  with open(file=dump_texts, mode='r') as f:\n",
        "    data = json.load(f)\n",
        "  return data['texts'], data['titles']"
      ],
      "execution_count": 4,
      "outputs": [
        {
          "output_type": "stream",
          "text": [
            "/usr/local/lib/python3.6/dist-packages/statsmodels/tools/_testing.py:19: FutureWarning: pandas.util.testing is deprecated. Use the functions in the public API at pandas.testing instead.\n",
            "  import pandas.util.testing as tm\n"
          ],
          "name": "stderr"
        },
        {
          "output_type": "stream",
          "text": [
            "[nltk_data] Downloading package stopwords to /root/nltk_data...\n",
            "[nltk_data]   Unzipping corpora/stopwords.zip.\n",
            "[nltk_data] Downloading package punkt to /root/nltk_data...\n",
            "[nltk_data]   Unzipping tokenizers/punkt.zip.\n",
            "Using cuda\n"
          ],
          "name": "stdout"
        }
      ]
    },
    {
      "cell_type": "markdown",
      "metadata": {
        "id": "3qnoS4q_NCbT",
        "colab_type": "text"
      },
      "source": [
        "# Preprocess ria news"
      ]
    },
    {
      "cell_type": "code",
      "metadata": {
        "id": "eHAyJk9sEAP1",
        "colab_type": "code",
        "outputId": "2f9d3fb3-abb4-47f4-80c0-cd270b1cb838",
        "colab": {
          "base_uri": "https://localhost:8080/",
          "height": 35
        }
      },
      "source": [
        "# new\n",
        "lines = []\n",
        "with gzip.open(texts_path, 'rb') as f:\n",
        "  for line in tqdm.tqdm(f):\n",
        "    lines.append(json.loads(line))"
      ],
      "execution_count": 0,
      "outputs": [
        {
          "output_type": "stream",
          "text": [
            "1003869it [00:44, 22672.49it/s]\n"
          ],
          "name": "stderr"
        }
      ]
    },
    {
      "cell_type": "code",
      "metadata": {
        "id": "w_5uoUEhEYeQ",
        "colab_type": "code",
        "outputId": "21e2e667-17ca-4788-f17a-5c23d4504705",
        "colab": {
          "base_uri": "https://localhost:8080/",
          "height": 53
        }
      },
      "source": [
        "print(len(lines))\n",
        "lines = list(filter(lambda x: len(x['title'])!=0 and len(x['title'][0])>0 and len(x['text'])>1 and len(x['text'][1])>0, lines))\n",
        "print(len(lines))"
      ],
      "execution_count": 0,
      "outputs": [
        {
          "output_type": "stream",
          "text": [
            "1003869\n",
            "994580\n"
          ],
          "name": "stdout"
        }
      ]
    },
    {
      "cell_type": "code",
      "metadata": {
        "id": "mvZrDSO-EZLO",
        "colab_type": "code",
        "outputId": "305b443f-0281-4e39-989b-952b9b75063c",
        "colab": {
          "base_uri": "https://localhost:8080/",
          "height": 513
        }
      },
      "source": [
        "lens = [len(l['text'][1]) for l in lines]\n",
        "sns.distplot(lens)\n",
        "plt.show()\n",
        "plt.close()\n",
        "\n",
        "lens = [len(l['title'][0]) for l in lines]\n",
        "sns.distplot(lens)\n",
        "plt.show()\n",
        "plt.close()"
      ],
      "execution_count": 0,
      "outputs": [
        {
          "output_type": "display_data",
          "data": {
            "image/png": "[encoded data removed]",
            "text/plain": [
              "<Figure size 432x288 with 1 Axes>"
            ]
          },
          "metadata": {
            "tags": [],
            "needs_background": "light"
          }
        },
        {
          "output_type": "display_data",
          "data": {
            "image/png": "[encoded data removed]",
            "text/plain": [
              "<Figure size 432x288 with 1 Axes>"
            ]
          },
          "metadata": {
            "tags": [],
            "needs_background": "light"
          }
        }
      ]
    },
    {
      "cell_type": "code",
      "metadata": {
        "id": "V5vaOk64EaAA",
        "colab_type": "code",
        "outputId": "4634017e-4f1c-47b7-bab4-c1c3381b54f3",
        "colab": {
          "base_uri": "https://localhost:8080/",
          "height": 53
        }
      },
      "source": [
        "print(len(lines))\n",
        "lines = list(filter(lambda x: len(x['text'])!=0 and len(x['title'][0])<70 and len(x['title'][0])>30 and len(x['text'])>1 and len(x['text'][1])>5 and len(x['text'][1])<400, lines))\n",
        "print(len(lines))"
      ],
      "execution_count": 0,
      "outputs": [
        {
          "output_type": "stream",
          "text": [
            "994580\n",
            "942825\n"
          ],
          "name": "stdout"
        }
      ]
    },
    {
      "cell_type": "code",
      "metadata": {
        "id": "_iM6ZD-gEcPv",
        "colab_type": "code",
        "outputId": "28c0b21e-8497-4f9f-bfcf-ecf4fa5c3969",
        "colab": {
          "base_uri": "https://localhost:8080/",
          "height": 513
        }
      },
      "source": [
        "lens = [len(l['text'][1]) for l in lines]\n",
        "sns.distplot(lens)\n",
        "plt.show()\n",
        "plt.close()\n",
        "\n",
        "lens = [len(l['title'][0]) for l in lines]\n",
        "sns.distplot(lens)\n",
        "plt.show()\n",
        "plt.close()"
      ],
      "execution_count": 0,
      "outputs": [
        {
          "output_type": "display_data",
          "data": {
            "image/png": "[encoded data removed]",
            "text/plain": [
              "<Figure size 432x288 with 1 Axes>"
            ]
          },
          "metadata": {
            "tags": [],
            "needs_background": "light"
          }
        },
        {
          "output_type": "display_data",
          "data": {
            "image/png": "[encoded data removed]",
            "text/plain": [
              "<Figure size 432x288 with 1 Axes>"
            ]
          },
          "metadata": {
            "tags": [],
            "needs_background": "light"
          }
        }
      ]
    },
    {
      "cell_type": "code",
      "metadata": {
        "id": "j6txwOW8EdiF",
        "colab_type": "code",
        "outputId": "0c4bf41e-4eb4-4217-8ea2-56f98dd301e7",
        "colab": {
          "base_uri": "https://localhost:8080/",
          "height": 53
        }
      },
      "source": [
        "print(len(lines))\n",
        "lines = lines[:100000]\n",
        "print(len(lines))"
      ],
      "execution_count": 0,
      "outputs": [
        {
          "output_type": "stream",
          "text": [
            "942825\n",
            "100000\n"
          ],
          "name": "stdout"
        }
      ]
    },
    {
      "cell_type": "code",
      "metadata": {
        "id": "co_qy_rlEgLN",
        "colab_type": "code",
        "outputId": "318c390c-4d62-4889-bab0-f429ff7e02d1",
        "colab": {
          "base_uri": "https://localhost:8080/",
          "height": 513
        }
      },
      "source": [
        "lens = [len(l['text'][1]) for l in lines]\n",
        "sns.distplot(lens)\n",
        "plt.show()\n",
        "plt.close()\n",
        "\n",
        "lens = [len(l['title'][0]) for l in lines]\n",
        "sns.distplot(lens)\n",
        "plt.show()\n",
        "plt.close()"
      ],
      "execution_count": 0,
      "outputs": [
        {
          "output_type": "display_data",
          "data": {
            "image/png": "[encoded data removed]",
            "text/plain": [
              "<Figure size 432x288 with 1 Axes>"
            ]
          },
          "metadata": {
            "tags": [],
            "needs_background": "light"
          }
        },
        {
          "output_type": "display_data",
          "data": {
            "image/png": "[encoded data removed]",
            "text/plain": [
              "<Figure size 432x288 with 1 Axes>"
            ]
          },
          "metadata": {
            "tags": [],
            "needs_background": "light"
          }
        }
      ]
    },
    {
      "cell_type": "code",
      "metadata": {
        "id": "CrVZU4kvNF9x",
        "colab_type": "code",
        "outputId": "1d1a1175-6eb6-48c1-9f49-b2d8ce5e5d9e",
        "colab": {
          "base_uri": "https://localhost:8080/",
          "height": 35
        }
      },
      "source": [
        "morph = pymorphy2.MorphAnalyzer()\n",
        "pattern = re.compile(\"^[а-яА-Я]+$\")\n",
        "\n",
        "texts = []\n",
        "titles = []\n",
        "\n",
        "def process_sentence(sentence):\n",
        "    words = [w for w in nltk.word_tokenize(sentence) if w not in stopwords.words(\"russian\") and pattern.match(w)]\n",
        "    words = [morph.parse(word)[0].normal_form.lower() for word in words]\n",
        "    return words\n",
        "\n",
        "for line_i in tqdm.tqdm(range(len(lines))):\n",
        "    text  = lines[line_i]['text'][1] # [0] - is a paper name and date\n",
        "    title = lines[line_i]['title'][0]\n",
        "    processed_text = process_sentence(text)\n",
        "    processed_title = process_sentence(title)\n",
        "    texts.append(processed_text)\n",
        "    titles.append(processed_title)"
      ],
      "execution_count": 0,
      "outputs": [
        {
          "output_type": "stream",
          "text": [
            "100%|██████████| 100000/100000 [11:08<00:00, 149.48it/s]\n"
          ],
          "name": "stderr"
        }
      ]
    },
    {
      "cell_type": "code",
      "metadata": {
        "id": "9St9F6kvHq4A",
        "colab_type": "code",
        "colab": {}
      },
      "source": [
        "save_texts(texts, titles, \"ria_text_titles.json\")"
      ],
      "execution_count": 0,
      "outputs": []
    },
    {
      "cell_type": "markdown",
      "metadata": {
        "id": "pmpGQn5VNL_p",
        "colab_type": "text"
      },
      "source": [
        "# Load data"
      ]
    },
    {
      "cell_type": "code",
      "metadata": {
        "id": "B-uC9447NOjo",
        "colab_type": "code",
        "outputId": "319a7240-5509-43d4-b2ce-e336d0a45c60",
        "colab": {
          "base_uri": "https://localhost:8080/",
          "height": 430
        }
      },
      "source": [
        "texts, titles = load_texts(\"ria_text_titles.json\") #\n",
        "# texts, titles = texts[:30000], titles[:30000]\n",
        "print(max([len(t) for t in texts]))\n",
        "\n",
        "\n",
        "\n",
        "SOS_token = 0 # start of string.\n",
        "EOS_token = 1 # end of string.\n",
        "PAD_token = 2\n",
        "UNK_token = 3\n",
        "\n",
        "class Lang: # like a vocabulary\n",
        "    def __init__(self, name):\n",
        "        self.name = name\n",
        "        self.word2index = {\"SOS\": 0, \"EOS\": 1, \"PAD\": PAD_token, 'UNK': UNK_token}\n",
        "        self.word2count = {}\n",
        "        self.index2word = {0: \"SOS\", 1: \"EOS\", PAD_token: \"PAD\", UNK_token: \"UNK\"}\n",
        "        self.n_words = len(self.word2index)\n",
        "        self.max_seq_length = None\n",
        "\n",
        "    def addSentence(self, sentence):\n",
        "        if self.max_seq_length is None:\n",
        "          self.max_seq_length = len(sentence)\n",
        "        elif self.max_seq_length < len(sentence):\n",
        "          self.max_seq_length = len(sentence)\n",
        "        for word in sentence:\n",
        "            self.addWord(word)\n",
        "\n",
        "    def addWord(self, word):\n",
        "        if word not in self.word2index:\n",
        "            self.word2index[word] = self.n_words\n",
        "            self.word2count[word] = 1\n",
        "            self.index2word[self.n_words] = word\n",
        "            self.n_words += 1\n",
        "        else:\n",
        "            self.word2count[word] += 1\n",
        "\n",
        "    def tensor2text(self, tensor):\n",
        "        return [self.index2word[token.item()] for token in tensor]\n",
        "        \n",
        "    def ids2text(self, numbers):\n",
        "      return [self.index2word[num] for num in numbers]\n",
        "\n",
        "    def text2ids(self, tokens):\n",
        "        return [self.word2index[token] if token in self.word2index else self.word2index['UNK'] for token in tokens]\n",
        "            \n",
        "def unicodeToAscii(s):\n",
        "    return ''.join(\n",
        "        c for c in unicodedata.normalize('NFD', s)\n",
        "        if unicodedata.category(c) != 'Mn'\n",
        "    )\n",
        "\n",
        "\n",
        "def normalizeString(s):\n",
        "    s = unicodeToAscii(s.lower().strip())\n",
        "    s = re.sub(r\"([.!?])\", r\" \\1\", s)\n",
        "    s = re.sub(r\"[^a-zA-Z.!?]+\", r\" \", s)\n",
        "    return s\n",
        "\n",
        "\n",
        "\n",
        "def prepareData(texts, titles):\n",
        "    pairs = [[txt, ttl] for txt, ttl in zip(texts, titles) if len(txt)>0 and len(ttl)>0 ]\n",
        "    lang = Lang('ru')\n",
        "\n",
        "    print(\"Read %s sentence pairs\" % len(pairs))\n",
        "    for pair in pairs:\n",
        "        lang.addSentence(pair[0])\n",
        "        lang.addSentence(pair[1])\n",
        "    print(\"Counted words:\")\n",
        "    print(lang.name, lang.n_words)\n",
        "    return lang, pairs\n",
        "\n",
        "def indexesFromSentence(lang, sentence):\n",
        "    return [lang.word2index[word] for word in sentence]\n",
        "\n",
        "\n",
        "def tensorFromSentence(lang, sentence):\n",
        "    indexes = indexesFromSentence(lang, sentence)\n",
        "    indexes.append(EOS_token)\n",
        "    return torch.tensor(indexes, dtype=torch.long, device=device)\n",
        "\n",
        "\n",
        "def tensorsFromPair(pair):\n",
        "    input_tensor = tensorFromSentence(lang, pair[0])\n",
        "    target_tensor_t = tensorFromSentence(lang, pair[1][:-1])\n",
        "    target_tensor_l = tensorFromSentence(lang, pair[1])\n",
        "    return (input_tensor, target_tensor_t, target_tensor_l)\n",
        "\n",
        "\n",
        "lang, pairs = prepareData(texts, titles)\n",
        "print(random.choice(pairs))\n",
        "\n",
        "lens = [len(t) for t in texts]\n",
        "sns.distplot(lens)\n",
        "\n",
        "i = 100\n",
        "print(texts[i])\n",
        "print(titles[i])\n",
        "print(lang.max_seq_length)"
      ],
      "execution_count": 5,
      "outputs": [
        {
          "output_type": "stream",
          "text": [
            "51\n",
            "Read 99937 sentence pairs\n",
            "Counted words:\n",
            "ru 54937\n",
            "[['тренер', 'мюнхенский', 'бавария', 'луи', 'ван', 'галя', 'возможно', 'прийтись', 'обойтись', 'ведущий', 'полузащитник', 'франк', 'рибрать', 'первое', 'полуфинальный', 'матч', 'футбольный', 'лига', 'чемпион', 'против', 'французский', 'лион', 'который', 'состояться', 'среда', 'сообщать'], ['хавбек', 'бавария', 'рибрать', 'сыграть', 'лион', 'лч']]\n",
            "['часовня', 'память', 'пожилое', 'постоялец', 'сгореть', 'ровно', 'год', 'назад', 'дом', 'ветеран', 'сель', 'подъельск', 'корткеросский', 'район', 'республика', 'коми', 'установить', 'место', 'пепелище', 'год', 'заявить', 'риа', 'новость', 'воскресение', 'глава', 'администрация', 'муниципалитет', 'николай', 'доломина']\n",
            "['часовня', 'память', 'жертва', 'пожар', 'подъельск', 'установить']\n",
            "51\n"
          ],
          "name": "stdout"
        },
        {
          "output_type": "display_data",
          "data": {
            "image/png": "[encoded data removed]",
            "text/plain": [
              "<Figure size 432x288 with 1 Axes>"
            ]
          },
          "metadata": {
            "tags": [],
            "needs_background": "light"
          }
        }
      ]
    },
    {
      "cell_type": "markdown",
      "metadata": {
        "id": "R0FOQBL0NU0Z",
        "colab_type": "text"
      },
      "source": [
        "# Datasets"
      ]
    },
    {
      "cell_type": "code",
      "metadata": {
        "id": "Br5sXOantT0z",
        "colab_type": "code",
        "colab": {}
      },
      "source": [
        "from torch.utils.data.dataset import Dataset\n",
        "from torch.utils.data import DataLoader\n",
        "\n",
        "\n",
        "class HeadlinesDataset(Dataset):\n",
        "    def __init__(self, pairs, lang, batch_size):\n",
        "        self.pairs = pairs\n",
        "        self.lang = lang\n",
        "        self.batch_size = batch_size\n",
        "        self.batch_num = len(self.pairs)//batch_size\n",
        "        \n",
        "    def __getitem__(self, index): # todo: make number of pads depend on current batch max text, title length\n",
        "        srcs = []\n",
        "        srcs_lns = []\n",
        "        tgts = []\n",
        "        tgts_lns = []\n",
        "        for i in range(self.batch_size):\n",
        "          src, tgt = self.pairs[index*self.batch_size+i]\n",
        "          srcs.append(src)\n",
        "          srcs_lns.append(len(src))\n",
        "          tgts.append(tgt)\n",
        "          tgts_lns.append(len(tgt))\n",
        "\n",
        "        max_src_ln = max(srcs_lns)          \n",
        "        max_tgt_ln = max(tgts_lns)    \n",
        "\n",
        "        converted_srcs = []    \n",
        "        converted_tgts = []    \n",
        "        srcs_padding_masks = []\n",
        "        tgts_padding_masks = []\n",
        "\n",
        "        for i in range(len(srcs)):\n",
        "          converted_srcs.append(self.lang.text2ids(srcs[i]) + [self.lang.word2index['PAD']]*(max_src_ln-len(srcs[i]))) \n",
        "          srcs_padding_masks.append([False]*len(srcs[i]) + [True]*(max_src_ln-len(srcs[i])))\n",
        "\n",
        "          converted_tgts.append(\n",
        "              [self.lang.word2index['SOS']] + \n",
        "                self.lang.text2ids(tgts[i]) + \n",
        "              [self.lang.word2index['EOS']] + \n",
        "              [self.lang.word2index['PAD']]*(max_tgt_ln-len(tgts[i]))\n",
        "              ) \n",
        "          tgts_padding_masks.append([False]*(len(tgts[i])+2) + [True]*(max_tgt_ln-len(tgts[i])))\n",
        "\n",
        "        return (np.array(converted_srcs), np.array(converted_tgts), np.array(srcs_padding_masks), np.array(tgts_padding_masks))\n",
        "\n",
        "    def __len__(self):\n",
        "        return self.batch_num\n",
        "\n",
        "\n",
        "# train_dataset = HeadlinesDataset(pairs[1024:], lang, batch_size=config['batch_size'])\n",
        "# test_dataset  = HeadlinesDataset(pairs[:1024], lang, batch_size=config['batch_size'])\n",
        "\n",
        "# train_loader = DataLoader(train_dataset, batch_size=1, shuffle=True, num_workers=4, pin_memory=True)\n",
        "# test_loader = DataLoader(test_dataset, batch_size=1, shuffle=True, num_workers=4, pin_memory=True)\n",
        "\n",
        "# src, tgt, src_key_padding_mask, tgt_key_padding_mask =  next(iter(train_loader))\n",
        "# src, tgt, src_key_padding_mask, tgt_key_padding_mask =  next(iter(test_loader))\n",
        "# print(src)\n",
        "# print(tgt)\n",
        "# print(src_key_padding_mask)\n",
        "# print(tgt_key_padding_mask)"
      ],
      "execution_count": 0,
      "outputs": []
    },
    {
      "cell_type": "code",
      "metadata": {
        "id": "Lba3Xjzde5tp",
        "colab_type": "code",
        "colab": {}
      },
      "source": [
        "class ABAEDataset(Dataset):\n",
        "    def __init__(self, pairs, lang, m):\n",
        "        self.m = m\n",
        "        self.lang = lang\n",
        "        self.sentences = [p[0] for p in pairs] # + [p[1] for p in pairs]\n",
        "        random.shuffle(self.sentences)\n",
        "        assert(self.m+1<len(self.sentences))\n",
        "\n",
        "    def __len__(self):\n",
        "        return len(self.sentences)\n",
        "\n",
        "    def __getitem__(self, idx):\n",
        "        ps = self.sentences[idx]\n",
        "        ns_i = random.sample(range(len(self)), self.m)\n",
        "        ns = [self.sentences[i] for i in ns_i]\n",
        "        ps = self.lang.text2ids(ps)\n",
        "        ns = [self.lang.text2ids(s) for s in ns]\n",
        "        return ps, ns\n",
        "\n",
        "\n",
        "def collate_fn(batch):\n",
        "    ps_list = [b[0] for b in batch]\n",
        "    ns_lists = [b[1] for b in batch]\n",
        "    return ps_list, ns_lists\n",
        "\n",
        "\n",
        "# ds = ABAEDataset(pairs, lang, 20)\n",
        "# dataloader = DataLoader(ds, batch_size=3, collate_fn=collate_fn)\n",
        "# btch = next(iter(dataloader))\n",
        "# print(len(btch[0]))\n",
        "# print(len(btch[1]))"
      ],
      "execution_count": 0,
      "outputs": []
    },
    {
      "cell_type": "markdown",
      "metadata": {
        "id": "HTf3m8gdNcJr",
        "colab_type": "text"
      },
      "source": [
        "# Prepear word embeddings"
      ]
    },
    {
      "cell_type": "code",
      "metadata": {
        "id": "umLFEfBM3Kkh",
        "colab_type": "code",
        "colab": {}
      },
      "source": [
        "config = {\n",
        "    'd_model': 300,\n",
        "    'aspects_num': 100,\n",
        "    'abae_regilarize': 0.000001,\n",
        "    'abae_batch_size': 512,\n",
        "    'abae_negative_m': 20,\n",
        "    'nhead': 4, # 8,\n",
        "    'num_encoder_layers': 3, # 6\n",
        "    'num_decoder_layers': 3, # 6\n",
        "    'dim_feedforward': 2048,\n",
        "    'pos_dropout': 0.2,\n",
        "    'trans_dropout': 0.2,\n",
        "    'batch_size': 64,\n",
        "}"
      ],
      "execution_count": 0,
      "outputs": []
    },
    {
      "cell_type": "code",
      "metadata": {
        "id": "Wty7UgXlNIXZ",
        "colab_type": "code",
        "outputId": "cb257ddf-69af-4a44-f04a-7c7bce9b24b9",
        "colab": {
          "base_uri": "https://localhost:8080/",
          "height": 128
        }
      },
      "source": [
        "from random import shuffle\n",
        "\n",
        "union = []\n",
        "for pair in tqdm.tqdm(pairs):\n",
        "  union.append(['SOS']+pair[0]+['EOS']+['PAD']+['UNK'])\n",
        "  # union.append(['SOS']+pair[1]+['EOS']+['PAD']+['UNK'])\n",
        "\n",
        "shuffle(union)\n",
        "\n",
        "\n",
        "from gensim.models.word2vec import Word2Vec\n",
        "from multiprocessing import cpu_count\n",
        "\n",
        "model = Word2Vec(union, \n",
        "                 min_count = 0, \n",
        "                 workers=cpu_count(),\n",
        "                 size=config['d_model'],\n",
        "                 window=10,\n",
        "                 negative=5,\n",
        "                #  iter=100\n",
        "                )\n",
        "\n",
        "\n",
        "init_voc = set(lang.word2index.keys())\n",
        "wv_voc = set(model.wv.vocab.keys())\n",
        "print(len(wv_voc), len(init_voc))\n",
        "print(wv_voc - init_voc)\n",
        "print(init_voc - wv_voc)\n",
        "# assert(len(init_voc)==len(wv_voc))\n",
        "\n",
        "\n",
        "word_init_vectors = {}\n",
        "for w in model.wv.vocab:\n",
        "    word_init_vectors[w] = model[w].tolist()"
      ],
      "execution_count": 9,
      "outputs": [
        {
          "output_type": "stream",
          "text": [
            "100%|██████████| 99937/99937 [00:00<00:00, 258839.77it/s]\n"
          ],
          "name": "stderr"
        },
        {
          "output_type": "stream",
          "text": [
            "51383 54937\n",
            "set()\n",
            "{'рыбвуз', 'коммиссия', 'иззата', 'симулировать', 'чемберлен', 'дерибасовский', 'грбавица', 'жизнерадостность', 'газонокосилка', 'алгоголь', 'полиэфа', 'наставлять', 'строуба', 'девелоперсковать', 'уивинга', 'гостелеканал', 'натовец', 'граддокумент', 'помыть', 'помечать', 'алкотестер', 'экоочистка', 'рэп', 'матерный', 'наркоцентр', 'подлечить', 'сарбаза', 'умолять', 'телематик', 'капитолийский', 'фармхолдинг', 'сверженный', 'алчный', 'бранджелина', 'ртрс', 'долой', 'финреформа', 'разуть', 'пакистанка', 'окзаться', 'ютиться', 'знаменатель', 'сбрендить', 'оголять', 'туринфраструктура', 'хватка', 'мгц', 'авионика', 'кружалин', 'токсинный', 'экоэкспертиза', 'смешивать', 'взаимодейстовать', 'высоквалифицировать', 'краеведение', 'коневодство', 'эфроса', 'бланкенберг', 'партком', 'боголюбово', 'воцарение', 'тигринный', 'вредность', 'залезать', 'телебедата', 'литовка', 'раскопать', 'допвыбор', 'восторгаться', 'кроль', 'гербольдт', 'лейлата', 'кинологово', 'противиться', 'норильчанин', 'рабгруппа', 'внештатник', 'согреться', 'выпороть', 'фавор', 'ниагарский', 'маринад', 'спецтариф', 'ситуативный', 'автоутилизация', 'миститься', 'частушка', 'диабетик', 'сверхнеобычный', 'шанай', 'раздумать', 'заблоцкий', 'доброжелательно', 'сверхнастрой', 'финпродукт', 'нападениия', 'таможсоюз', 'фортуна', 'хаб', 'вьетан', 'работорговец', 'финпоказатель', 'тележурналистика', 'неотложка', 'экопроверка', 'хаэс', 'спортфедерация', 'ванкора', 'кухарка', 'колода', 'эквилибрист', 'вязка', 'демант', 'засучить', 'возничий', 'фарт', 'фатым', 'зашкалить', 'ратифиция', 'проплыть', 'слабоумный', 'макдональдс', 'флорбола', 'впрок', 'птеродактиль', 'исо', 'комнедвижимость', 'разбюрократить', 'оскаризация', 'скупость', 'стройзаказ', 'демобилизовать', 'потайной', 'утешение', 'дуйма', 'щи', 'наносталь', 'заточить', 'яблочник', 'аэрпорт', 'архихолодный', 'лунгинуть', 'мясорубка', 'кск', 'сверхрезультативный', 'вахтанговец', 'назир', 'непростительный', 'оптинский', 'гуанчэн', 'метростроение', 'профактивист', 'обругать', 'забодать', 'морковка', 'охранкультура', 'управитель', 'наноткань', 'порташник', 'цинизм', 'антивозрастной', 'соцкарта', 'ассистентский', 'сборище', 'политсила', 'письменно', 'авиаполигон', 'полкоманда', 'химкомпонент', 'свалять', 'контрреволюционный', 'оборонсистема', 'маоизм', 'автомастерская', 'продублировать', 'нумерология', 'минздравоцразвитие', 'прибалт', 'понуждать', 'ичуня', 'лохнесский', 'схимонахиня', 'ревнивец', 'олимпицйев', 'худеть', 'подвердить', 'неканонизированный', 'домофон', 'холик', 'цхинвала', 'лертчевакарн', 'новокузнечанин', 'лановый', 'стелс', 'неоскорбительный', 'комиссиона', 'талия', 'сливать', 'туруханск', 'заорганизовать', 'экоавтобус', 'блогосервис', 'канализационый', 'щедрость', 'спортсоревнование', 'ловец', 'балакин', 'погранкорабль', 'пастырь', 'ъ', 'фотографировать', 'поголовный', 'хазар', 'индианка', 'отдание', 'сокрушить', 'трентиньян', 'бессловесный', 'пику', 'освежать', 'мотофристайл', 'бальзамировать', 'опротестовывать', 'юи', 'тонко', 'лесопосадка', 'подерживать', 'бурят', 'закружиться', 'петрокоммерец', 'ахиллес', 'генпродюсер', 'щенник', 'сяопин', 'госкредит', 'капюссон', 'перерабытывать', 'меропритие', 'травмоцентр', 'рассорить', 'монорельс', 'восьмивек', 'предстоянуть', 'заранджа', 'хаарль', 'иммигрантский', 'орешек', 'ометить', 'бесперебойность', 'чертовый', 'родословный', 'пронацистский', 'переметнуться', 'медсопровождение', 'цыбулько', 'баланда', 'покаяться', 'фисать', 'махнуть', 'страхователь', 'вк', 'мотострелка', 'авиатерминал', 'выдох', 'изьёнок', 'заводила', 'подработать', 'прохудиться', 'опустелый', 'экмана', 'финуправление', 'казачка', 'южосетия', 'вылепить', 'сосчитать', 'трубовпроводный', 'паралето', 'младенчество', 'норхуг', 'шлёп', 'рукопожатие', 'слякоть', 'гондурасец', 'проникнутый', 'стометровка', 'фотосессия', 'покалечить', 'переизбирать', 'выпивка', 'госинформация', 'возобнолять', 'северномый', 'робоавтомобиль', 'научсовет', 'отрывать', 'сдоба', 'валлиец', 'хулюд', 'суддепартамент', 'муранов', 'экопост', 'гмси', 'углепластик', 'декламировать', 'стройотрасль', 'цветочек', 'сарафанный', 'метраж', 'хмб', 'геленджикский', 'закваска', 'александринка', 'полумесячный', 'рытиковый', 'огосударствление', 'опекунский', 'лжесвященник', 'лисичка', 'политубежище', 'фаера', 'променять', 'генкосул', 'неконкурентоспособный', 'симбиоз', 'ветпост', 'медимагнат', 'хвалиться', 'морщина', 'досмотровый', 'спецлента', 'храбриться', 'куличик', 'утянуть', 'милла', 'незащищенность', 'соцдоплата', 'хитровка', 'экозона', 'прииртыший', 'наводнить', 'краснеть', 'правомочность', 'искаженно', 'веять', 'вложиться', 'неистовый', 'уйгур', 'техдефолт', 'трусость', 'спусковой', 'медеведеть', 'госземля', 'натереть', 'трн', 'заводиться', 'ломаться', 'турнаправление', 'модифицировать', 'леворадикал', 'бандеровец', 'двулапать', 'беннифобия', 'ковыкт', 'вилка', 'мужский', 'разруха', 'краковия', 'соцмагазин', 'центркома', 'эффективый', 'горпомещение', 'склиф', 'внеурочно', 'замгенсек', 'призойти', 'конфисковывать', 'фз', 'зелао', 'ветсертификат', 'вознаградить', 'гордо', 'чернобыл', 'аквилы', 'росводоресурс', 'копчение', 'недекларировать', 'рекомендательный', 'тронутый', 'инфотерминал', 'госпродажа', 'палестинка', 'стройрынок', 'сквотеры', 'донестись', 'тройняшка', 'подстрочник', 'баасистовый', 'эрих', 'шизофреник', 'федерал', 'продресурс', 'святотатец', 'рафаилия', 'путинский', 'алкоподполье', 'оспоривать', 'госсубсидия', 'праотец', 'саентолог', 'бербера', 'инвестбизнес', 'унывать', 'дагестанец', 'прямолинейный', 'орлик', 'сэйв', 'полдеревня', 'самоубийца', 'техсхема', 'шуметь', 'чик', 'минаржать', 'лжемонастырь', 'ммпк', 'саночистка', 'забрести', 'предверие', 'спецмарка', 'минтранссвязь', 'оперов', 'извергнуть', 'сумеречный', 'шампур', 'стуруа', 'авиаальянс', 'мутаген', 'самодержавие', 'шутейный', 'вооружить', 'притеснять', 'разгружать', 'обкатать', 'болтун', 'финагент', 'знахарка', 'кировчанка', 'обчистить', 'коренев', 'возмещаться', 'мундир', 'мультмаскарад', 'язычество', 'прихать', 'замглавый', 'политрепрессия', 'анджела', 'выползти', 'тематически', 'понадеяться', 'пожарить', 'ватный', 'взвинчивание', 'морозно', 'свиноферма', 'видеохроника', 'вицеспикер', 'полтысяча', 'мтюз', 'экоотель', 'осмотрительно', 'оргпреступный', 'бузакка', 'скандалить', 'божо', 'телескандал', 'фаип', 'родченков', 'обособленно', 'прозевать', 'живить', 'затравить', 'спецучреждение', 'проспорить', 'экономный', 'сплетничать', 'утеха', 'голодавщий', 'университат', 'гидрокостюм', 'рохуса', 'морщаков', 'назначенец', 'портвейн', 'неаккуратный', 'шенген', 'нехороший', 'колечко', 'перекрасить', 'медоперация', 'рафсанджани', 'соотносить', 'будивельнк', 'мрак', 'мезерберг', 'утаивать', 'евробондами', 'шайтан', 'растаможка', 'уд', 'патриотичный', 'причесать', 'вписывать', 'предполагамый', 'абстракция', 'высыпаться', 'петербурженка', 'достучаться', 'увянуть', 'колубмийский', 'брэдбрать', 'копать', 'веллитонуть', 'техзадание', 'избиркомиссия', 'гипс', 'сметь', 'автопогрузчик', 'кировстат', 'мокбелить', 'колоницкий', 'шуточный', 'проспонсировать', 'развалить', 'вторичка', 'несносить', 'капкан', 'агитплакат', 'машзавод', 'турярмарка', 'промпроизводитель', 'снипа', 'севелый', 'прослушивать', 'переоснастить', 'никас', 'авиаколлапс', 'инвестпартнёр', 'предаукционный', 'кладбищенский', 'соцсиротство', 'склониться', 'мазай', 'мфв', 'оргвопрос', 'достраивать', 'эконорматив', 'соцпартия', 'обустраивать', 'допсервис', 'лтх', 'вонючий', 'спортсооружение', 'разгадывать', 'чубарик', 'киберкостюм', 'отравитель', 'экономсоюз', 'рейтингование', 'цемзавод', 'факсимиле', 'добирать', 'инвестпроцесс', 'первичка', 'нейгауза', 'тайниковый', 'прохладно', 'барист', 'грипич', 'перламон', 'моторалли', 'потемнеть', 'промаоист', 'кукурузный', 'седльский', 'совдир', 'нацприоритет', 'энергостратегия', 'соучастница', 'бруклинец', 'правсистема', 'навыбираться', 'токарь', 'обрекать', 'кульчицкий', 'госстат', 'тепломатериал', 'синяк', 'наколотить', 'химсклад', 'комбат', 'сейсмоустойчивость', 'кроншнеп', 'ругательство', 'недопуск', 'шухевич', 'совещаться', 'касымов', 'павля', 'финишер', 'скальпель', 'листериоз', 'сельхозфедерация', 'запоминание', 'неумение', 'метропоезд', 'отпеть', 'запасать', 'недоброжелатель', 'валентинка', 'хронически', 'упереться', 'плодотворно', 'неумышленный', 'губить', 'отмахиваться', 'тамбовщина', 'утечь', 'соцслужба', 'деноминировать', 'фотонаследие', 'богач', 'стравить', 'токтайый', 'обидчица', 'госдолжность', 'прохлаждаться', 'утихомирить', 'видеокомпромат', 'феттеля', 'спортподготовка', 'двухгигагерцовый', 'властвовать', 'субтропики', 'двухтопливный', 'морковный', 'лешехести', 'алколицензия', 'гипермаркетом', 'непрописанный', 'кабесудос', 'гринько', 'мысина', 'якупович', 'агромаша', 'командуюший', 'стритбола', 'шкид', 'наркогруппировка', 'дискредитация', 'вживлять', 'минохрана', 'сектоведа', 'сухарь', 'обюрокрачивание', 'вбивать', 'централизованно', 'рвать', 'чандрамоуль', 'самовольщик', 'отобраться', 'росалкоголь', 'стыдиться', 'знающий', 'обозвать', 'дьорать', 'разговорить', 'изобличить', 'разгрести', 'аугсбургский', 'штрафник', 'белгранкорм', 'экопреступление', 'касация', 'ольмерт', 'жилстроительство', 'литмузей', 'дуэйбес', 'госинвестфонд', 'безрезультатность', 'снизу', 'аскетичный', 'югий', 'омолаживать', 'шассия', 'проиграться', 'безумец', 'автовождение', 'квеста', 'униформа', 'плаксия', 'суздальский', 'антиохийский', 'проэкзаменовать', 'поискать', 'анод', 'дронов', 'напоследок', 'исаий', 'гудзоном', 'ветряк', 'лирик', 'лидир', 'локербийскоия', 'взгромоздить', 'сокром', 'смирять', 'вологжанин', 'госинвестиция', 'горкомиссия', 'калужанин', 'коллоно', 'пханмуна', 'равнодоходный', 'байдарочница', 'нацбола', 'двадцатиградусный', 'каширка', 'сердитый', 'депеша', 'телеархив', 'лебешева', 'рязъяснить', 'британик', 'уловитель', 'экосотрудничество', 'идиллия', 'четырехцветный', 'противорадиационный', 'девидсоня', 'поощряться', 'крушить', 'нараяна', 'федцентр', 'противогаз', 'бандеровский', 'агротехник', 'прокотол', 'нефтехимзавод', 'инноватор', 'рать', 'ретротрамвай', 'засверкать', 'сумоистый', 'млр', 'пьянка', 'салафия', 'допвыплата', 'оснв', 'спьяну', 'урюпинец', 'софекс', 'поверх', 'полировка', 'регресс', 'самоцель', 'пулегильзотека', 'профответственность', 'баддло', 'энергомонополист', 'трл', 'подмешать', 'рабовладелец', 'нелогично', 'сглаз', 'башстат', 'шахтенный', 'самоочищение', 'совхозный', 'прослеживаться', 'мурка', 'геометрический', 'мособласть', 'штрафбат', 'кредитка', 'тайко', 'баварка', 'допвозможность', 'двустволка', 'хронология', 'самообучающийся', 'нервировать', 'дирижеский', 'госфлаг', 'забелинский', 'экобезопасность', 'верстовой', 'рания', 'юриспруденция', 'госзадача', 'южносахалинец', 'макеевский', 'ссадить', 'пострелять', 'атаманша', 'перстень', 'радистка', 'полулегально', 'нефтесервис', 'ронять', 'обхитрить', 'атинаркотический', 'беззащитность', 'повздорить', 'совершениия', 'азиат', 'противоугонный', 'переваривать', 'миниторинг', 'бургера', 'дитя', 'невозмутимый', 'карабкаться', 'цементировать', 'помереть', 'турсезон', 'ликвидиция', 'пляс', 'полсутки', 'продсоюз', 'хоан', 'лузановский', 'трепет', 'загадать', 'светик', 'госнедвижимость', 'монтироваться', 'веломаршрут', 'клавиша', 'инвестфорум', 'начитанный', 'песенюк', 'ерунда', 'засухоустойчивый', 'небогоугодный', 'десантировалить', 'вратарский', 'штыгашев', 'экстремаленький', 'проколоть', 'сатирикона', 'пэф', 'суперрозетка', 'разогреться', 'бунедкора', 'расследовний', 'чхонаном', 'женственность', 'анестезия', 'суперзвено', 'информбезопасность', 'хорал', 'тайсон', 'информблокада', 'широкоплечий', 'мракобесный', 'мелочный', 'каннскай', 'безделье', 'исписать', 'промвзрывчатка', 'мускул', 'гр', 'докрашивать', 'втк', 'грим', 'исаковский', 'чиновница', 'торгпредставительство', 'чиндирчеро', 'лжевладелец', 'отредактировать', 'субъективизм', 'юрсопровождение', 'стравливать', 'смолянин', 'нацуниверситет', 'узница', 'растениевод', 'гарфилд', 'автошина', 'аквафреска', 'богопротивный', 'беспощадный', 'сгусток', 'петроглиф', 'рубикон', 'сползти', 'овобождение', 'новороссиец', 'погранпункт', 'нестрашный', 'амурстат', 'толстеть', 'деполитизировать', 'бьорндалить', 'туравтобус', 'флоралия', 'каноист', 'кроха', 'шинакова', 'необдуманный', 'энергосотрудничество', 'недоплатить', 'реинкарнация', 'металлик', 'телесюжет', 'приморкий', 'оседлать', 'наркоборьба', 'перегреться', 'гнить', 'пленить', 'паламент', 'вельможа', 'мститель', 'питсбург', 'нагнать', 'лютый', 'отталкивать', 'великолепно', 'кусаться', 'вожанк', 'юрбюро', 'зацикленный', 'футзальный', 'куканос', 'хмурый', 'грешник', 'удалость', 'пейнтболистый', 'локально', 'припереть', 'генэкспертиза', 'ратовать', 'дейл', 'кивер', 'редизайн', 'супербоул', 'грудничек', 'подтянуть', 'немусульманин', 'альф', 'меткомпания', 'тернопольщина', 'ботинкометатель', 'фаны', 'геометрия', 'баптист', 'незаметный', 'погранорган', 'чествовавать', 'нечаянно', 'бабуля', 'пыльца', 'свежесть', 'бант', 'бутафория', 'спецобразование', 'чеканить', 'кушх', 'сельхозакадемия', 'неусвоенный', 'пайеткать', 'оборонка', 'несоветский', 'судмедбюро', 'соцсеть', 'софинансировать', 'авиаполк', 'диоксиновый', 'меяться', 'биодобавка', 'дв', 'кабмином', 'недопроизвести', 'автоподстава', 'мегарегулятор', 'медэксперт', 'сдюжить', 'амтело', 'марганец', 'красящий', 'эндшпиль', 'фармпрепарат', 'информпортал', 'незаслуженно', 'сопроводить', 'разборчивость', 'закодировать', 'авиаучилище', 'пайка', 'перечитать', 'кпрп', 'непроданный', 'фингарантия', 'тюз', 'диппаспорт', 'поводок', 'сдержка', 'эрдмана', 'дератизация', 'волчонок', 'никерин', 'наколдовать', 'семеноводческий', 'состоться', 'снейдрать', 'обременять', 'чиновата', 'гопак', 'трушин', 'безконкурсный', 'хейфниц', 'подоить', 'харизма', 'метко', 'госдеятель', 'мегателескоп', 'трубить', 'огорчение', 'гармоничный', 'техносфера', 'номинат', 'формализм', 'стрелецкий', 'натотехнология', 'потратиться', 'работящий', 'любезность', 'экологичность', 'соцпроблема', 'экомониторинг', 'ольстерский', 'техдокументация', 'оцифровывать', 'экообразование', 'медтуризм', 'вахатнговый', 'промконтрафакт', 'кредитоваться', 'упитанный', 'латамерика', 'ненастоящий', 'спортлагерь', 'развешивать', 'лучко', 'недостижимый', 'взрывустройство', 'потребсельхзхозкооператить', 'чак', 'бти', 'киноэротика', 'башлачев', 'дракула', 'фиолетовый', 'руссоя', 'безводный', 'соцполитик', 'финконсультант', 'владимирец', 'необеспечение', 'мордюков', 'озаботиться', 'забвение', 'прицеливание', 'мерелоца', 'еврочиновник', 'бустамант', 'медбиблиотека', 'сытый', 'экосостояние', 'евроспутник', 'сексуальность', 'суала', 'начислиление', 'секснасилие', 'экперт', 'довезти', 'излечимый', 'соцгарантия', 'гипха', 'блоггер', 'сверхурожайность', 'сиани', 'пробуждать', 'шамординский', 'рассекречивать', 'услиление', 'гаплик', 'зависать', 'шерстяной', 'боронина', 'спецплан', 'втроник', 'зампремьер', 'остроатаковать', 'соцстрахование', 'антисоветизм', 'баграмский', 'непечатный', 'совершеннолетие', 'объвлена', 'резвиться', 'гуманизировать', 'белогорье', 'предугадывать', 'эстемир', 'нумизматика', 'ягуарунди', 'профицитный', 'обеспеченить', 'процентщица', 'самообман', 'совфедя', 'странник', 'туркампания', 'нацлотерея', 'итр', 'бледанс', 'гриль', 'сухостой', 'храбрый', 'прокручивать', 'допэкспертиза', 'нотифицировать', 'шампиньон', 'злиться', 'скалолазный', 'отображаться', 'кровососущий', 'дипномер', 'военчастить', 'лжестраховщик', 'нетто', 'супербабушка', 'аймани', 'компот', 'финкризис', 'развлечь', 'бепризорность', 'западничество', 'черешня', 'госвуз', 'рыбоохрана', 'авиасудно', 'историчность', 'наркомафиозить', 'протянуть', 'шрэкома', 'ватерполистка', 'сверхплотный', 'ругаться', 'объединитель', 'свыиграть', 'влечение', 'пятидесятилетие', 'калужанка', 'мзср', 'неприемлемо', 'псих', 'добросердечный', 'гостелевидение', 'финграмотность', 'жилкомплекс', 'гнать', 'угасание', 'автонавигатор', 'буйвол', 'высокоростный', 'косметология', 'севастийский', 'изготовитель', 'чиликать', 'мент', 'финагентство', 'нахлебник', 'туробъект', 'бродвеять', 'керра', 'махинатор', 'стеблов', 'саликов', 'заколотить', 'первоклассница', 'либдема', 'декаданс', 'нюхать', 'девяностолетний', 'киноперсонаж', 'брежневский', 'маргулис', 'золотодобытчик', 'спецзаседание', 'самодержавный', 'приводнившийся', 'пересдавать', 'разведуправление', 'фастфуд', 'логапарк', 'полкило', 'электросбережение', 'пенснакопление', 'окупаться', 'зампредставитель', 'бантик', 'форсирование', 'бесцензурный', 'плодовоовощной', 'сращивать', 'риагент', 'наркопроблема', 'прикидываться', 'опознавать', 'позеленеть', 'стройорганизация', 'консерватизм', 'фотоэкскурсия', 'герасименков', 'шумомер', 'лигрица', 'апатитский', 'талина', 'спецустановка', 'чечевица', 'проходимец', 'сотрудничасть', 'сметать', 'госпоставщик', 'приобщаться', 'джиперы', 'техуниверситет', 'техпричина', 'спецтюрьма', 'каменщик', 'облпрофсоюз', 'воронежец', 'профкомитет', 'монстрант', 'валуйки', 'марсианин', 'шолбана', 'кинохит', 'оптоволокно', 'петергофский', 'учуять', 'безветренный', 'хозпостройка', 'серенгети', 'незабитый', 'коммерциализировать', 'таиландка', 'отругать', 'боком', 'рецептурный', 'вычислять', 'бонсай', 'белкомура', 'купе', 'кусто', 'пилюля', 'почтобанк', 'расклеивать', 'бендтнера', 'томка', 'речниковца', 'неаполитанец', 'сковорода', 'богемный', 'дезертир', 'гособъект', 'влиятельность', 'иссушать', 'глобально', 'хлорка', 'радиолог', 'развеселить', 'одевать', 'выдумать', 'непрерывность', 'ладан', 'потолочь', 'омыть', 'счетпалата', 'рекрутирование', 'квазимир', 'расценка', 'сознавать', 'погранконтроль', 'медвежатина', 'миноритерия', 'иголка', 'заруга', 'фольга', 'одорил', 'разругаться', 'зависть', 'техпроект', 'скромность', 'приобщать', 'быстропишущий', 'аэробика', 'автоприцеп', 'спортбаза', 'гегемония', 'байдарочник', 'сгб', 'буданов', 'намарена', 'обходный', 'сельхозвыставка', 'перевыборы', 'лоукостёр', 'отбойный', 'загородка', 'патагония', 'монстр', 'счастливчик', 'могутначаться', 'изнанка', 'хрущевский', 'эконорма', 'внепроцессуальный', 'безболезненно', 'тепловод', 'схимонах', 'неслыханный', 'кибермошенник', 'эша', 'прокатить', 'белорусие', 'богалия', 'спецграфик', 'матпомощь', 'креатив', 'энергопроблема', 'недобрать', 'уотерса', 'фотоновинка', 'таец', 'автопомощь', 'горслужба', 'четырехногий', 'госавиакомпания', 'сельхозземеля', 'пиф', 'допматериал', 'баскиа', 'боумэн', 'имеретинка', 'лавинь', 'р', 'раздуть', 'незаявленный', 'пятилетие', 'амиркул', 'техрасследование', 'победно', 'денбаза', 'дерматовенерологический', 'минералка', 'капара', 'восторженно', 'почерк', 'авиатрансфер', 'ленивый', 'мосметро', 'иудаизировать', 'мачете', 'этномузыка', 'абсурдно', 'присягнуть', 'неаттестованный', 'черницов', 'рвс', 'урбанизация', 'плавсредство', 'неоплаченный', 'сторговаться', 'й', 'перевоплощение', 'жертвенность', 'угнаться', 'пропить', 'хоррор', 'наматывать', 'взросление', 'превосходительство', 'химбезопасность', 'догма', 'техперевооружение', 'льняной', 'ослик', 'безхозный', 'воздавать', 'футенм', 'противопоказание', 'пскович', 'авиудар', 'инфицирование', 'спецкостюм', 'провинциал', 'бюрократ', 'окрылять', 'вертереть', 'проблуждать', 'прочувственный', 'профдеятельность', 'рфз', 'неустанный', 'житомирщина', 'наслать', 'травина', 'коннерь', 'дримлайнер', 'гарвард', 'тонус', 'мучной', 'стент', 'безумство', 'недурной', 'воздухоплавание', 'бесквартирный', 'поработить', 'пломбир', 'трололомэн', 'пейджер', 'подстричь', 'ненаказуемый', 'змеиный', 'сыщик', 'саудовец', 'чумовой', 'балеар', 'кваркено', 'техвуз', 'премировать', 'балласт', 'прикрутить', 'экотехнология', 'наиграть', 'толкучка', 'переименоваться', 'лесоинженер', 'опись', 'нанопокрытие', 'нацтерритория', 'мурманчанин', 'нежность', 'крестопоклонный', 'неподписанный', 'экокатастрофа', 'чтз', 'гаитянка', 'дифференциация', 'перелетать', 'лабезник', 'хаапсало', 'невидимка', 'белгородец', 'бессмыслица', 'матчбола', 'унали', 'полифония', 'повседневность', 'перевыдвинуть', 'брезговать', 'литдебют', 'кило', 'смещать', 'позабавить', 'фикция', 'анаэробный', 'иррациональный', 'открыватель', 'подружиться', 'никельсодержащий', 'сибэкспо', 'согреть', 'бильярдный', 'алмаатинец', 'несвоевременно', 'наноподарок', 'неспокойно', 'наркоканал', 'точильщик', 'негр', 'прозаический', 'лексредство', 'эйзель', 'присодиниться', 'комадуть', 'католичество', 'несравнимый', 'трековик', 'филиновый', 'аварис', 'киберспамер', 'карачаганакский', 'неоязычник', 'туробмен', 'детдомовец', 'перебить', 'беззубый', 'нелипнуть', 'моржиха', 'рюмочка', 'чичарить', 'госдотация', 'распылитель', 'непримечательный', 'мумбайский', 'мфсый', 'юрпомощь', 'откапываться', 'преднестровие', 'латиноамериканка', 'психопат', 'гмпр', 'теплокровный', 'непрозрачность', 'бушерсковать', 'подкрасться', 'фоменка', 'неизбранный', 'кеосаяна', 'швабра', 'микросекунда', 'авианалог', 'осуждиля', 'псевдомученик', 'чаянд', 'двухуровневый', 'телерейтинг', 'потдвердить', 'утолять', 'граддокументация', 'испачкаться', 'силмаш', 'нэк', 'потворство', 'валентайна', 'гелиевый', 'пусковыя', 'будапештец', 'впечатленный', 'звенигородка', 'авиадозаправщик', 'обжорство', 'иркутскстат', 'тяжелораненный', 'густаффсон', 'хасид', 'вышенский', 'вброд', 'тезекенд', 'доптребование', 'ксюша', 'струдник', 'курортолог', 'кикабидзе', 'амельчак', 'медвуз', 'астраханцев', 'разболтать', 'соцработница', 'размочить', 'осбудить', 'колядка', 'авиапроблема', 'утомленнный', 'порицать', 'радиолюбитель', 'новобрачный', 'сироп', 'столковение', 'бодрящий', 'расист', 'вынянчить', 'фотопутешествие', 'антиядерный', 'минчанин', 'спецпоезд', 'ввязываться', 'исцелить', 'распыляться', 'метзавод', 'бенефис', 'соцнужда', 'зачернять', 'теолог', 'жим', 'божин', 'молжаниновый', 'прицениться', 'авиабойкот', 'ходячий', 'нелитовский', 'облизбик', 'допэтаж', 'дольче', 'изящество', 'молокопродукты', 'суборда', 'заблудший', 'двойня', 'буйствовать', 'секвестр', 'медконтроль', 'планида', 'трактоваться', 'позаниматься', 'мавританский', 'госпособие', 'абордажный', 'горностай', 'бадюков', 'ветроэнергопарк', 'исследователький', 'светло', 'чипсовый', 'авиаправо', 'газопроовод', 'жеана', 'следуюш', 'эйсова', 'рассторгнуть', 'продкорзина', 'кодировать', 'свадьбина', 'вагонзавод', 'пришибей', 'детоубийца', 'судостроительство', 'лютомский', 'донетчин', 'врываться', 'спасцентр', 'обмелелый', 'мстить', 'милитаризм', 'экориска', 'оборотень', 'спецобучение', 'перевоспитатель', 'завораживать', 'лигров', 'миллионщик', 'спеццентр', 'качаться', 'фармкластер', 'бумеранг', 'учатие', 'менеджент', 'шукиса', 'обр', 'кульбитый', 'аквалангистка', 'турфима', 'шарифуллин', 'постулатор', 'угощаться', 'синенко', 'информативный', 'энтузиазм', 'припять', 'сейидти', 'дентом', 'подступить', 'лужковский', 'батальонный', 'вейру', 'псж', 'полуторакилометровый', 'практичный', 'сворачиваться', 'выхаживание', 'увержден', 'совспорт', 'инвестпривлекательность', 'сулак', 'медцель', 'суперпредложение', 'добродушный', 'агросфера', 'подозреваемоый', 'противоположность', 'ягуар', 'неудовлетворительно', 'допкомпенсация', 'вкрасться', 'шире', 'уикендова', 'лояльный', 'кассирша', 'мочить', 'сгладить', 'формализовать', 'застрахованыть', 'ухаб', 'наон', 'желдорога', 'неуспеваемость', 'спарринг', 'геометка', 'сорокко', 'инопланетный', 'соцпортрет', 'этикет', 'огра', 'отзвать', 'горинфора', 'косовар', 'юнсонный', 'качалов', 'преполовение', 'боксагенера', 'химера', 'генпроектировщик', 'гадание', 'непродуктивный', 'плескаться', 'триеннале', 'побираться', 'нахальный', 'зарывать', 'поселенчество', 'спортобщественность', 'энерготранзит', 'впустить', 'лимонад', 'госэкоэкспертиза', 'деспот', 'зоотерапия', 'награбить', 'засыхание', 'финкомитет', 'двушка', 'минувшю', 'непоследовательность', 'вологод', 'пожаробезопасность', 'гентский', 'байка', 'собаковод', 'малочисленность', 'припомнить', 'экотранспорт', 'котоорый', 'транслятор', 'спорториентирование', 'мамиконянин', 'млд', 'зародыш', 'бюстгальтер', 'неквалифицированный', 'супергерой', 'шпундра', 'крылечко', 'разобщение', 'галоген', 'супермакгрубер', 'гомик', 'разорить', 'отстреливаться', 'загробный', 'скейтбордист', 'мн', 'медкарта', 'диора', 'дончод', 'ультразвук', 'продешевить', 'газостанция', 'оргмодель', 'федюнинский', 'авторизация', 'вскормить', 'нард', 'соципотека', 'вдовец', 'абделкадер', 'спецдепозитарий', 'калининградка', 'пропись', 'опублика', 'каппадокийский', 'халва', 'бмд', 'большегруз', 'адриатик', 'автоналог', 'спецагентство', 'госпомещение', 'подчинить', 'спецавиация', 'успокаивать', 'неполиткорректно', 'торрент', 'ладоши', 'топтание', 'мурзагалиев', 'сечь', 'справлять', 'многослойность', 'ныряльщик', 'вагонть', 'таить', 'пицца', 'конфенция', 'амурчанин', 'подспорье', 'взбесить', 'оперполка', 'полшаг', 'петербугский', 'куэваса', 'соцналог', 'спецтранспорт', 'веделение', 'комлекс', 'экопроблема', 'авиацентр', 'судоремонтник', 'перевооружаться', 'фуэртевентура', 'вассерман', 'упрощенок', 'примирительный', 'сегментировать', 'ворошить', 'пирвели', 'медпромышленность', 'фановый', 'заряжаться', 'телеправо', 'оскароносец', 'главпочтамт', 'сковорец', 'торгпред', 'техасец', 'кавсадзе', 'лавровый', 'кулиса', 'беннимания', 'электрозаправка', 'гольдин', 'убраться', 'инфобезопасность', 'оренбургстат', 'палецкий', 'канцтовары', 'добросовестность', 'пробирка', 'ветроэлектростанция', 'приспосабливаться', 'животрепещущий', 'косых', 'тихоокеанец', 'сбрить', 'половинный', 'слитковый', 'олбанский', 'смельчак', 'рулет', 'госпринадлежность', 'ежеминутно', 'уберечься', 'нака', 'зайчик', 'размежевать', 'проситься', 'утилизационный', 'химотход', 'трудоустраивать', 'мужик', 'воровка', 'сионистский', 'экопроект', 'лицензироваться', 'энерготариф', 'неаккредитованный', 'халат', 'нечистоплотный', 'обниматься', 'регенеративный', 'обескровить', 'отместка', 'телеэксперимент', 'пуримский', 'маяковка', 'теплопункт', 'абель', 'мыться', 'уксус', 'слега', 'квайфер', 'докапитализировать', 'пигмей', 'вахтанговский', 'филлипин', 'дилетант', 'маразм', 'кубанец', 'спецстанция', 'бараат', 'турсфера', 'авиамаршал', 'ленинградец', 'эпикурейский', 'энергосаммит', 'путоран', 'почувстовать', 'дырка', 'помошь', 'популизм', 'базза', 'шулика', 'заселять', 'хозобъект', 'авантюризм', 'видеоэксперимент', 'вертикальный', 'колебанийя', 'супермашина', 'вещдок', 'вентшахта', 'вожак', 'подпевка', 'медсправка', 'гигантомания', 'офсайд', 'помолодеть', 'техиспытание', 'ветслужба', 'кад', 'солцезащитный', 'выпусникнуть', 'крайздравый', 'ошибаться', 'уиндхема', 'небходить', 'логачев', 'возбусть', 'обнести', 'разморить', 'радиомина', 'наркотест', 'шейкер', 'неуд', 'хамасовца', 'фотобизнес', 'химреактив', 'вселеннный', 'альтер', 'управдом', 'неприватизированный', 'ликовать', 'спецсоветник', 'приообретение', 'накрениться', 'сказкотерапия', 'рассыпаться', 'допсредство', 'нагиева', 'громадьяа', 'неимущий', 'сверхдетальный', 'горсобственность', 'градсовет', 'грянуть', 'молзавод', 'забайкалец', 'неотапливаемый', 'пирров', 'автралийский', 'птицекомплекс', 'чжанцзяцз', 'практикум', 'дискусие', 'бактериальный', 'клон', 'инносфера', 'мастерить', 'латынина', 'поберечь', 'тронуть', 'рубнуть', 'соединимый', 'сотовик', 'финполитик', 'приданое', 'сандуновский', 'виновато', 'бгэс', 'напиться', 'непреодолимый', 'открещиваться', 'подпасть', 'кайсериспора', 'вольница', 'смешно', 'объедух', 'вспениться', 'росавиция', 'изнера', 'преобразить', 'госкомпредпринимательство', 'скупщик', 'пачиный', 'ненападение', 'кариб', 'двухтонный', 'суитинг', 'плейный', 'заезжий', 'кавказец', 'крепнуть', 'электросила', 'напрасный', 'выжечь', 'заманивать', 'антверпенский', 'повиться', 'подстегивание', 'закрепощенность', 'госдача', 'камерунец', 'договорняк', 'доширак', 'вторгаться', 'допльгота', 'турсотрудничество', 'представитва', 'онкоцентр', 'быль', 'экоущерб', 'всехвальный', 'лепаж', 'недвижимымость', 'ходуля', 'джеус', 'автоледи', 'шезлонг', 'облысение', 'покатать', 'капитализировать', 'пуэрториканский', 'наркопроизводитель', 'шапсалить', 'бургановый', 'влетать', 'тагаза', 'советоваться', 'бады', 'доннеллана', 'сохабей', 'соцпрограмма', 'кровник', 'буйство', 'экстрадировал', 'уместить', 'гренадер', 'госземконтроль', 'хайрем', 'метить', 'сверхдержава', 'кофеварка', 'откапывать', 'споткнуться', 'псевдоисламский', 'кахетинский', 'потребкредить', 'наркосредство', 'священнослужение', 'калиниградский', 'кораблик', 'кэррик', 'таз', 'сингапурец', 'стройработа', 'побрать', 'взрывник', 'балалаечник', 'морпех', 'высокоудойный', 'техоборудование', 'заиграть', 'шотландка', 'начштаб', 'наноцентр', 'рыбинец', 'юралс', 'вздуть', 'каранджич', 'соцтариф', 'заглушить', 'двоечник', 'недоспать', 'таджикистанец', 'посувалюк', 'переустановить', 'малайзийка', 'телефонизировать', 'трансгенный', 'фарада', 'прокружить', 'анекдот', 'немыслимый', 'ленг', 'канары', 'тамифл', 'киносеть', 'гомар', 'аркан', 'штучный', 'дремать', 'геориевский', 'киноархив', 'обуть', 'приватизироваться', 'водораздел', 'судозавод', 'нарколомка', 'хостела', 'отзаявка', 'рыбхоз', 'разогреваться', 'распылять', 'угнетать', 'экопатруль', 'генсбур', 'энергоисточник', 'оливковый', 'жадничать', 'преисподняя', 'лужайка', 'загрязненый', 'обуза', 'паж', 'конституцион', 'закрутить', 'обещалкин', 'склонять', 'агропроект', 'метановый', 'притвориться', 'гаккель', 'адаптивный', 'закупиться', 'параньос', 'шилдс', 'киноримейк', 'соцприют', 'техинспекция', 'нацсистема', 'банат', 'юрфирма', 'фармацевтика', 'зенландий', 'аэрограф', 'белгородчина', 'басистый', 'дозаправщик', 'вздрогнуть', 'перепроверить', 'неконституционно', 'суббоы', 'хаббана', 'рваный', 'бругера', 'бакива', 'техусловие', 'специалитет', 'нерассмотрение', 'исламистка', 'губительно', 'барьерист', 'уголовно', 'стрижнева', 'информотдел', 'думец', 'жизненноважный', 'межплеменной', 'проходка', 'зафрендиля', 'освистывать', 'кинодебют', 'знахарь', 'прибавиться', 'отпрыгать', 'гупту', 'допзалог', 'нецензурно', 'обыватель', 'попирать', 'зсд', 'демсила', 'спецавиаподразделение', 'амнезия', 'второклассник', 'генуэзец', 'утихнуть', 'наливать', 'спинистка', 'коллективизация', 'безответственно', 'стройвыставка', 'уползать', 'горбюджет', 'коибами', 'отстранять', 'шупплера', 'санправило', 'народицкий', 'крепостной', 'подождать', 'заградсооружение', 'вуаль', 'вширь', 'покетбук', 'кровопийца', 'штриховать', 'близорукий', 'клайдер', 'бестемьяновый', 'госинститут', 'малиец', 'железобетон', 'домысел', 'обдуманно', 'замуправдел', 'еркрорда', 'розжиг', 'незамерзайка', 'поделка', 'выковырять', 'самовозгореться', 'бессюжетный', 'жилсертификат', 'пострят', 'простевой', 'лжедмитрия', 'склифософский', 'сивк', 'мухлевич', 'луганщина', 'трястись', 'самарканд', 'кильдин', 'спецвыпуск', 'цдл', 'приставить', 'легимизация', 'обустраиваться', 'квартирант', 'думбие', 'утроиться', 'рубик', 'госскидка', 'звериный', 'педикюр', 'оладушка', 'моторчик', 'приблизться', 'таиландец', 'ликбез', 'девелоперу', 'ветвиться', 'ахтуба', 'техпредложение', 'законотворчество', 'усадить', 'гупа', 'эльф', 'скобка', 'евроскептик', 'конструировать', 'евролифтинг', 'посметь', 'инвестрейтинг', 'реструктуризировать', 'эпилог', 'рачок', 'дюбьен', 'феноменально', 'челищев', 'перебазироваться', 'бикини', 'варение', 'опоссум', 'калифония', 'ремейкова', 'ядерщик', 'электрощит', 'идучить', 'мрачность', 'медуниверситет', 'холуйство', 'наркосеть', 'гособронзаказ', 'россиить', 'нечитать', 'финсистема', 'пассия', 'разлететься', 'уголока', 'амплуа', 'глотать', 'взаимно', 'конферансье', 'пожурить', 'видеопиратство', 'гея', 'находкинец', 'литгазета', 'дольшик', 'гуру', 'велодром', 'нч', 'старушка', 'взлянуль', 'отваливаться', 'дейнека', 'эльмир', 'размен', 'проглянуть', 'кайкан', 'младшеклассник', 'поучительный', 'адреналин', 'приманивание', 'храп', 'одеть', 'дактилоскопировать', 'простирать', 'авиастроитель', 'глм', 'севальос', 'отряжать', 'возвращиться', 'осаждать', 'гбайт', 'пятиметровый', 'выдыхать', 'правовед', 'магнитогорец', 'утаивание', 'наладка', 'джейкобе', 'барсоя', 'артистизм', 'допсоцгарантия', 'дефектный', 'ддег', 'лпз', 'рбс', 'политизирута', 'оптовик', 'шестовичка', 'обыденный', 'анахайме', 'оговариваться', 'исцелимый', 'экофонд', 'подземелье', 'несклеиваться', 'тюльпановый', 'диаз', 'померяться', 'манять', 'костюмерный', 'россыпный', 'выплюнуть', 'туримидж', 'этничность', 'неуступчивость', 'выставень', 'паззлый', 'надувать', 'расселять', 'берлинец', 'кузбас', 'шестинедельный', 'олениха', 'греметь', 'голан', 'мейвезер', 'недосчитываться', 'турмаршрут', 'берггольц', 'пленница', 'гидрат', 'минобраз', 'кузня', 'чайник', 'фолклендова', 'приучать', 'финорганизация', 'гимран', 'умелец', 'птицепром', 'млдр', 'скалодр', 'жилусловие', 'полномасшабный', 'распродаваться', 'саратовец', 'экономсовет', 'экономзона', 'жилкредит', 'фармпромышленность', 'гнб', 'гидромощность', 'недоплата', 'фотокора', 'ветцентр', 'дозвониться', 'тевтонец', 'приземлить', 'несолидарность', 'ревальвировать', 'виртуозно', 'колорит', 'инвестресурс', 'заколдованный', 'степ', 'тосолома', 'вальдорфский', 'радыгин', 'фсгс', 'приглядывать', 'венгров', 'клизма', 'тайбэйский', 'вымучить', 'политаппарат', 'севкавказ', 'допрасход', 'редмэйн', 'каравай', 'миърадж', 'морсобрание', 'шкат', 'курдоведение', 'стройсектор', 'автодору', 'авлак', 'заявилпутин', 'экотребование', 'верхом', 'провиант', 'сандинистый', 'бэрримор', 'попойка', 'синтетик', 'целостный', 'насморк', 'педработник', 'самовнушение', 'нефтепроект', 'автопрокат', 'отбиться', 'упрятать', 'симферополец', 'ламбада', 'придаток', 'наполниться', 'пищик', 'дыба', 'разогнаться', 'цигун', 'мобильно', 'мазерать', 'разбежаться', 'криобанк', 'гостелекомпания', 'сопредседатем', 'саннорма', 'заграницы', 'штирлиц', 'римн', 'всевышний', 'читинец', 'вериться', 'ввсс', 'коала', 'кидать', 'сэ', 'туркмен', 'растоптать', 'аак', 'маклаевский', 'аншлаговый', 'чужак', 'европерспектива', 'месбах', 'хохот', 'паланга', 'географ', 'упрощаться', 'москомреклама', 'задирать', 'шлиссельбург', 'замерить', 'нежданный', 'глэйзеры', 'пляжник', 'сибфо', 'жульничество', 'кахетие', 'отдуваться', 'боливийка', 'политсистема', 'оживлять', 'ткибульский', 'битлов', 'шанхаев', 'разрушитель', 'изоляционизм', 'атакують', 'уплыть', 'прятать', 'морфогенез', 'догонялки', 'хрусталик', 'незваный', 'ттх', 'поджаривать', 'сверяться', 'виновница', 'совнарком', 'децентрализовать', 'усиленый', 'безобразный', 'стеклодув', 'баклан', 'имплант', 'бц', 'подозреваемаий', 'стоунхендж', 'лжеколлега', 'рюмка', 'силин', 'понервничать', 'взаимоподдержка', 'лошадиный', 'свора', 'морс', 'миролюбивый', 'новозеландка', 'правкомиссия', 'самоволк', 'мослесхоз', 'студио', 'риелтеры', 'типенко', 'австралопитек', 'лунгин', 'рособоронзаказ', 'завражновый', 'разгружаться', 'безвылазно', 'добежать', 'нерейтинговый', 'коронас', 'бараний', 'оскандалиться', 'мерзость', 'неформат', 'киргизбаев', 'погореть', 'падший', 'олимпобъект', 'порулить', 'мюсли', 'больно', 'экономпреступление', 'анальгин', 'свинский', 'косолапый', 'санавиация', 'старонидерландский', 'киргизя', 'средоточие', 'пульс', 'тунир', 'евростандарт', 'мотоциклистка', 'разрыдаться', 'спецвойско', 'финфонд', 'вафельный', 'сводить', 'обстоятельст', 'молкомбинат', 'фингал', 'ельцинский', 'медовый', 'индастриал', 'возгласить', 'гафт', 'имеретинец', 'плавить', 'выдра', 'обрисовать', 'расползаться', 'артучилище', 'подподавать', 'фаталистка', 'ващука', 'промпроект', 'пробежаться', 'халяльный', 'самоненко', 'третьяковка', 'полумера', 'славянофильство', 'игроман', 'грузопоток', 'нефтегигант', 'зампостпред', 'двуногий', 'спортпрофилирование', 'допполоса', 'гормолзавод', 'таганрогец', 'челый', 'порносайт', 'экстернат', 'подловить', 'нарядить', 'сдуть', 'созреть', 'псковитянка', 'псевдоохранник', 'медслужба', 'переселяться', 'тучка', 'нетяжкий', 'супермикроб', 'рваться', 'подстраховать', 'турзаконодательство', 'боровиков', 'телемарафон', 'переплавить', 'чекист', 'неконструктивность', 'самозванец', 'чиличить', 'зазеленеть', 'мереть', 'отбиваться', 'побратим', 'спецбригада', 'ужинать', 'соцвыплата', 'брендинга', 'убийственный', 'онуоха', 'незлокачественный', 'крузенштерновец', 'велеть', 'дооснащать', 'заправщик', 'ждв', 'техзаказчик', 'пространный', 'стройпроект', 'шарф', 'гуманитарий', 'послезавтра', 'кабальеро', 'лихачить', 'изгой', 'активированный', 'жевать', 'межгалактический', 'засечь', 'прокачать', 'брежнев', 'аскетизм', 'перспективность', 'артмобиль', 'деппу', 'стричь', 'проститутка', 'засолить', 'госрезиденция', 'усекновение', 'покрепче', 'деклан', 'подшучивать', 'удавка', 'эхпо', 'энергосоглашение', 'спецсовещание', 'энергоаврий', 'авиазаправка', 'мигать', 'джакартский', 'рг', 'домна', 'изумительный', 'карлсено', 'техспециалист', 'поцеловать', 'перерисовать', 'банкротит', 'спортцентр', 'отчитка', 'паралимпийка', 'прогрессия', 'финуслуга', 'бойдом', 'подшутить', 'омрачиться', 'абаканец', 'соцпомощь', 'набросать', 'надеиться', 'проповедник', 'инвентаризировать', 'кесария', 'зохейра', 'еврокомандование', 'просветительница', 'пропануть', 'курганец', 'тимати', 'нацгвардия', 'вейкбординг', 'войницкий', 'госказна', 'честный', 'экономпредпосылка', 'умовение', 'бессилие', 'ренну', 'работорговля', 'таранить', 'эйс', 'конфеденциальный', 'переименовывать', 'перебираться', 'рушиться', 'кречет', 'галанин', 'армени', 'чезный', 'вытерпеть', 'пыльный', 'бедствовать', 'госсекрет', 'гудеть', 'самоцензура', 'зявить', 'зазвучать', 'фана', 'блант', 'райсовет', 'юои', 'желудочный', 'стесняться', 'воочью', 'конфискат', 'законопрект', 'эпидемпорог', 'неузнаваемость', 'разлучать', 'челябинец', 'пахучий', 'инвестторг', 'удокан', 'соперничество', 'ввязаться', 'российско', 'объеденить', 'мотогонка', 'рабовладение', 'минторговля', 'фининструмент', 'шестиклассник', 'постотпускной', 'смять', 'переплюнуть', 'внутриутробный', 'камчатск', 'расплывчатость', 'фотолегенда', 'вирасетакул', 'ковыктой', 'мади', 'потрадать', 'удобоваримый', 'ссуза', 'нацстратегия', 'политфорум', 'воткинск', 'незапад', 'отпугивание', 'энхаэловец', 'ноябрьск', 'стахановец', 'скорбященский', 'люксова', 'туркластер', 'звукоподражание', 'ноздря', 'автомобилистка', 'нагишом', 'поминание', 'хоркина', 'шершень', 'леже', 'волгоградец', 'энергострахование', 'пощекотать', 'военгородок', 'хитрость', 'арестный', 'фрунзика', 'информсистема', 'заделать', 'добивать', 'целомудрие', 'порноделец', 'турэксперт', 'преставление', 'россиим', 'отмашка', 'киносказочник', 'пелетон', 'мусомор', 'туруслуга', 'перекладываться', 'тюремщик', 'безвыходный', 'удариться', 'припарковаться', 'фальсификатор', 'ижк', 'жк', 'тубдиспансер', 'допконсультация', 'гелаева', 'зубной', 'нацсобрание', 'каннсковать', 'музтеатр', 'выхлоп', 'эскиндар', 'баймаганбить', 'спугнуть', 'бойцовый', 'забжд', 'обедать', 'пожирание', 'распинать', 'непополнение', 'танеев', 'броневик', 'антихрист', 'соцназначение', 'псевдосвадьба', 'вылупиться', 'помпейский', 'шекспириада', 'кортик', 'джемс', 'заказчица', 'допвыпуск', 'вершигор', 'неуспевающий', 'лежень', 'угледобытчик', 'ситаять', 'авиатариф', 'объясниться', 'занижаться', 'нерль', 'теплота', 'оледенеть', 'щепка', 'тюменец', 'порядочность', 'закрепитель', 'композит', 'пленение', 'грипа', 'финпроблема', 'отвадить', 'блокироваться', 'инвестпортфель', 'внушение', 'утаить', 'спецрейд', 'стейка', 'возродиться', 'необоснованность', 'жилсубсидия', 'стыковаться', 'должок', 'ном', 'заносить', 'драйвер', 'необучаемостить', 'прп', 'самочуствие', 'беспечность', 'госвооружение', 'кипарисовый', 'располнеть', 'антракт', 'заключеный', 'рпфл', 'остренга', 'гостаможня', 'микультура', 'колэнергосбыт', 'автоприманка', 'фокусник', 'хеджфонд', 'сычуани', 'самособираться', 'норис', 'поневоле', 'проветрить', 'стрелочник', 'неработать', 'демконго', 'трехдверный', 'поредеть', 'евромелочь', 'допсоглашение', 'насторожить', 'видеостудия', 'прореха', 'экорейтинг', 'калория', 'бада', 'арестантка', 'блицкриг', 'отдалиться', 'количественно', 'ашхараматрана', 'мсу', 'выспаться', 'чищеный', 'узурпатор', 'фотокорый', 'гамма', 'соцреклама', 'грибоедовский', 'рассудок', 'спецстраница', 'туррынок', 'хуамин', 'нерешение', 'гумпомощь', 'нянька', 'шансончик', 'выследить', 'снегоочиститель', 'валдьдемарас', 'зэк', 'офз', 'риктюс', 'эвакуаторщик', 'агрокомбинат', 'ножка', 'владикавкавказский', 'метастаз', 'спецпомещение', 'аэронавт', 'нанопровод', 'мэрот', 'укрыть', 'попридержать', 'егорлык', 'обогреть', 'струг', 'богатеть', 'новгордец', 'размораживаться', 'сограджан', 'эконарушение', 'белучч', 'агрогруппа', 'рыбзавод', 'кавагучить', 'кенозерье', 'санаева', 'прикрыться', 'денежкином', 'шарпеистый', 'невостребовать', 'нидерлада', 'досматривать', 'вымогатель', 'экофестиваль', 'продегустировать', 'спекталь', 'притягательный', 'суперактивный', 'изворотливость', 'уровневый', 'учениия', 'потерпеший', 'фанаткать', 'физиотерапевт', 'госаппарат', 'уикендом', 'моруа', 'целоваться', 'белогвардеец', 'митьков', 'электроимпульс', 'разобобраться', 'недетский', 'вальсировать', 'медиарынок', 'проделывать', 'душечка', 'оговор', 'опилка', 'политмандат', 'псевдоинвалид', 'бином', 'северодвинец', 'олимппрограмма', 'битцевкий', 'хоздеятельность', 'алиментщик', 'минсвязи', 'регпарламент', 'сектант', 'ситак', 'наперегонки', 'белбина', 'пасьянс', 'ангажированность', 'авиаклуб', 'шоппинг', 'сродни', 'генменеджер', 'наводнять', 'пражанка', 'профобучение', 'энергорынок', 'дезориентировать', 'писаный', 'папастатопулосый', 'престолонаследие', 'меткий', 'подосиновый', 'мох', 'забывчивость', 'надломить', 'сноси', 'дремучий', 'свистеть', 'удваивать', 'покос', 'пришелец', 'евроструктура', 'кыдын', 'двадцатиметровый', 'конгресмен', 'обналичка', 'деукраинизация', 'древнеэскимосский', 'расшить', 'тряпка', 'фаренгейт', 'свояк', 'смута', 'мариана', 'экоконтроль', 'фристайлер', 'гематоген', 'господень', 'инфобаза', 'пирцхалавый', 'раскошелиться', 'энергопоставка', 'веселеть', 'азор', 'спецконтейнер', 'копьеметательница', 'орнелла', 'кристо', 'карамелька', 'нахулиганить', 'металопрокат', 'евробаскет', 'гейман', 'наркоторговка', 'михновое', 'дискета', 'севосетия', 'парик', 'демотивационный', 'спецпрограмма', 'приказывать', 'прививаться', 'ориентировщик', 'пройтись', 'печный', 'госмероприятие', 'программма', 'кончать', 'шопеновский', 'опьянять', 'ланкиец', 'соприкоснуться', 'груша', 'вразумлять', 'отмачивать', 'еле', 'ощепкова', 'сейсмически', 'эстет', 'премирование', 'финбезопасность', 'усваивание', 'ботаник', 'застарелый', 'мехзавод', 'охотобщество', 'спасработа', 'нострый', 'утешиться', 'пелиндабский', 'михалковский', 'профподготовка', 'подвернуть', 'соткать', 'евростраховщик', 'доппроверка', 'жезуса', 'турагент', 'допвливание', 'роллинг', 'эксимбанк', 'допфинансирование', 'супердержава', 'гуарча', 'спецкабель', 'пытавшимиться', 'безмолствовать', 'непроизнесенный', 'соединяться', 'авиатранспортировка', 'клевать', 'подтаивать', 'интернатура', 'техсостояние', 'испачкать', 'притереться', 'крамза', 'впечатлить', 'пивко', 'приручение', 'марафонец', 'лжебанкир', 'укротитель', 'нефтеотрасль', 'закарпать', 'адепт', 'луизианский', 'союзничать', 'госязык', 'радиопират', 'обставлять', 'красноморский', 'горимущество', 'себестоимость', 'предшкольный', 'детоубийство', 'воззвать', 'уклонист', 'испытыние', 'вбрасывать', 'шишка', 'таллинец', 'млечин', 'женить', 'наказуемый', 'координационый', 'горнедвижимость', 'сглазить', 'райизбирком', 'размораживать', 'раскачка', 'пермячка', 'барыш', 'поглащение', 'спортинтернат', 'эколономический', 'олицетворение', 'шанхаец', 'высаживать', 'пульсар', 'отбивание', 'госавиация', 'флип', 'пизар', 'плешкова', 'кусачий', 'погранобъект', 'вспугнуть', 'раскраска', 'зеленодольск', 'переписчица', 'госсофинансирование', 'лжеминирование', 'облагораживать', 'госдокумент', 'колиция', 'зретель', 'еврокоммерец', 'клоп', 'колоритный', 'минторг', 'неискренность', 'подвешивать', 'бублик', 'наноэлеткросхема', 'паша', 'агосто', 'финобеспечение', 'минспортуризм', 'биополимер', 'трансекссуала', 'велотакси', 'оросительный', 'нанопрепарат', 'сарок', 'плац', 'молокопродукция', 'обесцениваться', 'прорывать', 'млм', 'отвратительный', 'тягота', 'выучка', 'наркополицеский', 'селектор', 'якутянка', 'партизация', 'порностудия', 'водочник', 'архфестиваль', 'гнутый', 'вылечиться', 'драконовский', 'внешторговый', 'жаростойкий', 'компактность', 'хвататься', 'хлопать', 'погранбезопасность', 'брюхо', 'боксировать', 'разбазаривание', 'промбаза', 'фотохроника', 'помирить', 'цуккиня', 'дипломатично', 'мейнстрить', 'шипящий', 'списывание', 'челнинец', 'поспешность', 'сужать', 'противоградовый', 'желтуха', 'карбамидный', 'оргпроблема', 'кукумберг', 'благословенный', 'отлучить', 'пропадать', 'кадровик', 'преступно', 'паттая', 'умаровца', 'медреформа', 'допзапрос', 'изобличать', 'нацконгресс', 'обручиться', 'рость', 'спецструктура', 'тараска', 'юбка', 'ои', 'метнуть', 'углепромышленник', 'низкоуглеродный', 'гурцковать', 'нэ', 'беспардонно', 'надполитический', 'пцрд', 'финакадемия', 'самоокупаться', 'роднить', 'федокруга', 'обознаться', 'каткий', 'эпистолярный', 'кеч', 'изнурительный', 'бибилиотека', 'свист', 'погрансотрудничество', 'авиакризис', 'каграмана', 'кандалакша', 'низкошумный', 'шайхлислам', 'пуститься', 'синьзцян', 'санконтроль', 'наноарбидол', 'постер', 'финцентр', 'соцстандарт', 'трансвааль', 'полдома', 'ягрк', 'макли', 'замред', 'админресурс', 'разоружаться', 'огнеметчик', 'принадлажавщий', 'бенаюный', 'экомиссия', 'запланированый', 'контрмера', 'трудостройство', 'мэдоффома', 'некоронованный', 'касетас', 'жилинспекция', 'снегоходный', 'даймлера', 'мансити', 'мегаземлетрясение', 'информбаза', 'аукционист', 'краудсорсинг', 'элисани', 'незакрываться', 'звр', 'педсостав', 'политсмута', 'морпехам', 'погибинуть', 'альтруист', 'телефестиваль', 'негигиеничный', 'самостроев', 'грампластинка', 'зарубить', 'глушилка', 'примкнуть', 'агротехнология', 'сор', 'фармзавод', 'антинародный', 'дэйзь', 'экостандарт', 'допподержка', 'ратификацировать', 'хлебный', 'высчитывать', 'довоенный', 'файнэнс', 'затихать', 'преподать', 'ишакуловый', 'грам', 'кумать', 'понятность', 'цпш', 'рутина', 'умысел', 'спецзаявление', 'точить', 'влезть', 'североирландец', 'спецдивизия', 'укутываться', 'висковарение', 'сычуана', 'акциона', 'рубцовка', 'лжесвидетельство', 'фредди', 'замерзание', 'перезагрузиться', 'дешевизна', 'поженить', 'ваниль', 'ретроралли', 'смешарик', 'хлам', 'олипийский', 'нелигитимный', 'газик', 'дипкризис', 'элитка', 'атаманов', 'автоугон', 'остыть', 'комсомольск', 'шагора', 'видемост', 'кагальник', 'экотроп', 'хакерство', 'обгрызать', 'ванкуверец', 'дегероизация', 'дешама', 'преф', 'инвесткредит', 'дописывать', 'пристановить', 'вызваета', 'астраханец', 'пирожок', 'российкий', 'миссионерство', 'сомалийка', 'субхолдинг', 'фантастически', 'допвзнос', 'лч', 'медкнижка', 'разломить', 'отступиться', 'дообогащать', 'позитивность', 'овечий', 'наноструктура', 'избушка', 'полутораметровый', 'фобия', 'репетировать', 'пайшау', 'дсп', 'обезвреживаться', 'кивот', 'наркодиспансер', 'взирать', 'перекармливать', 'афганстан', 'островитянин', 'застой', 'ижма', 'котик', 'татуировать', 'наркополицейкий', 'возмущаться', 'обжиться', 'циник', 'вдребезги', 'геомикробиология', 'конкурентность', 'соцстабильность', 'калейдоскоп', 'войнович', 'красноярец', 'этнотуристический', 'жульен', 'сионский', 'пристыдить', 'мириться', 'антифутбол', 'штайна', 'спецразрешение', 'мусияк', 'черчёс', 'энергоконференция', 'мельвиль', 'обогатиться', 'промпотребитель', 'упфр', 'ваххабит', 'договориваться', 'переигрывать', 'долезать', 'руткевич', 'вяленый', 'заморить', 'фолкленд', 'сырьевика', 'какаду', 'наполеоновский', 'ямалец', 'распредцентр', 'пельша', 'небосклон', 'папирусный', 'баштэк', 'баттхеда', 'политобозреватель', 'скинхеда', 'автодвижение', 'эйяфьятлайокудлить', 'молочник', 'госсоветник', 'арифметика', 'газифицировать', 'эмоционально', 'ирене', 'агитатор', 'размежеваться', 'дейтонскома', 'бендерский', 'ветобработка', 'реакционный', 'рафтингист', 'замалчиваться', 'итк', 'усыпление', 'мособлбанк', 'джомолунгма', 'малазиец', 'сальвадорский', 'вельск', 'иня', 'нацвалюта', 'авторитаризм', 'пекарня', 'скуадра', 'джуд', 'мышеловка'}\n"
          ],
          "name": "stdout"
        },
        {
          "output_type": "stream",
          "text": [
            "/usr/local/lib/python3.6/dist-packages/ipykernel_launcher.py:34: DeprecationWarning: Call to deprecated `__getitem__` (Method will be removed in 4.0.0, use self.wv.__getitem__() instead).\n"
          ],
          "name": "stderr"
        }
      ]
    },
    {
      "cell_type": "markdown",
      "metadata": {
        "id": "vYoF4ifEu-Z9",
        "colab_type": "text"
      },
      "source": [
        "# Prepear aspects vectors"
      ]
    },
    {
      "cell_type": "code",
      "metadata": {
        "id": "FE2GPv2CGt_z",
        "colab_type": "code",
        "colab": {
          "base_uri": "https://localhost:8080/",
          "height": 283
        },
        "outputId": "1aba4bca-8ed1-4392-c82a-c88d591eb6a4"
      },
      "source": [
        "lens = [lang.word2count[w] for w in lang.word2count]\n",
        "print(len([w for w in lang.word2count if lang.word2count[w] > 1000 and lang.word2count[w] < 5000]))\n",
        "sns.distplot([l for l in lens if l > 1000 and l < 10000])\n",
        "plt.show()"
      ],
      "execution_count": 11,
      "outputs": [
        {
          "output_type": "stream",
          "text": [
            "403\n"
          ],
          "name": "stdout"
        },
        {
          "output_type": "display_data",
          "data": {
            "image/png": "[encoded data removed]",
            "text/plain": [
              "<Figure size 432x288 with 1 Axes>"
            ]
          },
          "metadata": {
            "tags": [],
            "needs_background": "light"
          }
        }
      ]
    },
    {
      "cell_type": "code",
      "metadata": {
        "id": "K2g8PPQWJWrD",
        "colab_type": "code",
        "colab": {
          "base_uri": "https://localhost:8080/",
          "height": 35
        },
        "outputId": "ea56a2e5-84df-401f-a810-0be1654a6c53"
      },
      "source": [
        "X = []\n",
        "words = []\n",
        "for w in lang.word2count:\n",
        "    if lang.word2count[w] > 1000 and lang.word2count[w] < 5000:\n",
        "        X.append(word_init_vectors[w])\n",
        "        words.append(w)\n",
        "print(len(words))"
      ],
      "execution_count": 12,
      "outputs": [
        {
          "output_type": "stream",
          "text": [
            "403\n"
          ],
          "name": "stdout"
        }
      ]
    },
    {
      "cell_type": "code",
      "metadata": {
        "id": "On9n46RdvBSp",
        "colab_type": "code",
        "outputId": "b0ae4680-915a-46c9-f35e-4a8cb9676abd",
        "colab": {
          "base_uri": "https://localhost:8080/",
          "height": 1000
        }
      },
      "source": [
        "# K means\n",
        "from sklearn.cluster import KMeans\n",
        "import numpy as np\n",
        "kmeans = KMeans(n_clusters=config['aspects_num'], n_init=10, max_iter=500, random_state=42, verbose=0).fit(X)\n",
        "av = kmeans.cluster_centers_.tolist()\n",
        "\n",
        "\n",
        "def sim(word, aspect):\n",
        "    return np.dot(word, aspect)\n",
        "\n",
        "def sim2(word, aspect):\n",
        "    return np.sum((word-aspect)**2)\n",
        "\n",
        "neares_num = 100\n",
        "for aspect_i in range(len(av)):\n",
        "    aspect = np.array(av[aspect_i])\n",
        "    similarities = []\n",
        "    for word_i in range(len(X)):\n",
        "        word = words[word_i]\n",
        "        similarities.append([word, sim(X[word_i], aspect)])\n",
        "    \n",
        "    low_words = sorted(similarities, key=lambda x: x[1])[:neares_num]\n",
        "    print(aspect_i, [w[0] for w in low_words])"
      ],
      "execution_count": 13,
      "outputs": [
        {
          "output_type": "stream",
          "text": [
            "0 ['направить', 'источник', 'отдел', 'край', 'проверка', 'первое', 'выйти', 'афганистан', 'общественный', 'военный', 'вод', 'оон', 'говориться', 'семья', 'появиться', 'департамент', 'республика', 'областной', 'прокуратура', 'авария', 'работать', 'петербург', 'федеральный', 'изменение', 'несколько', 'рассмотреть', 'сочи', 'дорога', 'факт', 'детский', 'газа', 'северный', 'сообщаться', 'четыре', 'акция', 'городской', 'региональный', 'мчс', 'сми', 'государственный', 'внутренний', 'губернатор', 'культура', 'дтп', 'теракт', 'пожар', 'скп', 'газета', 'территория', 'создать', 'финансовый', 'срок', 'уголовный', 'число', 'проект', 'создание', 'опубликовать', 'ассошиэйтед', 'станция', 'вопрос', 'британский', 'министерство', 'машина', 'владимир', 'организация', 'регион', 'ведомство', 'мвд', 'автомобиль', 'журналист', 'принять', 'алексей', 'скончаться', 'франс', 'дом', 'район', 'средство', 'следовать', 'война', 'подписать', 'работа', 'найти', 'метро', 'отечественный', 'комитет', 'развитие', 'находиться', 'обсудить', 'директор', 'подмосковье', 'национальный', 'связь', 'заявление', 'александр', 'система', 'украинский', 'ряд', 'обнаружить', 'дагестан', 'провинция']\n",
            "1 ['режим', 'место', 'игра', 'чемпион', 'тренер', 'неделя', 'группа', 'убийство', 'месяц', 'найти', 'назвать', 'копейка', 'греция', 'чемпионат', 'курс', 'ванкувер', 'торг', 'футболист', 'выбор', 'сборный', 'сила', 'победа', 'турнир', 'участие', 'футбольный', 'известный', 'фестиваль', 'создать', 'весь', 'андрей', 'гувд', 'пост', 'считать', 'составлять', 'право', 'продажа', 'матч', 'футбол', 'главный', 'цска', 'воскресение', 'информация', 'август', 'британский', 'зал', 'появиться', 'янукович', 'обвинять', 'возможность', 'ассошиэйтед', 'финал', 'евгений', 'телефон', 'возбудить', 'история', 'являться', 'часть', 'команда', 'круг', 'союз', 'алексей', 'миллиард', 'игорь', 'интервью', 'остаться', 'составить', 'европейский', 'изменение', 'поддержка', 'ссылка', 'судебный', 'задержать', 'полиция', 'спортивный', 'рынок', 'биржа', 'испания', 'сергей', 'начальник', 'франс', 'случай', 'национальный', 'федерация', 'получить', 'партия', 'подмосковье', 'создание', 'май', 'самый', 'помощь', 'станция', 'суббота', 'сборная', 'евро', 'землетрясение', 'олимпийский', 'театр', 'жизнь', 'выиграть', 'отечественный']\n",
            "2 ['мчс', 'торг', 'взрыв', 'переговоры', 'проверка', 'снизиться', 'полиция', 'дтп', 'провинция', 'вырастить', 'мвд', 'больница', 'ссылка', 'землетрясение', 'убийство', 'погибнуть', 'вод', 'дагестан', 'пост', 'индекс', 'гаити', 'местный', 'правоохранительный', 'иск', 'авария', 'мера', 'визит', 'обнаружить', 'пожар', 'газета', 'биржа', 'северный', 'произойти', 'уголовный', 'автомобиль', 'пока', 'ассошиэйтед', 'мид', 'утром', 'работа', 'служба', 'аэропорт', 'игорь', 'греция', 'пострадать', 'прокуратура', 'экономика', 'шахта', 'источник', 'сми', 'производство', 'система', 'телеканал', 'станция', 'рост', 'ведомство', 'рынок', 'администрация', 'район', 'найти', 'встреча', 'афганистан', 'региональный', 'машина', 'пресс', 'акция', 'китай', 'скончаться', 'копейка', 'скп', 'следственный', 'признать', 'американский', 'поезд', 'жизнь', 'возбудить', 'задержать', 'банка', 'дать', 'вечером', 'информация', 'киргизия', 'теннисный', 'франс', 'подмосковье', 'опубликовать', 'интервью', 'цена', 'юг', 'гувд', 'чемпионат', 'британский', 'отдел', 'украинский', 'сила', 'футбол', 'составить', 'фон', 'соглашение', 'тур']\n",
            "3 ['турнир', 'считать', 'признать', 'сборный', 'сборная', 'чемпионат', 'свидетельствовать', 'команда', 'говориться', 'посетить', 'футболист', 'визит', 'пройти', 'писать', 'матч', 'история', 'создать', 'выиграть', 'открыть', 'открыться', 'мир', 'форум', 'назвать', 'проходить', 'выставка', 'представить', 'теннисный', 'хороший', 'продажа', 'игра', 'следовать', 'призвать', 'вырастить', 'круг', 'кубок', 'помочь', 'сайт', 'начать', 'лига', 'футбольный', 'первое', 'открытый', 'впервые', 'футбол', 'тренер', 'выйти', 'состояться', 'цска', 'соглашение', 'самый', 'иск', 'провести', 'выступать', 'финал', 'появиться', 'завершить', 'принять', 'рассказать', 'территория', 'задержать', 'намерить', 'создание', 'европейский', 'снизиться', 'площадь', 'доллар', 'крупный', 'строительство', 'европа', 'фестиваль', 'против', 'отношение', 'месяц', 'победа', 'клуб', 'сообщаться', 'начаться', 'предлагать', 'проводить', 'известный', 'экономика', 'объявить', 'также', 'направить', 'найти', 'мировой', 'подписать', 'развитие', 'чемпион', 'возможность', 'открытие', 'планировать', 'конец', 'обсудить', 'встреча', 'последний', 'договор', 'мочь', 'заседание', 'посвятить']\n",
            "4 ['ссылка', 'остров', 'теннисный', 'считать', 'обвинять', 'обнаружить', 'россиянин', 'газета', 'аэропорт', 'житель', 'ассошиэйтед', 'писать', 'мир', 'назвать', 'телеканал', 'призвать', 'гражданин', 'фон', 'франс', 'взрыв', 'рейтер', 'британский', 'сми', 'столица', 'последний', 'матч', 'дать', 'скончаться', 'юг', 'район', 'получить', 'часть', 'янукович', 'предлагать', 'вод', 'турнир', 'около', 'землетрясение', 'футболист', 'начальник', 'признать', 'произойти', 'опубликовать', 'открыть', 'жертва', 'ночь', 'южный', 'сообщение', 'китай', 'территория', 'погибнуть', 'найти', 'сообщаться', 'пресс', 'жизнь', 'милиция', 'впервые', 'тренер', 'семь', 'несколько', 'северный', 'станция', 'больница', 'полиция', 'результат', 'пять', 'продажа', 'доллар', 'самый', 'сайт', 'говориться', 'режим', 'большой', 'местный', 'начать', 'автомобиль', 'милиционер', 'официальный', 'четыре', 'банка', 'суббота', 'представить', 'испания', 'евро', 'месяц', 'передавать', 'областной', 'воскресение', 'задержать', 'биржа', 'дорога', 'чемпионат', 'серия', 'против', 'губернатор', 'афганистан', 'подписать', 'погибший', 'остаться', 'выиграть']\n",
            "5 ['комитет', 'орган', 'система', 'проблема', 'греция', 'считать', 'намерить', 'уровень', 'чемпионат', 'итог', 'представить', 'поддержка', 'история', 'иностранный', 'свидетельствовать', 'государство', 'мир', 'директор', 'лидер', 'ванкувер', 'программа', 'турнир', 'совет', 'форум', 'экономика', 'призвать', 'возможность', 'чемпион', 'проведение', 'планировать', 'встреча', 'комиссия', 'игра', 'рамка', 'мероприятие', 'развитие', 'выступать', 'польша', 'должный', 'команда', 'средство', 'производство', 'интервью', 'изменение', 'выставка', 'вопрос', 'проект', 'мировой', 'иран', 'объявить', 'лига', 'доллар', 'участие', 'сотрудничество', 'министр', 'начать', 'франция', 'пост', 'турция', 'готовый', 'завершить', 'хороший', 'дмитрий', 'строительство', 'визит', 'мера', 'пройти', 'помочь', 'политика', 'впервые', 'ядерный', 'новый', 'принять', 'матч', 'назначить', 'против', 'победа', 'тренер', 'решение', 'следовать', 'футбол', 'союз', 'испания', 'россиянин', 'французский', 'состав', 'сборный', 'европейский', 'виктор', 'передавать', 'кубок', 'рост', 'биржа', 'весь', 'европа', 'право', 'большой', 'назвать', 'нефть', 'сборная']\n",
            "6 ['мчс', 'больница', 'гувд', 'милиционер', 'источник', 'столичный', 'дом', 'район', 'пожар', 'подмосковье', 'станция', 'областной', 'возбудить', 'дагестан', 'составить', 'поезд', 'городской', 'рассказать', 'погибнуть', 'край', 'региональный', 'корреспондент', 'погибший', 'машина', 'остров', 'взрыв', 'землетрясение', 'театр', 'вечером', 'утром', 'пострадавший', 'шахта', 'дорога', 'вод', 'отдел', 'милиция', 'великий', 'произойти', 'скончаться', 'департамент', 'открыться', 'евро', 'администрация', 'фестиваль', 'скп', 'столица', 'ведомство', 'дтп', 'обнаружить', 'мвд', 'автомобиль', 'место', 'провинция', 'телеканал', 'семь', 'житель', 'евгений', 'ночь', 'получить', 'около', 'телефон', 'начальник', 'начаться', 'следственный', 'правоохранительный', 'полиция', 'доллар', 'война', 'появиться', 'пострадать', 'сотрудник', 'клуб', 'россиянин', 'ванкувер', 'кубок', 'служба', 'авария', 'акция', 'жизнь', 'пресс', 'олимпийский', 'уголовный', 'детский', 'судебный', 'семья', 'банка', 'начать', 'находиться', 'открытый', 'орган', 'губернатор', 'четыре', 'проверка', 'смочь', 'главный', 'площадь', 'остаться', 'испания', 'рейтер', 'матч']\n",
            "7 ['бывший', 'суббота', 'киргизия', 'евгений', 'спортивный', 'футбольный', 'пока', 'грузия', 'воскресение', 'ветеран', 'решение', 'руководство', 'возможность', 'гувд', 'афганистан', 'оон', 'цска', 'тренер', 'израиль', 'организация', 'шахта', 'республика', 'михаил', 'здание', 'провинция', 'польша', 'помочь', 'кубок', 'виктор', 'петербург', 'военный', 'совет', 'украинский', 'имя', 'участник', 'отечественный', 'ванкувер', 'сборный', 'передавать', 'милиция', 'новый', 'спорт', 'член', 'должный', 'сочи', 'партия', 'группа', 'пост', 'специалист', 'защита', 'орган', 'безопасность', 'областной', 'олимпийский', 'полиция', 'великий', 'средство', 'милиционер', 'команда', 'край', 'фонд', 'часть', 'парламент', 'уголовный', 'подготовка', 'предлагать', 'театр', 'считать', 'германия', 'франция', 'май', 'чемпион', 'строительство', 'также', 'корреспондент', 'турция', 'дтп', 'зал', 'ближний', 'чемпионат', 'французский', 'август', 'турнир', 'депутат', 'футбол', 'футболист', 'британский', 'дмитрий', 'случай', 'время', 'николай', 'рамка', 'гаити', 'вечером', 'союз', 'дагестан', 'теннисный', 'призвать', 'сила', 'служба']\n",
            "8 ['чемпионат', 'чемпион', 'служба', 'лига', 'округа', 'команда', 'футболист', 'орган', 'сборная', 'матч', 'турнир', 'кубок', 'сми', 'поезд', 'полиция', 'выйти', 'житель', 'гувд', 'тур', 'тренер', 'серия', 'выиграть', 'индекс', 'убийство', 'милиция', 'обнаружить', 'телеканал', 'пострадать', 'комитет', 'найти', 'милиционер', 'сборный', 'дорога', 'игра', 'машина', 'погибнуть', 'финал', 'юг', 'место', 'вечером', 'случай', 'ночь', 'скончаться', 'школа', 'футбольный', 'причина', 'факт', 'результат', 'цска', 'теннисный', 'круг', 'аэропорт', 'метро', 'источник', 'произойти', 'курс', 'семь', 'больница', 'театр', 'гаити', 'афганистан', 'большой', 'встреча', 'получить', 'выставка', 'движение', 'греция', 'смочь', 'уровень', 'вод', 'банка', 'жизнь', 'телефон', 'петербург', 'являться', 'лидер', 'корреспондент', 'россиянин', 'испания', 'район', 'пострадавший', 'газета', 'клуб', 'прибыть', 'землетрясение', 'дтп', 'иран', 'теракт', 'пост', 'скп', 'около', 'несколько', 'польша', 'участие', 'визит', 'михаил', 'шахта', 'открыться', 'автомобиль', 'победа']\n",
            "9 ['мчс', 'гувд', 'скончаться', 'скп', 'убийство', 'дтп', 'погибнуть', 'фестиваль', 'утром', 'источник', 'следственный', 'отдел', 'вечером', 'обнаружить', 'посетить', 'больница', 'правоохранительный', 'мвд', 'ночь', 'пострадать', 'погибший', 'район', 'неизвестный', 'администрация', 'возбудить', 'судебный', 'открыть', 'милиционер', 'ведомство', 'театр', 'прибыть', 'задержать', 'землетрясение', 'начальник', 'состояться', 'евгений', 'прокуратура', 'провинция', 'открыться', 'край', 'выйти', 'пожар', 'остаться', 'телефон', 'областной', 'назначить', 'взрыв', 'сми', 'подозревать', 'составить', 'дата', 'теракт', 'дом', 'получить', 'кубок', 'жертва', 'дагестан', 'индекс', 'полиция', 'спорт', 'произойти', 'департамент', 'пройти', 'рассмотреть', 'алексей', 'клуб', 'обсудить', 'провести', 'тренер', 'найти', 'копейка', 'принять', 'телеканал', 'выиграть', 'начаться', 'региональный', 'вырастить', 'газета', 'аэропорт', 'александр', 'петербург', 'николай', 'информация', 'главный', 'андрей', 'завершить', 'специалист', 'уголовный', 'пострадавший', 'результат', 'сотрудник', 'заместитель', 'корреспондент', 'турнир', 'обвинять', 'метро', 'банка', 'официальный', 'руководитель', 'ассошиэйтед']\n",
            "10 ['назвать', 'пройти', 'матч', 'евгений', 'выйти', 'сборный', 'турнир', 'кубок', 'состояться', 'победа', 'проходить', 'борьба', 'прибыть', 'открыться', 'чемпион', 'скончаться', 'задержать', 'британский', 'чемпионат', 'впервые', 'проводить', 'посвятить', 'испания', 'считать', 'центральный', 'германия', 'помочь', 'израиль', 'открыть', 'выиграть', 'сообщаться', 'русский', 'признать', 'событие', 'завершить', 'обнаружить', 'мир', 'воскресение', 'сборная', 'участие', 'провести', 'открытый', 'право', 'виктор', 'национальный', 'призвать', 'игра', 'ванкувер', 'убийство', 'дать', 'ветеран', 'хороший', 'андрей', 'главный', 'самый', 'война', 'ассошиэйтед', 'футбольный', 'против', 'выступать', 'неизвестный', 'грузия', 'россиянин', 'отношение', 'передавать', 'команда', 'находиться', 'являться', 'александр', 'возбудить', 'посетить', 'полиция', 'встреча', 'бывший', 'юрий', 'финал', 'начаться', 'смочь', 'официальный', 'суббота', 'николай', 'погибший', 'пострадать', 'южный', 'объявить', 'михаил', 'тренер', 'корреспондент', 'время', 'появиться', 'вечером', 'жизнь', 'найти', 'европа', 'серия', 'сайт', 'участник', 'сотрудник', 'теракт', 'французский']\n",
            "11 ['пройти', 'состояться', 'провести', 'рассмотреть', 'назначить', 'задержать', 'произойти', 'проводить', 'возбудить', 'опубликовать', 'подписать', 'обсудить', 'подозревать', 'объявить', 'отдел', 'проходить', 'ведомство', 'газета', 'выиграть', 'обнаружить', 'завершить', 'госдума', 'прокуратура', 'снизиться', 'выйти', 'причина', 'скончаться', 'милиционер', 'иск', 'мид', 'открыться', 'мвд', 'погибнуть', 'писать', 'следственный', 'являться', 'гувд', 'сми', 'выступать', 'скп', 'прибыть', 'телеканал', 'назвать', 'открыть', 'помочь', 'проведение', 'дата', 'неизвестный', 'отношение', 'полиция', 'посетить', 'начаться', 'сборный', 'рейтер', 'найти', 'интервью', 'ассошиэйтед', 'представить', 'известный', 'факт', 'милиция', 'семья', 'дтп', 'сборная', 'вырастить', 'появиться', 'команда', 'остаться', 'турция', 'признать', 'вод', 'правоохранительный', 'борьба', 'уголовный', 'считать', 'получить', 'принять', 'тренер', 'лига', 'средство', 'украинский', 'безопасность', 'ссылка', 'внутренний', 'обвинять', 'орган', 'франс', 'поддержка', 'пострадавший', 'алексей', 'ядерный', 'дагестан', 'провинция', 'официальный', 'начать', 'организация', 'защита', 'комитет', 'составить', 'ночь']\n",
            "12 ['передавать', 'интервью', 'считать', 'федеральный', 'евгений', 'воскресение', 'руководитель', 'суббота', 'рассказать', 'работа', 'проверка', 'спортивный', 'должный', 'сотрудник', 'александр', 'михаил', 'андрей', 'сообщение', 'предлагать', 'начальник', 'алексей', 'мероприятие', 'сергей', 'николай', 'ситуация', 'столичный', 'игорь', 'также', 'владимир', 'помочь', 'новый', 'победа', 'средство', 'уголовный', 'говориться', 'неделя', 'планировать', 'новое', 'сообщаться', 'большой', 'создание', 'решение', 'дмитрий', 'комплекс', 'финал', 'отношение', 'сборный', 'отечественный', 'совет', 'детский', 'свидетельствовать', 'оао', 'зал', 'русский', 'тренер', 'французский', 'намерить', 'это', 'направить', 'сборная', 'бывший', 'открытый', 'июль', 'договор', 'россиянин', 'председатель', 'строительство', 'вопрос', 'спорт', 'подмосковье', 'участие', 'юрий', 'участник', 'мир', 'игра', 'телефон', 'ветеран', 'проблема', 'программа', 'единый', 'писать', 'чемпионат', 'городской', 'олимпийский', 'судебный', 'площадь', 'развитие', 'государственный', 'проект', 'госдума', 'изменение', 'финансовый', 'являться', 'руководство', 'заместитель', 'путин', 'создать', 'апрель', 'работать', 'подготовка']\n",
            "13 ['система', 'экономика', 'государство', 'программа', 'путин', 'возможность', 'футбол', 'должный', 'борьба', 'уровень', 'вопрос', 'итог', 'проблема', 'рамка', 'пока', 'развитие', 'ванкувер', 'рынок', 'строительство', 'ядерный', 'производство', 'неделя', 'россиянин', 'министр', 'финансовый', 'ближний', 'решение', 'новый', 'госдума', 'рост', 'также', 'культура', 'сборный', 'федерация', 'изменение', 'место', 'дмитрий', 'фон', 'польша', 'тренер', 'мэр', 'свидетельствовать', 'чемпионат', 'биржа', 'сочи', 'фонд', 'ситуация', 'помочь', 'руководство', 'проект', 'евро', 'губернатор', 'шахта', 'иран', 'торг', 'интервью', 'подготовка', 'специалист', 'высокий', 'весь', 'гаити', 'миллиард', 'готовый', 'игра', 'белоруссия', 'регион', 'большой', 'виктор', 'команда', 'футболист', 'мир', 'франция', 'футбольный', 'время', 'договор', 'комплекс', 'греция', 'детский', 'директор', 'комиссия', 'новое', 'иностранный', 'лидер', 'нефть', 'лига', 'мероприятие', 'рабочий', 'экономический', 'май', 'грузия', 'совет', 'цска', 'причина', 'намерить', 'соглашение', 'планировать', 'израиль', 'чемпион', 'сотрудничество', 'хороший']\n",
            "14 ['ссылка', 'считать', 'испания', 'франс', 'остров', 'сборная', 'писать', 'погибнуть', 'найти', 'рейтер', 'автомобиль', 'кубок', 'государство', 'ассошиэйтед', 'обнаружить', 'министерство', 'индекс', 'вод', 'являться', 'свидетельствовать', 'семья', 'торг', 'группа', 'греция', 'часть', 'машина', 'лига', 'выйти', 'франция', 'французский', 'фон', 'назвать', 'совет', 'мчс', 'говориться', 'провинция', 'команда', 'чемпионат', 'объявить', 'серия', 'задержать', 'бывший', 'семь', 'турнир', 'самый', 'произойти', 'четыре', 'сборный', 'шесть', 'пострадать', 'доллар', 'около', 'пост', 'проверка', 'мвд', 'несколько', 'средство', 'американский', 'мир', 'полиция', 'встреча', 'телеканал', 'пресс', 'германия', 'турция', 'евро', 'завершить', 'сообщаться', 'готовый', 'предлагать', 'число', 'прокуратура', 'следовать', 'заместитель', 'последний', 'аэропорт', 'продажа', 'возбудить', 'детский', 'скп', 'гаити', 'правоохранительный', 'северный', 'китай', 'пострадавший', 'выиграть', 'мировой', 'также', 'период', 'нефть', 'начать', 'неизвестный', 'сайт', 'возможность', 'ночь', 'курс', 'составлять', 'теннисный', 'событие', 'жертва']\n",
            "15 ['должный', 'мочь', 'тренер', 'закон', 'ближний', 'киргизия', 'шахта', 'греция', 'место', 'мера', 'пока', 'решение', 'ванкувер', 'федеральный', 'рынок', 'предлагать', 'дагестан', 'транспорт', 'проверка', 'январь', 'выбор', 'россиянин', 'биржа', 'право', 'грузия', 'изменение', 'цска', 'мировой', 'госдума', 'рост', 'система', 'израиль', 'нарушение', 'судебный', 'апрель', 'борьба', 'июнь', 'финал', 'афганистан', 'март', 'сила', 'европейский', 'столичный', 'единый', 'дом', 'республика', 'регион', 'отечественный', 'станция', 'смочь', 'средство', 'режим', 'метро', 'ряд', 'олимпийский', 'местный', 'подмосковье', 'областной', 'американский', 'оон', 'работа', 'уровень', 'это', 'петербург', 'французский', 'суббота', 'программа', 'июль', 'случай', 'британский', 'экономический', 'производство', 'финансовый', 'белоруссия', 'пост', 'участник', 'край', 'китай', 'гаити', 'предприятие', 'банка', 'общественный', 'игра', 'дмитрий', 'ассошиэйтед', 'дорога', 'ведомство', 'милиция', 'партия', 'клуб', 'самый', 'большой', 'милиционер', 'месяц', 'интервью', 'воскресение', 'губернатор', 'создание', 'иран', 'прокуратура']\n",
            "16 ['проверка', 'киргизия', 'суббота', 'воскресение', 'ближний', 'пока', 'дагестан', 'шахта', 'греция', 'мочь', 'мера', 'март', 'должный', 'переговоры', 'неделя', 'апрель', 'январь', 'белоруссия', 'выбор', 'нарушение', 'ванкувер', 'тренер', 'служба', 'случай', 'мвд', 'май', 'дмитрий', 'июль', 'прокуратура', 'политика', 'февраль', 'рост', 'грузия', 'израиль', 'мероприятие', 'банка', 'акция', 'июнь', 'афганистан', 'иран', 'республика', 'метро', 'госдума', 'весь', 'единый', 'россиянин', 'предлагать', 'право', 'изменение', 'пост', 'решение', 'борьба', 'уровень', 'финансовый', 'турция', 'программа', 'министерство', 'предприятие', 'оон', 'август', 'система', 'место', 'руководство', 'скп', 'сборная', 'интервью', 'гувд', 'ряд', 'цска', 'губернатор', 'милиционер', 'ситуация', 'информация', 'рынок', 'сила', 'безопасность', 'теракт', 'машина', 'гаити', 'работа', 'владимир', 'регион', 'партия', 'ядерный', 'помощь', 'американский', 'биржа', 'это', 'янукович', 'закон', 'петербург', 'режим', 'правоохранительный', 'сочи', 'край', 'война', 'полиция', 'землетрясение', 'путин', 'месяц']\n",
            "17 ['заявление', 'ведомство', 'мчс', 'гувд', 'мвд', 'администрация', 'мид', 'сообщение', 'отдел', 'республика', 'спорт', 'комитет', 'губернатор', 'министерство', 'департамент', 'тренер', 'театр', 'клуб', 'фонд', 'столичный', 'полиция', 'телефон', 'округа', 'областной', 'цска', 'региональный', 'дтп', 'убийство', 'дом', 'больница', 'союз', 'телеканал', 'судебный', 'сайт', 'чемпион', 'министр', 'партия', 'федерация', 'предприятие', 'председатель', 'фестиваль', 'шахта', 'служба', 'край', 'банка', 'информация', 'скп', 'визит', 'украинский', 'победа', 'биржа', 'землетрясение', 'регион', 'следственный', 'заместитель', 'команда', 'комиссия', 'мэр', 'милиционер', 'игорь', 'польша', 'андрей', 'футболист', 'форум', 'финал', 'теннисный', 'скончаться', 'аэропорт', 'круг', 'столица', 'афганистан', 'дорога', 'дагестан', 'дата', 'гаити', 'городской', 'александр', 'сочи', 'комплекс', 'режим', 'евгений', 'парламент', 'война', 'переговоры', 'ванкувер', 'киргизия', 'кубок', 'подмосковье', 'правоохранительный', 'игра', 'пострадать', 'машина', 'провинция', 'сборный', 'прокуратура', 'официальный', 'турнир', 'виктор', 'великий', 'дмитрий']\n",
            "18 ['ссылка', 'обсудить', 'говориться', 'региональный', 'сообщаться', 'обнаружить', 'транспорт', 'находиться', 'провинция', 'рассмотреть', 'писать', 'направить', 'уголовный', 'объявить', 'посетить', 'группа', 'главный', 'возбудить', 'опубликовать', 'информация', 'нарушение', 'задержать', 'внутренний', 'подписать', 'торг', 'проводить', 'журналист', 'пресс', 'государственный', 'начаться', 'фон', 'дать', 'около', 'территория', 'правоохранительный', 'закон', 'владимир', 'администрация', 'здание', 'прибыть', 'произойти', 'число', 'сообщение', 'планировать', 'областной', 'автомобиль', 'рабочий', 'призвать', 'франс', 'ассошиэйтед', 'прокуратура', 'комплекс', 'рассказать', 'также', 'утром', 'найти', 'газета', 'передавать', 'посвятить', 'крупный', 'вечером', 'район', 'помощь', 'остров', 'подмосковье', 'открыться', 'дагестан', 'часть', 'казахстан', 'вырастить', 'министерство', 'создать', 'производство', 'средство', 'северный', 'снизиться', 'сотрудник', 'погибнуть', 'намерить', 'ночь', 'местный', 'факт', 'несколько', 'пять', 'юг', 'иностранный', 'орган', 'изменение', 'евро', 'ряд', 'связь', 'общественный', 'представить', 'федеральный', 'рамка', 'петербург', 'акция', 'пострадавший', 'экономический', 'пострадать']\n",
            "19 ['воскресение', 'суббота', 'киргизия', 'мчс', 'гувд', 'грузия', 'место', 'больница', 'скп', 'цска', 'дагестан', 'проверка', 'район', 'ближний', 'финал', 'турция', 'должный', 'интервью', 'республика', 'пока', 'комиссия', 'генеральный', 'режим', 'дорога', 'белоруссия', 'край', 'николай', 'милиционер', 'тренер', 'мочь', 'март', 'май', 'решение', 'правоохранительный', 'служба', 'круг', 'футбольный', 'право', 'оао', 'греция', 'корреспондент', 'срок', 'следственный', 'провинция', 'февраль', 'китай', 'мера', 'мероприятие', 'областной', 'игорь', 'мвд', 'июль', 'факт', 'футбол', 'апрель', 'выбор', 'алексей', 'сотрудник', 'телефон', 'ведомство', 'дмитрий', 'тур', 'состав', 'александр', 'отечественный', 'пост', 'январь', 'результат', 'впервые', 'андрей', 'полиция', 'иран', 'игра', 'футболист', 'администрация', 'информация', 'ванкувер', 'петербург', 'милиция', 'янукович', 'олимпийский', 'комитет', 'театр', 'совет', 'местный', 'округа', 'польша', 'южный', 'израиль', 'август', 'федеральный', 'аэропорт', 'франция', 'спортивный', 'переговоры', 'система', 'биржа', 'случай', 'руководство', 'единый']\n",
            "20 ['выиграть', 'европа', 'станция', 'вод', 'дорога', 'источник', 'последний', 'следственный', 'начальник', 'фон', 'директор', 'обнаружить', 'взрыв', 'россиянин', 'составлять', 'несколько', 'специалист', 'метро', 'ассошиэйтед', 'здание', 'турнир', 'житель', 'мчс', 'футболист', 'производство', 'писать', 'выйти', 'сотрудник', 'ночь', 'причина', 'землетрясение', 'остров', 'правоохранительный', 'жизнь', 'юг', 'сайт', 'милиционер', 'четыре', 'пострадавший', 'британский', 'район', 'поезд', 'олимпийский', 'председатель', 'произойти', 'остаться', 'крупный', 'американский', 'открыть', 'матч', 'пострадать', 'авария', 'убийство', 'составить', 'создать', 'жертва', 'цена', 'погибнуть', 'чемпион', 'задержать', 'находиться', 'столица', 'информация', 'мир', 'испания', 'начаться', 'семь', 'военный', 'воскресение', 'центральный', 'часть', 'серия', 'работать', 'результат', 'теракт', 'главный', 'мочь', 'число', 'рынок', 'руководитель', 'пресс', 'вечером', 'суббота', 'торг', 'сообщение', 'дом', 'получить', 'полиция', 'создание', 'местный', 'пять', 'место', 'состав', 'детский', 'федерация', 'появиться', 'шесть', 'свидетельствовать', 'факт', 'машина']\n",
            "21 ['считать', 'передавать', 'писать', 'сообщаться', 'говориться', 'турнир', 'свидетельствовать', 'матч', 'чемпионат', 'лига', 'мир', 'призвать', 'игра', 'назвать', 'кубок', 'следовать', 'футболист', 'выиграть', 'предлагать', 'помочь', 'воскресение', 'испания', 'британский', 'решение', 'лидер', 'французский', 'европейский', 'суббота', 'должный', 'россиянин', 'выбор', 'создать', 'хороший', 'создание', 'намерить', 'впервые', 'смочь', 'новый', 'американский', 'зал', 'состав', 'планировать', 'финал', 'самый', 'готовый', 'европа', 'мочь', 'серия', 'сборная', 'проходить', 'сообщение', 'представить', 'мировой', 'франция', 'сборный', 'поддержка', 'финансовый', 'ванкувер', 'рассказать', 'тур', 'большой', 'также', 'команда', 'футбольный', 'история', 'последний', 'спортивный', 'являться', 'объявить', 'возможность', 'против', 'иск', 'ближний', 'франс', 'участие', 'выступать', 'грузия', 'новое', 'проводить', 'здание', 'руководитель', 'победа', 'экономика', 'работа', 'футбол', 'тренер', 'открыть', 'июнь', 'место', 'евро', 'цска', 'ассошиэйтед', 'участник', 'принять', 'сайт', 'пять', 'провести', 'крупный', 'открытие', 'ветеран']\n",
            "22 ['комплекс', 'право', 'госдума', 'организация', 'совет', 'безопасность', 'выставка', 'помощь', 'мероприятие', 'мочь', 'уровень', 'заседание', 'милиция', 'сборная', 'курс', 'также', 'решение', 'евгений', 'единый', 'миллиард', 'дмитрий', 'рынок', 'производство', 'имя', 'дтп', 'союз', 'пост', 'впервые', 'биржа', 'министерство', 'закон', 'теракт', 'финансовый', 'форум', 'изменение', 'создание', 'проверка', 'образование', 'заявление', 'акция', 'март', 'период', 'программа', 'парламент', 'общественный', 'государство', 'игорь', 'сообщаться', 'ряд', 'проект', 'столичный', 'сотрудничество', 'путин', 'система', 'намерить', 'андрей', 'лидер', 'строительство', 'бывший', 'пока', 'экономика', 'средство', 'мид', 'грузия', 'полиция', 'политика', 'соглашение', 'нарушение', 'должный', 'михаил', 'комиссия', 'американский', 'больница', 'александр', 'число', 'турнир', 'финал', 'китай', 'июнь', 'футболист', 'мера', 'визит', 'федеральный', 'военный', 'культура', 'руководство', 'сергей', 'германия', 'серия', 'петербург', 'депутат', 'греция', 'рабочий', 'случай', 'мвд', 'иностранный', 'поддержка', 'иран', 'возможность', 'гувд']\n",
            "23 ['считать', 'предлагать', 'суббота', 'воскресение', 'интервью', 'подготовка', 'экономика', 'решение', 'вопрос', 'программа', 'закон', 'возможность', 'право', 'намерить', 'создание', 'система', 'миллиард', 'средство', 'договор', 'европейский', 'отношение', 'тренер', 'организация', 'развитие', 'проект', 'готовый', 'поддержка', 'должный', 'выбор', 'проблема', 'экономический', 'государство', 'финансовый', 'соглашение', 'ситуация', 'зал', 'ядерный', 'хороший', 'виктор', 'отечественный', 'федерация', 'образование', 'федеральный', 'помочь', 'также', 'планировать', 'политика', 'итог', 'ближний', 'направить', 'срок', 'сергей', 'это', 'сотрудничество', 'единый', 'спорт', 'первое', 'весь', 'уровень', 'игра', 'фонд', 'следовать', 'проведение', 'дмитрий', 'совет', 'являться', 'продажа', 'защита', 'госдума', 'победа', 'борьба', 'руководство', 'спортивный', 'новый', 'ветеран', 'комиссия', 'свидетельствовать', 'алексей', 'белоруссия', 'юрий', 'чемпионат', 'форум', 'изменение', 'назвать', 'создать', 'иностранный', 'говориться', 'михаил', 'оон', 'сборный', 'цска', 'рынок', 'появиться', 'смочь', 'высокий', 'олимпийский', 'бывший', 'мир', 'футбольный', 'против']\n",
            "24 ['гувд', 'прокуратура', 'скп', 'мвд', 'мчс', 'отдел', 'ведомство', 'неизвестный', 'судебный', 'дтп', 'убийство', 'милиция', 'следственный', 'мид', 'задержать', 'возбудить', 'дагестан', 'телефон', 'больница', 'уголовный', 'орган', 'служба', 'администрация', 'погибнуть', 'источник', 'областной', 'сми', 'полиция', 'край', 'подозревать', 'правоохранительный', 'сергей', 'пострадать', 'общественный', 'милиционер', 'игорь', 'алексей', 'дорога', 'николай', 'региональный', 'департамент', 'виктор', 'республика', 'андрей', 'округа', 'банка', 'заявление', 'движение', 'взрыв', 'владимир', 'афганистан', 'заместитель', 'произойти', 'александр', 'обвинять', 'иск', 'предприятие', 'министерство', 'пост', 'комитет', 'сотрудник', 'киргизия', 'шахта', 'проверка', 'биржа', 'дмитрий', 'телеканал', 'комиссия', 'район', 'теракт', 'юрий', 'михаил', 'дата', 'аэропорт', 'евгений', 'утром', 'признать', 'госдума', 'местный', 'образование', 'закон', 'мера', 'машина', 'регион', 'партия', 'авария', 'найти', 'обнаружить', 'пожар', 'тренер', 'пострадавший', 'землетрясение', 'газета', 'союз', 'торг', 'вечером', 'школа', 'режим', 'копейка', 'политика']\n",
            "25 ['открытый', 'ведомство', 'отдел', 'государственный', 'региональный', 'правоохранительный', 'предприятие', 'рассмотреть', 'закон', 'республика', 'областной', 'департамент', 'прокуратура', 'средство', 'директор', 'федеральный', 'создание', 'городской', 'губернатор', 'служба', 'произойти', 'орган', 'неизвестный', 'администрация', 'убийство', 'заявление', 'защита', 'киргизия', 'погибнуть', 'скп', 'пожар', 'подозревать', 'обнаружить', 'связь', 'внутренний', 'взрыв', 'система', 'руководитель', 'проводить', 'обвинять', 'министерство', 'снизиться', 'источник', 'вопрос', 'общественный', 'комитет', 'направить', 'иностранный', 'возбудить', 'следовать', 'метро', 'начальник', 'журналист', 'землетрясение', 'находиться', 'заместитель', 'ссылка', 'мир', 'говориться', 'газа', 'путин', 'милиционер', 'генеральный', 'подмосковье', 'вырастить', 'мэр', 'пострадавший', 'школа', 'госдума', 'район', 'появиться', 'транспорт', 'военный', 'дагестан', 'семья', 'обсудить', 'местный', 'владимир', 'комплекс', 'центральный', 'ряд', 'полиция', 'милиция', 'член', 'сотрудник', 'проведение', 'доллар', 'гувд', 'банка', 'уголовный', 'отношение', 'нарушение', 'край', 'писать', 'казахстан', 'сми', 'экономический', 'это', 'шахта', 'сергей']\n",
            "26 ['областной', 'здание', 'источник', 'региональный', 'орган', 'республика', 'городской', 'направить', 'транспорт', 'возбудить', 'заместитель', 'подмосковье', 'обнаружить', 'сотрудник', 'обсудить', 'ведомство', 'департамент', 'предприятие', 'отдел', 'закон', 'рассмотреть', 'район', 'федеральный', 'край', 'средство', 'великий', 'скп', 'журналист', 'член', 'станция', 'произойти', 'округа', 'ссылка', 'экономический', 'проводить', 'организация', 'культура', 'регион', 'уголовный', 'прокуратура', 'площадь', 'гувд', 'взрыв', 'дагестан', 'следственный', 'связь', 'подозревать', 'корреспондент', 'провинция', 'сми', 'аэропорт', 'изменение', 'нарушение', 'находиться', 'оао', 'жизнь', 'развитие', 'создание', 'киргизия', 'начаться', 'больница', 'сообщение', 'заявление', 'милиция', 'остров', 'погибнуть', 'пожар', 'владимир', 'дом', 'начальник', 'заседание', 'соглашение', 'государственный', 'факт', 'открыться', 'убийство', 'образование', 'михаил', 'опубликовать', 'северный', 'погибший', 'украинский', 'срок', 'конец', 'военный', 'политика', 'руководитель', 'задержать', 'производство', 'милиционер', 'число', 'открыть', 'проверка', 'неизвестный', 'работа', 'пострадавший', 'председатель', 'фон', 'вырастить', 'составить']\n",
            "27 ['экономика', 'ядерный', 'выбор', 'землетрясение', 'авария', 'лига', 'изменение', 'мир', 'федерация', 'биржа', 'футбол', 'подготовка', 'команда', 'государство', 'греция', 'гаити', 'уровень', 'пожар', 'финансовый', 'олимпийский', 'дмитрий', 'иран', 'итог', 'европа', 'владимир', 'кубок', 'событие', 'оон', 'нефть', 'янукович', 'рынок', 'фестиваль', 'пока', 'должный', 'чемпионат', 'развитие', 'система', 'футболист', 'взрыв', 'парламент', 'сборная', 'нарушение', 'рост', 'ситуация', 'новое', 'тур', 'спорт', 'проект', 'китай', 'афганистан', 'организация', 'германия', 'виктор', 'программа', 'франция', 'испания', 'партия', 'шахта', 'сергей', 'американский', 'проведение', 'миллиард', 'весь', 'киргизия', 'это', 'ближний', 'госдума', 'польша', 'россиянин', 'цена', 'участие', 'специалист', 'андрей', 'поезд', 'впервые', 'теракт', 'поддержка', 'регион', 'визит', 'последний', 'союз', 'мировой', 'национальный', 'футбольный', 'проблема', 'жизнь', 'чемпион', 'новый', 'высокий', 'территория', 'продажа', 'образование', 'николай', 'мочь', 'дорога', 'выставка', 'мид', 'движение', 'планировать', 'спортивный']\n",
            "28 ['скп', 'мчс', 'начальник', 'отдел', 'гувд', 'назначить', 'пострадать', 'департамент', 'руководитель', 'прокуратура', 'мвд', 'правоохранительный', 'скончаться', 'обвинять', 'район', 'администрация', 'открыться', 'подозревать', 'следственный', 'обнаружить', 'житель', 'возбудить', 'погибнуть', 'задержать', 'факт', 'мэр', 'иск', 'сотрудник', 'рассмотреть', 'признать', 'заместитель', 'служба', 'убийство', 'территория', 'образование', 'орган', 'губернатор', 'детский', 'дом', 'источник', 'милиция', 'директор', 'подписать', 'пожар', 'председатель', 'областной', 'округа', 'телефон', 'предприятие', 'уголовный', 'театр', 'дорога', 'рассказать', 'составить', 'посетить', 'генеральный', 'городской', 'найти', 'больница', 'единый', 'комиссия', 'судебный', 'министерство', 'пройти', 'дтп', 'вод', 'милиционер', 'депутат', 'школа', 'великий', 'получить', 'фонд', 'произойти', 'главный', 'гражданин', 'дата', 'проводить', 'снизиться', 'представить', 'закон', 'направить', 'станция', 'находиться', 'вырастить', 'предлагать', 'появиться', 'комитет', 'пострадавший', 'александр', 'парламент', 'культура', 'специалист', 'информация', 'государственный', 'оао', 'неизвестный', 'семья', 'здание', 'составлять', 'состояться']\n",
            "29 ['говориться', 'свидетельствовать', 'следовать', 'ссылка', 'чемпионат', 'хороший', 'фон', 'известный', 'отдел', 'департамент', 'чемпион', 'мчс', 'команда', 'сборная', 'россиянин', 'сборный', 'клуб', 'гувд', 'игра', 'милиционер', 'губернатор', 'театр', 'проблема', 'правоохранительный', 'матч', 'лига', 'тренер', 'ванкувер', 'цска', 'подготовка', 'назвать', 'выиграть', 'администрация', 'принять', 'землетрясение', 'форум', 'турнир', 'министр', 'выйти', 'орган', 'рассмотреть', 'футбол', 'сочи', 'экономика', 'евгений', 'футболист', 'пока', 'специалист', 'рассказать', 'работать', 'последний', 'заместитель', 'фонд', 'столичный', 'победа', 'появиться', 'госдума', 'греция', 'милиция', 'круг', 'телефон', 'спортивный', 'официальный', 'петербург', 'самый', 'подписать', 'главный', 'министерство', 'найти', 'отечественный', 'мвд', 'генеральный', 'производство', 'игорь', 'интервью', 'кубок', 'спорт', 'воскресение', 'остаться', 'александр', 'получить', 'рейтер', 'дата', 'теннисный', 'израиль', 'турция', 'комитет', 'футбольный', 'казахстан', 'участник', 'продажа', 'полиция', 'ветеран', 'мэр', 'место', 'алексей', 'дтп', 'дагестан', 'союз', 'путин']\n",
            "30 ['скончаться', 'возбудить', 'милиционер', 'уголовный', 'рассмотреть', 'ночь', 'задержать', 'дтп', 'убийство', 'следственный', 'погибнуть', 'больница', 'неизвестный', 'правоохранительный', 'сайт', 'милиция', 'утром', 'теннисный', 'дорога', 'автомобиль', 'телеканал', 'подозревать', 'сборная', 'театр', 'гувд', 'вечером', 'матч', 'газета', 'кубок', 'район', 'дом', 'рейтер', 'машина', 'обвинять', 'фестиваль', 'серия', 'проверка', 'областной', 'полиция', 'рассказать', 'взрыв', 'сотрудник', 'составить', 'обнаружить', 'посвятить', 'пострадать', 'четыре', 'имя', 'семь', 'пресс', 'житель', 'открыть', 'провинция', 'скп', 'цска', 'факт', 'чемпионат', 'поезд', 'округа', 'информация', 'объявить', 'находиться', 'найти', 'корреспондент', 'здание', 'футболист', 'пострадавший', 'главный', 'французский', 'турнир', 'выиграть', 'шесть', 'городской', 'британский', 'открыться', 'около', 'место', 'произойти', 'евгений', 'пожар', 'авария', 'доллар', 'метро', 'край', 'остров', 'местный', 'ассошиэйтед', 'дать', 'мвд', 'столичный', 'русский', 'судебный', 'клуб', 'прокуратура', 'источник', 'состав', 'самый', 'впервые', 'финал', 'состояться']\n",
            "31 ['суббота', 'воскресение', 'мчс', 'убийство', 'тренер', 'дтп', 'руководитель', 'генеральный', 'комиссия', 'алексей', 'иск', 'проведение', 'проводить', 'заместитель', 'александр', 'начальник', 'мвд', 'член', 'организация', 'михаил', 'предлагать', 'интервью', 'взрыв', 'победа', 'участие', 'право', 'русский', 'безопасность', 'защита', 'заявление', 'здание', 'пост', 'житель', 'федерация', 'цска', 'участник', 'сборный', 'пока', 'председатель', 'команда', 'военный', 'находиться', 'около', 'время', 'ветеран', 'создать', 'открыть', 'главный', 'пройти', 'общественный', 'авария', 'союз', 'спортивный', 'сергей', 'известный', 'спорт', 'игорь', 'комитет', 'имя', 'теракт', 'тур', 'договор', 'подготовка', 'сотрудник', 'война', 'клуб', 'машина', 'великий', 'депутат', 'проект', 'уголовный', 'провести', 'милиционер', 'совет', 'внутренний', 'информация', 'погибнуть', 'завершить', 'жизнь', 'бывший', 'открытый', 'единый', 'телефон', 'помощь', 'скп', 'погибший', 'партия', 'отечественный', 'дом', 'афганистан', 'нарушение', 'сообщение', 'помочь', 'белоруссия', 'культура', 'директор', 'фонд', 'работать', 'гувд', 'прокуратура']\n",
            "32 ['суббота', 'воскресение', 'бывший', 'погибнуть', 'полиция', 'обвинять', 'мвд', 'подозревать', 'имя', 'пострадать', 'подготовка', 'уголовный', 'находиться', 'получить', 'иск', 'убийство', 'член', 'русский', 'время', 'житель', 'участие', 'погибший', 'задержать', 'отечественный', 'около', 'милиция', 'начальник', 'украинский', 'проводить', 'детский', 'общественный', 'участник', 'здание', 'ветеран', 'создать', 'местный', 'франс', 'подписать', 'предлагать', 'факт', 'прокуратура', 'открытый', 'телеканал', 'орган', 'пострадавший', 'обнаружить', 'говориться', 'спорт', 'александр', 'скончаться', 'нарушение', 'сборный', 'проверка', 'милиционер', 'оон', 'назвать', 'алексей', 'ссылка', 'сотрудник', 'направить', 'тренер', 'руководитель', 'составлять', 'дтп', 'провинция', 'известный', 'остров', 'матч', 'работать', 'спортивный', 'евгений', 'совет', 'служба', 'машина', 'главный', 'грузия', 'жертва', 'михаил', 'край', 'руководство', 'гувд', 'посвятить', 'борьба', 'северный', 'городской', 'выйти', 'юрий', 'чемпион', 'областной', 'возбудить', 'юг', 'следственный', 'внутренний', 'военный', 'победа', 'серия', 'комиссия', 'неизвестный', 'семья', 'остаться']\n",
            "33 ['переговоры', 'проверка', 'торг', 'встреча', 'выбор', 'мероприятие', 'акция', 'мчс', 'матч', 'неделя', 'заседание', 'театр', 'больница', 'теннисный', 'администрация', 'форум', 'биржа', 'чемпионат', 'март', 'турнир', 'сборная', 'рост', 'чемпион', 'правоохранительный', 'тренер', 'банка', 'август', 'месяц', 'землетрясение', 'фестиваль', 'пока', 'скп', 'кубок', 'губернатор', 'февраль', 'воскресение', 'андрей', 'интервью', 'апрель', 'госдума', 'пост', 'областной', 'мид', 'мвд', 'дом', 'телефон', 'борьба', 'мочь', 'производство', 'место', 'июнь', 'серия', 'игра', 'отечественный', 'республика', 'суббота', 'регион', 'работа', 'готовый', 'ванкувер', 'цска', 'провинция', 'программа', 'южный', 'мир', 'станция', 'война', 'дтп', 'срок', 'киргизия', 'испания', 'греция', 'район', 'погибший', 'машина', 'май', 'полиция', 'корреспондент', 'китай', 'клуб', 'вод', 'визит', 'метро', 'курс', 'имя', 'судебный', 'подмосковье', 'обвинять', 'гувд', 'белоруссия', 'нефть', 'выставка', 'дагестан', 'европа', 'неизвестный', 'региональный', 'генеральный', 'следственный', 'футболист', 'ведомство']\n",
            "34 ['считать', 'визит', 'турнир', 'бывший', 'футбол', 'сборная', 'команда', 'тренер', 'матч', 'свидетельствовать', 'сотрудничество', 'соглашение', 'говориться', 'иностранный', 'развитие', 'признать', 'следовать', 'обсудить', 'мировой', 'право', 'выбор', 'сборный', 'футболист', 'являться', 'встреча', 'намерить', 'финал', 'создание', 'чемпионат', 'переговоры', 'изменение', 'заявление', 'уровень', 'виктор', 'экономика', 'готовый', 'предлагать', 'против', 'игорь', 'назвать', 'руководство', 'также', 'выиграть', 'дмитрий', 'партия', 'отношение', 'депутат', 'проводить', 'чемпион', 'выступать', 'гражданин', 'внутренний', 'весь', 'ядерный', 'выйти', 'направить', 'закон', 'помочь', 'политика', 'смочь', 'фонд', 'цска', 'проходить', 'решение', 'евгений', 'федерация', 'клуб', 'круг', 'ряд', 'проблема', 'сергей', 'курс', 'возможность', 'союз', 'евро', 'договор', 'сайт', 'совет', 'финансовый', 'призвать', 'подписать', 'скп', 'программа', 'первое', 'футбольный', 'алексей', 'образование', 'заседание', 'государство', 'создать', 'форум', 'система', 'снизиться', 'поддержка', 'средство', 'индекс', 'случай', 'николай', 'единый', 'тур']\n",
            "35 ['считать', 'уголовный', 'внутренний', 'рассмотреть', 'милиция', 'предлагать', 'ассошиэйтед', 'рейтер', 'проводить', 'средство', 'говориться', 'несколько', 'дагестан', 'подозревать', 'писать', 'сообщаться', 'ссылка', 'дать', 'франс', 'неизвестный', 'проведение', 'руководство', 'полиция', 'пока', 'правоохранительный', 'газа', 'факт', 'прокуратура', 'закон', 'произойти', 'доллар', 'пострадавший', 'помочь', 'причина', 'следовать', 'находиться', 'подмосковье', 'решение', 'возбудить', 'евро', 'следственный', 'время', 'изменение', 'выиграть', 'американский', 'провинция', 'призвать', 'милиционер', 'ряд', 'случай', 'направить', 'признать', 'виктор', 'транспорт', 'провести', 'мера', 'мвд', 'обвинять', 'фон', 'турция', 'система', 'отношение', 'намерить', 'заявление', 'местный', 'южный', 'сотрудник', 'израиль', 'остаться', 'свидетельствовать', 'снизиться', 'опубликовать', 'казахстан', 'мочь', 'должный', 'связь', 'обнаружить', 'задержать', 'грузия', 'принять', 'федеральный', 'пресс', 'испания', 'завершить', 'греция', 'ситуация', 'цена', 'также', 'результат', 'финансовый', 'четыре', 'сообщение', 'республика', 'пять', 'край', 'пострадать', 'уровень', 'китай', 'национальный', 'против']\n",
            "36 ['копейка', 'курс', 'миллиард', 'единый', 'отношение', 'пострадать', 'гувд', 'евгений', 'начальник', 'николай', 'погибнуть', 'суббота', 'форум', 'округа', 'мчс', 'правоохранительный', 'милиция', 'район', 'военный', 'пожар', 'право', 'воскресение', 'администрация', 'губернатор', 'отдел', 'безопасность', 'областной', 'транспорт', 'метро', 'движение', 'тренер', 'милиционер', 'борьба', 'факт', 'задержать', 'прокуратура', 'главный', 'работать', 'здание', 'убийство', 'имя', 'скончаться', 'ряд', 'спорт', 'дтп', 'выставка', 'городской', 'юрий', 'цска', 'событие', 'мэр', 'корреспондент', 'госдума', 'произойти', 'общественный', 'ситуация', 'проверка', 'великий', 'фестиваль', 'образование', 'команда', 'помочь', 'взрыв', 'федерация', 'дагестан', 'северный', 'сборная', 'назвать', 'специалист', 'спортивный', 'скп', 'заместитель', 'сергей', 'председатель', 'больница', 'орган', 'юг', 'защита', 'следственный', 'региональный', 'михаил', 'ванкувер', 'сила', 'детский', 'сотрудник', 'партия', 'чемпионат', 'июль', 'александр', 'территория', 'неизвестный', 'кубок', 'впервые', 'утром', 'призвать', 'дом', 'южный', 'дмитрий', 'теракт', 'назначить']\n",
            "37 ['проводить', 'провести', 'проведение', 'итог', 'начальник', 'городской', 'житель', 'милиционер', 'завершить', 'сотрудник', 'уголовный', 'руководитель', 'результат', 'район', 'гувд', 'источник', 'прокуратура', 'милиция', 'край', 'директор', 'начать', 'причина', 'ветеран', 'дагестан', 'проходить', 'закон', 'находиться', 'факт', 'остров', 'нарушение', 'время', 'федеральный', 'депутат', 'дорога', 'отдел', 'россиянин', 'следственный', 'областной', 'пожар', 'судебный', 'орган', 'губернатор', 'мчс', 'семья', 'подозревать', 'произойти', 'рассказать', 'корреспондент', 'жертва', 'несколько', 'составлять', 'средство', 'пройти', 'участник', 'сайт', 'больница', 'машина', 'ход', 'местный', 'дать', 'дата', 'здание', 'правоохранительный', 'полиция', 'говориться', 'детский', 'рассмотреть', 'следовать', 'метро', 'авария', 'появиться', 'столичный', 'мэр', 'великий', 'скп', 'провинция', 'департамент', 'подмосковье', 'открыть', 'предлагать', 'работать', 'обнаружить', 'дтп', 'погибнуть', 'специалист', 'семь', 'составить', 'транспорт', 'ассошиэйтед', 'около', 'событие', 'передавать', 'общественный', 'региональный', 'зал', 'предприятие', 'изменение', 'система', 'мера', 'дом']\n",
            "38 ['внутренний', 'последний', 'землетрясение', 'хороший', 'подготовка', 'администрация', 'греция', 'экономика', 'китай', 'фон', 'ядерный', 'воскресение', 'афганистан', 'победа', 'август', 'рейтер', 'пять', 'это', 'франция', 'гувд', 'милиционер', 'июль', 'биржа', 'министерство', 'мчс', 'мвд', 'газа', 'место', 'суббота', 'поезд', 'авария', 'футбол', 'мир', 'европейский', 'рынок', 'сочи', 'пресс', 'курс', 'спортивный', 'мид', 'индекс', 'турция', 'телефон', 'северный', 'апрель', 'государство', 'несколько', 'правоохранительный', 'отдел', 'самый', 'губернатор', 'иностранный', 'польша', 'составлять', 'политика', 'против', 'республика', 'команда', 'весь', 'региональный', 'режим', 'четыре', 'месяц', 'сотрудничество', 'теннисный', 'торг', 'военный', 'также', 'ведомство', 'культура', 'семь', 'милиция', 'новый', 'европа', 'круг', 'полиция', 'март', 'мероприятие', 'дагестан', 'южный', 'клуб', 'шесть', 'корреспондент', 'сми', 'специалист', 'май', 'регион', 'казахстан', 'мочь', 'сборная', 'участник', 'скп', 'финал', 'транспорт', 'чемпионат', 'национальный', 'жизнь', 'шахта', 'рамка', 'иран']\n",
            "39 ['источник', 'мчс', 'губернатор', 'ведомство', 'гувд', 'министр', 'дорога', 'министерство', 'администрация', 'руководитель', 'начальник', 'республика', 'театр', 'пожар', 'департамент', 'округа', 'мвд', 'шахта', 'теракт', 'больница', 'областной', 'провинция', 'греция', 'сотрудник', 'визит', 'скп', 'район', 'киргизия', 'предприятие', 'пострадавший', 'землетрясение', 'сочи', 'полиция', 'дагестан', 'столичный', 'владимир', 'служба', 'милиционер', 'столица', 'региональный', 'парламент', 'прокуратура', 'мэр', 'отечественный', 'станция', 'директор', 'поезд', 'петербург', 'телефон', 'авария', 'правоохранительный', 'аэропорт', 'регион', 'утром', 'транспорт', 'алексей', 'турция', 'погибший', 'мид', 'нефть', 'михаил', 'госдума', 'ночь', 'дтп', 'сми', 'оон', 'остров', 'член', 'игорь', 'жертва', 'дмитрий', 'местный', 'александр', 'информация', 'евгений', 'газа', 'подмосковье', 'дом', 'режим', 'автомобиль', 'заместитель', 'казахстан', 'официальный', 'специалист', 'сергей', 'комитет', 'край', 'юг', 'машина', 'польша', 'площадь', 'белоруссия', 'ближний', 'конец', 'телеканал', 'ванкувер', 'вечером', 'торг', 'олимпийский', 'андрей']\n",
            "40 ['возбудить', 'подозревать', 'назначить', 'скончаться', 'открыться', 'обвинять', 'задержать', 'обнаружить', 'факт', 'рассказать', 'рассмотреть', 'пройти', 'отдел', 'посетить', 'вырастить', 'уголовный', 'скп', 'выиграть', 'погибнуть', 'признать', 'открыть', 'руководитель', 'снизиться', 'подписать', 'составить', 'оао', 'сотрудник', 'начальник', 'состояться', 'проходить', 'крупный', 'следственный', 'составлять', 'зал', 'появиться', 'сайт', 'выйти', 'источник', 'дата', 'прокуратура', 'бывший', 'городской', 'заместитель', 'сообщение', 'финал', 'пострадать', 'иск', 'получить', 'предлагать', 'специалист', 'работать', 'следовать', 'директор', 'дтп', 'завершить', 'мвд', 'назвать', 'судебный', 'образование', 'начаться', 'участие', 'считать', 'часть', 'круг', 'причина', 'александр', 'миллиард', 'дом', 'транспорт', 'подготовка', 'алексей', 'имя', 'нарушение', 'хороший', 'неизвестный', 'фестиваль', 'кубок', 'областной', 'победа', 'период', 'найти', 'серия', 'андрей', 'рамка', 'район', 'направить', 'прибыть', 'корреспондент', 'великий', 'дорога', 'федеральный', 'футбол', 'дать', 'связь', 'помочь', 'находиться', 'представить', 'четыре', 'житель', 'турнир']\n",
            "41 ['доллар', 'евро', 'около', 'направить', 'составлять', 'руководитель', 'создать', 'строительство', 'рабочий', 'автомобиль', 'большой', 'культура', 'официальный', 'средство', 'внутренний', 'признать', 'самый', 'планировать', 'подготовка', 'источник', 'пять', 'зал', 'южный', 'полиция', 'житель', 'образование', 'бывший', 'гувд', 'проводить', 'дорога', 'подмосковье', 'составить', 'служба', 'оао', 'создание', 'директор', 'детский', 'сотрудник', 'мир', 'обвинять', 'предприятие', 'остаться', 'спортивный', 'суббота', 'пострадавший', 'общественный', 'аэропорт', 'участие', 'готовый', 'принять', 'орган', 'помощь', 'снизиться', 'развитие', 'транспорт', 'хороший', 'алексей', 'крупный', 'уголовный', 'жизнь', 'получить', 'финансовый', 'говориться', 'городской', 'гражданин', 'спорт', 'комплекс', 'корреспондент', 'это', 'остров', 'первое', 'территория', 'газета', 'возможность', 'мвд', 'шесть', 'весь', 'израиль', 'проект', 'также', 'намерить', 'работать', 'выйти', 'отечественный', 'областной', 'россиянин', 'мера', 'война', 'пресс', 'начальник', 'предлагать', 'прокуратура', 'иск', 'мероприятие', 'великий', 'апрель', 'ведомство', 'проверка', 'пострадать', 'авария']\n",
            "42 ['больница', 'убийство', 'гувд', 'цска', 'футболист', 'отдел', 'объявить', 'шахта', 'копейка', 'ассошиэйтед', 'юг', 'жертва', 'погибнуть', 'правоохранительный', 'скп', 'полиция', 'турция', 'матч', 'индекс', 'рейтер', 'известный', 'теннисный', 'курс', 'мид', 'телефон', 'скончаться', 'футбол', 'выступать', 'франс', 'задержать', 'время', 'пост', 'команда', 'дагестан', 'причина', 'милиционер', 'евгений', 'провинция', 'произойти', 'назвать', 'андрей', 'сми', 'министерство', 'следственный', 'сотрудник', 'составить', 'свидетельствовать', 'сайт', 'гаити', 'аэропорт', 'официальный', 'дата', 'поезд', 'прибыть', 'киргизия', 'жизнь', 'чемпионат', 'николай', 'метро', 'результат', 'госдума', 'начаться', 'последний', 'дорога', 'ссылка', 'лига', 'история', 'шесть', 'телеканал', 'опубликовать', 'гражданин', 'против', 'начать', 'факт', 'остаться', 'сила', 'испания', 'департамент', 'мир', 'республика', 'афганистан', 'оон', 'финал', 'проводить', 'мвд', 'помочь', 'михаил', 'вырастить', 'назначить', 'германия', 'лидер', 'франция', 'греция', 'получить', 'район', 'кубок', 'местный', 'число', 'хороший', 'пресс']\n",
            "43 ['считать', 'матч', 'турнир', 'сборная', 'выиграть', 'сборный', 'назвать', 'говориться', 'писать', 'получить', 'чемпионат', 'задержать', 'передавать', 'мир', 'лига', 'кубок', 'сообщаться', 'пресс', 'самый', 'рейтер', 'история', 'свидетельствовать', 'финал', 'впервые', 'сайт', 'следовать', 'признать', 'проходить', 'воскресение', 'погибнуть', 'открыть', 'выйти', 'обнаружить', 'британский', 'футболист', 'ссылка', 'хороший', 'французский', 'серия', 'смочь', 'игра', 'команда', 'американский', 'суббота', 'являться', 'юг', 'крупный', 'завершить', 'футбол', 'объявить', 'найти', 'евро', 'прибыть', 'помочь', 'проводить', 'намерить', 'составлять', 'семь', 'находиться', 'теннисный', 'факт', 'вырастить', 'футбольный', 'причина', 'несколько', 'призвать', 'неизвестный', 'пройти', 'доллар', 'число', 'начать', 'четыре', 'жертва', 'пострадать', 'часть', 'также', 'против', 'посетить', 'спортивный', 'планировать', 'появиться', 'европа', 'произойти', 'испания', 'событие', 'продажа', 'франс', 'провести', 'дать', 'работать', 'результат', 'чемпион', 'начаться', 'подозревать', 'открытый', 'шесть', 'иск', 'скончаться', 'тренер', 'зал']\n",
            "44 ['погибнуть', 'ночь', 'погибший', 'факт', 'район', 'взрыв', 'задержать', 'обвинять', 'пострадать', 'подозревать', 'возбудить', 'великий', 'служба', 'прокуратура', 'гувд', 'больница', 'убийство', 'жертва', 'обнаружить', 'сотрудник', 'цска', 'утром', 'скп', 'источник', 'отдел', 'милиционер', 'дом', 'произойти', 'машина', 'иск', 'место', 'округа', 'школа', 'евгений', 'неизвестный', 'пожар', 'житель', 'орган', 'главный', 'провинция', 'метро', 'вечером', 'режим', 'матч', 'здание', 'уголовный', 'прибыть', 'клуб', 'начаться', 'имя', 'телеканал', 'ванкувер', 'полиция', 'телефон', 'площадь', 'следственный', 'правоохранительный', 'николай', 'открыться', 'вод', 'воскресение', 'областной', 'милиция', 'комитет', 'часть', 'известный', 'пострадавший', 'мчс', 'дата', 'получить', 'теракт', 'корреспондент', 'поезд', 'фестиваль', 'территория', 'остров', 'местный', 'участие', 'случай', 'время', 'ассошиэйтед', 'дагестан', 'около', 'ветеран', 'выйти', 'департамент', 'юг', 'движение', 'несколько', 'причина', 'семь', 'состояться', 'ведомство', 'остаться', 'чемпион', 'пройти', 'посвятить', 'край', 'проверка', 'подмосковье']\n",
            "45 ['считать', 'сообщаться', 'призвать', 'предлагать', 'передавать', 'фон', 'намерить', 'французский', 'писать', 'назвать', 'должный', 'решение', 'испания', 'лидер', 'направить', 'помочь', 'говориться', 'против', 'история', 'отношение', 'грузия', 'россиянин', 'руководство', 'американский', 'мировой', 'опубликовать', 'объявить', 'мир', 'бывший', 'британский', 'планировать', 'создание', 'являться', 'рамка', 'ветеран', 'греция', 'известный', 'выступать', 'европа', 'поддержка', 'возможность', 'иран', 'иностранный', 'закон', 'представить', 'проводить', 'создать', 'совет', 'европейский', 'футболист', 'первое', 'свидетельствовать', 'турнир', 'соглашение', 'рассмотреть', 'назначить', 'признать', 'проведение', 'германия', 'финал', 'футбольный', 'вопрос', 'игра', 'лига', 'курс', 'участие', 'русский', 'также', 'новое', 'это', 'хороший', 'иск', 'заседание', 'заявление', 'зал', 'система', 'встреча', 'украинский', 'провести', 'мера', 'ряд', 'доллар', 'новый', 'финансовый', 'обвинять', 'матч', 'начать', 'ванкувер', 'посвятить', 'изменение', 'большой', 'теннисный', 'выиграть', 'мочь', 'право', 'итог', 'чемпионат', 'ссылка', 'член', 'обсудить']\n",
            "46 ['считать', 'изменение', 'финансовый', 'срок', 'интервью', 'экономика', 'госдума', 'решение', 'должный', 'призвать', 'единый', 'проект', 'белоруссия', 'писать', 'чемпионат', 'ядерный', 'политика', 'федерация', 'фонд', 'дмитрий', 'чемпион', 'цска', 'россиянин', 'рамка', 'рынок', 'европейский', 'европа', 'экономический', 'виктор', 'намерить', 'развитие', 'программа', 'продажа', 'совет', 'производство', 'новое', 'сборный', 'также', 'государство', 'футбол', 'союз', 'игра', 'биржа', 'турнир', 'система', 'лидер', 'мировой', 'пост', 'поддержка', 'вопрос', 'депутат', 'уровень', 'олимпийский', 'соглашение', 'тренер', 'заседание', 'сотрудничество', 'футболист', 'иностранный', 'путин', 'предлагать', 'банка', 'футбольный', 'председатель', 'сила', 'игорь', 'землетрясение', 'грузия', 'израиль', 'доллар', 'образование', 'форум', 'выставка', 'весь', 'янукович', 'нефть', 'индекс', 'министр', 'мир', 'проблема', 'германия', 'партия', 'проведение', 'итог', 'французский', 'парламент', 'команда', 'матч', 'защита', 'смочь', 'договор', 'директор', 'возможность', 'переговоры', 'новый', 'греция', 'алексей', 'отношение', 'обсудить', 'русский']\n",
            "47 ['считать', 'сотрудничество', 'соглашение', 'интервью', 'европейский', 'вопрос', 'миллиард', 'переговоры', 'возможность', 'договор', 'турнир', 'итог', 'иностранный', 'впервые', 'свидетельствовать', 'создание', 'крупный', 'встреча', 'производство', 'программа', 'решение', 'объявить', 'европа', 'нефть', 'проект', 'создать', 'завершить', 'выступать', 'доллар', 'иск', 'ядерный', 'уровень', 'заявление', 'передавать', 'участие', 'визит', 'представить', 'система', 'планировать', 'национальный', 'мировой', 'экономика', 'проблема', 'виктор', 'евро', 'сборная', 'франция', 'ссылка', 'событие', 'поддержка', 'новый', 'открытие', 'выставка', 'против', 'выйти', 'чемпионат', 'совет', 'ближний', 'путин', 'пост', 'самый', 'назвать', 'политика', 'хороший', 'рамка', 'сборный', 'должный', 'цена', 'заседание', 'мир', 'лидер', 'развитие', 'следовать', 'призвать', 'государство', 'русский', 'форум', 'опубликовать', 'являться', 'финансовый', 'строительство', 'также', 'назначить', 'говориться', 'экономический', 'намерить', 'период', 'германия', 'фон', 'предлагать', 'конец', 'обсудить', 'дмитрий', 'выбор', 'государственный', 'писать', 'изменение', 'вырастить', 'руководство', 'кубок']\n",
            "48 ['интервью', 'закон', 'форум', 'председатель', 'руководитель', 'начальник', 'отдел', 'депутат', 'политика', 'округа', 'проект', 'сотрудничество', 'специалист', 'выставка', 'министр', 'владимир', 'театр', 'развитие', 'заместитель', 'александр', 'служба', 'программа', 'мероприятие', 'строительство', 'великий', 'союз', 'дмитрий', 'единый', 'победа', 'совет', 'андрей', 'сергей', 'комитет', 'федерация', 'тренер', 'система', 'директор', 'заседание', 'имя', 'сочи', 'договор', 'комплекс', 'станция', 'мчс', 'виктор', 'визит', 'культура', 'дтп', 'николай', 'член', 'орган', 'средство', 'белоруссия', 'тур', 'подготовка', 'игорь', 'департамент', 'сотрудник', 'футбольный', 'михаил', 'рынок', 'мэр', 'суббота', 'площадь', 'цена', 'спорт', 'вопрос', 'мвд', 'генеральный', 'юрий', 'банка', 'образование', 'алексей', 'путин', 'цска', 'назначить', 'экономика', 'школа', 'пожар', 'губернатор', 'проведение', 'скп', 'евгений', 'житель', 'фонд', 'лидер', 'создать', 'создание', 'воскресение', 'производство', 'убийство', 'организация', 'центральный', 'зал', 'посетить', 'рассказать', 'являться', 'готовый', 'защита', 'администрация']\n",
            "49 ['система', 'состав', 'департамент', 'мир', 'пройти', 'турнир', 'испания', 'участие', 'впервые', 'ванкувер', 'число', 'призвать', 'свидетельствовать', 'сообщаться', 'открытый', 'встреча', 'считать', 'провинция', 'поддержка', 'ряд', 'говориться', 'шесть', 'иран', 'телеканал', 'вод', 'случай', 'мера', 'петербург', 'прибыть', 'футбол', 'рамка', 'состояться', 'открыть', 'европа', 'команда', 'возможность', 'главный', 'отдел', 'посвятить', 'министр', 'футбольный', 'матч', 'теннисный', 'предлагать', 'должный', 'мочь', 'китай', 'официальный', 'решение', 'время', 'писать', 'чемпион', 'гаити', 'южный', 'история', 'рейтер', 'дмитрий', 'источник', 'провести', 'визит', 'рассказать', 'жизнь', 'футболист', 'цена', 'готовый', 'программа', 'высокий', 'орган', 'польша', 'михаил', 'назвать', 'переговоры', 'сайт', 'тренер', 'хороший', 'мероприятие', 'крупный', 'край', 'франция', 'событие', 'место', 'около', 'кубок', 'четыре', 'воскресение', 'дать', 'это', 'намерить', 'здание', 'пять', 'ситуация', 'конец', 'причина', 'информация', 'тур', 'планировать', 'ход', 'вопрос', 'погибнуть', 'ядерный']\n",
            "50 ['милиционер', 'милиция', 'столичный', 'остров', 'машина', 'полиция', 'гувд', 'скончаться', 'скп', 'мчс', 'метро', 'дагестан', 'погибнуть', 'шахта', 'вечером', 'больница', 'известный', 'местный', 'теракт', 'ночь', 'подписать', 'последний', 'пострадать', 'проверка', 'отдел', 'утром', 'областной', 'футболист', 'участник', 'театр', 'работать', 'подмосковье', 'район', 'убийство', 'мвд', 'правоохранительный', 'орган', 'команда', 'клуб', 'округа', 'землетрясение', 'дом', 'региональный', 'задержать', 'петербург', 'уголовный', 'франс', 'несколько', 'семь', 'взрыв', 'телеканал', 'жертва', 'главный', 'городской', 'ссылка', 'игра', 'дорога', 'фон', 'культура', 'воскресение', 'возбудить', 'сборный', 'прокуратура', 'дтп', 'ванкувер', 'рейтер', 'безопасность', 'результат', 'чемпион', 'шесть', 'край', 'администрация', 'спортивный', 'юг', 'андрей', 'место', 'движение', 'четыре', 'составить', 'неизвестный', 'информация', 'станция', 'пять', 'вод', 'имя', 'пожар', 'провинция', 'мировой', 'пострадавший', 'рассказать', 'мир', 'банка', 'подготовка', 'причина', 'россиянин', 'янукович', 'юрий', 'ассошиэйтед', 'кубок', 'сборная']\n",
            "51 ['михаил', 'округа', 'считать', 'рассказать', 'виктор', 'закон', 'иск', 'юрий', 'посвятить', 'хороший', 'николай', 'комплекс', 'сайт', 'провинция', 'цена', 'акция', 'средство', 'нефть', 'представить', 'свидетельствовать', 'сергей', 'срок', 'самый', 'судебный', 'школа', 'банка', 'итог', 'ветеран', 'чемпион', 'театр', 'спорт', 'первое', 'игра', 'участие', 'серия', 'проверка', 'евгений', 'создать', 'доллар', 'предлагать', 'клуб', 'следственный', 'региональный', 'интервью', 'евро', 'копейка', 'тренер', 'изменение', 'мэр', 'сборный', 'призвать', 'намерить', 'союз', 'появиться', 'обвинять', 'нарушение', 'россиянин', 'предприятие', 'миллиард', 'решение', 'составлять', 'назвать', 'случай', 'часть', 'дом', 'биржа', 'торг', 'кубок', 'рассмотреть', 'оао', 'андрей', 'выступать', 'игорь', 'столичный', 'находиться', 'жизнь', 'провести', 'система', 'алексей', 'александр', 'погибший', 'скп', 'германия', 'заседание', 'курс', 'зал', 'финал', 'фонд', 'спортивный', 'форум', 'государство', 'цска', 'федерация', 'финансовый', 'столица', 'принять', 'футболист', 'тур', 'получить', 'участник']\n",
            "52 ['ссылка', 'считать', 'бывший', 'назвать', 'назначить', 'пост', 'сборная', 'оон', 'встреча', 'являться', 'теннисный', 'призвать', 'совет', 'отношение', 'сборный', 'государство', 'должный', 'выбор', 'участие', 'олимпийский', 'предлагать', 'чемпионат', 'партия', 'журналист', 'первое', 'турнир', 'хороший', 'круг', 'выиграть', 'возможность', 'китай', 'организация', 'смочь', 'помочь', 'руководство', 'новое', 'принять', 'мид', 'путин', 'футбольный', 'против', 'европейский', 'финал', 'тур', 'намерить', 'суббота', 'безопасность', 'выступать', 'рассказать', 'парламент', 'команда', 'также', 'экономический', 'копейка', 'подписать', 'милиция', 'мир', 'федерация', 'администрация', 'финансовый', 'участник', 'высокий', 'имя', 'комиссия', 'экономика', 'единый', 'федеральный', 'случай', 'борьба', 'янукович', 'признать', 'свидетельствовать', 'сила', 'европа', 'официальный', 'это', 'посвятить', 'право', 'грузия', 'русский', 'воскресение', 'решение', 'россиянин', 'госдума', 'спорт', 'матч', 'судебный', 'направить', 'вопрос', 'политика', 'новый', 'франс', 'группа', 'курс', 'закон', 'впервые', 'национальный', 'ядерный', 'американский', 'игра']\n",
            "53 ['администрация', 'организация', 'отдел', 'ведомство', 'транспорт', 'государственный', 'подмосковье', 'развитие', 'михаил', 'вопрос', 'департамент', 'проводить', 'петербург', 'заместитель', 'федеральный', 'конец', 'прокуратура', 'владимир', 'журналист', 'предприятие', 'политика', 'гувд', 'центральный', 'поддержка', 'производство', 'сочи', 'республика', 'находиться', 'закон', 'пострадавший', 'министерство', 'партия', 'рассмотреть', 'проведение', 'дагестан', 'сотрудник', 'губернатор', 'алексей', 'безопасность', 'образование', 'белоруссия', 'режим', 'провинция', 'экономический', 'единый', 'дата', 'руководитель', 'помощь', 'подписать', 'великий', 'сми', 'следственный', 'военный', 'работать', 'мчс', 'группа', 'заявление', 'рынок', 'госдума', 'средство', 'скп', 'сергей', 'уголовный', 'городской', 'строительство', 'несколько', 'сотрудничество', 'открытие', 'юрий', 'факт', 'северный', 'больница', 'областной', 'грузия', 'информация', 'орган', 'провести', 'семья', 'комиссия', 'произойти', 'общественный', 'ряд', 'русский', 'мера', 'шахта', 'иностранный', 'обнаружить', 'телефон', 'судебный', 'региональный', 'направить', 'местный', 'мид', 'председатель', 'отечественный', 'юг', 'директор', 'начальник', 'связь', 'создание']\n",
            "54 ['доллар', 'милиционер', 'житель', 'милиция', 'израиль', 'полиция', 'найти', 'уголовный', 'вечером', 'орган', 'евро', 'открыться', 'вод', 'школа', 'причина', 'известный', 'грузия', 'гувд', 'ночь', 'обнаружить', 'подозревать', 'больница', 'германия', 'погибнуть', 'площадь', 'член', 'район', 'воскресение', 'неизвестный', 'задержать', 'убийство', 'остаться', 'мчс', 'участник', 'пока', 'юг', 'место', 'великий', 'режим', 'состав', 'бывший', 'теракт', 'машина', 'служба', 'польша', 'депутат', 'аэропорт', 'сборный', 'пресс', 'участие', 'культура', 'провинция', 'утром', 'автомобиль', 'проверка', 'скп', 'метро', 'суббота', 'военный', 'афганистан', 'призвать', 'пострадать', 'выбор', 'обвинять', 'сотрудник', 'около', 'дтп', 'комитет', 'россиянин', 'ванкувер', 'против', 'детский', 'спортивный', 'федерация', 'сми', 'проходить', 'работать', 'назвать', 'факт', 'проводить', 'связь', 'корреспондент', 'партия', 'возбудить', 'дом', 'футболист', 'телефон', 'правоохранительный', 'команда', 'состояться', 'серия', 'здание', 'принять', 'турнир', 'передавать', 'дагестан', 'событие', 'северный', 'турция', 'являться']\n",
            "55 ['ссылка', 'считать', 'государство', 'встреча', 'мид', 'турнир', 'рейтер', 'совет', 'бывший', 'призвать', 'фон', 'кубок', 'назвать', 'сборная', 'франция', 'пост', 'футбол', 'выбор', 'визит', 'польша', 'обсудить', 'американский', 'виктор', 'франс', 'германия', 'против', 'футбольный', 'курс', 'европейский', 'иран', 'парламент', 'испания', 'группа', 'сайт', 'команда', 'министерство', 'журналист', 'лига', 'матч', 'переговоры', 'греция', 'мир', 'мировой', 'возможность', 'самый', 'гаити', 'чемпионат', 'телеканал', 'сми', 'британский', 'газета', 'евро', 'готовый', 'свидетельствовать', 'европа', 'французский', 'афганистан', 'израиль', 'теннисный', 'также', 'заявление', 'должный', 'индекс', 'администрация', 'спортивный', 'являться', 'департамент', 'смочь', 'ассошиэйтед', 'оон', 'принять', 'программа', 'футболист', 'китай', 'ванкувер', 'случай', 'полиция', 'намерить', 'владимир', 'новый', 'число', 'впервые', 'партия', 'иностранный', 'предлагать', 'фонд', 'выиграть', 'сборный', 'михаил', 'цска', 'финансовый', 'сергей', 'новое', 'это', 'дмитрий', 'сила', 'биржа', 'предприятие', 'торг', 'игра']\n",
            "56 ['мировой', 'отечественный', 'назначить', 'месяц', 'выиграть', 'писать', 'проводить', 'против', 'являться', 'участник', 'следовать', 'провести', 'завершить', 'рассмотреть', 'время', 'ход', 'руководство', 'возбудить', 'рейтер', 'итог', 'пока', 'торг', 'тур', 'курс', 'путин', 'тренер', 'аэропорт', 'неизвестный', 'нефть', 'объявить', 'подмосковье', 'чемпион', 'подготовка', 'грузия', 'также', 'оао', 'предлагать', 'комитет', 'сообщаться', 'считать', 'подписать', 'китай', 'нарушение', 'газа', 'николай', 'круг', 'федерация', 'известный', 'производство', 'отношение', 'фон', 'спортивный', 'новый', 'сочи', 'евро', 'интервью', 'опубликовать', 'юрий', 'мир', 'турция', 'клуб', 'дагестан', 'находиться', 'метро', 'причина', 'дать', 'комиссия', 'футбольный', 'комплекс', 'пресс', 'министерство', 'свидетельствовать', 'остров', 'вопрос', 'предприятие', 'европа', 'помочь', 'произойти', 'скп', 'национальный', 'экономический', 'губернатор', 'сборный', 'американский', 'получить', 'ведомство', 'закон', 'изменение', 'возможность', 'телеканал', 'подозревать', 'шахта', 'европейский', 'неделя', 'чемпионат', 'задержать', 'конец', 'намерить', 'открыть', 'поддержка']\n",
            "57 ['прокуратура', 'ведомство', 'городской', 'владимир', 'сотрудник', 'дагестан', 'округа', 'юрий', 'путин', 'республика', 'начальник', 'милиция', 'мвд', 'федеральный', 'шахта', 'факт', 'направить', 'государственный', 'район', 'руководитель', 'региональный', 'скп', 'администрация', 'край', 'обнаружить', 'мера', 'общественный', 'областной', 'милиционер', 'возбудить', 'источник', 'пострадать', 'внутренний', 'рассмотреть', 'закон', 'орган', 'отдел', 'произойти', 'связь', 'петербург', 'неизвестный', 'регион', 'мчс', 'судебный', 'директор', 'провинция', 'правоохранительный', 'телефон', 'семья', 'сергей', 'сми', 'образование', 'подмосковье', 'ситуация', 'уголовный', 'предлагать', 'военный', 'убийство', 'проведение', 'метро', 'режим', 'пострадавший', 'следственный', 'комиссия', 'оон', 'журналист', 'местный', 'говориться', 'защита', 'департамент', 'великий', 'совет', 'рынок', 'министерство', 'губернатор', 'снизиться', 'алексей', 'средство', 'следовать', 'писать', 'погибнуть', 'безопасность', 'число', 'изменение', 'ссылка', 'единый', 'служба', 'развитие', 'предприятие', 'проводить', 'находиться', 'казахстан', 'сообщаться', 'столичный', 'отечественный', 'банка', 'северный', 'вырастить', 'обсудить', 'открытие']\n",
            "58 ['газета', 'рейтер', 'милиция', 'телеканал', 'опубликовать', 'пресс', 'сми', 'франс', 'сайт', 'погибнуть', 'ассошиэйтед', 'ночь', 'прокуратура', 'рассмотреть', 'дать', 'испания', 'милиционер', 'уголовный', 'жертва', 'пострадать', 'фон', 'открыть', 'район', 'утром', 'около', 'часть', 'житель', 'серия', 'полиция', 'произойти', 'проверка', 'провинция', 'местный', 'здание', 'вечером', 'областной', 'сборная', 'задержать', 'следственный', 'призвать', 'нарушение', 'факт', 'результат', 'начать', 'погибший', 'проводить', 'признать', 'китай', 'случай', 'мчс', 'юг', 'предприятие', 'партия', 'оон', 'авария', 'правоохранительный', 'площадь', 'шесть', 'провести', 'решение', 'смочь', 'округа', 'автомобиль', 'четыре', 'больница', 'июль', 'поезд', 'принять', 'февраль', 'говориться', 'гражданин', 'киргизия', 'итог', 'официальный', 'завершить', 'теннисный', 'северный', 'январь', 'первое', 'россиянин', 'дата', 'ветеран', 'шахта', 'открыться', 'сообщение', 'убийство', 'открытый', 'матч', 'копейка', 'причина', 'возбудить', 'последний', 'пять', 'представить', 'турнир', 'обнаружить', 'дом', 'пострадавший', 'акция', 'срок']\n",
            "59 ['теннисный', 'обнаружить', 'подозревать', 'взрыв', 'возбудить', 'пожар', 'остров', 'произойти', 'район', 'житель', 'провинция', 'пострадать', 'ссылка', 'писать', 'машина', 'неизвестный', 'ассошиэйтед', 'автомобиль', 'здание', 'найти', 'сотрудник', 'фон', 'погибнуть', 'франс', 'говориться', 'задержать', 'число', 'подмосковье', 'проверка', 'жертва', 'милиция', 'сообщаться', 'поезд', 'свидетельствовать', 'станция', 'результат', 'передавать', 'несколько', 'дать', 'правоохранительный', 'юг', 'утром', 'северный', 'находиться', 'авария', 'сообщение', 'следовать', 'часть', 'направить', 'семь', 'серия', 'дом', 'журналист', 'самый', 'получить', 'территория', 'вод', 'планировать', 'китай', 'пострадавший', 'площадь', 'признать', 'обвинять', 'транспорт', 'факт', 'мера', 'орган', 'британский', 'проводить', 'испания', 'петербург', 'источник', 'дтп', 'метро', 'округа', 'период', 'рейтер', 'шесть', 'работать', 'мочь', 'четыре', 'больница', 'помощь', 'ночь', 'выйти', 'торг', 'погибший', 'пять', 'футбольный', 'прибыть', 'землетрясение', 'сайт', 'полиция', 'около', 'европейский', 'работа', 'объявить', 'следственный', 'скп', 'месяц']\n",
            "60 ['источник', 'начальник', 'руководитель', 'директор', 'губернатор', 'мэр', 'министр', 'тренер', 'дмитрий', 'председатель', 'евгений', 'юрий', 'округа', 'цска', 'путин', 'заявление', 'сотрудник', 'игорь', 'владимир', 'депутат', 'алексей', 'сообщение', 'специалист', 'театр', 'случай', 'милиционер', 'чемпион', 'союз', 'сборный', 'сборная', 'тур', 'футболист', 'александр', 'федерация', 'николай', 'кубок', 'олимпийский', 'единый', 'корреспондент', 'зал', 'фонд', 'андрей', 'клуб', 'виктор', 'команда', 'лига', 'открытый', 'передавать', 'комплекс', 'мчс', 'ближний', 'турнир', 'отечественный', 'фестиваль', 'участник', 'договор', 'предлагать', 'программа', 'рынок', 'россиянин', 'форум', 'изменение', 'школа', 'цена', 'житель', 'подготовка', 'великий', 'отдел', 'милиция', 'лидер', 'гувд', 'футбол', 'комитет', 'территория', 'спорт', 'главный', 'сергей', 'проект', 'чемпионат', 'посвятить', 'мочь', 'биржа', 'весь', 'госдума', 'строительство', 'сочи', 'член', 'место', 'готовый', 'регион', 'акция', 'рамка', 'мвд', 'заместитель', 'право', 'решение', 'руководство', 'игра', 'уровень', 'ядерный']\n",
            "61 ['корреспондент', 'рассказать', 'суббота', 'воскресение', 'зал', 'источник', 'сборная', 'тренер', 'сотрудник', 'матч', 'гувд', 'сборный', 'лига', 'руководитель', 'команда', 'кубок', 'цска', 'турнир', 'передавать', 'клуб', 'место', 'федерация', 'чемпион', 'чемпионат', 'ванкувер', 'событие', 'начальник', 'специалист', 'история', 'больница', 'петербург', 'дата', 'мчс', 'скп', 'теннисный', 'мир', 'спорт', 'серия', 'убийство', 'спортивный', 'официальный', 'финал', 'полиция', 'главный', 'олимпийский', 'смочь', 'борьба', 'губернатор', 'испания', 'союз', 'хороший', 'круг', 'аэропорт', 'директор', 'орган', 'проверка', 'известный', 'решение', 'прокуратура', 'игра', 'турция', 'республика', 'остров', 'тур', 'французский', 'право', 'милиционер', 'евгений', 'жертва', 'иск', 'здание', 'состав', 'защита', 'россиянин', 'мера', 'футболист', 'информация', 'футбол', 'школа', 'часть', 'франция', 'лидер', 'германия', 'николай', 'организация', 'помочь', 'ситуация', 'областной', 'дагестан', 'причина', 'победа', 'пострадать', 'партия', 'предлагать', 'дать', 'также', 'округа', 'выбор', 'телефон', 'край']\n",
            "62 ['погибнуть', 'рейтер', 'милиция', 'задержать', 'скончаться', 'ночь', 'выиграть', 'скп', 'возбудить', 'милиционер', 'обнаружить', 'больница', 'полиция', 'неизвестный', 'подозревать', 'следственный', 'начальник', 'убийство', 'утром', 'пострадать', 'ассошиэйтед', 'факт', 'правоохранительный', 'местный', 'жертва', 'копейка', 'внутренний', 'дата', 'вечером', 'пресс', 'ссылка', 'последний', 'обвинять', 'произойти', 'мчс', 'прокуратура', 'гувд', 'рассмотреть', 'землетрясение', 'военный', 'признать', 'орган', 'уголовный', 'провинция', 'результат', 'франс', 'пострадавший', 'телефон', 'сми', 'фон', 'участник', 'юг', 'дагестан', 'остаться', 'информация', 'район', 'южный', 'взрыв', 'составить', 'вод', 'погибший', 'найти', 'мвд', 'проводить', 'причина', 'составлять', 'сайт', 'поезд', 'телеканал', 'евгений', 'финал', 'областной', 'выйти', 'объявить', 'семь', 'теракт', 'связь', 'шахта', 'официальный', 'киргизия', 'против', 'провести', 'здание', 'житель', 'нарушение', 'место', 'остров', 'руководитель', 'назначить', 'гаити', 'часть', 'движение', 'торг', 'аэропорт', 'германия', 'гражданин', 'край', 'сборный', 'сотрудник', 'метро']\n",
            "63 ['следственный', 'олимпийский', 'правоохранительный', 'сообщаться', 'лига', 'часть', 'создать', 'теннисный', 'признать', 'специалист', 'писать', 'последний', 'прокуратура', 'призвать', 'свидетельствовать', 'серия', 'поезд', 'говориться', 'кубок', 'произойти', 'ассошиэйтед', 'обнаружить', 'несколько', 'сообщение', 'сотрудник', 'мир', 'франс', 'суббота', 'следовать', 'самый', 'житель', 'открытый', 'германия', 'воскресение', 'столица', 'европа', 'чемпионат', 'акция', 'военный', 'британский', 'американский', 'национальный', 'футбольный', 'выиграть', 'информация', 'государственный', 'оао', 'также', 'детский', 'фон', 'четыре', 'создание', 'пострадать', 'рынок', 'футболист', 'составлять', 'состав', 'готовый', 'передавать', 'ссылка', 'смочь', 'причина', 'местный', 'остров', 'открыть', 'считать', 'продажа', 'жертва', 'проходить', 'дорога', 'помочь', 'экономика', 'начаться', 'миллиард', 'получить', 'решение', 'юг', 'газа', 'территория', 'рассказать', 'пять', 'договор', 'война', 'тур', 'ночь', 'планировать', 'мочь', 'выйти', 'финал', 'матч', 'торг', 'сила', 'руководство', 'назвать', 'мчс', 'футбол', 'должный', 'помощь', 'финансовый', 'находиться']\n",
            "64 ['департамент', 'возбудить', 'провинция', 'направить', 'пострадать', 'край', 'погибнуть', 'опубликовать', 'начальник', 'развитие', 'сотрудник', 'произойти', 'обвинять', 'отечественный', 'убийство', 'комиссия', 'федеральный', 'неизвестный', 'составить', 'государственный', 'движение', 'мчс', 'отдел', 'республика', 'подозревать', 'факт', 'район', 'региональный', 'задержать', 'прокуратура', 'дагестан', 'администрация', 'заместитель', 'министерство', 'правоохранительный', 'обнаружить', 'создание', 'комплекс', 'рассмотреть', 'регион', 'организация', 'посвятить', 'обсудить', 'городской', 'корреспондент', 'судебный', 'петербург', 'говориться', 'скончаться', 'строительство', 'подписать', 'киргизия', 'руководитель', 'теракт', 'сообщаться', 'находиться', 'иск', 'орган', 'рабочий', 'комитет', 'оао', 'ассошиэйтед', 'дать', 'погибший', 'взрыв', 'связь', 'источник', 'больница', 'пожар', 'режим', 'ссылка', 'сотрудничество', 'гувд', 'число', 'около', 'политика', 'вопрос', 'сергей', 'афганистан', 'областной', 'дом', 'сообщение', 'дтп', 'северный', 'поддержка', 'признать', 'автомобиль', 'ведомство', 'здание', 'подмосковье', 'нарушение', 'фон', 'создать', 'соглашение', 'округа', 'представить', 'проводить', 'проверка', 'семья', 'безопасность']\n",
            "65 ['участие', 'борьба', 'место', 'закон', 'считать', 'призвать', 'вопрос', 'обвинять', 'решение', 'крупный', 'фон', 'назвать', 'совет', 'дата', 'иран', 'лига', 'рамка', 'политика', 'круг', 'грузия', 'союз', 'дмитрий', 'лидер', 'финал', 'связь', 'сотрудничество', 'право', 'руководство', 'серия', 'заявление', 'возможность', 'выступать', 'организация', 'против', 'рейтер', 'кубок', 'подготовка', 'посвятить', 'федерация', 'госдума', 'сборный', 'участник', 'защита', 'оон', 'испания', 'футбол', 'экономический', 'переговоры', 'янукович', 'случай', 'франция', 'развитие', 'время', 'смочь', 'биржа', 'помочь', 'итог', 'государство', 'ядерный', 'система', 'россиянин', 'виктор', 'цска', 'проблема', 'новое', 'русский', 'говориться', 'передавать', 'национальный', 'планировать', 'известный', 'договор', 'чемпионат', 'рассказать', 'первое', 'пост', 'заседание', 'признать', 'также', 'новый', 'впервые', 'поддержка', 'футболист', 'период', 'месяц', 'встреча', 'фонд', 'средство', 'команда', 'доллар', 'олимпийский', 'евро', 'белоруссия', 'зал', 'предлагать', 'израиль', 'составлять', 'являться', 'намерить', 'министр']\n",
            "66 ['министр', 'федерация', 'вопрос', 'председатель', 'выступать', 'право', 'андрей', 'мэр', 'заседание', 'развитие', 'госдума', 'призвать', 'директор', 'изменение', 'соглашение', 'дата', 'обсудить', 'союз', 'путин', 'круг', 'политика', 'европа', 'курс', 'считать', 'итог', 'тренер', 'фон', 'мид', 'срок', 'рамка', 'миллиард', 'комиссия', 'министерство', 'проблема', 'сотрудничество', 'экономический', 'победа', 'участие', 'назвать', 'спортивный', 'генеральный', 'центральный', 'биржа', 'ряд', 'государственный', 'создание', 'губернатор', 'образование', 'также', 'мера', 'посвятить', 'направить', 'встреча', 'николай', 'договор', 'департамент', 'израиль', 'интервью', 'хороший', 'единый', 'экономика', 'команда', 'новое', 'против', 'национальный', 'создать', 'футбол', 'открытый', 'проходить', 'партия', 'продажа', 'подготовка', 'спорт', 'лидер', 'проведение', 'отношение', 'русский', 'состояться', 'грузия', 'фонд', 'история', 'признать', 'европейский', 'государство', 'назначить', 'возможность', 'пройти', 'чемпион', 'михаил', 'гаити', 'евгений', 'выиграть', 'являться', 'виктор', 'олимпийский', 'футбольный', 'программа', 'завершить', 'должный', 'копейка']\n",
            "67 ['считать', 'транспорт', 'французский', 'обнаружить', 'говориться', 'культура', 'следовать', 'здание', 'ассошиэйтед', 'признать', 'машина', 'призвать', 'являться', 'произойти', 'ссылка', 'неизвестный', 'рассказать', 'следственный', 'автомобиль', 'милиция', 'место', 'сообщаться', 'британский', 'олимпийский', 'финал', 'кубок', 'задержать', 'назвать', 'передавать', 'американский', 'образование', 'зал', 'сотрудник', 'лига', 'милиционер', 'иск', 'информация', 'суббота', 'подозревать', 'турнир', 'бывший', 'свидетельствовать', 'дом', 'назначить', 'франс', 'проверка', 'подмосковье', 'спортивный', 'иностранный', 'воскресение', 'сообщение', 'имя', 'дорога', 'причина', 'региональный', 'защита', 'спорт', 'серия', 'испания', 'чемпионат', 'петербург', 'северный', 'метро', 'евгений', 'ванкувер', 'матч', 'писать', 'грузия', 'внутренний', 'теракт', 'погибнуть', 'проводить', 'состав', 'мировой', 'станция', 'хороший', 'пожар', 'край', 'специалист', 'получить', 'вод', 'найти', 'школа', 'работа', 'решение', 'строительство', 'акция', 'появиться', 'объявить', 'возбудить', 'борьба', 'взрыв', 'месяц', 'алексей', 'выиграть', 'проходить', 'впервые', 'четыре', 'часть', 'семья']\n",
            "68 ['суббота', 'воскресение', 'скп', 'остров', 'пострадать', 'проводить', 'автомобиль', 'мчс', 'хороший', 'полиция', 'четыре', 'убийство', 'дагестан', 'выйти', 'провести', 'корреспондент', 'сборный', 'самый', 'участник', 'погибнуть', 'теннисный', 'событие', 'гувд', 'провинция', 'семья', 'аэропорт', 'милиционер', 'часть', 'остаться', 'семь', 'обнаружить', 'получить', 'выиграть', 'являться', 'пока', 'ассошиэйтед', 'футболист', 'французский', 'пострадавший', 'найти', 'рейтер', 'помочь', 'произойти', 'житель', 'дорога', 'открытый', 'мвд', 'россиянин', 'проходить', 'машина', 'несколько', 'пожар', 'около', 'результат', 'открыть', 'поезд', 'франс', 'проведение', 'орган', 'сборная', 'клуб', 'район', 'появиться', 'правоохранительный', 'завершить', 'турция', 'столица', 'начать', 'последний', 'помощь', 'милиция', 'местный', 'американский', 'вод', 'детский', 'шахта', 'находиться', 'киргизия', 'дать', 'отдел', 'случай', 'первое', 'серия', 'назвать', 'банка', 'финал', 'дом', 'подозревать', 'главный', 'дтп', 'столичный', 'кубок', 'жертва', 'информация', 'гаити', 'германия', 'взрыв', 'пять', 'гражданин', 'игра']\n",
            "69 ['обсудить', 'федеральный', 'направить', 'обнаружить', 'говориться', 'рассмотреть', 'возбудить', 'ссылка', 'объявить', 'сообщаться', 'создать', 'государственный', 'проводить', 'военный', 'связь', 'край', 'подозревать', 'проверка', 'неизвестный', 'республика', 'сообщение', 'сотрудник', 'журналист', 'администрация', 'факт', 'задержать', 'погибнуть', 'ведомство', 'великий', 'закон', 'число', 'пострадавший', 'местный', 'опубликовать', 'находиться', 'предлагать', 'здание', 'произойти', 'следственный', 'орган', 'заявление', 'уголовный', 'развитие', 'создание', 'прокуратура', 'региональный', 'экономический', 'транспорт', 'писать', 'дагестан', 'газа', 'пожар', 'производство', 'вод', 'соглашение', 'обвинять', 'начальник', 'подписать', 'призвать', 'правоохранительный', 'взрыв', 'нарушение', 'отдел', 'район', 'ряд', 'дать', 'провинция', 'китай', 'фон', 'сми', 'культура', 'северный', 'внутренний', 'отношение', 'юг', 'рабочий', 'департамент', 'владимир', 'передавать', 'защита', 'организация', 'подмосковье', 'пострадать', 'областной', 'помощь', 'казахстан', 'мера', 'вопрос', 'министерство', 'представить', 'около', 'городской', 'вырастить', 'киргизия', 'информация', 'афганистан', 'территория', 'строительство', 'работа', 'следовать']\n",
            "70 ['тренер', 'воскресение', 'мочь', 'суббота', 'чемпион', 'возможность', 'команда', 'жертва', 'дом', 'машина', 'больница', 'сборная', 'самый', 'игра', 'милиционер', 'сборный', 'столичный', 'место', 'ванкувер', 'месяц', 'взрыв', 'начальник', 'май', 'чемпионат', 'режим', 'дагестан', 'выбор', 'тур', 'сотрудник', 'руководитель', 'должный', 'проверка', 'петербург', 'здание', 'метро', 'право', 'мир', 'ассошиэйтед', 'цска', 'вод', 'причина', 'россиянин', 'смочь', 'январь', 'это', 'телефон', 'киргизия', 'состав', 'губернатор', 'клуб', 'игорь', 'олимпийский', 'прокуратура', 'март', 'несколько', 'август', 'результат', 'рост', 'испания', 'теннисный', 'мчс', 'погибший', 'срок', 'жизнь', 'последний', 'футболист', 'следственный', 'французский', 'нарушение', 'отечественный', 'пока', 'областной', 'время', 'поезд', 'станция', 'турнир', 'февраль', 'дорога', 'футбольный', 'футбол', 'андрей', 'акция', 'русский', 'евро', 'лига', 'театр', 'победа', 'специалист', 'убийство', 'корреспондент', 'британский', 'известный', 'полиция', 'четыре', 'сообщение', 'июль', 'гаити', 'район', 'закон', 'подмосковье']\n",
            "71 ['убийство', 'авария', 'завершить', 'пожар', 'поезд', 'шахта', 'дтп', 'скончаться', 'начать', 'взрыв', 'назначить', 'провести', 'оао', 'здание', 'газа', 'составить', 'житель', 'подписать', 'ночь', 'погибнуть', 'возбудить', 'метро', 'остров', 'район', 'теракт', 'нарушение', 'проводить', 'департамент', 'источник', 'писать', 'известный', 'круг', 'землетрясение', 'обнаружить', 'начаться', 'рассмотреть', 'доллар', 'евро', 'милиционер', 'семья', 'прибыть', 'зал', 'право', 'подмосковье', 'посетить', 'февраль', 'рассказать', 'дать', 'орган', 'автомобиль', 'дом', 'прокуратура', 'директор', 'отдел', 'мочь', 'сотрудник', 'михаил', 'задержать', 'находиться', 'пять', 'объявить', 'неизвестный', 'станция', 'индекс', 'пост', 'июль', 'министр', 'воскресение', 'январь', 'март', 'журналист', 'апрель', 'школа', 'предприятие', 'шесть', 'петербург', 'несколько', 'имя', 'утром', 'четыре', 'партия', 'русский', 'срок', 'состояться', 'принять', 'театр', 'край', 'банка', 'городской', 'опубликовать', 'цена', 'депутат', 'областной', 'вод', 'газета', 'алексей', 'региональный', 'найти', 'руководитель', 'передавать']\n",
            "72 ['источник', 'великий', 'начальник', 'обнаружить', 'метро', 'факт', 'мэр', 'появиться', 'руководитель', 'создание', 'начаться', 'нарушение', 'открыться', 'правоохранительный', 'директор', 'составлять', 'проверка', 'пострадать', 'ветеран', 'фон', 'защита', 'около', 'пострадавший', 'проводить', 'посвятить', 'милиционер', 'открыть', 'милиция', 'детский', 'остров', 'также', 'подготовка', 'культура', 'проходить', 'получить', 'транспорт', 'городской', 'планировать', 'пройти', 'производство', 'авария', 'находиться', 'работа', 'признать', 'дорога', 'шесть', 'информация', 'строительство', 'крупный', 'средство', 'специалист', 'гувд', 'рассмотреть', 'юг', 'состояться', 'остаться', 'выиграть', 'путин', 'китай', 'поезд', 'европейский', 'большой', 'район', 'торг', 'столица', 'намерить', 'рабочий', 'несколько', 'посетить', 'прокуратура', 'высокий', 'следственный', 'территория', 'центральный', 'пожар', 'сообщение', 'произойти', 'составить', 'дать', 'жертва', 'призвать', 'борьба', 'корреспондент', 'комплекс', 'погибший', 'погибнуть', 'губернатор', 'рамка', 'взрыв', 'вырастить', 'начать', 'система', 'снизиться', 'государственный', 'фестиваль', 'весь', 'следовать', 'американский', 'газа', 'сотрудник']\n",
            "73 ['отдел', 'гувд', 'уголовный', 'возбудить', 'являться', 'пройти', 'обвинять', 'правоохранительный', 'подозревать', 'проверка', 'помочь', 'суббота', 'погибнуть', 'право', 'фестиваль', 'милиционер', 'партия', 'игра', 'евгений', 'воскресение', 'детский', 'общественный', 'цска', 'прокуратура', 'победа', 'организация', 'чемпионат', 'группа', 'департамент', 'орган', 'убийство', 'милиция', 'областной', 'назвать', 'скп', 'пострадать', 'футбол', 'дтп', 'найти', 'первое', 'житель', 'признать', 'пострадавший', 'находиться', 'больница', 'проводить', 'война', 'южный', 'обнаружить', 'задержать', 'местный', 'министерство', 'состав', 'городской', 'хороший', 'отечественный', 'сотрудник', 'принять', 'предлагать', 'северный', 'открыть', 'теннисный', 'корреспондент', 'футбольный', 'проходить', 'ход', 'мэр', 'испания', 'имя', 'посвятить', 'чемпион', 'серия', 'скончаться', 'александр', 'получить', 'рассказать', 'клуб', 'выступать', 'гражданин', 'россиянин', 'причина', 'бывший', 'семь', 'спортивный', 'ветеран', 'передавать', 'четыре', 'великий', 'жизнь', 'взрыв', 'олимпийский', 'служба', 'открыться', 'комитет', 'депутат', 'телефон', 'направить', 'культура', 'мчс', 'площадь']\n",
            "74 ['сотрудник', 'служба', 'подозревать', 'опубликовать', 'гражданин', 'взрыв', 'провинция', 'признать', 'возбудить', 'задержать', 'произойти', 'житель', 'сми', 'источник', 'рост', 'жертва', 'департамент', 'министерство', 'газета', 'говориться', 'фон', 'обнаружить', 'отдел', 'автомобиль', 'погибнуть', 'обвинять', 'государство', 'станция', 'комитет', 'правоохранительный', 'проверка', 'неизвестный', 'дать', 'результат', 'газа', 'вод', 'нарушение', 'сообщаться', 'здание', 'крупный', 'пострадать', 'уголовный', 'свидетельствовать', 'орган', 'ход', 'закон', 'проводить', 'около', 'ночь', 'снизиться', 'находиться', 'мера', 'министр', 'доллар', 'писать', 'прокуратура', 'северный', 'парламент', 'несколько', 'система', 'ссылка', 'режим', 'ведомство', 'журналист', 'рассмотреть', 'юг', 'производство', 'решение', 'факт', 'иск', 'район', 'индекс', 'число', 'объявить', 'вечером', 'вырастить', 'франс', 'комиссия', 'гувд', 'семь', 'мочь', 'круг', 'направить', 'случай', 'милиционер', 'следовать', 'местный', 'киргизия', 'найти', 'ассошиэйтед', 'движение', 'средство', 'прибыть', 'утром', 'отношение', 'аэропорт', 'открыть', 'пресс', 'помощь', 'израиль']\n",
            "75 ['погибнуть', 'скончаться', 'обнаружить', 'задержать', 'подозревать', 'пострадать', 'больница', 'провинция', 'район', 'мчс', 'прокуратура', 'обвинять', 'скп', 'произойти', 'следственный', 'факт', 'гувд', 'убийство', 'пострадавший', 'получить', 'назначить', 'полиция', 'отдел', 'мвд', 'возбудить', 'сотрудник', 'пожар', 'служба', 'правоохранительный', 'дтп', 'дата', 'орган', 'дом', 'найти', 'автомобиль', 'милиционер', 'признать', 'погибший', 'аэропорт', 'вечером', 'поезд', 'находиться', 'сми', 'информация', 'матч', 'иск', 'газета', 'серия', 'уголовный', 'здание', 'метро', 'причина', 'объявить', 'телефон', 'житель', 'машина', 'ночь', 'источник', 'телеканал', 'теннисный', 'неизвестный', 'ссылка', 'пресс', 'милиция', 'состав', 'остров', 'война', 'гражданин', 'прибыть', 'край', 'официальный', 'утром', 'газа', 'открыть', 'вод', 'юг', 'футболист', 'выиграть', 'сайт', 'связь', 'известный', 'назвать', 'ассошиэйтед', 'территория', 'начальник', 'евгений', 'круг', 'проходить', 'открыться', 'составить', 'лига', 'имя', 'жертва', 'семь', 'около', 'дать', 'виктор', 'дагестан', 'военный', 'срок']\n",
            "76 ['фон', 'подготовка', 'экономический', 'считать', 'итог', 'совет', 'дата', 'рассказать', 'вопрос', 'право', 'призвать', 'экономика', 'договор', 'обвинять', 'борьба', 'первое', 'выступать', 'принять', 'госдума', 'финал', 'сотрудничество', 'организация', 'рамка', 'сборный', 'возможность', 'команда', 'дмитрий', 'николай', 'союз', 'обсудить', 'планировать', 'футбольный', 'посвятить', 'подписать', 'признать', 'футбол', 'факт', 'виктор', 'председатель', 'назвать', 'новый', 'директор', 'федерация', 'рынок', 'средство', 'губернатор', 'министр', 'клуб', 'также', 'спорт', 'крупный', 'серия', 'программа', 'уровень', 'теннисный', 'против', 'подозревать', 'русский', 'место', 'помочь', 'результат', 'кубок', 'фонд', 'причина', 'чемпионат', 'предлагать', 'закон', 'депутат', 'направить', 'связь', 'готовый', 'бывший', 'главный', 'большой', 'евро', 'политика', 'спортивный', 'алексей', 'проблема', 'лига', 'игорь', 'писать', 'время', 'предприятие', 'миллиард', 'система', 'получить', 'производство', 'история', 'представить', 'свидетельствовать', 'круг', 'составлять', 'намерить', 'комиссия', 'участник', 'генеральный', 'смочь', 'январь', 'форум']\n",
            "77 ['хороший', 'гаити', 'футбол', 'олимпийский', 'выиграть', 'футбольный', 'доллар', 'отечественный', 'теннисный', 'экономика', 'говориться', 'футболист', 'лидер', 'завершить', 'рассказать', 'соглашение', 'помощь', 'первое', 'программа', 'представить', 'выставка', 'обвинять', 'мир', 'андрей', 'назначить', 'защита', 'государственный', 'иностранный', 'сборная', 'против', 'матч', 'писать', 'итог', 'направить', 'дать', 'уголовный', 'составлять', 'казахстан', 'культура', 'подозревать', 'ванкувер', 'имя', 'составить', 'крупный', 'председатель', 'принять', 'четыре', 'сергей', 'виктор', 'это', 'считать', 'подписать', 'возможность', 'серия', 'михаил', 'евро', 'поддержка', 'также', 'бывший', 'группа', 'подготовка', 'рассмотреть', 'январь', 'евгений', 'открыть', 'финал', 'время', 'новый', 'спортивный', 'история', 'путин', 'помочь', 'проблема', 'детский', 'мочь', 'орган', 'впервые', 'объявить', 'цска', 'обсудить', 'сообщаться', 'выйти', 'вопрос', 'заместитель', 'турция', 'начать', 'алексей', 'британский', 'смочь', 'признать', 'большой', 'сайт', 'россиянин', 'пять', 'национальный', 'известный', 'шесть', 'вырастить', 'финансовый', 'передавать']\n",
            "78 ['сборный', 'сборная', 'госдума', 'хороший', 'совет', 'россиянин', 'министерство', 'парламент', 'олимпийский', 'мид', 'ведомство', 'тренер', 'обсудить', 'форум', 'интервью', 'мир', 'союз', 'скп', 'лига', 'банка', 'борьба', 'индекс', 'губернатор', 'клуб', 'министр', 'визит', 'уровень', 'федерация', 'команда', 'программа', 'фон', 'итог', 'экономика', 'дмитрий', 'администрация', 'рост', 'путин', 'лидер', 'фонд', 'цска', 'сотрудничество', 'футболист', 'торг', 'евро', 'встреча', 'иностранный', 'официальный', 'финансовый', 'месяц', 'готовый', 'вырастить', 'новое', 'европейский', 'матч', 'государство', 'период', 'мировой', 'спорт', 'футбол', 'биржа', 'проблема', 'доллар', 'развитие', 'департамент', 'система', 'вопрос', 'снизиться', 'игра', 'комиссия', 'белоруссия', 'случай', 'пройти', 'европа', 'самый', 'свидетельствовать', 'китай', 'первое', 'германия', 'впервые', 'турнир', 'судебный', 'против', 'владимир', 'также', 'возможность', 'янукович', 'ванкувер', 'мвд', 'цена', 'миллиард', 'единый', 'выиграть', 'пока', 'подписать', 'турция', 'переговоры', 'бывший', 'появиться', 'обвинять', 'выйти']\n",
            "79 ['опубликовать', 'торг', 'газета', 'рассмотреть', 'писать', 'журналист', 'обсудить', 'ведомство', 'вечером', 'госдума', 'открыться', 'объявить', 'заседание', 'фон', 'ночь', 'состояться', 'рассказать', 'подписать', 'департамент', 'назначить', 'цена', 'рынок', 'индекс', 'представить', 'дата', 'снизиться', 'иск', 'банка', 'провести', 'путин', 'прокуратура', 'доллар', 'утром', 'принять', 'скончаться', 'пройти', 'городской', 'министерство', 'сообщаться', 'мид', 'комитет', 'вырастить', 'средство', 'нефть', 'выиграть', 'копейка', 'начаться', 'выступать', 'биржа', 'директор', 'изменение', 'источник', 'сми', 'соглашение', 'миллиард', 'составить', 'появиться', 'администрация', 'закон', 'завершить', 'признать', 'областной', 'экономический', 'евро', 'заместитель', 'открыть', 'заявление', 'срок', 'владимир', 'скп', 'греция', 'начать', 'направить', 'система', 'совет', 'парламент', 'комиссия', 'губернатор', 'период', 'рейтер', 'произойти', 'американский', 'предприятие', 'игорь', 'украинский', 'театр', 'производство', 'следственный', 'фонд', 'вопрос', 'мировой', 'регион', 'политика', 'выйти', 'франс', 'андрей', 'округа', 'дмитрий', 'израиль', 'алексей']\n",
            "80 ['проводить', 'отдел', 'подозревать', 'провести', 'источник', 'департамент', 'завершить', 'директор', 'находиться', 'край', 'начальник', 'скп', 'ведомство', 'гувд', 'обсудить', 'выступать', 'открыть', 'мвд', 'район', 'обнаружить', 'метро', 'следственный', 'вечером', 'открыться', 'уголовный', 'проведение', 'петербург', 'орган', 'пострадавший', 'французский', 'возбудить', 'обвинять', 'направить', 'участие', 'проходить', 'дата', 'информация', 'неизвестный', 'получить', 'ход', 'факт', 'детский', 'произойти', 'предприятие', 'сотрудник', 'прибыть', 'прокуратура', 'министерство', 'рабочий', 'помощь', 'результат', 'генеральный', 'городской', 'мера', 'ночь', 'спортивный', 'утром', 'аэропорт', 'транспорт', 'число', 'пройти', 'подготовка', 'выйти', 'также', 'появиться', 'столица', 'посетить', 'открытие', 'связь', 'подписать', 'задержать', 'писать', 'служба', 'миллиард', 'руководитель', 'русский', 'милиция', 'корреспондент', 'организация', 'главный', 'столичный', 'внутренний', 'мчс', 'фон', 'система', 'время', 'рассказать', 'семья', 'жертва', 'телефон', 'рамка', 'газета', 'снизиться', 'являться', 'жизнь', 'около', 'специалист', 'опубликовать', 'составлять', 'начаться']\n",
            "81 ['иск', 'район', 'городской', 'скончаться', 'чемпионат', 'театр', 'тренер', 'гувд', 'скп', 'причина', 'фонд', 'дом', 'вод', 'фестиваль', 'чемпион', 'специалист', 'обнаружить', 'станция', 'турнир', 'история', 'департамент', 'мчс', 'зал', 'школа', 'столичный', 'больница', 'отдел', 'кубок', 'евгений', 'июнь', 'орган', 'проверка', 'областной', 'фон', 'убийство', 'министерство', 'корреспондент', 'детский', 'пострадать', 'ванкувер', 'погибнуть', 'министр', 'матч', 'круг', 'признать', 'следовать', 'сайт', 'копейка', 'пострадавший', 'тур', 'жертва', 'проект', 'серия', 'представить', 'пожар', 'имя', 'футболист', 'погибший', 'факт', 'несколько', 'столица', 'отечественный', 'теннисный', 'рассказать', 'клуб', 'лига', 'рынок', 'январь', 'результат', 'свидетельствовать', 'служба', 'олимпийский', 'шесть', 'предлагать', 'срок', 'петербург', 'дорога', 'ночь', 'милиционер', 'семь', 'площадь', 'закон', 'движение', 'игра', 'спортивный', 'пройти', 'здание', 'комплекс', 'цска', 'выбор', 'произойти', 'впервые', 'метро', 'воскресение', 'неделя', 'сотрудник', 'следственный', 'режим', 'часть', 'житель']\n",
            "82 ['считать', 'писать', 'грузия', 'европейский', 'передавать', 'мир', 'предлагать', 'создать', 'иностранный', 'европа', 'лига', 'представить', 'заседание', 'турнир', 'готовый', 'призвать', 'должный', 'планировать', 'система', 'испания', 'большой', 'новый', 'выбор', 'чемпионат', 'казахстан', 'британский', 'мера', 'греция', 'проект', 'помочь', 'сборная', 'направить', 'являться', 'гаити', 'россиянин', 'сообщаться', 'лидер', 'сборный', 'соглашение', 'посвятить', 'решение', 'финансовый', 'программа', 'иран', 'новое', 'уровень', 'говориться', 'намерить', 'участие', 'здание', 'ближний', 'принять', 'рассказать', 'объявить', 'создание', 'руководство', 'теннисный', 'экономика', 'возможность', 'германия', 'смочь', 'франция', 'неделя', 'завершить', 'площадь', 'подписать', 'самый', 'рейтер', 'американский', 'строительство', 'матч', 'директор', 'средство', 'фон', 'проблема', 'выиграть', 'китай', 'кубок', 'открытие', 'мочь', 'развитие', 'олимпийский', 'финал', 'договор', 'суббота', 'составлять', 'также', 'французский', 'проводить', 'национальный', 'столица', 'начать', 'украинский', 'весь', 'высокий', 'назвать', 'история', 'подготовка', 'нефть', 'русский']\n",
            "83 ['признать', 'уголовный', 'пока', 'сообщаться', 'проверка', 'больница', 'нарушение', 'производство', 'случай', 'иск', 'провинция', 'система', 'причина', 'фон', 'рассмотреть', 'средство', 'оон', 'остров', 'ассошиэйтед', 'федеральный', 'ведомство', 'писать', 'департамент', 'банка', 'франс', 'факт', 'региональный', 'правоохранительный', 'связь', 'край', 'мера', 'безопасность', 'поезд', 'нефть', 'комиссия', 'опубликовать', 'рынок', 'говориться', 'автомобиль', 'закон', 'находиться', 'американский', 'рабочий', 'считать', 'вопрос', 'объявить', 'телеканал', 'местный', 'дом', 'комплекс', 'шахта', 'направить', 'афганистан', 'рейтер', 'регион', 'следственный', 'обсудить', 'ночь', 'прокуратура', 'киргизия', 'дагестан', 'газета', 'число', 'орган', 'единый', 'торг', 'китай', 'убийство', 'сотрудник', 'великий', 'сми', 'машина', 'район', 'дать', 'иран', 'округа', 'отдел', 'житель', 'организация', 'подмосковье', 'заявление', 'решение', 'министерство', 'аэропорт', 'цена', 'свидетельствовать', 'юг', 'государственный', 'срок', 'информация', 'экономический', 'утром', 'финансовый', 'территория', 'январь', 'республика', 'крупный', 'служба', 'вечером', 'подозревать']\n",
            "84 ['сообщаться', 'официальный', 'интервью', 'начальник', 'заместитель', 'госдума', 'отдел', 'дагестан', 'телефон', 'мероприятие', 'правоохранительный', 'дмитрий', 'михаил', 'совет', 'путин', 'ситуация', 'губернатор', 'афганистан', 'янукович', 'руководитель', 'белоруссия', 'иностранный', 'директор', 'проблема', 'шахта', 'александр', 'оон', 'помочь', 'мчс', 'сочи', 'союз', 'единый', 'переговоры', 'мвд', 'партия', 'режим', 'свидетельствовать', 'администрация', 'программа', 'возможность', 'орган', 'вопрос', 'столичный', 'образование', 'северный', 'министр', 'большой', 'политика', 'подмосковье', 'строительство', 'станция', 'убийство', 'южный', 'безопасность', 'иран', 'судебный', 'владимир', 'специалист', 'комиссия', 'встреча', 'киргизия', 'грузия', 'семья', 'парламент', 'производство', 'гувд', 'край', 'петербург', 'развитие', 'уголовный', 'форум', 'организация', 'генеральный', 'департамент', 'ядерный', 'создание', 'военный', 'должный', 'комплекс', 'отношение', 'экономика', 'главный', 'государство', 'больница', 'метро', 'республика', 'культура', 'пострадать', 'мочь', 'помощь', 'закон', 'председатель', 'срок', 'китай', 'сотрудничество', 'бывший', 'защита', 'израиль', 'следовать', 'государственный']\n",
            "85 ['сообщаться', 'пострадать', 'погибнуть', 'признать', 'самый', 'задержать', 'несколько', 'факт', 'сотрудник', 'следовать', 'нарушение', 'обнаружить', 'произойти', 'неизвестный', 'провинция', 'футбол', 'метро', 'ссылка', 'иностранный', 'возбудить', 'дтп', 'милиция', 'район', 'внутренний', 'создание', 'жертва', 'говориться', 'часть', 'погибший', 'пять', 'пресс', 'больница', 'здание', 'появиться', 'поезд', 'утром', 'взрыв', 'находиться', 'машина', 'воскресение', 'уголовный', 'фон', 'турция', 'сообщение', 'национальный', 'центральный', 'ночь', 'шесть', 'американский', 'милиционер', 'общественный', 'местный', 'следственный', 'писать', 'ассошиэйтед', 'убийство', 'китай', 'начаться', 'скончаться', 'копейка', 'израиль', 'отдел', 'рост', 'передавать', 'британский', 'четыре', 'грузия', 'площадь', 'вод', 'теракт', 'ряд', 'подмосковье', 'юг', 'житель', 'начальник', 'проверка', 'председатель', 'проводить', 'киргизия', 'северный', 'это', 'прибыть', 'создать', 'руководитель', 'казахстан', 'июль', 'месяц', 'петербург', 'причина', 'работать', 'шахта', 'источник', 'рейтер', 'свидетельствовать', 'индекс', 'впервые', 'вечером', 'суббота', 'февраль', 'связь']\n",
            "86 ['проблема', 'считать', 'дмитрий', 'иностранный', 'иран', 'неделя', 'киргизия', 'новое', 'система', 'мера', 'изменение', 'государство', 'сила', 'ситуация', 'европейский', 'новый', 'возможность', 'случай', 'программа', 'мочь', 'должный', 'транспорт', 'вопрос', 'место', 'михаил', 'европа', 'греция', 'весь', 'закон', 'борьба', 'намерить', 'федеральный', 'воскресение', 'готовый', 'предприятие', 'месяц', 'казахстан', 'польша', 'рынок', 'договор', 'решение', 'также', 'мероприятие', 'владимир', 'проект', 'грузия', 'ванкувер', 'биржа', 'планировать', 'подготовка', 'время', 'тур', 'игорь', 'поддержка', 'цска', 'уровень', 'фон', 'соглашение', 'виктор', 'высокий', 'белоруссия', 'гаити', 'пока', 'футбольный', 'продажа', 'ближний', 'евро', 'говориться', 'мировой', 'франция', 'суббота', 'следовать', 'футбол', 'строительство', 'ядерный', 'внутренний', 'спортивный', 'регион', 'единый', 'руководство', 'лидер', 'отношение', 'организация', 'комплекс', 'газа', 'израиль', 'янукович', 'призвать', 'испания', 'банка', 'вод', 'мир', 'создание', 'сергей', 'матч', 'китай', 'проведение', 'развитие', 'безопасность', 'производство']\n",
            "87 ['принять', 'дтп', 'торг', 'проверка', 'источник', 'цена', 'авария', 'прокуратура', 'милиционер', 'федеральный', 'судебный', 'мчс', 'газа', 'милиция', 'скп', 'греция', 'правоохранительный', 'банка', 'больница', 'район', 'выбор', 'гаити', 'акция', 'произойти', 'средство', 'мвд', 'ведомство', 'пожар', 'британский', 'срок', 'поезд', 'обвинять', 'несколько', 'региональный', 'газета', 'землетрясение', 'дагестан', 'станция', 'чемпионат', 'подозревать', 'рабочий', 'рассмотреть', 'дать', 'миллиард', 'департамент', 'автомобиль', 'копейка', 'проект', 'машина', 'система', 'причина', 'губернатор', 'следственный', 'остров', 'мэр', 'найти', 'испания', 'экономика', 'вод', 'местный', 'предприятие', 'киргизия', 'неизвестный', 'регион', 'работа', 'сотрудник', 'оон', 'житель', 'южный', 'рост', 'афганистан', 'последний', 'орган', 'евро', 'дорога', 'руководитель', 'право', 'специалист', 'гувд', 'дом', 'опубликовать', 'администрация', 'мероприятие', 'индекс', 'рынок', 'северный', 'шахта', 'европейский', 'месяц', 'депутат', 'экономический', 'полиция', 'уголовный', 'военный', 'государственный', 'курс', 'путин', 'заседание', 'сми', 'финансовый']\n",
            "88 ['городской', 'факт', 'дагестан', 'находиться', 'предлагать', 'метро', 'считать', 'областной', 'начальник', 'помочь', 'время', 'срок', 'петербург', 'край', 'столичный', 'результат', 'отдел', 'причина', 'официальный', 'средство', 'признать', 'сообщаться', 'провинция', 'подмосковье', 'прокуратура', 'нарушение', 'проводить', 'уголовный', 'директор', 'гувд', 'правоохранительный', 'здание', 'милиция', 'семь', 'милиционер', 'ассошиэйтед', 'алексей', 'сотрудник', 'полиция', 'шесть', 'федеральный', 'участник', 'детский', 'подозревать', 'право', 'региональный', 'ведомство', 'ход', 'итог', 'транспорт', 'четыре', 'следовать', 'случай', 'являться', 'пострадавший', 'подготовка', 'несколько', 'руководитель', 'общественный', 'появиться', 'франс', 'рейтер', 'проведение', 'орган', 'следственный', 'число', 'обвинять', 'говориться', 'судебный', 'дата', 'банка', 'возможность', 'информация', 'выступать', 'евро', 'организация', 'около', 'жертва', 'внутренний', 'это', 'французский', 'дать', 'пожар', 'телефон', 'сообщение', 'дорога', 'составлять', 'местный', 'писать', 'завершить', 'произойти', 'район', 'государственный', 'зал', 'пять', 'специалист', 'должный', 'работать', 'культура', 'остаться']\n",
            "89 ['суббота', 'воскресение', 'возможность', 'киргизия', 'ванкувер', 'вопрос', 'мочь', 'чемпион', 'тренер', 'фестиваль', 'интервью', 'май', 'чемпионат', 'ближний', 'впервые', 'место', 'март', 'сборный', 'турнир', 'гаити', 'смочь', 'европа', 'июнь', 'тур', 'мчс', 'сборная', 'игра', 'июль', 'кубок', 'август', 'должный', 'жертва', 'январь', 'рост', 'апрель', 'команда', 'жизнь', 'больница', 'готовый', 'проблема', 'самый', 'дорога', 'олимпийский', 'весь', 'мир', 'хороший', 'матч', 'победа', 'февраль', 'ситуация', 'германия', 'футбол', 'последний', 'заявление', 'серия', 'греция', 'испания', 'состав', 'форум', 'программа', 'ассошиэйтед', 'выставка', 'неделя', 'израиль', 'лига', 'война', 'история', 'гувд', 'юг', 'русский', 'провинция', 'метро', 'клуб', 'остров', 'мера', 'помощь', 'теннисный', 'главный', 'пост', 'культура', 'футбольный', 'мвд', 'взрыв', 'турция', 'афганистан', 'театр', 'поезд', 'участие', 'дагестан', 'участник', 'цска', 'часть', 'борьба', 'уровень', 'польша', 'известный', 'россиянин', 'сочи', 'франция', 'переговоры']\n",
            "90 ['журналист', 'передавать', 'путин', 'опубликовать', 'отношение', 'писать', 'футбольный', 'сборная', 'ссылка', 'неизвестный', 'торг', 'заседание', 'проверка', 'шахта', 'сборный', 'сообщаться', 'подписать', 'совет', 'встреча', 'возбудить', 'найти', 'руководство', 'казахстан', 'доллар', 'принять', 'финансовый', 'лига', 'курс', 'обнаружить', 'внутренний', 'факт', 'иран', 'виктор', 'федеральный', 'считать', 'вопрос', 'финал', 'мид', 'представить', 'программа', 'футбол', 'оон', 'против', 'выступать', 'мера', 'иск', 'провести', 'говориться', 'выбор', 'автомобиль', 'число', 'транспорт', 'обсудить', 'сергей', 'американский', 'задержать', 'проблема', 'китай', 'сила', 'ход', 'полиция', 'теннисный', 'бывший', 'гаити', 'игорь', 'нефть', 'рынок', 'дмитрий', 'результат', 'средство', 'пост', 'снизиться', 'милиция', 'газета', 'цена', 'безопасность', 'миллиард', 'начать', 'рассмотреть', 'развитие', 'греция', 'юрий', 'команда', 'переговоры', 'итог', 'уголовный', 'госдума', 'известный', 'алексей', 'закон', 'экономический', 'иностранный', 'футболист', 'готовый', 'должный', 'проводить', 'россиянин', 'владимир', 'афганистан', 'европейский']\n",
            "91 ['обвинять', 'закон', 'иск', 'пострадать', 'михаил', 'вопрос', 'факт', 'бывший', 'назначить', 'николай', 'считать', 'уголовный', 'крупный', 'срок', 'подготовка', 'известный', 'проводить', 'совет', 'передавать', 'предлагать', 'назвать', 'кубок', 'возможность', 'проходить', 'признать', 'произойти', 'договор', 'право', 'подозревать', 'создать', 'говориться', 'решение', 'депутат', 'федеральный', 'следовать', 'погибнуть', 'серия', 'результат', 'следственный', 'причина', 'отношение', 'новое', 'отечественный', 'сотрудничество', 'писать', 'транспорт', 'высокий', 'сообщение', 'планировать', 'время', 'программа', 'создание', 'городской', 'участие', 'первое', 'руководство', 'рамка', 'впервые', 'борьба', 'чемпионат', 'александр', 'союз', 'ряд', 'намерить', 'участник', 'также', 'новый', 'система', 'владимир', 'комиссия', 'рассмотреть', 'выступать', 'виктор', 'алексей', 'проект', 'подписать', 'открытый', 'должный', 'апрель', 'возбудить', 'спортивный', 'пройти', 'юрий', 'посвятить', 'провести', 'проведение', 'русский', 'уровень', 'областной', 'ветеран', 'госдума', 'футбольный', 'рассказать', 'зал', 'свидетельствовать', 'большой', 'цска', 'место', 'германия', 'сообщаться']\n",
            "92 ['больница', 'мчс', 'футболист', 'копейка', 'скп', 'чемпион', 'цска', 'серия', 'клуб', 'гувд', 'ванкувер', 'тренер', 'финал', 'сборный', 'администрация', 'ведомство', 'команда', 'сборная', 'место', 'милиционер', 'телефон', 'подмосковье', 'полиция', 'чемпионат', 'кубок', 'вод', 'теннисный', 'ночь', 'прокуратура', 'машина', 'торг', 'остров', 'дагестан', 'театр', 'мид', 'индекс', 'вечером', 'провинция', 'футбол', 'столичный', 'официальный', 'губернатор', 'шахта', 'республика', 'аэропорт', 'тур', 'биржа', 'комитет', 'турция', 'турнир', 'землетрясение', 'игра', 'пост', 'поезд', 'мвд', 'парламент', 'киргизия', 'дорога', 'греция', 'матч', 'метро', 'банка', 'германия', 'дом', 'пока', 'сми', 'столица', 'футбольный', 'петербург', 'рейтер', 'телеканал', 'курс', 'семь', 'милиция', 'утром', 'испания', 'газа', 'район', 'круг', 'россиянин', 'жертва', 'департамент', 'время', 'гаити', 'семья', 'несколько', 'дата', 'служба', 'фонд', 'впервые', 'совет', 'комиссия', 'газета', 'союз', 'станция', 'министерство', 'отдел', 'неизвестный', 'китай', 'шесть']\n",
            "93 ['совет', 'федерация', 'сотрудничество', 'считать', 'тренер', 'турнир', 'европейский', 'виктор', 'миллиард', 'сборный', 'развитие', 'вопрос', 'госдума', 'европа', 'экономический', 'мировой', 'чемпионат', 'сборная', 'финансовый', 'чемпион', 'хороший', 'итог', 'политика', 'лидер', 'экономика', 'команда', 'высокий', 'проект', 'мир', 'сергей', 'спорт', 'переговоры', 'программа', 'изменение', 'андрей', 'директор', 'свидетельствовать', 'лига', 'поддержка', 'первое', 'уровень', 'председатель', 'возможность', 'союз', 'александр', 'проблема', 'дмитрий', 'право', 'интервью', 'создание', 'цска', 'национальный', 'выбор', 'новый', 'алексей', 'заседание', 'назначить', 'иностранный', 'встреча', 'олимпийский', 'подготовка', 'против', 'единый', 'владимир', 'визит', 'путин', 'решение', 'белоруссия', 'фонд', 'футболист', 'футбол', 'ядерный', 'борьба', 'грузия', 'также', 'соглашение', 'матч', 'министр', 'должный', 'комиссия', 'история', 'михаил', 'строительство', 'рамка', 'государство', 'кубок', 'форум', 'защита', 'иран', 'рынок', 'украинский', 'нефть', 'система', 'футбольный', 'николай', 'германия', 'юрий', 'новое', 'спортивный', 'руководство']\n",
            "94 ['изменение', 'встреча', 'визит', 'иностранный', 'совет', 'парламент', 'миллиард', 'теракт', 'победа', 'выставка', 'гаити', 'государство', 'обсудить', 'госдума', 'виктор', 'форум', 'право', 'департамент', 'март', 'финансовый', 'землетрясение', 'рассказать', 'назначить', 'июль', 'смочь', 'сотрудничество', 'убийство', 'защита', 'национальный', 'строительство', 'первое', 'комитет', 'гувд', 'единый', 'участие', 'администрация', 'министерство', 'израиль', 'апрель', 'намерить', 'афганистан', 'открыть', 'неизвестный', 'продажа', 'министр', 'проект', 'выйти', 'сми', 'европейский', 'акция', 'интервью', 'зал', 'высокий', 'ближний', 'общественный', 'федерация', 'путин', 'экономический', 'белоруссия', 'внутренний', 'мэр', 'ветеран', 'мид', 'весь', 'комплекс', 'сергей', 'май', 'переговоры', 'генеральный', 'задержать', 'впервые', 'июнь', 'семья', 'рассмотреть', 'комиссия', 'судебный', 'нефть', 'французский', 'договор', 'андрей', 'являться', 'телефон', 'программа', 'февраль', 'поддержка', 'скп', 'мвд', 'мировой', 'газета', 'культура', 'спортивный', 'авария', 'хороший', 'фонд', 'группа', 'городской', 'война', 'планировать', 'развитие', 'юрий']\n",
            "95 ['провести', 'итог', 'завершить', 'пройти', 'проведение', 'проводить', 'начаться', 'открыть', 'начать', 'проходить', 'состояться', 'выступать', 'выиграть', 'ход', 'команда', 'телеканал', 'участие', 'назначить', 'открыться', 'директор', 'лидер', 'цска', 'рамка', 'победа', 'представить', 'клуб', 'посетить', 'выйти', 'круг', 'мид', 'федерация', 'соглашение', 'открытие', 'иностранный', 'обсудить', 'интервью', 'поддержка', 'государство', 'проблема', 'тур', 'мир', 'пост', 'уровень', 'олимпийский', 'председатель', 'главный', 'открытый', 'сборный', 'европа', 'нефть', 'сотрудничество', 'газета', 'корреспондент', 'состав', 'назвать', 'национальный', 'известный', 'срок', 'пресс', 'министр', 'финал', 'официальный', 'спорт', 'чемпион', 'информация', 'германия', 'время', 'возможность', 'жизнь', 'рынок', 'призвать', 'евро', 'европейский', 'русский', 'театр', 'тренер', 'миллиард', 'футбол', 'остаться', 'парламент', 'опубликовать', 'против', 'янукович', 'дата', 'это', 'участник', 'культура', 'рассказать', 'копейка', 'союз', 'ядерный', 'являться', 'событие', 'экономика', 'южный', 'футболист', 'форум', 'отношение', 'турция', 'партия']\n",
            "96 ['министр', 'сборная', 'погибнуть', 'команда', 'испания', 'рейтер', 'копейка', 'сборный', 'против', 'министерство', 'турнир', 'греция', 'завершить', 'писать', 'получить', 'израиль', 'матч', 'результат', 'задержать', 'утром', 'группа', 'обнаружить', 'убийство', 'тур', 'афганистан', 'случай', 'нарушение', 'курс', 'китай', 'часть', 'департамент', 'выиграть', 'свидетельствовать', 'орган', 'пост', 'ночь', 'машина', 'назвать', 'лига', 'иск', 'американский', 'пока', 'передавать', 'мир', 'клуб', 'находиться', 'турция', 'сайт', 'обвинять', 'газа', 'договор', 'зал', 'германия', 'франс', 'военный', 'дата', 'остаться', 'провести', 'британский', 'фон', 'уголовный', 'футболист', 'рост', 'ассошиэйтед', 'аэропорт', 'местный', 'россиянин', 'жертва', 'начать', 'крупный', 'торг', 'продажа', 'пострадать', 'движение', 'подозревать', 'европа', 'грузия', 'игра', 'оон', 'ссылка', 'производство', 'дать', 'неизвестный', 'кубок', 'причина', 'готовый', 'около', 'сила', 'семь', 'киргизия', 'гражданин', 'месяц', 'прибыть', 'иран', 'газета', 'цска', 'ванкувер', 'найти', 'четыре', 'автомобиль']\n",
            "97 ['турнир', 'связь', 'место', 'газа', 'часть', 'китай', 'кубок', 'круг', 'теннисный', 'цена', 'крупный', 'число', 'доллар', 'сообщаться', 'копейка', 'готовый', 'фон', 'открыть', 'месяц', 'россиянин', 'завершить', 'финал', 'возможность', 'прибыть', 'биржа', 'результат', 'считать', 'нефть', 'писать', 'факт', 'испания', 'тренер', 'матч', 'чемпионат', 'тур', 'жертва', 'случай', 'смочь', 'выиграть', 'рост', 'пять', 'команда', 'мочь', 'начать', 'министр', 'чемпион', 'визит', 'спортивный', 'фонд', 'сборная', 'получить', 'переговоры', 'остров', 'мировой', 'планировать', 'впервые', 'остаться', 'жизнь', 'сообщение', 'семь', 'информация', 'ночь', 'мир', 'лидер', 'причина', 'произойти', 'последний', 'клуб', 'начаться', 'неделя', 'афганистан', 'воскресение', 'телеканал', 'территория', 'организация', 'лига', 'шесть', 'станция', 'рамка', 'торг', 'индекс', 'назвать', 'британский', 'футбольный', 'оао', 'футболист', 'погибнуть', 'серия', 'футбол', 'передавать', 'греция', 'ход', 'составлять', 'проходить', 'новое', 'открытый', 'группа', 'сборный', 'январь', 'четыре']\n",
            "98 ['свидетельствовать', 'лига', 'тренер', 'министр', 'получить', 'помочь', 'проблема', 'встреча', 'предлагать', 'футбол', 'первое', 'отдел', 'выбор', 'путин', 'департамент', 'европа', 'депутат', 'выиграть', 'производство', 'виктор', 'программа', 'назвать', 'рост', 'матч', 'проверка', 'испания', 'комитет', 'завершить', 'большой', 'копейка', 'направить', 'пост', 'китай', 'мир', 'фон', 'уровень', 'принять', 'последний', 'должный', 'совет', 'говориться', 'изменение', 'уголовный', 'житель', 'команда', 'теннисный', 'самый', 'смочь', 'турнир', 'считать', 'намерить', 'история', 'подписать', 'комиссия', 'создание', 'развитие', 'призвать', 'являться', 'новый', 'чемпионат', 'лидер', 'общественный', 'визит', 'алексей', 'пройти', 'договор', 'группа', 'биржа', 'государство', 'четыре', 'средство', 'франция', 'ветеран', 'планировать', 'рабочий', 'дмитрий', 'следовать', 'рассмотреть', 'выйти', 'сочи', 'период', 'возбудить', 'вопрос', 'партия', 'признать', 'опубликовать', 'судебный', 'россиянин', 'бывший', 'победа', 'форум', 'открыться', 'известный', 'весь', 'конец', 'заседание', 'ядерный', 'открытие', 'мировой', 'авария']\n",
            "99 ['мочь', 'дом', 'самый', 'воскресение', 'метро', 'больница', 'суббота', 'израиль', 'чемпион', 'киргизия', 'тренер', 'жизнь', 'пока', 'договор', 'ванкувер', 'впервые', 'житель', 'футбол', 'дагестан', 'ближний', 'игра', 'площадь', 'закон', 'французский', 'рост', 'британский', 'взрыв', 'грузия', 'несколько', 'борьба', 'матч', 'скп', 'вод', 'корреспондент', 'школа', 'март', 'иран', 'последний', 'источник', 'главный', 'неделя', 'руководитель', 'апрель', 'россиянин', 'январь', 'состав', 'испания', 'олимпийский', 'май', 'помочь', 'смочь', 'провинция', 'евгений', 'тур', 'дорога', 'район', 'режим', 'следственный', 'весь', 'должный', 'поезд', 'февраль', 'греция', 'рынок', 'гаити', 'серия', 'выбор', 'местный', 'часть', 'цска', 'время', 'июль', 'специалист', 'футболист', 'телефон', 'мчс', 'сочи', 'копейка', 'работа', 'турция', 'биржа', 'информация', 'игорь', 'семь', 'финал', 'теннисный', 'июнь', 'теракт', 'депутат', 'утром', 'американский', 'станция', 'землетрясение', 'свидетельствовать', 'проблема', 'шахта', 'чемпионат', 'сборная', 'аэропорт', 'пострадавший']\n"
          ],
          "name": "stdout"
        }
      ]
    },
    {
      "cell_type": "markdown",
      "metadata": {
        "id": "5h7Rvg6vWyYI",
        "colab_type": "text"
      },
      "source": [
        "# Model"
      ]
    },
    {
      "cell_type": "code",
      "metadata": {
        "id": "Y4xDeTYojtoC",
        "colab_type": "code",
        "outputId": "932eddeb-f65a-47d7-f5ef-f499feb4ed06",
        "colab": {
          "base_uri": "https://localhost:8080/",
          "height": 35
        }
      },
      "source": [
        "import math \n",
        "# Source: https://pytorch.org/tutorials/beginner/transformer_tutorial.html\n",
        "class PositionalEncoding(nn.Module):\n",
        "    def __init__(self, d_model, dropout=0.1, max_len=200):\n",
        "        super(PositionalEncoding, self).__init__()\n",
        "        self.dropout = nn.Dropout(p=dropout)\n",
        "\n",
        "        pe = torch.zeros(max_len, d_model)\n",
        "        position = torch.arange(0, max_len, dtype=torch.float).unsqueeze(1)\n",
        "        div_term = torch.exp(torch.arange(0, d_model, 2).float() * (-math.log(10000.0) / d_model))\n",
        "        pe[:, 0::2] = torch.sin(position * div_term)\n",
        "        pe[:, 1::2] = torch.cos(position * div_term)\n",
        "        pe = pe.unsqueeze(0).transpose(0, 1)\n",
        "        self.register_buffer('pe', pe)\n",
        "\n",
        "    def forward(self, x):\n",
        "        x = x + self.pe[:x.size(0), :]\n",
        "        return self.dropout(x)\n",
        "\n",
        "\n",
        "class ScheduledOptim():\n",
        "    '''A simple wrapper class for learning rate scheduling'''\n",
        "\n",
        "    def __init__(self, optimizer, d_model, n_warmup_steps):\n",
        "        self._optimizer = optimizer\n",
        "        self.n_warmup_steps = n_warmup_steps\n",
        "        self.n_current_steps = 0\n",
        "        self.init_lr = np.power(d_model, -0.5)\n",
        "\n",
        "    def step_and_update_lr(self):\n",
        "        \"Step with the inner optimizer\"\n",
        "        self._update_learning_rate()\n",
        "        self._optimizer.step()\n",
        "\n",
        "    def zero_grad(self):\n",
        "        \"Zero out the gradients by the inner optimizer\"\n",
        "        self._optimizer.zero_grad()\n",
        "\n",
        "    def _get_lr_scale(self):\n",
        "        return np.min([\n",
        "            np.power(self.n_current_steps, -0.5),\n",
        "            np.power(self.n_warmup_steps, -1.5) * self.n_current_steps])\n",
        "\n",
        "    def _update_learning_rate(self):\n",
        "        ''' Learning rate scheduling per step '''\n",
        "\n",
        "        self.n_current_steps += 1\n",
        "        lr = self.init_lr * self._get_lr_scale()\n",
        "\n",
        "        for param_group in self._optimizer.param_groups:\n",
        "            param_group['lr'] = lr\n",
        "\n",
        "\n",
        "def gen_nopeek_mask(length):\n",
        "    mask = rearrange(torch.triu(torch.ones(length, length)) == 1, 'h w -> w h')\n",
        "    mask = rearrange(torch.triu(torch.ones(length, length)) == 1, 'h w -> w h')\n",
        "    mask = mask.float().masked_fill(mask == 0, float('-inf')).masked_fill(mask == 1, float(0.0))\n",
        "    return mask\n",
        "\n",
        "class ConditionalHeadlineGenerator(nn.Module):\n",
        "    def __init__(self, lang, device, vocab_size, max_seq_length, d_model, aspects_num, abae_regilarize, abae_batch_size,  \n",
        "                 abae_negative_m, nhead, num_encoder_layers, num_decoder_layers, dim_feedforward, pos_dropout, trans_dropout):\n",
        "        super().__init__()\n",
        "        # Constants\n",
        "        self.lang = lang\n",
        "        self.device = device\n",
        "        self.d_model = d_model\n",
        "        self.vocab_size = vocab_size\n",
        "        self.aspects_num = aspects_num\n",
        "        self.abae_regilarize = abae_regilarize\n",
        "        self.abae_negative_m = abae_negative_m\n",
        "        self.abae_batch_size = abae_batch_size\n",
        "\n",
        "        self.max_seq_length = max_seq_length\n",
        "        \n",
        "        # auto .parameters()\n",
        "        self.embed_tgt = nn.Embedding(vocab_size, d_model)\n",
        "        self.embed_src = nn.Embedding(vocab_size, d_model)\n",
        "        self.transformer = nn.Transformer(d_model, nhead, num_encoder_layers, num_decoder_layers, dim_feedforward, trans_dropout)\n",
        "        self.fc = nn.Linear(d_model, vocab_size)\n",
        "        self.w_embs = self.embed_src # abae\n",
        "        self.sentence_aspects = torch.nn.Linear(d_model, aspects_num) # abae\n",
        "\n",
        "        # needs to be added to optimizer\n",
        "        self.a_embs = torch.randn(aspects_num, d_model, requires_grad=True, device=device) # abae\n",
        "        self.attention_M = torch.randn(d_model, d_model, requires_grad=True, device=device) # abae\n",
        "\n",
        "        # other staff\n",
        "        self.pos_enc = PositionalEncoding(d_model, pos_dropout, max_seq_length)\n",
        "        self.optimizer = None\n",
        "\n",
        "\n",
        "        #set device\n",
        "        self.to(self.device)\n",
        "        # self.a_embs = self.a_embs.to(self.device)\n",
        "        # self.attention_M = self.attention_M.to(self.device)\n",
        "\n",
        "\n",
        "    def tgt_emb(self, tgt):\n",
        "        return self.embed_src(tgt)\n",
        "\n",
        "    def src_emb(self, src): # for T and abae\n",
        "        return self.embed_src(src)\n",
        "\n",
        "\n",
        "    def make_sentence(self, embs):\n",
        "        \"\"\"\n",
        "        input: embedded words\n",
        "        output: weights\n",
        "        \"\"\"\n",
        "        ys = torch.mean(embs, axis=0).unsqueeze(dim=1)\n",
        "        di = torch.mm(embs, torch.mm(self.attention_M, ys))\n",
        "        ai = torch.nn.functional.softmax(di, dim=1)\n",
        "        zs = torch.mm(embs.T, ai)\n",
        "        return zs\n",
        "\n",
        "\n",
        "    def init_embeddings(self, wv): # abae\n",
        "        assert(self.embed_src.weight.data.shape == wv.shape)\n",
        "        assert(self.embed_tgt.weight.data.shape == wv.shape)\n",
        "        self.embed_src.weight.data = wv\n",
        "        self.embed_tgt.weight.data = wv\n",
        "\n",
        "\n",
        "    def make_sentence_raw(self, embs): # abae\n",
        "        return torch.mean(embs, axis=0).unsqueeze(dim=1)\n",
        "\n",
        "\n",
        "    def abae_forward(self, ps, ns_list):\n",
        "        \"\"\"\n",
        "        ps - positive sequence. Tensor of shape (sentence_length,)\n",
        "        ns_list - list of negaitve sequence. Tensor of shape [(sentence_length,), ...]\n",
        "        \"\"\"\n",
        "        embs = self.w_embs(ps) # (sentence_length, emb_dim)\n",
        "        zs = self.make_sentence(embs) # sentence from attentioned words vectors\n",
        "        pt = torch.nn.functional.softmax(self.sentence_aspects(zs.T), dim=1).T\n",
        "        rs = torch.mm(self.a_embs.T, pt) # sentence reconstraction by aspects vectors\n",
        "        return rs, zs, [self.make_sentence_raw(self.w_embs(ns)) for ns in ns_list]\n",
        "\n",
        "\n",
        "    def abae_train(self, pairs, epochs_n, progress_bar=False, logging=False):\n",
        "        dataset = ABAEDataset(pairs, self.lang, self.abae_negative_m)\n",
        "        losses = []\n",
        "        for epoch_i in range(epochs_n):\n",
        "            dataloader = DataLoader(dataset, batch_size=self.abae_batch_size, collate_fn=collate_fn)\n",
        "            epoch_loss = 0\n",
        "            # self.train()\n",
        "            for b_ps, b_ns in tqdm.tqdm(dataloader, disable=(not progress_bar)):\n",
        "                batch_loss = torch.Tensor([[0.0]]).to(self.device)\n",
        "                self.optimizer.zero_grad()\n",
        "                for b_s in range(len(b_ps)):\n",
        "                    ps = torch.Tensor(b_ps[b_s]).long().to(self.device)\n",
        "                    ns_list = [torch.Tensor(ns).long().to(self.device) for ns in b_ns[b_s]]\n",
        "                    rs, ps, ns_list = self.abae_forward(ps, ns_list)\n",
        "                    sample_loss = torch.Tensor([[1.0]]).to(self.device)\n",
        "                    sample_loss -= torch.mm(rs.T, ps).to(self.device)\n",
        "                    for ns in ns_list:\n",
        "                        sample_loss += torch.mm(rs.T, ns).to(self.device)\n",
        "                    if sample_loss > 0:\n",
        "                        batch_loss += sample_loss\n",
        "                batch_loss += self.abae_regilarize*torch.norm(torch.mm(self.a_embs, self.a_embs.T)-torch.eye(self.a_embs.shape[0]).to(self.device))\n",
        "                epoch_loss += batch_loss.item()\n",
        "                batch_loss.backward()\n",
        "                self.optimizer.step()          \n",
        "            losses.append(epoch_loss)\n",
        "            if logging:\n",
        "                print(f\"ABAE train epoch: {epoch_i} - loss: {epoch_loss}\")\n",
        "\n",
        "\n",
        "    def transformer_forward(self, src, tgt, src_key_padding_mask, tgt_key_padding_mask, memory_key_padding_mask, tgt_mask):\n",
        "        src = src.permute(1, 0)\n",
        "        tgt = tgt.permute(1, 0)\n",
        "        src = self.pos_enc(self.embed_src(src) * math.sqrt(self.d_model)) # why every time multiply? just init it somewhere\n",
        "        tgt = self.pos_enc(self.embed_tgt(tgt) * math.sqrt(self.d_model))\n",
        "\n",
        "        output = self.transformer(src, tgt, tgt_mask=tgt_mask, src_key_padding_mask=src_key_padding_mask,\n",
        "                                  tgt_key_padding_mask=tgt_key_padding_mask, memory_key_padding_mask=memory_key_padding_mask)\n",
        "        output = output.permute(1, 0, 2)\n",
        "        return self.fc(output)\n",
        "\n",
        "\n",
        "    def set_optimizer(self, Optimizer, **optimizer_args):\n",
        "        self.optimizer = Optimizer(list(self.parameters())+[self.a_embs, self.attention_M], **optimizer_args)\n",
        "\n",
        "    def get_aspects_vector(self, inp):\n",
        "        pass\n",
        "\n",
        "    \n",
        "\n",
        "    def transformer_train_step(self, inp):\n",
        "        aspects_vector = self.get_aspects_vector(inp)\n",
        "        pass\n",
        "\n",
        "    def init_embs(self, wv, av):\n",
        "        pass\n",
        "\n",
        "\n",
        "\n",
        "\n",
        "\n",
        "model = ConditionalHeadlineGenerator(lang, device, lang.n_words, lang.max_seq_length,\n",
        "                            config['d_model'], config['aspects_num'],\n",
        "                            config['abae_regilarize'], config['abae_batch_size'],\n",
        "                            config['abae_negative_m'],\n",
        "                            config['nhead'], config['num_encoder_layers'],\n",
        "                            config['num_decoder_layers'], config['dim_feedforward'],  \n",
        "                            config['pos_dropout'], config['trans_dropout'])\n",
        "\n",
        "\n",
        "wv = torch.randn(model.vocab_size, model.d_model)\n",
        "for w in word_init_vectors.keys():\n",
        "    ind = lang.word2index[w]\n",
        "    wv[ind, :] = torch.Tensor(word_init_vectors[w])\n",
        "av = torch.Tensor(av).shape\n",
        "model.init_embs(wv, av)\n",
        "\n",
        "\n",
        "# freeze only word embeddings\n",
        "model.train()\n",
        "for param in model.embed_src.parameters():\n",
        "    param.requires_grad = False\n",
        "model.embed_src.eval()\n",
        "print(model.embed_src.weight.requires_grad)\n",
        "\n",
        "\n",
        "model.set_optimizer(torch.optim.Adam, lr=0.001)"
      ],
      "execution_count": 19,
      "outputs": [
        {
          "output_type": "stream",
          "text": [
            "False\n"
          ],
          "name": "stdout"
        }
      ]
    },
    {
      "cell_type": "code",
      "metadata": {
        "id": "KKfAmIYvPACY",
        "colab_type": "code",
        "colab": {}
      },
      "source": [
        ""
      ],
      "execution_count": 0,
      "outputs": []
    },
    {
      "cell_type": "code",
      "metadata": {
        "id": "GjiBGs-vltht",
        "colab_type": "code",
        "outputId": "d8db80dd-8925-45d7-b56d-b3f381bbbbf0",
        "colab": {
          "base_uri": "https://localhost:8080/",
          "height": 199
        }
      },
      "source": [
        "model.abae_train(pairs, 3, progress_bar=True, logging=True)"
      ],
      "execution_count": 23,
      "outputs": [
        {
          "output_type": "stream",
          "text": [
            "100%|██████████| 196/196 [04:10<00:00,  1.28s/it]\n",
            "  0%|          | 0/196 [00:00<?, ?it/s]"
          ],
          "name": "stderr"
        },
        {
          "output_type": "stream",
          "text": [
            "ABAE train epoch: 0 - loss: 872.8160800475162\n"
          ],
          "name": "stdout"
        },
        {
          "output_type": "stream",
          "text": [
            "100%|██████████| 196/196 [04:10<00:00,  1.28s/it]\n",
            "  0%|          | 0/196 [00:00<?, ?it/s]"
          ],
          "name": "stderr"
        },
        {
          "output_type": "stream",
          "text": [
            "ABAE train epoch: 1 - loss: 542.2567773652263\n"
          ],
          "name": "stdout"
        },
        {
          "output_type": "stream",
          "text": [
            "100%|██████████| 196/196 [04:10<00:00,  1.28s/it]\n",
            "  0%|          | 0/196 [00:00<?, ?it/s]"
          ],
          "name": "stderr"
        },
        {
          "output_type": "stream",
          "text": [
            "ABAE train epoch: 2 - loss: 637.7568214286584\n"
          ],
          "name": "stdout"
        },
        {
          "output_type": "stream",
          "text": [
            "100%|██████████| 196/196 [04:10<00:00,  1.28s/it]\n",
            "  0%|          | 0/196 [00:00<?, ?it/s]"
          ],
          "name": "stderr"
        },
        {
          "output_type": "stream",
          "text": [
            "ABAE train epoch: 3 - loss: 759.8102554846555\n"
          ],
          "name": "stdout"
        },
        {
          "output_type": "stream",
          "text": [
            "100%|██████████| 196/196 [04:09<00:00,  1.27s/it]"
          ],
          "name": "stderr"
        },
        {
          "output_type": "stream",
          "text": [
            "ABAE train epoch: 4 - loss: 789.1293927791994\n"
          ],
          "name": "stdout"
        },
        {
          "output_type": "stream",
          "text": [
            "\n"
          ],
          "name": "stderr"
        }
      ]
    },
    {
      "cell_type": "code",
      "metadata": {
        "id": "eRfY_rbsULY6",
        "colab_type": "code",
        "colab": {
          "base_uri": "https://localhost:8080/",
          "height": 1000
        },
        "outputId": "8a00bbc6-5e28-4433-eaf1-eb9bf2078eb6"
      },
      "source": [
        "aspects_vectors = model.a_embs.data.tolist()\n",
        "\n",
        "def sim(word, aspect):\n",
        "    return np.dot(word, aspect)\n",
        "\n",
        "def sim2(word, aspect):\n",
        "    return np.sum((word-aspect)**2)\n",
        "\n",
        "neares_num = 100\n",
        "for aspect_i in range(len(aspects_vectors)):\n",
        "    aspect = np.array(aspects_vectors[aspect_i])\n",
        "    similarities = []\n",
        "    for word_i in range(len(X)):\n",
        "        word = words[word_i]\n",
        "        similarities.append([word, sim(X[word_i], aspect)])\n",
        "    \n",
        "    low_words = sorted(similarities, key=lambda x: x[1])[:neares_num]\n",
        "    print(aspect_i, [w[0] for w in low_words])"
      ],
      "execution_count": 24,
      "outputs": [
        {
          "output_type": "stream",
          "text": [
            "0 ['мвд', 'мера', 'комиссия', 'обвинять', 'ассошиэйтед', 'прокуратура', 'весь', 'служба', 'уголовный', 'режим', 'политика', 'франс', 'изменение', 'мид', 'сотрудничество', 'выйти', 'игорь', 'открыть', 'сборная', 'афганистан', 'полиция', 'северный', 'отдел', 'округа', 'месяц', 'ближний', 'израиль', 'путин', 'скп', 'журналист', 'руководство', 'администрация', 'направить', 'борьба', 'возможность', 'рейтер', 'единый', 'теракт', 'закон', 'владимир', 'республика', 'испания', 'ведомство', 'вопрос', 'украинский', 'американский', 'андрей', 'проведение', 'михаил', 'европейский', 'призвать', 'остров', 'сборный', 'милиция', 'рост', 'открытый', 'евгений', 'теннисный', 'юрий', 'официальный', 'сми', 'группа', 'уровень', 'оон', 'отношение', 'признать', 'китай', 'защита', 'последний', 'сила', 'южный', 'ядерный', 'иран', 'создание', 'общественный', 'метро', 'депутат', 'внутренний', 'департамент', 'дмитрий', 'начать', 'переговоры', 'случай', 'мчс', 'транспорт', 'заявление', 'открытие', 'дорога', 'телеканал', 'турция', 'проблема', 'правоохранительный', 'остаться', 'производство', 'право', 'николай', 'помочь', 'подписать', 'произойти', 'ряд']\n",
            "1 ['неизвестный', 'оон', 'семья', 'комиссия', 'район', 'мэр', 'теракт', 'пресс', 'гражданин', 'поезд', 'мера', 'проводить', 'авария', 'путин', 'местный', 'дом', 'провинция', 'принять', 'взрыв', 'аэропорт', 'утром', 'визит', 'признать', 'круг', 'израиль', 'создать', 'депутат', 'правоохранительный', 'министр', 'месяц', 'ситуация', 'комитет', 'около', 'иран', 'начать', 'сборный', 'режим', 'житель', 'американский', 'сми', 'корреспондент', 'направить', 'движение', 'край', 'милиция', 'янукович', 'копейка', 'воскресение', 'матч', 'афганистан', 'партия', 'мид', 'вечером', 'ветеран', 'соглашение', 'сила', 'проведение', 'ссылка', 'министерство', 'завершить', 'единый', 'сайт', 'рассмотреть', 'дтп', 'самый', 'заседание', 'больница', 'федерация', 'общественный', 'чемпионат', 'состав', 'французский', 'землетрясение', 'решение', 'обсудить', 'образование', 'открытие', 'китай', 'дмитрий', 'член', 'республика', 'руководство', 'зал', 'май', 'судебный', 'открыть', 'апрель', 'результат', 'сборная', 'изменение', 'шахта', 'строительство', 'площадь', 'нефть', 'пострадавший', 'военный', 'июнь', 'округа', 'следственный', 'март']\n",
            "2 ['дагестан', 'результат', 'источник', 'ведомство', 'провинция', 'сотрудник', 'интервью', 'обнаружить', 'закон', 'прокуратура', 'рабочий', 'неизвестный', 'пострадавший', 'телефон', 'победа', 'николай', 'назначить', 'весь', 'германия', 'причина', 'составлять', 'администрация', 'общественный', 'владимир', 'областной', 'парламент', 'рамка', 'виктор', 'александр', 'федеральный', 'оао', 'участник', 'пострадать', 'гувд', 'директор', 'правоохранительный', 'комиссия', 'милиционер', 'край', 'вод', 'внутренний', 'начальник', 'факт', 'подготовка', 'заместитель', 'машина', 'строительство', 'район', 'турция', 'вопрос', 'создание', 'отдел', 'лидер', 'орган', 'депутат', 'здание', 'михаил', 'участие', 'иск', 'сергей', 'больница', 'воскресение', 'футбол', 'крупный', 'получить', 'андрей', 'футболист', 'специалист', 'национальный', 'фонд', 'уголовный', 'высокий', 'зал', 'находиться', 'вечером', 'регион', 'округа', 'производство', 'дмитрий', 'футбольный', 'великий', 'подмосковье', 'проект', 'проблема', 'место', 'погибнуть', 'первое', 'возбудить', 'гражданин', 'дата', 'развитие', 'руководство', 'мвд', 'представить', 'состав', 'федерация', 'комитет', 'жертва', 'культура', 'возможность']\n",
            "3 ['круг', 'больница', 'россиянин', 'игра', 'банка', 'округа', 'фестиваль', 'матч', 'судебный', 'комитет', 'фонд', 'сайт', 'начальник', 'задержать', 'министерство', 'погибший', 'финал', 'средство', 'комиссия', 'ветеран', 'курс', 'политика', 'федерация', 'гражданин', 'дтп', 'период', 'милиционер', 'посвятить', 'гувд', 'директор', 'убийство', 'интервью', 'участник', 'милиция', 'источник', 'дата', 'отечественный', 'чемпионат', 'мвд', 'подписать', 'департамент', 'дорога', 'министр', 'землетрясение', 'пострадавший', 'борьба', 'комплекс', 'теракт', 'факт', 'получить', 'победа', 'сотрудник', 'иск', 'мчс', 'отдел', 'помощь', 'шахта', 'район', 'жертва', 'опубликовать', 'кубок', 'киргизия', 'место', 'назвать', 'подготовка', 'форум', 'полиция', 'лидер', 'орган', 'администрация', 'государство', 'депутат', 'уголовный', 'поддержка', 'говориться', 'руководитель', 'около', 'организация', 'ссылка', 'столичный', 'турнир', 'городской', 'клуб', 'гаити', 'военный', 'итог', 'оао', 'общественный', 'провинция', 'ведомство', 'афганистан', 'мероприятие', 'движение', 'передавать', 'оон', 'казахстан', 'федеральный', 'рассказать', 'ванкувер', 'экономика']\n",
            "4 ['говориться', 'нарушение', 'детский', 'авария', 'назначить', 'комитет', 'игорь', 'заместитель', 'сообщаться', 'отдел', 'следовать', 'комиссия', 'рассмотреть', 'сергей', 'цена', 'предприятие', 'состояться', 'изменение', 'взрыв', 'производство', 'партия', 'мчс', 'время', 'орган', 'поезд', 'готовый', 'театр', 'пройти', 'ночь', 'департамент', 'рассказать', 'конец', 'намерить', 'безопасность', 'нефть', 'скп', 'подписать', 'дтп', 'являться', 'совет', 'ведомство', 'впервые', 'проект', 'свидетельствовать', 'министерство', 'срок', 'николай', 'прокуратура', 'банка', 'планировать', 'находиться', 'интервью', 'юрий', 'копейка', 'фонд', 'генеральный', 'представить', 'телеканал', 'предлагать', 'ядерный', 'форум', 'смочь', 'андрей', 'ветеран', 'специалист', 'мид', 'турнир', 'должный', 'служба', 'клуб', 'завершить', 'группа', 'белоруссия', 'станция', 'возможность', 'рабочий', 'миллиард', 'прибыть', 'снизиться', 'пожар', 'известный', 'составить', 'вод', 'новое', 'провести', 'продажа', 'принять', 'аэропорт', 'тур', 'история', 'средство', 'остаться', 'путин', 'единый', 'работать', 'поддержка', 'дата', 'государственный', 'житель', 'отношение']\n",
            "5 ['дата', 'комитет', 'дать', 'округа', 'проведение', 'предлагать', 'департамент', 'открытый', 'снизиться', 'комиссия', 'партия', 'администрация', 'совет', 'строительство', 'решение', 'заявление', 'открыться', 'право', 'срок', 'посвятить', 'состояться', 'победа', 'вырастить', 'иск', 'участие', 'намерить', 'развитие', 'обсудить', 'служба', 'назначить', 'защита', 'поддержка', 'представить', 'договор', 'пройти', 'рассмотреть', 'создание', 'внутренний', 'мэр', 'вопрос', 'ведомство', 'организация', 'миллиард', 'руководство', 'провести', 'считать', 'спорт', 'рамка', 'полиция', 'конец', 'главный', 'ход', 'составить', 'отношение', 'помощь', 'заместитель', 'метро', 'губернатор', 'проходить', 'большой', 'площадь', 'образование', 'союз', 'появиться', 'центральный', 'призвать', 'юрий', 'парламент', 'новое', 'создать', 'культура', 'семья', 'белоруссия', 'скончаться', 'это', 'направить', 'отечественный', 'общественный', 'путин', 'депутат', 'украинский', 'итог', 'изменение', 'участник', 'подписать', 'писать', 'транспорт', 'рабочий', 'мировой', 'уровень', 'круг', 'результат', 'владимир', 'закон', 'должный', 'сми', 'официальный', 'грузия', 'единый', 'экономический']\n",
            "6 ['выставка', 'источник', 'торг', 'дагестан', 'специалист', 'миллиард', 'нефть', 'официальный', 'лига', 'дорога', 'июль', 'игра', 'август', 'акция', 'руководитель', 'зал', 'округа', 'имя', 'уровень', 'сообщаться', 'экономика', 'самый', 'матч', 'июнь', 'мероприятие', 'фон', 'евгений', 'мир', 'столичный', 'скончаться', 'гувд', 'теракт', 'корреспондент', 'последний', 'спорт', 'индекс', 'внутренний', 'пожар', 'май', 'история', 'экономический', 'хороший', 'шахта', 'часть', 'авария', 'ситуация', 'чемпион', 'следовать', 'общественный', 'телефон', 'февраль', 'подмосковье', 'финал', 'говориться', 'театр', 'следственный', 'биржа', 'ряд', 'апрель', 'открытый', 'проверка', 'серия', 'дать', 'начальник', 'аэропорт', 'курс', 'алексей', 'больница', 'убийство', 'четыре', 'против', 'выиграть', 'впервые', 'теннисный', 'открыться', 'жизнь', 'юг', 'северный', 'сми', 'петербург', 'образование', 'спортивный', 'чемпионат', 'нарушение', 'март', 'футболист', 'событие', 'мчс', 'площадь', 'американский', 'вечером', 'январь', 'сергей', 'ядерный', 'суббота', 'получить', 'землетрясение', 'дтп', 'главный', 'машина']\n",
            "7 ['тур', 'состав', 'итог', 'открыть', 'официальный', 'назначить', 'завершить', 'выиграть', 'провести', 'тренер', 'открытый', 'финал', 'состояться', 'обсудить', 'председатель', 'рейтер', 'член', 'сборная', 'пройти', 'мировой', 'лидер', 'круг', 'прибыть', 'федерация', 'открыться', 'футбол', 'победа', 'франс', 'цска', 'дать', 'событие', 'мир', 'руководитель', 'спорт', 'олимпийский', 'корреспондент', 'нефть', 'открытие', 'руководство', 'сайт', 'чемпионат', 'греция', 'дтп', 'авария', 'начать', 'сборный', 'землетрясение', 'первое', 'большой', 'матч', 'путин', 'рассмотреть', 'команда', 'европа', 'грузия', 'ванкувер', 'впервые', 'сотрудник', 'взрыв', 'пока', 'дмитрий', 'место', 'ядерный', 'визит', 'польша', 'посетить', 'индекс', 'представить', 'машина', 'смочь', 'начальник', 'евро', 'зал', 'футболист', 'направить', 'франция', 'пост', 'янукович', 'оао', 'конец', 'внутренний', 'рабочий', 'проводить', 'северный', 'китай', 'причина', 'федеральный', 'выставка', 'возбудить', 'проходить', 'пресс', 'министр', 'результат', 'начаться', 'доллар', 'воскресение', 'украинский', 'юрий', 'остаться', 'экономика']\n",
            "8 ['путин', 'доллар', 'генеральный', 'газета', 'главный', 'участие', 'договор', 'известный', 'белоруссия', 'греция', 'ассошиэйтед', 'янукович', 'иран', 'турция', 'министр', 'место', 'самый', 'должный', 'начальник', 'мера', 'источник', 'европа', 'тренер', 'рейтер', 'испания', 'первое', 'франс', 'киргизия', 'сми', 'иск', 'теннисный', 'четыре', 'против', 'израиль', 'рамка', 'германия', 'ряд', 'открытие', 'борьба', 'евро', 'гувд', 'оон', 'мировой', 'заявление', 'высокий', 'телеканал', 'сообщаться', 'остаться', 'пост', 'соглашение', 'решение', 'китай', 'подмосковье', 'ночь', 'журналист', 'пять', 'впервые', 'система', 'скп', 'афганистан', 'лига', 'официальный', 'смочь', 'месяц', 'мир', 'департамент', 'дагестан', 'свидетельствовать', 'жертва', 'готовый', 'снизиться', 'остров', 'гаити', 'оао', 'провинция', 'метро', 'история', 'биржа', 'совет', 'польша', 'олимпийский', 'лидер', 'время', 'национальный', 'уровень', 'рост', 'госдума', 'конец', 'семь', 'говориться', 'дмитрий', 'неделя', 'сила', 'цска', 'шахта', 'британский', 'сочи', 'вод', 'весь', 'поезд']\n",
            "9 ['лига', 'борьба', 'цска', 'жертва', 'пройти', 'против', 'говориться', 'дата', 'фонд', 'партия', 'губернатор', 'ассошиэйтед', 'пострадавший', 'причина', 'чемпионат', 'ветеран', 'франс', 'серия', 'проверка', 'депутат', 'экономический', 'уголовный', 'сайт', 'образование', 'продажа', 'готовый', 'виктор', 'лидер', 'получить', 'чемпион', 'клуб', 'защита', 'строительство', 'сборная', 'грузия', 'представить', 'телеканал', 'рассмотреть', 'команда', 'тренер', 'появиться', 'состояться', 'связь', 'оао', 'выиграть', 'банка', 'областной', 'ссылка', 'назначить', 'считать', 'последний', 'мировой', 'свидетельствовать', 'снизиться', 'газета', 'спорт', 'турция', 'создание', 'афганистан', 'матч', 'внутренний', 'ванкувер', 'погибший', 'акция', 'корреспондент', 'состав', 'мера', 'направить', 'сборный', 'турнир', 'россиянин', 'житель', 'мэр', 'обвинять', 'спортивный', 'первое', 'сила', 'программа', 'также', 'история', 'милиция', 'проходить', 'выйти', 'александр', 'округа', 'остаться', 'теракт', 'михаил', 'сергей', 'создать', 'мир', 'фон', 'больница', 'игра', 'евгений', 'доллар', 'региональный', 'прокуратура', 'посетить', 'источник']\n",
            "10 ['торг', 'фон', 'режим', 'подозревать', 'свидетельствовать', 'движение', 'против', 'месяц', 'теннисный', 'британский', 'конец', 'считать', 'индекс', 'обвинять', 'биржа', 'теракт', 'тренер', 'греция', 'организация', 'срок', 'скп', 'следовать', 'округа', 'самый', 'французский', 'число', 'последний', 'мировой', 'юг', 'дорога', 'край', 'отношение', 'история', 'рейтер', 'полиция', 'связь', 'серия', 'руководство', 'впервые', 'служба', 'европа', 'цена', 'нефть', 'отдел', 'заседание', 'провинция', 'доллар', 'сборная', 'пресс', 'гражданин', 'банка', 'европейский', 'борьба', 'дмитрий', 'бывший', 'телефон', 'внутренний', 'турнир', 'сотрудник', 'найти', 'выставка', 'следственный', 'дата', 'пост', 'команда', 'метро', 'создание', 'ряд', 'партия', 'проверка', 'прокуратура', 'возбудить', 'кубок', 'курс', 'центральный', 'грузия', 'корреспондент', 'спортивный', 'возможность', 'ведомство', 'дагестан', 'китай', 'открытие', 'сила', 'театр', 'рост', 'продажа', 'иностранный', 'неизвестный', 'планировать', 'ассошиэйтед', 'американский', 'место', 'пострадавший', 'интервью', 'визит', 'начать', 'ночь', 'территория', 'футбол']\n",
            "11 ['внутренний', 'уголовный', 'говориться', 'семья', 'округа', 'самый', 'мвд', 'дата', 'признать', 'обвинять', 'великий', 'петербург', 'общественный', 'сообщаться', 'начальник', 'мэр', 'изменение', 'сотрудник', 'подозревать', 'дать', 'найти', 'франс', 'сми', 'срок', 'подмосковье', 'заседание', 'считать', 'юрий', 'сайт', 'возможность', 'телефон', 'следственный', 'площадь', 'руководитель', 'продажа', 'мера', 'часть', 'здание', 'ход', 'это', 'представить', 'городской', 'французский', 'источник', 'журналист', 'неизвестный', 'ветеран', 'доллар', 'ночь', 'весь', 'акция', 'рассмотреть', 'объявить', 'регион', 'милиционер', 'министр', 'прибыть', 'образование', 'правоохранительный', 'производство', 'соглашение', 'столичный', 'проект', 'ведомство', 'время', 'генеральный', 'оон', 'член', 'председатель', 'посвятить', 'подписать', 'создание', 'ассошиэйтед', 'организация', 'чемпионат', 'газета', 'конец', 'иностранный', 'прокуратура', 'орган', 'направить', 'совет', 'находиться', 'программа', 'скп', 'путин', 'милиция', 'машина', 'закон', 'депутат', 'гувд', 'проверка', 'борьба', 'гражданин', 'заместитель', 'факт', 'система', 'северный', 'украинский', 'судебный']\n",
            "12 ['предлагать', 'руководитель', 'начальник', 'сообщение', 'олимпийский', 'заседание', 'мочь', 'сообщаться', 'тур', 'мэр', 'неделя', 'готовый', 'планировать', 'место', 'смочь', 'банка', 'финансовый', 'безопасность', 'намерить', 'пострадавший', 'федерация', 'помочь', 'неизвестный', 'юрий', 'обвинять', 'директор', 'писать', 'председатель', 'торг', 'призвать', 'правоохранительный', 'интервью', 'известный', 'проверка', 'заявление', 'спортивный', 'гражданин', 'направить', 'главный', 'экономика', 'задержать', 'дорога', 'вопрос', 'дать', 'следовать', 'должный', 'метро', 'создать', 'судебный', 'лидер', 'встреча', 'дагестан', 'месяц', 'газета', 'индекс', 'июнь', 'мир', 'городской', 'милиционер', 'станция', 'возбудить', 'федеральный', 'работать', 'пострадать', 'связь', 'февраль', 'система', 'детский', 'участник', 'юг', 'член', 'дтп', 'составить', 'аэропорт', 'министр', 'государственный', 'район', 'считать', 'тренер', 'суббота', 'защита', 'появиться', 'сборный', 'столичный', 'ветеран', 'департамент', 'следственный', 'бывший', 'выиграть', 'внутренний', 'май', 'футболист', 'мера', 'отечественный', 'биржа', 'франс', 'украинский', 'фонд', 'милиция', 'имя']\n",
            "13 ['экономический', 'мировой', 'метро', 'финансовый', 'пресс', 'южный', 'партия', 'выбор', 'единый', 'признать', 'национальный', 'подписать', 'ядерный', 'рост', 'участник', 'являться', 'назначить', 'евро', 'уровень', 'футболист', 'шахта', 'союз', 'ссылка', 'фон', 'принять', 'пост', 'турнир', 'путин', 'считать', 'проводить', 'мир', 'центральный', 'продажа', 'победа', 'республика', 'свидетельствовать', 'пока', 'иран', 'губернатор', 'экономика', 'организация', 'выиграть', 'это', 'испания', 'спортивный', 'создать', 'комитет', 'индекс', 'снизиться', 'производство', 'договор', 'завершить', 'сборный', 'газета', 'мэр', 'детский', 'банка', 'клуб', 'система', 'образование', 'государство', 'серия', 'август', 'отдел', 'тур', 'семья', 'областной', 'переговоры', 'рынок', 'режим', 'опубликовать', 'группа', 'проведение', 'первое', 'дтп', 'воскресение', 'акция', 'место', 'лидер', 'теннисный', 'найти', 'развитие', 'неделя', 'право', 'убийство', 'служба', 'возбудить', 'ход', 'рассмотреть', 'защита', 'американский', 'госдума', 'встреча', 'игра', 'известный', 'открыть', 'футбольный', 'объявить', 'тренер', 'жизнь']\n",
            "14 ['доллар', 'визит', 'евро', 'фонд', 'комплекс', 'мировой', 'пострадавший', 'отношение', 'являться', 'погибнуть', 'переговоры', 'биржа', 'экономический', 'европа', 'банка', 'жертва', 'история', 'китай', 'планировать', 'турнир', 'экономика', 'снизиться', 'сообщение', 'составлять', 'обнаружить', 'теракт', 'поддержка', 'провинция', 'встреча', 'союз', 'продажа', 'рынок', 'отечественный', 'мид', 'задержать', 'юг', 'нефть', 'производство', 'цена', 'аэропорт', 'утром', 'тур', 'афганистан', 'театр', 'результат', 'форум', 'погибший', 'факт', 'мероприятие', 'считать', 'составить', 'курс', 'пострадать', 'ядерный', 'получить', 'гаити', 'мир', 'комитет', 'рост', 'фестиваль', 'сборная', 'иностранный', 'рейтер', 'договор', 'впервые', 'греция', 'пройти', 'участие', 'свидетельствовать', 'оао', 'метро', 'государство', 'уровень', 'крупный', 'борьба', 'пост', 'информация', 'опубликовать', 'сайт', 'убийство', 'выставка', 'газета', 'телеканал', 'дом', 'начальник', 'семья', 'движение', 'россиянин', 'источник', 'шахта', 'мочь', 'обсудить', 'предприятие', 'передавать', 'произойти', 'школа', 'торг', 'помощь', 'интервью', 'миллиард']\n",
            "15 ['сообщение', 'край', 'завершить', 'взрыв', 'подписать', 'суббота', 'мероприятие', 'начальник', 'находиться', 'май', 'назначить', 'обвинять', 'остаться', 'проверка', 'культура', 'шахта', 'дом', 'предлагать', 'ведомство', 'открытый', 'янукович', 'воскресение', 'бывший', 'срок', 'корреспондент', 'решение', 'теннисный', 'иск', 'олимпийский', 'военный', 'ядерный', 'погибший', 'транспорт', 'возбудить', 'март', 'заявление', 'выйти', 'произойти', 'выставка', 'пострадать', 'губернатор', 'руководитель', 'белоруссия', 'факт', 'должный', 'январь', 'высокий', 'дагестан', 'здание', 'мчс', 'отечественный', 'республика', 'станция', 'участие', 'театр', 'прокуратура', 'возможность', 'кубок', 'провести', 'машина', 'февраль', 'защита', 'рассказать', 'хороший', 'рамка', 'известный', 'дорога', 'великий', 'сочи', 'проводить', 'оон', 'федерация', 'прибыть', 'последний', 'столичный', 'россиянин', 'областной', 'убийство', 'причина', 'польша', 'авария', 'погибнуть', 'главный', 'скончаться', 'проведение', 'турнир', 'евгений', 'вод', 'ветеран', 'аэропорт', 'оао', 'часть', 'право', 'победа', 'направить', 'вопрос', 'зал', 'июль', 'составлять', 'задержать']\n",
            "16 ['фон', 'департамент', 'торг', 'миллиард', 'копейка', 'рассказать', 'вырастить', 'снизиться', 'писать', 'курс', 'нефть', 'свидетельствовать', 'заместитель', 'цена', 'андрей', 'индекс', 'иностранный', 'госдума', 'биржа', 'время', 'метро', 'неделя', 'объявить', 'янукович', 'рост', 'государственный', 'внутренний', 'банка', 'подмосковье', 'начаться', 'назначить', 'полиция', 'рынок', 'итог', 'отношение', 'несколько', 'остров', 'рассмотреть', 'конец', 'финансовый', 'рейтер', 'составить', 'открыться', 'станция', 'евро', 'месяц', 'уголовный', 'сообщаться', 'планировать', 'европейский', 'петербург', 'опубликовать', 'прибыть', 'поезд', 'сми', 'образование', 'утром', 'следовать', 'имя', 'срок', 'режим', 'событие', 'число', 'министерство', 'автомобиль', 'евгений', 'правоохранительный', 'передавать', 'кубок', 'газета', 'неизвестный', 'форум', 'заседание', 'пост', 'николай', 'развитие', 'американский', 'мочь', 'источник', 'состояться', 'партия', 'дать', 'начать', 'милиция', 'продажа', 'апрель', 'мвд', 'республика', 'крупный', 'дагестан', 'акция', 'задержать', 'администрация', 'уровень', 'закон', 'греция', 'иск', 'китай', 'ассошиэйтед', 'говориться']\n",
            "17 ['комитет', 'скончаться', 'открыться', 'состояться', 'телефон', 'теракт', 'начальник', 'сотрудник', 'открыть', 'администрация', 'петербург', 'произойти', 'информация', 'тренер', 'край', 'участие', 'провинция', 'защита', 'здание', 'директор', 'руководитель', 'пройти', 'открытие', 'полиция', 'дтп', 'главный', 'погибнуть', 'площадь', 'иран', 'источник', 'больница', 'дата', 'начаться', 'ночь', 'выступать', 'вечером', 'выйти', 'землетрясение', 'утром', 'заявление', 'округа', 'интервью', 'провести', 'остров', 'республика', 'представить', 'дорога', 'проведение', 'строительство', 'посетить', 'неделя', 'следственный', 'метро', 'столица', 'отечественный', 'внутренний', 'отношение', 'милиционер', 'задержать', 'завершить', 'открытый', 'турция', 'безопасность', 'общественный', 'корреспондент', 'прибыть', 'региональный', 'израиль', 'ход', 'поезд', 'милиция', 'вод', 'спорт', 'франс', 'обсудить', 'мировой', 'транспорт', 'белоруссия', 'участник', 'состав', 'убийство', 'великий', 'скп', 'заместитель', 'работать', 'партия', 'объявить', 'проводить', 'жизнь', 'рабочий', 'взрыв', 'украинский', 'вопрос', 'посвятить', 'режим', 'комиссия', 'заседание', 'культура', 'серия', 'пост']\n",
            "18 ['бывший', 'обсудить', 'убийство', 'гражданин', 'футболист', 'выиграть', 'футбольный', 'матч', 'акция', 'сообщаться', 'комитет', 'рассмотреть', 'отдел', 'назначить', 'экономический', 'режим', 'выставка', 'решение', 'житель', 'чемпион', 'полиция', 'неделя', 'руководство', 'вечером', 'участие', 'пост', 'защита', 'владимир', 'великий', 'генеральный', 'апрель', 'федеральный', 'политика', 'против', 'игра', 'март', 'предприятие', 'направить', 'комиссия', 'возбудить', 'результат', 'заместитель', 'интервью', 'группа', 'ветеран', 'визит', 'право', 'дата', 'назвать', 'тренер', 'представить', 'передавать', 'посвятить', 'средство', 'провести', 'остаться', 'цска', 'центральный', 'связь', 'иск', 'лидер', 'июль', 'мвд', 'внутренний', 'выступать', 'журналист', 'семья', 'серия', 'департамент', 'финал', 'фонд', 'победа', 'спорт', 'телефон', 'россиянин', 'встреча', 'официальный', 'белоруссия', 'дорога', 'футбол', 'образование', 'история', 'январь', 'обвинять', 'изменение', 'сергей', 'фестиваль', 'заседание', 'аэропорт', 'парламент', 'программа', 'выйти', 'получить', 'судебный', 'известный', 'детский', 'составлять', 'май', 'следственный', 'безопасность']\n",
            "19 ['виктор', 'визит', 'решение', 'группа', 'алексей', 'назначить', 'развитие', 'соглашение', 'возбудить', 'зал', 'закон', 'игорь', 'система', 'семья', 'совет', 'ближний', 'участник', 'госдума', 'имя', 'тренер', 'мир', 'внутренний', 'путин', 'завершить', 'евгений', 'договор', 'казахстан', 'высокий', 'передавать', 'владимир', 'сергей', 'пострадавший', 'подозревать', 'жертва', 'средство', 'убийство', 'обнаружить', 'история', 'турнир', 'сайт', 'причина', 'вопрос', 'принять', 'скп', 'фонд', 'член', 'суббота', 'участие', 'форум', 'государство', 'евро', 'андрей', 'комитет', 'доллар', 'скончаться', 'китай', 'национальный', 'обвинять', 'курс', 'начаться', 'правоохранительный', 'греция', 'защита', 'республика', 'мчс', 'место', 'финансовый', 'дом', 'создание', 'найти', 'воскресение', 'последний', 'погибший', 'пока', 'выиграть', 'получить', 'сотрудник', 'матч', 'борьба', 'театр', 'бывший', 'встреча', 'хороший', 'признать', 'оао', 'рамка', 'поезд', 'телефон', 'мвд', 'дмитрий', 'заместитель', 'возможность', 'сотрудничество', 'николай', 'сборная', 'начать', 'проводить', 'создать', 'следственный', 'круг']\n",
            "20 ['юрий', 'пост', 'дмитрий', 'заявление', 'возбудить', 'высокий', 'признать', 'партия', 'владимир', 'производство', 'считать', 'евро', 'фестиваль', 'нарушение', 'подозревать', 'бывший', 'акция', 'игорь', 'предприятие', 'борьба', 'александр', 'иск', 'являться', 'рассказать', 'игра', 'первое', 'биржа', 'режим', 'появиться', 'программа', 'выбор', 'новый', 'решение', 'месяц', 'намерить', 'выступать', 'проходить', 'известный', 'виктор', 'миллиард', 'весь', 'изменение', 'матч', 'выставка', 'иностранный', 'произойти', 'факт', 'шахта', 'парламент', 'направить', 'снизиться', 'лидер', 'это', 'обвинять', 'открыться', 'клуб', 'новое', 'янукович', 'выйти', 'военный', 'сборный', 'тренер', 'большой', 'алексей', 'найти', 'николай', 'рассмотреть', 'цска', 'мэр', 'скп', 'август', 'победа', 'пока', 'вырастить', 'уголовный', 'директор', 'франс', 'мир', 'поддержка', 'михаил', 'курс', 'состояться', 'зал', 'индекс', 'кубок', 'назначить', 'семья', 'неизвестный', 'министр', 'соглашение', 'россиянин', 'копейка', 'рынок', 'площадь', 'ассошиэйтед', 'визит', 'интервью', 'помощь', 'губернатор', 'проверка']\n",
            "21 ['греция', 'европа', 'доллар', 'европейский', 'национальный', 'финансовый', 'переговоры', 'мир', 'теракт', 'польша', 'газа', 'мировой', 'американский', 'евро', 'вопрос', 'федерация', 'неделя', 'пресс', 'уровень', 'сообщение', 'гаити', 'сила', 'комиссия', 'интервью', 'зал', 'путин', 'май', 'результат', 'договор', 'изменение', 'иран', 'государство', 'иностранный', 'проект', 'площадь', 'союз', 'нефть', 'комплекс', 'казахстан', 'средство', 'движение', 'столичный', 'соглашение', 'сочи', 'место', 'ядерный', 'апрель', 'семья', 'посвятить', 'форум', 'победа', 'проблема', 'визит', 'германия', 'аэропорт', 'остров', 'турция', 'британский', 'столица', 'новое', 'случай', 'сообщаться', 'сми', 'ближний', 'партия', 'дмитрий', 'вечером', 'янукович', 'март', 'торг', 'круг', 'фестиваль', 'школа', 'израиль', 'станция', 'период', 'специалист', 'возможность', 'спорт', 'китай', 'несколько', 'матч', 'министерство', 'февраль', 'месяц', 'телефон', 'грузия', 'взрыв', 'северный', 'открытый', 'землетрясение', 'самый', 'отечественный', 'франция', 'июль', 'рамка', 'принять', 'ход', 'южный', 'заявление']\n",
            "22 ['безопасность', 'юрий', 'пострадать', 'визит', 'обнаружить', 'лига', 'закон', 'округа', 'пострадавший', 'защита', 'телеканал', 'гувд', 'война', 'проблема', 'отдел', 'администрация', 'виктор', 'подозревать', 'борьба', 'футбол', 'финансовый', 'евгений', 'остаться', 'встреча', 'александр', 'дтп', 'группа', 'край', 'обвинять', 'событие', 'экономика', 'игорь', 'открыть', 'дом', 'дагестан', 'мвд', 'победа', 'генеральный', 'создание', 'правоохранительный', 'мчс', 'открытый', 'снизиться', 'создать', 'культура', 'являться', 'транспорт', 'договор', 'заявление', 'составить', 'выиграть', 'скп', 'департамент', 'михаил', 'спорт', 'строительство', 'найти', 'дмитрий', 'уровень', 'направить', 'погибнуть', 'экономический', 'пост', 'орган', 'оао', 'рассказать', 'первое', 'министерство', 'банка', 'интервью', 'назвать', 'федерация', 'вырастить', 'получить', 'должный', 'служба', 'гаити', 'высокий', 'составлять', 'вопрос', 'комиссия', 'большой', 'шахта', 'прокуратура', 'олимпийский', 'рынок', 'комплекс', 'соглашение', 'теракт', 'предприятие', 'полиция', 'выйти', 'известный', 'пресс', 'это', 'решение', 'мероприятие', 'программа', 'жизнь', 'признать']\n",
            "23 ['департамент', 'федерация', 'гувд', 'администрация', 'гаити', 'нарушение', 'ситуация', 'дтп', 'провести', 'дагестан', 'подписать', 'пять', 'северный', 'планировать', 'средство', 'представить', 'отношение', 'землетрясение', 'польша', 'проведение', 'казахстан', 'подмосковье', 'милиция', 'район', 'взрыв', 'получить', 'убийство', 'губернатор', 'передавать', 'орган', 'рост', 'место', 'пост', 'министр', 'оон', 'телефон', 'изменение', 'завершить', 'служба', 'руководитель', 'сотрудник', 'округа', 'высокий', 'рассказать', 'выиграть', 'республика', 'вырастить', 'поддержка', 'открытый', 'министерство', 'теракт', 'большой', 'открыть', 'смочь', 'автомобиль', 'уровень', 'петербург', 'милиционер', 'начаться', 'председатель', 'погибнуть', 'оао', 'продажа', 'остаться', 'киргизия', 'жизнь', 'британский', 'пострадать', 'составлять', 'лидер', 'составить', 'около', 'жертва', 'директор', 'финал', 'начальник', 'правоохранительный', 'остров', 'главный', 'федеральный', 'организация', 'начать', 'событие', 'открыться', 'комитет', 'впервые', 'семь', 'дата', 'госдума', 'метро', 'проводить', 'писать', 'отдел', 'авария', 'европа', 'скончаться', 'янукович', 'шесть', 'появиться', 'июль']\n",
            "24 ['самый', 'свидетельствовать', 'чемпионат', 'выступать', 'новое', 'орган', 'корреспондент', 'писать', 'жизнь', 'олимпийский', 'политика', 'находиться', 'хороший', 'парламент', 'партия', 'неизвестный', 'прибыть', 'ядерный', 'объявить', 'ссылка', 'скончаться', 'янукович', 'являться', 'телеканал', 'открыться', 'копейка', 'остаться', 'составить', 'полиция', 'депутат', 'гувд', 'призвать', 'пять', 'составлять', 'февраль', 'телефон', 'греция', 'национальный', 'закон', 'рассказать', 'землетрясение', 'михаил', 'уголовный', 'ситуация', 'август', 'франс', 'война', 'часть', 'победа', 'новый', 'министр', 'вод', 'последний', 'единый', 'право', 'тур', 'обвинять', 'теракт', 'директор', 'администрация', 'заместитель', 'следовать', 'получить', 'движение', 'четыре', 'выиграть', 'игра', 'футбол', 'убийство', 'открыть', 'состояться', 'назвать', 'франция', 'рост', 'сергей', 'начаться', 'теннисный', 'сайт', 'направить', 'подозревать', 'возбудить', 'выбор', 'культура', 'цена', 'губернатор', 'посетить', 'местный', 'сми', 'украинский', 'против', 'газета', 'индекс', 'интервью', 'взрыв', 'ход', 'главный', 'рынок', 'сотрудник', 'житель', 'шесть']\n",
            "25 ['копейка', 'федеральный', 'режим', 'депутат', 'школа', 'председатель', 'писать', 'тур', 'дата', 'принять', 'областной', 'право', 'ход', 'уголовный', 'возможность', 'сотрудник', 'против', 'вопрос', 'прокуратура', 'провести', 'мера', 'руководитель', 'региональный', 'мчс', 'рассмотреть', 'янукович', 'владимир', 'евро', 'направить', 'руководство', 'местный', 'подписать', 'судебный', 'миллиард', 'пост', 'министр', 'свидетельствовать', 'дмитрий', 'единый', 'проводить', 'период', 'продажа', 'сборный', 'проведение', 'край', 'сообщение', 'оао', 'заседание', 'следственный', 'ссылка', 'скончаться', 'итог', 'совет', 'посетить', 'политика', 'начальник', 'регион', 'государственный', 'изменение', 'сотрудничество', 'образование', 'комиссия', 'месяц', 'северный', 'союз', 'госдума', 'иск', 'выбор', 'чемпион', 'средство', 'бывший', 'ассошиэйтед', 'отношение', 'поддержка', 'пройти', 'британский', 'связь', 'назначить', 'дагестан', 'европейский', 'николай', 'орган', 'ветеран', 'городской', 'турция', 'губернатор', 'государство', 'предлагать', 'участник', 'израиль', 'круг', 'сочи', 'рейтер', 'произойти', 'директор', 'организация', 'намерить', 'причина', 'специалист', 'также']\n",
            "26 ['андрей', 'гувд', 'игорь', 'борьба', 'сергей', 'рынок', 'столичный', 'ветеран', 'городской', 'заместитель', 'дмитрий', 'следственный', 'алексей', 'начальник', 'рассказать', 'итог', 'первое', 'виктор', 'скп', 'владимир', 'подозревать', 'финал', 'провести', 'ведомство', 'индекс', 'остаться', 'евгений', 'матч', 'директор', 'пострадать', 'администрация', 'александр', 'создание', 'хороший', 'департамент', 'руководитель', 'футбол', 'общественный', 'юрий', 'дорога', 'погибший', 'тренер', 'дом', 'правоохранительный', 'уголовный', 'крупный', 'областной', 'утром', 'подготовка', 'сборный', 'получить', 'известный', 'обвинять', 'судебный', 'спорт', 'министерство', 'губернатор', 'жертва', 'экономический', 'телефон', 'посвятить', 'подмосковье', 'столица', 'николай', 'интервью', 'рост', 'появиться', 'футбольный', 'свидетельствовать', 'футболист', 'петербург', 'проблема', 'команда', 'внутренний', 'обнаружить', 'лидер', 'война', 'михаил', 'завершить', 'биржа', 'фон', 'большой', 'связь', 'округа', 'сайт', 'создать', 'составлять', 'выиграть', 'торг', 'время', 'местный', 'милиция', 'экономика', 'факт', 'миллиард', 'последний', 'французский', 'выйти', 'ночь', 'убийство']\n",
            "27 ['жертва', 'причина', 'суббота', 'дать', 'испания', 'место', 'воскресение', 'четыре', 'остаться', 'лидер', 'главный', 'самый', 'округа', 'неделя', 'итог', 'теннисный', 'несколько', 'проблема', 'составлять', 'пресс', 'состав', 'мера', 'результат', 'событие', 'подмосковье', 'случай', 'британский', 'период', 'матч', 'игорь', 'январь', 'выбор', 'площадь', 'северный', 'шесть', 'остров', 'спорт', 'убийство', 'время', 'сайт', 'составить', 'турция', 'ванкувер', 'вырастить', 'крупный', 'полиция', 'борьба', 'корреспондент', 'вод', 'франция', 'около', 'прибыть', 'детский', 'гаити', 'образование', 'провинция', 'зал', 'сообщение', 'пока', 'помощь', 'национальный', 'россиянин', 'серия', 'жизнь', 'война', 'обвинять', 'срок', 'региональный', 'андрей', 'июль', 'хороший', 'погибший', 'местный', 'обнаружить', 'территория', 'петербург', 'столичный', 'александр', 'источник', 'открытый', 'факт', 'пять', 'землетрясение', 'месяц', 'последний', 'иностранный', 'работа', 'мир', 'снизиться', 'получить', 'участник', 'скп', 'внутренний', 'казахстан', 'южный', 'школа', 'переговоры', 'это', 'футбол', 'киргизия']\n",
            "28 ['скп', 'обсудить', 'форум', 'победа', 'скончаться', 'мчс', 'закон', 'возбудить', 'период', 'рынок', 'принять', 'чемпионат', 'апрель', 'пост', 'рассмотреть', 'образование', 'турнир', 'первое', 'сочи', 'кубок', 'орган', 'завершить', 'мероприятие', 'составить', 'совет', 'автомобиль', 'путин', 'школа', 'хороший', 'детский', 'писать', 'соглашение', 'февраль', 'администрация', 'погибший', 'март', 'июнь', 'машина', 'начальник', 'обвинять', 'индекс', 'следственный', 'изменение', 'округа', 'представить', 'система', 'губернатор', 'организация', 'матч', 'комитет', 'месяц', 'единый', 'сми', 'смочь', 'визит', 'больница', 'мочь', 'служба', 'игра', 'общественный', 'начать', 'снизиться', 'семья', 'говориться', 'культура', 'мвд', 'журналист', 'миллиард', 'экономика', 'опубликовать', 'заседание', 'создать', 'подготовка', 'направить', 'выбор', 'сотрудничество', 'корреспондент', 'сотрудник', 'чемпион', 'пострадавший', 'спортивный', 'теракт', 'россиянин', 'экономический', 'переговоры', 'обнаружить', 'шахта', 'акция', 'министр', 'предприятие', 'война', 'милиция', 'правоохранительный', 'назначить', 'телефон', 'появиться', 'дтп', 'госдума', 'получить', 'неделя']\n",
            "29 ['фон', 'председатель', 'развитие', 'копейка', 'курс', 'отношение', 'торг', 'министр', 'дмитрий', 'греция', 'внутренний', 'единый', 'сотрудничество', 'рост', 'цска', 'политика', 'совет', 'закон', 'безопасность', 'призвать', 'проведение', 'тренер', 'иностранный', 'должный', 'сергей', 'мэр', 'чемпионат', 'команда', 'лига', 'высокий', 'киргизия', 'фестиваль', 'создание', 'финансовый', 'соглашение', 'выбор', 'партия', 'сила', 'поддержка', 'намерить', 'федерация', 'генеральный', 'ветеран', 'госдума', 'европейский', 'сборная', 'ближний', 'путин', 'организация', 'матч', 'против', 'дата', 'национальный', 'янукович', 'мочь', 'оао', 'проходить', 'депутат', 'итог', 'акция', 'игра', 'федеральный', 'лидер', 'сборный', 'форум', 'заседание', 'впервые', 'готовый', 'евгений', 'директор', 'чемпион', 'часть', 'испания', 'начальник', 'союз', 'транспорт', 'движение', 'газа', 'алексей', 'цена', 'самый', 'культура', 'планировать', 'мировой', 'экономика', 'государственный', 'опубликовать', 'свидетельствовать', 'пройти', 'член', 'тур', 'биржа', 'решение', 'нефть', 'банка', 'футбольный', 'участник', 'клуб', 'назвать', 'китай']\n",
            "30 ['выбор', 'торг', 'иск', 'виктор', 'фон', 'ситуация', 'круг', 'доллар', 'пост', 'зал', 'соглашение', 'дтп', 'нарушение', 'опубликовать', 'индекс', 'конец', 'станция', 'евгений', 'национальный', 'взрыв', 'скончаться', 'землетрясение', 'курс', 'заместитель', 'оао', 'решение', 'рынок', 'уголовный', 'отдел', 'средство', 'матч', 'футбол', 'комплекс', 'намерить', 'биржа', 'писать', 'рост', 'европейский', 'судебный', 'лидер', 'мировой', 'дом', 'объявить', 'выставка', 'житель', 'орган', 'здание', 'фонд', 'ведомство', 'сотрудник', 'пожар', 'служба', 'найти', 'передавать', 'продажа', 'телефон', 'интервью', 'ассошиэйтед', 'областной', 'комитет', 'форум', 'известный', 'обвинять', 'культура', 'бывший', 'говориться', 'событие', 'финал', 'уровень', 'закон', 'визит', 'рассказать', 'заявление', 'парламент', 'южный', 'госдума', 'член', 'снизиться', 'источник', 'региональный', 'сергей', 'отечественный', 'проект', 'заседание', 'цена', 'признать', 'жертва', 'январь', 'самый', 'руководство', 'игорь', 'прокуратура', 'изменение', 'помочь', 'школа', 'должный', 'комиссия', 'европа', 'высокий', 'николай']\n",
            "31 ['кубок', 'следственный', 'мид', 'великий', 'иск', 'государство', 'изменение', 'опубликовать', 'форум', 'евгений', 'жизнь', 'региональный', 'режим', 'соглашение', 'мвд', 'владимир', 'сила', 'событие', 'образование', 'регион', 'история', 'федеральный', 'миллиард', 'составить', 'столица', 'мчс', 'часть', 'территория', 'британский', 'здание', 'национальный', 'столичный', 'ночь', 'олимпийский', 'судебный', 'политика', 'вод', 'губернатор', 'городской', 'переговоры', 'правоохранительный', 'организация', 'администрация', 'театр', 'михаил', 'помощь', 'выставка', 'александр', 'прокуратура', 'ведомство', 'андрей', 'оон', 'скончаться', 'французский', 'игорь', 'землетрясение', 'николай', 'район', 'акция', 'обнаружить', 'проект', 'конец', 'бывший', 'культура', 'алексей', 'местный', 'открыться', 'проблема', 'общественный', 'ассошиэйтед', 'вопрос', 'программа', 'областной', 'информация', 'казахстан', 'принять', 'единый', 'киргизия', 'высокий', 'ссылка', 'появиться', 'около', 'площадь', 'русский', 'полиция', 'вырастить', 'украинский', 'неизвестный', 'янукович', 'германия', 'сайт', 'назвать', 'фестиваль', 'станция', 'имя', 'известный', 'гувд', 'петербург', 'период', 'детский']\n",
            "32 ['копейка', 'индекс', 'фон', 'признать', 'возбудить', 'выиграть', 'остаться', 'цена', 'подозревать', 'посетить', 'проходить', 'прибыть', 'круг', 'турнир', 'выйти', 'владимир', 'обвинять', 'находиться', 'торг', 'тур', 'вырастить', 'серия', 'помочь', 'случай', 'встреча', 'завершить', 'направить', 'задержать', 'кубок', 'связь', 'начаться', 'посвятить', 'ситуация', 'говориться', 'месяц', 'период', 'дата', 'первое', 'срок', 'обсудить', 'подписать', 'считать', 'сотрудничество', 'крупный', 'время', 'телефон', 'принять', 'иск', 'выступать', 'часть', 'сборная', 'источник', 'передавать', 'утром', 'открыть', 'проблема', 'произойти', 'рост', 'следовать', 'рассказать', 'южный', 'пройти', 'биржа', 'единый', 'сотрудник', 'результат', 'станция', 'миллиард', 'переговоры', 'курс', 'право', 'рассмотреть', 'территория', 'продажа', 'германия', 'пострадать', 'алексей', 'открытый', 'интервью', 'чемпионат', 'воскресение', 'русский', 'финал', 'сборный', 'смочь', 'назначить', 'выбор', 'игорь', 'призвать', 'должный', 'назвать', 'помощь', 'ряд', 'автомобиль', 'поезд', 'школа', 'писать', 'игра', 'местный', 'форум']\n",
            "33 ['директор', 'госдума', 'янукович', 'политика', 'развитие', 'столица', 'посетить', 'гражданин', 'белоруссия', 'война', 'начальник', 'встреча', 'безопасность', 'чемпион', 'государственный', 'система', 'первое', 'торг', 'руководитель', 'парламент', 'телефон', 'государство', 'участие', 'теннисный', 'утром', 'проверка', 'выйти', 'заседание', 'банка', 'выбор', 'поезд', 'пока', 'биржа', 'миллиард', 'европейский', 'мчс', 'вечером', 'россиянин', 'край', 'путин', 'сборный', 'заместитель', 'председатель', 'союз', 'последний', 'режим', 'оон', 'землетрясение', 'регион', 'взрыв', 'журналист', 'начать', 'казахстан', 'обсудить', 'вопрос', 'совет', 'специалист', 'отдел', 'направить', 'рабочий', 'подписать', 'губернатор', 'областной', 'крупный', 'большой', 'проведение', 'корреспондент', 'республика', 'комплекс', 'финансовый', 'ряд', 'единый', 'общественный', 'представить', 'пожар', 'провинция', 'сборная', 'внутренний', 'кубок', 'акция', 'рассмотреть', 'служба', 'фонд', 'подмосковье', 'министр', 'имя', 'сообщаться', 'организация', 'февраль', 'жертва', 'алексей', 'юг', 'возможность', 'владимир', 'открытие', 'дом', 'весь', 'ссылка', 'городской', 'великий']\n",
            "34 ['станция', 'госдума', 'единый', 'дмитрий', 'ближний', 'теракт', 'продажа', 'взрыв', 'копейка', 'рынок', 'скп', 'причина', 'помочь', 'средство', 'пожар', 'новое', 'федеральный', 'система', 'отечественный', 'конец', 'служба', 'русский', 'новый', 'проверка', 'биржа', 'изменение', 'виктор', 'евгений', 'французский', 'курс', 'департамент', 'проблема', 'помощь', 'работа', 'андрей', 'путин', 'торг', 'мочь', 'метро', 'ситуация', 'рассказать', 'цена', 'мчс', 'убийство', 'алексей', 'сергей', 'орган', 'фон', 'место', 'район', 'чемпион', 'создание', 'землетрясение', 'должный', 'ведомство', 'регион', 'завершить', 'решение', 'аэропорт', 'отдел', 'создать', 'школа', 'работать', 'милиционер', 'милиция', 'поезд', 'готовый', 'крупный', 'индекс', 'генеральный', 'программа', 'министерство', 'пост', 'визит', 'парламент', 'сочи', 'срок', 'михаил', 'заместитель', 'цска', 'комплекс', 'транспорт', 'ванкувер', 'несколько', 'греция', 'мировой', 'высокий', 'государственный', 'авария', 'поддержка', 'образование', 'пока', 'клуб', 'следственный', 'миллиард', 'оао', 'министр', 'утром', 'совет', 'театр']\n",
            "35 ['направить', 'обсудить', 'возбудить', 'неизвестный', 'франс', 'открыться', 'свидетельствовать', 'великий', 'встреча', 'заявление', 'больница', 'подписать', 'парламент', 'прибыть', 'футбол', 'иностранный', 'здание', 'посетить', 'рассмотреть', 'изменение', 'переговоры', 'проверка', 'мера', 'вечером', 'заседание', 'остров', 'доллар', 'северный', 'сергей', 'кубок', 'составлять', 'говориться', 'состояться', 'война', 'завершить', 'полиция', 'ассошиэйтед', 'объявить', 'местный', 'южный', 'детский', 'прокуратура', 'производство', 'дата', 'число', 'составить', 'землетрясение', 'утром', 'рейтер', 'движение', 'шахта', 'крупный', 'получить', 'также', 'телеканал', 'выбор', 'безопасность', 'внутренний', 'государство', 'открыть', 'погибнуть', 'милиция', 'предприятие', 'рабочий', 'германия', 'дать', 'произойти', 'открытие', 'сми', 'регион', 'провести', 'пострадать', 'источник', 'польша', 'ссылка', 'журналист', 'команда', 'специалист', 'автомобиль', 'выиграть', 'скончаться', 'выставка', 'николай', 'военный', 'первое', 'пострадавший', 'результат', 'евро', 'передавать', 'гувд', 'часть', 'начаться', 'испания', 'экономический', 'опубликовать', 'участие', 'принять', 'федеральный', 'газета', 'погибший']\n",
            "36 ['рост', 'мчс', 'правоохранительный', 'погибнуть', 'скончаться', 'развитие', 'дтп', 'безопасность', 'экономика', 'дорога', 'корреспондент', 'пострадавший', 'пострадать', 'самый', 'общественный', 'причина', 'школа', 'поезд', 'считать', 'впервые', 'авария', 'период', 'военный', 'последний', 'ядерный', 'участник', 'хороший', 'следовать', 'вырастить', 'игорь', 'событие', 'сборный', 'больница', 'городской', 'финансовый', 'юг', 'край', 'предлагать', 'возможность', 'работа', 'сборная', 'взрыв', 'проведение', 'снизиться', 'сотрудничество', 'создать', 'призвать', 'информация', 'внутренний', 'борьба', 'образование', 'война', 'теракт', 'дагестан', 'федерация', 'русский', 'движение', 'мир', 'телефон', 'тренер', 'продажа', 'олимпийский', 'также', 'пройти', 'мвд', 'аэропорт', 'европа', 'следственный', 'прибыть', 'министерство', 'дать', 'оон', 'государственный', 'сообщение', 'мера', 'пресс', 'детский', 'проводить', 'жертва', 'ветеран', 'центральный', 'машина', 'копейка', 'сила', 'автомобиль', 'состав', 'проходить', 'итог', 'генеральный', 'состояться', 'подготовка', 'система', 'выбор', 'посетить', 'тур', 'заявление', 'обвинять', 'союз', 'культура', 'отношение']\n",
            "37 ['программа', 'житель', 'иностранный', 'виктор', 'изменение', 'выставка', 'копейка', 'игорь', 'считать', 'заявление', 'нарушение', 'мид', 'решение', 'убийство', 'рассказать', 'журналист', 'региональный', 'предлагать', 'мера', 'круг', 'департамент', 'ближний', 'мировой', 'тур', 'новый', 'выбор', 'неизвестный', 'министерство', 'посвятить', 'оао', 'ветеран', 'уголовный', 'машина', 'ядерный', 'являться', 'мочь', 'намерить', 'передавать', 'планировать', 'высокий', 'иран', 'соглашение', 'возбудить', 'готовый', 'цска', 'регион', 'отношение', 'пожар', 'состав', 'война', 'лига', 'курс', 'банка', 'бывший', 'создать', 'польша', 'также', 'уровень', 'дмитрий', 'сообщение', 'великий', 'евро', 'сергей', 'правоохранительный', 'путин', 'дтп', 'призвать', 'самый', 'авария', 'миллиард', 'задержать', 'матч', 'проект', 'столица', 'союз', 'детский', 'иск', 'конец', 'впервые', 'находиться', 'американский', 'областной', 'цена', 'газета', 'сайт', 'европейский', 'автомобиль', 'совет', 'михаил', 'евгений', 'составить', 'направить', 'взрыв', 'театр', 'ход', 'опубликовать', 'госдума', 'интервью', 'культура', 'январь']\n",
            "38 ['направить', 'доллар', 'срок', 'назначить', 'район', 'бывший', 'остаться', 'посетить', 'иск', 'начаться', 'прибыть', 'николай', 'рассмотреть', 'виктор', 'выиграть', 'произойти', 'проходить', 'открыть', 'обнаружить', 'писать', 'назвать', 'передавать', 'житель', 'открыться', 'лига', 'встреча', 'полиция', 'связь', 'выступать', 'янукович', 'найти', 'возбудить', 'сми', 'провинция', 'пройти', 'дом', 'выйти', 'владимир', 'рабочий', 'состояться', 'создать', 'остров', 'открытый', 'принять', 'проводить', 'площадь', 'группа', 'задержать', 'результат', 'ход', 'пресс', 'погибший', 'кубок', 'факт', 'сообщаться', 'провести', 'совет', 'предлагать', 'александр', 'здание', 'отношение', 'сообщение', 'партия', 'около', 'алексей', 'ссылка', 'воскресение', 'рассказать', 'число', 'намерить', 'дмитрий', 'газета', 'говориться', 'время', 'завершить', 'считать', 'спорт', 'регион', 'обсудить', 'планировать', 'новое', 'сергей', 'следовать', 'погибнуть', 'территория', 'работать', 'убийство', 'находиться', 'пожар', 'безопасность', 'теннисный', 'евро', 'создание', 'южный', 'телеканал', 'внутренний', 'государственный', 'дорога', 'дать', 'итог']\n",
            "39 ['мвд', 'участие', 'банка', 'округа', 'место', 'ассошиэйтед', 'выбор', 'игра', 'визит', 'матч', 'площадь', 'война', 'февраль', 'считать', 'вечером', 'суббота', 'правоохранительный', 'круг', 'главный', 'начальник', 'судебный', 'дтп', 'партия', 'серия', 'руководитель', 'сборный', 'продажа', 'сборная', 'подмосковье', 'ссылка', 'телефон', 'гаити', 'утром', 'фонд', 'отношение', 'александр', 'июнь', 'гувд', 'край', 'директор', 'чемпион', 'политика', 'финал', 'воскресение', 'доллар', 'встреча', 'тур', 'спортивный', 'убийство', 'связь', 'дорога', 'призвать', 'телеканал', 'лидер', 'дом', 'цска', 'обвинять', 'театр', 'факт', 'лига', 'парламент', 'столичный', 'движение', 'служба', 'образование', 'футбол', 'высокий', 'россиянин', 'кубок', 'борьба', 'апрель', 'чемпионат', 'милиция', 'несколько', 'безопасность', 'киргизия', 'рост', 'региональный', 'комитет', 'программа', 'ванкувер', 'андрей', 'великий', 'март', 'поддержка', 'январь', 'мэр', 'дата', 'регион', 'информация', 'заместитель', 'пост', 'официальный', 'землетрясение', 'милиционер', 'рассказать', 'переговоры', 'команда', 'столица', 'председатель']\n",
            "40 ['семья', 'теракт', 'ядерный', 'шахта', 'пострадавший', 'решение', 'юг', 'имя', 'школа', 'взрыв', 'служба', 'продажа', 'индекс', 'несколько', 'рынок', 'форум', 'средство', 'ближний', 'также', 'петербург', 'создать', 'признать', 'округа', 'общественный', 'ситуация', 'открытый', 'помощь', 'нефть', 'провинция', 'защита', 'состав', 'комплекс', 'автомобиль', 'режим', 'считать', 'интервью', 'предлагать', 'круг', 'крупный', 'землетрясение', 'движение', 'край', 'финансовый', 'являться', 'часть', 'телефон', 'группа', 'станция', 'следственный', 'проводить', 'это', 'место', 'администрация', 'сми', 'тур', 'убийство', 'семь', 'создание', 'миллиард', 'появиться', 'евгений', 'биржа', 'мероприятие', 'игорь', 'правоохранительный', 'встреча', 'открытие', 'ряд', 'история', 'здание', 'число', 'событие', 'китай', 'произойти', 'погибший', 'ванкувер', 'назначить', 'информация', 'срок', 'суббота', 'милиция', 'михаил', 'посетить', 'проведение', 'клуб', 'случай', 'отношение', 'сообщение', 'обвинять', 'внутренний', 'следовать', 'закон', 'владимир', 'афганистан', 'мид', 'фонд', 'региональный', 'заместитель', 'пока', 'район']\n",
            "41 ['фон', 'теракт', 'провинция', 'убийство', 'назначить', 'объявить', 'правоохранительный', 'неизвестный', 'копейка', 'отношение', 'завершить', 'взрыв', 'закон', 'проводить', 'погибнуть', 'находиться', 'являться', 'факт', 'курс', 'полиция', 'возможность', 'ссылка', 'республика', 'служба', 'отдел', 'сергей', 'афганистан', 'пост', 'семья', 'пострадать', 'утром', 'событие', 'провести', 'местный', 'шахта', 'мвд', 'администрация', 'министерство', 'миллиард', 'задержать', 'индекс', 'андрей', 'мера', 'несколько', 'детский', 'ведомство', 'гувд', 'иск', 'подписать', 'больница', 'судебный', 'мочь', 'считать', 'регион', 'дмитрий', 'изменение', 'причина', 'право', 'вопрос', 'назвать', 'государство', 'пострадавший', 'прокуратура', 'ситуация', 'произойти', 'сборная', 'проведение', 'торг', 'округа', 'руководство', 'дата', 'сми', 'специалист', 'организация', 'бывший', 'алексей', 'обнаружить', 'выйти', 'виктор', 'областной', 'комитет', 'орган', 'биржа', 'уголовный', 'северный', 'остров', 'образование', 'милиция', 'политика', 'работать', 'метро', 'дорога', 'направить', 'военный', 'журналист', 'предприятие', 'сотрудник', 'число', 'найти', 'состояться']\n",
            "42 ['неделя', 'мид', 'подмосковье', 'говориться', 'милиция', 'доллар', 'площадь', 'мочь', 'иностранный', 'госдума', 'число', 'милиционер', 'продажа', 'польша', 'призвать', 'региональный', 'сообщаться', 'казахстан', 'партия', 'федерация', 'экономический', 'проблема', 'вопрос', 'владимир', 'петербург', 'германия', 'иран', 'дмитрий', 'землетрясение', 'внутренний', 'правоохранительный', 'найти', 'государственный', 'губернатор', 'район', 'грузия', 'визит', 'белоруссия', 'местный', 'дагестан', 'составить', 'газа', 'связь', 'утром', 'свидетельствовать', 'мировой', 'путин', 'составлять', 'ночь', 'цена', 'китай', 'следственный', 'вечером', 'рынок', 'новое', 'уровень', 'европейский', 'регион', 'индекс', 'получить', 'фон', 'остров', 'рассказать', 'киргизия', 'переговоры', 'поезд', 'опубликовать', 'янукович', 'мчс', 'турция', 'февраль', 'великий', 'развитие', 'обсудить', 'готовый', 'евгений', 'планировать', 'культура', 'олимпийский', 'представить', 'главный', 'гаити', 'сотрудничество', 'американский', 'евро', 'смочь', 'возможность', 'областной', 'журналист', 'французский', 'территория', 'сергей', 'воскресение', 'мвд', 'производство', 'футбольный', 'суббота', 'дорога', 'израиль', 'судебный']\n",
            "43 ['фестиваль', 'событие', 'посетить', 'юрий', 'убийство', 'специалист', 'иск', 'акция', 'форум', 'копейка', 'теракт', 'пройти', 'тренер', 'участие', 'появиться', 'федерация', 'история', 'взрыв', 'янукович', 'банка', 'мчс', 'выставка', 'авария', 'выступать', 'владимир', 'имя', 'открытый', 'поддержка', 'станция', 'военный', 'сергей', 'состояться', 'вод', 'финансовый', 'круг', 'чемпион', 'прибыть', 'открыть', 'признать', 'мэр', 'союз', 'дмитрий', 'являться', 'шахта', 'дтп', 'интервью', 'представить', 'фонд', 'игорь', 'суббота', 'александр', 'парламент', 'предлагать', 'найти', 'кубок', 'воскресение', 'николай', 'ветеран', 'гувд', 'тур', 'это', 'передавать', 'экономика', 'открытие', 'пожар', 'часть', 'самый', 'остаться', 'проект', 'заместитель', 'регион', 'скп', 'проходить', 'ванкувер', 'зал', 'директор', 'рамка', 'весь', 'выйти', 'детский', 'вырастить', 'юг', 'департамент', 'театр', 'изменение', 'договор', 'турнир', 'клуб', 'провинция', 'защита', 'цена', 'случай', 'пострадать', 'губернатор', 'отдел', 'оао', 'телеканал', 'землетрясение', 'пост', 'открыться']\n",
            "44 ['открыть', 'группа', 'назначить', 'кубок', 'погибший', 'сборная', 'янукович', 'право', 'грузия', 'принять', 'создать', 'жертва', 'рейтер', 'британский', 'посетить', 'бывший', 'появиться', 'безопасность', 'гувд', 'театр', 'март', 'пострадать', 'помочь', 'организация', 'дать', 'французский', 'израиль', 'самый', 'дата', 'совет', 'скончаться', 'сообщаться', 'полиция', 'итог', 'партия', 'внутренний', 'политика', 'представить', 'работать', 'чемпион', 'срок', 'украинский', 'крупный', 'состояться', 'борьба', 'южный', 'здание', 'комиссия', 'выиграть', 'территория', 'ветеран', 'судебный', 'чемпионат', 'сергей', 'опубликовать', 'строительство', 'площадь', 'миллиард', 'возбудить', 'провести', 'мэр', 'россиянин', 'назвать', 'результат', 'администрация', 'иностранный', 'подготовка', 'франция', 'открыться', 'получить', 'проходить', 'фонд', 'являться', 'история', 'открытие', 'ссылка', 'задержать', 'май', 'теракт', 'евгений', 'выйти', 'имя', 'известный', 'рассмотреть', 'погибнуть', 'польша', 'ассошиэйтед', 'поддержка', 'губернатор', 'северный', 'генеральный', 'ближний', 'курс', 'август', 'месяц', 'признать', 'дагестан', 'жизнь', 'дтп', 'ход']\n",
            "45 ['теракт', 'ситуация', 'дать', 'событие', 'история', 'александр', 'землетрясение', 'корреспондент', 'игра', 'хороший', 'обсудить', 'акция', 'сергей', 'государство', 'кубок', 'являться', 'выставка', 'проводить', 'пожар', 'совет', 'израиль', 'французский', 'итог', 'взрыв', 'комиссия', 'посетить', 'дмитрий', 'рабочий', 'комитет', 'борьба', 'неделя', 'мир', 'имя', 'виктор', 'самый', 'алексей', 'доллар', 'писать', 'продажа', 'проведение', 'проект', 'появиться', 'подписать', 'футбол', 'сообщаться', 'это', 'источник', 'помощь', 'форум', 'дата', 'последний', 'ванкувер', 'считать', 'принять', 'спорт', 'провести', 'олимпийский', 'территория', 'составить', 'представить', 'политика', 'семь', 'выбор', 'победа', 'война', 'единый', 'объявить', 'цена', 'переговоры', 'финансовый', 'зал', 'франс', 'группа', 'путин', 'дом', 'создать', 'проблема', 'жизнь', 'период', 'остров', 'авария', 'развитие', 'турция', 'заявление', 'иск', 'индекс', 'сотрудник', 'спортивный', 'визит', 'рассказать', 'культура', 'свидетельствовать', 'вырастить', 'планировать', 'детский', 'лига', 'работать', 'намерить', 'состояться', 'возможность']\n",
            "46 ['ассошиэйтед', 'вечером', 'янукович', 'федерация', 'грузия', 'иностранный', 'сборный', 'уровень', 'белоруссия', 'партия', 'журналист', 'турнир', 'украинский', 'рейтер', 'встреча', 'госдума', 'ситуация', 'союз', 'мочь', 'открытый', 'национальный', 'считать', 'финал', 'снизиться', 'франс', 'дата', 'решение', 'мир', 'лига', 'председатель', 'неизвестный', 'круг', 'израиль', 'движение', 'андрей', 'пострадать', 'правоохранительный', 'европейский', 'смочь', 'генеральный', 'сила', 'возможность', 'сборная', 'игорь', 'южный', 'владимир', 'дать', 'столичный', 'центральный', 'фон', 'польша', 'готовый', 'призвать', 'мид', 'прибыть', 'задержать', 'внутренний', 'евгений', 'игра', 'сергей', 'американский', 'тур', 'договор', 'ссылка', 'признать', 'весь', 'юг', 'пока', 'николай', 'борьба', 'цска', 'губернатор', 'март', 'победа', 'акция', 'выступать', 'переговоры', 'следственный', 'местный', 'спорт', 'китай', 'участие', 'департамент', 'министр', 'совет', 'итог', 'место', 'вопрос', 'финансовый', 'мера', 'изменение', 'информация', 'отношение', 'визит', 'впервые', 'политика', 'назвать', 'утром', 'европа', 'случай']\n",
            "47 ['визит', 'цена', 'встреча', 'дмитрий', 'проверка', 'кубок', 'политика', 'ситуация', 'новое', 'рост', 'алексей', 'виктор', 'посетить', 'олимпийский', 'война', 'андрей', 'мера', 'путин', 'иран', 'участие', 'телеканал', 'говориться', 'торг', 'госдума', 'александр', 'комиссия', 'фон', 'выбор', 'готовый', 'создание', 'ядерный', 'лига', 'развитие', 'снизиться', 'европейский', 'газета', 'греция', 'сообщаться', 'экономический', 'совет', 'переговоры', 'иск', 'заседание', 'теракт', 'серия', 'событие', 'число', 'ванкувер', 'задержать', 'пожар', 'уровень', 'площадь', 'вырастить', 'южный', 'мид', 'группа', 'экономика', 'игорь', 'безопасность', 'единый', 'юг', 'янукович', 'сергей', 'месяц', 'неделя', 'строительство', 'выставка', 'пресс', 'производство', 'сми', 'мировой', 'призвать', 'теннисный', 'команда', 'финансовый', 'американский', 'заявление', 'министр', 'форум', 'ряд', 'весь', 'составить', 'михаил', 'крупный', 'источник', 'история', 'сотрудник', 'юрий', 'это', 'поезд', 'нефть', 'передавать', 'новый', 'продажа', 'владимир', 'писать', 'пять', 'землетрясение', 'следовать', 'член']\n",
            "48 ['проверка', 'интервью', 'следственный', 'доллар', 'подозревать', 'направить', 'нарушение', 'дтп', 'россиянин', 'место', 'следовать', 'ссылка', 'прокуратура', 'нефть', 'составить', 'сообщение', 'правоохранительный', 'обвинять', 'гражданин', 'британский', 'американский', 'городской', 'ветеран', 'детский', 'работать', 'январь', 'уголовный', 'чемпион', 'заседание', 'дорога', 'сайт', 'франция', 'причина', 'месяц', 'составлять', 'писать', 'ванкувер', 'бывший', 'безопасность', 'смочь', 'евро', 'сотрудник', 'федеральный', 'милиционер', 'опубликовать', 'торг', 'находиться', 'финансовый', 'крупный', 'считать', 'оао', 'рынок', 'участник', 'мвд', 'французский', 'задержать', 'право', 'война', 'единый', 'говориться', 'неделя', 'индекс', 'работа', 'появиться', 'журналист', 'продажа', 'край', 'ведомство', 'помочь', 'большой', 'изменение', 'последний', 'команда', 'свидетельствовать', 'алексей', 'миллиард', 'член', 'сообщаться', 'погибший', 'милиция', 'чемпионат', 'русский', 'завершить', 'получить', 'андрей', 'служба', 'число', 'хороший', 'телефон', 'образование', 'европейский', 'мера', 'информация', 'гувд', 'путин', 'развитие', 'судебный', 'александр', 'отечественный', 'представить']\n",
            "49 ['генеральный', 'пост', 'игра', 'программа', 'срок', 'сайт', 'чемпионат', 'спортивный', 'движение', 'алексей', 'футбол', 'июль', 'виктор', 'департамент', 'бывший', 'единый', 'январь', 'общественный', 'матч', 'сборный', 'футбольный', 'воскресение', 'дорога', 'серия', 'март', 'тренер', 'неделя', 'пресс', 'миллиард', 'скп', 'смочь', 'выставка', 'южный', 'чемпион', 'союз', 'продажа', 'станция', 'провинция', 'сми', 'юрий', 'жизнь', 'германия', 'партия', 'июнь', 'комиссия', 'судебный', 'отдел', 'спорт', 'война', 'фонд', 'турнир', 'заседание', 'сборная', 'футболист', 'цска', 'депутат', 'комитет', 'николай', 'апрель', 'известный', 'назвать', 'школа', 'территория', 'александр', 'заявление', 'местный', 'вод', 'период', 'февраль', 'май', 'должный', 'политика', 'впервые', 'обвинять', 'тур', 'команда', 'лига', 'владимир', 'андрей', 'больница', 'русский', 'французский', 'фестиваль', 'скончаться', 'имя', 'дом', 'площадь', 'городской', 'рейтер', 'культура', 'август', 'суббота', 'ссылка', 'помочь', 'кубок', 'иск', 'торг', 'совет', 'рамка', 'победа']\n",
            "50 ['визит', 'франция', 'польша', 'уровень', 'южный', 'ядерный', 'белоруссия', 'соглашение', 'появиться', 'мид', 'победа', 'американский', 'франс', 'министерство', 'землетрясение', 'госдума', 'режим', 'оон', 'образование', 'снизиться', 'найти', 'чемпионат', 'сборный', 'обсудить', 'единый', 'банка', 'весь', 'опубликовать', 'евро', 'теннисный', 'провести', 'выступать', 'остаться', 'пройти', 'большой', 'французский', 'вырастить', 'андрей', 'тренер', 'иностранный', 'детский', 'турция', 'создать', 'борьба', 'футболист', 'израиль', 'около', 'государство', 'интервью', 'матч', 'игорь', 'грузия', 'являться', 'проводить', 'это', 'программа', 'кубок', 'украинский', 'завершить', 'школа', 'журналист', 'путин', 'северный', 'рынок', 'официальный', 'станция', 'фонд', 'совет', 'конец', 'защита', 'экономика', 'министр', 'назначить', 'принять', 'общественный', 'встреча', 'николай', 'хороший', 'посетить', 'участие', 'британский', 'проверка', 'русский', 'бывший', 'погибший', 'открыть', 'представить', 'мвд', 'скончаться', 'гаити', 'европейский', 'иран', 'составить', 'сообщаться', 'договор', 'начаться', 'мероприятие', 'дмитрий', 'выиграть', 'начать']\n",
            "51 ['теннисный', 'считать', 'суббота', 'обвинять', 'воскресение', 'мера', 'закон', 'семь', 'турнир', 'борьба', 'больница', 'американский', 'рабочий', 'ряд', 'впервые', 'срок', 'несколько', 'место', 'предлагать', 'отношение', 'планировать', 'французский', 'подозревать', 'британский', 'рассказать', 'цена', 'имя', 'дата', 'режим', 'киргизия', 'территория', 'помочь', 'полиция', 'высокий', 'провинция', 'рост', 'решение', 'самый', 'уголовный', 'отечественный', 'также', 'ближний', 'оон', 'намерить', 'большой', 'помощь', 'состав', 'система', 'судебный', 'конец', 'весь', 'выступать', 'получить', 'сообщение', 'руководство', 'передавать', 'пресс', 'заявление', 'смочь', 'фонд', 'комиссия', 'милиция', 'военный', 'движение', 'вод', 'ссылка', 'начать', 'являться', 'круг', 'поддержка', 'русский', 'транспорт', 'ветеран', 'метро', 'около', 'официальный', 'назначить', 'участник', 'соглашение', 'местный', 'готовый', 'интервью', 'проект', 'проводить', 'серия', 'возможность', 'турция', 'предприятие', 'связь', 'совет', 'сила', 'пост', 'гаити', 'информация', 'неделя', 'южный', 'областной', 'газа', 'столица', 'единый']\n",
            "52 ['находиться', 'европейский', 'оон', 'режим', 'борьба', 'вод', 'форум', 'суббота', 'европа', 'воскресение', 'обвинять', 'месяц', 'переговоры', 'являться', 'готовый', 'это', 'сотрудничество', 'ассошиэйтед', 'провинция', 'составить', 'посвятить', 'мир', 'фестиваль', 'вырастить', 'пострадать', 'время', 'южный', 'рынок', 'правоохранительный', 'губернатор', 'шесть', 'мировой', 'министр', 'проверка', 'рост', 'появиться', 'снизиться', 'договор', 'северный', 'обнаружить', 'неизвестный', 'франс', 'остаться', 'факт', 'китай', 'визит', 'задержать', 'развитие', 'франция', 'район', 'иран', 'белоруссия', 'возбудить', 'крупный', 'директор', 'соглашение', 'политика', 'экономический', 'станция', 'экономика', 'тур', 'производство', 'апрель', 'работать', 'объявить', 'уровень', 'иностранный', 'курс', 'создание', 'финансовый', 'неделя', 'следственный', 'дать', 'подготовка', 'мэр', 'гаити', 'цена', 'индекс', 'центральный', 'подозревать', 'считать', 'подписать', 'метро', 'число', 'рейтер', 'биржа', 'афганистан', 'копейка', 'планировать', 'путин', 'группа', 'намерить', 'рамка', 'информация', 'серия', 'акция', 'ветеран', 'составлять', 'участник', 'британский']\n",
            "53 ['переговоры', 'миллиард', 'политика', 'сотрудничество', 'финансовый', 'министр', 'федерация', 'право', 'строительство', 'журналист', 'директор', 'вопрос', 'футбольный', 'закон', 'развитие', 'ситуация', 'госдума', 'заседание', 'официальный', 'совет', 'интервью', 'образование', 'мид', 'председатель', 'комиссия', 'поддержка', 'фонд', 'южный', 'рабочий', 'проект', 'государственный', 'мэр', 'пострадавший', 'программа', 'встреча', 'иностранный', 'газа', 'военный', 'соглашение', 'нефть', 'ближний', 'мера', 'назначить', 'экономический', 'ведомство', 'олимпийский', 'иск', 'договор', 'тренер', 'возможность', 'гаити', 'защита', 'газета', 'землетрясение', 'губернатор', 'сборная', 'организация', 'руководитель', 'круг', 'безопасность', 'итог', 'готовый', 'средство', 'футболист', 'работа', 'помощь', 'руководство', 'сборный', 'путин', 'решение', 'проблема', 'команда', 'парламент', 'отношение', 'республика', 'турнир', 'пока', 'заявление', 'алексей', 'иран', 'государство', 'представить', 'германия', 'турция', 'администрация', 'система', 'состав', 'создание', 'ход', 'лидер', 'пост', 'теннисный', 'судебный', 'казахстан', 'пресс', 'начальник', 'вод', 'изменение', 'теракт', 'признать']\n",
            "54 ['проект', 'признать', 'возможность', 'говориться', 'принять', 'время', 'британский', 'находиться', 'создание', 'открытие', 'считать', 'самый', 'программа', 'судебный', 'найти', 'создать', 'проходить', 'сила', 'теннисный', 'итог', 'строительство', 'сообщаться', 'следовать', 'русский', 'петербург', 'председатель', 'первое', 'юрий', 'число', 'период', 'руководство', 'помочь', 'пресс', 'дтп', 'казахстан', 'остаться', 'генеральный', 'край', 'также', 'проводить', 'получить', 'путин', 'предлагать', 'остров', 'намерить', 'игра', 'дом', 'обнаружить', 'группа', 'назвать', 'проверка', 'неделя', 'дать', 'авария', 'февраль', 'несколько', 'представить', 'это', 'французский', 'прибыть', 'призвать', 'виктор', 'провести', 'суббота', 'случай', 'выступать', 'главный', 'дорога', 'смочь', 'олимпийский', 'акция', 'объявить', 'направить', 'должный', 'июль', 'закон', 'продажа', 'жертва', 'отечественный', 'комплекс', 'грузия', 'планировать', 'рейтер', 'сотрудничество', 'газета', 'воскресение', 'впервые', 'история', 'март', 'сочи', 'сайт', 'январь', 'борьба', 'александр', 'уголовный', 'сборный', 'рассмотреть', 'весь', 'сборная', 'работать']\n",
            "55 ['выйти', 'путин', 'автомобиль', 'месяц', 'снизиться', 'получить', 'пострадать', 'вырастить', 'посетить', 'проводить', 'создание', 'цена', 'начать', 'число', 'создать', 'школа', 'оао', 'сборная', 'результат', 'мир', 'продажа', 'имя', 'принять', 'миллиард', 'тренер', 'открыть', 'выиграть', 'считать', 'торг', 'остаться', 'сообщение', 'строительство', 'следовать', 'пресс', 'около', 'режим', 'встреча', 'самый', 'ряд', 'рассмотреть', 'образование', 'представить', 'это', 'задержать', 'уголовный', 'спорт', 'ход', 'фон', 'единый', 'большой', 'мвд', 'машина', 'край', 'последний', 'житель', 'составить', 'петербург', 'южный', 'отечественный', 'вод', 'театр', 'ситуация', 'неделя', 'федеральный', 'весь', 'нефть', 'янукович', 'итог', 'ядерный', 'провести', 'сборный', 'появиться', 'участник', 'начаться', 'экономика', 'август', 'скп', 'произойти', 'финансовый', 'транспорт', 'центральный', 'фестиваль', 'теннисный', 'назвать', 'информация', 'северный', 'евгений', 'жизнь', 'сочи', 'авария', 'убийство', 'дтп', 'поезд', 'европа', 'пройти', 'лига', 'направить', 'министр', 'футболист', 'открытие']\n",
            "56 ['скончаться', 'рейтер', 'футбольный', 'обнаружить', 'национальный', 'губернатор', 'мэр', 'провинция', 'ближний', 'число', 'мера', 'федеральный', 'местный', 'участие', 'обсудить', 'европа', 'сборный', 'гувд', 'игра', 'фестиваль', 'самый', 'утром', 'детский', 'член', 'футбол', 'пресс', 'проходить', 'хороший', 'семья', 'победа', 'россиянин', 'часть', 'завершить', 'пожар', 'отдел', 'гаити', 'июль', 'итог', 'защита', 'николай', 'журналист', 'федерация', 'футболист', 'германия', 'грузия', 'проводить', 'предлагать', 'выступать', 'отечественный', 'продажа', 'назначить', 'департамент', 'конец', 'дтп', 'следственный', 'район', 'дом', 'финансовый', 'пройти', 'право', 'проведение', 'ведомство', 'период', 'чемпион', 'также', 'соглашение', 'борьба', 'июнь', 'столичный', 'мир', 'государственный', 'провести', 'администрация', 'французский', 'тренер', 'сборная', 'председатель', 'регион', 'республика', 'заявление', 'сайт', 'открытый', 'гражданин', 'афганистан', 'сочи', 'апрель', 'группа', 'евгений', 'подмосковье', 'найти', 'находиться', 'теракт', 'региональный', 'назвать', 'областной', 'белоруссия', 'выставка', 'служба', 'договор', 'против']\n",
            "57 ['руководитель', 'начальник', 'грузия', 'круг', 'сборная', 'помощь', 'матч', 'юг', 'дтп', 'киргизия', 'лидер', 'сила', 'чемпионат', 'землетрясение', 'андрей', 'чемпион', 'директор', 'председатель', 'игорь', 'четыре', 'мид', 'франция', 'теннисный', 'турнир', 'сборный', 'дмитрий', 'выбор', 'казахстан', 'госдума', 'сотрудничество', 'поддержка', 'турция', 'пока', 'ванкувер', 'ряд', 'ночь', 'сергей', 'гаити', 'иностранный', 'безопасность', 'последний', 'янукович', 'пресс', 'часть', 'форум', 'полиция', 'николай', 'неизвестный', 'история', 'греция', 'китай', 'жертва', 'сообщаться', 'образование', 'футболист', 'провинция', 'мера', 'южный', 'против', 'евгений', 'финал', 'вечером', 'борьба', 'национальный', 'информация', 'визит', 'право', 'банка', 'ссылка', 'несколько', 'израиль', 'русский', 'событие', 'копейка', 'возможность', 'финансовый', 'правоохранительный', 'помочь', 'семь', 'транспорт', 'команда', 'специалист', 'федерация', 'ядерный', 'война', 'футбол', 'государственный', 'европа', 'журналист', 'утром', 'путин', 'цска', 'защита', 'ветеран', 'мир', 'взрыв', 'победа', 'партия', 'авария', 'скп']\n",
            "58 ['детский', 'пресс', 'копейка', 'тренер', 'заявление', 'соглашение', 'футбол', 'помочь', 'участие', 'помощь', 'столичный', 'путин', 'скп', 'мера', 'теннисный', 'футбольный', 'цска', 'скончаться', 'поддержка', 'хороший', 'призвать', 'защита', 'сила', 'погибший', 'гаити', 'площадь', 'матч', 'оон', 'депутат', 'проведение', 'министр', 'против', 'теракт', 'главный', 'тур', 'комиссия', 'ночь', 'землетрясение', 'закон', 'союз', 'борьба', 'олимпийский', 'чемпион', 'курс', 'предлагать', 'период', 'иран', 'орган', 'национальный', 'турция', 'должный', 'спорт', 'директор', 'случай', 'событие', 'официальный', 'школа', 'остров', 'председатель', 'государство', 'открыть', 'комитет', 'виктор', 'кубок', 'взрыв', 'движение', 'свидетельствовать', 'губернатор', 'мэр', 'вечером', 'известный', 'система', 'сообщение', 'лидер', 'история', 'право', 'открытие', 'рейтер', 'политика', 'состояться', 'выступать', 'лига', 'договор', 'визит', 'пока', 'писать', 'состав', 'служба', 'провинция', 'чемпионат', 'сборный', 'решение', 'снизиться', 'пройти', 'смочь', 'начать', 'военный', 'британский', 'место', 'янукович']\n",
            "59 ['спорт', 'переговоры', 'сайт', 'тренер', 'проблема', 'путин', 'футболист', 'министр', 'период', 'связь', 'нефть', 'вод', 'лига', 'сообщение', 'россиянин', 'причина', 'вопрос', 'против', 'изменение', 'режим', 'составить', 'директор', 'европа', 'остаться', 'призвать', 'иностранный', 'ядерный', 'подготовка', 'транспорт', 'фон', 'направить', 'чемпионат', 'футбол', 'конец', 'борьба', 'биржа', 'ванкувер', 'заявление', 'оао', 'экономический', 'михаил', 'итог', 'торг', 'польша', 'национальный', 'клуб', 'заседание', 'американский', 'снизиться', 'украинский', 'региональный', 'сочи', 'мировой', 'округа', 'грузия', 'совет', 'государственный', 'опубликовать', 'член', 'это', 'генеральный', 'внутренний', 'евро', 'цена', 'турция', 'пост', 'европейский', 'самый', 'встреча', 'председатель', 'сила', 'рабочий', 'поезд', 'сборный', 'мир', 'площадь', 'жертва', 'команда', 'впервые', 'выбор', 'белоруссия', 'футбольный', 'банка', 'месяц', 'выставка', 'кубок', 'германия', 'партия', 'алексей', 'иран', 'франция', 'событие', 'мид', 'владимир', 'выступать', 'утром', 'высокий', 'общественный', 'гаити', 'сергей']\n",
            "60 ['визит', 'заместитель', 'неизвестный', 'русский', 'заявление', 'лига', 'пока', 'местный', 'скп', 'орган', 'изменение', 'встреча', 'сотрудничество', 'дмитрий', 'подозревать', 'срок', 'ветеран', 'интервью', 'федеральный', 'край', 'ванкувер', 'сила', 'милиционер', 'переговоры', 'машина', 'тур', 'найти', 'республика', 'программа', 'спорт', 'случай', 'председатель', 'областной', 'должный', 'центральный', 'иск', 'олимпийский', 'мочь', 'дать', 'казахстан', 'ночь', 'германия', 'источник', 'общественный', 'утром', 'готовый', 'партия', 'семья', 'министерство', 'парламент', 'соглашение', 'франция', 'путин', 'тренер', 'авария', 'сотрудник', 'киргизия', 'житель', 'пост', 'передавать', 'выбор', 'дорога', 'автомобиль', 'совет', 'генеральный', 'режим', 'район', 'проверка', 'гражданин', 'состав', 'договор', 'право', 'министр', 'губернатор', 'иностранный', 'россиянин', 'член', 'пострадавший', 'пройти', 'развитие', 'новый', 'франс', 'турция', 'матч', 'государственный', 'возбудить', 'греция', 'великий', 'школа', 'культура', 'пожар', 'больница', 'копейка', 'грузия', 'создание', 'обвинять', 'курс', 'помочь', 'предлагать', 'находиться']\n",
            "61 ['китай', 'рассказать', 'проверка', 'скп', 'официальный', 'фонд', 'евгений', 'фестиваль', 'игорь', 'право', 'фон', 'владимир', 'открытие', 'михаил', 'открыться', 'курс', 'остров', 'комитет', 'чемпион', 'следовать', 'обнаружить', 'место', 'торг', 'победа', 'ночь', 'образование', 'свидетельствовать', 'мчс', 'сборная', 'результат', 'говориться', 'округа', 'сочи', 'ванкувер', 'греция', 'неизвестный', 'руководитель', 'акция', 'вечером', 'круг', 'самый', 'сообщаться', 'сергей', 'специалист', 'произойти', 'тур', 'переговоры', 'копейка', 'франс', 'театр', 'цена', 'строительство', 'школа', 'мировой', 'ведомство', 'администрация', 'индекс', 'развитие', 'корреспондент', 'главный', 'найти', 'закон', 'больница', 'газета', 'украинский', 'сми', 'директор', 'это', 'единый', 'телеканал', 'причина', 'спорт', 'открыть', 'петербург', 'помощь', 'опубликовать', 'появиться', 'утром', 'решение', 'чемпионат', 'борьба', 'землетрясение', 'служба', 'николай', 'совет', 'метро', 'регион', 'пострадать', 'погибнуть', 'вод', 'мероприятие', 'юрий', 'рост', 'мочь', 'поддержка', 'подписать', 'работать', 'весь', 'биржа', 'провинция']\n",
            "62 ['пожар', 'взрыв', 'скп', 'ссылка', 'следовать', 'остаться', 'обнаружить', 'режим', 'мчс', 'подозревать', 'передавать', 'произойти', 'говориться', 'уголовный', 'убийство', 'писать', 'копейка', 'неизвестный', 'производство', 'теракт', 'безопасность', 'метро', 'ассошиэйтед', 'продажа', 'район', 'выступать', 'житель', 'футбольный', 'дом', 'свидетельствовать', 'иск', 'журналист', 'пострадавший', 'задержать', 'около', 'поезд', 'цена', 'здание', 'начаться', 'спортивный', 'ближний', 'шахта', 'оао', 'матч', 'выйти', 'орган', 'проводить', 'найти', 'имя', 'планировать', 'аэропорт', 'несколько', 'бывший', 'борьба', 'авария', 'милиция', 'проблема', 'обвинять', 'мвд', 'мид', 'военный', 'северный', 'переговоры', 'сила', 'проведение', 'вод', 'федеральный', 'судебный', 'цска', 'семь', 'центральный', 'закон', 'газета', 'ряд', 'рынок', 'защита', 'изменение', 'неделя', 'получить', 'признать', 'станция', 'являться', 'должный', 'суббота', 'договор', 'весь', 'отношение', 'столичный', 'направить', 'воскресение', 'правоохранительный', 'соглашение', 'край', 'возбудить', 'нарушение', 'телеканал', 'факт', 'назвать', 'крупный', 'погибнуть']\n",
            "63 ['ссылка', 'круг', 'обсудить', 'возбудить', 'торг', 'обвинять', 'обнаружить', 'администрация', 'скп', 'оон', 'мировой', 'мир', 'также', 'греция', 'встреча', 'ведомство', 'департамент', 'доллар', 'франс', 'месяц', 'министерство', 'теннисный', 'фон', 'мера', 'полиция', 'рассказать', 'средство', 'дагестан', 'борьба', 'найти', 'ассошиэйтед', 'вырастить', 'остров', 'комплекс', 'предприятие', 'неделя', 'орган', 'испания', 'газа', 'вопрос', 'место', 'парламент', 'израиль', 'евро', 'подписать', 'назначить', 'подозревать', 'отдел', 'алексей', 'китай', 'задержать', 'соглашение', 'составлять', 'проверка', 'решение', 'фонд', 'переговоры', 'гувд', 'южный', 'край', 'пострадавший', 'биржа', 'государственный', 'газета', 'система', 'серия', 'виктор', 'заседание', 'округа', 'объявить', 'направить', 'комиссия', 'рост', 'провинция', 'аэропорт', 'рейтер', 'иран', 'высокий', 'северный', 'история', 'закон', 'режим', 'против', 'миллиард', 'выиграть', 'передавать', 'британский', 'афганистан', 'начаться', 'уголовный', 'мид', 'бывший', 'рассмотреть', 'заявление', 'министр', 'украинский', 'областной', 'финал', 'мвд', 'федеральный']\n",
            "64 ['высокий', 'мероприятие', 'ядерный', 'цена', 'нефть', 'культура', 'матч', 'цска', 'планировать', 'первое', 'начальник', 'иран', 'мера', 'миллиард', 'оао', 'франс', 'право', 'решение', 'директор', 'снизиться', 'внутренний', 'впервые', 'край', 'хороший', 'выставка', 'составить', 'газа', 'экономика', 'вырастить', 'евро', 'экономический', 'гаити', 'государственный', 'сборная', 'готовый', 'говориться', 'январь', 'банка', 'время', 'финансовый', 'война', 'россиянин', 'следовать', 'лига', 'оон', 'житель', 'лидер', 'около', 'это', 'автомобиль', 'машина', 'известный', 'возможность', 'семь', 'большой', 'подмосковье', 'сборный', 'шахта', 'начать', 'пять', 'французский', 'закон', 'министр', 'биржа', 'производство', 'региональный', 'срок', 'рост', 'федеральный', 'продажа', 'воскресение', 'развитие', 'торг', 'четыре', 'крупный', 'должный', 'ассошиэйтед', 'спортивный', 'сообщаться', 'футбол', 'доллар', 'передавать', 'площадь', 'министерство', 'столичный', 'пока', 'май', 'пресс', 'газета', 'свидетельствовать', 'итог', 'руководитель', 'северный', 'смочь', 'источник', 'иностранный', 'рынок', 'израиль', 'сила', 'транспорт']\n",
            "65 ['областной', 'дорога', 'спорт', 'футболист', 'футбол', 'гражданин', 'министр', 'северный', 'сборный', 'ассошиэйтед', 'дагестан', 'франс', 'следственный', 'культура', 'министерство', 'тренер', 'генеральный', 'футбольный', 'семья', 'связь', 'федерация', 'региональный', 'война', 'городской', 'госдума', 'парламент', 'янукович', 'федеральный', 'губернатор', 'мера', 'срок', 'клуб', 'дата', 'назначить', 'обвинять', 'ведомство', 'пост', 'чемпионат', 'турция', 'цска', 'первое', 'киргизия', 'судебный', 'причина', 'детский', 'южный', 'общественный', 'администрация', 'официальный', 'помочь', 'дмитрий', 'торг', 'состав', 'театр', 'республика', 'выставка', 'время', 'уголовный', 'край', 'единый', 'курс', 'возможность', 'депутат', 'призвать', 'сборная', 'иностранный', 'игра', 'политика', 'александр', 'национальный', 'команда', 'рабочий', 'безопасность', 'казахстан', 'франция', 'регион', 'право', 'вечером', 'большой', 'комиссия', 'мвд', 'проходить', 'факт', 'житель', 'внутренний', 'известный', 'правоохранительный', 'новое', 'столичный', 'создание', 'путин', 'биржа', 'выступать', 'андрей', 'корреспондент', 'россиянин', 'фон', 'провести', 'матч', 'намерить']\n",
            "66 ['открыться', 'комплекс', 'пока', 'владимир', 'театр', 'департамент', 'мчс', 'источник', 'пожар', 'интервью', 'иностранный', 'ведомство', 'специалист', 'посвятить', 'орган', 'региональный', 'это', 'рабочий', 'администрация', 'найти', 'госдума', 'заместитель', 'отдел', 'русский', 'программа', 'форум', 'прибыть', 'детский', 'фонд', 'директор', 'семья', 'экономический', 'организация', 'великий', 'корреспондент', 'подписать', 'помощь', 'северный', 'комиссия', 'школа', 'газа', 'мэр', 'оон', 'тур', 'уровень', 'метро', 'выставка', 'погибнуть', 'прокуратура', 'губернатор', 'поддержка', 'крупный', 'объявить', 'случай', 'пройти', 'подготовка', 'скп', 'дата', 'гаити', 'фестиваль', 'алексей', 'мид', 'итог', 'союз', 'вырастить', 'проходить', 'рассказать', 'серия', 'период', 'состояться', 'снизиться', 'республика', 'виктор', 'производство', 'сотрудничество', 'внутренний', 'открытый', 'спортивный', 'машина', 'министерство', 'руководитель', 'жизнь', 'число', 'обнаружить', 'регион', 'иран', 'развитие', 'возбудить', 'евгений', 'вечером', 'национальный', 'проблема', 'время', 'визит', 'принять', 'информация', 'остров', 'юг', 'проводить', 'также']\n",
            "67 ['победа', 'корреспондент', 'округа', 'гувд', 'сотрудничество', 'мир', 'тренер', 'вод', 'жизнь', 'убийство', 'последний', 'самый', 'политика', 'республика', 'биржа', 'пост', 'проект', 'период', 'событие', 'погибший', 'начальник', 'рост', 'дом', 'новый', 'отечественный', 'руководитель', 'возможность', 'отдел', 'фестиваль', 'русский', 'специалист', 'председатель', 'дорога', 'вопрос', 'движение', 'источник', 'андрей', 'мэр', 'вырастить', 'мировой', 'олимпийский', 'цска', 'главный', 'игра', 'федеральный', 'круг', 'история', 'сочи', 'следственный', 'подозревать', 'метро', 'интервью', 'ветеран', 'участие', 'проблема', 'европа', 'скп', 'игорь', 'александр', 'сергей', 'причина', 'работа', 'прокуратура', 'торг', 'курс', 'клуб', 'остаться', 'хороший', 'министерство', 'ситуация', 'форум', 'место', 'жертва', 'новое', 'известный', 'образование', 'депутат', 'отношение', 'зал', 'департамент', 'провинция', 'рынок', 'дата', 'общественный', 'результат', 'шесть', 'переговоры', 'уровень', 'судебный', 'алексей', 'конец', 'сообщение', 'поддержка', 'связь', 'неизвестный', 'подмосковье', 'сотрудник', 'мероприятие', 'администрация', 'программа']\n",
            "68 ['единый', 'тренер', 'сборный', 'чемпионат', 'председатель', 'тур', 'дата', 'круг', 'мэр', 'назначить', 'открыться', 'депутат', 'руководитель', 'итог', 'имя', 'рассказать', 'россиянин', 'форум', 'вопрос', 'завершить', 'сборная', 'выбор', 'начать', 'парламент', 'место', 'обвинять', 'комитет', 'открыть', 'спорт', 'партия', 'курс', 'директор', 'янукович', 'начаться', 'срок', 'израиль', 'представить', 'комиссия', 'орган', 'призвать', 'сотрудничество', 'копейка', 'считать', 'открытие', 'цска', 'причина', 'федерация', 'посвятить', 'официальный', 'русский', 'готовый', 'пост', 'лидер', 'фон', 'фонд', 'житель', 'принять', 'министр', 'подозревать', 'составить', 'состав', 'выставка', 'ядерный', 'средство', 'смочь', 'украинский', 'последний', 'футбол', 'округа', 'дать', 'финал', 'совет', 'намерить', 'спортивный', 'проходить', 'сергей', 'цена', 'корреспондент', 'весь', 'мера', 'биржа', 'матч', 'европейский', 'теннисный', 'политика', 'чемпион', 'банка', 'заседание', 'начальник', 'испания', 'губернатор', 'большой', 'пройти', 'владимир', 'виктор', 'составлять', 'евгений', 'специалист', 'турция', 'милиция']\n",
            "69 ['доллар', 'опубликовать', 'сми', 'поезд', 'партия', 'путин', 'предприятие', 'турнир', 'дать', 'ночь', 'ссылка', 'газета', 'мчс', 'рост', 'гражданин', 'россиянин', 'телеканал', 'генеральный', 'экономика', 'землетрясение', 'начальник', 'подмосковье', 'ванкувер', 'мвд', 'фон', 'официальный', 'снизиться', 'вечером', 'региональный', 'следственный', 'пресс', 'прокуратура', 'парламент', 'банка', 'обнаружить', 'клуб', 'создание', 'безопасность', 'ситуация', 'директор', 'дата', 'создать', 'госдума', 'детский', 'место', 'шахта', 'теннисный', 'открытый', 'судебный', 'скп', 'круг', 'утром', 'нарушение', 'авария', 'ведомство', 'ассошиэйтед', 'лидер', 'свидетельствовать', 'аэропорт', 'сила', 'газа', 'олимпийский', 'греция', 'национальный', 'областной', 'рейтер', 'отношение', 'лига', 'федерация', 'янукович', 'время', 'станция', 'житель', 'больница', 'цена', 'нефть', 'пять', 'мид', 'срок', 'белоруссия', 'помощь', 'тур', 'рынок', 'продажа', 'финансовый', 'провинция', 'министр', 'составить', 'следовать', 'информация', 'средство', 'дтп', 'губернатор', 'евро', 'говориться', 'площадь', 'назначить', 'регион', 'строительство', 'визит']\n",
            "70 ['сергей', 'евгений', 'андрей', 'отдел', 'гувд', 'николай', 'скп', 'следовать', 'алексей', 'форум', 'милиционер', 'источник', 'образование', 'район', 'победа', 'круг', 'полиция', 'проверка', 'интервью', 'владимир', 'финал', 'составить', 'мвд', 'игорь', 'мероприятие', 'юрий', 'судебный', 'появиться', 'союз', 'составлять', 'федерация', 'прокуратура', 'мчс', 'дтп', 'задержать', 'центральный', 'хороший', 'безопасность', 'французский', 'выбор', 'движение', 'землетрясение', 'информация', 'чемпионат', 'найти', 'убийство', 'отечественный', 'госдума', 'служба', 'обнаружить', 'пострадать', 'дмитрий', 'место', 'нарушение', 'директор', 'клуб', 'орган', 'продажа', 'комитет', 'правоохранительный', 'департамент', 'мэр', 'скончаться', 'ветеран', 'фестиваль', 'авария', 'ситуация', 'воскресение', 'единый', 'право', 'пост', 'пожар', 'режим', 'сотрудник', 'начальник', 'создать', 'сила', 'чемпион', 'сборная', 'военный', 'работа', 'мировой', 'тур', 'подозревать', 'юг', 'бывший', 'детский', 'ведомство', 'милиция', 'обвинять', 'июль', 'суббота', 'теракт', 'государство', 'получить', 'матч', 'выступать', 'свидетельствовать', 'сообщаться', 'мид']\n",
            "71 ['подписать', 'обсудить', 'пройти', 'проходить', 'мероприятие', 'открыться', 'состояться', 'дтп', 'иск', 'матч', 'милиционер', 'федерация', 'выиграть', 'открыть', 'призвать', 'игра', 'турнир', 'американский', 'победа', 'вопрос', 'цска', 'лига', 'директор', 'мэр', 'защита', 'открытый', 'южный', 'война', 'украинский', 'имя', 'милиция', 'считать', 'рассмотреть', 'мвд', 'встреча', 'футболист', 'посвятить', 'внутренний', 'передавать', 'первое', 'путин', 'лидер', 'бывший', 'большой', 'парламент', 'ветеран', 'назначить', 'культура', 'русский', 'германия', 'великий', 'футбольный', 'проводить', 'союз', 'ядерный', 'подозревать', 'принять', 'появиться', 'провести', 'выйти', 'признать', 'журналист', 'рассказать', 'возбудить', 'оон', 'евро', 'история', 'намерить', 'футбол', 'хороший', 'чемпионат', 'представить', 'весь', 'также', 'визит', 'проведение', 'юрий', 'образование', 'выступать', 'состав', 'сообщаться', 'тренер', 'комиссия', 'форум', 'начать', 'поддержка', 'акция', 'фестиваль', 'участник', 'направить', 'заявление', 'кубок', 'единый', 'обвинять', 'известный', 'предлагать', 'детский', 'финал', 'официальный', 'сообщение']\n",
            "72 ['путин', 'совет', 'продажа', 'матч', 'министр', 'футбол', 'намерить', 'сила', 'готовый', 'принять', 'подготовка', 'тур', 'футбольный', 'выступать', 'переговоры', 'служба', 'теннисный', 'серия', 'производство', 'являться', 'писать', 'турнир', 'лига', 'период', 'министерство', 'клуб', 'спорт', 'смочь', 'городской', 'передавать', 'сотрудник', 'партия', 'встреча', 'дмитрий', 'ряд', 'проверка', 'место', 'планировать', 'фонд', 'договор', 'игра', 'территория', 'посвятить', 'кубок', 'форум', 'фон', 'свидетельствовать', 'проблема', 'мэр', 'организация', 'война', 'вопрос', 'цена', 'представить', 'мочь', 'начальник', 'поезд', 'футболист', 'здание', 'выбор', 'рамка', 'число', 'система', 'цска', 'также', 'говориться', 'группа', 'помочь', 'журналист', 'круг', 'иск', 'команда', 'александр', 'уровень', 'мир', 'комплекс', 'рынок', 'зал', 'курс', 'гражданин', 'дом', 'проведение', 'часть', 'копейка', 'михаил', 'проект', 'столичный', 'предлагать', 'должный', 'дата', 'гувд', 'виктор', 'столица', 'местный', 'получить', 'площадь', 'россиянин', 'известный', 'ход', 'борьба']\n",
            "73 ['интервью', 'директор', 'вырастить', 'ссылка', 'назначить', 'журналист', 'рассмотреть', 'заседание', 'обнаружить', 'следовать', 'подписать', 'составить', 'говориться', 'обвинять', 'выступать', 'взрыв', 'член', 'поддержка', 'писать', 'землетрясение', 'получить', 'сайт', 'индекс', 'снизиться', 'производство', 'задержать', 'история', 'завершить', 'являться', 'тур', 'комитет', 'работать', 'посетить', 'южный', 'признать', 'бывший', 'детский', 'создать', 'обсудить', 'информация', 'состав', 'свидетельствовать', 'предлагать', 'помощь', 'председатель', 'открыть', 'считать', 'направить', 'передавать', 'провинция', 'представить', 'состояться', 'открыться', 'пройти', 'европейский', 'выставка', 'военный', 'возбудить', 'выйти', 'погибнуть', 'период', 'связь', 'рабочий', 'теракт', 'площадь', 'франс', 'число', 'планировать', 'мероприятие', 'великий', 'прибыть', 'франция', 'территория', 'назвать', 'рынок', 'круг', 'остаться', 'иск', 'открытый', 'руководитель', 'пожар', 'проходить', 'известный', 'форум', 'игорь', 'министерство', 'заявление', 'найти', 'северный', 'внутренний', 'визит', 'банка', 'генеральный', 'подозревать', 'европа', 'это', 'больница', 'появиться', 'биржа', 'политика']\n",
            "74 ['директор', 'являться', 'общественный', 'право', 'экономический', 'самый', 'судебный', 'проводить', 'министерство', 'генеральный', 'пресс', 'обвинять', 'обсудить', 'миллиард', 'экономика', 'писать', 'уровень', 'средство', 'городской', 'отношение', 'государственный', 'скончаться', 'итог', 'сотрудничество', 'проходить', 'руководитель', 'провести', 'визит', 'начальник', 'газета', 'против', 'завершить', 'ряд', 'пока', 'теннисный', 'договор', 'начаться', 'американский', 'круг', 'бывший', 'возможность', 'назначить', 'произойти', 'неизвестный', 'главный', 'возбудить', 'борьба', 'курс', 'задержать', 'закон', 'открыть', 'финал', 'андрей', 'создать', 'финансовый', 'ход', 'подмосковье', 'гаити', 'министр', 'корреспондент', 'несколько', 'столица', 'открытие', 'комплекс', 'госдума', 'юг', 'союз', 'областной', 'клуб', 'четыре', 'помочь', 'свидетельствовать', 'развитие', 'белоруссия', 'пройти', 'иностранный', 'рассказать', 'европа', 'считать', 'нефть', 'игра', 'иск', 'часть', 'британский', 'ссылка', 'рассмотреть', 'заявление', 'шахта', 'израиль', 'интервью', 'специалист', 'сборная', 'отечественный', 'решение', 'столичный', 'проведение', 'евгений', 'фонд', 'комиссия', 'пострадать']\n",
            "75 ['провести', 'вырастить', 'подозревать', 'выйти', 'рассмотреть', 'рейтер', 'получить', 'снизиться', 'фон', 'служба', 'завершить', 'итог', 'проводить', 'прибыть', 'рамка', 'посетить', 'представить', 'гувд', 'проверка', 'убийство', 'ход', 'признать', 'период', 'губернатор', 'орган', 'обсудить', 'вопрос', 'прокуратура', 'британский', 'журналист', 'дать', 'найти', 'проведение', 'составлять', 'совет', 'поддержка', 'событие', 'руководство', 'пострадать', 'грузия', 'заявление', 'весь', 'сергей', 'составить', 'жизнь', 'пресс', 'доллар', 'транспорт', 'скончаться', 'милиция', 'американский', 'экономический', 'евро', 'сообщение', 'театр', 'задержать', 'призвать', 'сообщаться', 'договор', 'проблема', 'департамент', 'объявить', 'создать', 'история', 'открыться', 'парламент', 'против', 'отдел', 'время', 'теннисный', 'гаити', 'выиграть', 'великий', 'возбудить', 'биржа', 'финансовый', 'первое', 'круг', 'свидетельствовать', 'партия', 'польша', 'уровень', 'владимир', 'направить', 'французский', 'число', 'остаться', 'помощь', 'писать', 'состояться', 'результат', 'дата', 'находиться', 'появиться', 'торг', 'спорт', 'госдума', 'серия', 'мэр', 'предприятие']\n",
            "76 ['ассошиэйтед', 'убийство', 'время', 'район', 'режим', 'франс', 'мчс', 'американский', 'британский', 'дом', 'остров', 'петербург', 'сми', 'суббота', 'жертва', 'китай', 'следственный', 'пожар', 'край', 'пострадавший', 'копейка', 'ситуация', 'взрыв', 'олимпийский', 'здание', 'факт', 'результат', 'случай', 'шахта', 'провинция', 'аэропорт', 'война', 'погибший', 'воскресение', 'безопасность', 'великий', 'помочь', 'территория', 'больница', 'афганистан', 'телеканал', 'юг', 'несколько', 'милиционер', 'связь', 'месяц', 'шесть', 'милиция', 'уголовный', 'метро', 'найти', 'ядерный', 'рейтер', 'большой', 'жизнь', 'скп', 'мир', 'казахстан', 'создание', 'франция', 'отношение', 'школа', 'испания', 'житель', 'станция', 'мочь', 'ветеран', 'владимир', 'центральный', 'подмосковье', 'дорога', 'газета', 'ссылка', 'пять', 'сила', 'землетрясение', 'федеральный', 'северный', 'помощь', 'пострадать', 'первое', 'известный', 'группа', 'областной', 'теракт', 'киргизия', 'ведомство', 'дагестан', 'соглашение', 'отдел', 'весь', 'правоохранительный', 'ванкувер', 'украинский', 'мид', 'театр', 'внутренний', 'телефон', 'округа', 'проверка']\n",
            "77 ['метро', 'предлагать', 'евро', 'призвать', 'газета', 'неделя', 'афганистан', 'провинция', 'оон', 'намерить', 'первое', 'цска', 'находиться', 'переговоры', 'планировать', 'большой', 'министр', 'остров', 'главный', 'телеканал', 'война', 'министерство', 'турция', 'движение', 'парламент', 'срок', 'месяц', 'государство', 'суббота', 'клуб', 'работа', 'апрель', 'ситуация', 'шахта', 'обсудить', 'сми', 'крупный', 'готовый', 'гражданин', 'испания', 'европейский', 'время', 'дорога', 'воскресение', 'биржа', 'рост', 'известный', 'юг', 'акция', 'официальный', 'франс', 'военный', 'греция', 'жертва', 'департамент', 'генеральный', 'скп', 'израиль', 'белоруссия', 'гаити', 'доллар', 'корреспондент', 'сообщение', 'национальный', 'вод', 'борьба', 'аэропорт', 'петербург', 'матч', 'политика', 'великий', 'последний', 'продажа', 'газа', 'комитет', 'мид', 'пять', 'банка', 'польша', 'финансовый', 'площадь', 'франция', 'рассмотреть', 'программа', 'уголовный', 'янукович', 'северный', 'рамка', 'теракт', 'высокий', 'защита', 'сотрудничество', 'французский', 'посвятить', 'решение', 'должный', 'заявление', 'около', 'футболист', 'ближний']\n",
            "78 ['убийство', 'тренер', 'выставка', 'помочь', 'теракт', 'дтп', 'скончаться', 'курс', 'владимир', 'директор', 'телеканал', 'пост', 'взрыв', 'землетрясение', 'федерация', 'машина', 'суббота', 'правоохранительный', 'помощь', 'администрация', 'интервью', 'являться', 'дом', 'министр', 'хороший', 'израиль', 'специалист', 'ход', 'округа', 'пожар', 'известный', 'евгений', 'впервые', 'игорь', 'сергей', 'возбудить', 'александр', 'больница', 'клуб', 'подозревать', 'участник', 'смочь', 'мчс', 'гувд', 'николай', 'средство', 'дать', 'район', 'работать', 'дорога', 'воскресение', 'ведомство', 'проверка', 'южный', 'единый', 'фестиваль', 'факт', 'июнь', 'неделя', 'новый', 'милиция', 'причина', 'республика', 'мид', 'губернатор', 'руководитель', 'комплекс', 'газета', 'планировать', 'жертва', 'новое', 'время', 'отдел', 'житель', 'следовать', 'мочь', 'нарушение', 'предлагать', 'турция', 'рост', 'служба', 'автомобиль', 'должный', 'журналист', 'срок', 'первое', 'безопасность', 'грузия', 'проходить', 'появиться', 'бывший', 'посвятить', 'петербург', 'август', 'сми', 'визит', 'команда', 'отечественный', 'погибнуть', 'станция']\n",
            "79 ['объявить', 'вырастить', 'рассмотреть', 'информация', 'судебный', 'снизиться', 'транспорт', 'евро', 'средство', 'закон', 'образование', 'круг', 'погибший', 'цена', 'уголовный', 'проведение', 'политика', 'начальник', 'торг', 'комиссия', 'председатель', 'признать', 'предприятие', 'финал', 'говориться', 'проводить', 'провести', 'задержать', 'продажа', 'против', 'иск', 'заседание', 'рынок', 'прокуратура', 'предлагать', 'оао', 'обсудить', 'помощь', 'принять', 'возможность', 'теракт', 'депутат', 'нарушение', 'журналист', 'сотрудник', 'государственный', 'вопрос', 'подписать', 'член', 'безопасность', 'следовать', 'связь', 'мэр', 'намерить', 'считать', 'доллар', 'проходить', 'машина', 'общественный', 'генеральный', 'должный', 'рейтер', 'следственный', 'газета', 'состав', 'работа', 'руководитель', 'развитие', 'руководство', 'внутренний', 'взрыв', 'ряд', 'спортивный', 'борьба', 'являться', 'неизвестный', 'писать', 'сайт', 'месяц', 'индекс', 'министерство', 'ведомство', 'владимир', 'планировать', 'место', 'сообщение', 'департамент', 'министр', 'правоохранительный', 'совет', 'сотрудничество', 'ситуация', 'заявление', 'призвать', 'представить', 'ссылка', 'уровень', 'финансовый', 'передавать', 'итог']\n",
            "80 ['погибнуть', 'ссылка', 'победа', 'состав', 'русский', 'обнаружить', 'дорога', 'выиграть', 'вырастить', 'место', 'провинция', 'вод', 'составить', 'произойти', 'мир', 'защита', 'лига', 'снизиться', 'взрыв', 'украинский', 'теннисный', 'остаться', 'возбудить', 'скп', 'жизнь', 'выставка', 'интервью', 'район', 'тренер', 'против', 'дтп', 'ванкувер', 'милиция', 'неизвестный', 'официальный', 'фестиваль', 'машина', 'убийство', 'выйти', 'рамка', 'больница', 'европа', 'прокуратура', 'сообщение', 'информация', 'последний', 'андрей', 'пострадать', 'ночь', 'копейка', 'конец', 'олимпийский', 'режим', 'открытый', 'испания', 'скончаться', 'футболист', 'территория', 'хороший', 'игра', 'соглашение', 'рынок', 'футбольный', 'продажа', 'юг', 'аэропорт', 'индекс', 'михаил', 'посетить', 'футбол', 'милиционер', 'самый', 'департамент', 'федерация', 'начать', 'тур', 'кубок', 'автомобиль', 'следственный', 'госдума', 'шесть', 'подмосковье', 'команда', 'круг', 'заявление', 'площадь', 'торг', 'спорт', 'пройти', 'факт', 'поезд', 'открыться', 'серия', 'администрация', 'семь', 'общественный', 'французский', 'отношение', 'спортивный', 'возможность']\n",
            "81 ['внутренний', 'министерство', 'журналист', 'ведомство', 'вопрос', 'завершить', 'мвд', 'задержать', 'мид', 'греция', 'республика', 'белоруссия', 'убийство', 'русский', 'переговоры', 'россиянин', 'директор', 'афганистан', 'гувд', 'ассошиэйтед', 'турция', 'председатель', 'теннисный', 'прокуратура', 'участие', 'отдел', 'департамент', 'продажа', 'шахта', 'орган', 'франс', 'рейтер', 'нефть', 'обвинять', 'сотрудничество', 'иностранный', 'край', 'отношение', 'китай', 'выиграть', 'неизвестный', 'участник', 'михаил', 'гражданин', 'визит', 'экономика', 'сми', 'скп', 'направить', 'ссылка', 'начать', 'киргизия', 'проблема', 'экономический', 'телефон', 'ядерный', 'игорь', 'это', 'алексей', 'банка', 'провести', 'детский', 'уровень', 'министр', 'фон', 'полиция', 'израиль', 'остров', 'обсудить', 'проводить', 'телеканал', 'грузия', 'мочь', 'случай', 'проведение', 'госдума', 'интервью', 'известный', 'клуб', 'конец', 'аэропорт', 'оон', 'доллар', 'подозревать', 'военный', 'против', 'самый', 'нарушение', 'автомобиль', 'правоохранительный', 'договор', 'казахстан', 'рабочий', 'апрель', 'олимпийский', 'подмосковье', 'ситуация', 'официальный', 'александр', 'составить']\n",
            "82 ['янукович', 'оон', 'жертва', 'правоохранительный', 'организация', 'афганистан', 'отношение', 'милиция', 'машина', 'время', 'департамент', 'средство', 'обсудить', 'передавать', 'курс', 'миллиард', 'борьба', 'ядерный', 'юг', 'шахта', 'факт', 'киргизия', 'говориться', 'служба', 'поддержка', 'министерство', 'партия', 'рассказать', 'автомобиль', 'польша', 'северный', 'больница', 'рынок', 'дорога', 'полиция', 'визит', 'иран', 'американский', 'рассмотреть', 'сми', 'цска', 'группа', 'прокуратура', 'обвинять', 'суббота', 'милиционер', 'утром', 'казахстан', 'орган', 'итог', 'ведомство', 'система', 'конец', 'ход', 'скп', 'мид', 'дмитрий', 'парламент', 'политика', 'круг', 'совет', 'считать', 'мэр', 'снизиться', 'республика', 'предприятие', 'продажа', 'район', 'театр', 'администрация', 'франс', 'новое', 'заявление', 'защита', 'госдума', 'южный', 'помощь', 'сотрудничество', 'округа', 'сборная', 'заседание', 'месяц', 'период', 'государство', 'состояться', 'имя', 'результат', 'погибший', 'подписать', 'мера', 'погибнуть', 'подмосковье', 'копейка', 'являться', 'задержать', 'франция', 'китай', 'назначить', 'следственный', 'житель']\n",
            "83 ['заявление', 'игорь', 'юрий', 'николай', 'ночь', 'сергей', 'копейка', 'владимир', 'алексей', 'рейтер', 'вечером', 'александр', 'метро', 'газа', 'администрация', 'утром', 'сообщение', 'газета', 'гаити', 'курс', 'парламент', 'мид', 'открытие', 'опубликовать', 'иран', 'сайт', 'подозревать', 'андрей', 'строительство', 'факт', 'обвинять', 'депутат', 'биржа', 'неизвестный', 'дать', 'бывший', 'виктор', 'история', 'пресс', 'прокуратура', 'торг', 'мировой', 'михаил', 'месяц', 'культура', 'комиссия', 'грузия', 'жертва', 'журналист', 'местный', 'сми', 'изменение', 'семь', 'евгений', 'губернатор', 'следственный', 'новое', 'партия', 'предприятие', 'проверка', 'франс', 'городской', 'группа', 'сборная', 'судебный', 'экономический', 'ведомство', 'региональный', 'германия', 'скп', 'несколько', 'украинский', 'движение', 'правоохранительный', 'министерство', 'вопрос', 'ряд', 'признать', 'первое', 'петербург', 'полиция', 'фонд', 'дагестан', 'отдел', 'банка', 'выбор', 'производство', 'организация', 'польша', 'часть', 'представить', 'милиционер', 'район', 'землетрясение', 'киргизия', 'неделя', 'результат', 'житель', 'дом', 'союз']\n",
            "84 ['чемпионат', 'визит', 'игорь', 'пострадать', 'пострадавший', 'турнир', 'машина', 'переговоры', 'лига', 'призвать', 'сила', 'информация', 'выиграть', 'борьба', 'заявление', 'евгений', 'производство', 'решение', 'месяц', 'сборная', 'метро', 'николай', 'афганистан', 'сотрудничество', 'ассошиэйтед', 'кубок', 'встреча', 'впервые', 'сборный', 'мероприятие', 'миллиард', 'курс', 'создать', 'намерить', 'выставка', 'цска', 'фонд', 'судебный', 'считать', 'число', 'правоохранительный', 'соглашение', 'период', 'круг', 'крупный', 'результат', 'франс', 'копейка', 'получить', 'планировать', 'помощь', 'владимир', 'обвинять', 'высокий', 'готовый', 'форум', 'рост', 'гувд', 'фестиваль', 'предприятие', 'победа', 'финал', 'виктор', 'сергей', 'акция', 'федеральный', 'футбольный', 'официальный', 'поезд', 'подозревать', 'сотрудник', 'защита', 'юг', 'источник', 'дать', 'милиционер', 'проверка', 'ядерный', 'утром', 'экономика', 'продажа', 'пока', 'иностранный', 'договор', 'чемпион', 'регион', 'турция', 'мировой', 'против', 'следственный', 'участие', 'подписать', 'военный', 'факт', 'белоруссия', 'вырастить', 'изменение', 'андрей', 'убийство', 'работать']\n",
            "85 ['имя', 'направить', 'миллиард', 'неделя', 'уголовный', 'орган', 'зал', 'появиться', 'высокий', 'планировать', 'комплекс', 'ход', 'найти', 'система', 'министр', 'автомобиль', 'получить', 'обсудить', 'открыть', 'решение', 'александр', 'первое', 'мера', 'владимир', 'скончаться', 'станция', 'русский', 'намерить', 'иностранный', 'военный', 'вырастить', 'министерство', 'дмитрий', 'главный', 'январь', 'лидер', 'мид', 'суббота', 'весь', 'начальник', 'виктор', 'месяц', 'афганистан', 'официальный', 'курс', 'крупный', 'июнь', 'случай', 'март', 'пострадавший', 'посвятить', 'июль', 'призвать', 'август', 'начать', 'группа', 'выбор', 'февраль', 'чемпионат', 'также', 'машина', 'представить', 'воскресение', 'программа', 'начаться', 'пять', 'обвинять', 'сообщаться', 'сила', 'проект', 'апрель', 'средство', 'комиссия', 'опубликовать', 'выставка', 'цена', 'около', 'работа', 'составить', 'телеканал', 'ряд', 'округа', 'организация', 'корреспондент', 'рост', 'число', 'назначить', 'подписать', 'отношение', 'рассмотреть', 'испания', 'отечественный', 'готовый', 'свидетельствовать', 'михаил', 'прибыть', 'кубок', 'площадь', 'школа', 'соглашение']\n",
            "86 ['копейка', 'городской', 'торг', 'мэр', 'пожар', 'цена', 'министр', 'путин', 'миллиард', 'губернатор', 'представить', 'милиционер', 'директор', 'ночь', 'проходить', 'известный', 'курс', 'работать', 'начальник', 'посетить', 'судебный', 'центральный', 'биржа', 'столичный', 'принять', 'янукович', 'состояться', 'договор', 'писать', 'месяц', 'детский', 'проверка', 'открыться', 'главный', 'серия', 'выставка', 'великий', 'столица', 'лига', 'сообщаться', 'сотрудник', 'передавать', 'поезд', 'следовать', 'смочь', 'спортивный', 'получить', 'подмосковье', 'режим', 'областной', 'житель', 'тур', 'проект', 'официальный', 'гражданин', 'орган', 'произойти', 'часть', 'строительство', 'россиянин', 'милиция', 'планировать', 'рассмотреть', 'факт', 'безопасность', 'журналист', 'председатель', 'защита', 'начать', 'руководитель', 'территория', 'выиграть', 'неизвестный', 'уровень', 'пройти', 'местный', 'форум', 'заседание', 'остаться', 'число', 'составить', 'появиться', 'фон', 'русский', 'время', 'район', 'работа', 'иск', 'июнь', 'департамент', 'игра', 'акция', 'право', 'сборная', 'дагестан', 'движение', 'уголовный', 'британский', 'снизиться', 'единый']\n",
            "87 ['клуб', 'матч', 'комплекс', 'известный', 'футболист', 'евро', 'иск', 'встреча', 'форум', 'тур', 'греция', 'срок', 'игра', 'театр', 'интервью', 'найти', 'случай', 'отечественный', 'цска', 'ванкувер', 'госдума', 'программа', 'пока', 'часть', 'школа', 'корреспондент', 'французский', 'комиссия', 'фонд', 'доллар', 'неделя', 'переговоры', 'футбол', 'пост', 'открытие', 'британский', 'заседание', 'департамент', 'имя', 'федеральный', 'европа', 'май', 'бывший', 'министр', 'лига', 'обнаружить', 'метро', 'новый', 'движение', 'юрий', 'мера', 'совет', 'украинский', 'генеральный', 'июнь', 'столичный', 'русский', 'победа', 'пресс', 'главный', 'теннисный', 'июль', 'копейка', 'банка', 'израиль', 'команда', 'мероприятие', 'великий', 'петербург', 'министерство', 'уголовный', 'оао', 'мировой', 'союз', 'фестиваль', 'александр', 'зал', 'ближний', 'игорь', 'государство', 'отдел', 'станция', 'серия', 'комитет', 'киргизия', 'американский', 'вопрос', 'регион', 'дтп', 'акция', 'средство', 'история', 'посвятить', 'ветеран', 'дмитрий', 'планировать', 'мид', 'следовать', 'сочи', 'группа']\n",
            "88 ['директор', 'неделя', 'председатель', 'составить', 'евро', 'жизнь', 'полиция', 'британский', 'поезд', 'фон', 'круг', 'хороший', 'руководитель', 'месяц', 'период', 'русский', 'греция', 'мэр', 'индекс', 'начальник', 'комиссия', 'вырастить', 'смочь', 'авария', 'мера', 'янукович', 'рынок', 'россиянин', 'мочь', 'больница', 'режим', 'снизиться', 'финансовый', 'столица', 'строительство', 'иностранный', 'олимпийский', 'доллар', 'политика', 'развитие', 'специалист', 'землетрясение', 'рост', 'случай', 'европа', 'взрыв', 'петербург', 'партия', 'большой', 'сми', 'ситуация', 'биржа', 'путин', 'возможность', 'губернатор', 'дать', 'система', 'признать', 'самый', 'программа', 'вопрос', 'поддержка', 'экономика', 'сотрудник', 'обнаружить', 'право', 'европейский', 'телефон', 'казахстан', 'война', 'депутат', 'свидетельствовать', 'финал', 'пожар', 'воскресение', 'завершить', 'министр', 'призвать', 'семья', 'пострадавший', 'зал', 'иран', 'проверка', 'остров', 'экономический', 'образование', 'неизвестный', 'здание', 'комплекс', 'чемпион', 'объявить', 'правоохранительный', 'предлагать', 'ряд', 'газа', 'сообщение', 'следственный', 'торг', 'открытый', 'дтп']\n",
            "89 ['предлагать', 'воскресение', 'олимпийский', 'проект', 'суббота', 'победа', 'юрий', 'следовать', 'соглашение', 'европейский', 'милиция', 'заместитель', 'цска', 'отечественный', 'проблема', 'комиссия', 'правоохранительный', 'факт', 'ближний', 'ядерный', 'гаити', 'округа', 'единый', 'метро', 'продажа', 'рабочий', 'программа', 'политика', 'новый', 'предприятие', 'гражданин', 'шахта', 'финансовый', 'режим', 'создание', 'семья', 'пока', 'февраль', 'сотрудничество', 'строительство', 'несколько', 'спортивный', 'большой', 'проходить', 'конец', 'неделя', 'владимир', 'связь', 'курс', 'работать', 'казахстан', 'экономика', 'служба', 'оао', 'теракт', 'готовый', 'интервью', 'взрыв', 'миллиард', 'образование', 'милиционер', 'работа', 'число', 'совет', 'остаться', 'система', 'польша', 'михаил', 'борьба', 'договор', 'авария', 'руководство', 'отношение', 'новое', 'ситуация', 'проведение', 'вод', 'высокий', 'встреча', 'защита', 'белоруссия', 'мера', 'турция', 'развитие', 'июнь', 'форум', 'должный', 'общественный', 'около', 'нефть', 'акция', 'александр', 'август', 'дтп', 'киргизия', 'ванкувер', 'ряд', 'подмосковье', 'корреспондент', 'время']\n",
            "90 ['направить', 'газета', 'обнаружить', 'встреча', 'открыться', 'движение', 'правоохранительный', 'турнир', 'снизиться', 'получить', 'заседание', 'задержать', 'погибший', 'милиция', 'торг', 'рассмотреть', 'факт', 'визит', 'готовый', 'часть', 'пройти', 'дать', 'состояться', 'переговоры', 'открытый', 'рейтер', 'иск', 'зал', 'дом', 'соглашение', 'вырастить', 'мероприятие', 'отношение', 'школа', 'проходить', 'закон', 'посвятить', 'группа', 'неизвестный', 'опубликовать', 'объявить', 'мера', 'мировой', 'индекс', 'средство', 'появиться', 'милиционер', 'начаться', 'выиграть', 'остаться', 'связь', 'назначить', 'курс', 'пресс', 'рост', 'договор', 'подписать', 'найти', 'решение', 'здание', 'назвать', 'телеканал', 'круг', 'провести', 'являться', 'департамент', 'призвать', 'европа', 'оао', 'фонд', 'уголовный', 'копейка', 'аэропорт', 'посетить', 'работа', 'скончаться', 'спортивный', 'составлять', 'чемпионат', 'погибнуть', 'польша', 'срок', 'возбудить', 'цена', 'евро', 'виктор', 'начать', 'планировать', 'гувд', 'уровень', 'самый', 'комиссия', 'отечественный', 'следственный', 'испания', 'рассказать', 'воскресение', 'отдел', 'рынок', 'вопрос']\n",
            "91 ['миллиард', 'фон', 'курс', 'организация', 'копейка', 'пострадавший', 'выбор', 'изменение', 'источник', 'землетрясение', 'цена', 'провинция', 'факт', 'турция', 'край', 'аэропорт', 'информация', 'закон', 'сообщение', 'неделя', 'погибший', 'кубок', 'авария', 'орган', 'серия', 'округа', 'афганистан', 'обсудить', 'погибнуть', 'республика', 'дать', 'спортивный', 'сотрудник', 'число', 'жертва', 'производство', 'состав', 'заявление', 'американский', 'ближний', 'киргизия', 'отдел', 'остров', 'дагестан', 'ванкувер', 'теннисный', 'комитет', 'соглашение', 'хороший', 'подозревать', 'комиссия', 'германия', 'представить', 'впервые', 'лидер', 'комплекс', 'сочи', 'участник', 'торг', 'зал', 'неизвестный', 'поезд', 'средство', 'официальный', 'сборная', 'детский', 'дорога', 'руководство', 'помощь', 'воскресение', 'предприятие', 'месяц', 'биржа', 'ряд', 'обнаружить', 'больница', 'мэр', 'посвятить', 'крупный', 'местный', 'возможность', 'гражданин', 'самый', 'ассошиэйтед', 'утром', 'суббота', 'депутат', 'тренер', 'участие', 'отечественный', 'ночь', 'финансовый', 'дтп', 'возбудить', 'безопасность', 'финал', 'китай', 'житель', 'пострадать', 'гаити']\n",
            "92 ['обнаружить', 'срок', 'пострадавший', 'парламент', 'выиграть', 'скончаться', 'выйти', 'мчс', 'пострадать', 'рассказать', 'дагестан', 'иск', 'дом', 'сми', 'пресс', 'полиция', 'погибнуть', 'составить', 'аэропорт', 'безопасность', 'столица', 'землетрясение', 'семь', 'вод', 'юг', 'получить', 'обсудить', 'чемпионат', 'корреспондент', 'семья', 'проводить', 'фон', 'объявить', 'округа', 'завершить', 'произойти', 'провинция', 'остров', 'греция', 'убийство', 'дать', 'открыть', 'ассошиэйтед', 'телефон', 'южный', 'находиться', 'следовать', 'олимпийский', 'назначить', 'дата', 'край', 'кубок', 'британский', 'сборный', 'петербург', 'телеканал', 'дтп', 'шесть', 'взрыв', 'неизвестный', 'прибыть', 'открытие', 'рабочий', 'погибший', 'рейтер', 'официальный', 'ближний', 'найти', 'культура', 'июнь', 'несколько', 'газета', 'лига', 'поезд', 'центральный', 'пожар', 'последний', 'четыре', 'гувд', 'возбудить', 'январь', 'продажа', 'пять', 'остаться', 'машина', 'местный', 'работать', 'больница', 'около', 'хороший', 'иран', 'общественный', 'ведомство', 'ссылка', 'республика', 'цена', 'оон', 'вечером', 'авария', 'афганистан']\n",
            "93 ['подозревать', 'обвинять', 'являться', 'федеральный', 'договор', 'связь', 'обсудить', 'объявить', 'назвать', 'составлять', 'политика', 'представить', 'ближний', 'считать', 'принять', 'соглашение', 'рабочий', 'планировать', 'следственный', 'ядерный', 'развитие', 'борьба', 'жизнь', 'финансовый', 'сотрудничество', 'сообщение', 'финал', 'кубок', 'заявление', 'заместитель', 'экономика', 'олимпийский', 'михаил', 'миллиард', 'выступать', 'игорь', 'круг', 'пострадать', 'рамка', 'проблема', 'театр', 'серия', 'переговоры', 'автомобиль', 'доллар', 'рост', 'возможность', 'рынок', 'призвать', 'транспорт', 'строительство', 'пресс', 'мероприятие', 'мвд', 'готовый', 'фон', 'провинция', 'культура', 'проект', 'предлагать', 'акция', 'подмосковье', 'китай', 'шахта', 'погибнуть', 'местный', 'экономический', 'рейтер', 'отношение', 'россиянин', 'случай', 'проходить', 'детский', 'назначить', 'владимир', 'французский', 'сергей', 'военный', 'судебный', 'генеральный', 'предприятие', 'создать', 'утром', 'рассказать', 'иран', 'составить', 'мочь', 'государственный', 'работа', 'франция', 'вопрос', 'оао', 'проведение', 'сила', 'уровень', 'часть', 'мера', 'апрель', 'чемпионат', 'поддержка']\n",
            "94 ['ядерный', 'дорога', 'суббота', 'самый', 'июнь', 'футбол', 'неделя', 'решение', 'футбольный', 'министр', 'шахта', 'рост', 'прокуратура', 'край', 'аэропорт', 'результат', 'оон', 'парламент', 'изменение', 'впервые', 'мэр', 'возможность', 'футболист', 'германия', 'это', 'государство', 'август', 'янукович', 'китай', 'матч', 'цска', 'польша', 'житель', 'вод', 'европа', 'мировой', 'время', 'ряд', 'губернатор', 'призвать', 'европейский', 'газа', 'гаити', 'израиль', 'мочь', 'пять', 'семь', 'июль', 'случай', 'турция', 'период', 'лидер', 'выбор', 'ситуация', 'жертва', 'проведение', 'система', 'январь', 'нарушение', 'территория', 'пока', 'лига', 'гувд', 'несколько', 'фестиваль', 'производство', 'апрель', 'детский', 'сила', 'афганистан', 'сообщаться', 'клуб', 'франс', 'американский', 'район', 'планировать', 'авария', 'предприятие', 'событие', 'май', 'работа', 'корреспондент', 'хороший', 'белоруссия', 'поезд', 'участник', 'тренер', 'мир', 'департамент', 'факт', 'республика', 'февраль', 'остров', 'должный', 'финансовый', 'воскресение', 'мероприятие', 'председатель', 'администрация', 'официальный']\n",
            "95 ['заявление', 'край', 'ссылка', 'участие', 'культура', 'итог', 'копейка', 'бывший', 'убийство', 'конец', 'генеральный', 'мид', 'ход', 'курс', 'парламент', 'пост', 'сми', 'скончаться', 'экономический', 'визит', 'министерство', 'проведение', 'спорт', 'мировой', 'госдума', 'землетрясение', 'ядерный', 'оон', 'участник', 'безопасность', 'тренер', 'режим', 'впервые', 'открытие', 'школа', 'изменение', 'член', 'победа', 'период', 'британский', 'русский', 'шахта', 'погибший', 'высокий', 'дом', 'январь', 'семья', 'помочь', 'опубликовать', 'областной', 'германия', 'здание', 'событие', 'результат', 'общественный', 'история', 'июль', 'мвд', 'мир', 'кубок', 'комитет', 'департамент', 'серия', 'следственный', 'скп', 'ассошиэйтед', 'американский', 'военный', 'полиция', 'региональный', 'фонд', 'ведомство', 'рамка', 'матч', 'май', 'против', 'назначить', 'европа', 'отношение', 'национальный', 'центральный', 'команда', 'орган', 'экономика', 'встреча', 'хороший', 'посвятить', 'футбол', 'депутат', 'комиссия', 'округа', 'июнь', 'внутренний', 'южный', 'август', 'защита', 'воскресение', 'олимпийский', 'апрель', 'афганистан']\n",
            "96 ['подготовка', 'погибший', 'неделя', 'дом', 'провинция', 'доллар', 'находиться', 'метро', 'помощь', 'иностранный', 'ветеран', 'источник', 'средство', 'иран', 'соглашение', 'неизвестный', 'житель', 'мид', 'ядерный', 'месяц', 'новый', 'шахта', 'турция', 'сила', 'пострадавший', 'заявление', 'семья', 'британский', 'нефть', 'жертва', 'остров', 'мера', 'найти', 'национальный', 'время', 'проект', 'ситуация', 'начаться', 'переговоры', 'лидер', 'группа', 'известный', 'информация', 'афганистан', 'американский', 'пока', 'работать', 'работа', 'больница', 'программа', 'судебный', 'газа', 'член', 'лига', 'признать', 'начать', 'генеральный', 'обнаружить', 'фестиваль', 'школа', 'игорь', 'военный', 'возможность', 'остаться', 'проведение', 'август', 'связь', 'экономика', 'заместитель', 'прибыть', 'цска', 'футбольный', 'часть', 'турнир', 'появиться', 'мочь', 'сотрудничество', 'опубликовать', 'ассошиэйтед', 'ход', 'намерить', 'апрель', 'считать', 'государство', 'режим', 'матч', 'мероприятие', 'франс', 'здание', 'принять', 'создание', 'назвать', 'готовый', 'евро', 'май', 'договор', 'автомобиль', 'убийство', 'площадь', 'решение']\n",
            "97 ['война', 'также', 'ближний', 'американский', 'создание', 'впервые', 'предлагать', 'выставка', 'великий', 'поддержка', 'ситуация', 'член', 'футбольный', 'призвать', 'дтп', 'событие', 'самый', 'цена', 'возможность', 'последний', 'экономический', 'посетить', 'проводить', 'режим', 'убийство', 'центральный', 'министр', 'проведение', 'намерить', 'дорога', 'суббота', 'германия', 'планировать', 'система', 'число', 'британский', 'отношение', 'помочь', 'председатель', 'хороший', 'сотрудничество', 'право', 'французский', 'экономика', 'олимпийский', 'выступать', 'смочь', 'пройти', 'пострадавший', 'круг', 'скончаться', 'официальный', 'помощь', 'ветеран', 'европейский', 'площадь', 'ряд', 'прибыть', 'турнир', 'янукович', 'фон', 'мировой', 'европа', 'готовый', 'единый', 'бывший', 'южный', 'футбол', 'конец', 'свидетельствовать', 'организация', 'завершить', 'финал', 'воскресение', 'пресс', 'русский', 'июль', 'землетрясение', 'северный', 'финансовый', 'май', 'соглашение', 'государство', 'провести', 'сообщение', 'крупный', 'обсудить', 'должный', 'часть', 'мера', 'пострадать', 'итог', 'рынок', 'государственный', 'средство', 'станция', 'ход', 'израиль', 'местный', 'партия']\n",
            "98 ['метро', 'чемпионат', 'мера', 'государственный', 'работа', 'говориться', 'сергей', 'решение', 'зал', 'игра', 'воскресение', 'национальный', 'мероприятие', 'евро', 'федеральный', 'цска', 'создать', 'автомобиль', 'финансовый', 'июнь', 'юрий', 'франс', 'евгений', 'греция', 'заседание', 'министерство', 'ближний', 'февраль', 'форум', 'проект', 'следовать', 'посвятить', 'переговоры', 'обнаружить', 'участие', 'направить', 'оон', 'найти', 'ссылка', 'апрель', 'фестиваль', 'март', 'спортивный', 'сборный', 'дмитрий', 'северный', 'матч', 'янукович', 'май', 'представить', 'суббота', 'министр', 'изменение', 'уголовный', 'готовый', 'гувд', 'август', 'провинция', 'получить', 'создание', 'футбольный', 'руководство', 'проверка', 'союз', 'движение', 'сообщаться', 'оао', 'группа', 'чемпион', 'свидетельствовать', 'также', 'продажа', 'дтп', 'футболист', 'состав', 'футбол', 'вод', 'безопасность', 'развитие', 'объявить', 'крупный', 'программа', 'июль', 'производство', 'неизвестный', 'экономический', 'британский', 'акция', 'киргизия', 'государство', 'площадь', 'иск', 'предлагать', 'специалист', 'назвать', 'машина', 'планировать', 'регион', 'газета', 'здание']\n",
            "99 ['говориться', 'чемпионат', 'передавать', 'объявить', 'выйти', 'отношение', 'следовать', 'сообщаться', 'сборный', 'иск', 'самый', 'рассказать', 'проверка', 'назвать', 'признать', 'матч', 'провести', 'впервые', 'сборная', 'торг', 'газета', 'игра', 'причина', 'уголовный', 'вырастить', 'шесть', 'футболист', 'писать', 'круг', 'цена', 'считать', 'фестиваль', 'выставка', 'против', 'юрий', 'союз', 'задержать', 'руководство', 'официальный', 'копейка', 'посетить', 'прибыть', 'турнир', 'прокуратура', 'дтп', 'футбол', 'остаться', 'переговоры', 'футбольный', 'серия', 'форум', 'найти', 'август', 'право', 'это', 'зал', 'мероприятие', 'дата', 'ближний', 'гражданин', 'подписать', 'посвятить', 'июль', 'михаил', 'игорь', 'сообщение', 'евгений', 'факт', 'итог', 'теннисный', 'финал', 'событие', 'станция', 'хороший', 'взрыв', 'европейский', 'погибнуть', 'погибший', 'пострадать', 'принять', 'министерство', 'андрей', 'федеральный', 'франс', 'свидетельствовать', 'следственный', 'заседание', 'случай', 'ряд', 'снизиться', 'сергей', 'больница', 'ассошиэйтед', 'проведение', 'единый', 'вод', 'месяц', 'проводить', 'мир', 'вопрос']\n"
          ],
          "name": "stdout"
        }
      ]
    },
    {
      "cell_type": "code",
      "metadata": {
        "id": "IAFVcJockrrG",
        "colab_type": "code",
        "colab": {}
      },
      "source": [
        "aspects_vectors = model.a_embs.data.tolist()\n",
        "words_vectors = model.embed_src.weight.data.tolist()\n",
        "\n",
        "\n",
        "def sim(word, aspect):\n",
        "    return np.dot(word, aspect)\n",
        "\n",
        "def sim2(word, aspect):\n",
        "    return np.sum((word-aspect)**2)\n",
        "\n",
        "neares_num = 100\n",
        "for aspect_i in range(len(aspects_vectors)):\n",
        "    aspect = np.array(aspects_vectors[aspect_i])\n",
        "    similarities = []\n",
        "    for word_i in range(len(words_vectors)):\n",
        "        word = model.lang.index2word[word_i]\n",
        "        similarities.append([word, sim(words_vectors[word_i], aspect)])\n",
        "    \n",
        "    # high_words = sorted(similarities, key=lambda x: x[1])[-10:]\n",
        "    low_words = sorted(similarities, key=lambda x: x[1])[:neares_num]\n",
        "    # print(aspect_i) \n",
        "    # print([w[0] for w in high_words])\n",
        "    print(aspect_i, [w[0] for w in low_words])"
      ],
      "execution_count": 0,
      "outputs": []
    },
    {
      "cell_type": "code",
      "metadata": {
        "id": "sopEC4DA0CrD",
        "colab_type": "code",
        "outputId": "b32a88ae-b9ad-4a06-8bbc-101f182c9049",
        "colab": {
          "base_uri": "https://localhost:8080/",
          "height": 945
        }
      },
      "source": [
        "aspects_vectors = model.a_embs.data.tolist()\n",
        "words_vectors = model.embed_src.weight.data.tolist()\n",
        "\n",
        "def sim(word, aspect):\n",
        "    return np.dot(word, aspect)\n",
        "\n",
        "def sim2(word, aspect):\n",
        "    return np.sum((word-aspect)**2)\n",
        "\n",
        "neares_num = 20\n",
        "for aspect_i in range(len(aspects_vectors)):\n",
        "    aspect = np.array(aspects_vectors[aspect_i])\n",
        "    similarities = []\n",
        "    for word_i in range(len(words_vectors)):\n",
        "        word = model.lang.index2word[word_i]\n",
        "        similarities.append([word, sim(words_vectors[word_i], aspect)])\n",
        "    \n",
        "    # high_words = sorted(similarities, key=lambda x: x[1])[-10:]\n",
        "    low_words = sorted(similarities, key=lambda x: x[1])[:neares_num]\n",
        "    # print(aspect_i) \n",
        "    # print([w[0] for w in high_words])\n",
        "    print(aspect_i, [w[0] for w in low_words])"
      ],
      "execution_count": 0,
      "outputs": [
        {
          "output_type": "stream",
          "text": [
            "0 ['исправно', 'назир', 'халаф', 'моэк', 'гуляев', 'предречь', 'вступать', 'ограничительный', 'бенкен', 'скупой', 'бачо', 'большинство', 'организовываться', 'майорг', 'чавалита', 'нуритдин', 'айрис', 'провизия', 'немедленно', 'кряж']\n",
            "1 ['сталкер', 'харатьян', 'вятржик', 'царевич', 'ва', 'фтизиатр', 'эмблема', 'поволоцкий', 'совгавань', 'привыкнуть', 'сторожить', 'кабза', 'нурипахать', 'бхаргава', 'вологодский', 'лить', 'арабскоязычный', 'пацифист', 'каучук', 'сетас']\n",
            "2 ['пособие', 'саудовец', 'круз', 'многоконфессиональный', 'географ', 'наименее', 'огородить', 'генпрокуратура', 'джозет', 'совокупность', 'развлекаться', 'вальдеморо', 'вилючинский', 'ременчик', 'гулордать', 'погранотряд', 'турлай', 'горин', 'утиашвили', 'котелянец']\n",
            "3 ['жерло', 'сервировочный', 'выставка', 'северянинский', 'паковать', 'налбандяной', 'фигуристка', 'шибитов', 'киржач', 'авиапредприятие', 'андеграундный', 'норвежка', 'добивать', 'забыться', 'акциз', 'сбытчик', 'лобби', 'террористический', 'дельта', 'манат']\n",
            "4 ['граддокумент', 'нефтехимзавод', 'приемлемый', 'станочник', 'конузина', 'келантан', 'ростошинский', 'процессуальный', 'свинка', 'йоханнес', 'галактикос', 'трофей', 'аркас', 'стлаться', 'раздеться', 'музакаев', 'нефтяной', 'конкордий', 'сейсмически', 'авиапоиск']\n",
            "5 ['шилдс', 'контрактный', 'ничтожность', 'отстойник', 'неслыханный', 'насер', 'зарывать', 'поломать', 'мухарбек', 'толкать', 'ртищево', 'венгерка', 'журовой', 'пап', 'главарь', 'гуляев', 'трудный', 'нижневартовск', 'мердок', 'соглашаться']\n",
            "6 ['суперклуб', 'аугусто', 'яновским', 'конфликтовать', 'огра', 'бьерный', 'ксенофобия', 'залежь', 'берггрюить', 'ноздря', 'ликвидность', 'отбить', 'политик', 'онон', 'затемнить', 'слоновый', 'зашкалить', 'противовыбросный', 'некоторый', 'планета']\n",
            "7 ['скаут', 'рейс', 'атакишить', 'преставиться', 'туркменбаш', 'подмостовый', 'клановость', 'касарес', 'правление', 'барсумян', 'равномерный', 'копыто', 'кампф', 'забой', 'лизинговый', 'казачок', 'деклан', 'переработка', 'веер', 'евстрат']\n",
            "8 ['несоветский', 'газон', 'источник', 'мясниковский', 'кеннеди', 'австралопитек', 'васант', 'баламургаб', 'профинансировать', 'раскольник', 'эрна', 'финкоминвест', 'рособоронзаказ', 'заявить', 'невельск', 'вулф', 'намагниченность', 'викторов', 'проберт', 'койл']\n",
            "9 ['палецкиса', 'растаять', 'жилищный', 'саудовец', 'сионистский', 'гетоева', 'классика', 'фотокорреспондент', 'донспецпроект', 'сайяф', 'лыко', 'анелька', 'оржоникидзевский', 'иби', 'видемост', 'катынский', 'завершиться', 'чиновница', 'носов', 'нынешний']\n",
            "10 ['аггтелек', 'оксфордшир', 'авиасалон', 'интронизация', 'стис', 'снбо', 'икон', 'карагинский', 'хикматулло', 'оппозиция', 'макарцев', 'бахтьярый', 'престижный', 'явдолюк', 'тен', 'клеть', 'ополчиться', 'ирландский', 'василакиснуть', 'тейит']\n",
            "11 ['полнолуние', 'путь', 'бомбардировка', 'техника', 'роднянский', 'алагир', 'исполниться', 'автомобилестроение', 'фордзона', 'исраэль', 'имитировать', 'разер', 'окада', 'цаликов', 'суровость', 'поздеев', 'хлебороб', 'дубенский', 'термин', 'уводить']\n",
            "12 ['уолт', 'цейтлера', 'березовский', 'старожил', 'фартовый', 'бреммера', 'засолить', 'кормление', 'складываться', 'прэтчетта', 'джийся', 'самодержавие', 'адибзадех', 'проспорить', 'финансировать', 'оседлать', 'монсеньор', 'неправомерный', 'балха', 'саблисток']\n",
            "13 ['мэрдок', 'амазонка', 'мука', 'заведомый', 'качать', 'головачев', 'недосмотр', 'хурскайнный', 'оханефтегаз', 'купчая', 'пуршевыя', 'натениэл', 'салик', 'вымыть', 'валетинк', 'фоменкова', 'крахмал', 'георг', 'измеряться', 'четырехметр']\n",
            "14 ['таркил', 'переть', 'эчмиадзинский', 'тимирязевский', 'вовлекать', 'дулькина', 'мухамедзакир', 'оплакивать', 'зеленский', 'денев', 'правдоподобный', 'допльгота', 'эспин', 'нефтехимик', 'цаленджихский', 'нбк', 'домоправитель', 'леночка', 'бокс', 'миндели']\n",
            "15 ['мг', 'спарринг', 'бдительность', 'себякино', 'саровский', 'адлер', 'водоотделять', 'увековечить', 'чжурчженить', 'посещение', 'неэстетичный', 'лапа', 'дримлайнер', 'новослободский', 'зепп', 'миссионер', 'удалить', 'неплохой', 'приблизить', 'устойчивый']\n",
            "16 ['бюджетополучатель', 'шарж', 'склон', 'вытоврять', 'балансовый', 'кеннеди', 'скрещивание', 'увеличение', 'иссякать', 'минченко', 'инвернесса', 'вознесение', 'уважать', 'минобразования', 'гельменд', 'авиаконструктор', 'четырехметровый', 'троица', 'некипяченый', 'лоса']\n",
            "17 ['негигиеничный', 'девон', 'затвор', 'паровой', 'непризнание', 'треуголка', 'развешивать', 'абия', 'финкризис', 'поработать', 'мосгордума', 'мгимо', 'спецпрокурор', 'виноград', 'тренировка', 'остудить', 'подвернуть', 'промысел', 'сердауис', 'кадзуо']\n",
            "18 ['стиго', 'санный', 'михаил', 'генадий', 'парламентаризм', 'сельхозугодье', 'гидроуголь', 'гомель', 'латик', 'негигиеничный', 'алексей', 'норникель', 'угиса', 'еле', 'туркменбаш', 'мгту', 'пленительный', 'лингвист', 'передаваемый', 'расходоваться']\n",
            "19 ['нгк', 'дума', 'милииции', 'свежемороженый', 'воплощаться', 'фотогалерея', 'демконго', 'фарс', 'обществознание', 'монталбать', 'салех', 'сэндс', 'фрлек', 'темза', 'роскошь', 'пауза', 'путейщик', 'коткина', 'избираться', 'лупандин']\n",
            "20 ['кормление', 'хисася', 'кашкар', 'птицеводческий', 'трезвость', 'водосброс', 'выдержать', 'глыба', 'мерсиайдец', 'абулхауд', 'предохранять', 'рассеяться', 'салтанов', 'томашевский', 'софтверный', 'бодренков', 'полуэктов', 'хаапсало', 'разморить', 'диарден']\n",
            "21 ['обстрел', 'сюткин', 'фриц', 'пошло', 'корректный', 'александрия', 'вяземский', 'оказывать', 'факультатив', 'некрупный', 'княжество', 'усыпальница', 'сафин', 'чернигов', 'статусный', 'матысак', 'будущее', 'карпинск', 'богот', 'комфортный']\n",
            "22 ['салерно', 'водоснабжение', 'основательница', 'вырезать', 'бесконтактный', 'конаково', 'шамординский', 'обхаживание', 'дэмин', 'васильев', 'агост', 'арнхолд', 'месса', 'шасси', 'эмитент', 'проходйти', 'атц', 'гокбулут', 'цискаридзе', 'сомали']\n",
            "23 ['апраксин', 'непечатный', 'нижегородстат', 'телерадиокорпораци', 'иаэ', 'чернышев', 'шривастать', 'нияз', 'оскаризация', 'ио', 'поляризовать', 'вертикаль', 'боков', 'бальзамирование', 'окисляться', 'упустить', 'таджикистан', 'иначе', 'нагиб', 'дорожка']\n",
            "24 ['мутация', 'юлдашева', 'мошка', 'ритейлера', 'маймонида', 'ездакова', 'кувшинник', 'аксукент', 'бильбао', 'идлиб', 'молинарый', 'обезвредить', 'металлургия', 'отобрать', 'эммануэль', 'аргумент', 'впп', 'уступка', 'дагэнерго', 'герлихман']\n",
            "25 ['купейный', 'бомбардировка', 'цэппа', 'май', 'авс', 'спасть', 'тусовка', 'отмачивать', 'коммерсантъ', 'шоа', 'кланишный', 'глагол', 'заключать', 'никзад', 'семенник', 'клуня', 'тестировать', 'гарбина', 'ретейлера', 'турбулентность']\n",
            "26 ['авиадвигатель', 'преставиться', 'каувеларт', 'бараев', 'коллегия', 'шереметьево', 'дворник', 'чихуахуа', 'шарлиз', 'концессионер', 'гюхта', 'лиссабонский', 'ампутация', 'мухарбек', 'шарлена', 'ювао', 'такеш', 'рейд', 'разрешаться', 'кайло']\n",
            "27 ['шиман', 'рособнадзор', 'велерий', 'рмг', 'сыщик', 'ухудшаться', 'висок', 'салонный', 'дэйль', 'вещный', 'отепя', 'окраска', 'донесение', 'кристиансунд', 'бахилы', 'амон', 'крушение', 'лой', 'андрушкевич', 'шарди']\n",
            "28 ['лоус', 'искоренить', 'махнуть', 'стать', 'бутенко', 'келантан', 'промсвязьбанк', 'крот', 'фукуда', 'хиршер', 'писарев', 'братунац', 'удушливый', 'удаляться', 'пгк', 'новоульяновский', 'этезов', 'врыть', 'мультипликатор', 'желательный']\n",
            "29 ['приуральский', 'евдокименко', 'линза', 'авм', 'неусвоенный', 'качать', 'петрик', 'репрессия', 'облсуд', 'проглянуть', 'госдолжность', 'плацебо', 'перегораживать', 'этнос', 'стерлинг', 'брисбена', 'канат', 'зыряновск', 'хромать', 'сдружество']\n",
            "30 ['верди', 'шишкарев', 'государственный', 'саентолог', 'тарек', 'корерктировка', 'джоркаефф', 'макака', 'эшба', 'пёс', 'малиновый', 'ласточка', 'ценить', 'переполох', 'пулена', 'мораль', 'буна', 'оснащать', 'сократеш', 'сулайман']\n",
            "31 ['катманду', 'стоянка', 'гофрата', 'умственный', 'очутиться', 'треуголка', 'хювенить', 'потратиться', 'родственник', 'широкоплечий', 'уилока', 'психология', 'решиться', 'руруа', 'эркин', 'растениевод', 'макларен', 'мелисбек', 'пюник', 'заявительница']\n",
            "32 ['уралхий', 'шарафутдин', 'луцык', 'визель', 'родничок', 'ихнева', 'урочище', 'аптечка', 'согра', 'обосновать', 'тиз', 'джовинко', 'романтизм', 'керстин', 'благоденствие', 'казарка', 'американка', 'пандитый', 'утонуть', 'киллер']\n",
            "33 ['пуликовский', 'талисман', 'гсм', 'каранджич', 'ткачук', 'выборг', 'пресс', 'смирение', 'игуменский', 'кентаваз', 'терпеливо', 'жуковка', 'ливанский', 'кислов', 'иммигрант', 'эббс', 'умирать', 'муляж', 'сальяны', 'столыпин']\n",
            "34 ['сдвинуть', 'фспр', 'гумпомощь', 'расписной', 'моррелла', 'альфред', 'отлов', 'хаджиабдич', 'автокредитование', 'авдеев', 'боллс', 'куркино', 'мгуп', 'берк', 'сайпулла', 'миндели', 'амадей', 'тулай', 'гринписа', 'сайхановый']\n",
            "35 ['посочувствовать', 'неприкосновенность', 'нильссон', 'компьютер', 'рурский', 'штоколов', 'неделимый', 'гармоничный', 'ананасовый', 'партия', 'бужинский', 'ссадить', 'симиндея', 'балеар', 'низамутдин', 'нельсон', 'нарофоминск', 'гаскойный', 'курышев', 'неясность']\n",
            "36 ['старожил', 'елисейский', 'есикац', 'фонтанный', 'нечипорчук', 'кандрев', 'западноафганский', 'истощаться', 'тантьема', 'походить', 'совфед', 'исакуловый', 'генделить', 'зверский', 'костюнин', 'мандевилль', 'зауэр', 'цвитомиро', 'месси', 'неявиться']\n",
            "37 ['радоваться', 'криммилиция', 'разрушение', 'узница', 'болгарка', 'похамб', 'епископ', 'вспугнуть', 'газовоздушный', 'малия', 'бордюрный', 'переквалифицировать', 'хлебопродукт', 'шанталь', 'слепченко', 'мэр', 'манас', 'находкинец', 'черногорск', 'сольный']\n",
            "38 ['фармацевтика', 'новицк', 'сасаэ', 'возрастить', 'наладка', 'зацикленный', 'реакторный', 'бушерсковать', 'переживание', 'преподавательский', 'дюнхаупт', 'мазь', 'непредвиденный', 'семечко', 'невостребованный', 'принесение', 'деталь', 'чонтаул', 'солнышко', 'антиправительственный']\n",
            "39 ['развратить', 'нгт', 'слишком', 'дорожник', 'невинно', 'никарагуанец', 'бавыкин', 'пацифист', 'настраивать', 'видеовключение', 'кизюный', 'капучиный', 'доналоговый', 'оправдание', 'профицитный', 'гауди', 'тропин', 'индонезиец', 'калининград', 'реликвия']\n",
            "40 ['чикановский', 'коллекционировать', 'аялоно', 'полигон', 'монетарный', 'замглавное', 'мсц', 'бочко', 'стругацкий', 'ладь', 'параметр', 'додон', 'акунин', 'мицуноб', 'ражукс', 'гасангаджиев', 'бережно', 'вселить', 'гидроузел', 'печенгский']\n",
            "41 ['тхиеном', 'вето', 'паб', 'нбк', 'нарушиться', 'ринофарингит', 'пэтриот', 'интерактивный', 'подпасть', 'облизбик', 'скулачев', 'флорбол', 'гурьев', 'склероз', 'ювао', 'уродливый', 'неистовый', 'отстранить', 'антикриминальный', 'аутгод']\n",
            "42 ['мулдсом', 'допвзнос', 'изживать', 'санаева', 'размышлять', 'выкатиться', 'делор', 'зангий', 'погранкорабль', 'московец', 'надлежать', 'ноябрь', 'восстать', 'росфиннадзор', 'бураковский', 'селекционировать', 'буйствовать', 'бруно', 'открепительный', 'халил']\n",
            "43 ['супермашина', 'фиксирование', 'винтерберг', 'ао', 'межведомственный', 'строгино', 'имиджева', 'алзамай', 'качели', 'янкиз', 'натотехнология', 'поменяться', 'тур', 'тжд', 'газокомпрессорный', 'подводный', 'сторонница', 'рам', 'объяснение', 'горе']\n",
            "44 ['компактность', 'дезорганизация', 'марсианин', 'еремич', 'запланированый', 'откос', 'ристич', 'приствольный', 'басра', 'магазин', 'безответственный', 'прерогатива', 'цезура', 'огнетушитель', 'зия', 'кубаньспас', 'развеселить', 'недоброжелатель', 'ряд', 'баррель']\n",
            "45 ['бедрик', 'признать', 'суперпредложение', 'гительман', 'черкизовский', 'исследователь', 'стодушный', 'ям', 'оппониц', 'роща', 'ногрекара', 'дневник', 'аэровокзальный', 'ногинский', 'браконьерский', 'росгазификация', 'фанатично', 'фейенорд', 'анджелина', 'опустошительный']\n",
            "46 ['туай', 'ижма', 'роллинг', 'возничий', 'гэк', 'котрый', 'кружалов', 'редактировать', 'малия', 'ражукас', 'локализовать', 'чоп', 'рубцовка', 'съехать', 'залечить', 'читук', 'значительно', 'коллапсировать', 'нобь', 'соллара']\n",
            "47 ['халкида', 'оськин', 'висячий', 'госэкзамен', 'гранулированный', 'кадриоргский', 'ананян', 'вытаскивать', 'лыко', 'кв', 'предлагаться', 'сухарев', 'моряк', 'эксперт', 'усложнить', 'клим', 'правомерный', 'помешать', 'обложение', 'замполпред']\n",
            "48 ['смерч', 'руление', 'ходатайствовать', 'адильгерей', 'развлечь', 'привести', 'клаудио', 'рация', 'алфеев', 'нунциатура', 'кампос', 'переметнуться', 'детдом', 'дедушка', 'рютеманный', 'рыбалкина', 'валаамский', 'сорбировать', 'волкогон', 'мамедкал']\n",
            "49 ['амром', 'бушарести', 'косых', 'токарь', 'трухин', 'металлоинвест', 'вьель', 'оттягивать', 'сокрытие', 'перевыборы', 'виткаускас', 'гамбашидзе', 'робинс', 'усложнить', 'радиотелефонист', 'материковый', 'ааний', 'дериглазов', 'россинь', 'заботиться']\n"
          ],
          "name": "stdout"
        }
      ]
    },
    {
      "cell_type": "code",
      "metadata": {
        "id": "p4UEZYlE550i",
        "colab_type": "code",
        "colab": {}
      },
      "source": [
        ""
      ],
      "execution_count": 0,
      "outputs": []
    },
    {
      "cell_type": "code",
      "metadata": {
        "id": "l3_GZLk6q5Nw",
        "colab_type": "code",
        "colab": {}
      },
      "source": [
        "torch.mm(torch.randn(2,3).to(device), torch.randn(3,2).to(device))"
      ],
      "execution_count": 0,
      "outputs": []
    },
    {
      "cell_type": "code",
      "metadata": {
        "id": "5ykhrOMXv2rU",
        "colab_type": "code",
        "outputId": "16161d5d-bb55-4af4-e0d3-f20303ec05a1",
        "colab": {
          "base_uri": "https://localhost:8080/",
          "height": 35
        }
      },
      "source": [
        "loss.shape"
      ],
      "execution_count": 0,
      "outputs": [
        {
          "output_type": "execute_result",
          "data": {
            "text/plain": [
              "torch.Size([1])"
            ]
          },
          "metadata": {
            "tags": []
          },
          "execution_count": 64
        }
      ]
    },
    {
      "cell_type": "code",
      "metadata": {
        "id": "QeRZjWxNv46I",
        "colab_type": "code",
        "outputId": "a3cd05d7-4b87-4ba9-8a9f-6f3bba039225",
        "colab": {
          "base_uri": "https://localhost:8080/",
          "height": 171
        }
      },
      "source": [
        "model"
      ],
      "execution_count": 0,
      "outputs": [
        {
          "output_type": "error",
          "ename": "NameError",
          "evalue": "ignored",
          "traceback": [
            "\u001b[0;31m---------------------------------------------------------------------------\u001b[0m",
            "\u001b[0;31mNameError\u001b[0m                                 Traceback (most recent call last)",
            "\u001b[0;32m<ipython-input-1-1f8a688cae5d>\u001b[0m in \u001b[0;36m<module>\u001b[0;34m()\u001b[0m\n\u001b[0;32m----> 1\u001b[0;31m \u001b[0mmodel\u001b[0m\u001b[0;34m\u001b[0m\u001b[0;34m\u001b[0m\u001b[0m\n\u001b[0m",
            "\u001b[0;31mNameError\u001b[0m: name 'model' is not defined"
          ]
        }
      ]
    },
    {
      "cell_type": "code",
      "metadata": {
        "id": "v41RgCP65kY_",
        "colab_type": "code",
        "outputId": "d6e1a70a-0b66-4444-af68-d78a63487042",
        "colab": {
          "base_uri": "https://localhost:8080/",
          "height": 35
        }
      },
      "source": [
        ""
      ],
      "execution_count": 0,
      "outputs": [
        {
          "output_type": "execute_result",
          "data": {
            "text/plain": [
              "device(type='cpu')"
            ]
          },
          "metadata": {
            "tags": []
          },
          "execution_count": 56
        }
      ]
    },
    {
      "cell_type": "code",
      "metadata": {
        "id": "_UQPizBgv1y6",
        "colab_type": "code",
        "colab": {}
      },
      "source": [
        "wv = torch.Tensor([data['word_init_vectors'][data['idx2word'][idx]] for idx in data['idx2word'].keys()])\n",
        "av = torch.Tensor(data['aspects_intial_vectors'])\n",
        "\n",
        "model = ABAE_model.ABAE(len(word2idx), aspects_num, emb_size)\n",
        "model.train()\n",
        "optimizer = torch.optim.Adam(list(model.parameters())+[model.a_embs, model.attention_M], )\n",
        "model.w_embs.weight.data = wv\n",
        "model.a_embs.data = av"
      ],
      "execution_count": 0,
      "outputs": []
    },
    {
      "cell_type": "code",
      "metadata": {
        "id": "R7JN7ZUbZAOC",
        "colab_type": "code",
        "colab": {}
      },
      "source": [
        "# init\n",
        "model = LanguageTransformer(lang.n_words, config['d_model'], config['nhead'], \n",
        "                            config['num_encoder_layers'],config['num_decoder_layers'],\n",
        "                            config['dim_feedforward'], lang.max_seq_length,\n",
        "                            config['pos_dropout'], config['trans_dropout'])\n",
        "for p in model.parameters():\n",
        "    if p.dim() > 1:\n",
        "        nn.init.xavier_normal_(p)\n",
        "\n",
        "wv = torch.Tensor([word_init_vectors[lang.index2word[idx]] for idx in lang.index2word.keys()])\n",
        "model.init_embeddings(wv)\n",
        "\n",
        "model.to(device)\n",
        "# optimizer = Adam(model.parameters(), lr=0.0001)\n",
        "# optimizer = Adam(model.parameters(), betas=(0.9, 0.98), eps=1e-09)\n",
        "optimizer = ScheduledOptim(\n",
        "    Adam(model.parameters(), betas=(0.9, 0.98), eps=1e-09),\n",
        "    config['d_model'], config['n_warmup_steps'])\n",
        "\n",
        "criterion = nn.CrossEntropyLoss(ignore_index=lang.word2index['PAD'])\n",
        "train_losses = []\n",
        "test_losses = []"
      ],
      "execution_count": 0,
      "outputs": []
    },
    {
      "cell_type": "code",
      "metadata": {
        "id": "sVSI7qYj0gds",
        "colab_type": "code",
        "outputId": "51cdfe3e-2237-4043-8d90-9bbcce624cd3",
        "colab": {
          "base_uri": "https://localhost:8080/",
          "height": 380
        }
      },
      "source": [
        "# train\n",
        "epochs = 5\n",
        "\n",
        "train_dataset = HeadlinesDataset(pairs[10000:], lang, batch_size=config['batch_size'])\n",
        "test_dataset  = HeadlinesDataset(pairs[:10000], lang, batch_size=config['batch_size'])\n",
        "\n",
        "for epoch_i in range(epochs):\n",
        "    train_loader = DataLoader(train_dataset, batch_size=1, shuffle=True, num_workers=0, pin_memory=True)\n",
        "    test_loader = DataLoader(test_dataset, batch_size=1, shuffle=True, num_workers=0, pin_memory=True)\n",
        "    \n",
        "    train_loss = 0\n",
        "    model.train()\n",
        "    for src, tgt, src_key_padding_mask, tgt_key_padding_mask in tqdm.tqdm(iter(train_loader)):\n",
        "    # for src, tgt, src_key_padding_mask, tgt_key_padding_mask in iter(train_loader):\n",
        "        src, src_key_padding_mask = src[0].to(device), src_key_padding_mask[0].to(device) # to device\n",
        "        tgt, tgt_key_padding_mask = tgt[0].to(device), tgt_key_padding_mask[0].to(device) # to device\n",
        "        memory_key_padding_mask = src_key_padding_mask.clone()\n",
        "        tgt_inp, tgt_out = tgt[:, :-1], tgt[:, 1:]\n",
        "        tgt_key_padding_mask_inp = tgt_key_padding_mask[:, :-1]\n",
        "        tgt_mask = gen_nopeek_mask(tgt_inp.shape[1]).to(device) # also to device\n",
        "\n",
        "        optimizer.zero_grad()\n",
        "        output = model(src, tgt_inp, src_key_padding_mask, tgt_key_padding_mask_inp, memory_key_padding_mask, tgt_mask)\n",
        "        loss = criterion(rearrange(output, 'b t v -> (b t) v'), rearrange(tgt_out, 'b o -> (b o)'))\n",
        "        loss.backward()\n",
        "        # optimizer.step()\n",
        "        optimizer.step_and_update_lr()\n",
        "        train_loss += loss.item()\n",
        "    train_losses.append((epoch_i, train_loss))\n",
        "\n",
        "\n",
        "    test_loss = 0\n",
        "    model.eval()\n",
        "    for src, tgt, src_key_padding_mask, tgt_key_padding_mask in tqdm.tqdm(iter(test_loader)):\n",
        "    # for src, tgt, src_key_padding_mask, tgt_key_padding_mask in iter(test_loader):\n",
        "        with torch.no_grad():\n",
        "            src, src_key_padding_mask = src[0].to(device), src_key_padding_mask[0].to(device) # to device\n",
        "            tgt, tgt_key_padding_mask = tgt[0].to(device), tgt_key_padding_mask[0].to(device) # to device\n",
        "            memory_key_padding_mask = src_key_padding_mask.clone()\n",
        "            tgt_inp, tgt_out = tgt[:, :-1], tgt[:, 1:]\n",
        "            tgt_key_padding_mask_inp = tgt_key_padding_mask[:, :-1]\n",
        "            tgt_mask = gen_nopeek_mask(tgt_inp.shape[1]).to(device) # also to device\n",
        "\n",
        "            output = model(src, tgt_inp, src_key_padding_mask, tgt_key_padding_mask_inp, memory_key_padding_mask, tgt_mask)\n",
        "            loss = criterion(rearrange(output, 'b t v -> (b t) v'), rearrange(tgt_out, 'b o -> (b o)'))\n",
        "            test_loss += loss.item()\n",
        "    test_losses.append((epoch_i, test_loss))\n",
        "\n",
        "    print(f\"\\nEpoch: {epoch_i} Train loss: {train_loss} Test loss: {test_loss}\")\n",
        "    # break"
      ],
      "execution_count": 0,
      "outputs": [
        {
          "output_type": "stream",
          "text": [
            "100%|██████████| 1405/1405 [06:17<00:00,  3.72it/s]\n",
            "100%|██████████| 156/156 [00:12<00:00, 12.88it/s]\n",
            "  0%|          | 0/1405 [00:00<?, ?it/s]"
          ],
          "name": "stderr"
        },
        {
          "output_type": "stream",
          "text": [
            "\n",
            "Epoch: 0 Train loss: 10611.232535362244 Test loss: 986.5451416969299\n"
          ],
          "name": "stdout"
        },
        {
          "output_type": "stream",
          "text": [
            "100%|██████████| 1405/1405 [06:18<00:00,  3.72it/s]\n",
            "100%|██████████| 156/156 [00:12<00:00, 12.88it/s]\n",
            "  0%|          | 0/1405 [00:00<?, ?it/s]"
          ],
          "name": "stderr"
        },
        {
          "output_type": "stream",
          "text": [
            "\n",
            "Epoch: 1 Train loss: 8149.675144672394 Test loss: 857.7570557594299\n"
          ],
          "name": "stdout"
        },
        {
          "output_type": "stream",
          "text": [
            "100%|██████████| 1405/1405 [06:17<00:00,  3.72it/s]\n",
            "100%|██████████| 156/156 [00:12<00:00, 12.90it/s]\n",
            "  0%|          | 0/1405 [00:00<?, ?it/s]"
          ],
          "name": "stderr"
        },
        {
          "output_type": "stream",
          "text": [
            "\n",
            "Epoch: 2 Train loss: 7432.41305065155 Test loss: 823.3761548995972\n"
          ],
          "name": "stdout"
        },
        {
          "output_type": "stream",
          "text": [
            "100%|██████████| 1405/1405 [06:17<00:00,  3.72it/s]\n",
            "100%|██████████| 156/156 [00:12<00:00, 12.89it/s]\n",
            "  0%|          | 0/1405 [00:00<?, ?it/s]"
          ],
          "name": "stderr"
        },
        {
          "output_type": "stream",
          "text": [
            "\n",
            "Epoch: 3 Train loss: 6986.497048377991 Test loss: 777.9100284576416\n"
          ],
          "name": "stdout"
        },
        {
          "output_type": "stream",
          "text": [
            "100%|██████████| 1405/1405 [06:17<00:00,  3.72it/s]\n",
            "100%|██████████| 156/156 [00:12<00:00, 12.89it/s]"
          ],
          "name": "stderr"
        },
        {
          "output_type": "stream",
          "text": [
            "\n",
            "Epoch: 4 Train loss: 6558.314278841019 Test loss: 756.6592841148376\n"
          ],
          "name": "stdout"
        },
        {
          "output_type": "stream",
          "text": [
            "\n"
          ],
          "name": "stderr"
        }
      ]
    },
    {
      "cell_type": "code",
      "metadata": {
        "id": "OFQdjoM9NB-s",
        "colab_type": "code",
        "outputId": "86bf198f-3f0e-45ae-91c3-b2480fac5948",
        "colab": {
          "base_uri": "https://localhost:8080/",
          "height": 53
        }
      },
      "source": [
        "print(train_losses)\n",
        "print(test_losses)"
      ],
      "execution_count": 0,
      "outputs": [
        {
          "output_type": "stream",
          "text": [
            "[(0, 10611.232535362244), (1, 8149.675144672394), (2, 7432.41305065155), (3, 6986.497048377991), (4, 6558.314278841019)]\n",
            "[(0, 986.5451416969299), (1, 857.7570557594299), (2, 823.3761548995972), (3, 777.9100284576416), (4, 756.6592841148376)]\n"
          ],
          "name": "stdout"
        }
      ]
    },
    {
      "cell_type": "markdown",
      "metadata": {
        "id": "O8iHopzfzCPd",
        "colab_type": "text"
      },
      "source": [
        "# Inference"
      ]
    },
    {
      "cell_type": "code",
      "metadata": {
        "id": "VJivaP2o8357",
        "colab_type": "code",
        "colab": {}
      },
      "source": [
        "src, tgt, src_key_padding_mask, tgt_key_padding_mask =  next(iter(test_loader))\n",
        "# print(src.shape)\n",
        "# print(tgt.shape)\n",
        "# print(src_key_padding_mask.shape)\n",
        "# print(tgt_key_padding_mask.shape)\n",
        "# print()\n",
        "\n",
        "text_i = 3\n",
        "src, src_key_padding_mask = src[0][text_i:text_i+1].to(device), src_key_padding_mask[0][text_i:text_i+1].to(device) # to device\n",
        "tgt, tgt_key_padding_mask = tgt[0][text_i:text_i+1].to(device), tgt_key_padding_mask[0][text_i:text_i+1].to(device) # to device\n",
        "# print(src.shape)\n",
        "# print(tgt.shape)\n",
        "# print(src_key_padding_mask.shape)\n",
        "# print(tgt_key_padding_mask.shape)\n",
        "\n",
        "\n",
        "def forced_inference(model, src, tgt, src_key_padding_mask, tgt_key_padding_mask):\n",
        "  # TODO: add accuracy / recall \n",
        "  memory_key_padding_mask = src_key_padding_mask.clone()  \n",
        "  tgt_inp, tgt_out = tgt[:, :-1], tgt[:, 1:]\n",
        "  tgt_key_padding_mask_inp = tgt_key_padding_mask[:, :-1]\n",
        "  tgt_mask = gen_nopeek_mask(tgt_inp.shape[1]).to(device) # also to device\n",
        "  # print(src.shape)\n",
        "  # print(tgt_inp.shape)\n",
        "  # print(tgt_out.shape)\n",
        "  # print(tgt_key_padding_mask_inp.shape)\n",
        "  # print(tgt_mask.shape)\n",
        "  # print()\n",
        "  output = model(src, tgt_inp, src_key_padding_mask, tgt_key_padding_mask_inp, memory_key_padding_mask, tgt_mask)\n",
        "  tokens = torch.argmax(output[0], axis=1)\n",
        "  return tokens\n",
        "\n",
        "def greedy_inference(model, src, tgt, src_key_padding_mask, tgt_key_padding_mask, lang):\n",
        "  memory_key_padding_mask = src_key_padding_mask.clone() \n",
        "  tgt_inp, tgt_out = tgt[:, :-1].clone().detach(), tgt[:, 1:].clone().detach()\n",
        "  tgt_key_padding_mask_inp = tgt_key_padding_mask[:, :-1]\n",
        "  tgt_mask = gen_nopeek_mask(tgt_inp.shape[1]).to(device) # also to device\n",
        "\n",
        "  tokens = [tgt_inp[0,0].item()]\n",
        "  tgt_inp_ = tgt_inp[:]\n",
        "  \n",
        "  for tgt_i in range(tgt.shape[1]-1):\n",
        "    tt = torch.Tensor(tokens)\n",
        "    tgt_inp_[:, :tt.shape[0]] = tt[:]\n",
        "    output = model(src, tgt_inp_, src_key_padding_mask, tgt_key_padding_mask_inp, memory_key_padding_mask, tgt_mask)\n",
        "    next_token = torch.argmax(output[0][tt.shape[0]+1]).item()\n",
        "    tokens.append(next_token)\n",
        "    if next_token == lang.word2index['EOS']:\n",
        "      break\n",
        "  return torch.Tensor(tokens[1:])\n",
        "\n",
        "def inference(model, src, tgt, src_key_padding_mask, tgt_key_padding_mask, lang, mode):\n",
        "  \"\"\"\n",
        "  src: Tensor [1, S]\n",
        "  tgt: Tensor [1, T]\n",
        "  modes: forced / greedy [/ beam search]\n",
        "  \"\"\"\n",
        "  model.eval()\n",
        "\n",
        "  if mode == \"forced\":\n",
        "    tokens = forced_inference(model, src, tgt, src_key_padding_mask, tgt_key_padding_mask)\n",
        "    \n",
        "  elif mode == \"greedy\":\n",
        "    tokens = greedy_inference(model, src, tgt, src_key_padding_mask, tgt_key_padding_mask, lang)\n",
        "\n",
        "  print(f\"Mode: {mode}\")\n",
        "  print(f'Source: {lang.tensor2text(src[0])}')\n",
        "  print(f'Target: {lang.tensor2text(tgt[0])}')\n",
        "  print(f'Generated: {lang.tensor2text(tokens)}')\n",
        "\n",
        "\n",
        "# inference(model, src, tgt, src_key_padding_mask, tgt_key_padding_mask, lang, 'forced')\n",
        "# inference(model, src, tgt, src_key_padding_mask, tgt_key_padding_mask, lang, 'greedy')"
      ],
      "execution_count": 0,
      "outputs": []
    },
    {
      "cell_type": "code",
      "metadata": {
        "id": "tAwc2C0qVeAK",
        "colab_type": "code",
        "outputId": "21894698-d5ca-4d5a-cf1f-7dcc7bab50c5",
        "colab": {
          "base_uri": "https://localhost:8080/",
          "height": 182
        }
      },
      "source": [
        "src, tgt, src_key_padding_mask, tgt_key_padding_mask =  next(iter(test_loader))\n",
        "\n",
        "text_i = 3\n",
        "src, src_key_padding_mask = src[0][text_i:text_i+1].to(device), src_key_padding_mask[0][text_i:text_i+1].to(device) # to device\n",
        "tgt, tgt_key_padding_mask = tgt[0][text_i:text_i+1].to(device), tgt_key_padding_mask[0][text_i:text_i+1].to(device) # to device\n",
        "\n",
        "inference(model, src, tgt, src_key_padding_mask, tgt_key_padding_mask, lang, 'forced')\n",
        "inference(model, src, tgt, src_key_padding_mask, tgt_key_padding_mask, lang, 'greedy')"
      ],
      "execution_count": 0,
      "outputs": [
        {
          "output_type": "stream",
          "text": [
            "Mode: forced\n",
            "Source: ['эколог', 'серебряный', 'бора', 'приглашать', 'москвич', 'окунуться', 'крещенский', 'ночь', 'самый', 'большой', 'прорубь', 'столица', 'размер', 'метр', 'сообщать', 'департамент', 'природопользование', 'охрана', 'окружающий', 'среда', 'город', 'PAD', 'PAD', 'PAD', 'PAD', 'PAD', 'PAD', 'PAD', 'PAD', 'PAD', 'PAD', 'PAD', 'PAD', 'PAD', 'PAD', 'PAD', 'PAD', 'PAD', 'PAD', 'PAD', 'PAD', 'PAD', 'PAD', 'PAD', 'PAD', 'PAD', 'PAD', 'PAD', 'PAD', 'PAD', 'PAD']\n",
            "Target: ['SOS', 'москвич', 'крещение', 'смочь', 'окунуться', 'самый', 'большой', 'прорубь', 'столица', 'EOS', 'PAD']\n",
            "Generated: ['эколог', 'жара', 'жара', 'вернуть', 'снег', 'холодный', 'город', 'москва', 'EOS', 'EOS']\n",
            "Mode: greedy\n",
            "Source: ['эколог', 'серебряный', 'бора', 'приглашать', 'москвич', 'окунуться', 'крещенский', 'ночь', 'самый', 'большой', 'прорубь', 'столица', 'размер', 'метр', 'сообщать', 'департамент', 'природопользование', 'охрана', 'окружающий', 'среда', 'город', 'PAD', 'PAD', 'PAD', 'PAD', 'PAD', 'PAD', 'PAD', 'PAD', 'PAD', 'PAD', 'PAD', 'PAD', 'PAD', 'PAD', 'PAD', 'PAD', 'PAD', 'PAD', 'PAD', 'PAD', 'PAD', 'PAD', 'PAD', 'PAD', 'PAD', 'PAD', 'PAD', 'PAD', 'PAD', 'PAD']\n",
            "Target: ['SOS', 'москвич', 'крещение', 'смочь', 'окунуться', 'самый', 'большой', 'прорубь', 'столица', 'EOS', 'PAD']\n",
            "Generated: ['жара', 'москвич', 'москва', 'холодный', 'город', 'снег', 'EOS']\n"
          ],
          "name": "stdout"
        }
      ]
    },
    {
      "cell_type": "code",
      "metadata": {
        "id": "3JaS9PPVKg6I",
        "colab_type": "code",
        "outputId": "ff8c25fb-6ae6-4582-966c-61f05f74da87",
        "colab": {
          "base_uri": "https://localhost:8080/",
          "height": 182
        }
      },
      "source": [
        "src, tgt, src_key_padding_mask, tgt_key_padding_mask =  next(iter(train_loader))\n",
        "\n",
        "text_i = 3\n",
        "src, src_key_padding_mask = src[0][text_i:text_i+1].to(device), src_key_padding_mask[0][text_i:text_i+1].to(device) # to device\n",
        "tgt, tgt_key_padding_mask = tgt[0][text_i:text_i+1].to(device), tgt_key_padding_mask[0][text_i:text_i+1].to(device) # to device\n",
        "\n",
        "inference(model, src, tgt, src_key_padding_mask, tgt_key_padding_mask, lang, 'forced')\n",
        "inference(model, src, tgt, src_key_padding_mask, tgt_key_padding_mask, lang, 'greedy')"
      ],
      "execution_count": 0,
      "outputs": [
        {
          "output_type": "stream",
          "text": [
            "Mode: forced\n",
            "Source: ['траулер', 'заниматься', 'промысл', 'рыба', 'часто', 'становиться', 'причина', 'гибель', 'дельфин', 'обитать', 'средиземный', 'мор', 'побережье', 'израиль', 'сообщать', 'университет', 'хайфа', 'PAD', 'PAD', 'PAD', 'PAD', 'PAD', 'PAD', 'PAD', 'PAD', 'PAD', 'PAD', 'PAD', 'PAD', 'PAD', 'PAD', 'PAD']\n",
            "Target: ['SOS', 'рыболовство', 'средиземный', 'мор', 'угрожать', 'популяция', 'дельфин', 'EOS', 'PAD', 'PAD', 'PAD']\n",
            "Generated: ['причина', 'причина', 'мор', 'привести', 'гибель', 'мор', 'EOS', 'EOS', 'EOS', 'EOS']\n",
            "Mode: greedy\n",
            "Source: ['траулер', 'заниматься', 'промысл', 'рыба', 'часто', 'становиться', 'причина', 'гибель', 'дельфин', 'обитать', 'средиземный', 'мор', 'побережье', 'израиль', 'сообщать', 'университет', 'хайфа', 'PAD', 'PAD', 'PAD', 'PAD', 'PAD', 'PAD', 'PAD', 'PAD', 'PAD', 'PAD', 'PAD', 'PAD', 'PAD', 'PAD', 'PAD']\n",
            "Target: ['SOS', 'рыболовство', 'средиземный', 'мор', 'угрожать', 'популяция', 'дельфин', 'EOS', 'PAD', 'PAD', 'PAD']\n",
            "Generated: ['мор', 'привести', 'гибель', 'мор', 'EOS']\n"
          ],
          "name": "stdout"
        }
      ]
    },
    {
      "cell_type": "code",
      "metadata": {
        "id": "Dmjdij1wKhCV",
        "colab_type": "code",
        "colab": {}
      },
      "source": [
        ""
      ],
      "execution_count": 0,
      "outputs": []
    },
    {
      "cell_type": "code",
      "metadata": {
        "id": "QMZ-3RmlVc6x",
        "colab_type": "code",
        "colab": {}
      },
      "source": [
        ""
      ],
      "execution_count": 0,
      "outputs": []
    },
    {
      "cell_type": "code",
      "metadata": {
        "id": "oeMGFrfczXBd",
        "colab_type": "code",
        "outputId": "d2e8ab62-4ba6-4612-a284-2d662163356c",
        "colab": {
          "base_uri": "https://localhost:8080/",
          "height": 181
        }
      },
      "source": [
        "# failed sanity check\n",
        "\n",
        "src, tgt, src_key_padding_mask, tgt_key_padding_mask =  next(iter(train_loader))\n",
        "text_i = 3\n",
        "src, src_key_padding_mask = src[0][text_i:text_i+1].to(device), src_key_padding_mask[0][text_i:text_i+1].to(device) # to device\n",
        "tgt, tgt_key_padding_mask = tgt[0][text_i:text_i+1].to(device), tgt_key_padding_mask[0][text_i:text_i+1].to(device) # to device\n",
        "\n",
        "tgt_inp, tgt_out = tgt[:, :-1], tgt[:, 1:]\n",
        "tgt_key_padding_mask_inp = tgt_key_padding_mask[:, :-1]\n",
        "tgt_mask = gen_nopeek_mask(tgt_inp.shape[1]).to(device) # also to device\n",
        "print(src.shape)\n",
        "print(tgt_inp.shape)\n",
        "print(tgt_out.shape)\n",
        "print(tgt_key_padding_mask_inp.shape)\n",
        "print(tgt_mask.shape)\n",
        "print()\n",
        "\n",
        "# tgt_key_padding_mask_inp = torch.Tensor([[False]+[True]*(tgt_inp.shape[1]-1)]).bool().to(device)\n",
        "model.eval()\n",
        "tgt_mask[:, 1:] = tgt_mask[0, 1] # sanity check\n",
        "output = model(src, tgt_inp, src_key_padding_mask, tgt_key_padding_mask_inp, memory_key_padding_mask, tgt_mask)\n",
        "print(output.shape)\n",
        "print(output[0, :, 9]) # they should be same"
      ],
      "execution_count": 0,
      "outputs": [
        {
          "output_type": "stream",
          "text": [
            "torch.Size([1, 39])\n",
            "torch.Size([1, 10])\n",
            "torch.Size([1, 10])\n",
            "torch.Size([1, 10])\n",
            "torch.Size([10, 10])\n",
            "\n",
            "torch.Size([1, 10, 55964])\n",
            "tensor([1.6116, 1.7882, 1.5525, 2.7367, 1.1095, 1.6610, 1.4240, 1.8079, 1.9798,\n",
            "        1.9811], device='cuda:0', grad_fn=<SelectBackward>)\n"
          ],
          "name": "stdout"
        }
      ]
    },
    {
      "cell_type": "code",
      "metadata": {
        "id": "TAaTFU_ENoVu",
        "colab_type": "code",
        "outputId": "545811f1-979d-4fab-c8d1-f88758b514eb",
        "colab": {
          "base_uri": "https://localhost:8080/",
          "height": 53
        }
      },
      "source": [
        ""
      ],
      "execution_count": 0,
      "outputs": [
        {
          "output_type": "execute_result",
          "data": {
            "text/plain": [
              "tensor([[2253,  150,  860,  689,  705,  835, 1093, 1728,    1,    2]],\n",
              "       device='cuda:0')"
            ]
          },
          "metadata": {
            "tags": []
          },
          "execution_count": 42
        }
      ]
    },
    {
      "cell_type": "code",
      "metadata": {
        "id": "ET5qGZpDN7Wt",
        "colab_type": "code",
        "outputId": "3d9a1580-73b6-4101-e2cb-5c45e1cad7da",
        "colab": {
          "base_uri": "https://localhost:8080/",
          "height": 162
        }
      },
      "source": [
        "output = model(src, tgt_inp, src_key_padding_mask, tgt_key_padding_mask_inp, memory_key_padding_mask, tgt_mask)\n",
        "print(output)"
      ],
      "execution_count": 0,
      "outputs": [
        {
          "output_type": "stream",
          "text": [
            "tensor([[[-7.4522,  0.5211, -7.4363,  ..., -7.5318, -7.4330, -7.4693],\n",
            "         [-7.1339,  0.4152, -7.1078,  ..., -7.2298, -7.0972, -7.1576],\n",
            "         [-7.6243,  0.6096, -7.5907,  ..., -7.7260, -7.6079, -7.6481],\n",
            "         ...,\n",
            "         [-7.4810,  0.6389, -7.4677,  ..., -7.6108, -7.4503, -7.5029],\n",
            "         [-7.5305,  0.7622, -7.4795,  ..., -7.6175, -7.4777, -7.5463],\n",
            "         [-7.6285,  0.4827, -7.5915,  ..., -7.7473, -7.6052, -7.6280]]],\n",
            "       device='cuda:0', grad_fn=<AddBackward0>)\n"
          ],
          "name": "stdout"
        }
      ]
    },
    {
      "cell_type": "code",
      "metadata": {
        "id": "y8FiTkKpzLiQ",
        "colab_type": "code",
        "outputId": "985523e9-5d5c-4065-9911-80c73d8fb199",
        "colab": {
          "base_uri": "https://localhost:8080/",
          "height": 108
        }
      },
      "source": [
        "print(tgt_inp)\n",
        "print(tgt_key_padding_mask_inp)\n",
        "print()"
      ],
      "execution_count": 0,
      "outputs": [
        {
          "output_type": "stream",
          "text": [
            "tensor([[   0, 2253,  150,  860,  689,  705,  835, 1093, 1728,    1]],\n",
            "       device='cuda:0')\n",
            "tensor([[False, False, False, False, False, False, False, False, False, False]],\n",
            "       device='cuda:0')\n",
            "tensor([[False,  True,  True,  True,  True,  True,  True,  True,  True,  True]])\n"
          ],
          "name": "stdout"
        }
      ]
    },
    {
      "cell_type": "code",
      "metadata": {
        "id": "fld_JsGDzR84",
        "colab_type": "code",
        "colab": {}
      },
      "source": [
        "\n",
        "loss = criterion(rearrange(output, 'b t v -> (b t) v'), rearrange(tgt_out, 'b o -> (b o)'))"
      ],
      "execution_count": 0,
      "outputs": []
    },
    {
      "cell_type": "code",
      "metadata": {
        "id": "EqhVe5f084Gj",
        "colab_type": "code",
        "colab": {}
      },
      "source": [
        "# inference\n",
        "\n",
        "\n",
        "src, tgt, src_key_padding_mask, tgt_key_padding_mask =  next(iter(test_loader))\n",
        "print(src)\n",
        "print(tgt)\n",
        "print(src_key_padding_mask)\n",
        "print(tgt_key_padding_mask)"
      ],
      "execution_count": 0,
      "outputs": []
    },
    {
      "cell_type": "code",
      "metadata": {
        "id": "WAOvRJG184Cp",
        "colab_type": "code",
        "colab": {}
      },
      "source": [
        ""
      ],
      "execution_count": 0,
      "outputs": []
    },
    {
      "cell_type": "code",
      "metadata": {
        "id": "eI-3Spl-0gls",
        "colab_type": "code",
        "colab": {}
      },
      "source": [
        ""
      ],
      "execution_count": 0,
      "outputs": []
    },
    {
      "cell_type": "code",
      "metadata": {
        "id": "nRDpuv3ezUT_",
        "colab_type": "code",
        "colab": {}
      },
      "source": [
        ""
      ],
      "execution_count": 0,
      "outputs": []
    },
    {
      "cell_type": "code",
      "metadata": {
        "id": "5MYZdOtCzUoi",
        "colab_type": "code",
        "colab": {}
      },
      "source": [
        ""
      ],
      "execution_count": 0,
      "outputs": []
    },
    {
      "cell_type": "code",
      "metadata": {
        "id": "MCJHC_udqSww",
        "colab_type": "code",
        "outputId": "0590fa2f-b2c3-485a-c32d-ae674d898949",
        "colab": {
          "base_uri": "https://localhost:8080/",
          "height": 243
        }
      },
      "source": [
        "src_, src_key_padding_mask_ = src[0].to(device), src_key_padding_mask[0].to(device)\n",
        "tgt_, tgt_key_padding_mask_ = tgt[0].to(device), tgt_key_padding_mask[0].to(device)\n",
        "memory_key_padding_mask = src_key_padding_mask_.clone()\n",
        "tgt_inp, tgt_out = tgt_[:, :-1], tgt_[:, 1:]\n",
        "tgt_key_padding_mask_inp = tgt_key_padding_mask_[:, :-1]\n",
        "tgt_mask = gen_nopeek_mask(tgt_inp.shape[1]).to(device)"
      ],
      "execution_count": 0,
      "outputs": [
        {
          "output_type": "error",
          "ename": "IndexError",
          "evalue": "ignored",
          "traceback": [
            "\u001b[0;31m---------------------------------------------------------------------------\u001b[0m",
            "\u001b[0;31mIndexError\u001b[0m                                Traceback (most recent call last)",
            "\u001b[0;32m<ipython-input-13-77ac83874694>\u001b[0m in \u001b[0;36m<module>\u001b[0;34m()\u001b[0m\n\u001b[1;32m      2\u001b[0m \u001b[0mtgt_\u001b[0m\u001b[0;34m,\u001b[0m \u001b[0mtgt_key_padding_mask_\u001b[0m \u001b[0;34m=\u001b[0m \u001b[0mtgt\u001b[0m\u001b[0;34m[\u001b[0m\u001b[0;36m0\u001b[0m\u001b[0;34m]\u001b[0m\u001b[0;34m.\u001b[0m\u001b[0mto\u001b[0m\u001b[0;34m(\u001b[0m\u001b[0mdevice\u001b[0m\u001b[0;34m)\u001b[0m\u001b[0;34m,\u001b[0m \u001b[0mtgt_key_padding_mask\u001b[0m\u001b[0;34m[\u001b[0m\u001b[0;36m0\u001b[0m\u001b[0;34m]\u001b[0m\u001b[0;34m.\u001b[0m\u001b[0mto\u001b[0m\u001b[0;34m(\u001b[0m\u001b[0mdevice\u001b[0m\u001b[0;34m)\u001b[0m\u001b[0;34m\u001b[0m\u001b[0;34m\u001b[0m\u001b[0m\n\u001b[1;32m      3\u001b[0m \u001b[0mmemory_key_padding_mask\u001b[0m \u001b[0;34m=\u001b[0m \u001b[0msrc_key_padding_mask_\u001b[0m\u001b[0;34m.\u001b[0m\u001b[0mclone\u001b[0m\u001b[0;34m(\u001b[0m\u001b[0;34m)\u001b[0m\u001b[0;34m\u001b[0m\u001b[0;34m\u001b[0m\u001b[0m\n\u001b[0;32m----> 4\u001b[0;31m \u001b[0mtgt_inp\u001b[0m\u001b[0;34m,\u001b[0m \u001b[0mtgt_out\u001b[0m \u001b[0;34m=\u001b[0m \u001b[0mtgt_\u001b[0m\u001b[0;34m[\u001b[0m\u001b[0;34m:\u001b[0m\u001b[0;34m,\u001b[0m \u001b[0;34m:\u001b[0m\u001b[0;34m-\u001b[0m\u001b[0;36m1\u001b[0m\u001b[0;34m]\u001b[0m\u001b[0;34m,\u001b[0m \u001b[0mtgt_\u001b[0m\u001b[0;34m[\u001b[0m\u001b[0;34m:\u001b[0m\u001b[0;34m,\u001b[0m \u001b[0;36m1\u001b[0m\u001b[0;34m:\u001b[0m\u001b[0;34m]\u001b[0m\u001b[0;34m\u001b[0m\u001b[0;34m\u001b[0m\u001b[0m\n\u001b[0m\u001b[1;32m      5\u001b[0m \u001b[0mtgt_key_padding_mask_inp\u001b[0m \u001b[0;34m=\u001b[0m \u001b[0mtgt_key_padding_mask_\u001b[0m\u001b[0;34m[\u001b[0m\u001b[0;34m:\u001b[0m\u001b[0;34m,\u001b[0m \u001b[0;34m:\u001b[0m\u001b[0;34m-\u001b[0m\u001b[0;36m1\u001b[0m\u001b[0;34m]\u001b[0m\u001b[0;34m\u001b[0m\u001b[0;34m\u001b[0m\u001b[0m\n\u001b[1;32m      6\u001b[0m \u001b[0mtgt_mask\u001b[0m \u001b[0;34m=\u001b[0m \u001b[0mgen_nopeek_mask\u001b[0m\u001b[0;34m(\u001b[0m\u001b[0mtgt_inp\u001b[0m\u001b[0;34m.\u001b[0m\u001b[0mshape\u001b[0m\u001b[0;34m[\u001b[0m\u001b[0;36m1\u001b[0m\u001b[0;34m]\u001b[0m\u001b[0;34m)\u001b[0m\u001b[0;34m.\u001b[0m\u001b[0mto\u001b[0m\u001b[0;34m(\u001b[0m\u001b[0mdevice\u001b[0m\u001b[0;34m)\u001b[0m\u001b[0;34m\u001b[0m\u001b[0;34m\u001b[0m\u001b[0m\n",
            "\u001b[0;31mIndexError\u001b[0m: too many indices for tensor of dimension 1"
          ]
        }
      ]
    },
    {
      "cell_type": "code",
      "metadata": {
        "id": "wvaPZRRvuOg6",
        "colab_type": "code",
        "colab": {}
      },
      "source": [
        "print(tgt_key_padding_mask_.shape)\n",
        "print(src_.shape)\n",
        "print(tgt_inp.shape)\n",
        "print(src_key_padding_mask_.shape)\n",
        "print(memory_key_padding_mask.shape)\n",
        "print(tgt_mask.shape)"
      ],
      "execution_count": 0,
      "outputs": []
    },
    {
      "cell_type": "code",
      "metadata": {
        "id": "Mlsp_16Etdii",
        "colab_type": "code",
        "colab": {}
      },
      "source": [
        "output = model(src_, tgt_inp, src_key_padding_mask_, tgt_key_padding_mask_inp, memory_key_padding_mask, tgt_mask)"
      ],
      "execution_count": 0,
      "outputs": []
    },
    {
      "cell_type": "code",
      "metadata": {
        "id": "mTX_erk1t2WD",
        "colab_type": "code",
        "colab": {}
      },
      "source": [
        " torch.isnan(output).any()"
      ],
      "execution_count": 0,
      "outputs": []
    },
    {
      "cell_type": "code",
      "metadata": {
        "id": "b5_9Agftv8Vz",
        "colab_type": "code",
        "colab": {}
      },
      "source": [
        "src_.shape"
      ],
      "execution_count": 0,
      "outputs": []
    },
    {
      "cell_type": "code",
      "metadata": {
        "id": "qbyDvyKzwQyR",
        "colab_type": "code",
        "colab": {}
      },
      "source": [
        "src_[0][0]"
      ],
      "execution_count": 0,
      "outputs": []
    },
    {
      "cell_type": "code",
      "metadata": {
        "id": "xwtgvBOdw6Ft",
        "colab_type": "code",
        "colab": {}
      },
      "source": [
        "src[0][9]"
      ],
      "execution_count": 0,
      "outputs": []
    },
    {
      "cell_type": "code",
      "metadata": {
        "id": "ddF9kC1Uw0B9",
        "colab_type": "code",
        "colab": {}
      },
      "source": [
        "lang.tensor2text(tgt[0][9])"
      ],
      "execution_count": 0,
      "outputs": []
    },
    {
      "cell_type": "code",
      "metadata": {
        "id": "Wd-JydO0vuCn",
        "colab_type": "code",
        "colab": {}
      },
      "source": [
        "for row_i in range(src_.shape[0]):\n",
        "  print(row_i, src_[row_i][1])"
      ],
      "execution_count": 0,
      "outputs": []
    },
    {
      "cell_type": "code",
      "metadata": {
        "id": "CEKnVJ-fp6Eh",
        "colab_type": "code",
        "colab": {}
      },
      "source": [
        "src, src_key_padding_mask = src[0].to(device), src_key_padding_mask[0].to(device) # to device\n",
        "tgt, tgt_key_padding_mask = tgt[0].to(device), tgt_key_padding_mask[0].to(device) # to device\n",
        "memory_key_padding_mask = src_key_padding_mask.clone()\n",
        "tgt_inp, tgt_out = tgt[:, :-1], tgt[:, 1:]\n",
        "tgt_key_padding_mask_inp = tgt_key_padding_mask[:, :-1]\n",
        "tgt_mask = gen_nopeek_mask(tgt_inp.shape[1]).to(device) # also to device\n",
        "\n",
        "optimizer.zero_grad()\n",
        "output = model(src, tgt_inp, src_key_padding_mask, tgt_key_padding_mask_inp, memory_key_padding_mask, tgt_mask)\n",
        "loss = criterion(rearrange(output, 'b t v -> (b t) v'), rearrange(tgt_out, 'b o -> (b o)'))\n",
        "loss.backward()\n",
        "optimizer.step()\n",
        "train_loss += loss.item()"
      ],
      "execution_count": 0,
      "outputs": []
    },
    {
      "cell_type": "code",
      "metadata": {
        "id": "MiETl8cebCGq",
        "colab_type": "code",
        "colab": {}
      },
      "source": [
        "output = model(src, tgt_inp, src_key_padding_mask, tgt_key_padding_mask_inp, memory_key_padding_mask, tgt_mask)\n",
        "criterion(rearrange(output, 'b t v -> (b t) v'), rearrange(tgt_out, 'b o -> (b o)'))"
      ],
      "execution_count": 0,
      "outputs": []
    },
    {
      "cell_type": "code",
      "metadata": {
        "id": "QrOG2X88b8XL",
        "colab_type": "code",
        "colab": {}
      },
      "source": [
        "src_ = src.permute(1, 0)\n",
        "tgt_ = tgt_inp.permute(1, 0)\n",
        "# src_ = model.pos_enc(model.embed_src(src_) * math.sqrt(model.d_model)) # why every time multiply? just init it somewhere\n",
        "# tgt_ = model.pos_enc(model.embed_tgt(tgt_) * math.sqrt(model.d_model))"
      ],
      "execution_count": 0,
      "outputs": []
    },
    {
      "cell_type": "code",
      "metadata": {
        "id": "vMlRQSWTcT7p",
        "colab_type": "code",
        "colab": {}
      },
      "source": [
        "src_[:, 0].unsqueeze(0)"
      ],
      "execution_count": 0,
      "outputs": []
    },
    {
      "cell_type": "code",
      "metadata": {
        "id": "KZd99ArrcC57",
        "colab_type": "code",
        "colab": {}
      },
      "source": [
        "print(model.embed_src(src_[:, 0].unsqueeze(0)))"
      ],
      "execution_count": 0,
      "outputs": []
    },
    {
      "cell_type": "code",
      "metadata": {
        "id": "8ei_HEKSelPz",
        "colab_type": "code",
        "colab": {}
      },
      "source": [
        "model.embed_src(torch.Tensor([[lang.word2index['PAD']]]).long().to(device) )"
      ],
      "execution_count": 0,
      "outputs": []
    },
    {
      "cell_type": "code",
      "metadata": {
        "id": "8UklVda-bndB",
        "colab_type": "code",
        "colab": {}
      },
      "source": [
        "\n",
        "\n",
        "output = self.transformer(src, tgt, tgt_mask=tgt_mask, src_key_padding_mask=src_key_padding_mask,\n",
        "                          tgt_key_padding_mask=tgt_key_padding_mask, memory_key_padding_mask=memory_key_padding_mask)\n",
        "output = output.permute(1, 0, 2)\n",
        "return self.fc(output)"
      ],
      "execution_count": 0,
      "outputs": []
    },
    {
      "cell_type": "code",
      "metadata": {
        "id": "03qw5a46bieg",
        "colab_type": "code",
        "colab": {}
      },
      "source": [
        "output"
      ],
      "execution_count": 0,
      "outputs": []
    },
    {
      "cell_type": "code",
      "metadata": {
        "id": "bcwjAlMA1y7Y",
        "colab_type": "code",
        "colab": {}
      },
      "source": [
        "\n",
        "global_embeddings = nn.Embedding(lang.n_words, config['d_model'])\n",
        "wv = torch.Tensor([word_init_vectors[lang.index2word[idx]] for idx in lang.index2word.keys()])\n",
        "global_embeddings.weight.data = wv\n",
        "\n",
        "\n",
        "criterion = nn.CrossEntropyLoss(ignore_index=lang.word2index['PAD'])\n",
        "\n",
        "d_model = config['d_model']\n",
        "pos_dropout = config['pos_dropout']\n",
        "nhead = config['nhead']\n",
        "num_encoder_layers = config['num_encoder_layers']\n",
        "num_decoder_layers = config['num_decoder_layers']\n",
        "dim_feedforward = config['dim_feedforward']\n",
        "trans_dropout = config['trans_dropout']\n",
        "\n",
        "\n",
        "\n",
        "embed_src = global_embeddings\n",
        "embed_tgt = global_embeddings\n",
        "pos_enc = PositionalEncoding(d_model, pos_dropout, lang.max_seq_length)\n",
        "transformer = nn.Transformer(d_model, nhead, num_encoder_layers, num_decoder_layers, dim_feedforward, trans_dropout)\n",
        "fc = nn.Linear(d_model, lang.n_words)"
      ],
      "execution_count": 0,
      "outputs": []
    },
    {
      "cell_type": "code",
      "metadata": {
        "id": "ZHYTLN6Q55Bd",
        "colab_type": "code",
        "colab": {}
      },
      "source": [
        "src, tgt, src_key_padding_mask, tgt_key_padding_mask =  next(iter(train_loader))\n",
        "src, src_key_padding_mask = src[0], src_key_padding_mask[0].to(device) # to device\n",
        "tgt, tgt_key_padding_mask = tgt[0], tgt_key_padding_mask[0].to(device) # to device\n",
        "memory_key_padding_mask = src_key_padding_mask.clone()\n",
        "tgt_inp, tgt_out = tgt[:, :-1], tgt[:, 1:]\n",
        "tgt_key_padding_mask_inp = tgt_key_padding_mask[:, :-1]\n",
        "tgt_mask = gen_nopeek_mask(tgt_inp.shape[1]).to(device) # also to device\n",
        "\n",
        "print(src.shape)\n",
        "print(tgt.shape)\n",
        "print(src_key_padding_mask.shape)\n",
        "print(tgt_key_padding_mask.shape)\n",
        "print(tgt_inp.shape)\n",
        "print(tgt_out.shape)\n",
        "print(tgt_mask.shape)"
      ],
      "execution_count": 0,
      "outputs": []
    },
    {
      "cell_type": "code",
      "metadata": {
        "id": "BGmF1vKh7dCT",
        "colab_type": "code",
        "colab": {}
      },
      "source": [
        "src = src.permute(1, 0)\n",
        "tgt_inp = tgt_inp.permute(1, 0)\n",
        "src = pos_enc(embed_src(src) * math.sqrt(d_model))\n",
        "tgt_inp = pos_enc(embed_tgt(tgt_inp) * math.sqrt(d_model))"
      ],
      "execution_count": 0,
      "outputs": []
    },
    {
      "cell_type": "code",
      "metadata": {
        "id": "f1ovGU5J90GA",
        "colab_type": "code",
        "colab": {}
      },
      "source": [
        "print(src.shape, tgt_inp.shape)"
      ],
      "execution_count": 0,
      "outputs": []
    },
    {
      "cell_type": "code",
      "metadata": {
        "id": "xtXVOdxY-lfP",
        "colab_type": "code",
        "colab": {}
      },
      "source": [
        "print(src.shape)\n",
        "print(tgt_inp.shape)\n",
        "print(tgt_mask.shape)\n",
        "print(src_key_padding_mask.shape)\n",
        "print(tgt_key_padding_mask_inp.shape)\n",
        "print(memory_key_padding_mask.shape)"
      ],
      "execution_count": 0,
      "outputs": []
    },
    {
      "cell_type": "code",
      "metadata": {
        "id": "It8h9lga3Pii",
        "colab_type": "code",
        "colab": {}
      },
      "source": [
        "output = transformer(src, tgt_inp, tgt_mask=tgt_mask, src_key_padding_mask=src_key_padding_mask,\n",
        "                          tgt_key_padding_mask=tgt_key_padding_mask_inp, memory_key_padding_mask=memory_key_padding_mask)\n",
        "output = output.permute(1, 0, 2)\n",
        "output = fc(output)"
      ],
      "execution_count": 0,
      "outputs": []
    },
    {
      "cell_type": "code",
      "metadata": {
        "id": "L0-s6h7X9te1",
        "colab_type": "code",
        "colab": {}
      },
      "source": [
        "loss = criterion(rearrange(output, 'b t v -> (b t) v'), rearrange(tgt_out, 'b o -> (b o)'))"
      ],
      "execution_count": 0,
      "outputs": []
    },
    {
      "cell_type": "code",
      "metadata": {
        "id": "a_5b9bxKAJSN",
        "colab_type": "code",
        "colab": {}
      },
      "source": [
        ""
      ],
      "execution_count": 0,
      "outputs": []
    },
    {
      "cell_type": "code",
      "metadata": {
        "id": "C0LtWb5iW1A8",
        "colab_type": "code",
        "colab": {}
      },
      "source": [
        "import math\n",
        "\n",
        "import torch\n",
        "from torch import nn\n",
        "\n",
        "\n",
        "class LanguageTransformer(nn.Module):\n",
        "    def __init__(self, vocab_size, d_model, nhead, num_encoder_layers, num_decoder_layers, dim_feedforward, max_seq_length, pos_dropout, trans_dropout):\n",
        "        super().__init__()\n",
        "        self.d_model = d_model\n",
        "        self.embed_src = nn.Embedding(vocab_size, d_model)\n",
        "        self.embed_tgt = nn.Embedding(vocab_size, d_model)\n",
        "        self.pos_enc = PositionalEncoding(d_model, pos_dropout, max_seq_length)\n",
        "\n",
        "        self.transformer = nn.Transformer(d_model, nhead, num_encoder_layers, num_decoder_layers, dim_feedforward, trans_dropout)\n",
        "        self.fc = nn.Linear(d_model, vocab_size)\n",
        "\n",
        "    def forward(self, src, tgt, src_key_padding_mask, tgt_key_padding_mask, memory_key_padding_mask, tgt_mask):\n",
        "        # src = rearrange(src, 'n s -> s n')\n",
        "        src = src.permute(1, 0)\n",
        "        # tgt = rearrange(tgt, 'n t -> t n')\n",
        "        tgt = tgt.permute(1, 0)\n",
        "        src = self.pos_enc(self.embed_src(src) * math.sqrt(self.d_model)) # why every time multiply? just init it somewhere\n",
        "        tgt = self.pos_enc(self.embed_tgt(tgt) * math.sqrt(self.d_model))\n",
        "\n",
        "        output = self.transformer(src, tgt, tgt_mask=tgt_mask, src_key_padding_mask=src_key_padding_mask,\n",
        "                                  tgt_key_padding_mask=tgt_key_padding_mask, memory_key_padding_mask=memory_key_padding_mask)\n",
        "        # output = rearrange(output, 't n e -> n t e')\n",
        "        output = output.permute(1, 0, 2)\n",
        "        return self.fc(output)"
      ],
      "execution_count": 0,
      "outputs": []
    },
    {
      "cell_type": "code",
      "metadata": {
        "id": "Unw4BYAFZAVX",
        "colab_type": "code",
        "colab": {}
      },
      "source": [
        "        total_step += 1\n",
        "\n",
        "        src, src_key_padding_mask = src[0].to('cuda'), src_key_padding_mask[0].to('cuda')\n",
        "        tgt, tgt_key_padding_mask = tgt[0].to('cuda'), tgt_key_padding_mask[0].to('cuda')\n",
        "\n",
        "        memory_key_padding_mask = src_key_padding_mask.clone()\n",
        "        tgt_inp, tgt_out = tgt[:, :-1], tgt[:, 1:]\n",
        "        tgt_mask = gen_nopeek_mask(tgt_inp.shape[1]).to('cuda')\n",
        "\n",
        "        optim.zero_grad()\n",
        "        outputs = model(src, tgt_inp, src_key_padding_mask, tgt_key_padding_mask[:, :-1], memory_key_padding_mask, tgt_mask)\n",
        "        loss = criterion(rearrange(outputs, 'b t v -> (b t) v'), rearrange(tgt_out, 'b o -> (b o)'))\n",
        "\n",
        "        loss.backward()\n",
        "        optim.step_and_update_lr()\n",
        "\n",
        "        total_loss += loss.item()\n",
        "        train_losses.append((step, loss.item()))\n",
        "        pbar.update(1)\n",
        "        if step % print_every == print_every - 1:\n",
        "            pbar.close()\n",
        "            print(f'Epoch [{epoch + 1} / {num_epochs}] \\t Step [{step + 1} / {len(train_loader)}] \\t '\n",
        "                  f'Train Loss: {total_loss / print_every}')\n",
        "            total_loss = 0\n",
        "\n",
        "            pbar = tqdm(total=print_every, leave=False)\n",
        "\n",
        "    pbar.close()\n",
        "    val_loss = validate(valid_loader, model, criterion)\n",
        "    val_losses.append((total_step, val_loss))\n",
        "    if val_loss < lowest_val:\n",
        "        lowest_val = val_loss\n",
        "        torch.save(model, 'output/transformer.pth')\n",
        "    print(f'Val Loss: {val_loss}')"
      ],
      "execution_count": 0,
      "outputs": []
    },
    {
      "cell_type": "code",
      "metadata": {
        "id": "l5m8S0o8ZAiG",
        "colab_type": "code",
        "colab": {}
      },
      "source": [
        ""
      ],
      "execution_count": 0,
      "outputs": []
    },
    {
      "cell_type": "code",
      "metadata": {
        "id": "f91eDhSkXFFD",
        "colab_type": "code",
        "colab": {}
      },
      "source": [
        ""
      ],
      "execution_count": 0,
      "outputs": []
    },
    {
      "cell_type": "code",
      "metadata": {
        "id": "CWMTJGMVeO0w",
        "colab_type": "code",
        "colab": {}
      },
      "source": [
        "import pickle\n",
        "import random\n",
        "import numpy as np\n",
        "from torch.utils.data import Dataset\n",
        "\n",
        "\n",
        "class ParallelLanguageDataset(Dataset):\n",
        "    def __init__(self, data_path_1, data_path_2, num_tokens, max_seq_length):\n",
        "        self.num_tokens = num_tokens\n",
        "        self.data_1, self.data_2, self.data_lengths = load_data(data_path_1, data_path_2, max_seq_length)\n",
        "\n",
        "        self.batches = gen_batches(num_tokens, self.data_lengths)\n",
        "\n",
        "    def __getitem__(self, idx):\n",
        "        src, src_mask = getitem(idx, self.data_1, self.batches, True)\n",
        "        tgt, tgt_mask = getitem(idx, self.data_2, self.batches, False)\n",
        "\n",
        "        return src, src_mask, tgt, tgt_mask\n",
        "\n",
        "    def __len__(self):\n",
        "        return len(self.batches)\n",
        "\n",
        "    def shuffle_batches(self):\n",
        "        self.batches = gen_batches(self.num_tokens, self.data_lengths)\n",
        "\n",
        "\n",
        "def gen_batches(num_tokens, data_lengths):\n",
        "    # Shuffle all the indices\n",
        "    for k, v in data_lengths.items():\n",
        "        random.shuffle(v)\n",
        "\n",
        "    batches = []\n",
        "    prev_tokens_in_batch = 1e10\n",
        "    for k in sorted(data_lengths):\n",
        "        v = data_lengths[k]\n",
        "        total_tokens = (k[0] + k[1]) * len(v)\n",
        "\n",
        "        while total_tokens > 0:\n",
        "            tokens_in_batch = min(total_tokens, num_tokens) - min(total_tokens, num_tokens) % (k[0] + k[1])\n",
        "            sentences_in_batch = tokens_in_batch // (k[0] + k[1])\n",
        "\n",
        "            # Combine with previous batch?\n",
        "            if tokens_in_batch + prev_tokens_in_batch <= num_tokens:\n",
        "                batches[-1].extend(v[:sentences_in_batch])\n",
        "                prev_tokens_in_batch += tokens_in_batch\n",
        "            else:\n",
        "                batches.append(v[:sentences_in_batch])\n",
        "                prev_tokens_in_batch = tokens_in_batch\n",
        "            v = v[sentences_in_batch:]\n",
        "\n",
        "            total_tokens = (k[0] + k[1]) * len(v)\n",
        "    return batches\n",
        "\n",
        "\n",
        "def load_data(data_path_1, data_path_2, max_seq_length):\n",
        "    with open(data_path_1, 'rb') as f:\n",
        "        data_1 = pickle.load(f)\n",
        "    with open(data_path_2, 'rb') as f:\n",
        "        data_2 = pickle.load(f)\n",
        "\n",
        "    data_lengths = {}\n",
        "    for i, (str_1, str_2) in enumerate(zip(data_1, data_2)):\n",
        "        if 0 < len(str_1) <= max_seq_length and 0 < len(str_2) <= max_seq_length - 2:\n",
        "            if (len(str_1), len(str_2)) in data_lengths:\n",
        "                data_lengths[(len(str_1), len(str_2))].append(i)\n",
        "            else:\n",
        "                data_lengths[(len(str_1), len(str_2))] = [i]\n",
        "    return data_1, data_2, data_lengths\n",
        "\n",
        "\n",
        "def getitem(idx, data, batches, src):\n",
        "    sentence_indices = batches[idx]\n",
        "    if src:\n",
        "        batch = [data[i] for i in sentence_indices]\n",
        "    else:\n",
        "        batch = [[2] + data[i] + [3] for i in sentence_indices]\n",
        "\n",
        "    seq_length = 0\n",
        "    for sentence in batch:\n",
        "        if len(sentence) > seq_length:\n",
        "            seq_length = len(sentence)\n",
        "\n",
        "    masks = []\n",
        "    for i, sentence in enumerate(batch):\n",
        "        masks.append([False for _ in range(len(sentence))] + [True for _ in range(seq_length - len(sentence))])\n",
        "        batch[i] = sentence + [0 for _ in range(seq_length - len(sentence))]\n",
        "\n",
        "    return np.array(batch), np.array(masks)"
      ],
      "execution_count": 0,
      "outputs": []
    },
    {
      "cell_type": "code",
      "metadata": {
        "id": "e4IQmfdDeCPi",
        "colab_type": "code",
        "colab": {}
      },
      "source": [
        "class ScheduledOptim():\n",
        "    '''A simple wrapper class for learning rate scheduling'''\n",
        "\n",
        "    def __init__(self, optimizer, d_model, n_warmup_steps):\n",
        "        self._optimizer = optimizer\n",
        "        self.n_warmup_steps = n_warmup_steps\n",
        "        self.n_current_steps = 0\n",
        "        self.init_lr = np.power(d_model, -0.5)\n",
        "\n",
        "    def step_and_update_lr(self):\n",
        "        \"Step with the inner optimizer\"\n",
        "        self._update_learning_rate()\n",
        "        self._optimizer.step()\n",
        "\n",
        "    def zero_grad(self):\n",
        "        \"Zero out the gradients by the inner optimizer\"\n",
        "        self._optimizer.zero_grad()\n",
        "\n",
        "    def _get_lr_scale(self):\n",
        "        return np.min([\n",
        "            np.power(self.n_current_steps, -0.5),\n",
        "            np.power(self.n_warmup_steps, -1.5) * self.n_current_steps])\n",
        "\n",
        "    def _update_learning_rate(self):\n",
        "        ''' Learning rate scheduling per step '''\n",
        "\n",
        "        self.n_current_steps += 1\n",
        "        lr = self.init_lr * self._get_lr_scale()\n",
        "\n",
        "        for param_group in self._optimizer.param_groups:\n",
        "            param_group['lr'] = lr\n",
        "\n"
      ],
      "execution_count": 0,
      "outputs": []
    },
    {
      "cell_type": "code",
      "metadata": {
        "id": "NV2jC2Isd8H1",
        "colab_type": "code",
        "colab": {}
      },
      "source": [
        "def train(train_loader, valid_loader, model, optim, criterion, num_epochs):\n",
        "    print_every = 500\n",
        "    model.train()\n",
        "\n",
        "    lowest_val = 1e9\n",
        "    train_losses = []\n",
        "    val_losses = []\n",
        "    total_step = 0\n",
        "    for epoch in range(num_epochs):\n",
        "        pbar = tqdm(total=print_every, leave=False)\n",
        "        total_loss = 0\n",
        "\n",
        "        train_loader.dataset.shuffle_batches()\n",
        "        for step, (src, src_key_padding_mask, tgt, tgt_key_padding_mask) in enumerate(iter(train_loader)):\n",
        "            total_step += 1\n",
        "\n",
        "            src, src_key_padding_mask = src[0].to('cuda'), src_key_padding_mask[0].to('cuda')\n",
        "            tgt, tgt_key_padding_mask = tgt[0].to('cuda'), tgt_key_padding_mask[0].to('cuda')\n",
        "\n",
        "            memory_key_padding_mask = src_key_padding_mask.clone()\n",
        "            tgt_inp, tgt_out = tgt[:, :-1], tgt[:, 1:]\n",
        "            tgt_mask = gen_nopeek_mask(tgt_inp.shape[1]).to('cuda')\n",
        "\n",
        "            optim.zero_grad()\n",
        "            outputs = model(src, tgt_inp, src_key_padding_mask, tgt_key_padding_mask[:, :-1], memory_key_padding_mask, tgt_mask)\n",
        "            loss = criterion(rearrange(outputs, 'b t v -> (b t) v'), rearrange(tgt_out, 'b o -> (b o)'))\n",
        "\n",
        "            loss.backward()\n",
        "            optim.step_and_update_lr()\n",
        "\n",
        "            total_loss += loss.item()\n",
        "            train_losses.append((step, loss.item()))\n",
        "            pbar.update(1)\n",
        "            if step % print_every == print_every - 1:\n",
        "                pbar.close()\n",
        "                print(f'Epoch [{epoch + 1} / {num_epochs}] \\t Step [{step + 1} / {len(train_loader)}] \\t '\n",
        "                      f'Train Loss: {total_loss / print_every}')\n",
        "                total_loss = 0\n",
        "\n",
        "                pbar = tqdm(total=print_every, leave=False)\n",
        "\n",
        "        pbar.close()\n",
        "        val_loss = validate(valid_loader, model, criterion)\n",
        "        val_losses.append((total_step, val_loss))\n",
        "        if val_loss < lowest_val:\n",
        "            lowest_val = val_loss\n",
        "            torch.save(model, 'output/transformer.pth')\n",
        "        print(f'Val Loss: {val_loss}')\n",
        "    return train_losses, val_losses\n",
        "\n",
        "\n",
        "def validate(valid_loader, model, criterion):\n",
        "    pbar = tqdm(total=len(iter(valid_loader)), leave=False)\n",
        "    model.eval()\n",
        "\n",
        "    total_loss = 0\n",
        "    for src, src_key_padding_mask, tgt, tgt_key_padding_mask in iter(valid_loader):\n",
        "        with torch.no_grad():\n",
        "            src, src_key_padding_mask = src[0].to('cuda'), src_key_padding_mask[0].to('cuda')\n",
        "            tgt, tgt_key_padding_mask = tgt[0].to('cuda'), tgt_key_padding_mask[0].to('cuda')\n",
        "            memory_key_padding_mask = src_key_padding_mask.clone()\n",
        "            tgt_inp = tgt[:, :-1]\n",
        "            tgt_out = tgt[:, 1:].contiguous()\n",
        "            tgt_mask = gen_nopeek_mask(tgt_inp.shape[1]).to('cuda')\n",
        "\n",
        "            outputs = model(src, tgt_inp, src_key_padding_mask, tgt_key_padding_mask[:, :-1], memory_key_padding_mask, tgt_mask)\n",
        "            loss = criterion(rearrange(outputs, 'b t v -> (b t) v'), rearrange(tgt_out, 'b o -> (b o)'))\n",
        "\n",
        "            total_loss += loss.item()\n",
        "            pbar.update(1)\n",
        "\n",
        "    pbar.close()\n",
        "    model.train()\n",
        "    return total_loss / len(valid_loader)\n",
        "\n",
        "\n",
        "def gen_nopeek_mask(length):\n",
        "    mask = rearrange(torch.triu(torch.ones(length, length)) == 1, 'h w -> w h')\n",
        "    mask = mask.float().masked_fill(mask == 0, float('-inf')).masked_fill(mask == 1, float(0.0))\n",
        "    return mask"
      ],
      "execution_count": 0,
      "outputs": []
    },
    {
      "cell_type": "code",
      "metadata": {
        "id": "MwUsgjTygwm-",
        "colab_type": "code",
        "colab": {}
      },
      "source": [
        "kwargs = {\n",
        "    'num_epochs': 20,\n",
        "    'max_seq_length': 96,\n",
        "    'num_tokens': 2000,\n",
        "    'vocab_size': 10000+4,\n",
        "    'd_model': 512,\n",
        "    'num_encoder_layers': 6,\n",
        "    'num_decoder_layers': 6,\n",
        "    'dim_feedforward': 2048,\n",
        "    'nhead': 8,\n",
        "    'pos_dropout': 0.1,\n",
        "    'trans_dropout': 0.1,\n",
        "    'n_warmup_steps': 4000\n",
        "}"
      ],
      "execution_count": 0,
      "outputs": []
    },
    {
      "cell_type": "code",
      "metadata": {
        "id": "RspHKWOthXrs",
        "colab_type": "code",
        "colab": {}
      },
      "source": [
        "train_dataset = ParallelLanguageDataset(root + 'data/processed/en/train.pkl',\n",
        "                                        root + 'data/processed/fr/train.pkl',\n",
        "                                        kwargs['num_tokens'], kwargs['max_seq_length'])\n",
        "train_loader = DataLoader(train_dataset, batch_size=1, shuffle=True, num_workers=4, pin_memory=True)\n",
        "valid_dataset = ParallelLanguageDataset(root + 'data/processed/en/val.pkl',\n",
        "                                        root + 'data/processed/fr/val.pkl',\n",
        "                                        kwargs['num_tokens'], kwargs['max_seq_length'])\n",
        "valid_loader = DataLoader(valid_dataset, batch_size=1, shuffle=True, num_workers=4, pin_memory=True)"
      ],
      "execution_count": 0,
      "outputs": []
    },
    {
      "cell_type": "code",
      "metadata": {
        "id": "jnP2tyOGhgMO",
        "colab_type": "code",
        "colab": {}
      },
      "source": [
        "src, src_key_padding_mask, tgt, tgt_key_padding_mask = train_dataset[100]\n",
        "print(src.shape)\n",
        "print(tgt.shape)"
      ],
      "execution_count": 0,
      "outputs": []
    },
    {
      "cell_type": "code",
      "metadata": {
        "id": "3S7ltY2jrR2m",
        "colab_type": "code",
        "colab": {}
      },
      "source": [
        ""
      ],
      "execution_count": 0,
      "outputs": []
    },
    {
      "cell_type": "code",
      "metadata": {
        "id": "xnA9YQ9Mgvei",
        "colab_type": "code",
        "colab": {}
      },
      "source": [
        "model = LanguageTransformer(kwargs['vocab_size'], kwargs['d_model'], kwargs['nhead'], kwargs['num_encoder_layers'],\n",
        "                            kwargs['num_decoder_layers'], kwargs['dim_feedforward'], kwargs['max_seq_length'],\n",
        "                            kwargs['pos_dropout'], kwargs['trans_dropout']).to('cuda')\n",
        "for p in model.parameters():\n",
        "    if p.dim() > 1:\n",
        "        nn.init.xavier_normal_(p)\n",
        "\n",
        "optim = ScheduledOptim(\n",
        "    Adam(model.parameters(), betas=(0.9, 0.98), eps=1e-09),\n",
        "    kwargs['d_model'], kwargs['n_warmup_steps'])\n",
        "\n",
        "criterion = nn.CrossEntropyLoss(ignore_index=0)"
      ],
      "execution_count": 0,
      "outputs": []
    },
    {
      "cell_type": "code",
      "metadata": {
        "id": "d3FvWIMWpRpl",
        "colab_type": "code",
        "colab": {}
      },
      "source": [
        "print_every = 500\n",
        "model.train()\n",
        "\n",
        "lowest_val = 1e9\n",
        "train_losses = []\n",
        "val_losses = []\n",
        "total_step = 0"
      ],
      "execution_count": 0,
      "outputs": []
    },
    {
      "cell_type": "code",
      "metadata": {
        "id": "ND4J-jJbxjCa",
        "colab_type": "code",
        "colab": {}
      },
      "source": [
        "# for epoch in range(kwargs['num_epochs']):\n",
        "epoch = 1"
      ],
      "execution_count": 0,
      "outputs": []
    },
    {
      "cell_type": "code",
      "metadata": {
        "id": "EOkl_I_exku2",
        "colab_type": "code",
        "colab": {}
      },
      "source": [
        "pbar = tqdm(total=print_every, leave=False)\n",
        "total_loss = 0\n",
        "train_loader.dataset.shuffle_batches()\n",
        "\n",
        "# for step, (src, src_key_padding_mask, tgt, tgt_key_padding_mask) in enumerate(iter(train_loader)):\n",
        "step, (src, src_key_padding_mask, tgt, tgt_key_padding_mask) = next(enumerate(iter(train_loader)))"
      ],
      "execution_count": 0,
      "outputs": []
    },
    {
      "cell_type": "code",
      "metadata": {
        "id": "Ze5Xan60zjN3",
        "colab_type": "code",
        "colab": {}
      },
      "source": [
        "print(src.shape, tgt.shape)\n",
        "\n",
        "total_step += 1\n",
        "\n",
        "src, src_key_padding_mask = src[0].to('cuda'), src_key_padding_mask[0].to('cuda')\n",
        "tgt, tgt_key_padding_mask = tgt[0].to('cuda'), tgt_key_padding_mask[0].to('cuda')\n",
        "\n",
        "print(src.shape)\n",
        "print(tgt.shape)"
      ],
      "execution_count": 0,
      "outputs": []
    },
    {
      "cell_type": "code",
      "metadata": {
        "id": "wUjqMCvt3U_J",
        "colab_type": "code",
        "colab": {}
      },
      "source": [
        "memory_key_padding_mask = src_key_padding_mask.clone()"
      ],
      "execution_count": 0,
      "outputs": []
    },
    {
      "cell_type": "code",
      "metadata": {
        "id": "G5kF69V45F0X",
        "colab_type": "code",
        "colab": {}
      },
      "source": [
        "tgt_inp, tgt_out = tgt[:, :-1], tgt[:, 1:] # shift for 1 position"
      ],
      "execution_count": 0,
      "outputs": []
    },
    {
      "cell_type": "code",
      "metadata": {
        "id": "mOf5mPfJ5HYK",
        "colab_type": "code",
        "colab": {}
      },
      "source": [
        "tgt_inp.shape"
      ],
      "execution_count": 0,
      "outputs": []
    },
    {
      "cell_type": "code",
      "metadata": {
        "id": "5yJfGknU5Lh1",
        "colab_type": "code",
        "colab": {}
      },
      "source": [
        "tgt_out.shape"
      ],
      "execution_count": 0,
      "outputs": []
    },
    {
      "cell_type": "code",
      "metadata": {
        "id": "E2aq9-DW57CB",
        "colab_type": "code",
        "colab": {}
      },
      "source": [
        "def gen_nopeek_mask(length):\n",
        "    mask = rearrange(torch.triu(torch.ones(length, length)) == 1, 'h w -> w h')\n",
        "    mask = rearrange(torch.triu(torch.ones(length, length)) == 1, 'h w -> w h')\n",
        "    mask = mask.float().masked_fill(mask == 0, float('-inf')).masked_fill(mask == 1, float(0.0))\n",
        "    return mask\n",
        "\n",
        "gen_nopeek_mask(tgt_inp.shape[1])"
      ],
      "execution_count": 0,
      "outputs": []
    },
    {
      "cell_type": "code",
      "metadata": {
        "id": "E2MF0MHn8VKv",
        "colab_type": "code",
        "colab": {}
      },
      "source": [
        "tgt_mask = gen_nopeek_mask(tgt_inp.shape[1]).to('cuda')"
      ],
      "execution_count": 0,
      "outputs": []
    },
    {
      "cell_type": "code",
      "metadata": {
        "id": "IFevNzG_yl_W",
        "colab_type": "code",
        "colab": {}
      },
      "source": [
        "optim.zero_grad()\n",
        "outputs = model(src, tgt_inp, src_key_padding_mask, tgt_key_padding_mask[:, :-1], memory_key_padding_mask, tgt_mask)\n",
        "loss = criterion(rearrange(outputs, 'b t v -> (b t) v'), rearrange(tgt_out, 'b o -> (b o)'))"
      ],
      "execution_count": 0,
      "outputs": []
    },
    {
      "cell_type": "code",
      "metadata": {
        "id": "J2mjXkUB8lxT",
        "colab_type": "code",
        "colab": {}
      },
      "source": [
        "outputs.shape"
      ],
      "execution_count": 0,
      "outputs": []
    },
    {
      "cell_type": "code",
      "metadata": {
        "id": "K0Wo1KoS8d1G",
        "colab_type": "code",
        "colab": {}
      },
      "source": [
        "rearrange(outputs, 'b t v -> (b t) v').shape"
      ],
      "execution_count": 0,
      "outputs": []
    },
    {
      "cell_type": "code",
      "metadata": {
        "id": "XA9eENjWI5c9",
        "colab_type": "code",
        "colab": {}
      },
      "source": [
        "rearrange(tgt_out, 'b o -> (b o)').shape"
      ],
      "execution_count": 0,
      "outputs": []
    },
    {
      "cell_type": "code",
      "metadata": {
        "id": "aug6U-WOAzcR",
        "colab_type": "code",
        "colab": {}
      },
      "source": [
        "rearrange(np.array([]))"
      ],
      "execution_count": 0,
      "outputs": []
    },
    {
      "cell_type": "code",
      "metadata": {
        "id": "1CFZCC2f83Nt",
        "colab_type": "code",
        "colab": {}
      },
      "source": [
        ""
      ],
      "execution_count": 0,
      "outputs": []
    },
    {
      "cell_type": "code",
      "metadata": {
        "id": "ZNdLwMFc8cjO",
        "colab_type": "code",
        "colab": {}
      },
      "source": [
        "loss.backward()\n",
        "optim.step_and_update_lr()\n",
        "\n",
        "total_loss += loss.item()\n",
        "train_losses.append((step, loss.item()))\n",
        "pbar.update(1)\n",
        "if step % print_every == print_every - 1:\n",
        "    pbar.close()\n",
        "    print(f'Epoch [{epoch + 1} / {num_epochs}] \\t Step [{step + 1} / {len(train_loader)}] \\t '\n",
        "          f'Train Loss: {total_loss / print_every}')\n",
        "    total_loss = 0\n",
        "\n",
        "    pbar = tqdm(total=print_every, leave=False)"
      ],
      "execution_count": 0,
      "outputs": []
    },
    {
      "cell_type": "code",
      "metadata": {
        "id": "QhUT2foyvnFy",
        "colab_type": "code",
        "colab": {}
      },
      "source": [
        "pbar.close()\n",
        "val_loss = validate(valid_loader, model, criterion)\n",
        "val_losses.append((total_step, val_loss))\n",
        "if val_loss < lowest_val:\n",
        "    lowest_val = val_loss\n",
        "    torch.save(model, 'output/transformer.pth')\n",
        "print(f'Val Loss: {val_loss}')"
      ],
      "execution_count": 0,
      "outputs": []
    }
  ]
}