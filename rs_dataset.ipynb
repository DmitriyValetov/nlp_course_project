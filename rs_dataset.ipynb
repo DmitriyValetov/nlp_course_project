{
  "nbformat": 4,
  "nbformat_minor": 0,
  "metadata": {
    "colab": {
      "name": "rs_dataset.ipynb",
      "provenance": [],
      "authorship_tag": "ABX9TyMR6q9owfyHwvNyQWYUBq5C",
      "include_colab_link": true
    },
    "kernelspec": {
      "name": "python3",
      "display_name": "Python 3"
    },
    "widgets": {
      "application/vnd.jupyter.widget-state+json": {
        "0a9451e73b47459e8b26a14071d3d8a4": {
          "model_module": "@jupyter-widgets/controls",
          "model_name": "HBoxModel",
          "state": {
            "_view_name": "HBoxView",
            "_dom_classes": [],
            "_model_name": "HBoxModel",
            "_view_module": "@jupyter-widgets/controls",
            "_model_module_version": "1.5.0",
            "_view_count": null,
            "_view_module_version": "1.5.0",
            "box_style": "",
            "layout": "IPY_MODEL_85879f396af5499eb0a37d5a66912ab9",
            "_model_module": "@jupyter-widgets/controls",
            "children": [
              "IPY_MODEL_daa61f37f5884a5990bdeff02a4fd503",
              "IPY_MODEL_676936668f24431cbedd7d08a0c5bd7d"
            ]
          }
        },
        "85879f396af5499eb0a37d5a66912ab9": {
          "model_module": "@jupyter-widgets/base",
          "model_name": "LayoutModel",
          "state": {
            "_view_name": "LayoutView",
            "grid_template_rows": null,
            "right": null,
            "justify_content": null,
            "_view_module": "@jupyter-widgets/base",
            "overflow": null,
            "_model_module_version": "1.2.0",
            "_view_count": null,
            "flex_flow": null,
            "width": null,
            "min_width": null,
            "border": null,
            "align_items": null,
            "bottom": null,
            "_model_module": "@jupyter-widgets/base",
            "top": null,
            "grid_column": null,
            "overflow_y": null,
            "overflow_x": null,
            "grid_auto_flow": null,
            "grid_area": null,
            "grid_template_columns": null,
            "flex": null,
            "_model_name": "LayoutModel",
            "justify_items": null,
            "grid_row": null,
            "max_height": null,
            "align_content": null,
            "visibility": null,
            "align_self": null,
            "height": null,
            "min_height": null,
            "padding": null,
            "grid_auto_rows": null,
            "grid_gap": null,
            "max_width": null,
            "order": null,
            "_view_module_version": "1.2.0",
            "grid_template_areas": null,
            "object_position": null,
            "object_fit": null,
            "grid_auto_columns": null,
            "margin": null,
            "display": null,
            "left": null
          }
        },
        "daa61f37f5884a5990bdeff02a4fd503": {
          "model_module": "@jupyter-widgets/controls",
          "model_name": "FloatProgressModel",
          "state": {
            "_view_name": "ProgressView",
            "style": "IPY_MODEL_55845c13a2d54443ac40f67d1b781e8a",
            "_dom_classes": [],
            "description": "  0%",
            "_model_name": "FloatProgressModel",
            "bar_style": "danger",
            "max": 1003869,
            "_view_module": "@jupyter-widgets/controls",
            "_model_module_version": "1.5.0",
            "value": 1000,
            "_view_count": null,
            "_view_module_version": "1.5.0",
            "orientation": "horizontal",
            "min": 0,
            "description_tooltip": null,
            "_model_module": "@jupyter-widgets/controls",
            "layout": "IPY_MODEL_d923d43841bc4ae09ffae48319b33a35"
          }
        },
        "676936668f24431cbedd7d08a0c5bd7d": {
          "model_module": "@jupyter-widgets/controls",
          "model_name": "HTMLModel",
          "state": {
            "_view_name": "HTMLView",
            "style": "IPY_MODEL_44a9912063bd495898aef76353011e0f",
            "_dom_classes": [],
            "description": "",
            "_model_name": "HTMLModel",
            "placeholder": "​",
            "_view_module": "@jupyter-widgets/controls",
            "_model_module_version": "1.5.0",
            "value": " 1000/1003869 [00:04&lt;1:22:58, 201.45it/s]",
            "_view_count": null,
            "_view_module_version": "1.5.0",
            "description_tooltip": null,
            "_model_module": "@jupyter-widgets/controls",
            "layout": "IPY_MODEL_86e569c2b4a24171961c0a2bcbd0f1d9"
          }
        },
        "55845c13a2d54443ac40f67d1b781e8a": {
          "model_module": "@jupyter-widgets/controls",
          "model_name": "ProgressStyleModel",
          "state": {
            "_view_name": "StyleView",
            "_model_name": "ProgressStyleModel",
            "description_width": "initial",
            "_view_module": "@jupyter-widgets/base",
            "_model_module_version": "1.5.0",
            "_view_count": null,
            "_view_module_version": "1.2.0",
            "bar_color": null,
            "_model_module": "@jupyter-widgets/controls"
          }
        },
        "d923d43841bc4ae09ffae48319b33a35": {
          "model_module": "@jupyter-widgets/base",
          "model_name": "LayoutModel",
          "state": {
            "_view_name": "LayoutView",
            "grid_template_rows": null,
            "right": null,
            "justify_content": null,
            "_view_module": "@jupyter-widgets/base",
            "overflow": null,
            "_model_module_version": "1.2.0",
            "_view_count": null,
            "flex_flow": null,
            "width": null,
            "min_width": null,
            "border": null,
            "align_items": null,
            "bottom": null,
            "_model_module": "@jupyter-widgets/base",
            "top": null,
            "grid_column": null,
            "overflow_y": null,
            "overflow_x": null,
            "grid_auto_flow": null,
            "grid_area": null,
            "grid_template_columns": null,
            "flex": null,
            "_model_name": "LayoutModel",
            "justify_items": null,
            "grid_row": null,
            "max_height": null,
            "align_content": null,
            "visibility": null,
            "align_self": null,
            "height": null,
            "min_height": null,
            "padding": null,
            "grid_auto_rows": null,
            "grid_gap": null,
            "max_width": null,
            "order": null,
            "_view_module_version": "1.2.0",
            "grid_template_areas": null,
            "object_position": null,
            "object_fit": null,
            "grid_auto_columns": null,
            "margin": null,
            "display": null,
            "left": null
          }
        },
        "44a9912063bd495898aef76353011e0f": {
          "model_module": "@jupyter-widgets/controls",
          "model_name": "DescriptionStyleModel",
          "state": {
            "_view_name": "StyleView",
            "_model_name": "DescriptionStyleModel",
            "description_width": "",
            "_view_module": "@jupyter-widgets/base",
            "_model_module_version": "1.5.0",
            "_view_count": null,
            "_view_module_version": "1.2.0",
            "_model_module": "@jupyter-widgets/controls"
          }
        },
        "86e569c2b4a24171961c0a2bcbd0f1d9": {
          "model_module": "@jupyter-widgets/base",
          "model_name": "LayoutModel",
          "state": {
            "_view_name": "LayoutView",
            "grid_template_rows": null,
            "right": null,
            "justify_content": null,
            "_view_module": "@jupyter-widgets/base",
            "overflow": null,
            "_model_module_version": "1.2.0",
            "_view_count": null,
            "flex_flow": null,
            "width": null,
            "min_width": null,
            "border": null,
            "align_items": null,
            "bottom": null,
            "_model_module": "@jupyter-widgets/base",
            "top": null,
            "grid_column": null,
            "overflow_y": null,
            "overflow_x": null,
            "grid_auto_flow": null,
            "grid_area": null,
            "grid_template_columns": null,
            "flex": null,
            "_model_name": "LayoutModel",
            "justify_items": null,
            "grid_row": null,
            "max_height": null,
            "align_content": null,
            "visibility": null,
            "align_self": null,
            "height": null,
            "min_height": null,
            "padding": null,
            "grid_auto_rows": null,
            "grid_gap": null,
            "max_width": null,
            "order": null,
            "_view_module_version": "1.2.0",
            "grid_template_areas": null,
            "object_position": null,
            "object_fit": null,
            "grid_auto_columns": null,
            "margin": null,
            "display": null,
            "left": null
          }
        }
      }
    }
  },
  "cells": [
    {
      "cell_type": "markdown",
      "metadata": {
        "id": "view-in-github",
        "colab_type": "text"
      },
      "source": [
        "<a href=\"https://colab.research.google.com/github/DmitriyValetov/nlp_course_project/blob/master/rs_dataset.ipynb\" target=\"_parent\"><img src=\"https://colab.research.google.com/assets/colab-badge.svg\" alt=\"Open In Colab\"/></a>"
      ]
    },
    {
      "cell_type": "markdown",
      "metadata": {
        "id": "CFKkGYW1zr6D",
        "colab_type": "text"
      },
      "source": [
        "RossiyaSegodnya Dataset for PyTorch\n",
        "[github repository](https://github.com/RossiyaSegodnya/ria_news_dataset)\n",
        "\n",
        "Full dataset 1003869 news https://github.com/RossiyaSegodnya/ria_news_dataset/raw/master/ria.json.gz\n",
        "\n",
        "20 news https://raw.githubusercontent.com/RossiyaSegodnya/ria_news_dataset/master/ria_20.json\n",
        "\n",
        "1000 news https://raw.githubusercontent.com/RossiyaSegodnya/ria_news_dataset/master/ria_1k.json\n"
      ]
    },
    {
      "cell_type": "code",
      "metadata": {
        "id": "UFknxhyhzcs8",
        "colab_type": "code",
        "cellView": "code",
        "outputId": "d5759c80-e032-4c62-a8da-55edeb0eae6f",
        "colab": {
          "base_uri": "https://localhost:8080/",
          "height": 34
        }
      },
      "source": [
        "import requests\n",
        "import os\n",
        "\n",
        "# url = \"https://raw.githubusercontent.com/RossiyaSegodnya/ria_news_dataset/master/ria_20.json\"\n",
        "url = \"https://raw.githubusercontent.com/RossiyaSegodnya/ria_news_dataset/master/ria_1k.json\"\n",
        "# url = \"https://github.com/RossiyaSegodnya/ria_news_dataset/raw/master/ria.json.gz\"\n",
        "fn, ext = os.path.splitext(os.path.basename(url))\n",
        "print(f'downloading: {fn + ext}')\n",
        "r = requests.get(url)\n",
        "with open(fn + ext, 'wb') as f:\n",
        "  f.write(r.content)\n",
        "if ext == '.gz':\n",
        "  print(f'decompressing from {fn + ext} to {fn}')\n",
        "  import gzip\n",
        "  import shutil\n",
        "  with gzip.open(fn + ext, 'rb') as gz_file:\n",
        "    with open(fn, 'wb') as json_file:\n",
        "      shutil.copyfileobj(gz_file, json_file)"
      ],
      "execution_count": 97,
      "outputs": [
        {
          "output_type": "stream",
          "text": [
            "downloading: ria_1k.json\n"
          ],
          "name": "stdout"
        }
      ]
    },
    {
      "cell_type": "code",
      "metadata": {
        "id": "xApnxmfu_erC",
        "colab_type": "code",
        "colab": {}
      },
      "source": [
        "import nltk\n",
        "nltk.download('punkt')"
      ],
      "execution_count": 0,
      "outputs": []
    },
    {
      "cell_type": "code",
      "metadata": {
        "id": "WtbAmYvi4HQ2",
        "colab_type": "code",
        "colab": {
          "base_uri": "https://localhost:8080/",
          "height": 122,
          "referenced_widgets": [
            "0a9451e73b47459e8b26a14071d3d8a4",
            "85879f396af5499eb0a37d5a66912ab9",
            "daa61f37f5884a5990bdeff02a4fd503",
            "676936668f24431cbedd7d08a0c5bd7d",
            "55845c13a2d54443ac40f67d1b781e8a",
            "d923d43841bc4ae09ffae48319b33a35",
            "44a9912063bd495898aef76353011e0f",
            "86e569c2b4a24171961c0a2bcbd0f1d9"
          ]
        },
        "outputId": "21493550-06e6-4408-f45f-f17d9c721233"
      },
      "source": [
        "import json\n",
        "from nltk.tokenize import sent_tokenize\n",
        "from nltk.tokenize import word_tokenize\n",
        "from bs4 import BeautifulSoup\n",
        "from tqdm.notebook import tqdm\n",
        "\n",
        "# NB Files are not clear json files. They contain json strings by line by line.\n",
        "fn = 'ria_1k.json'\n",
        "norm_fn = f'norm_sents_{fn}'  # news divided into normalized sentences\n",
        "with open(fn) as f:\n",
        "  with open(norm_fn, 'a+') as nf:\n",
        "    for line in tqdm(f, total=1003869):  # 1003869 - news at full dataset\n",
        "      n = json.loads(line)\n",
        "      text = BeautifulSoup(n['text']).get_text()\n",
        "      title = BeautifulSoup(n['title']).get_text()\n",
        "      text_ss = sent_tokenize(text)  # text sentences\n",
        "      title_ss = sent_tokenize(title)  # title sentences\n",
        "      norm_text_ss = [' '.join(w for w in word_tokenize(s) if w.isalnum()) for s in text_ss]\n",
        "      norm_title_ss = [' '.join(w for w in word_tokenize(s) if w.isalnum()) for s in title_ss]\n",
        "      json_str = json.dumps({'text': norm_text_ss, 'title': norm_title_ss}, ensure_ascii=False)\n",
        "      nf.write(json_str + '\\n')\n",
        "with open(norm_fn) as nf: \n",
        "  print(next(nf))  # print first news"
      ],
      "execution_count": 100,
      "outputs": [
        {
          "output_type": "display_data",
          "data": {
            "application/vnd.jupyter.widget-view+json": {
              "model_id": "0a9451e73b47459e8b26a14071d3d8a4",
              "version_minor": 0,
              "version_major": 2
            },
            "text/plain": [
              "HBox(children=(FloatProgress(value=0.0, max=1003869.0), HTML(value='')))"
            ]
          },
          "metadata": {
            "tags": []
          }
        },
        {
          "output_type": "stream",
          "text": [
            "\n",
            "{\"text\": [\"автор мария балябина на украине уволили уже больше 500 чиновников\", \"это люстрация в деле\", \"объявляя о начале второй волны очищения власти арсений яценюк заявлял что под действие закона подпадает около миллиона госслужащих\", \"по прогнозам премьера на их увольнение потребуется два года\", \"ну а пока закон претерпевает постоянные изменения\", \"он больше не распространяется на ключевых представителей власти а в администрации президента планируют уточнить закон иначе придется уволить практически всех\", \"киеву закон не писан\", \"новые власти сами придумали правила очищения власти сами же их и меняют\", \"закон о люстрации в его первоначальном варианте мог стоить политической карьеры многим нынешним чиновникам в том числе и тем кто отстаивал свержение старого руководства на майдане\", \"например юлия тимошенко которая была при викторе януковиче по логике событий сейчас должна была бы оставить свой пост\", \"это же относится и ко всему ее окружению\", \"и к петру порошенко кстати тоже\", \"тут законодатели опомнились и уточнили увольнять нужно тех кто проработал при януковиче хотя бы год\", \"а тимошенко со своей командой оставалась у власти гораздо меньше\", \"то есть если чиновник проработал 11 месяцев и 29 дней то он остался честным и правильным политиком а если один год и один день то его нужно срочно люстрировать\", \"а президента и вовсе нельзя подвергать проверке потому что должность эта выборная\", \"владельцев двойного гражданства как например миллиардер коломойский тоже нужно увольнять\", \"но для этого даже не стали менять правила а просто оставили губернатора днепропетровской области на месте\", \"так что пока люстрация на украине больше похожа на имитацию говорит председатель правления фонда развития гражданского общества константин костин этот закон слабоприменим\", \"он наносит больше вреда украине\", \"люстрация это не наказание коррупционеров это имитация перемен\", \"и плюс ко всему люстрация это возможность свести счеты\", \"никто же не проводит расследований люди увольняются просто по факту\", \"работал он в определенные периоды на определенных должностях все уволен\", \"может он как раз в это время приносил огромную пользу своей стране но с этим же никто не разбирается\", \"под люстрацию попали представители судебной системы то есть это возможность давления на суды возможность использования их в своих целях\", \"все эти несуразицы можно списать на то что закон готовился в спешке\", \"но для чего нужен был этот наспех составленный закон\", \"некоторые эксперты предполагают что в нем специально допустили столько неточностей и противоречий чтобы поскорее начать его переписывать а вскоре и вовсе отменить\", \"но пока чистки идут полным ходом\", \"власти убеждают жителей что люстратором может стать каждый\", \"людей призывают изучать анкеты политиков и сообщать о неточностях\", \"в этой эйфории незамеченным остается тот факт что это жертвенное очищение власти оставляет незанятыми сотни рабочих мест и соответственно сотни безработных\", \"а несуразный закон не улучшают ни народное участие ни многочисленные поправки считает доцент факультета социальных наук высшей школы экономики политолог алексей титков слишком большой круг людей которые подпадают под закон порядка миллиона человек\", \"для сорокамиллионной страны это очень большая величина\", \"и второе недостаточно четкая процедура того как люстрация будет проходить\", \"это дает возможность для произвола и всякого рода конфликтных ситуаций\", \"можно даже предположить что порошенко и его окружение охотно отказались бы от этой люстрационной темы\", \"это скорее давление общественного мнения и других политических сил с которыми порошенко сейчас вынужден считаться\", \"в резолюции 1996 года парламентской ассамблеи совета европы сказано что люстрация возможна в демократическом государстве только если соблюдается несколько условий вина должна быть доказана в каждом случае а подозреваемым должны гарантировать презумпцию невиновности право на защиту и обращение в суд\", \"но создание законов в соответствии с международным правом похоже не вписывается в украинские мечты о евроинтеграции\"], \"title\": [\"украинская люстрация жертвоприношение во власти\"]}\n",
            "\n"
          ],
          "name": "stdout"
        }
      ]
    },
    {
      "cell_type": "code",
      "metadata": {
        "id": "Pfh3pnmbUgqB",
        "colab_type": "code",
        "colab": {}
      },
      "source": [
        ""
      ],
      "execution_count": 0,
      "outputs": []
    }
  ]
}