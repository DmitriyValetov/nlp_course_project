{
  "nbformat": 4,
  "nbformat_minor": 0,
  "metadata": {
    "colab": {
      "name": "metrics.ipynb",
      "provenance": [],
      "authorship_tag": "ABX9TyPURig7cuvEmyPSROTyLH0o",
      "include_colab_link": true
    },
    "kernelspec": {
      "name": "python3",
      "display_name": "Python 3"
    }
  },
  "cells": [
    {
      "cell_type": "markdown",
      "metadata": {
        "id": "view-in-github",
        "colab_type": "text"
      },
      "source": [
        "<a href=\"https://colab.research.google.com/github/DmitriyValetov/nlp_course_project/blob/master/metrics.ipynb\" target=\"_parent\"><img src=\"https://colab.research.google.com/assets/colab-badge.svg\" alt=\"Open In Colab\"/></a>"
      ]
    },
    {
      "cell_type": "code",
      "metadata": {
        "id": "EK5oglmvhyVI",
        "colab_type": "code",
        "colab": {
          "base_uri": "https://localhost:8080/",
          "height": 747
        },
        "outputId": "58bbb800-21c6-45cc-df11-08d2d123ef8f"
      },
      "source": [
        "!pip install rouge_score\n",
        "import torch\n",
        "from rouge_score import rouge_scorer\n",
        "from pprint import pprint\n",
        "\n",
        "def metrics(bx2, by2, eos=3):\n",
        "  scores = {}  # score: [value, value, ..., batch_size]\n",
        "  scorer = rouge_scorer.RougeScorer(['rouge1', 'rouge2', 'rougeL'])\n",
        "  ps = by2.detach().cpu().numpy()  # batch predictions\n",
        "  ts = bx2.detach().cpu().numpy()  # batch targets\n",
        "  for p, t in zip(ps, ts):\n",
        "    # target to set\n",
        "    t_eos_i = np.where(t==eos)[0][0] if eos in t else len(t)\n",
        "    t_eos = t[:t_eos_i]\n",
        "    t_set = set(t_eos) - {0, 1, 2, 3}\n",
        "    # prediction to set\n",
        "    p_eos_i = np.where(p==eos)[0][0] if eos in p else len(p)\n",
        "    p_eos = p[:p_eos_i]\n",
        "    p_set = set(p_eos) - {0, 1, 2, 3}\n",
        "    # metrics\n",
        "    i_set = t_set.intersection(p_set)\n",
        "    pre = len(i_set)/len(p_set) if len(p_set) != 0 else 0\n",
        "    rec = len(i_set)/len(t_set) if len(t_set) != 0 else 0\n",
        "    f1 = 2*pre*rec/(pre + rec) if pre + rec != 0 else 0\n",
        "    rl = len(p_eos)/len(t_eos) if len(t_eos) != 0 else 0\n",
        "    # to string for fouge scorer\n",
        "    t_str = ' '.join(map(str, t_eos))\n",
        "    p_str = ' '.join(map(str, p_eos))\n",
        "    rs = scorer.score(t_str, p_str)\n",
        "    print(f't: {t}, p: {p}')\n",
        "    print(f'eos in t?: {eos in st}, p_eos_i: {st_eos_i}')\n",
        "    print(f'eos in p?: {eos in sp}, sp_eos_i: {sp_eos_i}')\n",
        "    print(f't_eos: {t_eos}, p_eos: {p_eos}')\n",
        "    print(f't_set: {t_set}, p_set: {p_set}')\n",
        "    print(f't_str: \"{t_str}\", p_str: \"{p_str}\"')\n",
        "    pprint(rs)\n",
        "    print(f'precision: {pre}, recall: {rec}, f1: {f1}. rl: {rl}\\n')\n",
        "    scores.setdefault('set_precision', []).append(pre)\n",
        "    scores.setdefault('set_recall', []).append(rec)\n",
        "    scores.setdefault('set_f1', []).append(f1)\n",
        "    scores.setdefault('relen', []).append(rl)\n",
        "    for k, v in rs.items():\n",
        "      scores.setdefault(f'{k}_precision', []).append(v.precision)\n",
        "      scores.setdefault(f'{k}_recall', []).append(v.recall)\n",
        "      scores.setdefault(f'{k}_f1', []).append(v.fmeasure)\n",
        "  return scores\n",
        "\n",
        "bx2 = torch.tensor([[1, 5, 3, 4, 4, 3, 3, 3],  # target 1\n",
        "                   [5, 3, 0, 4, 3, 0, 0, 0]])  # target 2\n",
        "by2 = torch.tensor([[0, 1, 4, 3, 4, 7, 4],  # predition 1\n",
        "                   [0, 5, 4, 3, 3, 0, 3]])  # predition 2\n",
        "metrics(bx2, by2)"
      ],
      "execution_count": 70,
      "outputs": [
        {
          "output_type": "stream",
          "text": [
            "Requirement already satisfied: rouge_score in /usr/local/lib/python3.6/dist-packages (0.0.3)\n",
            "Requirement already satisfied: absl-py in /usr/local/lib/python3.6/dist-packages (from rouge_score) (0.9.0)\n",
            "Requirement already satisfied: nltk in /usr/local/lib/python3.6/dist-packages (from rouge_score) (3.2.5)\n",
            "Requirement already satisfied: numpy in /usr/local/lib/python3.6/dist-packages (from rouge_score) (1.18.4)\n",
            "Requirement already satisfied: six>=1.12.0 in /usr/local/lib/python3.6/dist-packages (from rouge_score) (1.12.0)\n",
            "t: [1 5 3 4 4 3 3 3], p: [0 1 4 3 4 7 4]\n",
            "eos in t?: True, p_eos_i: 2\n",
            "eos in p?: True, sp_eos_i: 2\n",
            "t_eos: [1 5], p_eos: [0 1 4]\n",
            "t_set: {5}, p_set: {4}\n",
            "t_str: \"1 5\", p_str: \"0 1 4\"\n",
            "{'rouge1': Score(precision=0.3333333333333333, recall=0.5, fmeasure=0.4),\n",
            " 'rouge2': Score(precision=0.0, recall=0.0, fmeasure=0.0),\n",
            " 'rougeL': Score(precision=0.3333333333333333, recall=0.5, fmeasure=0.4)}\n",
            "precision: 0.0, recall: 0.0, f1: 0. rl: 1.5\n",
            "\n",
            "t: [5 3 0 4 3 0 0 0], p: [0 5 4 3 3 0 3]\n",
            "eos in t?: True, p_eos_i: 2\n",
            "eos in p?: True, sp_eos_i: 2\n",
            "t_eos: [5], p_eos: [0 5 4]\n",
            "t_set: {5}, p_set: {4, 5}\n",
            "t_str: \"5\", p_str: \"0 5 4\"\n",
            "{'rouge1': Score(precision=0.3333333333333333, recall=1.0, fmeasure=0.5),\n",
            " 'rouge2': Score(precision=0.0, recall=0.0, fmeasure=0.0),\n",
            " 'rougeL': Score(precision=0.3333333333333333, recall=1.0, fmeasure=0.5)}\n",
            "precision: 0.5, recall: 1.0, f1: 0.6666666666666666. rl: 3.0\n",
            "\n"
          ],
          "name": "stdout"
        },
        {
          "output_type": "execute_result",
          "data": {
            "text/plain": [
              "{'relen': [1.5, 3.0],\n",
              " 'rouge1_f1': [0.4, 0.5],\n",
              " 'rouge1_precision': [0.3333333333333333, 0.3333333333333333],\n",
              " 'rouge1_recall': [0.5, 1.0],\n",
              " 'rouge2_f1': [0.0, 0.0],\n",
              " 'rouge2_precision': [0.0, 0.0],\n",
              " 'rouge2_recall': [0.0, 0.0],\n",
              " 'rougeL_f1': [0.4, 0.5],\n",
              " 'rougeL_precision': [0.3333333333333333, 0.3333333333333333],\n",
              " 'rougeL_recall': [0.5, 1.0],\n",
              " 'set_f1': [0, 0.6666666666666666],\n",
              " 'set_precision': [0.0, 0.5],\n",
              " 'set_recall': [0.0, 1.0]}"
            ]
          },
          "metadata": {
            "tags": []
          },
          "execution_count": 70
        }
      ]
    },
    {
      "cell_type": "code",
      "metadata": {
        "id": "0ZiPmJIgh2mG",
        "colab_type": "code",
        "colab": {}
      },
      "source": [
        ""
      ],
      "execution_count": 0,
      "outputs": []
    }
  ]
}