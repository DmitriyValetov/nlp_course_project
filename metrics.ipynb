{
  "nbformat": 4,
  "nbformat_minor": 0,
  "metadata": {
    "colab": {
      "name": "metrics.ipynb",
      "provenance": [],
      "authorship_tag": "ABX9TyOID5GauitGO5GYIpHRVYRP",
      "include_colab_link": true
    },
    "kernelspec": {
      "name": "python3",
      "display_name": "Python 3"
    }
  },
  "cells": [
    {
      "cell_type": "markdown",
      "metadata": {
        "id": "view-in-github",
        "colab_type": "text"
      },
      "source": [
        "<a href=\"https://colab.research.google.com/github/DmitriyValetov/nlp_course_project/blob/master/metrics.ipynb\" target=\"_parent\"><img src=\"https://colab.research.google.com/assets/colab-badge.svg\" alt=\"Open In Colab\"/></a>"
      ]
    },
    {
      "cell_type": "code",
      "metadata": {
        "id": "HSlWJ1Ko3k9v",
        "colab_type": "code",
        "colab": {}
      },
      "source": [
        "import numpy as np\n",
        "\n",
        "# <pad>  - 0\n",
        "# <unk>  - 1 \n",
        "# <sos>  - 2 \n",
        "# <eos>  - 3\n",
        "# word A - 4\n",
        "# word B - 5\n",
        "eos = 3\n",
        "# batch targets (batch size, batch length)\n",
        "bts = np.array([\n",
        "[2, 1, 4, 3, 0],  # target 1\n",
        "[2, 1, 4, 5, 3],  # target 2\n",
        "[2, 4, 3, 0, 0]   # target 3\n",
        "])\n",
        "# batch predictions (batch size, batch length)\n",
        "bps = np.array([\n",
        "[2, 1, 5, 1, 0],  # prediction 1\n",
        "[2, 1, 5, 4, 3],  # prediction 2\n",
        "[2, 4, 3, 0, 0]   # prediction 3\n",
        "])"
      ],
      "execution_count": 0,
      "outputs": []
    },
    {
      "cell_type": "code",
      "metadata": {
        "id": "aHRqF9Qx4Ao1",
        "colab_type": "code",
        "outputId": "87d26520-d45e-4f76-f047-6dc3e2a2a345",
        "colab": {
          "base_uri": "https://localhost:8080/",
          "height": 390
        }
      },
      "source": [
        "# set (unique) metrics (without order)\n",
        "for sp, st in zip(bts, bps):\n",
        "  # target to set\n",
        "  st_eos_i = np.where(st==eos)[0][0] if eos in st else len(st)\n",
        "  st_eos = st[:st_eos_i]\n",
        "  t_set = set(st_eos) - {0, 1, 2, 3}\n",
        "  # prediction to set\n",
        "  sp_eos_i = np.where(sp==eos)[0][0] if eos in sp else len(sp)\n",
        "  sp_eos = sp[:sp_eos_i]\n",
        "  p_set = set(sp_eos) - {0, 1, 2, 3}\n",
        "  # metrics\n",
        "  i_set = t_set.intersection(p_set)\n",
        "  pre = len(i_set)/len(p_set) if len(p_set) != 0 else 0\n",
        "  rec = len(i_set)/len(t_set) if len(t_set) != 0 else 0\n",
        "  f1 = 2*pre*rec/(pre + rec) if pre + rec != 0 else 0\n",
        "  rl = len(sp_eos)/len(st_eos) if len(st_eos) != 0 else 0\n",
        "  print(f'st: {st}, sp: {sp}')\n",
        "  print(f'eos in st?: {eos in st}, sp_eos_i: {st_eos_i}')\n",
        "  print(f'eos in sp?: {eos in sp}, sp_eos_i: {sp_eos_i}')\n",
        "  print(f'st_eos: {st_eos}, sp_eos: {sp_eos}')\n",
        "  print(f't_set: {t_set}, p_set: {p_set}')\n",
        "  print(f'precision: {pre}, recall: {rec}, f1: {f1}. rl: {rl}\\n')"
      ],
      "execution_count": 7,
      "outputs": [
        {
          "output_type": "stream",
          "text": [
            "st: [2 1 5 1 0], sp: [2 1 4 3 0]\n",
            "eos in st?: False, sp_eos_i: 5\n",
            "eos in sp?: True, sp_eos_i: 3\n",
            "st_eos: [2 1 5 1 0], sp_eos: [2 1 4]\n",
            "t_set: {5}, p_set: {4}\n",
            "precision: 0.0, recall: 0.0, f1: 0. rl: 0.6\n",
            "\n",
            "st: [2 1 5 4 3], sp: [2 1 4 5 3]\n",
            "eos in st?: True, sp_eos_i: 4\n",
            "eos in sp?: True, sp_eos_i: 4\n",
            "st_eos: [2 1 5 4], sp_eos: [2 1 4 5]\n",
            "t_set: {4, 5}, p_set: {4, 5}\n",
            "precision: 1.0, recall: 1.0, f1: 1.0. rl: 1.0\n",
            "\n",
            "st: [2 4 3 0 0], sp: [2 4 3 0 0]\n",
            "eos in st?: True, sp_eos_i: 2\n",
            "eos in sp?: True, sp_eos_i: 2\n",
            "st_eos: [2 4], sp_eos: [2 4]\n",
            "t_set: {4}, p_set: {4}\n",
            "precision: 1.0, recall: 1.0, f1: 1.0. rl: 1.0\n",
            "\n"
          ],
          "name": "stdout"
        }
      ]
    },
    {
      "cell_type": "code",
      "metadata": {
        "id": "bBvS948h8SMH",
        "colab_type": "code",
        "outputId": "3b0c2028-7649-476d-8888-53c7d05b385a",
        "colab": {
          "base_uri": "https://localhost:8080/",
          "height": 354
        }
      },
      "source": [
        "# accuracy (ordered)\n",
        "pad_mask = bts != 0  # mask <pad> at target\n",
        "m_bts = bts[pad_mask]  # mask targets\n",
        "m_bps = bps[pad_mask]  # mask predictions like targets\n",
        "comp = m_bts == m_bps  # compare\n",
        "acc = np.sum(comp) / len(m_bts)\n",
        "print(f'targets:\\n{bts}')\n",
        "print(f'predictions:\\n{bps}')\n",
        "print(f'pad_mask:\\n{pad_mask}')\n",
        "print(f'masked targets:\\n{m_bts}')\n",
        "print(f'masked predictions:\\n{m_bps}')\n",
        "print(f'comparison\\n{comp}')\n",
        "print(f'accuracy: {acc}')"
      ],
      "execution_count": 0,
      "outputs": [
        {
          "output_type": "stream",
          "text": [
            "targets:\n",
            "[[2 1 4 3 0]\n",
            " [2 1 4 5 3]\n",
            " [2 4 3 0 0]]\n",
            "predictions:\n",
            "[[2 1 5 1 0]\n",
            " [2 1 5 4 3]\n",
            " [2 4 3 0 0]]\n",
            "pad_mask:\n",
            "[[ True  True  True  True False]\n",
            " [ True  True  True  True  True]\n",
            " [ True  True  True False False]]\n",
            "masked targets:\n",
            "[2 1 4 3 2 1 4 5 3 2 4 3]\n",
            "masked predictions:\n",
            "[2 1 5 1 2 1 5 4 3 2 4 3]\n",
            "comparison\n",
            "[ True  True False False  True  True False False  True  True  True  True]\n",
            "accuracy: 0.6666666666666666\n"
          ],
          "name": "stdout"
        }
      ]
    }
  ]
}