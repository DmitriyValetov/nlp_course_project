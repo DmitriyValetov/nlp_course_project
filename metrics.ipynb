{
  "nbformat": 4,
  "nbformat_minor": 0,
  "metadata": {
    "colab": {
      "name": "metrics.ipynb",
      "provenance": [],
      "authorship_tag": "ABX9TyM1CTbMSxjSmFSNHAG15Caw",
      "include_colab_link": true
    },
    "kernelspec": {
      "name": "python3",
      "display_name": "Python 3"
    }
  },
  "cells": [
    {
      "cell_type": "markdown",
      "metadata": {
        "id": "view-in-github",
        "colab_type": "text"
      },
      "source": [
        "<a href=\"https://colab.research.google.com/github/DmitriyValetov/nlp_course_project/blob/master/metrics.ipynb\" target=\"_parent\"><img src=\"https://colab.research.google.com/assets/colab-badge.svg\" alt=\"Open In Colab\"/></a>"
      ]
    },
    {
      "cell_type": "code",
      "metadata": {
        "id": "HSlWJ1Ko3k9v",
        "colab_type": "code",
        "colab": {}
      },
      "source": [
        "import numpy as np\n",
        "\n",
        "# <pad>  - 0\n",
        "# <unk>  - 1 \n",
        "# <sos>  - 2 \n",
        "# <eos>  - 3\n",
        "# word A - 4\n",
        "# word B - 5\n",
        "\n",
        "# batch targets (batch size, batch length)\n",
        "bts = np.array([\n",
        "[2, 1, 4, 3, 0],  # target 1\n",
        "[2, 1, 4, 5, 3],  # target 2\n",
        "[2, 4, 3, 0, 0]   # target 3\n",
        "])\n",
        "# batch predictions (batch size, batch length)\n",
        "bps = np.array([\n",
        "[2, 1, 5, 1, 0],  # prediction 1\n",
        "[2, 1, 5, 4, 3],  # prediction 2\n",
        "[2, 4, 3, 0, 0]   # prediction 3\n",
        "])"
      ],
      "execution_count": 0,
      "outputs": []
    },
    {
      "cell_type": "code",
      "metadata": {
        "id": "aHRqF9Qx4Ao1",
        "colab_type": "code",
        "outputId": "260f6692-5300-4bb2-c6ad-0961689556e6",
        "colab": {
          "base_uri": "https://localhost:8080/",
          "height": 283
        }
      },
      "source": [
        "# set (unique) metrics (without order)\n",
        "for p, t in zip(bts, bps):\n",
        "  t_set = set(t)  # unique labels\n",
        "  t_set -= {0, 1, 2, 3}  # remove special labels\n",
        "  eos = p[p == 3][0] if 3 in p else len(p)  # find first <eos> in prediction\n",
        "  p_eos = p[:eos]  # cut prediction to first <eos>\n",
        "  p_set = set(p_eos)  # unique labels\n",
        "  p_set -= {0, 1, 2, 3}  # remove special labels\n",
        "  i_set = t_set.intersection(p_set)  # shared labels\n",
        "  pre = len(i_set)/len(p_set) if len(p_set) != 0 else 0.  # precision\n",
        "  rec = len(i_set)/len(t_set) if len(t_set) != 0 else 0.  # recalll\n",
        "  f1 = 2*pre*rec/(pre + rec) if pre + rec != 0 else 0.  # f1\n",
        "  relen = len(p_eos)/len(t)\n",
        "  print(f'target: {t}, prediction: {p}, cut prediction: {p_eos}')\n",
        "  print(f'target set: {t_set}, prediction set: {p_set}')\n",
        "  print(f'precision: {pre}, recall: {rec}, f1: {f1}')\n",
        "  print(f'relative length: {relen}\\n')\n"
      ],
      "execution_count": 4,
      "outputs": [
        {
          "output_type": "stream",
          "text": [
            "target: [2 1 5 1 0], prediction: [2 1 4 3 0], cut prediction: [2 1 4]\n",
            "target set: {5}, prediction set: {4}\n",
            "precision: 0.0, recall: 0.0, f1: 0.0\n",
            "relative length: 0.6\n",
            "\n",
            "target: [2 1 5 4 3], prediction: [2 1 4 5 3], cut prediction: [2 1 4]\n",
            "target set: {4, 5}, prediction set: {4}\n",
            "precision: 1.0, recall: 0.5, f1: 0.6666666666666666\n",
            "relative length: 0.6\n",
            "\n",
            "target: [2 4 3 0 0], prediction: [2 4 3 0 0], cut prediction: [2 4 3]\n",
            "target set: {4}, prediction set: {4}\n",
            "precision: 1.0, recall: 1.0, f1: 1.0\n",
            "relative length: 0.6\n",
            "\n"
          ],
          "name": "stdout"
        }
      ]
    },
    {
      "cell_type": "code",
      "metadata": {
        "id": "bBvS948h8SMH",
        "colab_type": "code",
        "outputId": "3b0c2028-7649-476d-8888-53c7d05b385a",
        "colab": {
          "base_uri": "https://localhost:8080/",
          "height": 354
        }
      },
      "source": [
        "# accuracy (ordered)\n",
        "pad_mask = bts != 0  # mask <pad> at target\n",
        "m_bts = bts[pad_mask]  # mask targets\n",
        "m_bps = bps[pad_mask]  # mask predictions like targets\n",
        "comp = m_bts == m_bps  # compare\n",
        "acc = np.sum(comp) / len(m_bts)\n",
        "print(f'targets:\\n{bts}')\n",
        "print(f'predictions:\\n{bps}')\n",
        "print(f'pad_mask:\\n{pad_mask}')\n",
        "print(f'masked targets:\\n{m_bts}')\n",
        "print(f'masked predictions:\\n{m_bps}')\n",
        "print(f'comparison\\n{comp}')\n",
        "print(f'accuracy: {acc}')"
      ],
      "execution_count": 5,
      "outputs": [
        {
          "output_type": "stream",
          "text": [
            "targets:\n",
            "[[2 1 4 3 0]\n",
            " [2 1 4 5 3]\n",
            " [2 4 3 0 0]]\n",
            "predictions:\n",
            "[[2 1 5 1 0]\n",
            " [2 1 5 4 3]\n",
            " [2 4 3 0 0]]\n",
            "pad_mask:\n",
            "[[ True  True  True  True False]\n",
            " [ True  True  True  True  True]\n",
            " [ True  True  True False False]]\n",
            "masked targets:\n",
            "[2 1 4 3 2 1 4 5 3 2 4 3]\n",
            "masked predictions:\n",
            "[2 1 5 1 2 1 5 4 3 2 4 3]\n",
            "comparison\n",
            "[ True  True False False  True  True False False  True  True  True  True]\n",
            "accuracy: 0.6666666666666666\n"
          ],
          "name": "stdout"
        }
      ]
    },
    {
      "cell_type": "code",
      "metadata": {
        "id": "QCAvn_k8-AjU",
        "colab_type": "code",
        "colab": {}
      },
      "source": [
        ""
      ],
      "execution_count": 0,
      "outputs": []
    }
  ]
}