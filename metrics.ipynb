{
  "nbformat": 4,
  "nbformat_minor": 0,
  "metadata": {
    "colab": {
      "name": "metrics.ipynb",
      "provenance": [],
      "authorship_tag": "ABX9TyP58LOeGJ6EGrYkexvdpOio"
    },
    "kernelspec": {
      "name": "python3",
      "display_name": "Python 3"
    }
  },
  "cells": [
    {
      "cell_type": "code",
      "metadata": {
        "id": "HSlWJ1Ko3k9v",
        "colab_type": "code",
        "colab": {}
      },
      "source": [
        "import numpy as np\n",
        "\n",
        "# <pad>  - 0\n",
        "# <unk>  - 1 \n",
        "# <sos>  - 2 \n",
        "# <eos>  - 3\n",
        "# word A - 4\n",
        "# word B - 5\n",
        "\n",
        "# batch targets (batch size, batch length)\n",
        "bts = np.array([\n",
        "[2, 1, 4, 3, 0],  # target 1\n",
        "[2, 1, 4, 5, 3],  # target 2\n",
        "[2, 4, 3, 0, 0]   # target 3\n",
        "])\n",
        "# batch predictions (batch size, batch length)\n",
        "bps = np.array([\n",
        "[2, 1, 5, 1, 0],  # prediction 1\n",
        "[2, 1, 5, 4, 3],  # prediction 2\n",
        "[2, 4, 3, 0, 0]   # prediction 3\n",
        "])"
      ],
      "execution_count": 0,
      "outputs": []
    },
    {
      "cell_type": "code",
      "metadata": {
        "id": "aHRqF9Qx4Ao1",
        "colab_type": "code",
        "colab": {
          "base_uri": "https://localhost:8080/",
          "height": 230
        },
        "outputId": "b8c51bd7-82dd-4383-f783-c8f5c1c1efec"
      },
      "source": [
        "# set (unique) metrics (without order)\n",
        "for p, t in zip(bts, bps):\n",
        "  t_set = set(t)  # unique labels\n",
        "  t_set -= {0, 1, 2, 3}  # remove special labels\n",
        "  eos = p[p == 3][0] if 3 in p else len(p)  # find first <eos> in prediction\n",
        "  p_eos = p[:eos]  # cut prediction to first <eos>\n",
        "  p_set = set(p_eos)  # unique labels\n",
        "  p_set -= {0, 1, 2, 3}  # remove special labels\n",
        "  i_set = t_set.intersection(p_set)  # shared labels\n",
        "  pre = len(i_set)/len(p_set) if len(p_set) != 0 else 0.  # precision\n",
        "  rec = len(i_set)/len(t_set) if len(t_set) != 0 else 0.  # recalll\n",
        "  f1 = 2*pre*rec/(pre + rec) if pre + rec != 0 else 0.  # f1\n",
        "  print(f'target: {t}, prediction: {p}, cut prediction: {p_eos}')\n",
        "  print(f'target set: {t_set}, prediction set: {p_set}')\n",
        "  print(f'precision: {pre}, recall: {rec}, f1: {f1}\\n')\n"
      ],
      "execution_count": 13,
      "outputs": [
        {
          "output_type": "stream",
          "text": [
            "target: [2 1 5 1 0], prediction: [2 1 4 3 0], cut prediction: [2 1 4]\n",
            "target set: {5}, prediction set: {4}\n",
            "precision: 0.0, recall: 0.0, f1: 0.0\n",
            "\n",
            "target: [2 1 5 4 3], prediction: [2 1 4 5 3], cut prediction: [2 1 4]\n",
            "target set: {4, 5}, prediction set: {4}\n",
            "precision: 1.0, recall: 0.5, f1: 0.6666666666666666\n",
            "\n",
            "target: [2 4 3 0 0], prediction: [2 4 3 0 0], cut prediction: [2 4 3]\n",
            "target set: {4}, prediction set: {4}\n",
            "precision: 1.0, recall: 1.0, f1: 1.0\n",
            "\n"
          ],
          "name": "stdout"
        }
      ]
    },
    {
      "cell_type": "code",
      "metadata": {
        "id": "bBvS948h8SMH",
        "colab_type": "code",
        "colab": {}
      },
      "source": [
        ""
      ],
      "execution_count": 0,
      "outputs": []
    }
  ]
}