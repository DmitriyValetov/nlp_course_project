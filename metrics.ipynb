{
  "nbformat": 4,
  "nbformat_minor": 0,
  "metadata": {
    "colab": {
      "name": "metrics.ipynb",
      "provenance": [],
      "authorship_tag": "ABX9TyPvxEzHio9m7TJGVEwS1GR5",
      "include_colab_link": true
    },
    "kernelspec": {
      "name": "python3",
      "display_name": "Python 3"
    }
  },
  "cells": [
    {
      "cell_type": "markdown",
      "metadata": {
        "id": "view-in-github",
        "colab_type": "text"
      },
      "source": [
        "<a href=\"https://colab.research.google.com/github/DmitriyValetov/nlp_course_project/blob/master/metrics.ipynb\" target=\"_parent\"><img src=\"https://colab.research.google.com/assets/colab-badge.svg\" alt=\"Open In Colab\"/></a>"
      ]
    },
    {
      "cell_type": "code",
      "metadata": {
        "id": "HSlWJ1Ko3k9v",
        "colab_type": "code",
        "colab": {}
      },
      "source": [
        "import numpy as np\n",
        "\n",
        "# <pad>  - 0\n",
        "# <unk>  - 1 \n",
        "# <sos>  - 2 \n",
        "# <eos>  - 3\n",
        "# word A - 4\n",
        "# word B - 5\n",
        "eos = 3\n",
        "# batch targets (batch size, batch length)\n",
        "bts = np.array([\n",
        "[2, 1, 4, 1, 0],  # target 1\n",
        "[2, 1, 4, 5, 3],  # target 2\n",
        "[2, 4, 3, 0, 0]   # target 3\n",
        "])\n",
        "# batch predictions (batch size, batch length)\n",
        "bps = np.array([\n",
        "[2, 1, 5, 1, 0],  # prediction 1\n",
        "[2, 1, 5, 4, 3],  # prediction 2\n",
        "[2, 4, 3, 0, 0]   # prediction 3\n",
        "])"
      ],
      "execution_count": 0,
      "outputs": []
    },
    {
      "cell_type": "code",
      "metadata": {
        "id": "_guPYBcn7QYl",
        "colab_type": "code",
        "colab": {
          "base_uri": "https://localhost:8080/",
          "height": 143
        },
        "outputId": "d0a1de92-e1a3-40e6-caed-82185ef3d48b"
      },
      "source": [
        "!pip install rouge_score\n",
        "from rouge_score import rouge_scorer\n",
        "\n",
        "scorer = rouge_scorer.RougeScorer(['rouge1', 'rouge2', 'rougeL'], \n",
        "                                  use_stemmer=False)\n",
        "target = 'The quick brown dog jumps on the log.'\n",
        "prediction = 'The quick brown fox jumps over the lazy dog'\n",
        "scores = scorer.score(target, prediction)\n",
        "print(scores)"
      ],
      "execution_count": 48,
      "outputs": [
        {
          "output_type": "stream",
          "text": [
            "Requirement already satisfied: rouge_score in /usr/local/lib/python3.6/dist-packages (0.0.3)\n",
            "Requirement already satisfied: absl-py in /usr/local/lib/python3.6/dist-packages (from rouge_score) (0.9.0)\n",
            "Requirement already satisfied: six>=1.12.0 in /usr/local/lib/python3.6/dist-packages (from rouge_score) (1.12.0)\n",
            "Requirement already satisfied: numpy in /usr/local/lib/python3.6/dist-packages (from rouge_score) (1.18.4)\n",
            "Requirement already satisfied: nltk in /usr/local/lib/python3.6/dist-packages (from rouge_score) (3.2.5)\n",
            "{'rouge1': Score(precision=0.6666666666666666, recall=0.75, fmeasure=0.7058823529411765), 'rouge2': Score(precision=0.25, recall=0.2857142857142857, fmeasure=0.26666666666666666), 'rougeL': Score(precision=0.5555555555555556, recall=0.625, fmeasure=0.5882352941176471)}\n"
          ],
          "name": "stdout"
        }
      ]
    },
    {
      "cell_type": "code",
      "metadata": {
        "id": "_t5OfLDM7Xjo",
        "colab_type": "code",
        "colab": {
          "base_uri": "https://localhost:8080/",
          "height": 90
        },
        "outputId": "53bad7d5-d20c-4c81-9f4d-e1beb6288df0"
      },
      "source": [
        "!pip install rouge\n",
        "from rouge import Rouge \n",
        "\n",
        "hypothesis = 'The quick brown dog jumps on the log.'\n",
        "reference = 'The quick brown fox jumps over the lazy dog'\n",
        "rouge = Rouge()\n",
        "scores = rouge.get_scores(hypothesis, reference)\n",
        "print(scores)"
      ],
      "execution_count": 49,
      "outputs": [
        {
          "output_type": "stream",
          "text": [
            "Requirement already satisfied: rouge in /usr/local/lib/python3.6/dist-packages (1.0.0)\n",
            "Requirement already satisfied: six in /usr/local/lib/python3.6/dist-packages (from rouge) (1.12.0)\n",
            "[{'rouge-1': {'f': 0.7058823479584776, 'p': 0.75, 'r': 0.6666666666666666}, 'rouge-2': {'f': 0.266666661688889, 'p': 0.2857142857142857, 'r': 0.25}, 'rouge-l': {'f': 0.5882352891349482, 'p': 0.625, 'r': 0.5555555555555556}}]\n"
          ],
          "name": "stdout"
        }
      ]
    },
    {
      "cell_type": "code",
      "metadata": {
        "id": "aHRqF9Qx4Ao1",
        "colab_type": "code",
        "outputId": "8a5a7270-cce8-4dc2-861a-cd784a984088",
        "colab": {
          "base_uri": "https://localhost:8080/",
          "height": 1000
        }
      },
      "source": [
        "from pprint import pprint\n",
        "# set (unique) metrics (without order)\n",
        "scores = {}\n",
        "for sp, st in zip(bts, bps):\n",
        "  # target to set\n",
        "  st_eos_i = np.where(st==eos)[0][0] if eos in st else len(st)\n",
        "  st_eos = st[:st_eos_i]\n",
        "  t_set = set(st_eos) #- {0, 1, 2, 3}\n",
        "  # prediction to set\n",
        "  sp_eos_i = np.where(sp==eos)[0][0] if eos in sp else len(sp)\n",
        "  sp_eos = sp[:sp_eos_i]\n",
        "  p_set = set(sp_eos) #- {0, 1, 2, 3}\n",
        "  # metrics\n",
        "  i_set = t_set.intersection(p_set)\n",
        "  pre = len(i_set)/len(p_set) if len(p_set) != 0 else 0\n",
        "  rec = len(i_set)/len(t_set) if len(t_set) != 0 else 0\n",
        "  f1 = 2*pre*rec/(pre + rec) if pre + rec != 0 else 0\n",
        "  rl = len(sp_eos)/len(st_eos) if len(st_eos) != 0 else 0\n",
        "  print(f'st: {st}, sp: {sp}')\n",
        "  print(f'eos in st?: {eos in st}, sp_eos_i: {st_eos_i}')\n",
        "  print(f'eos in sp?: {eos in sp}, sp_eos_i: {sp_eos_i}')\n",
        "  print(f'st_eos: {st_eos}, sp_eos: {sp_eos}')\n",
        "  print(f't_set: {t_set}, p_set: {p_set}')\n",
        "  t_str = ' '.join(map(str, st_eos))\n",
        "  p_str = ' '.join(map(str, sp_eos))\n",
        "  print(f't_str: \"{t_str}\", p_str: \"{p_str}\"')\n",
        "  rs_1 = scorer.score(t_str, p_str)\n",
        "  rs_2 = rouge.get_scores(p_str, t_str)\n",
        "  pprint(rs_1)\n",
        "  pprint(rs_2)\n",
        "  print(f'precision: {pre}, recall: {rec}, f1: {f1}. rl: {rl}\\n')\n",
        "  scores.setdefault('set_precision', []).append(pre)\n",
        "  scores.setdefault('set_recall', []).append(rec)\n",
        "  scores.setdefault('set_f1', []).append(f1)\n",
        "  scores.setdefault('set_relen', []).append(rl)\n",
        "  for k, v in rs_1.items():\n",
        "    scores.setdefault(f'{k}_precision', []).append(v.precision)\n",
        "    scores.setdefault(f'{k}_recall', []).append(v.recall)\n",
        "    scores.setdefault(f'{k}_f1', []).append(v.fmeasure)\n",
        "  # pprint(scores)"
      ],
      "execution_count": 58,
      "outputs": [
        {
          "output_type": "stream",
          "text": [
            "st: [2 1 5 1 0], sp: [2 1 4 1 0]\n",
            "eos in st?: False, sp_eos_i: 5\n",
            "eos in sp?: False, sp_eos_i: 5\n",
            "st_eos: [2 1 5 1 0], sp_eos: [2 1 4 1 0]\n",
            "t_set: {0, 1, 2, 5}, p_set: {0, 1, 2, 4}\n",
            "t_str: \"2 1 5 1 0\", p_str: \"2 1 4 1 0\"\n",
            "{'rouge1': Score(precision=0.8, recall=0.8, fmeasure=0.8000000000000002),\n",
            " 'rouge2': Score(precision=0.5, recall=0.5, fmeasure=0.5),\n",
            " 'rougeL': Score(precision=0.8, recall=0.8, fmeasure=0.8000000000000002)}\n",
            "[{'rouge-1': {'f': 0.7999999950000002, 'p': 0.8, 'r': 0.8},\n",
            "  'rouge-2': {'f': 0.4999999950000001, 'p': 0.5, 'r': 0.5},\n",
            "  'rouge-l': {'f': 0.749999995, 'p': 0.75, 'r': 0.75}}]\n",
            "precision: 0.75, recall: 0.75, f1: 0.75. rl: 1.0\n",
            "\n",
            "{'rouge1_f1': [0.8000000000000002],\n",
            " 'rouge1_precision': [0.8],\n",
            " 'rouge1_recall': [0.8],\n",
            " 'rouge2_f1': [0.5],\n",
            " 'rouge2_precision': [0.5],\n",
            " 'rouge2_recall': [0.5],\n",
            " 'rougeL_f1': [0.8000000000000002],\n",
            " 'rougeL_precision': [0.8],\n",
            " 'rougeL_recall': [0.8],\n",
            " 'set_f1': [0.75],\n",
            " 'set_precision': [0.75],\n",
            " 'set_recall': [0.75],\n",
            " 'set_relen': [1.0]}\n",
            "st: [2 1 5 4 3], sp: [2 1 4 5 3]\n",
            "eos in st?: True, sp_eos_i: 4\n",
            "eos in sp?: True, sp_eos_i: 4\n",
            "st_eos: [2 1 5 4], sp_eos: [2 1 4 5]\n",
            "t_set: {1, 2, 4, 5}, p_set: {1, 2, 4, 5}\n",
            "t_str: \"2 1 5 4\", p_str: \"2 1 4 5\"\n",
            "{'rouge1': Score(precision=1.0, recall=1.0, fmeasure=1.0),\n",
            " 'rouge2': Score(precision=0.3333333333333333, recall=0.3333333333333333, fmeasure=0.3333333333333333),\n",
            " 'rougeL': Score(precision=0.75, recall=0.75, fmeasure=0.75)}\n",
            "[{'rouge-1': {'f': 0.999999995, 'p': 1.0, 'r': 1.0},\n",
            "  'rouge-2': {'f': 0.3333333283333334,\n",
            "              'p': 0.3333333333333333,\n",
            "              'r': 0.3333333333333333},\n",
            "  'rouge-l': {'f': 0.749999995, 'p': 0.75, 'r': 0.75}}]\n",
            "precision: 1.0, recall: 1.0, f1: 1.0. rl: 1.0\n",
            "\n",
            "{'rouge1_f1': [0.8000000000000002, 1.0],\n",
            " 'rouge1_precision': [0.8, 1.0],\n",
            " 'rouge1_recall': [0.8, 1.0],\n",
            " 'rouge2_f1': [0.5, 0.3333333333333333],\n",
            " 'rouge2_precision': [0.5, 0.3333333333333333],\n",
            " 'rouge2_recall': [0.5, 0.3333333333333333],\n",
            " 'rougeL_f1': [0.8000000000000002, 0.75],\n",
            " 'rougeL_precision': [0.8, 0.75],\n",
            " 'rougeL_recall': [0.8, 0.75],\n",
            " 'set_f1': [0.75, 1.0],\n",
            " 'set_precision': [0.75, 1.0],\n",
            " 'set_recall': [0.75, 1.0],\n",
            " 'set_relen': [1.0, 1.0]}\n",
            "st: [2 4 3 0 0], sp: [2 4 3 0 0]\n",
            "eos in st?: True, sp_eos_i: 2\n",
            "eos in sp?: True, sp_eos_i: 2\n",
            "st_eos: [2 4], sp_eos: [2 4]\n",
            "t_set: {2, 4}, p_set: {2, 4}\n",
            "t_str: \"2 4\", p_str: \"2 4\"\n",
            "{'rouge1': Score(precision=1.0, recall=1.0, fmeasure=1.0),\n",
            " 'rouge2': Score(precision=1.0, recall=1.0, fmeasure=1.0),\n",
            " 'rougeL': Score(precision=1.0, recall=1.0, fmeasure=1.0)}\n",
            "[{'rouge-1': {'f': 0.999999995, 'p': 1.0, 'r': 1.0},\n",
            "  'rouge-2': {'f': 0.999999995, 'p': 1.0, 'r': 1.0},\n",
            "  'rouge-l': {'f': 0.999999995, 'p': 1.0, 'r': 1.0}}]\n",
            "precision: 1.0, recall: 1.0, f1: 1.0. rl: 1.0\n",
            "\n",
            "{'rouge1_f1': [0.8000000000000002, 1.0, 1.0],\n",
            " 'rouge1_precision': [0.8, 1.0, 1.0],\n",
            " 'rouge1_recall': [0.8, 1.0, 1.0],\n",
            " 'rouge2_f1': [0.5, 0.3333333333333333, 1.0],\n",
            " 'rouge2_precision': [0.5, 0.3333333333333333, 1.0],\n",
            " 'rouge2_recall': [0.5, 0.3333333333333333, 1.0],\n",
            " 'rougeL_f1': [0.8000000000000002, 0.75, 1.0],\n",
            " 'rougeL_precision': [0.8, 0.75, 1.0],\n",
            " 'rougeL_recall': [0.8, 0.75, 1.0],\n",
            " 'set_f1': [0.75, 1.0, 1.0],\n",
            " 'set_precision': [0.75, 1.0, 1.0],\n",
            " 'set_recall': [0.75, 1.0, 1.0],\n",
            " 'set_relen': [1.0, 1.0, 1.0]}\n"
          ],
          "name": "stdout"
        }
      ]
    },
    {
      "cell_type": "code",
      "metadata": {
        "id": "bBvS948h8SMH",
        "colab_type": "code",
        "outputId": "3b0c2028-7649-476d-8888-53c7d05b385a",
        "colab": {
          "base_uri": "https://localhost:8080/",
          "height": 354
        }
      },
      "source": [
        "# accuracy (ordered)\n",
        "pad_mask = bts != 0  # mask <pad> at target\n",
        "m_bts = bts[pad_mask]  # mask targets\n",
        "m_bps = bps[pad_mask]  # mask predictions like targets\n",
        "comp = m_bts == m_bps  # compare\n",
        "acc = np.sum(comp) / len(m_bts)\n",
        "print(f'targets:\\n{bts}')\n",
        "print(f'predictions:\\n{bps}')\n",
        "print(f'pad_mask:\\n{pad_mask}')\n",
        "print(f'masked targets:\\n{m_bts}')\n",
        "print(f'masked predictions:\\n{m_bps}')\n",
        "print(f'comparison\\n{comp}')\n",
        "print(f'accuracy: {acc}')"
      ],
      "execution_count": 0,
      "outputs": [
        {
          "output_type": "stream",
          "text": [
            "targets:\n",
            "[[2 1 4 3 0]\n",
            " [2 1 4 5 3]\n",
            " [2 4 3 0 0]]\n",
            "predictions:\n",
            "[[2 1 5 1 0]\n",
            " [2 1 5 4 3]\n",
            " [2 4 3 0 0]]\n",
            "pad_mask:\n",
            "[[ True  True  True  True False]\n",
            " [ True  True  True  True  True]\n",
            " [ True  True  True False False]]\n",
            "masked targets:\n",
            "[2 1 4 3 2 1 4 5 3 2 4 3]\n",
            "masked predictions:\n",
            "[2 1 5 1 2 1 5 4 3 2 4 3]\n",
            "comparison\n",
            "[ True  True False False  True  True False False  True  True  True  True]\n",
            "accuracy: 0.6666666666666666\n"
          ],
          "name": "stdout"
        }
      ]
    }
  ]
}